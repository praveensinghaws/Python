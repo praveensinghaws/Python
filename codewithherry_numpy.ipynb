{
 "cells": [
  {
   "cell_type": "markdown",
   "id": "563cb16a-ae3a-4c9f-b2ff-378cefb07c64",
   "metadata": {},
   "source": [
    "# Numpy"
   ]
  },
  {
   "cell_type": "code",
   "execution_count": 1,
   "id": "7bced5d2-7b48-4d2a-b79b-581b97c26aea",
   "metadata": {},
   "outputs": [
    {
     "name": "stdout",
     "output_type": "stream",
     "text": [
      "[ 3  6 32  7]\n",
      "[ 3  6 32  7]\n",
      "[[ 3  6 32  7]]\n",
      "Element at (0, 1): 6\n",
      "Shape of the array: (1, 4)\n",
      "Data type of the array: int64\n",
      "Modified array: [[ 3 45 32  7]]\n"
     ]
    }
   ],
   "source": [
    "import numpy as np\n",
    "\n",
    "# Creating a NumPy array without specifying data type\n",
    "myarr = np.array([3, 6, 32, 7])\n",
    "print(myarr)\n",
    "\n",
    "# Creating a NumPy array with data type int8\n",
    "myarr = np.array([3, 6, 32, 7], np.int8)\n",
    "print(myarr)\n",
    "\n",
    "# Creating a NumPy array with data type int64 and shape (1, 4)\n",
    "myarr = np.array([[3, 6, 32, 7]], np.int64)\n",
    "print(myarr)\n",
    "\n",
    "# Accessing an element at position (0, 1)\n",
    "print(\"Element at (0, 1):\", myarr[0, 1])\n",
    "\n",
    "# Getting the shape of the array\n",
    "print(\"Shape of the array:\", myarr.shape)\n",
    "\n",
    "# Getting the data type of the array\n",
    "print(\"Data type of the array:\", myarr.dtype)\n",
    "\n",
    "# Modifying an element at position (0, 1) to 45\n",
    "myarr[0, 1] = 45\n",
    "print(\"Modified array:\", myarr)\n"
   ]
  },
  {
   "cell_type": "markdown",
   "id": "e25ad09b-3dd6-4b57-b35f-301339b595dd",
   "metadata": {},
   "source": [
    "## Array creation : \n",
    "\n",
    "There are 5 general mechanisms for creating arrays:\n",
    "\n",
    "1. Conversion from other Python structures (e.g., lists, tuples)\n",
    "\n",
    "2. Intrinsic numpy array creation objects (e.g., arange, ones, zeros, etc.)\n",
    "\n",
    "3. Reading arrays from disk, either from standard or custom formats\n",
    "\n",
    "4. Creating arrays from raw bytes through the use of strings or buffers\n",
    "\n",
    "5. Use of special library functions (e.g., random)"
   ]
  },
  {
   "cell_type": "markdown",
   "id": "e3edaa55-bf3a-4a85-bbd0-ff5091bb2b6a",
   "metadata": {},
   "source": [
    "## Examples: Conversion from other Python structures (e.g., lists, tuples)"
   ]
  },
  {
   "cell_type": "code",
   "execution_count": 2,
   "id": "b50ada1e-f7a8-4be1-b762-439c54f8e26b",
   "metadata": {},
   "outputs": [
    {
     "name": "stdout",
     "output_type": "stream",
     "text": [
      "[[1 2 3]\n",
      " [5 8 5]\n",
      " [0 3 1]]\n",
      "Data type of the array: int64\n",
      "Shape of the array: (3, 3)\n",
      "Size of the array: 9\n"
     ]
    }
   ],
   "source": [
    "import numpy as np\n",
    "\n",
    "# Creating a NumPy array from a list of lists\n",
    "listarray = np.array([[1, 2, 3], [5, 8, 5], [0, 3, 1]])\n",
    "print(listarray)\n",
    "\n",
    "# Getting the data type of the array\n",
    "print(\"Data type of the array:\", listarray.dtype)\n",
    "\n",
    "# Getting the shape of the array\n",
    "print(\"Shape of the array:\", listarray.shape)\n",
    "\n",
    "# Getting the total number of elements in the array\n",
    "print(\"Size of the array:\", listarray.size)\n"
   ]
  },
  {
   "cell_type": "markdown",
   "id": "cbdb3922-f458-4347-b710-3b3a65d45c49",
   "metadata": {},
   "source": [
    "## Examples: Intrinsic numpy array creation objects (e.g., arange, ones, zeros, etc.)"
   ]
  },
  {
   "cell_type": "markdown",
   "id": "dcedcb20-7d9c-4598-a73f-e4253829859c",
   "metadata": {},
   "source": [
    "### Zeros()"
   ]
  },
  {
   "cell_type": "code",
   "execution_count": 3,
   "id": "b29088e7-b7e9-4630-bddd-f93b2ad7d5bd",
   "metadata": {},
   "outputs": [
    {
     "name": "stdout",
     "output_type": "stream",
     "text": [
      "[[0. 0. 0. 0. 0.]\n",
      " [0. 0. 0. 0. 0.]]\n",
      "Data type of the array: float64\n",
      "Shape of the array: (2, 5)\n",
      "[[0. 0. 0. 0. 0.]\n",
      " [0. 0. 0. 0. 0.]]\n"
     ]
    }
   ],
   "source": [
    "import numpy as np\n",
    "\n",
    "# Creating a NumPy array of zeros with shape (2, 5)\n",
    "zeros = np.zeros((2, 5))\n",
    "print(zeros)\n",
    "\n",
    "# Getting the data type of the array\n",
    "print(\"Data type of the array:\", zeros.dtype)\n",
    "\n",
    "# Getting the shape of the array\n",
    "print(\"Shape of the array:\", zeros.shape)\n",
    "\n",
    "# Displaying the array\n",
    "print(zeros)\n"
   ]
  },
  {
   "cell_type": "markdown",
   "id": "aaded43d-e02f-43d1-96e0-07d88a1d7c79",
   "metadata": {},
   "source": [
    "## Arange()"
   ]
  },
  {
   "cell_type": "code",
   "execution_count": 4,
   "id": "4f2f4ce7-48ee-4949-aade-49c707be2828",
   "metadata": {},
   "outputs": [
    {
     "name": "stdout",
     "output_type": "stream",
     "text": [
      "[ 0  1  2  3  4  5  6  7  8  9 10 11 12 13 14]\n",
      "Data type of the array: int64\n",
      "Shape of the array: (15,)\n",
      "[ 0  1  2  3  4  5  6  7  8  9 10 11 12 13 14]\n"
     ]
    }
   ],
   "source": [
    "import numpy as np\n",
    "\n",
    "# Creating a NumPy array using arange() with a range of 15\n",
    "rng = np.arange(15)\n",
    "print(rng)\n",
    "\n",
    "# Getting the data type of the array\n",
    "print(\"Data type of the array:\", rng.dtype)\n",
    "\n",
    "# Getting the shape of the array\n",
    "print(\"Shape of the array:\", rng.shape)\n",
    "\n",
    "# Displaying the array\n",
    "print(rng)\n"
   ]
  },
  {
   "cell_type": "markdown",
   "id": "bc270917-619b-4401-88b0-d4a79fea285b",
   "metadata": {},
   "source": [
    "## Linspace()"
   ]
  },
  {
   "cell_type": "code",
   "execution_count": 5,
   "id": "03775381-e5b1-491a-8c98-5880cf7d5799",
   "metadata": {},
   "outputs": [
    {
     "name": "stdout",
     "output_type": "stream",
     "text": [
      "[1. 2. 3. 4.]\n",
      "Data type of the array: float64\n",
      "Size of the array: 4\n",
      "Shape of the array: (4,)\n"
     ]
    }
   ],
   "source": [
    "import numpy as np\n",
    "\n",
    "# Creating a NumPy array using linspace() with 4 elements between 1 and 4\n",
    "lspace = np.linspace(1, 4, 4)\n",
    "print(lspace)\n",
    "\n",
    "# Getting the data type of the array\n",
    "print(\"Data type of the array:\", lspace.dtype)\n",
    "\n",
    "# Getting the total number of elements in the array\n",
    "print(\"Size of the array:\", lspace.size)\n",
    "\n",
    "# Getting the shape of the array\n",
    "print(\"Shape of the array:\", lspace.shape)\n"
   ]
  },
  {
   "cell_type": "markdown",
   "id": "2170a7f6-dcf6-43a7-9e54-3bb1e665178a",
   "metadata": {},
   "source": [
    "## Empty()"
   ]
  },
  {
   "cell_type": "code",
   "execution_count": 6,
   "id": "7da18ec6-eabb-4458-ae91-ce79455f11cc",
   "metadata": {},
   "outputs": [
    {
     "name": "stdout",
     "output_type": "stream",
     "text": [
      "[[6.30711763e-316 0.00000000e+000 1.39066290e-309 1.39066264e-309\n",
      "  1.39066290e-309 1.39066264e-309]\n",
      " [1.39066290e-309 1.39066264e-309 5.34811833e-317 1.39066290e-309\n",
      "  5.34806299e-317 1.39066264e-309]\n",
      " [1.39066290e-309 1.39066264e-309 1.39066290e-309 1.39066264e-309\n",
      "  1.39066290e-309 1.39066264e-309]\n",
      " [5.34811833e-317 1.39066290e-309 5.34806299e-317 1.39066264e-309\n",
      "  1.39066290e-309 1.39066264e-309]]\n",
      "Shape of the array: (4, 6)\n",
      "Data type of the array: float64\n",
      "Size of the array: 24\n"
     ]
    }
   ],
   "source": [
    "import numpy as np\n",
    "\n",
    "# Creating a NumPy array with uninitialized values using empty() with shape (4, 6)\n",
    "emp = np.empty((4, 6))\n",
    "print(emp)\n",
    "\n",
    "# Getting the shape of the array\n",
    "print(\"Shape of the array:\", emp.shape)\n",
    "\n",
    "# Getting the data type of the array\n",
    "print(\"Data type of the array:\", emp.dtype)\n",
    "\n",
    "# Getting the total number of elements in the array\n",
    "print(\"Size of the array:\", emp.size)\n"
   ]
  },
  {
   "cell_type": "code",
   "execution_count": 7,
   "id": "dc6e1b56-08d3-407d-9b1f-f24daf9cab49",
   "metadata": {},
   "outputs": [
    {
     "name": "stdout",
     "output_type": "stream",
     "text": [
      "[1. 2. 3. 4.]\n",
      "Size of the array: 4\n",
      "Shape of the array: (4,)\n",
      "Data type of the array: float64\n"
     ]
    }
   ],
   "source": [
    "import numpy as np\n",
    "\n",
    "# Creating a NumPy array with uninitialized values using empty_like() based on lspace\n",
    "emp_like = np.empty_like(lspace)\n",
    "print(emp_like)\n",
    "\n",
    "# Getting the total number of elements in the array\n",
    "print(\"Size of the array:\", emp_like.size)\n",
    "\n",
    "# Getting the shape of the array\n",
    "print(\"Shape of the array:\", emp_like.shape)\n",
    "\n",
    "# Getting the data type of the array\n",
    "print(\"Data type of the array:\", emp_like.dtype)\n"
   ]
  },
  {
   "cell_type": "code",
   "execution_count": 8,
   "id": "2e0fb76b-8766-4127-945d-752991a2183f",
   "metadata": {},
   "outputs": [
    {
     "name": "stdout",
     "output_type": "stream",
     "text": [
      "[[1. 0. 0. ... 0. 0. 0.]\n",
      " [0. 1. 0. ... 0. 0. 0.]\n",
      " [0. 0. 1. ... 0. 0. 0.]\n",
      " ...\n",
      " [0. 0. 0. ... 1. 0. 0.]\n",
      " [0. 0. 0. ... 0. 1. 0.]\n",
      " [0. 0. 0. ... 0. 0. 1.]]\n",
      "Shape of the array: (45, 45)\n",
      "Size of the array: 2025\n",
      "Data type of the array: float64\n"
     ]
    }
   ],
   "source": [
    "import numpy as np\n",
    "\n",
    "# Creating a 45x45 identity matrix using identity()\n",
    "ide = np.identity(45)\n",
    "print(ide)\n",
    "\n",
    "# Getting the shape of the array\n",
    "print(\"Shape of the array:\", ide.shape)\n",
    "\n",
    "# Getting the total number of elements in the array\n",
    "print(\"Size of the array:\", ide.size)\n",
    "\n",
    "# Getting the data type of the array\n",
    "print(\"Data type of the array:\", ide.dtype)\n"
   ]
  },
  {
   "cell_type": "code",
   "execution_count": 9,
   "id": "e08ba286-3069-43a2-b874-40e8deab7f8f",
   "metadata": {},
   "outputs": [
    {
     "name": "stdout",
     "output_type": "stream",
     "text": [
      "Creating a NumPy array using arange() with a range of 99 :\n",
      " [ 0  1  2  3  4  5  6  7  8  9 10 11 12 13 14 15 16 17 18 19 20 21 22 23\n",
      " 24 25 26 27 28 29 30 31 32 33 34 35 36 37 38 39 40 41 42 43 44 45 46 47\n",
      " 48 49 50 51 52 53 54 55 56 57 58 59 60 61 62 63 64 65 66 67 68 69 70 71\n",
      " 72 73 74 75 76 77 78 79 80 81 82 83 84 85 86 87 88 89 90 91 92 93 94 95\n",
      " 96 97 98]\n",
      "Reshaping the array to a 3x33 matrix :\n",
      " [[ 0  1  2  3  4  5  6  7  8  9 10 11 12 13 14 15 16 17 18 19 20 21 22 23\n",
      "  24 25 26 27 28 29 30 31 32]\n",
      " [33 34 35 36 37 38 39 40 41 42 43 44 45 46 47 48 49 50 51 52 53 54 55 56\n",
      "  57 58 59 60 61 62 63 64 65]\n",
      " [66 67 68 69 70 71 72 73 74 75 76 77 78 79 80 81 82 83 84 85 86 87 88 89\n",
      "  90 91 92 93 94 95 96 97 98]]\n",
      "Flattening the reshaped array using ravel() :\n",
      " [ 0  1  2  3  4  5  6  7  8  9 10 11 12 13 14 15 16 17 18 19 20 21 22 23\n",
      " 24 25 26 27 28 29 30 31 32 33 34 35 36 37 38 39 40 41 42 43 44 45 46 47\n",
      " 48 49 50 51 52 53 54 55 56 57 58 59 60 61 62 63 64 65 66 67 68 69 70 71\n",
      " 72 73 74 75 76 77 78 79 80 81 82 83 84 85 86 87 88 89 90 91 92 93 94 95\n",
      " 96 97 98]\n",
      "Shape of the original array: (99,)\n",
      "Shape of the reshaped array: (3, 33)\n",
      "Shape of the flattened array: (99,)\n"
     ]
    }
   ],
   "source": [
    "import numpy as np\n",
    "\n",
    "# Creating a NumPy array using arange() with a range of 99\n",
    "arr = np.arange(99)\n",
    "print(\"Creating a NumPy array using arange() with a range of 99 :\\n\", arr)\n",
    "\n",
    "# Reshaping the array to a 3x33 matrix\n",
    "arr_reshaped = arr.reshape(3, 33)\n",
    "print(\"Reshaping the array to a 3x33 matrix :\\n\", arr_reshaped)\n",
    "\n",
    "# Flattening the reshaped array using ravel()\n",
    "arr_ravel = arr_reshaped.ravel()\n",
    "print(\"Flattening the reshaped array using ravel() :\\n\", arr_ravel)\n",
    "\n",
    "# Getting the shape of each array\n",
    "print(\"Shape of the original array:\", arr.shape)\n",
    "print(\"Shape of the reshaped array:\", arr_reshaped.shape)\n",
    "print(\"Shape of the flattened array:\", arr_ravel.shape)\n"
   ]
  },
  {
   "cell_type": "code",
   "execution_count": 10,
   "id": "bd2f95df-c77f-417d-ad61-40769eaf141e",
   "metadata": {},
   "outputs": [
    {
     "name": "stdout",
     "output_type": "stream",
     "text": [
      "Original List:\n",
      " [[1, 2, 3], [4, 5, 6], [7, 1, 0]]\n",
      "NumPy Array:\n",
      " [[1 2 3]\n",
      " [4 5 6]\n",
      " [7 1 0]]\n",
      "Sum along axis 0 (columns):\n",
      " [12  8  9]\n",
      "Sum along axis 1 (rows):\n",
      " [ 6 15  8]\n"
     ]
    }
   ],
   "source": [
    "import numpy as np\n",
    "\n",
    "x = [[1, 2, 3], [4, 5, 6], [7, 1, 0]]\n",
    "ar = np.array(x)\n",
    "\n",
    "# Printing the original list and NumPy array\n",
    "print(\"Original List:\\n\", x)\n",
    "print(\"NumPy Array:\\n\", ar)\n",
    "\n",
    "# Calculating the sum along axis 0 (columns)\n",
    "print(\"Sum along axis 0 (columns):\\n\", ar.sum(axis=0))\n",
    "\n",
    "# Calculating the sum along axis 1 (rows)\n",
    "print(\"Sum along axis 1 (rows):\\n\", ar.sum(axis=1))\n"
   ]
  },
  {
   "cell_type": "code",
   "execution_count": 11,
   "id": "b3820180-d92e-4c7b-9adc-f1d4c4577252",
   "metadata": {},
   "outputs": [
    {
     "name": "stdout",
     "output_type": "stream",
     "text": [
      "Transposed Array:\n",
      " [[1 4 7]\n",
      " [2 5 1]\n",
      " [3 6 0]]\n",
      "Flattened Array (using flat attribute):\n",
      " <numpy.flatiter object at 0x7fa1d20>\n",
      "Iterating through the flattened array:\n",
      "1\n",
      "2\n",
      "3\n",
      "4\n",
      "5\n",
      "6\n",
      "7\n",
      "1\n",
      "0\n",
      "Number of Dimensions: 2\n",
      "Size of the array: 9\n",
      "Number of Bytes used by the array: 72\n"
     ]
    }
   ],
   "source": [
    "import numpy as np\n",
    "\n",
    "x = [[1, 2, 3], [4, 5, 6], [7, 1, 0]]\n",
    "ar = np.array(x)\n",
    "\n",
    "# Transposing the array\n",
    "print(\"Transposed Array:\\n\", ar.T)\n",
    "\n",
    "# Accessing the flattened version of the array\n",
    "print(\"Flattened Array (using flat attribute):\\n\", ar.flat)\n",
    "\n",
    "# Iterating through the flattened array\n",
    "print(\"Iterating through the flattened array:\")\n",
    "for item in ar.flat:\n",
    "    print(item)\n",
    "\n",
    "# Getting the number of dimensions\n",
    "print(\"Number of Dimensions:\", ar.ndim)\n",
    "\n",
    "# Getting the total number of elements in the array\n",
    "print(\"Size of the array:\", ar.size)\n",
    "\n",
    "# Getting the number of bytes used by the array\n",
    "print(\"Number of Bytes used by the array:\", ar.nbytes)\n"
   ]
  },
  {
   "cell_type": "code",
   "execution_count": 12,
   "id": "3534b140-6f5d-4120-af96-513fcaa02e3c",
   "metadata": {},
   "outputs": [
    {
     "name": "stdout",
     "output_type": "stream",
     "text": [
      "Index of the Maximum Value: 3\n",
      "Index of the Minimum Value: 0\n",
      "Indices that would sort the array: [0 4 1 2 3]\n"
     ]
    }
   ],
   "source": [
    "import numpy as np\n",
    "\n",
    "one = np.array([1, 3, 4, 634, 2])\n",
    "\n",
    "# Finding the index of the maximum value\n",
    "print(\"Index of the Maximum Value:\", one.argmax())\n",
    "\n",
    "# Finding the index of the minimum value\n",
    "print(\"Index of the Minimum Value:\", one.argmin())\n",
    "\n",
    "# Finding the indices that would sort the array\n",
    "print(\"Indices that would sort the array:\", one.argsort())\n"
   ]
  },
  {
   "cell_type": "code",
   "execution_count": 13,
   "id": "56299f52-3ca5-4d70-b098-2501ea99639c",
   "metadata": {},
   "outputs": [
    {
     "name": "stdout",
     "output_type": "stream",
     "text": [
      "Original Array:\n",
      " [[1 2 3]\n",
      " [4 5 6]\n",
      " [7 1 0]]\n",
      "Index of the Minimum Value: 8\n",
      "Index of the Maximum Value: 6\n",
      "Index of the Maximum Value along axis 0 (columns):\n",
      " [2 1 1]\n",
      "Index of the Maximum Value along axis 1 (rows):\n",
      " [2 2 0]\n",
      "Indices that would sort the entire array:\n",
      " [[0 1 2]\n",
      " [0 1 2]\n",
      " [2 1 0]]\n",
      "Indices that would sort along axis 0 (columns):\n",
      " [[0 2 2]\n",
      " [1 0 0]\n",
      " [2 1 1]]\n",
      "Indices that would sort along axis 1 (rows):\n",
      " [[0 1 2]\n",
      " [0 1 2]\n",
      " [2 1 0]]\n"
     ]
    }
   ],
   "source": [
    "import numpy as np\n",
    "\n",
    "x = [[1, 2, 3], [4, 5, 6], [7, 1, 0]]\n",
    "ar = np.array(x)\n",
    "\n",
    "# Printing the original array\n",
    "print(\"Original Array:\\n\", ar)\n",
    "\n",
    "# Finding the index of the minimum value in the entire array\n",
    "print(\"Index of the Minimum Value:\", ar.argmin())\n",
    "\n",
    "# Finding the index of the maximum value in the entire array\n",
    "print(\"Index of the Maximum Value:\", ar.argmax())\n",
    "\n",
    "# Finding the index of the maximum value along axis 0 (columns)\n",
    "print(\"Index of the Maximum Value along axis 0 (columns):\\n\", ar.argmax(axis=0))\n",
    "\n",
    "# Finding the index of the maximum value along axis 1 (rows)\n",
    "print(\"Index of the Maximum Value along axis 1 (rows):\\n\", ar.argmax(axis=1))\n",
    "\n",
    "# Finding the indices that would sort the entire array\n",
    "print(\"Indices that would sort the entire array:\\n\", ar.argsort())\n",
    "\n",
    "# Finding the indices that would sort along axis 0 (columns)\n",
    "print(\"Indices that would sort along axis 0 (columns):\\n\", ar.argsort(axis=0))\n",
    "\n",
    "# Finding the indices that would sort along axis 1 (rows)\n",
    "print(\"Indices that would sort along axis 1 (rows):\\n\", ar.argsort(axis=1))\n"
   ]
  },
  {
   "cell_type": "code",
   "execution_count": 14,
   "id": "6adfadd9-2130-4c9e-b59f-8f36db656e6c",
   "metadata": {},
   "outputs": [
    {
     "name": "stdout",
     "output_type": "stream",
     "text": [
      "Original Array:\n",
      " [[1 2 3]\n",
      " [4 5 6]\n",
      " [7 1 0]]\n",
      "Flattened Array using ravel():\n",
      " [1 2 3 4 5 6 7 1 0]\n",
      "Reshaped Array to Column Vector (shape 9x1):\n",
      " [[1]\n",
      " [2]\n",
      " [3]\n",
      " [4]\n",
      " [5]\n",
      " [6]\n",
      " [7]\n",
      " [1]\n",
      " [0]]\n"
     ]
    }
   ],
   "source": [
    "import numpy as np\n",
    "\n",
    "x = [[1, 2, 3], [4, 5, 6], [7, 1, 0]]\n",
    "ar = np.array(x)\n",
    "\n",
    "# Printing the original array\n",
    "print(\"Original Array:\\n\", ar)\n",
    "\n",
    "# Flattening the array using ravel()\n",
    "print(\"Flattened Array using ravel():\\n\", ar.ravel())\n",
    "\n",
    "# Reshaping the array to a column vector with shape (9, 1)\n",
    "print(\"Reshaped Array to Column Vector (shape 9x1):\\n\", ar.reshape((9, 1)))\n"
   ]
  },
  {
   "cell_type": "code",
   "execution_count": 15,
   "id": "d4b8015d-a9aa-4816-8828-04940f533e12",
   "metadata": {},
   "outputs": [
    {
     "name": "stdout",
     "output_type": "stream",
     "text": [
      "Array 1:\n",
      " [[1 2 3]\n",
      " [4 5 6]\n",
      " [7 1 0]]\n",
      "Array 2:\n",
      " [[1 2 1]\n",
      " [4 0 6]\n",
      " [8 1 0]]\n",
      "Element-wise Addition:\n",
      " [[ 2  4  4]\n",
      " [ 8  5 12]\n",
      " [15  2  0]]\n",
      "Element-wise Multiplication:\n",
      " [[ 1  4  3]\n",
      " [16  0 36]\n",
      " [56  1  0]]\n",
      "Element-wise Subtraction:\n",
      " [[ 0  0  2]\n",
      " [ 0  5  0]\n",
      " [-1  0  0]]\n",
      "Element-wise Division:\n",
      " [[1.    1.    3.   ]\n",
      " [1.      inf 1.   ]\n",
      " [0.875 1.      nan]]\n"
     ]
    },
    {
     "name": "stderr",
     "output_type": "stream",
     "text": [
      "/tmp/ipykernel_8347/861573774.py:22: RuntimeWarning: divide by zero encountered in divide\n",
      "  print(\"Element-wise Division:\\n\", ar1 / ar2)\n",
      "/tmp/ipykernel_8347/861573774.py:22: RuntimeWarning: invalid value encountered in divide\n",
      "  print(\"Element-wise Division:\\n\", ar1 / ar2)\n"
     ]
    }
   ],
   "source": [
    "import numpy as np\n",
    "\n",
    "ar1 = np.array([[1, 2, 3], [4, 5, 6], [7, 1, 0]])\n",
    "ar2 = np.array([[1, 2, 1], [4, 0, 6], [8, 1, 0]])\n",
    "\n",
    "# Printing the first array\n",
    "print(\"Array 1:\\n\", ar1)\n",
    "\n",
    "# Printing the second array\n",
    "print(\"Array 2:\\n\", ar2)\n",
    "\n",
    "# Element-wise addition of the two arrays\n",
    "print(\"Element-wise Addition:\\n\", ar1 + ar2)\n",
    "\n",
    "# Element-wise multiplication of the two arrays\n",
    "print(\"Element-wise Multiplication:\\n\", ar1 * ar2)\n",
    "\n",
    "# Element-wise subtraction of the second array from the first array\n",
    "print(\"Element-wise Subtraction:\\n\", ar1 - ar2)\n",
    "\n",
    "# Element-wise division of the first array by the second array\n",
    "print(\"Element-wise Division:\\n\", ar1 / ar2)\n"
   ]
  },
  {
   "cell_type": "code",
   "execution_count": 16,
   "id": "bcbe3cb7-f249-49dd-baec-806a48a7903e",
   "metadata": {},
   "outputs": [
    {
     "name": "stdout",
     "output_type": "stream",
     "text": [
      "Original Array:\n",
      " [[1 2 3]\n",
      " [4 5 6]\n",
      " [7 1 0]]\n",
      "Square Root of the Array:\n",
      " [[1.         1.41421356 1.73205081]\n",
      " [2.         2.23606798 2.44948974]\n",
      " [2.64575131 1.         0.        ]]\n",
      "Sum of all elements in the Array: 29\n",
      "Indices where elements are greater than 5: (array([1, 2]), array([2, 0]))\n",
      "Indices where elements are less than 3: (array([0, 0, 2, 2]), array([0, 1, 1, 2]))\n",
      "Type of np.where(): <class 'tuple'>\n",
      "Number of Nonzero Elements: 8\n",
      "Indices of Nonzero Elements: (array([0, 0, 0, 1, 1, 1, 2, 2]), array([0, 1, 2, 0, 1, 2, 0, 1]))\n",
      "Indices of Nonzero Elements after Modification: (array([0, 0, 0, 1, 1, 2, 2]), array([0, 1, 2, 0, 1, 0, 1]))\n"
     ]
    }
   ],
   "source": [
    "import numpy as np\n",
    "\n",
    "ar1 = np.array([[1, 2, 3], [4, 5, 6], [7, 1, 0]])\n",
    "\n",
    "# Printing the original array\n",
    "print(\"Original Array:\\n\", ar1)\n",
    "\n",
    "# Calculating the square root of each element in the array\n",
    "print(\"Square Root of the Array:\\n\", np.sqrt(ar1))\n",
    "\n",
    "# Calculating the sum of all elements in the array\n",
    "print(\"Sum of all elements in the Array:\", ar1.sum())\n",
    "\n",
    "# Finding indices where elements are greater than 5\n",
    "print(\"Indices where elements are greater than 5:\", np.where(ar1 > 5))\n",
    "\n",
    "# Finding indices where elements are less than 3\n",
    "print(\"Indices where elements are less than 3:\", np.where(ar1 < 3))\n",
    "\n",
    "# Getting the type of the output from np.where()\n",
    "print(\"Type of np.where():\", type(np.where(ar1 < 3)))\n",
    "\n",
    "# Counting the number of nonzero elements in the array\n",
    "print(\"Number of Nonzero Elements:\", np.count_nonzero(ar1))\n",
    "\n",
    "# Finding the indices of nonzero elements\n",
    "print(\"Indices of Nonzero Elements:\", np.nonzero(ar1))\n",
    "\n",
    "# Modifying an element to create a new nonzero element\n",
    "ar1[1, 2] = 0\n",
    "\n",
    "# Finding the indices of nonzero elements after modification\n",
    "print(\"Indices of Nonzero Elements after Modification:\", np.nonzero(ar1))\n"
   ]
  },
  {
   "cell_type": "code",
   "execution_count": 17,
   "id": "a72bb366-d85c-4e69-9937-5181d8e9c5ef",
   "metadata": {},
   "outputs": [
    {
     "name": "stdout",
     "output_type": "stream",
     "text": [
      "Size of Python List (in bytes): 112\n",
      "Size of NumPy Array (in bytes): 32\n"
     ]
    }
   ],
   "source": [
    "import numpy as np\n",
    "import sys\n",
    "\n",
    "# Python list\n",
    "py_ar = [0, 4, 55, 2]\n",
    "\n",
    "# NumPy array\n",
    "np_ar = np.array([0, 4, 55, 2])\n",
    "\n",
    "# Calculating the size of the Python list in bytes\n",
    "print(\"Size of Python List (in bytes):\", sys.getsizeof(1) * len(py_ar))\n",
    "\n",
    "# Calculating the size of the NumPy array in bytes\n",
    "print(\"Size of NumPy Array (in bytes):\", np_ar.itemsize * np_ar.size)\n"
   ]
  },
  {
   "cell_type": "code",
   "execution_count": 18,
   "id": "fa726789-5b2b-4f89-bd3f-7aa2ab06dac0",
   "metadata": {},
   "outputs": [
    {
     "name": "stdout",
     "output_type": "stream",
     "text": [
      "NumPy Array to Python List: [0, 4, 55, 2]\n",
      "NumPy Array to Python List (alternative method): [0, 4, 55, 2]\n"
     ]
    }
   ],
   "source": [
    "import numpy as np\n",
    "\n",
    "np_ar = np.array([0, 4, 55, 2])\n",
    "\n",
    "# Converting NumPy array to Python list using tolist()\n",
    "print(\"NumPy Array to Python List:\", np_ar.tolist())\n",
    "\n",
    "# Converting NumPy array to Python list using list() constructor\n",
    "print(\"NumPy Array to Python List (alternative method):\", list(np_ar))\n"
   ]
  },
  {
   "cell_type": "markdown",
   "id": "013c462f-2f70-41b3-8c49-015e94453b30",
   "metadata": {},
   "source": [
    "## Examples: Reading arrays from disk, either from standard or custom formats"
   ]
  },
  {
   "cell_type": "markdown",
   "id": "24e7109d-6987-402c-b697-9a74daf1352c",
   "metadata": {},
   "source": [
    "Certainly! Reading arrays from disk is a common operation, and NumPy provides functions to handle various standard and custom formats. Here are examples for reading arrays from standard formats like CSV and custom formats using NumPy:\n",
    "\n",
    "### Reading from CSV (Comma-Separated Values) File:\n",
    "\n",
    "```python\n",
    "import numpy as np\n",
    "\n",
    "# Assume 'data.csv' contains the following data:\n",
    "# 1, 2, 3\n",
    "# 4, 5, 6\n",
    "# 7, 8, 9\n",
    "\n",
    "# Using np.genfromtxt to read data from a CSV file\n",
    "csv_data = np.genfromtxt('data.csv', delimiter=',')\n",
    "\n",
    "print(\"Array from CSV:\")\n",
    "print(csv_data)\n",
    "```\n",
    "\n",
    "### Reading from Custom Format:\n",
    "\n",
    "```python\n",
    "import numpy as np\n",
    "\n",
    "# Assume 'data_custom.txt' contains the following data:\n",
    "# 1;2;3\n",
    "# 4;5;6\n",
    "# 7;8;9\n",
    "\n",
    "# Using np.loadtxt to read data from a file with a custom delimiter (semicolon in this case)\n",
    "custom_data = np.loadtxt('data_custom.txt', delimiter=';')\n",
    "\n",
    "print(\"Array from Custom Format:\")\n",
    "print(custom_data)\n",
    "```\n",
    "\n",
    "These are basic examples, and depending on the format of your data, you may need to adjust parameters such as delimiters, data types, etc. NumPy provides a flexible set of functions for reading various file formats, and you can explore the documentation for more options: [NumPy IO Documentation](https://numpy.org/doc/stable/reference/routines.io.html)"
   ]
  },
  {
   "cell_type": "markdown",
   "id": "6eee8de0-4e77-4ec5-b1b0-961d6ad8f5aa",
   "metadata": {},
   "source": [
    "## Examples: Creating arrays from raw bytes through the use of strings or buffers"
   ]
  },
  {
   "cell_type": "markdown",
   "id": "9baf4cc7-bb27-4ab4-8b28-3e4a84f77012",
   "metadata": {
    "jp-MarkdownHeadingCollapsed": true
   },
   "source": [
    "Certainly! You can create NumPy arrays from raw bytes using the `frombuffer` function. Here are examples of creating arrays from strings and buffers:\n",
    "\n",
    "### Creating Array from String:\n",
    "\n",
    "```python\n",
    "import numpy as np\n",
    "\n",
    "# Define a string of bytes\n",
    "byte_string = b'\\x01\\x02\\x03\\x04\\x05\\x06'\n",
    "\n",
    "# Create a NumPy array from the string\n",
    "array_from_string = np.frombuffer(byte_string, dtype=np.uint8)\n",
    "\n",
    "print(\"Array from String:\")\n",
    "print(array_from_string)\n",
    "```\n",
    "\n",
    "### Creating Array from Buffer:\n",
    "\n",
    "```python\n",
    "import numpy as np\n",
    "\n",
    "# Create a Python byte buffer\n",
    "byte_buffer = bytearray(b'\\x01\\x02\\x03\\x04\\x05\\x06')\n",
    "\n",
    "# Create a NumPy array from the buffer\n",
    "array_from_buffer = np.frombuffer(byte_buffer, dtype=np.uint8)\n",
    "\n",
    "print(\"Array from Buffer:\")\n",
    "print(array_from_buffer)\n",
    "```\n",
    "\n",
    "In these examples, the `frombuffer` function is used to interpret the raw bytes and create a NumPy array. The `dtype` parameter is specified to indicate the data type of the elements in the array. Adjust the byte values and data types based on your specific use case."
   ]
  },
  {
   "cell_type": "markdown",
   "id": "09952bd5-a88f-4ecd-8ac7-111d4f56a924",
   "metadata": {},
   "source": [
    "## Examples: Use of special library functions (e.g., random)"
   ]
  },
  {
   "cell_type": "markdown",
   "id": "be060c32-cf6e-4518-831f-48e09dc9968e",
   "metadata": {},
   "source": [
    "Certainly! NumPy provides various special library functions, and one commonly used module is `numpy.random`. Here are examples demonstrating the use of special functions for random number generation:\n",
    "\n",
    "### Generating Random Numbers:\n",
    "\n",
    "```python\n",
    "import numpy as np\n",
    "\n",
    "# Generating a random float between 0 and 1\n",
    "random_float = np.random.rand()\n",
    "print(\"Random Float between 0 and 1:\", random_float)\n",
    "\n",
    "# Generating an array of random floats between 0 and 1\n",
    "random_floats_array = np.random.rand(3, 2)\n",
    "print(\"Array of Random Floats between 0 and 1:\")\n",
    "print(random_floats_array)\n",
    "\n",
    "# Generating a random integer between 1 and 10\n",
    "random_int = np.random.randint(1, 11)\n",
    "print(\"Random Integer between 1 and 10:\", random_int)\n",
    "\n",
    "# Generating an array of random integers between 1 and 10\n",
    "random_integers_array = np.random.randint(1, 11, size=(2, 3))\n",
    "print(\"Array of Random Integers between 1 and 10:\")\n",
    "print(random_integers_array)\n",
    "```\n",
    "\n",
    "### Random Sampling:\n",
    "\n",
    "```python\n",
    "import numpy as np\n",
    "\n",
    "# Randomly sampling from a given array\n",
    "original_array = np.array([1, 2, 3, 4, 5])\n",
    "random_sample = np.random.choice(original_array, size=3, replace=False)\n",
    "print(\"Random Sample from Array:\", random_sample)\n",
    "```\n",
    "\n",
    "These examples showcase basic usage of the `numpy.random` module for generating random numbers, arrays of random numbers, and random sampling from existing arrays. Adjust parameters as needed for your specific use case."
   ]
  },
  {
   "cell_type": "markdown",
   "id": "6f4920f9-17a0-48a2-95b6-7ab6a9cd7afe",
   "metadata": {},
   "source": [
    "## Done:"
   ]
  }
 ],
 "metadata": {
  "kernelspec": {
   "display_name": "Python 3 (ipykernel)",
   "language": "python",
   "name": "python3"
  },
  "language_info": {
   "codemirror_mode": {
    "name": "ipython",
    "version": 3
   },
   "file_extension": ".py",
   "mimetype": "text/x-python",
   "name": "python",
   "nbconvert_exporter": "python",
   "pygments_lexer": "ipython3",
   "version": "3.11.6"
  },
  "widgets": {
   "application/vnd.jupyter.widget-state+json": {
    "state": {},
    "version_major": 2,
    "version_minor": 0
   }
  }
 },
 "nbformat": 4,
 "nbformat_minor": 5
}
