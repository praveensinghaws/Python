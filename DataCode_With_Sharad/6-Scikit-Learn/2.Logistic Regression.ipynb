{
 "cells": [
  {
   "cell_type": "markdown",
   "id": "4355194c-ea09-41c6-9be7-d42243701a55",
   "metadata": {},
   "source": [
    "# Problem Statement\n",
    "\n",
    "In an e-commerce company, the management wants to predict whether a customer will purchase a high-value product based on their age, time spent on the website, and whether they have added items to their cart. The goal is to optimize marketing strategies by targeting potential customers more effectively, thereby increasing sales revenue."
   ]
  },
  {
   "cell_type": "code",
   "execution_count": null,
   "id": "0a724c69-bf55-4507-ba67-99f5420ec444",
   "metadata": {},
   "outputs": [
    {
     "name": "stdout",
     "output_type": "stream",
     "text": [
      "Model Accuracy: 1.0\n"
     ]
    }
   ],
   "source": [
    "## Import necessary libraries\n",
    "import numpy as np\n",
    "import pandas as pd\n",
    "from sklearn.model_selection import train_test_split\n",
    "from sklearn.linear_model import LogisticRegression\n",
    "import warnings\n",
    "\n",
    "# Suppress the scikit-learn warning about feature names\n",
    "warnings.filterwarnings(\"ignore\", category=UserWarning)\n",
    "\n",
    "x = np.array([[25, 30, 0], [30, 40, 1], [20, 35, 0], [35, 45, 1]])\n",
    "y = np.array([0, 1, 0, 1])\n",
    "\n",
    "x_train, x_test, y_train, y_test = train_test_split(x, y, test_size=0.2, random_state=42)\n",
    "\n",
    "model = LogisticRegression()\n",
    "model.fit(x_train, y_train)\n",
    "accuracy = model.score(x_test, y_test)\n",
    "print(f\"Model Accuracy: {accuracy}\")\n",
    "\n",
    "user_age = float(input(\"Enter Customer's Age: \"))\n",
    "user_time_spent = float(input(\"Enter Time Spent On Website: \"))\n",
    "user_added_to_cart = int(input(\"Enter 1 if added to cart, else enter 0: \"))\n",
    "\n",
    "user_data = np.array([[user_age, user_time_spent, user_added_to_cart]])\n",
    "prediction = model.predict(user_data)\n",
    "\n",
    "if prediction[0] == 1:\n",
    "    print(\"The Customer is likely to purchase.\")\n",
    "else:\n",
    "    print(\"The Customer is unlikely to purchase.\")\n"
   ]
  },
  {
   "cell_type": "code",
   "execution_count": null,
   "id": "9cd3e01e-d957-4d83-970d-8dcf7361fb8a",
   "metadata": {},
   "outputs": [],
   "source": []
  }
 ],
 "metadata": {
  "kernelspec": {
   "display_name": "Python 3",
   "language": "python",
   "name": "python3"
  },
  "language_info": {
   "codemirror_mode": {
    "name": "ipython",
    "version": 3
   },
   "file_extension": ".py",
   "mimetype": "text/x-python",
   "name": "python",
   "nbconvert_exporter": "python",
   "pygments_lexer": "ipython3",
   "version": "3.11.5"
  }
 },
 "nbformat": 4,
 "nbformat_minor": 5
}
