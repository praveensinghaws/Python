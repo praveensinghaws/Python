{
 "cells": [
  {
   "cell_type": "markdown",
   "id": "85b8ad9e-8087-4d71-80ff-b4b3f470289c",
   "metadata": {},
   "source": [
    "# Python Pandas Cleaning & Fixing Wrong Data"
   ]
  },
  {
   "cell_type": "code",
   "execution_count": 1,
   "id": "e517bc00-1569-4a4a-9f02-b0763e7051df",
   "metadata": {},
   "outputs": [
    {
     "data": {
      "text/plain": [
       "['Graphs Png Files',\n",
       " '.DS_Store',\n",
       " 'bad_data.csv',\n",
       " 'Python Data Science Project for Phone Sales Analysis.ipynb',\n",
       " 'data_new.csv',\n",
       " 'Screentime-App-Details-Dataset.csv',\n",
       " 'data.csv',\n",
       " 'App Usage With Screen Time Analysis.ipynb',\n",
       " 'apple_products.csv',\n",
       " 'Pandas_Part_2.ipynb',\n",
       " 'data.js',\n",
       " 'Python Pandas DataFrame Cheat.ipynb',\n",
       " '.ipynb_checkpoints',\n",
       " 'Pandas_Part_1.ipynb',\n",
       " 'App-Usage-With-Screen-Time-Analysis.py']"
      ]
     },
     "execution_count": 1,
     "metadata": {},
     "output_type": "execute_result"
    }
   ],
   "source": [
    "import os \n",
    "curd = os.getcwd()\n",
    "os.listdir(curd)"
   ]
  },
  {
   "cell_type": "code",
   "execution_count": 2,
   "id": "3507fbce-7599-48d2-b4ec-2357279986ba",
   "metadata": {
    "scrolled": true
   },
   "outputs": [
    {
     "name": "stdout",
     "output_type": "stream",
     "text": [
      "   Duration          Date  Pulse  Maxpulse  Calories\n",
      "0        60  '2020/12/01'    110       130     409.1\n",
      "1        60  '2020/12/02'    117       145     479.0\n",
      "2        60  '2020/12/03'    103       135     340.0\n",
      "3        45  '2020/12/04'    109       175     282.4\n",
      "4        45  '2020/12/05'    117       148     406.0\n"
     ]
    }
   ],
   "source": [
    "# Importing the pandas library\n",
    "import pandas as pd\n",
    "\n",
    "# Reading the CSV file into a DataFrame\n",
    "df = pd.read_csv(\"bad_data.csv\")\n",
    "\n",
    "# Printing the first few rows of the DataFrame\n",
    "print(df.head())\n"
   ]
  },
  {
   "cell_type": "code",
   "execution_count": 3,
   "id": "2d8fe470-87d7-46ef-bd54-a67ad11e7ac8",
   "metadata": {},
   "outputs": [],
   "source": [
    "\n",
    "# Updating the 'Duration' column in the 8th row (index 7) with a value of 45\n",
    "df.loc[7, 'Duration'] = 45"
   ]
  },
  {
   "cell_type": "code",
   "execution_count": 4,
   "id": "8e097535-9612-4efa-9b57-dd378262108d",
   "metadata": {},
   "outputs": [
    {
     "data": {
      "text/html": [
       "<div>\n",
       "<style scoped>\n",
       "    .dataframe tbody tr th:only-of-type {\n",
       "        vertical-align: middle;\n",
       "    }\n",
       "\n",
       "    .dataframe tbody tr th {\n",
       "        vertical-align: top;\n",
       "    }\n",
       "\n",
       "    .dataframe thead th {\n",
       "        text-align: right;\n",
       "    }\n",
       "</style>\n",
       "<table border=\"1\" class=\"dataframe\">\n",
       "  <thead>\n",
       "    <tr style=\"text-align: right;\">\n",
       "      <th></th>\n",
       "      <th>Duration</th>\n",
       "      <th>Date</th>\n",
       "      <th>Pulse</th>\n",
       "      <th>Maxpulse</th>\n",
       "      <th>Calories</th>\n",
       "    </tr>\n",
       "  </thead>\n",
       "  <tbody>\n",
       "    <tr>\n",
       "      <th>0</th>\n",
       "      <td>60</td>\n",
       "      <td>'2020/12/01'</td>\n",
       "      <td>110</td>\n",
       "      <td>130</td>\n",
       "      <td>409.1</td>\n",
       "    </tr>\n",
       "    <tr>\n",
       "      <th>1</th>\n",
       "      <td>60</td>\n",
       "      <td>'2020/12/02'</td>\n",
       "      <td>117</td>\n",
       "      <td>145</td>\n",
       "      <td>479.0</td>\n",
       "    </tr>\n",
       "    <tr>\n",
       "      <th>2</th>\n",
       "      <td>60</td>\n",
       "      <td>'2020/12/03'</td>\n",
       "      <td>103</td>\n",
       "      <td>135</td>\n",
       "      <td>340.0</td>\n",
       "    </tr>\n",
       "    <tr>\n",
       "      <th>3</th>\n",
       "      <td>45</td>\n",
       "      <td>'2020/12/04'</td>\n",
       "      <td>109</td>\n",
       "      <td>175</td>\n",
       "      <td>282.4</td>\n",
       "    </tr>\n",
       "    <tr>\n",
       "      <th>4</th>\n",
       "      <td>45</td>\n",
       "      <td>'2020/12/05'</td>\n",
       "      <td>117</td>\n",
       "      <td>148</td>\n",
       "      <td>406.0</td>\n",
       "    </tr>\n",
       "    <tr>\n",
       "      <th>5</th>\n",
       "      <td>60</td>\n",
       "      <td>'2020/12/06'</td>\n",
       "      <td>102</td>\n",
       "      <td>127</td>\n",
       "      <td>300.0</td>\n",
       "    </tr>\n",
       "    <tr>\n",
       "      <th>6</th>\n",
       "      <td>60</td>\n",
       "      <td>'2020/12/07'</td>\n",
       "      <td>110</td>\n",
       "      <td>136</td>\n",
       "      <td>374.0</td>\n",
       "    </tr>\n",
       "    <tr>\n",
       "      <th>7</th>\n",
       "      <td>45</td>\n",
       "      <td>'2020/12/08'</td>\n",
       "      <td>104</td>\n",
       "      <td>134</td>\n",
       "      <td>253.3</td>\n",
       "    </tr>\n",
       "    <tr>\n",
       "      <th>8</th>\n",
       "      <td>30</td>\n",
       "      <td>'2020/12/09'</td>\n",
       "      <td>109</td>\n",
       "      <td>133</td>\n",
       "      <td>195.1</td>\n",
       "    </tr>\n",
       "    <tr>\n",
       "      <th>9</th>\n",
       "      <td>60</td>\n",
       "      <td>'2020/12/10'</td>\n",
       "      <td>98</td>\n",
       "      <td>124</td>\n",
       "      <td>269.0</td>\n",
       "    </tr>\n",
       "  </tbody>\n",
       "</table>\n",
       "</div>"
      ],
      "text/plain": [
       "   Duration          Date  Pulse  Maxpulse  Calories\n",
       "0        60  '2020/12/01'    110       130     409.1\n",
       "1        60  '2020/12/02'    117       145     479.0\n",
       "2        60  '2020/12/03'    103       135     340.0\n",
       "3        45  '2020/12/04'    109       175     282.4\n",
       "4        45  '2020/12/05'    117       148     406.0\n",
       "5        60  '2020/12/06'    102       127     300.0\n",
       "6        60  '2020/12/07'    110       136     374.0\n",
       "7        45  '2020/12/08'    104       134     253.3\n",
       "8        30  '2020/12/09'    109       133     195.1\n",
       "9        60  '2020/12/10'     98       124     269.0"
      ]
     },
     "execution_count": 4,
     "metadata": {},
     "output_type": "execute_result"
    }
   ],
   "source": [
    "df.head(10)"
   ]
  },
  {
   "cell_type": "code",
   "execution_count": 5,
   "id": "cd8f97b8-70fc-4369-b4d5-59bed2fdbfd7",
   "metadata": {},
   "outputs": [
    {
     "name": "stdout",
     "output_type": "stream",
     "text": [
      "    Duration          Date  Pulse  Maxpulse  Calories\n",
      "0         60  '2020/12/01'    110       130     409.1\n",
      "1         60  '2020/12/02'    117       145     479.0\n",
      "2         60  '2020/12/03'    103       135     340.0\n",
      "3         45  '2020/12/04'    109       175     282.4\n",
      "4         45  '2020/12/05'    117       148     406.0\n",
      "5         60  '2020/12/06'    102       127     300.0\n",
      "6         60  '2020/12/07'    110       136     374.0\n",
      "7        120  '2020/12/08'    104       134     253.3\n",
      "8         30  '2020/12/09'    109       133     195.1\n",
      "9         60  '2020/12/10'     98       124     269.0\n",
      "10        60  '2020/12/11'    103       147     329.3\n",
      "11        60  '2020/12/12'    100       120     250.7\n",
      "12        60  '2020/12/12'    100       120     250.7\n",
      "13        60  '2020/12/13'    106       128     345.3\n",
      "14        60  '2020/12/14'    104       132     379.3\n",
      "15        60  '2020/12/15'     98       123     275.0\n",
      "16        60  '2020/12/16'     98       120     215.2\n",
      "17        60  '2020/12/17'    100       120     300.0\n",
      "18        45  '2020/12/18'     90       112       NaN\n",
      "19        60  '2020/12/19'    103       123     323.0\n",
      "20        45  '2020/12/20'     97       125     243.0\n",
      "21        60  '2020/12/21'    108       131     364.2\n",
      "22        45           NaN    100       119     282.0\n",
      "23        60  '2020/12/23'    130       101     300.0\n",
      "24        45  '2020/12/24'    105       132     246.0\n",
      "25        60  '2020/12/25'    102       126     334.5\n",
      "26        60      20201226    100       120     250.0\n",
      "27        60  '2020/12/27'     92       118     241.0\n",
      "28        60  '2020/12/28'    103       132       NaN\n",
      "29        60  '2020/12/29'    100       132     280.0\n",
      "30        60  '2020/12/30'    102       129     380.3\n",
      "31        60  '2020/12/31'     92       115     243.0\n"
     ]
    }
   ],
   "source": [
    "# For a larger dataset: Here, we will iterate through all the values in the \"Duration\" column. If a value is higher than 120, we will set it to 120.\n",
    "\n",
    "# Importing the pandas library\n",
    "import pandas as pd\n",
    "\n",
    "# Reading the CSV file into a DataFrame\n",
    "df = pd.read_csv(\"bad_data.csv\")\n",
    "\n",
    "# Iterating through the rows of the DataFrame\n",
    "for i in df.index:\n",
    "    # Checking if the 'Duration' value is greater than 120\n",
    "    if df.loc[i, \"Duration\"] > 120:\n",
    "        # Setting the 'Duration' value to 120 if it exceeds the limit\n",
    "        df.loc[i, \"Duration\"] = 120\n",
    "\n",
    "# Displaying the updated DataFrame\n",
    "print(df.to_string())\n"
   ]
  },
  {
   "cell_type": "code",
   "execution_count": 6,
   "id": "7f532f43-09ab-4230-9f93-6c2f4e8f51fa",
   "metadata": {},
   "outputs": [
    {
     "name": "stdout",
     "output_type": "stream",
     "text": [
      "\n",
      "Before conversion:     Duration          Date  Pulse  Maxpulse  Calories\n",
      "0         60  '2020/12/01'    110       130     409.1\n",
      "1         60  '2020/12/02'    117       145     479.0\n",
      "2         60  '2020/12/03'    103       135     340.0\n",
      "3         45  '2020/12/04'    109       175     282.4\n",
      "4         45  '2020/12/05'    117       148     406.0\n",
      "5         60  '2020/12/06'    102       127     300.0\n",
      "6         60  '2020/12/07'    110       136     374.0\n",
      "7        450  '2020/12/08'    104       134     253.3\n",
      "8         30  '2020/12/09'    109       133     195.1\n",
      "9         60  '2020/12/10'     98       124     269.0\n",
      "10        60  '2020/12/11'    103       147     329.3\n",
      "11        60  '2020/12/12'    100       120     250.7\n",
      "12        60  '2020/12/12'    100       120     250.7\n",
      "13        60  '2020/12/13'    106       128     345.3\n",
      "14        60  '2020/12/14'    104       132     379.3\n",
      "15        60  '2020/12/15'     98       123     275.0\n",
      "16        60  '2020/12/16'     98       120     215.2\n",
      "17        60  '2020/12/17'    100       120     300.0\n",
      "18        45  '2020/12/18'     90       112       NaN\n",
      "19        60  '2020/12/19'    103       123     323.0\n",
      "20        45  '2020/12/20'     97       125     243.0\n",
      "21        60  '2020/12/21'    108       131     364.2\n",
      "22        45           NaN    100       119     282.0\n",
      "23        60  '2020/12/23'    130       101     300.0\n",
      "24        45  '2020/12/24'    105       132     246.0\n",
      "25        60  '2020/12/25'    102       126     334.5\n",
      "26        60      20201226    100       120     250.0\n",
      "27        60  '2020/12/27'     92       118     241.0\n",
      "28        60  '2020/12/28'    103       132       NaN\n",
      "29        60  '2020/12/29'    100       132     280.0\n",
      "30        60  '2020/12/30'    102       129     380.3\n",
      "31        60  '2020/12/31'     92       115     243.0\n",
      "\n",
      "After conversion:     Duration          Date  Pulse  Maxpulse  Calories\n",
      "0         60  '2020/12/01'    110       130     409.1\n",
      "1         60  '2020/12/02'    117       145     479.0\n",
      "2         60  '2020/12/03'    103       135     340.0\n",
      "3         45  '2020/12/04'    109       175     282.4\n",
      "4         45  '2020/12/05'    117       148     406.0\n",
      "5         60  '2020/12/06'    102       127     300.0\n",
      "6         60  '2020/12/07'    110       136     374.0\n",
      "7        120  '2020/12/08'    104       134     253.3\n",
      "8         30  '2020/12/09'    109       133     195.1\n",
      "9         60  '2020/12/10'     98       124     269.0\n",
      "10        60  '2020/12/11'    103       147     329.3\n",
      "11        60  '2020/12/12'    100       120     250.7\n",
      "12        60  '2020/12/12'    100       120     250.7\n",
      "13        60  '2020/12/13'    106       128     345.3\n",
      "14        60  '2020/12/14'    104       132     379.3\n",
      "15        60  '2020/12/15'     98       123     275.0\n",
      "16        60  '2020/12/16'     98       120     215.2\n",
      "17        60  '2020/12/17'    100       120     300.0\n",
      "18        45  '2020/12/18'     90       112       NaN\n",
      "19        60  '2020/12/19'    103       123     323.0\n",
      "20        45  '2020/12/20'     97       125     243.0\n",
      "21        60  '2020/12/21'    108       131     364.2\n",
      "22        45           NaN    100       119     282.0\n",
      "23        60  '2020/12/23'    130       101     300.0\n",
      "24        45  '2020/12/24'    105       132     246.0\n",
      "25        60  '2020/12/25'    102       126     334.5\n",
      "26        60      20201226    100       120     250.0\n",
      "27        60  '2020/12/27'     92       118     241.0\n",
      "28        60  '2020/12/28'    103       132       NaN\n",
      "29        60  '2020/12/29'    100       132     280.0\n",
      "30        60  '2020/12/30'    102       129     380.3\n",
      "31        60  '2020/12/31'     92       115     243.0\n"
     ]
    }
   ],
   "source": [
    "# Import the pandas library\n",
    "import pandas as pd \n",
    "\n",
    "# Read the CSV file into a pandas DataFrame\n",
    "df = pd.read_csv(\"bad_data.csv\")\n",
    "\n",
    "# Print the DataFrame before the conversion\n",
    "print(\"\\nBefore conversion:\", df)\n",
    "\n",
    "# Iterate through the DataFrame rows\n",
    "for i in df.index:\n",
    "    # Check if the 'Duration' value is greater than 120\n",
    "    if df.loc[i, \"Duration\"] > 120:\n",
    "        # If greater than 120, set the 'Duration' value to 120\n",
    "        df.loc[i, \"Duration\"] = 120\n",
    "\n",
    "# Print the DataFrame after the conversion\n",
    "print(\"\\nAfter conversion:\", df)\n"
   ]
  },
  {
   "cell_type": "markdown",
   "id": "1e3b1f83-7a96-4fd5-b893-00475f474f4b",
   "metadata": {},
   "source": [
    "# Python Pandas Removing Duplicates :"
   ]
  },
  {
   "cell_type": "code",
   "execution_count": 7,
   "id": "dbd1b028-15c4-425c-9efe-6a31e50e1c11",
   "metadata": {},
   "outputs": [
    {
     "name": "stdout",
     "output_type": "stream",
     "text": [
      "\n",
      "Before conversion:     Duration          Date  Pulse  Maxpulse  Calories\n",
      "0         60  '2020/12/01'    110       130     409.1\n",
      "1         60  '2020/12/02'    117       145     479.0\n",
      "2         60  '2020/12/03'    103       135     340.0\n",
      "3         45  '2020/12/04'    109       175     282.4\n",
      "4         45  '2020/12/05'    117       148     406.0\n",
      "5         60  '2020/12/06'    102       127     300.0\n",
      "6         60  '2020/12/07'    110       136     374.0\n",
      "7        450  '2020/12/08'    104       134     253.3\n",
      "8         30  '2020/12/09'    109       133     195.1\n",
      "9         60  '2020/12/10'     98       124     269.0\n",
      "10        60  '2020/12/11'    103       147     329.3\n",
      "11        60  '2020/12/12'    100       120     250.7\n",
      "12        60  '2020/12/12'    100       120     250.7\n",
      "13        60  '2020/12/13'    106       128     345.3\n",
      "14        60  '2020/12/14'    104       132     379.3\n",
      "15        60  '2020/12/15'     98       123     275.0\n",
      "16        60  '2020/12/16'     98       120     215.2\n",
      "17        60  '2020/12/17'    100       120     300.0\n",
      "18        45  '2020/12/18'     90       112       NaN\n",
      "19        60  '2020/12/19'    103       123     323.0\n",
      "20        45  '2020/12/20'     97       125     243.0\n",
      "21        60  '2020/12/21'    108       131     364.2\n",
      "22        45           NaN    100       119     282.0\n",
      "23        60  '2020/12/23'    130       101     300.0\n",
      "24        45  '2020/12/24'    105       132     246.0\n",
      "25        60  '2020/12/25'    102       126     334.5\n",
      "26        60      20201226    100       120     250.0\n",
      "27        60  '2020/12/27'     92       118     241.0\n",
      "28        60  '2020/12/28'    103       132       NaN\n",
      "29        60  '2020/12/29'    100       132     280.0\n",
      "30        60  '2020/12/30'    102       129     380.3\n",
      "31        60  '2020/12/31'     92       115     243.0\n",
      "\n",
      "After conversion:     Duration          Date  Pulse  Maxpulse  Calories\n",
      "12        60  '2020/12/12'    100       120     250.7\n"
     ]
    }
   ],
   "source": [
    "# Import the pandas library\n",
    "import pandas as pd \n",
    "\n",
    "# Read the CSV file into a pandas DataFrame\n",
    "df = pd.read_csv(\"bad_data.csv\")\n",
    "\n",
    "# Print the DataFrame before the conversion\n",
    "print(\"\\nBefore conversion:\", df)\n",
    "\n",
    "# Identify and mark duplicate rows in the DataFrame\n",
    "duprows = df.duplicated()\n",
    "\n",
    "# Print the DataFrame after the conversion, displaying only the duplicate rows\n",
    "print(\"\\nAfter conversion:\", df[duprows])\n",
    "\n"
   ]
  },
  {
   "cell_type": "code",
   "execution_count": 8,
   "id": "7f8cfdca-c58b-4a3b-8501-62fc766f41a9",
   "metadata": {},
   "outputs": [
    {
     "name": "stdout",
     "output_type": "stream",
     "text": [
      "\n",
      "After conversion:     Duration          Date  Pulse  Maxpulse  Calories\n",
      "12        60  '2020/12/12'    100       120     250.7\n"
     ]
    }
   ],
   "source": [
    "# Print the DataFrame after the conversion, displaying only the duplicate rows\n",
    "print(\"\\nAfter conversion:\", df[duprows])"
   ]
  },
  {
   "cell_type": "code",
   "execution_count": 9,
   "id": "ed2a40ea-6dc5-469f-af2c-32117d803654",
   "metadata": {},
   "outputs": [
    {
     "name": "stdout",
     "output_type": "stream",
     "text": [
      "    Duration          Date  Pulse  Maxpulse  Calories\n",
      "0         60  '2020/12/01'    110       130     409.1\n",
      "1         60  '2020/12/02'    117       145     479.0\n",
      "2         60  '2020/12/03'    103       135     340.0\n",
      "3         45  '2020/12/04'    109       175     282.4\n",
      "4         45  '2020/12/05'    117       148     406.0\n",
      "5         60  '2020/12/06'    102       127     300.0\n",
      "6         60  '2020/12/07'    110       136     374.0\n",
      "7        450  '2020/12/08'    104       134     253.3\n",
      "8         30  '2020/12/09'    109       133     195.1\n",
      "9         60  '2020/12/10'     98       124     269.0\n",
      "10        60  '2020/12/11'    103       147     329.3\n",
      "11        60  '2020/12/12'    100       120     250.7\n",
      "13        60  '2020/12/13'    106       128     345.3\n",
      "14        60  '2020/12/14'    104       132     379.3\n",
      "15        60  '2020/12/15'     98       123     275.0\n",
      "16        60  '2020/12/16'     98       120     215.2\n",
      "17        60  '2020/12/17'    100       120     300.0\n",
      "18        45  '2020/12/18'     90       112       NaN\n",
      "19        60  '2020/12/19'    103       123     323.0\n",
      "20        45  '2020/12/20'     97       125     243.0\n",
      "21        60  '2020/12/21'    108       131     364.2\n",
      "22        45           NaN    100       119     282.0\n",
      "23        60  '2020/12/23'    130       101     300.0\n",
      "24        45  '2020/12/24'    105       132     246.0\n",
      "25        60  '2020/12/25'    102       126     334.5\n",
      "26        60      20201226    100       120     250.0\n",
      "27        60  '2020/12/27'     92       118     241.0\n",
      "28        60  '2020/12/28'    103       132       NaN\n",
      "29        60  '2020/12/29'    100       132     280.0\n",
      "30        60  '2020/12/30'    102       129     380.3\n",
      "31        60  '2020/12/31'     92       115     243.0\n"
     ]
    }
   ],
   "source": [
    "# Removing duplicates from the dataset using the 'drop_duplicates' method.\n",
    "import pandas as pd\n",
    "\n",
    "# Reading the CSV file into a DataFrame\n",
    "df = pd.read_csv('bad_data.csv')\n",
    "\n",
    "# Dropping duplicate rows in place\n",
    "df.drop_duplicates(inplace=True)\n",
    "\n",
    "# Displaying the updated DataFrame\n",
    "print(df)\n"
   ]
  },
  {
   "cell_type": "markdown",
   "id": "eefa462f-db4c-4712-a16c-257b1c957ea6",
   "metadata": {},
   "source": [
    "# iloc - Integer Location Function\n",
    "\n",
    "The `iloc` function in Pandas is used for integer-location based indexing.\n",
    "\n",
    "### Selecting a Single Element\n",
    "```python\n",
    "val = dataframe.iloc[row, column]\n",
    "```\n",
    "\n",
    "### Selecting a Specific Row\n",
    "```python\n",
    "val = dataframe.iloc[row_index]\n",
    "```\n",
    "\n",
    "### Selecting Multiple Row Elements\n",
    "```python\n",
    "val = dataframe.iloc[startrow:endrow]\n",
    "```\n",
    "\n",
    "### Selecting Specific Rows and Columns\n",
    "```python\n",
    "val = dataframe.iloc[[row1, row2], [col1, col2]]\n",
    "```\n",
    "\n",
    "### Selecting All Rows for Specific Columns\n",
    "```python\n",
    "val = dataframe.iloc[:, [col1, col2]]\n",
    "```\n",
    "\n",
    "These examples illustrate various use cases of the `iloc` function for indexing and selecting elements in a Pandas DataFrame.\n",
    "```\n"
   ]
  },
  {
   "cell_type": "code",
   "execution_count": 10,
   "id": "32797033-b500-437b-a6a8-9315ebbd3e40",
   "metadata": {},
   "outputs": [
    {
     "name": "stdout",
     "output_type": "stream",
     "text": [
      "       Name  Age    Country\n",
      "0   Praveen   25      Dubai\n",
      "1     Rahul   30     Canada\n",
      "2  Priyanka   33         UK\n",
      "3  Akhilesh   38  Australia\n"
     ]
    }
   ],
   "source": [
    "# Importing Pandas library\n",
    "import pandas as pd\n",
    "\n",
    "# Creating a dictionary with data\n",
    "data = {\n",
    "    'Name': ['Praveen', 'Rahul', 'Priyanka', 'Akhilesh'],\n",
    "    'Age': [25, 30, 33, 38],\n",
    "    'Country': ['Dubai', 'Canada', 'UK', 'Australia']\n",
    "}\n",
    "\n",
    "# Creating a Pandas DataFrame\n",
    "df = pd.DataFrame(data)\n",
    "\n",
    "# Displaying the DataFrame\n",
    "print(df)\n"
   ]
  },
  {
   "cell_type": "code",
   "execution_count": 11,
   "id": "493aef41-1664-4969-a137-5f76f1d342bc",
   "metadata": {},
   "outputs": [
    {
     "name": "stdout",
     "output_type": "stream",
     "text": [
      "Canada\n"
     ]
    }
   ],
   "source": [
    "# Selecting the element at row 1, column 2 ('Canada') from the DataFrame\n",
    "selected_element = df.iloc[1, 2]\n",
    "\n",
    "# Displaying the selected element\n",
    "print(selected_element)\n"
   ]
  },
  {
   "cell_type": "code",
   "execution_count": 12,
   "id": "6a6faebe-0eaa-4bf0-834b-550b3453510f",
   "metadata": {},
   "outputs": [
    {
     "name": "stdout",
     "output_type": "stream",
     "text": [
      "       Name  Age\n",
      "1     Rahul   30\n",
      "2  Priyanka   33\n"
     ]
    }
   ],
   "source": [
    "# Creating a subset of the DataFrame\n",
    "subset = df.iloc[1:3, 0:2]\n",
    "\n",
    "# Displaying the subset\n",
    "print(subset)\n"
   ]
  },
  {
   "cell_type": "code",
   "execution_count": 13,
   "id": "bbd5b93d-e487-4a8c-9422-ddcf9de411e9",
   "metadata": {},
   "outputs": [
    {
     "name": "stdout",
     "output_type": "stream",
     "text": [
      "Name       Priyanka\n",
      "Age              33\n",
      "Country          UK\n",
      "Name: 2, dtype: object\n"
     ]
    }
   ],
   "source": [
    "# Selecting a specific row by index (in this case, the third row)\n",
    "selected_row = df.iloc[2]\n",
    "\n",
    "# Displaying the selected row\n",
    "print(selected_row)\n"
   ]
  },
  {
   "cell_type": "code",
   "execution_count": 14,
   "id": "16bd2625-abc2-42ac-a1bc-165106a755f2",
   "metadata": {},
   "outputs": [
    {
     "name": "stdout",
     "output_type": "stream",
     "text": [
      "       Name  Age Country\n",
      "1     Rahul   30  Canada\n",
      "2  Priyanka   33      UK\n"
     ]
    }
   ],
   "source": [
    "# Selecting a range of rows (from the second to the third, exclusive)\n",
    "multiple_rows = df.iloc[1:3]\n",
    "\n",
    "# Displaying the selected rows\n",
    "print(multiple_rows)\n"
   ]
  },
  {
   "cell_type": "code",
   "execution_count": 15,
   "id": "c308e910-89f6-4ed9-bba9-1fdf59824ba9",
   "metadata": {},
   "outputs": [
    {
     "name": "stdout",
     "output_type": "stream",
     "text": [
      "       Name    Country\n",
      "1     Rahul     Canada\n",
      "3  Akhilesh  Australia\n"
     ]
    }
   ],
   "source": [
    "# Selecting specific rows (1st and 3rd) and columns (0th and 2nd)\n",
    "specific_rows_and_columns = df.iloc[[1, 3], [0, 2]]\n",
    "\n",
    "# Displaying the selected rows and columns\n",
    "print(specific_rows_and_columns)\n"
   ]
  },
  {
   "cell_type": "code",
   "execution_count": 16,
   "id": "1648a9e0-54e9-466b-bcdd-1d6fb7018bb9",
   "metadata": {},
   "outputs": [
    {
     "name": "stdout",
     "output_type": "stream",
     "text": [
      "   Age    Country\n",
      "0   25      Dubai\n",
      "1   30     Canada\n",
      "2   33         UK\n",
      "3   38  Australia\n"
     ]
    }
   ],
   "source": [
    "# Selecting all rows for specific columns (1st and 2nd)\n",
    "selecting_all_rows_for_specific_columns = df.iloc[:, [1, 2]]\n",
    "\n",
    "# Displaying the selected rows and columns\n",
    "print(selecting_all_rows_for_specific_columns)\n"
   ]
  },
  {
   "cell_type": "code",
   "execution_count": null,
   "id": "aec1b7e0-db65-4743-9ec6-3ff2d0c95d3c",
   "metadata": {},
   "outputs": [],
   "source": []
  }
 ],
 "metadata": {
  "kernelspec": {
   "display_name": "Python 3 (ipykernel)",
   "language": "python",
   "name": "python3"
  },
  "language_info": {
   "codemirror_mode": {
    "name": "ipython",
    "version": 3
   },
   "file_extension": ".py",
   "mimetype": "text/x-python",
   "name": "python",
   "nbconvert_exporter": "python",
   "pygments_lexer": "ipython3",
   "version": "3.12.0"
  }
 },
 "nbformat": 4,
 "nbformat_minor": 5
}
