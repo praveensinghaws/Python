{
 "cells": [
  {
   "cell_type": "markdown",
   "id": "a346cf2a-fb87-4ae1-8b7e-ce9647b1a1bc",
   "metadata": {},
   "source": [
    "# 4.Python Global Variable"
   ]
  },
  {
   "cell_type": "code",
   "execution_count": 1,
   "id": "d27b728a-40c1-4de1-a4c8-25d21de11926",
   "metadata": {},
   "outputs": [
    {
     "name": "stdout",
     "output_type": "stream",
     "text": [
      "My name is: Praveen Singh Global\n"
     ]
    }
   ],
   "source": [
    "# Defining global variable\n",
    "\n",
    "x = \"Praveen Singh Global\"\n",
    "\n",
    "def myfunction():\n",
    "    print(\"My name is: \" + x)\n",
    "\n",
    "myfunction()\n"
   ]
  },
  {
   "cell_type": "code",
   "execution_count": 2,
   "id": "a066d1f4-c77b-4950-a882-097d4d698a4e",
   "metadata": {},
   "outputs": [
    {
     "name": "stdout",
     "output_type": "stream",
     "text": [
      "His name is: Ravi Pandey Local\n",
      "This is :Praveen Singh Global\n"
     ]
    }
   ],
   "source": [
    "# Create variable inside a function\n",
    "def name():\n",
    "    x = \"Ravi Pandey Local\"  # if x will not defined here then it will print global varibale\n",
    "    print(\"His name is: \" + x)\n",
    "name()\n",
    "print(\"This is :\" + x)\n"
   ]
  },
  {
   "cell_type": "markdown",
   "id": "3996c562-697e-4aeb-829c-88bdc247a400",
   "metadata": {},
   "source": [
    "#### Thanks"
   ]
  }
 ],
 "metadata": {
  "kernelspec": {
   "display_name": "Python 3 (ipykernel)",
   "language": "python",
   "name": "python3"
  },
  "language_info": {
   "codemirror_mode": {
    "name": "ipython",
    "version": 3
   },
   "file_extension": ".py",
   "mimetype": "text/x-python",
   "name": "python",
   "nbconvert_exporter": "python",
   "pygments_lexer": "ipython3",
   "version": "3.11.6"
  }
 },
 "nbformat": 4,
 "nbformat_minor": 5
}
