{
 "cells": [
  {
   "cell_type": "markdown",
   "id": "df26cca4-d9fe-4bf6-b0f4-109d5961dd0a",
   "metadata": {},
   "source": [
    "# Python Sort List"
   ]
  },
  {
   "cell_type": "code",
   "execution_count": 1,
   "id": "56f86c69-fd94-4465-ab95-a1a98c88985f",
   "metadata": {},
   "outputs": [
    {
     "name": "stdout",
     "output_type": "stream",
     "text": [
      "['banana', 'kiwi', 'mango', 'orange', 'pineapple']\n"
     ]
    }
   ],
   "source": [
    "# Sort the list alphabetically\n",
    "x = [\"orange\", \"mango\", \"kiwi\", \"pineapple\", \"banana\"]\n",
    "x.sort()\n",
    "print(x)"
   ]
  },
  {
   "cell_type": "code",
   "execution_count": 2,
   "id": "a76fa428-db9a-426a-b366-cadc87bf6db1",
   "metadata": {},
   "outputs": [
    {
     "name": "stdout",
     "output_type": "stream",
     "text": [
      "[23, 50, 65, 82, 100]\n"
     ]
    }
   ],
   "source": [
    "# Sort the list numerically\n",
    "x = [100, 50, 65, 82, 23]\n",
    "x.sort()\n",
    "print(x)"
   ]
  },
  {
   "cell_type": "code",
   "execution_count": 3,
   "id": "453c0070-25c8-438d-93af-5e592bbdf2fb",
   "metadata": {},
   "outputs": [
    {
     "name": "stdout",
     "output_type": "stream",
     "text": [
      "['pineapple', 'orange', 'mango', 'kiwi', 'banana']\n"
     ]
    }
   ],
   "source": [
    "# sorting the list in decending order\n",
    "x = [\"orange\", \"mango\", \"kiwi\", \"pineapple\", \"banana\"]\n",
    "x.sort(reverse=True)\n",
    "print(x)"
   ]
  },
  {
   "cell_type": "code",
   "execution_count": 4,
   "id": "dce377f6-01b7-4878-aa95-eb628afae3f0",
   "metadata": {},
   "outputs": [
    {
     "name": "stdout",
     "output_type": "stream",
     "text": [
      "[100, 82, 65, 50, 23]\n"
     ]
    }
   ],
   "source": [
    "# sorting the list of numeric in decending order\n",
    "x = [100, 50, 65, 82, 23]\n",
    "x.sort(reverse=True)\n",
    "print(x) "
   ]
  },
  {
   "cell_type": "code",
   "execution_count": 5,
   "id": "4d8fb5c8-f3b9-4b47-9f87-910af71fcf79",
   "metadata": {},
   "outputs": [
    {
     "name": "stdout",
     "output_type": "stream",
     "text": [
      "[50, 65, 23, 82, 100]\n"
     ]
    }
   ],
   "source": [
    "# customize sort functions\n",
    "def myfunc(n):\n",
    "    return abs(n-50)\n",
    "x = [100, 50, 65, 82, 23]\n",
    "x.sort(key = myfunc)\n",
    "print(x)"
   ]
  },
  {
   "cell_type": "code",
   "execution_count": 6,
   "id": "d111d0e4-53bd-4293-961c-f5f71a8e90ee",
   "metadata": {},
   "outputs": [
    {
     "name": "stdout",
     "output_type": "stream",
     "text": [
      "['banana', 'pineapple', 'kiwi', 'mango', 'orange']\n"
     ]
    }
   ],
   "source": [
    "# reverse the sorting order\n",
    "x = [\"orange\", \"mango\", \"kiwi\", \"pineapple\", \"banana\"]\n",
    "x.reverse()\n",
    "print(x)"
   ]
  },
  {
   "cell_type": "code",
   "execution_count": 7,
   "id": "690bd107-ad12-42ca-b44c-ff0654c3af13",
   "metadata": {},
   "outputs": [
    {
     "name": "stdout",
     "output_type": "stream",
     "text": [
      "['orange', 'mango', 'kiwi', 'pineapple', 'banana']\n"
     ]
    }
   ],
   "source": [
    "# How to Copy a list\n",
    "x = [\"orange\", \"mango\", \"kiwi\", \"pineapple\", \"banana\"]\n",
    "y = x.copy()\n",
    "print(y)"
   ]
  },
  {
   "cell_type": "code",
   "execution_count": 8,
   "id": "7b0e2659-a7c5-4535-8ac4-debc8bb0d2de",
   "metadata": {},
   "outputs": [
    {
     "name": "stdout",
     "output_type": "stream",
     "text": [
      "['orange', 'mango', 'kiwi', 'pineapple', 'banana']\n"
     ]
    }
   ],
   "source": [
    "# make a copy of list with built in method\n",
    "x = [\"orange\", \"mango\", \"kiwi\", \"pineapple\", \"banana\"]\n",
    "y = list(x)\n",
    "print(y)"
   ]
  },
  {
   "cell_type": "code",
   "execution_count": 9,
   "id": "011fce6c-a878-4f33-9917-ab7b131f4e6f",
   "metadata": {},
   "outputs": [
    {
     "name": "stdout",
     "output_type": "stream",
     "text": [
      "['orange', 'mango', 'kiwi', 'pineapple', 'banana', 1, 2, 3, 4, 5]\n"
     ]
    }
   ],
   "source": [
    "# Joining the List\n",
    "x = [\"orange\", \"mango\", \"kiwi\", \"pineapple\", \"banana\"]\n",
    "y = [1, 2, 3, 4, 5]\n",
    "z = x + y\n",
    "print(z)"
   ]
  },
  {
   "cell_type": "code",
   "execution_count": 10,
   "id": "9fcfe267-17cb-431d-b689-a1e8fdcd59d5",
   "metadata": {},
   "outputs": [
    {
     "name": "stdout",
     "output_type": "stream",
     "text": [
      "['orange', 'mango', 'kiwi', 'pineapple', 'banana', 1, 2, 3, 4, 5]\n"
     ]
    }
   ],
   "source": [
    "# another way of joining through append()\n",
    "x = [\"orange\", \"mango\", \"kiwi\", \"pineapple\", \"banana\"]\n",
    "y = [1, 2, 3, 4, 5]\n",
    "\n",
    "for i in y:\n",
    "    x.append(i)\n",
    "print(x)"
   ]
  },
  {
   "cell_type": "code",
   "execution_count": 11,
   "id": "b8f85ed8-2f2d-4506-b148-d4d7716702e1",
   "metadata": {},
   "outputs": [
    {
     "name": "stdout",
     "output_type": "stream",
     "text": [
      "['orange', 'mango', 'kiwi', 'pineapple', 'banana', 1, 2, 3, 4, 5]\n"
     ]
    }
   ],
   "source": [
    "# another way of joining through extend()\n",
    "x = [\"orange\", \"mango\", \"kiwi\", \"pineapple\", \"banana\"]\n",
    "y = [1, 2, 3, 4, 5]\n",
    "x.extend(y)\n",
    "print(x)"
   ]
  },
  {
   "cell_type": "code",
   "execution_count": 12,
   "id": "745e3fb2-6400-43cc-ab75-b75b27c0f584",
   "metadata": {},
   "outputs": [],
   "source": [
    "# List Methods\n",
    "# append()\n",
    "# clear()\n",
    "# copy()\n",
    "# Count()\n",
    "# extend()\n",
    "# index()\n",
    "# insert()\n",
    "# pop()\n",
    "# remove()\n",
    "# reverse()\n",
    "# sort()"
   ]
  },
  {
   "cell_type": "code",
   "execution_count": null,
   "id": "4c798d33-1bf5-491d-81e3-2d7b99f69de4",
   "metadata": {},
   "outputs": [],
   "source": []
  }
 ],
 "metadata": {
  "kernelspec": {
   "display_name": "Python 3 (ipykernel)",
   "language": "python",
   "name": "python3"
  },
  "language_info": {
   "codemirror_mode": {
    "name": "ipython",
    "version": 3
   },
   "file_extension": ".py",
   "mimetype": "text/x-python",
   "name": "python",
   "nbconvert_exporter": "python",
   "pygments_lexer": "ipython3",
   "version": "3.11.4"
  }
 },
 "nbformat": 4,
 "nbformat_minor": 5
}
