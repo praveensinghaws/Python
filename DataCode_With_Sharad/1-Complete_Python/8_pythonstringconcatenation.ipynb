{
 "cells": [
  {
   "cell_type": "markdown",
   "id": "9cb4b1c1-2a52-49fd-a035-98027c7aee18",
   "metadata": {},
   "source": [
    "# Python String Concatenation"
   ]
  },
  {
   "cell_type": "code",
   "execution_count": 1,
   "id": "38ec4730-4652-4a1d-a4f2-f6492692e514",
   "metadata": {},
   "outputs": [
    {
     "name": "stdout",
     "output_type": "stream",
     "text": [
      "My name isPraveen Singh\n"
     ]
    }
   ],
   "source": [
    "# String Concatenation\n",
    "a = \"My name is\"\n",
    "b = \"Praveen Singh\"\n",
    "print(a+b)"
   ]
  },
  {
   "cell_type": "code",
   "execution_count": 2,
   "id": "893dffb3-15cb-487a-a267-011429b9aa6c",
   "metadata": {},
   "outputs": [
    {
     "name": "stdout",
     "output_type": "stream",
     "text": [
      "My name is Praveen Singh\n"
     ]
    }
   ],
   "source": [
    "# String Concatenation with Space between them\n",
    "a = \"My name is\"\n",
    "b = \"Praveen Singh\"\n",
    "print(a+ \" \"+b)"
   ]
  },
  {
   "cell_type": "code",
   "execution_count": null,
   "id": "133ee9f8-ef72-4d1e-9963-487b7214bb8d",
   "metadata": {},
   "outputs": [],
   "source": []
  }
 ],
 "metadata": {
  "kernelspec": {
   "display_name": "Python 3 (ipykernel)",
   "language": "python",
   "name": "python3"
  },
  "language_info": {
   "codemirror_mode": {
    "name": "ipython",
    "version": 3
   },
   "file_extension": ".py",
   "mimetype": "text/x-python",
   "name": "python",
   "nbconvert_exporter": "python",
   "pygments_lexer": "ipython3",
   "version": "3.11.4"
  }
 },
 "nbformat": 4,
 "nbformat_minor": 5
}
