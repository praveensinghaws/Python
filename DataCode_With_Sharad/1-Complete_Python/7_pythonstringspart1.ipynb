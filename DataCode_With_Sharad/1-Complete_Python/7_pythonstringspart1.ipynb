{
 "cells": [
  {
   "cell_type": "markdown",
   "id": "91df0101-29d0-4e88-bf5c-a45ad01de8ee",
   "metadata": {},
   "source": [
    "# Python Strings Part1"
   ]
  },
  {
   "cell_type": "code",
   "execution_count": 1,
   "id": "7286323c-3b65-4246-a32e-cbef1c98d7fd",
   "metadata": {},
   "outputs": [
    {
     "name": "stdout",
     "output_type": "stream",
     "text": [
      "ara\n"
     ]
    }
   ],
   "source": [
    "#Slicing\n",
    "b = \"Sharad Khare\"\n",
    "print(b[2:5])"
   ]
  },
  {
   "cell_type": "code",
   "execution_count": 2,
   "id": "d14b2029-7b87-41de-8f8b-b325945e9ec2",
   "metadata": {},
   "outputs": [
    {
     "name": "stdout",
     "output_type": "stream",
     "text": [
      "shara\n"
     ]
    }
   ],
   "source": [
    "#Slice from the start\n",
    "b = \"sharad khare\"\n",
    "print(b[:5])"
   ]
  },
  {
   "cell_type": "code",
   "execution_count": 3,
   "id": "1f74a03b-0a55-4ef3-ad55-7f9ec93b7ae2",
   "metadata": {},
   "outputs": [
    {
     "name": "stdout",
     "output_type": "stream",
     "text": [
      "d khare\n"
     ]
    }
   ],
   "source": [
    "#Slice from the End\n",
    "b = \"sharad khare\"\n",
    "print(b[5:])\n"
   ]
  },
  {
   "cell_type": "code",
   "execution_count": 4,
   "id": "bfbef3cf-82c2-41f4-a319-503f923dd2e9",
   "metadata": {},
   "outputs": [
    {
     "name": "stdout",
     "output_type": "stream",
     "text": [
      "orl\n"
     ]
    }
   ],
   "source": [
    "#negative Indexing\n",
    "b = \"hello world!\"\n",
    "print(b[-5:-2])"
   ]
  }
 ],
 "metadata": {
  "kernelspec": {
   "display_name": "Python 3 (ipykernel)",
   "language": "python",
   "name": "python3"
  },
  "language_info": {
   "codemirror_mode": {
    "name": "ipython",
    "version": 3
   },
   "file_extension": ".py",
   "mimetype": "text/x-python",
   "name": "python",
   "nbconvert_exporter": "python",
   "pygments_lexer": "ipython3",
   "version": "3.11.4"
  }
 },
 "nbformat": 4,
 "nbformat_minor": 5
}
