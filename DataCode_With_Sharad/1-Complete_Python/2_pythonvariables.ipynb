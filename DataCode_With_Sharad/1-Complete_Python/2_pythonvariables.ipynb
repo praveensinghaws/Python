{
 "cells": [
  {
   "cell_type": "markdown",
   "id": "e00b91cf-b940-49b6-bc53-de6b6b8b9b51",
   "metadata": {},
   "source": [
    "## Lecture:2 Python Variables"
   ]
  },
  {
   "cell_type": "code",
   "execution_count": 1,
   "id": "eab0a0dd-0d6c-427f-94ca-8c0a638f73a4",
   "metadata": {},
   "outputs": [
    {
     "name": "stdout",
     "output_type": "stream",
     "text": [
      "It's Integer : 5\n",
      "It's a String : Praveen Singh\n"
     ]
    }
   ],
   "source": [
    "# Assign variable:\n",
    "\n",
    "x = 5  # \" Assigning an integer value\"\n",
    "y = \"Praveen Singh\"  # \" Assigning a string value\"\n",
    "\n",
    "print(\"It's Integer :\",x)\n",
    "print(\"It's a String :\",y)"
   ]
  },
  {
   "cell_type": "code",
   "execution_count": 2,
   "id": "8a2d7a35-021d-46ea-b74d-8020f9994e17",
   "metadata": {},
   "outputs": [
    {
     "name": "stdout",
     "output_type": "stream",
     "text": [
      "x will be '6' : 6\n",
      "y will be 6 : 6\n",
      "z will be 6.0 : 6.0\n"
     ]
    }
   ],
   "source": [
    "# Storing Number as different types:\n",
    "x=str(6) # x will be \"6\"\n",
    "y=int(6)    # y will be 6\n",
    "z=float(6) #z will be 6.0\n",
    "print(\"x will be '6' :\",x)\n",
    "print(\"y will be 6 :\",y)\n",
    "print(\"z will be 6.0 :\",z)"
   ]
  },
  {
   "cell_type": "code",
   "execution_count": 3,
   "id": "39c7bd95-79af-4503-a5d1-e93e04e6ba23",
   "metadata": {},
   "outputs": [
    {
     "name": "stdout",
     "output_type": "stream",
     "text": [
      "Type of 'x' : <class 'int'>\n",
      "Type of 'y' : <class 'str'>\n"
     ]
    }
   ],
   "source": [
    "#Get the Type :\n",
    "x = 5\n",
    "y = \"Sharad\"\n",
    "print(\"Type of 'x' :\",type(x))\n",
    "print(\"Type of 'y' :\",type(y))\n"
   ]
  },
  {
   "cell_type": "code",
   "execution_count": 4,
   "id": "f22984fe-1582-43ca-9e7b-0a0e72a90a6c",
   "metadata": {},
   "outputs": [
    {
     "name": "stdout",
     "output_type": "stream",
     "text": [
      "sharad\n",
      "five is greater then two\n"
     ]
    }
   ],
   "source": [
    "x=10\n",
    "x=\"sharad\"  # will replace value \"sharad insted of 10\"\n",
    "print(x)\n",
    "\n",
    "# If statement for indentation Before print statement:\n",
    "if 5>2:\n",
    "    print(\"five is greater then two\")"
   ]
  },
  {
   "cell_type": "code",
   "execution_count": 5,
   "id": "8b15bde5-944b-4bd3-a73c-e558278c90e1",
   "metadata": {},
   "outputs": [
    {
     "name": "stdout",
     "output_type": "stream",
     "text": [
      "sharad\n",
      "sharad\n",
      "sharad\n",
      "sharad\n",
      "sharad\n",
      "sharad\n",
      "sharad\n"
     ]
    }
   ],
   "source": [
    "# Legal Variables Name you should learn.\n",
    "myvar = \"sharad\"\n",
    "my_var = \"sharad\"\n",
    "_myvar= \"sharad\"\n",
    "_my_var=\"sharad\"\n",
    "MYVAR=\"sharad\"\n",
    "myVar=\"sharad\"\n",
    "myvar_2=\"sharad\"\n",
    "print(myvar)\n",
    "print(my_var)\n",
    "print(_myvar)\n",
    "print(_my_var)\n",
    "print(MYVAR)\n",
    "print(myvar)\n",
    "print(myvar_2)"
   ]
  },
  {
   "cell_type": "code",
   "execution_count": 6,
   "id": "60ebcdcb-cc6a-4924-9c51-a746b3c4e55a",
   "metadata": {},
   "outputs": [
    {
     "data": {
      "text/plain": [
       "'2myvar= \"sharad\"\\nmy-var=\"sharad\"\\nmy var=\"sharad\"\\n'"
      ]
     },
     "execution_count": 6,
     "metadata": {},
     "output_type": "execute_result"
    }
   ],
   "source": [
    "# Not Legal Variables name\n",
    "'''2myvar= \"sharad\"\n",
    "my-var=\"sharad\"\n",
    "my var=\"sharad\"\n",
    "'''"
   ]
  },
  {
   "cell_type": "markdown",
   "id": "b9bcaed8-b4f2-41e4-8aaf-2a339df0be54",
   "metadata": {},
   "source": [
    "#### Thanks"
   ]
  }
 ],
 "metadata": {
  "kernelspec": {
   "display_name": "Python 3 (ipykernel)",
   "language": "python",
   "name": "python3"
  },
  "language_info": {
   "codemirror_mode": {
    "name": "ipython",
    "version": 3
   },
   "file_extension": ".py",
   "mimetype": "text/x-python",
   "name": "python",
   "nbconvert_exporter": "python",
   "pygments_lexer": "ipython3",
   "version": "3.11.6"
  }
 },
 "nbformat": 4,
 "nbformat_minor": 5
}
