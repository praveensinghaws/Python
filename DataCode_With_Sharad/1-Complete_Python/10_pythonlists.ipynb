{
 "cells": [
  {
   "cell_type": "markdown",
   "id": "3d02ccd6-b42e-4d38-a0c1-13794b6aa3c8",
   "metadata": {},
   "source": [
    "# Python lists"
   ]
  },
  {
   "cell_type": "code",
   "execution_count": 1,
   "id": "89db8739-031d-4cfd-ba59-a3ea5e53abaf",
   "metadata": {},
   "outputs": [
    {
     "name": "stdout",
     "output_type": "stream",
     "text": [
      "['apple', 'banana', 'orange']\n"
     ]
    }
   ],
   "source": [
    "from pickle import FALSE, TRUE\n",
    "\n",
    "\n",
    "x = [\"apple\", \"banana\", \"orange\"]\n",
    "print(x)"
   ]
  },
  {
   "cell_type": "code",
   "execution_count": 2,
   "id": "dd3ae8ae-4bd1-4254-b3d4-6d5af145cf33",
   "metadata": {},
   "outputs": [
    {
     "name": "stdout",
     "output_type": "stream",
     "text": [
      "['apple', 'banana', 'orange', 'apple']\n"
     ]
    }
   ],
   "source": [
    "#duplicate values\n",
    "\n",
    "x = [\"apple\", \"banana\", \"orange\", \"apple\"]\n",
    "print(x)"
   ]
  },
  {
   "cell_type": "code",
   "execution_count": 3,
   "id": "de1d40dd-0f13-4a67-a8b7-f1e5d7161fb3",
   "metadata": {},
   "outputs": [
    {
     "name": "stdout",
     "output_type": "stream",
     "text": [
      "No of Items in list x: 3\n"
     ]
    }
   ],
   "source": [
    "#list length\n",
    "x = [\"apple\", \"banana\", \"orange\"]\n",
    "print(\"No of Items in list x:\",len(x))"
   ]
  },
  {
   "cell_type": "code",
   "execution_count": 4,
   "id": "81217f85-08e4-4cf0-a0f3-5aa13a0496d6",
   "metadata": {},
   "outputs": [
    {
     "name": "stdout",
     "output_type": "stream",
     "text": [
      "String ['a', 'b', 'c']\n",
      "Integer [1, 4, 5, 7, 9]\n",
      "Bullion [b'I01\\n', b'I00\\n', b'I01\\n']\n"
     ]
    }
   ],
   "source": [
    "#list items - Data Types can be used in 📃 list\n",
    "\n",
    "x = [\"a\", \"b\", \"c\"]  # String\n",
    "y = [1, 4, 5, 7, 9] # Integer\n",
    "z = [TRUE, FALSE, TRUE] # Bullion\n",
    "\n",
    "print(\"String\",x)\n",
    "print(\"Integer\",y)\n",
    "print(\"Bullion\",z)"
   ]
  },
  {
   "cell_type": "code",
   "execution_count": 5,
   "id": "dcd2d2a5-4cad-4279-93d0-315f3bc5fc48",
   "metadata": {},
   "outputs": [
    {
     "name": "stdout",
     "output_type": "stream",
     "text": [
      "['sharad', 35, True, 50, 'Male']\n"
     ]
    }
   ],
   "source": [
    "# A list with strings, int and boolean\n",
    "x = [\"sharad\", 35, True, 50, \"Male\"]\n",
    "print(x)"
   ]
  },
  {
   "cell_type": "markdown",
   "id": "6aec8b95-8afc-40d0-9ee3-2b48fcab27dc",
   "metadata": {},
   "source": [
    "### data type for Lists\n"
   ]
  },
  {
   "cell_type": "code",
   "execution_count": 6,
   "id": "36f1368e-c769-4526-ab88-aae72c3254f3",
   "metadata": {},
   "outputs": [
    {
     "name": "stdout",
     "output_type": "stream",
     "text": [
      "<class 'list'>\n"
     ]
    }
   ],
   "source": [
    "# A list with strings, int and boolean\n",
    "x = [\"sharad\", 35, True, 50, \"Male\"]\n",
    "print(type(x))"
   ]
  },
  {
   "cell_type": "code",
   "execution_count": 7,
   "id": "bc65f2bb-a011-4193-98b5-df28dfbdabbd",
   "metadata": {},
   "outputs": [
    {
     "name": "stdout",
     "output_type": "stream",
     "text": [
      "['sharad', 50, True, 50, 'Male']\n"
     ]
    }
   ],
   "source": [
    "#the List() constructor \n",
    "x = list((\"sharad\", 50, True, 50, \"Male\"))\n",
    "print(x) # the double round brackets same as square brackets."
   ]
  },
  {
   "cell_type": "markdown",
   "id": "0d966424-69ba-4535-97be-137e89ecf0f3",
   "metadata": {},
   "source": [
    "#### Pythons Collecttions (Arrays)\n",
    "#### 4 types of data types in python :\n",
    "1. List\n",
    "2. Tuple\n",
    "3. Set\n",
    "4. Dictionary"
   ]
  },
  {
   "cell_type": "code",
   "execution_count": 8,
   "id": "b0ae19f9-c582-452a-b692-b901043129ba",
   "metadata": {},
   "outputs": [
    {
     "name": "stdout",
     "output_type": "stream",
     "text": [
      "banana\n"
     ]
    }
   ],
   "source": [
    "# How to Access items.\n",
    "x = [\"apple\", \"banana\", \"orange\"]\n",
    "print(x[1])"
   ]
  },
  {
   "cell_type": "code",
   "execution_count": 9,
   "id": "d9c4b075-88ae-40b4-a27a-4a1299e77880",
   "metadata": {},
   "outputs": [
    {
     "name": "stdout",
     "output_type": "stream",
     "text": [
      "['orange', 'cherry', 'Mango']\n"
     ]
    }
   ],
   "source": [
    "# Range of Indexes\n",
    "x = [\"apple\", \"banana\", \"orange\", \"cherry\", \"Mango\", \"sharad\"]\n",
    "print(x[2:5])"
   ]
  },
  {
   "cell_type": "code",
   "execution_count": 10,
   "id": "a2159c89-6c23-4e5d-a154-3b0b9d2ec530",
   "metadata": {},
   "outputs": [
    {
     "name": "stdout",
     "output_type": "stream",
     "text": [
      "['apple', 'banana', 'orange', 'cherry', 'Mango']\n"
     ]
    }
   ],
   "source": [
    "# Negative Indexing\n",
    "x = [\"apple\", \"banana\", \"orange\", \"cherry\", \"Mango\", \"sharad\"] \n",
    "print(x[-6:-1])"
   ]
  },
  {
   "cell_type": "code",
   "execution_count": 11,
   "id": "142eb416-7e0e-4458-b2fc-518997af6139",
   "metadata": {},
   "outputs": [
    {
     "name": "stdout",
     "output_type": "stream",
     "text": [
      "['apple', 'banana', 'orange', 'cherry']\n"
     ]
    }
   ],
   "source": [
    "# Leaving out the start value\n",
    "x = [\"apple\", \"banana\", \"orange\", \"cherry\", \"Mango\", \"sharad\"]\n",
    "print(x[:4])"
   ]
  },
  {
   "cell_type": "code",
   "execution_count": 12,
   "id": "bb5a3259-7f70-43bf-b3cd-c83ee0addc4f",
   "metadata": {},
   "outputs": [
    {
     "name": "stdout",
     "output_type": "stream",
     "text": [
      "['banana', 'orange', 'cherry', 'Mango', 'sharad']\n"
     ]
    }
   ],
   "source": [
    "# Leaving out the Ending value\n",
    "x = [\"apple\", \"banana\", \"orange\", \"cherry\", \"Mango\", \"sharad\"]\n",
    "print(x[1:])"
   ]
  },
  {
   "cell_type": "code",
   "execution_count": 13,
   "id": "783f1bff-262c-4f24-8ee8-6cd8852ce765",
   "metadata": {},
   "outputs": [
    {
     "name": "stdout",
     "output_type": "stream",
     "text": [
      "Yes, 'apple' is in the List\n"
     ]
    }
   ],
   "source": [
    "# How to Check if the items Exists in List \n",
    "x = [\"apple\", \"banana\", \"orange\", \"cherry\", \"Mango\", \"sharad\"]\n",
    "if \"apple\" in  x:\n",
    "    print(\"Yes, 'apple' is in the List\")"
   ]
  },
  {
   "cell_type": "code",
   "execution_count": 14,
   "id": "176638cc-c2a6-4c69-8995-e1793ebdbe2e",
   "metadata": {},
   "outputs": [
    {
     "name": "stdout",
     "output_type": "stream",
     "text": [
      "['apple', 'Watermelon', 'orange', 'cherry', 'Mango', 'sharad']\n"
     ]
    }
   ],
   "source": [
    "# Change the Item value of List\n",
    "x = [\"apple\", \"banana\", \"orange\", \"cherry\", \"Mango\", \"sharad\"]\n",
    "x[1] = \"Watermelon\"\n",
    "print(x)\n"
   ]
  },
  {
   "cell_type": "code",
   "execution_count": 15,
   "id": "1ed21c69-28c4-45fe-abce-c27fea69735c",
   "metadata": {},
   "outputs": [
    {
     "name": "stdout",
     "output_type": "stream",
     "text": [
      "['apple', 'Watermelon', 'Chiku', 'cherry', 'Mango', 'sharad']\n"
     ]
    }
   ],
   "source": [
    "# Change a Range of Items values in List\n",
    "x = [\"apple\", \"banana\", \"orange\", \"cherry\", \"Mango\", \"sharad\"]\n",
    "x[1:3] = [\"Watermelon\", \"Chiku\"]\n",
    "print(x)"
   ]
  },
  {
   "cell_type": "code",
   "execution_count": 16,
   "id": "efc14bed-4d0a-42bd-be63-e6f149bbd72d",
   "metadata": {},
   "outputs": [
    {
     "name": "stdout",
     "output_type": "stream",
     "text": [
      "['apple', 'Watermelon', 'Nuts', 'orange', 'cherry', 'Mango', 'sharad']\n"
     ]
    }
   ],
   "source": [
    "# Change of one value by replacing it with 2 Values\n",
    "\n",
    "x = [\"apple\", \"banana\", \"orange\", \"cherry\", \"Mango\", \"sharad\"]\n",
    "x[1:2] = [\"Watermelon\", \"Nuts\"]\n",
    "print(x)"
   ]
  },
  {
   "cell_type": "code",
   "execution_count": 17,
   "id": "53f4a317-caa5-46e0-9c64-4c589aad1159",
   "metadata": {},
   "outputs": [
    {
     "name": "stdout",
     "output_type": "stream",
     "text": [
      "['apple', 'watermelon', 'cherry', 'Mango', 'sharad']\n"
     ]
    }
   ],
   "source": [
    "# Change of 2 values by replacing it with 1 value\n",
    "x = [\"apple\", \"banana\", \"orange\", \"cherry\", \"Mango\", \"sharad\"]\n",
    "x[1:3] = [\"watermelon\"]\n",
    "print(x)"
   ]
  },
  {
   "cell_type": "code",
   "execution_count": null,
   "id": "75336e2c-172d-4ff0-bd71-978ecc0fdb5f",
   "metadata": {},
   "outputs": [],
   "source": []
  }
 ],
 "metadata": {
  "kernelspec": {
   "display_name": "Python 3 (ipykernel)",
   "language": "python",
   "name": "python3"
  },
  "language_info": {
   "codemirror_mode": {
    "name": "ipython",
    "version": 3
   },
   "file_extension": ".py",
   "mimetype": "text/x-python",
   "name": "python",
   "nbconvert_exporter": "python",
   "pygments_lexer": "ipython3",
   "version": "3.11.4"
  }
 },
 "nbformat": 4,
 "nbformat_minor": 5
}
