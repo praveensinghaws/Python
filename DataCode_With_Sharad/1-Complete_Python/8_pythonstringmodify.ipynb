{
 "cells": [
  {
   "cell_type": "markdown",
   "id": "43021913-4e10-42ab-bcff-e9c398bc9e52",
   "metadata": {},
   "source": [
    "# Python String Modify"
   ]
  },
  {
   "cell_type": "code",
   "execution_count": 1,
   "id": "2db8a20b-effd-4765-8521-6f5f06e3de6d",
   "metadata": {},
   "outputs": [
    {
     "name": "stdout",
     "output_type": "stream",
     "text": [
      "SHARAD KHARE IS BAD BOY\n"
     ]
    }
   ],
   "source": [
    "#uppercase\n",
    "a =\"sharad khare is bad boy\"\n",
    "print(a.upper())\n"
   ]
  },
  {
   "cell_type": "code",
   "execution_count": 2,
   "id": "3c3d0ff4-a480-4a03-8ed4-da097183c697",
   "metadata": {},
   "outputs": [
    {
     "name": "stdout",
     "output_type": "stream",
     "text": [
      "sharad khare is bad boy\n"
     ]
    }
   ],
   "source": [
    "#lowercase\n",
    "a = \"SHARAD KHARE IS BAD BOY\"\n",
    "print(a.lower())"
   ]
  },
  {
   "cell_type": "code",
   "execution_count": 3,
   "id": "75e6fcd7-53d0-4b66-9da2-b6880cd00598",
   "metadata": {},
   "outputs": [
    {
     "name": "stdout",
     "output_type": "stream",
     "text": [
      "Sharad, Khare\n"
     ]
    }
   ],
   "source": [
    "#removing WhiteSpace\n",
    "a = \" Sharad, Khare \"\n",
    "print(a.strip())"
   ]
  },
  {
   "cell_type": "code",
   "execution_count": 4,
   "id": "13b06c13-5b22-49d9-9559-4c20499f6eda",
   "metadata": {},
   "outputs": [
    {
     "name": "stdout",
     "output_type": "stream",
     "text": [
      "bhai is my tutorial\n"
     ]
    }
   ],
   "source": [
    "#Replace String\n",
    "a= \"this is my tutorial\"\n",
    "print(a.replace(\"this\", \"bhai\"))"
   ]
  },
  {
   "cell_type": "code",
   "execution_count": 5,
   "id": "80fa2c2e-2d18-4166-bed1-44606e141903",
   "metadata": {},
   "outputs": [
    {
     "name": "stdout",
     "output_type": "stream",
     "text": [
      "['Sharad', ' Khare']\n"
     ]
    }
   ],
   "source": [
    "#Split String\n",
    "a = \"Sharad, Khare\"\n",
    "b= a.split(\",\")\n",
    "print(b)"
   ]
  },
  {
   "cell_type": "code",
   "execution_count": null,
   "id": "e32979e9-ea19-4ed4-a555-c635dfce5831",
   "metadata": {},
   "outputs": [],
   "source": []
  }
 ],
 "metadata": {
  "kernelspec": {
   "display_name": "Python 3 (ipykernel)",
   "language": "python",
   "name": "python3"
  },
  "language_info": {
   "codemirror_mode": {
    "name": "ipython",
    "version": 3
   },
   "file_extension": ".py",
   "mimetype": "text/x-python",
   "name": "python",
   "nbconvert_exporter": "python",
   "pygments_lexer": "ipython3",
   "version": "3.11.4"
  }
 },
 "nbformat": 4,
 "nbformat_minor": 5
}
