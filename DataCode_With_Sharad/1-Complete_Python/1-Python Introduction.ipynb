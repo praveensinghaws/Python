{
 "cells": [
  {
   "cell_type": "markdown",
   "id": "bd05f6be-3cc1-4ec3-a541-27984ba79243",
   "metadata": {},
   "source": [
    "# 1. Python Introduction"
   ]
  },
  {
   "cell_type": "markdown",
   "id": "6a4b0921-2076-4c01-a993-4f5806064d16",
   "metadata": {
    "jp-MarkdownHeadingCollapsed": true
   },
   "source": [
    "### What is Python \n",
    "\n",
    "Python is a popular programming language. It was created by. Guido, Van Rossum, and released in 1991. It is used for?\n",
    "*  web developmentserver side\n",
    "*  software development \n",
    "*  mathematics\n",
    "*  system scripting"
   ]
  },
  {
   "cell_type": "markdown",
   "id": "1a76de68-f57d-4612-a1e9-2d2ea5f57bf8",
   "metadata": {},
   "source": [
    "### What Can Python Do?\n",
    "\n",
    "* Python can be used on a server to create web applications.\n",
    "* Python can be used. alongside Software to create workflows.\n",
    "* Python can connect to database systems. It can also read and modify files.\n",
    "* Python can be used to handle big data and perform complex mathematics.\n",
    "* Python can be used for? rapid prototyping or for  production-ready Software development."
   ]
  },
  {
   "cell_type": "markdown",
   "id": "378e7039-7ab5-4190-8b47-cd270827d91f",
   "metadata": {},
   "source": [
    "### Why Python ?\n",
    "\n",
    "*  Python works on different platforms windows mac Linux raspberry ios etc.\n",
    "*  Python has a simple syntax similar to the English language\n",
    "*  Python has syntax that allows developers to write programmes with fewer programming languages    lines then some other.\n",
    "*  Python runs on interpreter system meaning that code can be executed as soon as it is written This means that prototyping can be  very quick.\n",
    "*  Python can be treated in a procedural way on object oriented way or a functional way good to know\n",
    "*  The most recent major version of python is python 3 which we shall be using in this tutorial However, python 2 although not being updated with anything other than security updates it is Quite popular.\n",
    "####  Python syntax compared to other programming languages\n",
    "*  Python was designed for readability and has some similarity to the English language with influence from mathematics.\n",
    "*  Python uses new lines to complete a command as opposed to other programming languages which often use semicolons or parenthesis.\n",
    "*  Python relies on Indentation using white spaces to define scope such as the scope of the loop functions and classes Other programming languages often use curly-brackets for this purpose.\n",
    "####  Example: print(\"Hello world!\")\n",
    "  Hello world\n",
    "\n"
   ]
  },
  {
   "cell_type": "markdown",
   "id": "24937e3d-d8a5-4c09-a30f-9d078b4dc32f",
   "metadata": {},
   "source": [
    "#### Thanks"
   ]
  }
 ],
 "metadata": {
  "kernelspec": {
   "display_name": "Python 3 (ipykernel)",
   "language": "python",
   "name": "python3"
  },
  "language_info": {
   "codemirror_mode": {
    "name": "ipython",
    "version": 3
   },
   "file_extension": ".py",
   "mimetype": "text/x-python",
   "name": "python",
   "nbconvert_exporter": "python",
   "pygments_lexer": "ipython3",
   "version": "3.11.6"
  }
 },
 "nbformat": 4,
 "nbformat_minor": 5
}
