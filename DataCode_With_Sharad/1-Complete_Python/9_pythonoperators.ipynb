{
 "cells": [
  {
   "cell_type": "markdown",
   "id": "8405ad75-e616-4cdd-b11b-f7c2bb525e3d",
   "metadata": {},
   "source": [
    "# Pyhon Operators\n",
    "\n",
    "* Arithmetic Operators\n",
    "* Assignment operators\n",
    "* Comparison Operators\n",
    "* Logical Operators\n",
    "* Identity Operators\n",
    "* Membership Operators\n",
    "* Bitwise Operators\n"
   ]
  },
  {
   "cell_type": "code",
   "execution_count": 1,
   "id": "9e1eaeb4-94cf-4cc8-9227-85b4dcbd55d8",
   "metadata": {},
   "outputs": [
    {
     "name": "stdout",
     "output_type": "stream",
     "text": [
      "addition (+) : 15\n",
      "subtraction (-) : 5\n",
      "multiplication (*) : 50\n",
      "division (/) : 2.0\n",
      "Modulus (%) : 0\n",
      "Exponentiation (** :) 100000\n",
      "Floor division (//) : 2\n"
     ]
    }
   ],
   "source": [
    "#### Arithmetic Operators\n",
    "x =10\n",
    "y = 5\n",
    "print(\"addition (+) :\",x + y)\n",
    "\n",
    "x =10\n",
    "y = 5\n",
    "print(\"subtraction (-) :\",x - y)\n",
    "\n",
    "x =10\n",
    "y = 5\n",
    "print(\"multiplication (*) :\" ,x * y)\n",
    "\n",
    "x =10\n",
    "y = 5\n",
    "print(\"division (/) :\",x / y)\n",
    "\n",
    "x =10\n",
    "y = 5\n",
    "print(\"Modulus (%) :\",x % y)\n",
    "\n",
    "\n",
    "x =10\n",
    "y = 5\n",
    "print(\"Exponentiation (** :)\",x ** y)\n",
    "\n",
    "\n",
    "x =10\n",
    "y = 5\n",
    "print(\"Floor division (//) :\",x // y)"
   ]
  },
  {
   "cell_type": "code",
   "execution_count": 2,
   "id": "d79e088e-921f-4546-9db6-88f1bf78b708",
   "metadata": {},
   "outputs": [
    {
     "name": "stdout",
     "output_type": "stream",
     "text": [
      "9\n"
     ]
    }
   ],
   "source": [
    "# Assignment operators\n",
    "# x=5\n",
    "# x=x+5 same as x+=5\n",
    "# x=x-3 same as x-=3\n",
    "# x=x*3 same as x*=3\n",
    "# x=x/3 same as x/=3\n",
    "# x=x%3 same as x%=3\n",
    "# x=x**3 same as x**=3\n",
    "\n",
    "x = 4\n",
    "x+=5\n",
    "print(x)\n",
    "\n"
   ]
  },
  {
   "cell_type": "code",
   "execution_count": 3,
   "id": "0e262825-0655-45ff-b09c-728901c4683a",
   "metadata": {},
   "outputs": [
    {
     "name": "stdout",
     "output_type": "stream",
     "text": [
      "x equals to y ? False\n"
     ]
    }
   ],
   "source": [
    "# Comparison Operators\n",
    "\n",
    "x = 5\n",
    "y = 3\n",
    "print(\"x equals to y ?\",x == y)"
   ]
  },
  {
   "cell_type": "code",
   "execution_count": 4,
   "id": "0a8aa33c-01d3-4ed7-a245-fd2bd854934c",
   "metadata": {},
   "outputs": [
    {
     "name": "stdout",
     "output_type": "stream",
     "text": [
      "x not equals  y ? True\n"
     ]
    }
   ],
   "source": [
    "x = 5\n",
    "y = 3\n",
    "print(\"x not equals  y ?\",x != y)"
   ]
  },
  {
   "cell_type": "code",
   "execution_count": 5,
   "id": "39b68703-e194-487d-9547-b6cb21863b50",
   "metadata": {},
   "outputs": [
    {
     "name": "stdout",
     "output_type": "stream",
     "text": [
      "x is greater than y ? True\n"
     ]
    }
   ],
   "source": [
    "x = 5\n",
    "y = 3\n",
    "print(\"x is greater than y ?\",x > y)"
   ]
  },
  {
   "cell_type": "code",
   "execution_count": 6,
   "id": "67bd8427-0310-43cb-a23f-03601ab716a0",
   "metadata": {},
   "outputs": [
    {
     "name": "stdout",
     "output_type": "stream",
     "text": [
      "x is less than y ? False\n"
     ]
    }
   ],
   "source": [
    "x = 5\n",
    "y = 3\n",
    "print(\"x is less than y ?\",x < y)"
   ]
  },
  {
   "cell_type": "code",
   "execution_count": 7,
   "id": "c9b85c56-1e04-4685-a242-009538badacd",
   "metadata": {},
   "outputs": [
    {
     "name": "stdout",
     "output_type": "stream",
     "text": [
      "x is greater than equal  y ? True\n"
     ]
    }
   ],
   "source": [
    "x = 5\n",
    "y = 3\n",
    "print(\"x is greater than equal  y ?\",x >= y)"
   ]
  },
  {
   "cell_type": "code",
   "execution_count": 8,
   "id": "09e3023e-c029-4d26-9a0b-4fd9f655a39f",
   "metadata": {},
   "outputs": [
    {
     "name": "stdout",
     "output_type": "stream",
     "text": [
      "x is less than equal  y ? False\n"
     ]
    }
   ],
   "source": [
    "x = 5\n",
    "y = 3\n",
    "print(\"x is less than equal  y ?\",x <= y)"
   ]
  },
  {
   "cell_type": "code",
   "execution_count": 9,
   "id": "1869191c-f566-4316-8a07-f1f50164c7d0",
   "metadata": {},
   "outputs": [
    {
     "name": "stdout",
     "output_type": "stream",
     "text": [
      "(x>3 and x<10) True\n",
      "(x>3 or x<4) True\n",
      "(not(x>3 and x<10)) False\n"
     ]
    }
   ],
   "source": [
    "# Logical Operators\n",
    "x = 5  \n",
    "print(\"(x>3 and x<10)\",x>3 and x<10)  # AND operator\n",
    "\n",
    "\n",
    "x = 5\n",
    "print(\"(x>3 or x<4)\",x>3 or x<4)  # OR operator\n",
    "\n",
    "\n",
    "x = 5\n",
    "print(\"(not(x>3 and x<10))\",not(x>3 and x<10))  # NOT operator\n"
   ]
  },
  {
   "cell_type": "code",
   "execution_count": 10,
   "id": "862db36a-5ddf-47ea-b7ac-3b4631d67d0a",
   "metadata": {},
   "outputs": [
    {
     "name": "stdout",
     "output_type": "stream",
     "text": [
      "(x is z) True\n",
      "print(x is y) False\n",
      "(x == y) True\n"
     ]
    }
   ],
   "source": [
    "# Identity Operators\n",
    "x = [\"sharad\", \"khare\"]\n",
    "y = [\"sharad\", \"khare\"]\n",
    "z = x\n",
    "\n",
    "print(\"(x is z)\",x is z) # returns true because z is the same object as x.\n",
    "\n",
    "print(\"print(x is y)\",x is y)\n",
    "#return false because x is not the same object as y even if they have the same content.\n",
    "\n",
    "print(\"(x == y)\",x == y)\n",
    "# to demonstrate the difference between \"is\" and \"==\" . this comparison returns True because x is equal to y. "
   ]
  },
  {
   "cell_type": "code",
   "execution_count": 12,
   "id": "0f7242d8-be5e-4d76-9250-fb8c54b44e66",
   "metadata": {},
   "outputs": [
    {
     "name": "stdout",
     "output_type": "stream",
     "text": [
      "(\"banana\" in x) True\n",
      "(\"basdsfd\" in x) False\n",
      "(\"pineapple\" not in x) True\n",
      "(\"banana\" not in x) False\n"
     ]
    }
   ],
   "source": [
    "# membership Operators its equals to find and replace\n",
    "\n",
    "x = [\"apple\" , \"banana\", \"laddu\", \"peda\"]\n",
    "print('(\"banana\" in x)',\"banana\" in x)\n",
    "\n",
    "x = [\"apple\" , \"banana\", \"laddu\", \"peda\"]\n",
    "print('(\"basdsfd\" in x)',\"basdsfd\" in x)\n",
    "\n",
    "x = [\"apple\" , \"banana\", \"laddu\", \"peda\"]\n",
    "print('(\"pineapple\" not in x)',\"pineapple\" not in x)\n",
    "\n",
    "x = [\"apple\" , \"banana\", \"laddu\", \"peda\"]\n",
    "print('(\"banana\" not in x)',\"banana\" not in x)\n"
   ]
  },
  {
   "cell_type": "code",
   "execution_count": null,
   "id": "a5cc60e1-8bab-447f-b702-a67b35ff895b",
   "metadata": {},
   "outputs": [],
   "source": []
  }
 ],
 "metadata": {
  "kernelspec": {
   "display_name": "Python 3 (ipykernel)",
   "language": "python",
   "name": "python3"
  },
  "language_info": {
   "codemirror_mode": {
    "name": "ipython",
    "version": 3
   },
   "file_extension": ".py",
   "mimetype": "text/x-python",
   "name": "python",
   "nbconvert_exporter": "python",
   "pygments_lexer": "ipython3",
   "version": "3.11.4"
  }
 },
 "nbformat": 4,
 "nbformat_minor": 5
}
