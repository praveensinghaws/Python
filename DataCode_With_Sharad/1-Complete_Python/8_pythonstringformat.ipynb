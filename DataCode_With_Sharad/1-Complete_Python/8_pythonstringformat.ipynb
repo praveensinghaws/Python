{
 "cells": [
  {
   "cell_type": "markdown",
   "id": "bbc69fda-e3a8-4962-8cc1-6a3ffd058312",
   "metadata": {},
   "source": [
    "# Python string format"
   ]
  },
  {
   "cell_type": "code",
   "execution_count": 1,
   "id": "aaa36ee7-d4f1-4aa2-95ff-3f344f851df0",
   "metadata": {},
   "outputs": [
    {
     "ename": "SyntaxError",
     "evalue": "unterminated string literal (detected at line 5) (2168747697.py, line 5)",
     "output_type": "error",
     "traceback": [
      "\u001b[0;36m  Cell \u001b[0;32mIn[1], line 5\u001b[0;36m\u001b[0m\n\u001b[0;31m    print(txt)'\u001b[0m\n\u001b[0m              ^\u001b[0m\n\u001b[0;31mSyntaxError\u001b[0m\u001b[0;31m:\u001b[0m unterminated string literal (detected at line 5)\n"
     ]
    }
   ],
   "source": [
    "#wrong method (Dont do it)\n",
    "\n",
    "age = 50\n",
    "txt = \"My age is \" + age\n",
    "print(txt)'"
   ]
  },
  {
   "cell_type": "code",
   "execution_count": 2,
   "id": "66eb1917-d31b-49cf-9edd-d06cc25146bd",
   "metadata": {},
   "outputs": [
    {
     "name": "stdout",
     "output_type": "stream",
     "text": [
      "My age is 50\n"
     ]
    }
   ],
   "source": [
    "#use format method for concatenation\n",
    "age = 50\n",
    "txt = \"My age is {}\"\n",
    "print(txt.format(age))"
   ]
  },
  {
   "cell_type": "code",
   "execution_count": 3,
   "id": "24b3ced0-ef36-4cd8-a4fb-d6edfb1d8141",
   "metadata": {},
   "outputs": [
    {
     "name": "stdout",
     "output_type": "stream",
     "text": [
      "I want 3 pieces of item number 567 for price 49.95 Rupees.\n"
     ]
    }
   ],
   "source": [
    "#format unlimited arguments\n",
    "qty = 3\n",
    "itemno = 567\n",
    "price = 49.95\n",
    "myorder = \"I want {} pieces of item number {} for price {} Rupees.\"\n",
    "print(myorder.format(qty, itemno, price))"
   ]
  },
  {
   "cell_type": "code",
   "execution_count": 4,
   "id": "7a33b01b-ff37-477d-8532-ea87204ab146",
   "metadata": {},
   "outputs": [
    {
     "name": "stdout",
     "output_type": "stream",
     "text": [
      "I want pay 49.95 Rupees for 3 pieces of item number 567.\n"
     ]
    }
   ],
   "source": [
    "#format unlimited arguments with Indexing\n",
    "\n",
    "qty = 3\n",
    "itemno = 567\n",
    "price = 49.95\n",
    "myorder = \"I want pay {2} Rupees for {0} pieces of item number {1}.\"\n",
    "print(myorder.format(qty, itemno, price))"
   ]
  }
 ],
 "metadata": {
  "kernelspec": {
   "display_name": "Python 3 (ipykernel)",
   "language": "python",
   "name": "python3"
  },
  "language_info": {
   "codemirror_mode": {
    "name": "ipython",
    "version": 3
   },
   "file_extension": ".py",
   "mimetype": "text/x-python",
   "name": "python",
   "nbconvert_exporter": "python",
   "pygments_lexer": "ipython3",
   "version": "3.11.4"
  }
 },
 "nbformat": 4,
 "nbformat_minor": 5
}
