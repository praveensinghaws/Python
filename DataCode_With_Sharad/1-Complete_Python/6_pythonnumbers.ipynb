{
 "cells": [
  {
   "cell_type": "markdown",
   "id": "f52f92af-1c33-41b6-9c56-ab79c8e632ef",
   "metadata": {},
   "source": [
    "# 6.Python Numbers"
   ]
  },
  {
   "cell_type": "code",
   "execution_count": 1,
   "id": "3d200f2b-0c4d-4db8-8437-04e13ea14660",
   "metadata": {},
   "outputs": [
    {
     "name": "stdout",
     "output_type": "stream",
     "text": [
      "<class 'int'>\n",
      "<class 'float'>\n",
      "<class 'complex'>\n"
     ]
    }
   ],
   "source": [
    "# Printing Datatypes\n",
    "x = 1\n",
    "y = 2.9\n",
    "z = 1j\n",
    "print(type(x))\n",
    "print(type(y))\n",
    "print(type(z))"
   ]
  },
  {
   "cell_type": "code",
   "execution_count": 2,
   "id": "322c8d71-52c1-4268-9548-f8a364174164",
   "metadata": {},
   "outputs": [
    {
     "name": "stdout",
     "output_type": "stream",
     "text": [
      "<class 'int'>\n",
      "<class 'int'>\n",
      "<class 'int'>\n"
     ]
    }
   ],
   "source": [
    "#  int numeric type\n",
    "x = 1\n",
    "y = 846587468756486\n",
    "z = -78687687\n",
    "print(type(x))\n",
    "print(type(y))\n",
    "print(type(z))"
   ]
  },
  {
   "cell_type": "code",
   "execution_count": 3,
   "id": "b74819b1-b233-428d-9e21-3eaa59eb6fd9",
   "metadata": {},
   "outputs": [
    {
     "name": "stdout",
     "output_type": "stream",
     "text": [
      "<class 'float'>\n",
      "<class 'float'>\n",
      "<class 'float'>\n"
     ]
    }
   ],
   "source": [
    "# float or floating point number data type\n",
    "x = 1.0\n",
    "y = 1.10\n",
    "z = -1.0\n",
    "\n",
    "print(type(x))\n",
    "print(type(y))\n",
    "print(type(z))"
   ]
  },
  {
   "cell_type": "code",
   "execution_count": 4,
   "id": "6f85edc7-1281-481c-849f-c36cdaf33525",
   "metadata": {},
   "outputs": [
    {
     "name": "stdout",
     "output_type": "stream",
     "text": [
      "<class 'float'>\n",
      "<class 'float'>\n",
      "<class 'float'>\n",
      "25000.0\n",
      "120000.0\n",
      "-8.77e+156\n"
     ]
    }
   ],
   "source": [
    "# float can also be scientific numbers with an \"e\" or \"E\" = power of 10\n",
    "\n",
    "x = 25e3\n",
    "y = 12E4\n",
    "z = -87.7e155\n",
    "print(type(x))\n",
    "print(type(y))\n",
    "print(type(z))\n",
    "\n",
    "print(x)\n",
    "print(y)\n",
    "print(z)"
   ]
  },
  {
   "cell_type": "code",
   "execution_count": 5,
   "id": "77a22e18-7e54-4775-a5a0-2dd50d382946",
   "metadata": {},
   "outputs": [
    {
     "name": "stdout",
     "output_type": "stream",
     "text": [
      "<class 'complex'>\n",
      "<class 'complex'>\n",
      "<class 'complex'>\n",
      "(3+5j)\n",
      "7j\n",
      "(-0-8j)\n"
     ]
    }
   ],
   "source": [
    "# complex numbers are written with a \"j\" as the imaginary part.\n",
    "x = 3+5j\n",
    "y = 7j\n",
    "z = -8j\n",
    "print(type(x))\n",
    "print(type(y))\n",
    "print(type(z))\n",
    "\n",
    "print(x)\n",
    "print(y)\n",
    "print(z)"
   ]
  },
  {
   "cell_type": "code",
   "execution_count": 6,
   "id": "1c0a925d-4ff4-4c9b-b898-bdd973dfa21e",
   "metadata": {},
   "outputs": [],
   "source": [
    "#Type Conversion \n",
    "# Inputs are below\n",
    "x = 1\n",
    "y = 2.8\n",
    "z = 1j"
   ]
  },
  {
   "cell_type": "code",
   "execution_count": 7,
   "id": "a2736ed3-57ce-44a4-980e-3c567ac48222",
   "metadata": {},
   "outputs": [
    {
     "name": "stdout",
     "output_type": "stream",
     "text": [
      "1.0\n",
      "<class 'float'>\n"
     ]
    }
   ],
   "source": [
    "# convert from int to float\n",
    "a = float(x)\n",
    "print(a)\n",
    "print(type(a))"
   ]
  },
  {
   "cell_type": "code",
   "execution_count": 8,
   "id": "ef39993d-eb2b-4bf4-a932-e4e31f46135c",
   "metadata": {},
   "outputs": [
    {
     "name": "stdout",
     "output_type": "stream",
     "text": [
      "2\n",
      "<class 'int'>\n"
     ]
    }
   ],
   "source": [
    "# convert from float to int\n",
    "b = int(y)\n",
    "print(b)\n",
    "print(type(b))"
   ]
  },
  {
   "cell_type": "code",
   "execution_count": 9,
   "id": "d69ec9a6-a771-460b-87dc-eebc9141b454",
   "metadata": {},
   "outputs": [
    {
     "name": "stdout",
     "output_type": "stream",
     "text": [
      "(1+0j)\n",
      "<class 'complex'>\n"
     ]
    }
   ],
   "source": [
    "# convert from int to complex\n",
    "c = complex(x)\n",
    "print(c)\n",
    "print(type(c))"
   ]
  },
  {
   "cell_type": "code",
   "execution_count": 10,
   "id": "876f3581-6dc7-4b83-9a43-e766c4acfbda",
   "metadata": {},
   "outputs": [
    {
     "name": "stdout",
     "output_type": "stream",
     "text": [
      "3\n"
     ]
    }
   ],
   "source": [
    "# Random Number\n",
    "import random \n",
    "print(random.randrange(1,10))"
   ]
  },
  {
   "cell_type": "markdown",
   "id": "7373ce2b-33e0-4407-a25f-51889ce33493",
   "metadata": {},
   "source": [
    "#### Thanks"
   ]
  }
 ],
 "metadata": {
  "kernelspec": {
   "display_name": "Python 3 (ipykernel)",
   "language": "python",
   "name": "python3"
  },
  "language_info": {
   "codemirror_mode": {
    "name": "ipython",
    "version": 3
   },
   "file_extension": ".py",
   "mimetype": "text/x-python",
   "name": "python",
   "nbconvert_exporter": "python",
   "pygments_lexer": "ipython3",
   "version": "3.11.6"
  }
 },
 "nbformat": 4,
 "nbformat_minor": 5
}
