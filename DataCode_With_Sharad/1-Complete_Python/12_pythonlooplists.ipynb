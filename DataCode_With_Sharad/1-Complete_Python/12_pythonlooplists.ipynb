{
 "cells": [
  {
   "cell_type": "markdown",
   "id": "48069ead-cfa0-461c-8411-f3f03ea8dbce",
   "metadata": {},
   "source": [
    "# Python loop lists"
   ]
  },
  {
   "cell_type": "code",
   "execution_count": 1,
   "id": "b953a366-eb3b-45ec-b7d7-87124da03fbe",
   "metadata": {},
   "outputs": [
    {
     "name": "stdout",
     "output_type": "stream",
     "text": [
      "Praveen\n",
      "banana\n",
      "orange\n"
     ]
    }
   ],
   "source": [
    "# loop through list\n",
    "\n",
    "list = [\"Praveen\", \"banana\", \"orange\"]\n",
    "for i in list:\n",
    "    print(i)"
   ]
  },
  {
   "cell_type": "code",
   "execution_count": 2,
   "id": "a3d2aa4d-5053-4e11-a1ff-2bb6854d9936",
   "metadata": {},
   "outputs": [
    {
     "name": "stdout",
     "output_type": "stream",
     "text": [
      "KP\n",
      "banana\n",
      "orange\n",
      "Shivam\n"
     ]
    }
   ],
   "source": [
    "# Loop through the index number\n",
    "list = [\"KP\", \"banana\", \"orange\" ,\"Shivam\"]\n",
    "for i in range(len(list)):\n",
    "    print(list[i])"
   ]
  },
  {
   "cell_type": "code",
   "execution_count": 3,
   "id": "8671d2f7-6d8c-4860-a723-001da6084c09",
   "metadata": {},
   "outputs": [
    {
     "name": "stdout",
     "output_type": "stream",
     "text": [
      "4\n"
     ]
    }
   ],
   "source": [
    "print(len(list))"
   ]
  },
  {
   "cell_type": "code",
   "execution_count": 4,
   "id": "f3a2fb9e-7916-4a16-82e7-6cbca73b273f",
   "metadata": {},
   "outputs": [
    {
     "name": "stdout",
     "output_type": "stream",
     "text": [
      "KP\n",
      "banana\n",
      "orange\n",
      "Shivam\n"
     ]
    }
   ],
   "source": [
    "# using a while loop\n",
    "list = [\"KP\", \"banana\", \"orange\" ,\"Shivam\"]\n",
    "i = 0\n",
    "while i < len(list):\n",
    "    print(list[i])\n",
    "    i = i+1"
   ]
  },
  {
   "cell_type": "code",
   "execution_count": 5,
   "id": "3e2315e6-1c40-407e-823c-feb596cfdfcd",
   "metadata": {},
   "outputs": [
    {
     "name": "stdout",
     "output_type": "stream",
     "text": [
      "KP\n",
      "banana\n",
      "orange\n",
      "Shivam\n"
     ]
    }
   ],
   "source": [
    "list = [\"KP\", \"banana\", \"orange\" ,\"Shivam\"]\n",
    "i = 0\n",
    "while i < 4:\n",
    "    print(list[i])\n",
    "    i = i+1"
   ]
  },
  {
   "cell_type": "code",
   "execution_count": 6,
   "id": "0a571ede-8385-449f-aedb-31f268dc7f7f",
   "metadata": {},
   "outputs": [
    {
     "name": "stdout",
     "output_type": "stream",
     "text": [
      "KP\n",
      "banana\n",
      "orange\n",
      "Shivam\n"
     ]
    },
    {
     "data": {
      "text/plain": [
       "[None, None, None, None]"
      ]
     },
     "execution_count": 6,
     "metadata": {},
     "output_type": "execute_result"
    }
   ],
   "source": [
    "# Looping using list Comprehension\n",
    "list = [\"KP\", \"banana\", \"orange\" ,\"Shivam\"]\n",
    "[print(i) for i in list]"
   ]
  },
  {
   "cell_type": "code",
   "execution_count": 7,
   "id": "1ed49b54-531b-461f-ab06-043c5c05d0a5",
   "metadata": {},
   "outputs": [
    {
     "name": "stdout",
     "output_type": "stream",
     "text": [
      "['sharad', 'orange', 'cherry']\n"
     ]
    }
   ],
   "source": [
    "# list Comprehension\n",
    "\n",
    "fruits = [\"sharad\", \"banana\", \"orange\", \"cherry\", \"mango\", \"kiwi\"]\n",
    "newlist = []\n",
    "for i in fruits:\n",
    "    if \"r\" in i:\n",
    "        newlist.append(i)\n",
    "print(newlist)"
   ]
  },
  {
   "cell_type": "code",
   "execution_count": 8,
   "id": "dff8ba12-73b4-4aef-a0a8-de8958909d2b",
   "metadata": {},
   "outputs": [
    {
     "name": "stdout",
     "output_type": "stream",
     "text": [
      "['orange', 'mango']\n"
     ]
    }
   ],
   "source": [
    "# list Comprehension in 1 line code\n",
    "fruits = [\"sharad\", \"banana\", \"orange\", \"cherry\", \"mango\", \"kiwi\"]\n",
    "newlist = [i for i in fruits if 'o' in i]\n",
    "print(newlist)"
   ]
  },
  {
   "cell_type": "code",
   "execution_count": null,
   "id": "bc060abd-ea2e-40e4-a94e-74219843c4f9",
   "metadata": {},
   "outputs": [],
   "source": []
  }
 ],
 "metadata": {
  "kernelspec": {
   "display_name": "Python 3 (ipykernel)",
   "language": "python",
   "name": "python3"
  },
  "language_info": {
   "codemirror_mode": {
    "name": "ipython",
    "version": 3
   },
   "file_extension": ".py",
   "mimetype": "text/x-python",
   "name": "python",
   "nbconvert_exporter": "python",
   "pygments_lexer": "ipython3",
   "version": "3.11.4"
  }
 },
 "nbformat": 4,
 "nbformat_minor": 5
}
