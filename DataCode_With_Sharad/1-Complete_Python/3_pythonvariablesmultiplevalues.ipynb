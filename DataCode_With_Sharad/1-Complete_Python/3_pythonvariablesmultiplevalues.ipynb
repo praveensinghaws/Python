{
 "cells": [
  {
   "cell_type": "markdown",
   "id": "d358b7fe-59b7-41f0-82c8-e4b66b662a42",
   "metadata": {},
   "source": [
    "# 3.Python Variables Multiple Values"
   ]
  },
  {
   "cell_type": "code",
   "execution_count": 1,
   "id": "831787a7-f354-44a4-874b-16d207cfed2c",
   "metadata": {},
   "outputs": [
    {
     "name": "stdout",
     "output_type": "stream",
     "text": [
      "orange\n",
      "banana\n",
      "apple\n",
      "orange\n",
      "banana\n",
      "apple\n",
      "orange\n",
      "orange\n",
      "orange\n",
      "orange\n",
      "orange\n",
      "orange\n",
      "orange\n",
      "banana\n",
      "apple\n"
     ]
    }
   ],
   "source": [
    "#many values to multiple variables\n",
    "\n",
    "x=\"orange\"\n",
    "y=\"banana\"\n",
    "z=\"apple\"\n",
    "print(x)\n",
    "print(y)\n",
    "print(z)\n",
    "\n",
    "#------------------------------------------------------\n",
    "\n",
    "x, y, z = \"orange\", \"banana\", \"apple\"\n",
    "print(x)\n",
    "print(y)\n",
    "print(z)\n",
    "\n",
    "#------------------------------------------------------\n",
    "\n",
    "x=\"orange\"\n",
    "y=\"orange\"\n",
    "z=\"orange\"\n",
    "print(x)\n",
    "print(y)\n",
    "print(z)\n",
    "#------------------------------------------------------\n",
    "\n",
    "x = y = z = \"orange\"\n",
    "print(x)\n",
    "print(y)\n",
    "print(z)\n",
    "\n",
    "#------------------------------------------------------\n",
    "# Tuple\n",
    "fruits = [\"orange\", \"banana\", \"apple\"]\n",
    "x, y, z = fruits\n",
    "print(x)\n",
    "print(y)\n",
    "print(z)"
   ]
  },
  {
   "cell_type": "code",
   "execution_count": 2,
   "id": "692f658d-d282-4f63-bb9d-6c3fa6d16583",
   "metadata": {},
   "outputs": [
    {
     "name": "stdout",
     "output_type": "stream",
     "text": [
      "my name is sharad\n",
      "my name is sharad\n",
      "my name is sharad\n",
      "30\n"
     ]
    }
   ],
   "source": [
    "#output variable\n",
    "\n",
    "x = \"my name is sharad\"\n",
    "print(x)\n",
    "\n",
    "#------------------------------------------------------\n",
    "\n",
    "x = \"my\"\n",
    "y = \"name\"\n",
    "z = \"is sharad\"\n",
    "print(x,y,z)\n",
    "\n",
    "#------------------------------------------------------\n",
    "\n",
    "x = \"my \"\n",
    "y = \"name \"\n",
    "z = \"is sharad\"\n",
    "print(x + y + z)\n",
    "\n",
    "#------------------------------------------------------\n",
    "\n",
    "x = 5\n",
    "y = 10\n",
    "z = 15\n",
    "print(x + y + z)\n"
   ]
  },
  {
   "cell_type": "markdown",
   "id": "1b218d19-9ee7-476c-abdd-aa7d352614ab",
   "metadata": {},
   "source": [
    "#### Thanks"
   ]
  }
 ],
 "metadata": {
  "kernelspec": {
   "display_name": "Python 3 (ipykernel)",
   "language": "python",
   "name": "python3"
  },
  "language_info": {
   "codemirror_mode": {
    "name": "ipython",
    "version": 3
   },
   "file_extension": ".py",
   "mimetype": "text/x-python",
   "name": "python",
   "nbconvert_exporter": "python",
   "pygments_lexer": "ipython3",
   "version": "3.11.6"
  }
 },
 "nbformat": 4,
 "nbformat_minor": 5
}
