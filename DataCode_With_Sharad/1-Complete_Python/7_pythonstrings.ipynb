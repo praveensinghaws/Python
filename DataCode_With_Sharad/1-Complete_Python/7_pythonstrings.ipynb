{
 "cells": [
  {
   "cell_type": "markdown",
   "id": "37e3e1ae-67fd-464f-9796-56e7fd69c720",
   "metadata": {},
   "source": [
    "# Python Strings"
   ]
  },
  {
   "cell_type": "code",
   "execution_count": 1,
   "id": "a1660174-69b4-4bef-a5c5-10c44d1abd0d",
   "metadata": {},
   "outputs": [
    {
     "name": "stdout",
     "output_type": "stream",
     "text": [
      "Praveen\n",
      "Praveen\n",
      "<class 'str'>\n",
      "<class 'str'>\n"
     ]
    }
   ],
   "source": [
    "x = \"Praveen\"\n",
    "y = 'Praveen'\n",
    "print(x)\n",
    "print(y)\n",
    "print(type(x))\n",
    "print(type(y))"
   ]
  },
  {
   "cell_type": "code",
   "execution_count": 2,
   "id": "7aadded4-bad1-4b7c-9cf6-fb6e9e773b88",
   "metadata": {},
   "outputs": [
    {
     "name": "stdout",
     "output_type": "stream",
     "text": [
      "Praveen Singh\n"
     ]
    }
   ],
   "source": [
    "# Single Line String\n",
    "x = \"Praveen Singh\"\n",
    "print(x)"
   ]
  },
  {
   "cell_type": "code",
   "execution_count": 3,
   "id": "f2822b47-b558-48b7-812d-908d9cae2bb6",
   "metadata": {},
   "outputs": [
    {
     "name": "stdout",
     "output_type": "stream",
     "text": [
      "Windows PowerShell\n",
      "Copyright (C) Microsoft Corporation. All rights reserved.\n",
      "\n",
      "Install the latest PowerShell for new features and improvements! https://aka.ms/PSWindows\n"
     ]
    }
   ],
   "source": [
    "# Multiline string\n",
    "z = '''Windows PowerShell\n",
    "Copyright (C) Microsoft Corporation. All rights reserved.\n",
    "\n",
    "Install the latest PowerShell for new features and improvements! https://aka.ms/PSWindows'''\n",
    "\n",
    "print(z)"
   ]
  },
  {
   "cell_type": "code",
   "execution_count": 4,
   "id": "d107934d-0f86-466f-830c-27dacd7b4d39",
   "metadata": {},
   "outputs": [
    {
     "name": "stdout",
     "output_type": "stream",
     "text": [
      "Praveen\n"
     ]
    }
   ],
   "source": [
    "# String are Arrays\n",
    "\n",
    "a = \"Praveen Singh\"\n",
    "print(a[0:7])"
   ]
  },
  {
   "cell_type": "code",
   "execution_count": 5,
   "id": "c2ab4e91-0c26-4119-a0d7-03dd7fcc6362",
   "metadata": {},
   "outputs": [
    {
     "name": "stdout",
     "output_type": "stream",
     "text": [
      "I\n",
      " \n",
      "A\n",
      "M\n",
      " \n",
      "A\n",
      " \n",
      "D\n",
      "A\n",
      "T\n",
      "A\n",
      " \n",
      "A\n",
      "N\n",
      "A\n",
      "L\n",
      "Y\n",
      "S\n",
      "T\n"
     ]
    }
   ],
   "source": [
    "# Looping through the string\n",
    "for x in \"I AM A DATA ANALYST\":\n",
    "    print(x)\n"
   ]
  },
  {
   "cell_type": "code",
   "execution_count": 6,
   "id": "70bbd587-6381-4e0f-81ce-3b223f806d92",
   "metadata": {},
   "outputs": [
    {
     "name": "stdout",
     "output_type": "stream",
     "text": [
      "Lenght of 'a' is:  17\n"
     ]
    }
   ],
   "source": [
    "# String Length\n",
    "a = \"Hello how are you\"\n",
    "print(\"Lenght of 'a' is: \",len(a))"
   ]
  },
  {
   "cell_type": "code",
   "execution_count": 7,
   "id": "5348e317-83ae-476f-b54d-89746931ff38",
   "metadata": {},
   "outputs": [
    {
     "name": "stdout",
     "output_type": "stream",
     "text": [
      "Lenght of 'a' is : 142\n"
     ]
    }
   ],
   "source": [
    "b = '''Windows PowerShell\n",
    "Copyright (C) Microsoft Corporation. All rights reserved.\n",
    "\n",
    "Install the latest PowerShell for new features and improvements!'''\n",
    "print(\"Lenght of 'a' is :\",len(b))"
   ]
  },
  {
   "cell_type": "code",
   "execution_count": 8,
   "id": "f1f4c976-177d-4cb4-b289-c108c8be5975",
   "metadata": {},
   "outputs": [
    {
     "name": "stdout",
     "output_type": "stream",
     "text": [
      "Condition1: True\n",
      "Condition2: False\n"
     ]
    }
   ],
   "source": [
    "# Check String\n",
    "\n",
    "txt = \" in this tutorial everything is free\"\n",
    "print(\"Condition1:\",\"free\" in txt)\n",
    "print(\"Condition2:\",\"praveen\" in txt) \n"
   ]
  },
  {
   "cell_type": "code",
   "execution_count": 9,
   "id": "fb2b5962-a532-4259-9e34-09bbb40d8f87",
   "metadata": {},
   "outputs": [
    {
     "name": "stdout",
     "output_type": "stream",
     "text": [
      "Yes, 'free' is present.\n"
     ]
    }
   ],
   "source": [
    "#Check String with If for user friendly\"\n",
    "txt = \"In this tutorial everything is free\"\n",
    "if 'free' in txt:\n",
    "    print(\"Yes, 'free' is present.\")"
   ]
  },
  {
   "cell_type": "code",
   "execution_count": 10,
   "id": "ea427394-04f9-4075-b558-b189036800b1",
   "metadata": {},
   "outputs": [
    {
     "name": "stdout",
     "output_type": "stream",
     "text": [
      "True\n"
     ]
    }
   ],
   "source": [
    "#check if \"free is not present\"\n",
    "txt = \"In this tutorial everything is free\"\n",
    "print(\"sharad\" not in txt)"
   ]
  },
  {
   "cell_type": "code",
   "execution_count": 11,
   "id": "0543321c-4f06-4545-8c0c-2436febdc3a2",
   "metadata": {},
   "outputs": [
    {
     "name": "stdout",
     "output_type": "stream",
     "text": [
      "No, 'sharad' is Not Present\n"
     ]
    }
   ],
   "source": [
    "txt = \"In this tutorial everything is free\"\n",
    "if \"sharad\" not in txt:\n",
    "    print(\"No, 'sharad' is Not Present\")"
   ]
  },
  {
   "cell_type": "code",
   "execution_count": 12,
   "id": "1d0440ed-8060-4b76-99dc-de7b89c20001",
   "metadata": {},
   "outputs": [
    {
     "name": "stdout",
     "output_type": "stream",
     "text": [
      "Yes free is present.\n"
     ]
    }
   ],
   "source": [
    "#Check String with If for user friendly\"\n",
    "txt = \"In this tutorial everything is free\"\n",
    "chk = \"free\"\n",
    "if chk in txt:\n",
    "    print(\"Yes\",chk , \"is present.\")\n",
    "else:\n",
    "    print(\"No\",chk , \"is Not present.\")"
   ]
  },
  {
   "cell_type": "code",
   "execution_count": null,
   "id": "578536eb-baa2-4f39-b804-cc19a49fbe21",
   "metadata": {},
   "outputs": [],
   "source": []
  }
 ],
 "metadata": {
  "kernelspec": {
   "display_name": "Python 3 (ipykernel)",
   "language": "python",
   "name": "python3"
  },
  "language_info": {
   "codemirror_mode": {
    "name": "ipython",
    "version": 3
   },
   "file_extension": ".py",
   "mimetype": "text/x-python",
   "name": "python",
   "nbconvert_exporter": "python",
   "pygments_lexer": "ipython3",
   "version": "3.11.4"
  }
 },
 "nbformat": 4,
 "nbformat_minor": 5
}
