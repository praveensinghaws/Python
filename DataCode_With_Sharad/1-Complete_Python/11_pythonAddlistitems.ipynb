{
 "cells": [
  {
   "cell_type": "markdown",
   "id": "0fcd9315-b6a6-45d9-b1b7-7c74c7267968",
   "metadata": {},
   "source": [
    "# Python Addlist items"
   ]
  },
  {
   "cell_type": "code",
   "execution_count": 1,
   "id": "2de32ac9-1982-42be-bb2b-5c7c379cb692",
   "metadata": {},
   "outputs": [
    {
     "name": "stdout",
     "output_type": "stream",
     "text": [
      "['apple', 'banana', 'orange', 'cherry']\n"
     ]
    }
   ],
   "source": [
    "# Append()\n",
    "x = [\"apple\", \"banana\", \"orange\"]\n",
    "x.append(\"cherry\")\n",
    "print(x)"
   ]
  },
  {
   "cell_type": "code",
   "execution_count": 2,
   "id": "61e4cdc5-3db7-42a7-8aff-25af55e438e0",
   "metadata": {},
   "outputs": [
    {
     "name": "stdout",
     "output_type": "stream",
     "text": [
      "['apple', 'cherry', 'banana', 'orange']\n"
     ]
    }
   ],
   "source": [
    "#Insert()\n",
    "x = [\"apple\", \"banana\", \"orange\"]\n",
    "x.insert(1, \"cherry\")\n",
    "print(x)\n"
   ]
  },
  {
   "cell_type": "code",
   "execution_count": 3,
   "id": "488accd9-4350-4d3b-b949-086aaea01f93",
   "metadata": {},
   "outputs": [
    {
     "name": "stdout",
     "output_type": "stream",
     "text": [
      "['apple', 'banana', 'orange', 'mango', 'pineapple', 'papaya']\n"
     ]
    }
   ],
   "source": [
    "# Extend()\n",
    "x = [\"apple\", \"banana\", \"orange\"]\n",
    "y = [\"mango\", \"pineapple\", \"papaya\"]\n",
    "x.extend(y)\n",
    "print(x)\n"
   ]
  },
  {
   "cell_type": "code",
   "execution_count": 4,
   "id": "7cea578a-1819-4de7-9e83-66e1a54755c5",
   "metadata": {},
   "outputs": [
    {
     "name": "stdout",
     "output_type": "stream",
     "text": [
      "['apple', 'orange']\n"
     ]
    }
   ],
   "source": [
    "# Remove List Items\n",
    "x = [\"apple\", \"banana\", \"orange\"]\n",
    "x.remove(\"banana\")\n",
    "print(x)"
   ]
  },
  {
   "cell_type": "code",
   "execution_count": 5,
   "id": "7fe74518-dddb-4d8a-9dda-731b31fee174",
   "metadata": {},
   "outputs": [
    {
     "name": "stdout",
     "output_type": "stream",
     "text": [
      "['banana', 'orange']\n"
     ]
    }
   ],
   "source": [
    "# Remove Specified Index\n",
    "x = [\"apple\", \"banana\", \"orange\"]\n",
    "x.pop(0)\n",
    "print(x)"
   ]
  },
  {
   "cell_type": "code",
   "execution_count": 6,
   "id": "862a96e6-f3e3-432f-a736-186712f4371c",
   "metadata": {},
   "outputs": [
    {
     "name": "stdout",
     "output_type": "stream",
     "text": [
      "['apple', 'banana']\n"
     ]
    }
   ],
   "source": [
    "# remove Last Index without knowing the length\n",
    "x = [\"apple\", \"banana\", \"orange\"]\n",
    "x.pop()\n",
    "print(x)"
   ]
  },
  {
   "cell_type": "code",
   "execution_count": 7,
   "id": "283d931e-088d-4b00-97ad-0b396feb3c1e",
   "metadata": {},
   "outputs": [
    {
     "name": "stdout",
     "output_type": "stream",
     "text": [
      "['apple', 'banana', 'orange']\n"
     ]
    }
   ],
   "source": [
    "# Using Del for specified index\n",
    "x = [\"apple\", \"banana\", \"orange\" , \"Praveen\"]\n",
    "del x[3]\n",
    "print(x)"
   ]
  },
  {
   "cell_type": "code",
   "execution_count": 8,
   "id": "62c540b6-a790-42ef-b465-aa4d073a41cc",
   "metadata": {},
   "outputs": [],
   "source": [
    "# Deleting the list completely\n",
    "x = [\"apple\", \"banana\", \"orange\"]\n",
    "del x"
   ]
  },
  {
   "cell_type": "code",
   "execution_count": 9,
   "id": "3a54093a-5b0b-4053-9e2a-c9654adb4eb1",
   "metadata": {},
   "outputs": [
    {
     "name": "stdout",
     "output_type": "stream",
     "text": [
      "[]\n"
     ]
    }
   ],
   "source": [
    "\n",
    "# Clear the List method\n",
    "x = [\"apple\", \"banana\", \"orange\"]\n",
    "x.clear()\n",
    "print(x)"
   ]
  }
 ],
 "metadata": {
  "kernelspec": {
   "display_name": "Python 3 (ipykernel)",
   "language": "python",
   "name": "python3"
  },
  "language_info": {
   "codemirror_mode": {
    "name": "ipython",
    "version": 3
   },
   "file_extension": ".py",
   "mimetype": "text/x-python",
   "name": "python",
   "nbconvert_exporter": "python",
   "pygments_lexer": "ipython3",
   "version": "3.11.4"
  }
 },
 "nbformat": 4,
 "nbformat_minor": 5
}
