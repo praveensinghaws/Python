{
 "cells": [
  {
   "cell_type": "markdown",
   "id": "d3e01329-d530-43dd-8ad7-e8d36678bb66",
   "metadata": {},
   "source": [
    "# 5.Python Data Type"
   ]
  },
  {
   "cell_type": "markdown",
   "id": "f5da34b0-9376-414e-93ac-b0496c2327f8",
   "metadata": {},
   "source": [
    "#Built-in Data Types\n",
    "* Text type : str\n",
    "* Numeric types: int, float, complex\n",
    "* Sequence Type: List , Tuple, range\n",
    "* mapping: dict\n",
    "* set type: set, frozenset\n",
    "* boolean type: bool\n",
    "* Binary type: bytes, bytearray, memoryview"
   ]
  },
  {
   "cell_type": "markdown",
   "id": "41fda50f-c509-4652-84ba-0b9b01cd5cf6",
   "metadata": {},
   "source": [
    "### ChatGPT\n",
    "#### Built-in Data Types\n",
    "\n"
   ]
  },
  {
   "cell_type": "markdown",
   "id": "85237b2e-2a6e-49a0-9228-fd1fcf269f9b",
   "metadata": {},
   "source": [
    "#### 1. Text type:\r\n"
   ]
  },
  {
   "cell_type": "code",
   "execution_count": 1,
   "id": "4d017aef-8b75-4a47-bd76-d7e53315293f",
   "metadata": {},
   "outputs": [
    {
     "name": "stdout",
     "output_type": "stream",
     "text": [
      "<class 'str'>\n",
      "<class 'str'>\n",
      "John\n",
      "Hello, World!\n"
     ]
    }
   ],
   "source": [
    "# 1. Strings (str): Sequences of characters enclosed in single or double quotes.\n",
    "\n",
    "name = \"John\"\n",
    "message = 'Hello, World!'\n",
    "\n",
    "print(type(name))\n",
    "print(type(message))\n",
    "\n",
    "print(name)\n",
    "print(message)"
   ]
  },
  {
   "cell_type": "markdown",
   "id": "97fa3780-2ed8-4f44-bd7c-f765b0f204fd",
   "metadata": {},
   "source": [
    "#### 2. Numeric types:\r\n",
    "\r\n"
   ]
  },
  {
   "cell_type": "code",
   "execution_count": 2,
   "id": "26d7d5c9-6360-413d-9687-c57d81c924fe",
   "metadata": {},
   "outputs": [
    {
     "name": "stdout",
     "output_type": "stream",
     "text": [
      "<class 'int'>\n",
      "<class 'int'>\n",
      "5\n",
      "-10\n"
     ]
    }
   ],
   "source": [
    "# 1. Integers (int): Whole numbers without any decimal points.\n",
    "\n",
    "x = 5\n",
    "y = -10\n",
    "\n",
    "print(type(x))\n",
    "print(type(y))\n",
    "\n",
    "print(x)\n",
    "print(y)"
   ]
  },
  {
   "cell_type": "code",
   "execution_count": 3,
   "id": "4d2b951e-72d3-45a4-85f9-ae3745fe8198",
   "metadata": {},
   "outputs": [
    {
     "name": "stdout",
     "output_type": "stream",
     "text": [
      "<class 'float'>\n",
      "<class 'float'>\n",
      "3.14\n",
      "-0.001\n"
     ]
    }
   ],
   "source": [
    "# 2. Floating-Point Numbers (float): Numbers with decimal points.\n",
    "\n",
    "\n",
    "a = 3.14\n",
    "b = -0.001\n",
    "\n",
    "print(type(a))\n",
    "print(type(b))\n",
    "\n",
    "\n",
    "print(a)\n",
    "print(b)"
   ]
  },
  {
   "cell_type": "code",
   "execution_count": 4,
   "id": "467c4593-4cbe-408f-b611-e30e529884a2",
   "metadata": {},
   "outputs": [
    {
     "name": "stdout",
     "output_type": "stream",
     "text": [
      "<class 'complex'>\n",
      "(3+4j)\n"
     ]
    }
   ],
   "source": [
    "# 3. complex: Represents a complex number with real and imaginary parts.\n",
    "\n",
    "z = 3 + 4j  # Real part: 3, Imaginary part: 4\n",
    "\n",
    "print(type(z))\n",
    "print(z)"
   ]
  },
  {
   "cell_type": "markdown",
   "id": "6c0420c5-e540-4094-9284-c92a988a3a59",
   "metadata": {},
   "source": [
    "#### 3. Sequence types:\n",
    "\n"
   ]
  },
  {
   "cell_type": "code",
   "execution_count": 5,
   "id": "3e4374e3-abf9-4ff7-96c4-78ff9b430d3d",
   "metadata": {},
   "outputs": [
    {
     "name": "stdout",
     "output_type": "stream",
     "text": [
      "<class 'list'>\n",
      "<class 'list'>\n",
      "[1, 2, 3, 4, 5]\n",
      "['Alice', 'Bob', 'Charlie']\n"
     ]
    }
   ],
   "source": [
    "# 1. Lists (list): Ordered, mutable collections that can contain elements of different data types.\n",
    "\n",
    "numbers = [1, 2, 3, 4, 5]\n",
    "names = [\"Alice\", \"Bob\", \"Charlie\"]\n",
    "\n",
    "print(type(numbers))\n",
    "print(type(names))\n",
    "\n",
    "print(numbers)\n",
    "print(names)"
   ]
  },
  {
   "cell_type": "code",
   "execution_count": 6,
   "id": "94a614db-57e3-4389-812f-7ca813d19151",
   "metadata": {},
   "outputs": [
    {
     "name": "stdout",
     "output_type": "stream",
     "text": [
      "<class 'tuple'>\n",
      "<class 'tuple'>\n",
      "(3, 4)\n",
      "('red', 'green', 'blue')\n"
     ]
    }
   ],
   "source": [
    "# 2. Tuples (tuple): Ordered, immutable collections.\n",
    "\n",
    "coordinates = (3, 4)\n",
    "colors = (\"red\", \"green\", \"blue\")\n",
    "\n",
    "print(type(coordinates))\n",
    "print(type(colors))\n",
    "\n",
    "print(coordinates)\n",
    "print(colors)"
   ]
  },
  {
   "cell_type": "code",
   "execution_count": 7,
   "id": "48088af2-f9bd-4954-a150-bacfee976c8e",
   "metadata": {},
   "outputs": [
    {
     "name": "stdout",
     "output_type": "stream",
     "text": [
      "<class 'range'>\n",
      "range(0, 5)\n"
     ]
    }
   ],
   "source": [
    "# 3. range: Represents an immutable sequence of numbers and is commonly used for iterating over a sequence of numbers.\n",
    "\n",
    "numbers = range(5)  # Represents 0, 1, 2, 3, 4\n",
    "\n",
    "print(type(numbers))\n",
    "print(numbers)"
   ]
  },
  {
   "cell_type": "markdown",
   "id": "6fb5be17-3ece-45ca-aa65-eb969919b981",
   "metadata": {},
   "source": [
    "#### 4. Mapping type:\n",
    "\n"
   ]
  },
  {
   "cell_type": "code",
   "execution_count": 8,
   "id": "314e6866-31d8-4983-95df-66776d293dfa",
   "metadata": {
    "scrolled": true
   },
   "outputs": [
    {
     "name": "stdout",
     "output_type": "stream",
     "text": [
      "<class 'dict'>\n",
      "{'name': 'John', 'age': 30, 'city': 'New York'}\n"
     ]
    }
   ],
   "source": [
    "# 1. Dictionaries (dict):  Unordered collections of key-value pairs.\n",
    "\n",
    "person = {\"name\": \"John\", \"age\": 30, \"city\": \"New York\"}\n",
    "\n",
    "print(type(person))\n",
    "\n",
    "print(person)"
   ]
  },
  {
   "cell_type": "markdown",
   "id": "dfeddd24-1ea8-4c4d-bb2a-ed43c7323e53",
   "metadata": {},
   "source": [
    "#### 5. Set types:\n",
    "\n"
   ]
  },
  {
   "cell_type": "code",
   "execution_count": 9,
   "id": "1954ad8a-93e7-439b-892f-58049fe12a9d",
   "metadata": {},
   "outputs": [
    {
     "name": "stdout",
     "output_type": "stream",
     "text": [
      "<class 'set'>\n",
      "<class 'set'>\n",
      "{1, 2, 3, 4, 5}\n",
      "{'Banana', 'Orange', 'Grapes', 'Apple'}\n"
     ]
    }
   ],
   "source": [
    "# 1. Sets (set): Unordered collections of unique elements.\n",
    "\n",
    "unique_numbers = {1, 2, 3, 4, 5}\n",
    "fruits = {\"Apple\" , \"Banana\" , \"Orange\" , \"Grapes\"}\n",
    "\n",
    "print(type(unique_numbers))\n",
    "print(type(fruits))\n",
    "\n",
    "print(unique_numbers)\n",
    "print(fruits)"
   ]
  },
  {
   "cell_type": "code",
   "execution_count": 10,
   "id": "f94b66dd-89bb-4fab-b157-44674c5ae601",
   "metadata": {},
   "outputs": [
    {
     "name": "stdout",
     "output_type": "stream",
     "text": [
      "<class 'frozenset'>\n",
      "frozenset({1, 2, 3, 4})\n"
     ]
    }
   ],
   "source": [
    "# 2. frozenset: Represents an immutable set.\n",
    "\n",
    "frozen_set = frozenset({1, 2, 3, 4})\n",
    "\n",
    "print(type(frozen_set))\n",
    "print(frozen_set)"
   ]
  },
  {
   "cell_type": "markdown",
   "id": "2b2d8771-b063-4d0d-a1ae-50be4b83d594",
   "metadata": {},
   "source": [
    "#### 6. Boolean type:\n",
    "\n"
   ]
  },
  {
   "cell_type": "code",
   "execution_count": 11,
   "id": "b798f2df-5a57-4155-b5a5-d13307522ddd",
   "metadata": {},
   "outputs": [
    {
     "name": "stdout",
     "output_type": "stream",
     "text": [
      "<class 'bool'>\n",
      "<class 'bool'>\n",
      "True\n",
      "False\n"
     ]
    }
   ],
   "source": [
    "# 1. Boolean (bool): Represents truth values, either True or False.\n",
    "\n",
    "is_valid = True\n",
    "has_error = False\n",
    "\n",
    "print(type(is_valid))\n",
    "print(type(has_error))\n",
    "\n",
    "print(is_valid)\n",
    "print(has_error)"
   ]
  },
  {
   "cell_type": "markdown",
   "id": "94429b3b-cf58-420d-bd13-64e22b90b024",
   "metadata": {},
   "source": [
    "#### 7. Binary types:"
   ]
  },
  {
   "cell_type": "code",
   "execution_count": 12,
   "id": "5e4aebf4-9710-4de6-9473-bad2b09de288",
   "metadata": {},
   "outputs": [
    {
     "name": "stdout",
     "output_type": "stream",
     "text": [
      "<class 'bytes'>\n",
      "b'hello'\n"
     ]
    }
   ],
   "source": [
    "# 1. bytes: Represents an immutable sequence of bytes.\n",
    "\n",
    "my_bytes  = b'hello'  # Immutable bytes\n",
    "\n",
    "print(type(my_bytes))\n",
    "print(my_bytes)"
   ]
  },
  {
   "cell_type": "code",
   "execution_count": 13,
   "id": "d222c38a-6a0b-43d5-87a2-86d67e5a4630",
   "metadata": {},
   "outputs": [
    {
     "name": "stdout",
     "output_type": "stream",
     "text": [
      "<class 'bytearray'>\n",
      "bytearray(b'hello')\n"
     ]
    }
   ],
   "source": [
    "# 2. bytearray: Represents a mutable sequence of bytes.\n",
    "\n",
    "my_bytearray  = bytearray(b'hello')  # Mutable byte array\n",
    "\n",
    "\n",
    "print(type(my_bytearray ))\n",
    "print(my_bytearray )"
   ]
  },
  {
   "cell_type": "code",
   "execution_count": 14,
   "id": "53023803-9c87-41f9-b42f-a8f46e2bc486",
   "metadata": {},
   "outputs": [
    {
     "name": "stdout",
     "output_type": "stream",
     "text": [
      "<class 'memoryview'>\n",
      "<memory at 0xffffa0ad6b00>\n"
     ]
    }
   ],
   "source": [
    "# 3. memoryview: Provides a view of the memory as an array of unsigned bytes.\n",
    "\n",
    "\n",
    "data = b'hello'\n",
    "my_memoryview  = memoryview(data)\n",
    "\n",
    "print(type(my_memoryview ))\n",
    "\n",
    "print(my_memoryview )"
   ]
  },
  {
   "cell_type": "markdown",
   "id": "965951bb-80ff-4539-a42b-95242fdafcc2",
   "metadata": {},
   "source": [
    "#### 8. None types:"
   ]
  },
  {
   "cell_type": "code",
   "execution_count": 15,
   "id": "885371f1-656a-437e-a411-447300568304",
   "metadata": {},
   "outputs": [
    {
     "name": "stdout",
     "output_type": "stream",
     "text": [
      "<class 'NoneType'>\n",
      "None\n"
     ]
    }
   ],
   "source": [
    "# 1. NoneType (None): Represents the absence of a value or a null value.\n",
    "\n",
    "no_value = None\n",
    "\n",
    "print(type(no_value))\n",
    "\n",
    "print(no_value)"
   ]
  },
  {
   "cell_type": "markdown",
   "id": "ea443adc-f541-4a58-9527-d56e25f58417",
   "metadata": {},
   "source": [
    "# Setting out the specific Data Types\n"
   ]
  },
  {
   "cell_type": "code",
   "execution_count": 16,
   "id": "dc077e3c-d941-43ba-b9b7-90efa0b60513",
   "metadata": {},
   "outputs": [
    {
     "name": "stdout",
     "output_type": "stream",
     "text": [
      "1. Type: <class 'int'>\n",
      "   Value: 5\n",
      "\n"
     ]
    }
   ],
   "source": [
    "# 1. Integer (`int`):\n",
    "int_var = int(5)\n",
    "print(f\"{1}. Type: {type(int_var)}\")\n",
    "print(f\"   Value: {int_var}\\n\")"
   ]
  },
  {
   "cell_type": "code",
   "execution_count": 17,
   "id": "6d2891b8-c991-4f28-8105-c0eef672cb95",
   "metadata": {},
   "outputs": [
    {
     "name": "stdout",
     "output_type": "stream",
     "text": [
      "2. Type: <class 'float'>\n",
      "   Value: 3.14\n",
      "\n"
     ]
    }
   ],
   "source": [
    "# 2. Floating-Point (`float`):\n",
    "float_var = float(3.14)\n",
    "print(f\"{2}. Type: {type(float_var)}\")\n",
    "print(f\"   Value: {float_var}\\n\")"
   ]
  },
  {
   "cell_type": "code",
   "execution_count": 18,
   "id": "07867441-93a4-4330-9f1c-9eb720b628b8",
   "metadata": {},
   "outputs": [
    {
     "name": "stdout",
     "output_type": "stream",
     "text": [
      "3. Type: <class 'complex'>\n",
      "   Value: (2+3j)\n",
      "\n"
     ]
    }
   ],
   "source": [
    "# 3. Complex (`complex`):\n",
    "complex_var = complex(2, 3)\n",
    "print(f\"{3}. Type: {type(complex_var)}\")\n",
    "print(f\"   Value: {complex_var}\\n\")\n"
   ]
  },
  {
   "cell_type": "code",
   "execution_count": 19,
   "id": "04b6d65c-097c-4757-a006-65d291c46ecd",
   "metadata": {},
   "outputs": [
    {
     "name": "stdout",
     "output_type": "stream",
     "text": [
      "4. Type: <class 'str'>\n",
      "   Value: Hello, World!\n",
      "\n"
     ]
    }
   ],
   "source": [
    "# 4. String (`str`):\n",
    "str_var = str(\"Hello, World!\")\n",
    "print(f\"{4}. Type: {type(str_var)}\")\n",
    "print(f\"   Value: {str_var}\\n\")"
   ]
  },
  {
   "cell_type": "code",
   "execution_count": 20,
   "id": "87e1e2aa-a7ee-48ed-b677-f528a7203832",
   "metadata": {},
   "outputs": [
    {
     "name": "stdout",
     "output_type": "stream",
     "text": [
      "5. Type: <class 'list'>\n",
      "   Value: [1, 2, 3, 4]\n",
      "\n"
     ]
    }
   ],
   "source": [
    "# 5. List (`list`):\n",
    "list_var = list([1, 2, 3, 4])\n",
    "print(f\"{5}. Type: {type(list_var)}\")\n",
    "print(f\"   Value: {list_var}\\n\")"
   ]
  },
  {
   "cell_type": "code",
   "execution_count": 21,
   "id": "9646f107-d15a-4eb6-ba99-802328692238",
   "metadata": {},
   "outputs": [
    {
     "name": "stdout",
     "output_type": "stream",
     "text": [
      "6. Type: <class 'tuple'>\n",
      "   Value: (1, 2, 3, 4)\n",
      "\n"
     ]
    }
   ],
   "source": [
    "# 6. Tuple (`tuple`):\n",
    "tuple_var = tuple((1, 2, 3, 4))\n",
    "print(f\"{6}. Type: {type(tuple_var)}\")\n",
    "print(f\"   Value: {tuple_var}\\n\")"
   ]
  },
  {
   "cell_type": "code",
   "execution_count": 22,
   "id": "8c46b6d7-4189-486a-9664-1a759354e22f",
   "metadata": {},
   "outputs": [
    {
     "name": "stdout",
     "output_type": "stream",
     "text": [
      "7. Type: <class 'range'>\n",
      "   Value: [0, 1, 2, 3, 4]\n",
      "\n"
     ]
    }
   ],
   "source": [
    "# 7. Range (`range`):\n",
    "range_var = range(5)\n",
    "print(f\"{7}. Type: {type(range_var)}\")\n",
    "print(f\"   Value: {list(range_var)}\\n\")"
   ]
  },
  {
   "cell_type": "code",
   "execution_count": 23,
   "id": "7ec481c9-b24b-4f56-a6bc-88dca050047b",
   "metadata": {},
   "outputs": [
    {
     "name": "stdout",
     "output_type": "stream",
     "text": [
      "8. Type: <class 'dict'>\n",
      "   Value: {'name': 'John', 'age': 30}\n",
      "\n"
     ]
    }
   ],
   "source": [
    "# 8. Dictionary (`dict`):\n",
    "dict_var = dict({\"name\": \"John\", \"age\": 30})\n",
    "print(f\"{8}. Type: {type(dict_var)}\")\n",
    "print(f\"   Value: {dict_var}\\n\")"
   ]
  },
  {
   "cell_type": "code",
   "execution_count": 24,
   "id": "02119d78-750f-40e7-b4ae-62bfad6bf140",
   "metadata": {},
   "outputs": [
    {
     "name": "stdout",
     "output_type": "stream",
     "text": [
      "9. Type: <class 'set'>\n",
      "   Value: {1, 2, 3, 4}\n",
      "\n"
     ]
    }
   ],
   "source": [
    "# 9. Set (`set`):\n",
    "set_var = set({1, 2, 3, 4})\n",
    "print(f\"{9}. Type: {type(set_var)}\")\n",
    "print(f\"   Value: {set_var}\\n\")"
   ]
  },
  {
   "cell_type": "code",
   "execution_count": 25,
   "id": "58fdab3f-10d6-45e4-93e9-65c2877f490e",
   "metadata": {},
   "outputs": [
    {
     "name": "stdout",
     "output_type": "stream",
     "text": [
      "10. Type: <class 'frozenset'>\n",
      "    Value: frozenset({1, 2, 3, 4})\n",
      "\n"
     ]
    }
   ],
   "source": [
    "# 10. Frozenset (`frozenset`):\n",
    "frozenset_var = frozenset({1, 2, 3, 4})\n",
    "print(f\"{10}. Type: {type(frozenset_var)}\")\n",
    "print(f\"    Value: {frozenset_var}\\n\")"
   ]
  },
  {
   "cell_type": "code",
   "execution_count": 26,
   "id": "2c4ede17-a898-4bed-89c8-f8d3a0586d4c",
   "metadata": {},
   "outputs": [
    {
     "name": "stdout",
     "output_type": "stream",
     "text": [
      "11. Type: <class 'bool'>\n",
      "    Value: True\n",
      "\n"
     ]
    }
   ],
   "source": [
    "# 11. Boolean (`bool`):\n",
    "bool_var = bool(True)\n",
    "print(f\"{11}. Type: {type(bool_var)}\")\n",
    "print(f\"    Value: {bool_var}\\n\")\n"
   ]
  },
  {
   "cell_type": "code",
   "execution_count": 27,
   "id": "43387a8c-dcbc-4715-974e-eb1b42b929e4",
   "metadata": {},
   "outputs": [
    {
     "name": "stdout",
     "output_type": "stream",
     "text": [
      "12. Type: <class 'bytes'>\n",
      "    Value: b'hello'\n",
      "\n"
     ]
    }
   ],
   "source": [
    "# 12. Bytes (`bytes`):\n",
    "bytes_var = bytes(b'hello')\n",
    "print(f\"{12}. Type: {type(bytes_var)}\")\n",
    "print(f\"    Value: {bytes_var}\\n\")"
   ]
  },
  {
   "cell_type": "code",
   "execution_count": 28,
   "id": "8ea68673-3a21-4026-b626-8b76f85e7a91",
   "metadata": {},
   "outputs": [
    {
     "name": "stdout",
     "output_type": "stream",
     "text": [
      "13. Type: <class 'bytearray'>\n",
      "    Value: bytearray(b'hello')\n",
      "\n"
     ]
    }
   ],
   "source": [
    "# 13. Bytearray (`bytearray`):\n",
    "bytearray_var = bytearray(b'hello')\n",
    "print(f\"{13}. Type: {type(bytearray_var)}\")\n",
    "print(f\"    Value: {bytearray_var}\\n\")\n"
   ]
  },
  {
   "cell_type": "code",
   "execution_count": 29,
   "id": "f71174cc-8f0b-4c78-a83a-cdd5e6533940",
   "metadata": {},
   "outputs": [
    {
     "name": "stdout",
     "output_type": "stream",
     "text": [
      "14. Type: <class 'memoryview'>\n",
      "    Value: <memory at 0xffffa0ad4880>\n",
      "\n"
     ]
    }
   ],
   "source": [
    "# 14. Memoryview (`memoryview`):\n",
    "memoryview_var = memoryview(b'hello')\n",
    "print(f\"{14}. Type: {type(memoryview_var)}\")\n",
    "print(f\"    Value: {memoryview_var}\\n\")"
   ]
  },
  {
   "cell_type": "code",
   "execution_count": 30,
   "id": "8065d54c-c7e0-4ae3-9b2b-be6d7c9e9a60",
   "metadata": {},
   "outputs": [
    {
     "name": "stdout",
     "output_type": "stream",
     "text": [
      "15. Type: <class 'NoneType'>\n",
      "    Value: None\n",
      "\n"
     ]
    }
   ],
   "source": [
    "# 15. None (`None`):\n",
    "none_var = None\n",
    "print(f\"{15}. Type: {type(none_var)}\")\n",
    "print(f\"    Value: {none_var}\\n\")"
   ]
  },
  {
   "cell_type": "code",
   "execution_count": 31,
   "id": "7885d72a-a488-42aa-91d4-5d32d26e7608",
   "metadata": {},
   "outputs": [
    {
     "name": "stdout",
     "output_type": "stream",
     "text": [
      "16. Type: <class 'bool'>\n",
      "    Value: True\n",
      "\n"
     ]
    }
   ],
   "source": [
    "# 16. Boolean Constants (`True` and `False`):\n",
    "bool_const_var = bool(True)\n",
    "print(f\"{16}. Type: {type(bool_const_var)}\")\n",
    "print(f\"    Value: {bool_const_var}\\n\")"
   ]
  },
  {
   "cell_type": "code",
   "execution_count": 32,
   "id": "9381a4f8-5a91-4da1-ab7d-a46328986763",
   "metadata": {},
   "outputs": [
    {
     "name": "stdout",
     "output_type": "stream",
     "text": [
      "17. Type: <enum 'Color'>\n",
      "    Value: Color.RED\n"
     ]
    }
   ],
   "source": [
    "# 17. Enum Type (`enum.Enum`):\n",
    "from enum import Enum\n",
    "\n",
    "class Color(Enum):\n",
    "    RED = 1\n",
    "    GREEN = 2\n",
    "    BLUE = 3\n",
    "\n",
    "print(f\"{17}. Type: {type(Color.RED)}\")\n",
    "print(f\"    Value: {Color.RED}\")\n"
   ]
  },
  {
   "cell_type": "markdown",
   "id": "d994425e-ba63-456f-8fe5-9183c31dde7f",
   "metadata": {},
   "source": [
    "#### Thanks "
   ]
  }
 ],
 "metadata": {
  "kernelspec": {
   "display_name": "Python 3 (ipykernel)",
   "language": "python",
   "name": "python3"
  },
  "language_info": {
   "codemirror_mode": {
    "name": "ipython",
    "version": 3
   },
   "file_extension": ".py",
   "mimetype": "text/x-python",
   "name": "python",
   "nbconvert_exporter": "python",
   "pygments_lexer": "ipython3",
   "version": "3.11.6"
  }
 },
 "nbformat": 4,
 "nbformat_minor": 5
}
