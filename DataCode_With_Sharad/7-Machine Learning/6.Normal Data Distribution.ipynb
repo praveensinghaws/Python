{
 "cells": [
  {
   "cell_type": "markdown",
   "id": "af951769-a19b-4c2c-9e5a-ac5034c126fa",
   "metadata": {},
   "source": [
    "# Normal Data Distribution:\n",
    "\n",
    "\\begin{align}\n",
    "\\text{Normal Data Distribution:} \\\\[2ex]\n",
    "1. & \\text{Symmetry:} \\\\\n",
    "& \\text{The distribution is symmetric around its mean (\\(\\mu\\)), with values equally distributed on both sides.} \\\\[2ex]\n",
    "2. & \\text{Central Limit Theorem:} \\\\\n",
    "& \\text{The normal distribution is associated with the Central Limit Theorem, stating that the sum or average of a large number} \\\\\n",
    "& \\text{of independent, identically distributed random variables approaches a normal distribution.} \\\\[2ex]\n",
    "3. & \\text{Mean, Median, and Mode:} \\\\\n",
    "& \\text{In a normal distribution, the mean (\\(\\mu\\)), median, and mode are equal and positioned at the center.} \\\\[2ex]\n",
    "4. & \\text{Standard Deviation:} \\\\\n",
    "& \\text{The spread of the distribution is determined by the standard deviation (\\(\\sigma\\)). A larger (\\(\\sigma\\)) indicates a wider} \\\\\n",
    "& \\text{and more dispersed distribution.} \\\\[2ex]\n",
    "5. & \\text{68-95-99.7 Rule (Empirical Rule):} \\\\\n",
    "& \\text{Approximately 68% of the data falls within one standard deviation of the mean.} \\\\\n",
    "& \\text{Approximately 95% falls within two standard deviations.} \\\\\n",
    "& \\text{Approximately 99.7% falls within three standard deviations.} \\\\[2ex]\n",
    "6. & \\text{Z-Score:} \\\\\n",
    "& \\text{The Z-score measures how many standard deviations a data point (\\(X\\)) is from the mean.} \\\\\n",
    "& \\text{It is calculated as \\(\\frac{{X - \\mu}}{{\\sigma}}\\).} \\\\[2ex]\n",
    "7. & \\text{Probability Density Function (PDF):} \\\\\n",
    "& \\text{The probability density function is given by the bell-shaped curve formula:} \\\\\n",
    "& f(x) = \\frac{1}{{\\sigma \\sqrt{2\\pi}}} e^{-\\frac{(x - \\mu)^2}{2\\sigma^2}}, \\\\\n",
    "& \\text{where \\(f(x)\\) is the probability density at \\(x\\), \\(\\mu\\) is the mean, and \\(\\sigma\\) is the standard deviation.} \\\\[2ex]\n",
    "8. & \\text{Skewness and Kurtosis:} \\\\\n",
    "& \\text{A normal distribution has zero skewness and kurtosis, indicating perfect symmetry and a kurtosis value of 3.} \\\\[2ex]\n",
    "\\end{align}\n",
    "\n",
    "I hope this presentation aligns with your expectations. If you have any more requests or questions, feel free to let me know!"
   ]
  },
  {
   "cell_type": "code",
   "execution_count": null,
   "id": "4b7b2719-9b1c-493b-901d-c5b1d6acb38d",
   "metadata": {},
   "outputs": [],
   "source": []
  }
 ],
 "metadata": {
  "kernelspec": {
   "display_name": "Python 3",
   "language": "python",
   "name": "python3"
  },
  "language_info": {
   "codemirror_mode": {
    "name": "ipython",
    "version": 3
   },
   "file_extension": ".py",
   "mimetype": "text/x-python",
   "name": "python",
   "nbconvert_exporter": "python",
   "pygments_lexer": "ipython3",
   "version": "3.11.5"
  }
 },
 "nbformat": 4,
 "nbformat_minor": 5
}
