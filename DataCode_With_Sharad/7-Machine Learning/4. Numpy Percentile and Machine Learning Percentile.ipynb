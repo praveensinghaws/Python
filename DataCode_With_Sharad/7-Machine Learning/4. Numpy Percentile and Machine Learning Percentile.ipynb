{
 "cells": [
  {
   "cell_type": "markdown",
   "id": "49db95b0-c2d1-46df-abaf-45c105c81434",
   "metadata": {},
   "source": [
    "# Numpy Percentile and Machine Learning Percentile:\n",
    "\n",
    "These measures provide insights into the relative standing of a particular value within a dataset. Percentiles indicate the percentage of data points that are less than or equal to a given value.\n",
    "\n",
    "1. **Numpy Percentile:**\n",
    "   - Numpy provides a percentile function to calculate percentiles in an array or dataset.\n",
    "   - It is useful for obtaining specific percentiles of a dataset.\n",
    "\n",
    "   **Formula:**\n",
    "   \\[ \\text{Percentile} = \\text{numpy.percentile(data, q)} \\]\n",
    "\n",
    "   - \\( \\text{data} \\) is the dataset or array.\n",
    "   - \\( \\text{q} \\) is the desired percentile.\n",
    "\n",
    "2. **Machine Learning Percentile:**\n",
    "   - In machine learning, percentiles are often used to understand the distribution of target variables or features.\n",
    "   - They help in identifying outliers and understanding the spread of data.\n",
    "\n",
    "   **Formula:**\n",
    "   \\[ \\text{Percentile} = \\frac{\\text{Rank} \\times 100}{n} \\]\n",
    "\n",
    "   - \\( \\text{Rank} \\) is the position of the data point.\n",
    "   - \\( n \\) is the number of data points.\n",
    "\n",
    "**Common Percentiles:**\n",
    "- **Percentile (P):** The Pth percentile is the value below which P percent of the data falls.\n",
    "  - For example, the 50th percentile is the median, representing the middle value.\n",
    "\n",
    "**In LaTeX Format:**\n",
    "\n",
    "\\[\n",
    "\\begin{align}\n",
    "\\text{Numpy Percentile:} & \\\\\n",
    "& \\text{Percentile} = \\text{numpy.percentile(data, q)} \\\\[2ex]\n",
    "\\text{Machine Learning Percentile:} & \\\\\n",
    "& \\text{Percentile} = \\frac{\\text{Rank} \\times 100}{n}\n",
    "\\end{align}\n",
    "\\]\n",
    "\n",
    "**Example:**\n",
    "- To find the 25th percentile using Numpy: \\( \\text{Percentile} = \\text{numpy.percentile(data, 25)} \\)\n",
    "\n",
    "- To find the 25th percentile in machine learning:\n",
    "  - Calculate the rank using \\( \\text{Rank} = \\frac{\\text{Percentile} \\times (n + 1)}{100} \\).\n",
    "  - Identify the data point corresponding to the calculated rank.\n",
    "\n",
    "In summary, both Numpy percentile and machine learning percentile provide valuable insights into the distribution of data, and their use depends on the specific requirements of the analysis.\n",
    "\n",
    "---"
   ]
  },
  {
   "cell_type": "code",
   "execution_count": null,
   "id": "13bc91b0-cf31-41c0-bade-f80d7d42d6ad",
   "metadata": {},
   "outputs": [],
   "source": []
  }
 ],
 "metadata": {
  "kernelspec": {
   "display_name": "Python 3",
   "language": "python",
   "name": "python3"
  },
  "language_info": {
   "codemirror_mode": {
    "name": "ipython",
    "version": 3
   },
   "file_extension": ".py",
   "mimetype": "text/x-python",
   "name": "python",
   "nbconvert_exporter": "python",
   "pygments_lexer": "ipython3",
   "version": "3.11.5"
  }
 },
 "nbformat": 4,
 "nbformat_minor": 5
}
