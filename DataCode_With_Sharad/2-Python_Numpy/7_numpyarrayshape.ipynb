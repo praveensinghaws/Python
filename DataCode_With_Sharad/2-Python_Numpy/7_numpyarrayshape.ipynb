{
 "cells": [
  {
   "cell_type": "markdown",
   "id": "88668c8f-1d69-4a3c-8245-d7d7efafeec3",
   "metadata": {},
   "source": [
    "# Numpy array shape\n",
    "Shape of an array - the shape of an array is the number of elements in each dimensions.\n"
   ]
  },
  {
   "cell_type": "code",
   "execution_count": 1,
   "id": "a26fab92-1129-483c-b510-3c8f34ac67c5",
   "metadata": {},
   "outputs": [
    {
     "name": "stdout",
     "output_type": "stream",
     "text": [
      "Shape of array is  (2, 4)\n"
     ]
    }
   ],
   "source": [
    "# now we will try to get the shape of any array.\n",
    "import numpy as np\n",
    "sharad = np.array([[1,2,3,4], [5,6,7,8]])\n",
    "print('Shape of array is ',sharad.shape)\n",
    "\n"
   ]
  },
  {
   "cell_type": "markdown",
   "id": "0aef7b91-5ecb-4e28-b65b-ecc85684b9c0",
   "metadata": {},
   "source": [
    "##### (2,4) which means the array has 2 dimensions and it has 4 elements\n"
   ]
  },
  {
   "cell_type": "code",
   "execution_count": 2,
   "id": "bb651bdf-a4e6-4622-b322-dc29acb47c95",
   "metadata": {},
   "outputs": [
    {
     "name": "stdout",
     "output_type": "stream",
     "text": [
      "[[[[[1 2 3 4]]]]]\n",
      "Shape of array is  (1, 1, 1, 1, 4)\n"
     ]
    }
   ],
   "source": [
    "\n",
    "# now we will create a 5-D array using ndmin :\n",
    "import numpy as np\n",
    "sharad = np.array([1,2,3,4], ndmin=5)\n",
    "print(sharad)\n",
    "print('Shape of array is ', sharad.shape)"
   ]
  },
  {
   "cell_type": "code",
   "execution_count": null,
   "id": "6a06fec5-c50b-4046-8cea-a5af67f7b200",
   "metadata": {},
   "outputs": [],
   "source": []
  }
 ],
 "metadata": {
  "kernelspec": {
   "display_name": "Python 3 (ipykernel)",
   "language": "python",
   "name": "python3"
  },
  "language_info": {
   "codemirror_mode": {
    "name": "ipython",
    "version": 3
   },
   "file_extension": ".py",
   "mimetype": "text/x-python",
   "name": "python",
   "nbconvert_exporter": "python",
   "pygments_lexer": "ipython3",
   "version": "3.11.4"
  }
 },
 "nbformat": 4,
 "nbformat_minor": 5
}
