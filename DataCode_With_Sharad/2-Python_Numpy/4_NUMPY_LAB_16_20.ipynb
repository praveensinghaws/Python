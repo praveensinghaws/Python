{
 "cells": [
  {
   "cell_type": "markdown",
   "id": "41f6078a-01b9-4ff9-ae16-f8d1d28006ce",
   "metadata": {},
   "source": [
    "# 16.NumPy Random Data Distribution || Probability Density Function"
   ]
  },
  {
   "cell_type": "raw",
   "id": "f2022d7b-5f69-4c56-9641-0a1abb60ca33",
   "metadata": {},
   "source": []
  },
  {
   "cell_type": "markdown",
   "id": "aafaff4b-887e-456c-9619-cc373ed1f6b9",
   "metadata": {},
   "source": [
    "# 17.NumPy Random Permutation & Shuffling || shuffle() and permutation()"
   ]
  },
  {
   "cell_type": "raw",
   "id": "3f7ae625-7dca-4cc4-a355-472992a03220",
   "metadata": {},
   "source": []
  },
  {
   "cell_type": "markdown",
   "id": "a95acebe-52e3-4854-a20b-9d4dc81946fa",
   "metadata": {},
   "source": [
    "# 18.NumPy Seaborn || Visualize Distributions With Seaborn"
   ]
  },
  {
   "cell_type": "raw",
   "id": "1ad5f4a5-24e6-45f4-9771-2343548b1c08",
   "metadata": {},
   "source": []
  },
  {
   "cell_type": "markdown",
   "id": "8785ed0f-dcee-451c-be62-19b39ee17e53",
   "metadata": {},
   "source": [
    "# 19.NumPy Normal (Gaussian) Distribution || random.normal()"
   ]
  },
  {
   "cell_type": "raw",
   "id": "09b75aa1-60d9-4518-a6f5-51eadcb20405",
   "metadata": {},
   "source": []
  },
  {
   "cell_type": "markdown",
   "id": "f1fd1f0c-2e3a-42be-8823-5e0fb3b6c47c",
   "metadata": {},
   "source": [
    "# 20.NumPy Binomial Distribution || random.binomial() "
   ]
  },
  {
   "cell_type": "raw",
   "id": "c88ad19a-dba1-472b-ac13-fdd127535727",
   "metadata": {},
   "source": []
  }
 ],
 "metadata": {
  "kernelspec": {
   "display_name": "Python 3 (ipykernel)",
   "language": "python",
   "name": "python3"
  },
  "language_info": {
   "codemirror_mode": {
    "name": "ipython",
    "version": 3
   },
   "file_extension": ".py",
   "mimetype": "text/x-python",
   "name": "python",
   "nbconvert_exporter": "python",
   "pygments_lexer": "ipython3",
   "version": "3.11.6"
  },
  "widgets": {
   "application/vnd.jupyter.widget-state+json": {
    "state": {},
    "version_major": 2,
    "version_minor": 0
   }
  }
 },
 "nbformat": 4,
 "nbformat_minor": 5
}
