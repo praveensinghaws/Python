{
 "cells": [
  {
   "cell_type": "markdown",
   "id": "b4e30edb-de16-421d-ad50-2cd8c4d38a30",
   "metadata": {},
   "source": [
    "# 21.NumPy Poisson Distribution || random.poisson() with Plot "
   ]
  },
  {
   "cell_type": "code",
   "execution_count": null,
   "id": "c452666a-5417-420e-b26e-ef1fcaab29bb",
   "metadata": {},
   "outputs": [],
   "source": []
  },
  {
   "cell_type": "markdown",
   "id": "6bf9d869-52f6-44bd-be78-f5cfa43a1e22",
   "metadata": {},
   "source": [
    "# 22.NumPy Uniform Distribution || random.uniform() with Plot"
   ]
  },
  {
   "cell_type": "code",
   "execution_count": null,
   "id": "b0ee1010-ca47-40ee-adfc-3f1aaeadab93",
   "metadata": {},
   "outputs": [],
   "source": []
  },
  {
   "cell_type": "markdown",
   "id": "616b1ed4-6f9a-4e64-9cf9-9a1180405ddb",
   "metadata": {},
   "source": [
    "# 23.NumPy Logistic Distribution || random.Logistic() with Plot "
   ]
  },
  {
   "cell_type": "code",
   "execution_count": null,
   "id": "d684b9eb-cff4-4bb4-94dc-f7d7116e67b0",
   "metadata": {},
   "outputs": [],
   "source": []
  },
  {
   "cell_type": "markdown",
   "id": "956ac80e-759b-4d03-b3cf-2497e4d41a82",
   "metadata": {},
   "source": [
    "# 24. NumPy Multinomial Distribution || random.multinomial() & Plot"
   ]
  },
  {
   "cell_type": "code",
   "execution_count": null,
   "id": "c1d0fb33-369e-48fc-a8a4-02a65298a9c7",
   "metadata": {},
   "outputs": [],
   "source": []
  },
  {
   "cell_type": "markdown",
   "id": "5a70c84c-efa2-47db-bd6d-198db50466ac",
   "metadata": {},
   "source": [
    "# 25.NumPy Exponential Distribution || random.exponential() & Plot"
   ]
  },
  {
   "cell_type": "code",
   "execution_count": null,
   "id": "d8a3128d-9b7b-4c89-a668-261a93591a33",
   "metadata": {},
   "outputs": [],
   "source": []
  }
 ],
 "metadata": {
  "kernelspec": {
   "display_name": "Python 3 (ipykernel)",
   "language": "python",
   "name": "python3"
  },
  "language_info": {
   "codemirror_mode": {
    "name": "ipython",
    "version": 3
   },
   "file_extension": ".py",
   "mimetype": "text/x-python",
   "name": "python",
   "nbconvert_exporter": "python",
   "pygments_lexer": "ipython3",
   "version": "3.11.6"
  },
  "widgets": {
   "application/vnd.jupyter.widget-state+json": {
    "state": {},
    "version_major": 2,
    "version_minor": 0
   }
  }
 },
 "nbformat": 4,
 "nbformat_minor": 5
}
