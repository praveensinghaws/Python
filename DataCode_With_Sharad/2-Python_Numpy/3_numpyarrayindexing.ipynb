{
 "cells": [
  {
   "cell_type": "markdown",
   "id": "61acdbed-e58d-428e-a4b2-d60af38ca707",
   "metadata": {},
   "source": [
    "## Numpy Array Indexing"
   ]
  },
  {
   "cell_type": "code",
   "execution_count": 1,
   "id": "566c5633-e045-41ea-8b3b-9aa9965b2325",
   "metadata": {},
   "outputs": [
    {
     "name": "stdout",
     "output_type": "stream",
     "text": [
      "2\n"
     ]
    }
   ],
   "source": [
    "#1-D Array indexing is the same as accessing an array element. strat with 0, second 1\n",
    "import numpy as np\n",
    "sharad = np.array([1, 2, 3, 4])\n",
    "print(sharad[1])"
   ]
  },
  {
   "cell_type": "code",
   "execution_count": 2,
   "id": "42de04ec-07f4-4801-801d-9dc166fc1dbd",
   "metadata": {},
   "outputs": [
    {
     "name": "stdout",
     "output_type": "stream",
     "text": [
      "7\n"
     ]
    }
   ],
   "source": [
    "# we can get the third and forth elements from adding them\n",
    "import numpy as np\n",
    "sharad = np.array([1, 2, 3, 4])\n",
    "print(sharad[2] + sharad[3])"
   ]
  },
  {
   "cell_type": "code",
   "execution_count": 3,
   "id": "96f3e785-98fd-4323-9d3f-b67928d46352",
   "metadata": {},
   "outputs": [
    {
     "name": "stdout",
     "output_type": "stream",
     "text": [
      "2nd element in the 1st rows 2\n",
      "5th element in the 2nd rows 10\n"
     ]
    }
   ],
   "source": [
    "# Accessing the 2 -D - it is like a rows and columns.\n",
    "import numpy as np\n",
    "sharad = np.array([[1, 2, 3, 4, 5], [6, 7, 8, 9, 10]])\n",
    "print('2nd element in the 1st rows', sharad[0, 1])\n",
    "print('5th element in the 2nd rows', sharad[1, 4])"
   ]
  },
  {
   "cell_type": "code",
   "execution_count": 4,
   "id": "11f271f6-2644-4b3f-8154-6525e7ef6930",
   "metadata": {},
   "outputs": [
    {
     "name": "stdout",
     "output_type": "stream",
     "text": [
      "6\n"
     ]
    }
   ],
   "source": [
    "# accessing the 3-D - same as accessing\n",
    "\n",
    "import numpy as np\n",
    "sharad = np.array([[[1, 2, 3], [4, 5, 6]], [[7, 8, 9],[10, 11, 12 ]]])\n",
    "print(sharad[0, 1, 2])"
   ]
  }
 ],
 "metadata": {
  "kernelspec": {
   "display_name": "Python 3 (ipykernel)",
   "language": "python",
   "name": "python3"
  },
  "language_info": {
   "codemirror_mode": {
    "name": "ipython",
    "version": 3
   },
   "file_extension": ".py",
   "mimetype": "text/x-python",
   "name": "python",
   "nbconvert_exporter": "python",
   "pygments_lexer": "ipython3",
   "version": "3.11.4"
  }
 },
 "nbformat": 4,
 "nbformat_minor": 5
}
