{
 "cells": [
  {
   "cell_type": "markdown",
   "id": "c05ff7c0-ff78-4362-8a54-efa89022f853",
   "metadata": {},
   "source": [
    "# Numpy Copy View"
   ]
  },
  {
   "cell_type": "markdown",
   "id": "58575cf9-921b-4748-8998-2b61bdcfbc89",
   "metadata": {},
   "source": [
    "#### difference between numpy array copy and view.\n",
    "\n"
   ]
  },
  {
   "cell_type": "code",
   "execution_count": 1,
   "id": "4b369c74-9c8e-4b45-bced-55ba1302fce4",
   "metadata": {},
   "outputs": [
    {
     "name": "stdout",
     "output_type": "stream",
     "text": [
      "Old List [1 2 3 4 5]\n",
      "New List [12  2  3  4  5]\n"
     ]
    }
   ],
   "source": [
    "#we will make a copy, change in original array, and display both.\n",
    "import numpy as np\n",
    "sharad = np.array([1,2,3,4,5])\n",
    "sharad1 = sharad.copy()\n",
    "sharad1[0] = 12\n",
    "print(\"Old List\",sharad)\n",
    "print(\"New List\",sharad1)"
   ]
  },
  {
   "cell_type": "code",
   "execution_count": 2,
   "id": "2cbc3b85-e27f-4be8-8cc2-1c6747fac464",
   "metadata": {},
   "outputs": [
    {
     "name": "stdout",
     "output_type": "stream",
     "text": [
      "Old List [1 2 3 4 5]\n",
      "New List [31  2  3  4  5]\n"
     ]
    }
   ],
   "source": [
    "# now we will make a view, change original, display both\n",
    "\n",
    "import numpy as np\n",
    "praveen = np.array([1,2,3,4,5])\n",
    "praveen1 = sharad.view()\n",
    "sharad[0] = 31\n",
    "print(\"Old List\",praveen)\n",
    "print(\"New List\",praveen1)\n"
   ]
  }
 ],
 "metadata": {
  "kernelspec": {
   "display_name": "Python 3 (ipykernel)",
   "language": "python",
   "name": "python3"
  },
  "language_info": {
   "codemirror_mode": {
    "name": "ipython",
    "version": 3
   },
   "file_extension": ".py",
   "mimetype": "text/x-python",
   "name": "python",
   "nbconvert_exporter": "python",
   "pygments_lexer": "ipython3",
   "version": "3.11.4"
  }
 },
 "nbformat": 4,
 "nbformat_minor": 5
}
