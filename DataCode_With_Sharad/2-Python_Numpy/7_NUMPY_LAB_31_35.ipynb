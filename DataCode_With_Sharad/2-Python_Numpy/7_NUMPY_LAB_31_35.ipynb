{
 "cells": [
  {
   "cell_type": "markdown",
   "id": "185b9b16-f8cc-4ce6-a539-2b1393227689",
   "metadata": {},
   "source": [
    "# 31.NumPy Create Your Own ufunc || frompyfunc() or np.ufunc"
   ]
  },
  {
   "cell_type": "code",
   "execution_count": null,
   "id": "49f166a3-43c4-4225-92cf-678a58544985",
   "metadata": {},
   "outputs": [],
   "source": []
  },
  {
   "cell_type": "markdown",
   "id": "d2d09a5d-b0f3-4425-bf41-1bdf9e633486",
   "metadata": {},
   "source": [
    "# 32.NumPy Arithmetic ufunc || add() subtract() multiply() divide() "
   ]
  },
  {
   "cell_type": "code",
   "execution_count": null,
   "id": "b991083b-2a42-472b-9846-82d98675bfa1",
   "metadata": {},
   "outputs": [],
   "source": []
  },
  {
   "cell_type": "markdown",
   "id": "a5f00c8c-43e8-4329-9f9f-806b9ae19366",
   "metadata": {},
   "source": [
    "# 33.NumPy Rounding Decimals | trunc() fix() around() floor() ceil() "
   ]
  },
  {
   "cell_type": "code",
   "execution_count": null,
   "id": "1f812c93-901c-4aaa-aa4e-4ff4e5d0d798",
   "metadata": {},
   "outputs": [],
   "source": []
  },
  {
   "cell_type": "markdown",
   "id": "ca267cbe-100e-4eed-b5b2-df94884e1ae2",
   "metadata": {},
   "source": [
    "# 34.NumPy Summations & Cumulative Sum || sum() cumsum() axis=1 "
   ]
  },
  {
   "cell_type": "code",
   "execution_count": null,
   "id": "d88b7c55-be6b-485f-90df-002c1f66b86b",
   "metadata": {},
   "outputs": [],
   "source": []
  },
  {
   "cell_type": "markdown",
   "id": "161e7a44-aa33-431e-9d4b-cee459dd8ed2",
   "metadata": {},
   "source": [
    "# 35.NumPy Products & Cumulative Product || prod() cumprod() axis=1"
   ]
  },
  {
   "cell_type": "code",
   "execution_count": null,
   "id": "b8bb2023-05a0-4f95-b568-7c4456612045",
   "metadata": {},
   "outputs": [],
   "source": []
  }
 ],
 "metadata": {
  "kernelspec": {
   "display_name": "Python 3 (ipykernel)",
   "language": "python",
   "name": "python3"
  },
  "language_info": {
   "codemirror_mode": {
    "name": "ipython",
    "version": 3
   },
   "file_extension": ".py",
   "mimetype": "text/x-python",
   "name": "python",
   "nbconvert_exporter": "python",
   "pygments_lexer": "ipython3",
   "version": "3.11.6"
  },
  "widgets": {
   "application/vnd.jupyter.widget-state+json": {
    "state": {},
    "version_major": 2,
    "version_minor": 0
   }
  }
 },
 "nbformat": 4,
 "nbformat_minor": 5
}
