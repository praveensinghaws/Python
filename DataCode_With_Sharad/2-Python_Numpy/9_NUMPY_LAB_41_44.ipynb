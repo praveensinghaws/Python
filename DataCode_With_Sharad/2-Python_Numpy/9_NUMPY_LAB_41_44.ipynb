{
 "cells": [
  {
   "cell_type": "markdown",
   "id": "5cdb6b72-0674-4d2a-a122-18aad6f57ae4",
   "metadata": {},
   "source": [
    "# 41. NumPy Tutorial ufuncs Set Operations || unique() union1d() intersect1d() setdiff1d() setxor1d() "
   ]
  },
  {
   "cell_type": "code",
   "execution_count": null,
   "id": "74233ccc-d3c4-4082-928c-b624696b6e43",
   "metadata": {},
   "outputs": [],
   "source": []
  },
  {
   "cell_type": "markdown",
   "id": "966d558e-7cc5-4ee7-b856-300e530bef38",
   "metadata": {},
   "source": [
    "# 42.Python Data Science Project for Phone Sales Analysis"
   ]
  },
  {
   "cell_type": "code",
   "execution_count": null,
   "id": "7ded8fcb-a17b-447f-ac72-b7dc3726bc8a",
   "metadata": {},
   "outputs": [],
   "source": []
  },
  {
   "cell_type": "markdown",
   "id": "c130143f-104e-4b1d-a5c6-ac6ddfda6f85",
   "metadata": {},
   "source": [
    "# 43.App Usage With Screen Time Analysis"
   ]
  },
  {
   "cell_type": "code",
   "execution_count": null,
   "id": "9b959103-6212-4d65-aa1c-68229c9caf38",
   "metadata": {},
   "outputs": [],
   "source": []
  },
  {
   "cell_type": "markdown",
   "id": "1515bfe6-8dcf-4df6-8a58-1cba1f1d2c0f",
   "metadata": {},
   "source": [
    "# 44. Creating Machine Learning Model"
   ]
  },
  {
   "cell_type": "code",
   "execution_count": null,
   "id": "52076e98-3a92-4d82-8145-3a059ecc479a",
   "metadata": {},
   "outputs": [],
   "source": []
  },
  {
   "cell_type": "markdown",
   "id": "de55bbcd-c594-4ee2-a25f-59cec138bd90",
   "metadata": {},
   "source": [
    "# Done!"
   ]
  },
  {
   "cell_type": "code",
   "execution_count": null,
   "id": "88fe8b49-4864-47ca-a5f2-31d56adb42f5",
   "metadata": {},
   "outputs": [],
   "source": []
  }
 ],
 "metadata": {
  "kernelspec": {
   "display_name": "Python 3 (ipykernel)",
   "language": "python",
   "name": "python3"
  },
  "language_info": {
   "codemirror_mode": {
    "name": "ipython",
    "version": 3
   },
   "file_extension": ".py",
   "mimetype": "text/x-python",
   "name": "python",
   "nbconvert_exporter": "python",
   "pygments_lexer": "ipython3",
   "version": "3.11.6"
  },
  "widgets": {
   "application/vnd.jupyter.widget-state+json": {
    "state": {},
    "version_major": 2,
    "version_minor": 0
   }
  }
 },
 "nbformat": 4,
 "nbformat_minor": 5
}
