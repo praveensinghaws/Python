{
 "cells": [
  {
   "cell_type": "markdown",
   "id": "f3156d84-cb26-4f1a-8ab8-c6aad7622fec",
   "metadata": {},
   "source": [
    "# Numpy Data Types"
   ]
  },
  {
   "cell_type": "markdown",
   "id": "00e3307b-b1d6-41f3-b486-f3986f3f4d0d",
   "metadata": {},
   "source": [
    "Data types in python: string, integer, float, boolean, complex.\n",
    "#### Data types in Numpy \n",
    "* i for integer\n",
    "* b for boolean\n",
    "* u for unsigned integer\n",
    "* f for float\n",
    "* c for complex float\n",
    "* m for timedelta\n",
    "* M for datetime\n",
    "* O for object\n",
    "* S for string\n",
    "* U for unicode string\n",
    "* V - memory"
   ]
  },
  {
   "cell_type": "code",
   "execution_count": 1,
   "id": "78532456-d54a-4a0a-8b57-af159bafca58",
   "metadata": {},
   "outputs": [
    {
     "name": "stdout",
     "output_type": "stream",
     "text": [
      "Data Type: int64\n"
     ]
    }
   ],
   "source": [
    "# checking the data type of numpy array -dtype\n",
    "import numpy as np\n",
    "sharad= np.array([1,2,3,4])\n",
    "print(\"Data Type:\",sharad.dtype)"
   ]
  },
  {
   "cell_type": "code",
   "execution_count": 2,
   "id": "20a1b38f-6df3-4605-8b3c-eeb9b9aa75c0",
   "metadata": {},
   "outputs": [
    {
     "name": "stdout",
     "output_type": "stream",
     "text": [
      "Data Type: <U6\n"
     ]
    }
   ],
   "source": [
    "# checking the data type of numpy array - string\n",
    "\n",
    "import numpy as np\n",
    "sharad = np.array(['apple', 'banana', 'cherry'])\n",
    "print(\"Data Type:\",sharad.dtype)"
   ]
  },
  {
   "cell_type": "code",
   "execution_count": 3,
   "id": "a17d6644-7a06-4217-83ae-8aade41318d3",
   "metadata": {},
   "outputs": [
    {
     "name": "stdout",
     "output_type": "stream",
     "text": [
      "Array Output: [b'1' b'2' b'3' b'4']\n",
      "Data Type: |S1\n"
     ]
    }
   ],
   "source": [
    "# creating array with a defined data type:\n",
    "\n",
    "import numpy as np\n",
    "sharad = np.array([1, 2, 3, 4], dtype='S')\n",
    "\n",
    "print(\"Array Output:\",sharad)\n",
    "print(\"Data Type:\",sharad.dtype)"
   ]
  },
  {
   "cell_type": "code",
   "execution_count": 4,
   "id": "657d5d35-b28d-439f-a9b4-3df30ab743dd",
   "metadata": {},
   "outputs": [
    {
     "name": "stdout",
     "output_type": "stream",
     "text": [
      "Array Output: [1 2 3 4]\n",
      "Data Type: int32\n"
     ]
    }
   ],
   "source": [
    "# now we will create an array with data type of 4 byte int:\n",
    "import numpy as np\n",
    "sharad = np.array([1, 2, 3, 4], dtype='i4')\n",
    "print(\"Array Output:\",sharad)\n",
    "print(\"Data Type:\",sharad.dtype)\n"
   ]
  },
  {
   "cell_type": "code",
   "execution_count": 5,
   "id": "2f943a06-4b9d-4d7f-9e62-9c798e15d8fa",
   "metadata": {},
   "outputs": [
    {
     "ename": "ValueError",
     "evalue": "invalid literal for int() with base 10: 'a'",
     "output_type": "error",
     "traceback": [
      "\u001b[0;31m---------------------------------------------------------------------------\u001b[0m",
      "\u001b[0;31mValueError\u001b[0m                                Traceback (most recent call last)",
      "Cell \u001b[0;32mIn[5], line 4\u001b[0m\n\u001b[1;32m      1\u001b[0m \u001b[38;5;66;03m# if a type is given in which the elements cannot be casted then numpy will raise error. what if a value cannot be converted?\u001b[39;00m\n\u001b[1;32m      3\u001b[0m \u001b[38;5;28;01mimport\u001b[39;00m \u001b[38;5;21;01mnumpy\u001b[39;00m \u001b[38;5;28;01mas\u001b[39;00m \u001b[38;5;21;01mnp\u001b[39;00m\n\u001b[0;32m----> 4\u001b[0m sharad \u001b[38;5;241m=\u001b[39m \u001b[43mnp\u001b[49m\u001b[38;5;241;43m.\u001b[39;49m\u001b[43marray\u001b[49m\u001b[43m(\u001b[49m\u001b[43m[\u001b[49m\u001b[38;5;124;43m'\u001b[39;49m\u001b[38;5;124;43ma\u001b[39;49m\u001b[38;5;124;43m'\u001b[39;49m\u001b[43m,\u001b[49m\u001b[43m \u001b[49m\u001b[38;5;124;43m'\u001b[39;49m\u001b[38;5;124;43m2\u001b[39;49m\u001b[38;5;124;43m'\u001b[39;49m\u001b[43m,\u001b[49m\u001b[43m \u001b[49m\u001b[38;5;124;43m'\u001b[39;49m\u001b[38;5;124;43m3\u001b[39;49m\u001b[38;5;124;43m'\u001b[39;49m\u001b[43m]\u001b[49m\u001b[43m,\u001b[49m\u001b[43m \u001b[49m\u001b[43mdtype\u001b[49m\u001b[38;5;241;43m=\u001b[39;49m\u001b[38;5;124;43m'\u001b[39;49m\u001b[38;5;124;43mi\u001b[39;49m\u001b[38;5;124;43m'\u001b[39;49m\u001b[43m)\u001b[49m\n\u001b[1;32m      5\u001b[0m \u001b[38;5;28mprint\u001b[39m(sharad\u001b[38;5;241m.\u001b[39mdtype)\n",
      "\u001b[0;31mValueError\u001b[0m: invalid literal for int() with base 10: 'a'"
     ]
    }
   ],
   "source": [
    "# if a type is given in which the elements cannot be casted then numpy will raise error. what if a value cannot be converted?\n",
    "\n",
    "import numpy as np\n",
    "sharad = np.array(['a', '2', '3'], dtype='i')\n",
    "print(sharad.dtype)"
   ]
  },
  {
   "cell_type": "code",
   "execution_count": 6,
   "id": "646a443e-40a7-42c7-b666-86d1512558b1",
   "metadata": {},
   "outputs": [
    {
     "name": "stdout",
     "output_type": "stream",
     "text": [
      "Array Output: [1 2 3 4]\n",
      "Data Type After Converting: int32\n"
     ]
    }
   ],
   "source": [
    "#Converting data type in existing array - astype()\n",
    "import numpy as np\n",
    "sharad = np.array([1.1, 2.1, 3.1, 4.1])\n",
    "sharad1 = sharad.astype('i') # Converting data type\n",
    "print(\"Array Output:\",sharad1) # new data type\n",
    "print(\"Data Type After Converting:\",sharad1.dtype) # new data type\n"
   ]
  },
  {
   "cell_type": "code",
   "execution_count": 7,
   "id": "b2feadd5-004c-4983-bf7b-b4840ac0e47a",
   "metadata": {},
   "outputs": [
    {
     "name": "stdout",
     "output_type": "stream",
     "text": [
      "Array Output: [ True False  True]\n",
      "Data Type After Converting integer to boolean: bool\n"
     ]
    }
   ],
   "source": [
    "#Converting data type from integer to boolean\n",
    "import numpy as np\n",
    "sharad = np.array([1, 0, 3])\n",
    "sharad1 = sharad.astype(bool)\n",
    "print(\"Array Output:\",sharad1)\n",
    "print(\"Data Type After Converting integer to boolean:\",sharad1.dtype)"
   ]
  },
  {
   "cell_type": "code",
   "execution_count": null,
   "id": "dd5e2f46-d1e1-42c3-b142-372589e99afc",
   "metadata": {},
   "outputs": [],
   "source": []
  }
 ],
 "metadata": {
  "kernelspec": {
   "display_name": "Python 3 (ipykernel)",
   "language": "python",
   "name": "python3"
  },
  "language_info": {
   "codemirror_mode": {
    "name": "ipython",
    "version": 3
   },
   "file_extension": ".py",
   "mimetype": "text/x-python",
   "name": "python",
   "nbconvert_exporter": "python",
   "pygments_lexer": "ipython3",
   "version": "3.11.4"
  }
 },
 "nbformat": 4,
 "nbformat_minor": 5
}
