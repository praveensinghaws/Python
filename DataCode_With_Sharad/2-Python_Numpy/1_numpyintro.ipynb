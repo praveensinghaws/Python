{
 "cells": [
  {
   "cell_type": "markdown",
   "id": "7608be16-9142-48c5-b29e-8d925f6ab553",
   "metadata": {},
   "source": [
    "# Numpy Introduction"
   ]
  },
  {
   "cell_type": "markdown",
   "id": "918468b7-2d94-4017-9c6e-e2e3d5af3122",
   "metadata": {},
   "source": [
    "#### What is Numpy?\n",
    "Numpy is a python library. used for working with arrays. It also has functions for working in domain of linear algebra fourier transform and matrices.\n",
    "\n",
    "#### Numpy stands for Numerical Python\n",
    "\n",
    "#### Why use Numpy?\n",
    "In python, we have lists that serve the purpose of arrays. But they are slow to process. numb by aims to provide. An array object that is up to 50 X faster than traditional python lists.\n",
    "\n",
    "#### Why is numpy faster than lists?\n",
    "Numpy arrays are stored at one continuous place in memory, unlike lists, So process. can access and manipulate them very Efficiently.\n",
    "\n",
    "#### Which Language is numpy written in?\n",
    "Numpy is a python library and it is written partially in python, but most of the parts that require first computation are. written in C or C++.\n",
    "\n",
    "#### Where is the Numpy Codebase?\n",
    "The source code of Nampa is located at this Github repository.\n",
    "*https://github.com/numpy/numpy*\n",
    "\n"
   ]
  },
  {
   "cell_type": "code",
   "execution_count": 1,
   "id": "5e1e4454-c7dd-4c37-80e4-d224a50d32d5",
   "metadata": {},
   "outputs": [
    {
     "name": "stdout",
     "output_type": "stream",
     "text": [
      "1.25.2\n"
     ]
    }
   ],
   "source": [
    "import numpy as np\n",
    "print(np.__version__) "
   ]
  }
 ],
 "metadata": {
  "kernelspec": {
   "display_name": "Python 3 (ipykernel)",
   "language": "python",
   "name": "python3"
  },
  "language_info": {
   "codemirror_mode": {
    "name": "ipython",
    "version": 3
   },
   "file_extension": ".py",
   "mimetype": "text/x-python",
   "name": "python",
   "nbconvert_exporter": "python",
   "pygments_lexer": "ipython3",
   "version": "3.11.4"
  }
 },
 "nbformat": 4,
 "nbformat_minor": 5
}
