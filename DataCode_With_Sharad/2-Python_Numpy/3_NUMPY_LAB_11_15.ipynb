{
 "cells": [
  {
   "cell_type": "markdown",
   "id": "0ce42588-343e-43f7-ae45-6bba29ab304b",
   "metadata": {},
   "source": [
    "# LECTURE 11: NumPy Splitting Array"
   ]
  },
  {
   "cell_type": "code",
   "execution_count": null,
   "id": "94d4c555-70aa-462f-a6b3-15fd8cea5101",
   "metadata": {},
   "outputs": [],
   "source": []
  },
  {
   "cell_type": "code",
   "execution_count": null,
   "id": "22c4b218-7a44-4687-8d9f-8cc6cbbab5b1",
   "metadata": {},
   "outputs": [],
   "source": []
  },
  {
   "cell_type": "code",
   "execution_count": null,
   "id": "ff72c2df-c00b-48c3-907d-10b4fa3e1abf",
   "metadata": {},
   "outputs": [],
   "source": []
  }
 ],
 "metadata": {
  "kernelspec": {
   "display_name": "Python 3 (ipykernel)",
   "language": "python",
   "name": "python3"
  },
  "language_info": {
   "codemirror_mode": {
    "name": "ipython",
    "version": 3
   },
   "file_extension": ".py",
   "mimetype": "text/x-python",
   "name": "python",
   "nbconvert_exporter": "python",
   "pygments_lexer": "ipython3",
   "version": "3.11.6"
  },
  "widgets": {
   "application/vnd.jupyter.widget-state+json": {
    "state": {},
    "version_major": 2,
    "version_minor": 0
   }
  }
 },
 "nbformat": 4,
 "nbformat_minor": 5
}
