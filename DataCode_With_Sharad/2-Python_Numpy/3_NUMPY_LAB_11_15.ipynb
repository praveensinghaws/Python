{
 "cells": [
  {
   "cell_type": "markdown",
   "id": "0ce42588-343e-43f7-ae45-6bba29ab304b",
   "metadata": {},
   "source": [
    "# LECTURE 11: NumPy Splitting Array\n",
    "* spliting arrays in numpy- it is reverse to joining, breaking the array.\n",
    "* array_split()"
   ]
  },
  {
   "cell_type": "code",
   "execution_count": 1,
   "id": "94d4c555-70aa-462f-a6b3-15fd8cea5101",
   "metadata": {},
   "outputs": [
    {
     "name": "stdout",
     "output_type": "stream",
     "text": [
      "Split result: [array([1, 2]), array([3, 4]), array([5, 6])]\n"
     ]
    }
   ],
   "source": [
    "# split the array in 3 parts:\n",
    "\n",
    "import numpy as np\n",
    "\n",
    "# Creating a 1D array with 6 elements\n",
    "arr = np.array([1, 2, 3, 4, 5, 6])\n",
    "\n",
    "# Splitting the array into 3 subarrays\n",
    "result = np.split(arr, 3)\n",
    "\n",
    "# Printing the result\n",
    "print(\"Split result:\", result)"
   ]
  },
  {
   "cell_type": "code",
   "execution_count": 2,
   "id": "22c4b218-7a44-4687-8d9f-8cc6cbbab5b1",
   "metadata": {},
   "outputs": [
    {
     "name": "stdout",
     "output_type": "stream",
     "text": [
      "Split result: [array([1, 2]), array([3, 4]), array([5, 6]), array([7, 8])]\n"
     ]
    }
   ],
   "source": [
    "import numpy as np\n",
    "\n",
    "# Creating a 1D array with 8 elements\n",
    "arr = np.array([1, 2, 3, 4, 5, 6, 7, 8])\n",
    "\n",
    "# Splitting the array into 4 subarrays\n",
    "result = np.split(arr, 4)\n",
    "\n",
    "# Printing the result\n",
    "print(\"Split result:\", result)\n"
   ]
  },
  {
   "cell_type": "markdown",
   "id": "559aef75-4cf7-4d99-bc14-ea2755bc3140",
   "metadata": {},
   "source": [
    "If you've seen an example where someone successfully split an array into an uneven number of subarrays, it's possible that they used a different function or approach. While `np.split()` requires an equal division, there are other functions in NumPy that can handle uneven splits or provide more flexibility in splitting arrays.\n",
    "\n",
    "One alternative is `np.array_split()`, which can handle uneven splits by creating subarrays with varying sizes to accommodate the uneven division:\n",
    "\n",
    "```python\n",
    "import numpy as np\n",
    "\n",
    "# Creating a 1D array with 6 elements\n",
    "arr = np.array([1, 2, 3, 4, 5, 6])\n",
    "\n",
    "# Splitting the array into 4 subarrays (uneven division allowed)\n",
    "result = np.array_split(arr, 4)\n",
    "\n",
    "# Printing the result\n",
    "print(\"Split result:\", result)\n",
    "```\n",
    "\n",
    "This will split the array into 4 subarrays, allowing for uneven division if the array size is not perfectly divisible by the number of splits."
   ]
  },
  {
   "cell_type": "code",
   "execution_count": 3,
   "id": "c7832769-3206-4fb7-b76f-1127cc1c6b17",
   "metadata": {},
   "outputs": [
    {
     "name": "stdout",
     "output_type": "stream",
     "text": [
      "First subarray: [1 2]\n",
      "Second subarray: [3 4]\n",
      "Third subarray: [5 6]\n"
     ]
    }
   ],
   "source": [
    "# Spliting into array with index\n",
    "import numpy as np\n",
    "\n",
    "# Create a NumPy array with 6 elements\n",
    "arr = np.array([1, 2, 3, 4, 5, 6])\n",
    "\n",
    "# Split the array into 3 subarrays\n",
    "result = np.array_split(arr, 3)\n",
    "\n",
    "# Print the first subarray resulting from the split\n",
    "print(\"First subarray:\", result[0])\n",
    "\n",
    "# Print the second subarray resulting from the split\n",
    "print(\"Second subarray:\", result[1])\n",
    "\n",
    "# Print the third subarray resulting from the split\n",
    "print(\"Third subarray:\", result[2])\n"
   ]
  },
  {
   "cell_type": "code",
   "execution_count": 4,
   "id": "adf13b18-bc19-4ad8-8b8a-8de8811e5b55",
   "metadata": {},
   "outputs": [
    {
     "name": "stdout",
     "output_type": "stream",
     "text": [
      "First subarray:\n",
      " [[1 2]\n",
      " [3 4]]\n",
      "Second subarray:\n",
      " [[5 6]\n",
      " [7 8]]\n",
      "Third subarray:\n",
      " [[ 9 10]\n",
      " [11 12]]\n"
     ]
    }
   ],
   "source": [
    "# Splitting the 2-D array into three 2D Array\n",
    "import numpy as np\n",
    "\n",
    "# Create a NumPy array with 6 rows and 2 columns\n",
    "arr = np.array([[1, 2], [3, 4], [5, 6], [7, 8], [9, 10], [11, 12]])\n",
    "\n",
    "# Split the array into 3 subarrays along the rows\n",
    "result = np.array_split(arr, 3)\n",
    "\n",
    "# Print the first subarray resulting from the split\n",
    "print(\"First subarray:\\n\", result[0])\n",
    "\n",
    "# Print the second subarray resulting from the split\n",
    "print(\"Second subarray:\\n\", result[1])\n",
    "\n",
    "# Print the third subarray resulting from the split\n",
    "print(\"Third subarray:\\n\", result[2])\n"
   ]
  },
  {
   "cell_type": "code",
   "execution_count": 5,
   "id": "63645e8c-109e-49dd-a6ff-1f04a2705444",
   "metadata": {},
   "outputs": [
    {
     "name": "stdout",
     "output_type": "stream",
     "text": [
      "First subarray:\n",
      " [[1 2 3]\n",
      " [4 5 6]]\n",
      "Second subarray:\n",
      " [[ 7  8  9]\n",
      " [10 11 12]]\n",
      "Third subarray:\n",
      " [[13 14 15]\n",
      " [16 17 18]]\n"
     ]
    }
   ],
   "source": [
    "# Splitting the 2-D array into three 2D arrays\n",
    "import numpy as np\n",
    "\n",
    "# Create a NumPy array with 6 rows and 2 columns\n",
    "arr = np.array([[1, 2, 3], [4, 5, 6], [7, 8, 9], [10, 11, 12], [13, 14, 15], [16, 17, 18]])\n",
    "\n",
    "# Split the array into 3 subarrays along the rows\n",
    "result = np.array_split(arr, 3)\n",
    "\n",
    "# Print the first subarray resulting from the split\n",
    "print(\"First subarray:\\n\", result[0])\n",
    "\n",
    "# Print the second subarray resulting from the split\n",
    "print(\"Second subarray:\\n\", result[1])\n",
    "\n",
    "# Print the third subarray resulting from the split\n",
    "print(\"Third subarray:\\n\", result[2])\n"
   ]
  },
  {
   "cell_type": "code",
   "execution_count": 6,
   "id": "14b4193d-1169-4be4-b86c-5878e5b3ce4a",
   "metadata": {},
   "outputs": [
    {
     "name": "stdout",
     "output_type": "stream",
     "text": [
      "First subarray:\n",
      " [[ 1]\n",
      " [ 4]\n",
      " [ 7]\n",
      " [10]\n",
      " [13]\n",
      " [16]]\n",
      "Second subarray:\n",
      " [[ 2]\n",
      " [ 5]\n",
      " [ 8]\n",
      " [11]\n",
      " [14]\n",
      " [17]]\n",
      "Third subarray:\n",
      " [[ 3]\n",
      " [ 6]\n",
      " [ 9]\n",
      " [12]\n",
      " [15]\n",
      " [18]]\n"
     ]
    }
   ],
   "source": [
    "# Splitting the 2-D array into three 2D Arrays along with rows\n",
    "import numpy as np\n",
    "\n",
    "# Create a NumPy array with 6 rows and 2 columns\n",
    "arr = np.array([[1, 2, 3], [4, 5, 6], [7, 8, 9], [10, 11, 12], [13, 14, 15], [16, 17, 18]])\n",
    "\n",
    "# Split the array into 3 subarrays along the rows\n",
    "result = np.array_split(arr, 3, axis=1)\n",
    "\n",
    "# Print the first subarray resulting from the split\n",
    "print(\"First subarray:\\n\", result[0])\n",
    "\n",
    "# Print the second subarray resulting from the split\n",
    "print(\"Second subarray:\\n\", result[1])\n",
    "\n",
    "# Print the third subarray resulting from the split\n",
    "print(\"Third subarray:\\n\", result[2])\n"
   ]
  },
  {
   "cell_type": "code",
   "execution_count": 7,
   "id": "c353707f-34dd-43d3-ba37-5b9cfc6a86dc",
   "metadata": {},
   "outputs": [
    {
     "name": "stdout",
     "output_type": "stream",
     "text": [
      "First subarray:\n",
      " [[ 1]\n",
      " [ 4]\n",
      " [ 7]\n",
      " [10]\n",
      " [13]\n",
      " [16]]\n",
      "Second subarray:\n",
      " [[ 2]\n",
      " [ 5]\n",
      " [ 8]\n",
      " [11]\n",
      " [14]\n",
      " [17]]\n",
      "Third subarray:\n",
      " [[ 3]\n",
      " [ 6]\n",
      " [ 9]\n",
      " [12]\n",
      " [15]\n",
      " [18]]\n"
     ]
    }
   ],
   "source": [
    "# Alternate solution using hsplit(), opposite hstack()\n",
    "import numpy as np\n",
    "\n",
    "# Create a NumPy array with 6 rows and 2 columns\n",
    "arr = np.array([[1, 2, 3], [4, 5, 6], [7, 8, 9], [10, 11, 12], [13, 14, 15], [16, 17, 18]])\n",
    "\n",
    "# Split the array into 3 subarrays along the rows\n",
    "result = np.hsplit(arr, 3)\n",
    "\n",
    "# Print the first subarray resulting from the split\n",
    "print(\"First subarray:\\n\", result[0])\n",
    "\n",
    "# Print the second subarray resulting from the split\n",
    "print(\"Second subarray:\\n\", result[1])\n",
    "\n",
    "# Print the third subarray resulting from the split\n",
    "print(\"Third subarray:\\n\", result[2])\n"
   ]
  },
  {
   "cell_type": "code",
   "execution_count": 8,
   "id": "44d0efe5-67bc-41c6-949b-29b6c00c25f6",
   "metadata": {},
   "outputs": [
    {
     "name": "stdout",
     "output_type": "stream",
     "text": [
      "First subarray:\n",
      " [[1 2]\n",
      " [3 4]]\n",
      "Second subarray:\n",
      " [[5 6]\n",
      " [7 8]]\n",
      "Third subarray:\n",
      " [[ 9 10]\n",
      " [11 12]]\n"
     ]
    }
   ],
   "source": [
    "# Using vsplit() to split along the vertical axis\n",
    "import numpy as np\n",
    "\n",
    "# Create a NumPy array with 6 rows and 2 columns\n",
    "arr = np.array([[1, 2], [3, 4], [5, 6], [7, 8], [9, 10], [11, 12]])\n",
    "\n",
    "# Split the array into 3 subarrays along the vertical axis\n",
    "result = np.vsplit(arr, 3)\n",
    "\n",
    "# Print the first subarray resulting from the split\n",
    "print(\"First subarray:\\n\", result[0])\n",
    "\n",
    "# Print the second subarray resulting from the split\n",
    "print(\"Second subarray:\\n\", result[1])\n",
    "\n",
    "# Print the third subarray resulting from the split\n",
    "print(\"Third subarray:\\n\", result[2])\n"
   ]
  },
  {
   "cell_type": "code",
   "execution_count": 9,
   "id": "65454b0b-407a-4590-b3e8-11cf9545f2e1",
   "metadata": {},
   "outputs": [
    {
     "name": "stdout",
     "output_type": "stream",
     "text": [
      "Stacked array along the third axis:\n",
      " [[[ 1 10]\n",
      "  [ 2 11]\n",
      "  [ 3 12]]\n",
      "\n",
      " [[ 4 13]\n",
      "  [ 5 14]\n",
      "  [ 6 15]]\n",
      "\n",
      " [[ 7 16]\n",
      "  [ 8 17]\n",
      "  [ 9 18]]]\n"
     ]
    }
   ],
   "source": [
    "# Using dstack() to stack arrays along the third axis\n",
    "import numpy as np\n",
    "\n",
    "# Create two 2D NumPy arrays\n",
    "arr1 = np.array([[1, 2, 3], [4, 5, 6], [7, 8, 9]])\n",
    "arr2 = np.array([[10, 11, 12], [13, 14, 15], [16, 17, 18]])\n",
    "\n",
    "# Stack the arrays along the third axis\n",
    "result = np.dstack((arr1, arr2))\n",
    "\n",
    "# Print the resulting stacked array\n",
    "print(\"Stacked array along the third axis:\\n\", result)\n"
   ]
  },
  {
   "cell_type": "markdown",
   "id": "e2a00e57-2b69-48ca-8d29-369bb0102360",
   "metadata": {},
   "source": [
    "# 12. NumPy Searching Array || where & searchsorted"
   ]
  },
  {
   "cell_type": "code",
   "execution_count": null,
   "id": "e34d33f8-1862-4cbd-86bd-7da88a1c75b2",
   "metadata": {},
   "outputs": [],
   "source": []
  },
  {
   "cell_type": "code",
   "execution_count": null,
   "id": "5bb1a7e7-7532-4563-aa9e-f8ff2f7abf7e",
   "metadata": {},
   "outputs": [],
   "source": []
  },
  {
   "cell_type": "code",
   "execution_count": null,
   "id": "64fa6a4a-b251-47c9-b58b-1f393c4f4feb",
   "metadata": {},
   "outputs": [],
   "source": []
  },
  {
   "cell_type": "code",
   "execution_count": null,
   "id": "381e4709-a22b-47e7-8f61-10ea7fd6fd2a",
   "metadata": {},
   "outputs": [],
   "source": []
  },
  {
   "cell_type": "code",
   "execution_count": null,
   "id": "5175638a-72bd-403a-8f38-8e5c0ca09daa",
   "metadata": {},
   "outputs": [],
   "source": []
  },
  {
   "cell_type": "markdown",
   "id": "d934fc20-a1b0-42f1-ace8-4edade574359",
   "metadata": {},
   "source": [
    "# 13. NumPy Sorting Array || Sort() 1D, 2D, 3D Array "
   ]
  },
  {
   "cell_type": "code",
   "execution_count": null,
   "id": "253ccaef-6119-4f6a-a120-bade65426523",
   "metadata": {},
   "outputs": [],
   "source": []
  },
  {
   "cell_type": "code",
   "execution_count": null,
   "id": "c8195557-7a0a-4d08-a5c3-b719a0964bdf",
   "metadata": {},
   "outputs": [],
   "source": []
  },
  {
   "cell_type": "code",
   "execution_count": null,
   "id": "58d5aba3-8abc-4eb5-a113-52e3773ff6b3",
   "metadata": {},
   "outputs": [],
   "source": []
  },
  {
   "cell_type": "code",
   "execution_count": null,
   "id": "67dc3f3d-4776-41db-9886-b80ef06ddcab",
   "metadata": {},
   "outputs": [],
   "source": []
  },
  {
   "cell_type": "code",
   "execution_count": null,
   "id": "01dd7b9a-d209-4b4a-a790-8fcec5b64934",
   "metadata": {},
   "outputs": [],
   "source": []
  },
  {
   "cell_type": "code",
   "execution_count": null,
   "id": "93a7237a-a4d9-4802-80d1-364154949e35",
   "metadata": {},
   "outputs": [],
   "source": []
  },
  {
   "cell_type": "markdown",
   "id": "720f3b18-d28d-4d01-add8-5d4a1703ddbb",
   "metadata": {},
   "source": [
    "# 14. NumPy Filter Array || Creating the Filter Array"
   ]
  },
  {
   "cell_type": "code",
   "execution_count": null,
   "id": "5a6181ff-0ee2-4bd0-a027-c4e38578b302",
   "metadata": {},
   "outputs": [],
   "source": []
  },
  {
   "cell_type": "code",
   "execution_count": null,
   "id": "861e9177-e29e-44b8-8b23-918498cab5d8",
   "metadata": {},
   "outputs": [],
   "source": []
  },
  {
   "cell_type": "code",
   "execution_count": null,
   "id": "4cfbe4d1-40fd-4d71-aa50-a0f84b1bfcc4",
   "metadata": {},
   "outputs": [],
   "source": []
  },
  {
   "cell_type": "code",
   "execution_count": null,
   "id": "397d4f31-4d00-48ce-8e98-be3d5a445bd3",
   "metadata": {},
   "outputs": [],
   "source": []
  },
  {
   "cell_type": "code",
   "execution_count": null,
   "id": "3b9c1125-1107-404b-abdc-63757ca595e4",
   "metadata": {},
   "outputs": [],
   "source": []
  },
  {
   "cell_type": "code",
   "execution_count": null,
   "id": "6cdc4746-8ac9-464c-800b-c61a814ddbcf",
   "metadata": {},
   "outputs": [],
   "source": []
  },
  {
   "cell_type": "code",
   "execution_count": null,
   "id": "98ee67e5-28a1-4a07-8780-dedcc7087d90",
   "metadata": {},
   "outputs": [],
   "source": []
  },
  {
   "cell_type": "markdown",
   "id": "a8aba056-ef78-4ad7-a3d9-79255f80b847",
   "metadata": {},
   "source": [
    "# 15. NumPy Random Numbers || rand() randint() choice() "
   ]
  },
  {
   "cell_type": "code",
   "execution_count": null,
   "id": "b5871a23-5661-4460-9450-7e3153c6a02b",
   "metadata": {},
   "outputs": [],
   "source": []
  },
  {
   "cell_type": "code",
   "execution_count": null,
   "id": "40448542-7d58-4ad6-95da-a353c8477d87",
   "metadata": {},
   "outputs": [],
   "source": []
  },
  {
   "cell_type": "code",
   "execution_count": null,
   "id": "2b973802-4b30-4e6b-acaf-98fbe7e42701",
   "metadata": {},
   "outputs": [],
   "source": []
  },
  {
   "cell_type": "code",
   "execution_count": null,
   "id": "6603ee4d-63ea-4b2f-bbf4-1ae42fe4bed6",
   "metadata": {},
   "outputs": [],
   "source": []
  },
  {
   "cell_type": "code",
   "execution_count": null,
   "id": "da335a31-35c3-4f1f-a5f7-d6ad86de02af",
   "metadata": {},
   "outputs": [],
   "source": []
  },
  {
   "cell_type": "code",
   "execution_count": null,
   "id": "5f02a352-58cc-4889-89f5-f3d36dbd48fb",
   "metadata": {},
   "outputs": [],
   "source": []
  }
 ],
 "metadata": {
  "kernelspec": {
   "display_name": "Python 3 (ipykernel)",
   "language": "python",
   "name": "python3"
  },
  "language_info": {
   "codemirror_mode": {
    "name": "ipython",
    "version": 3
   },
   "file_extension": ".py",
   "mimetype": "text/x-python",
   "name": "python",
   "nbconvert_exporter": "python",
   "pygments_lexer": "ipython3",
   "version": "3.11.6"
  },
  "widgets": {
   "application/vnd.jupyter.widget-state+json": {
    "state": {},
    "version_major": 2,
    "version_minor": 0
   }
  }
 },
 "nbformat": 4,
 "nbformat_minor": 5
}
