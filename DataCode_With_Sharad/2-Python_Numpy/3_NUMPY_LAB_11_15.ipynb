{
 "cells": [
  {
   "cell_type": "markdown",
   "id": "0ce42588-343e-43f7-ae45-6bba29ab304b",
   "metadata": {},
   "source": [
    "# LECTURE 11: NumPy Splitting Array\n",
    "* spliting arrays in numpy- it is reverse to joining, breaking the array.\n",
    "* array_split()"
   ]
  },
  {
   "cell_type": "code",
   "execution_count": 1,
   "id": "94d4c555-70aa-462f-a6b3-15fd8cea5101",
   "metadata": {},
   "outputs": [
    {
     "name": "stdout",
     "output_type": "stream",
     "text": [
      "Split result: [array([1, 2]), array([3, 4]), array([5, 6])]\n"
     ]
    }
   ],
   "source": [
    "# split the array in 3 parts:\n",
    "\n",
    "import numpy as np\n",
    "\n",
    "# Creating a 1D array with 6 elements\n",
    "arr = np.array([1, 2, 3, 4, 5, 6])\n",
    "\n",
    "# Splitting the array into 3 subarrays\n",
    "result = np.split(arr, 3)\n",
    "\n",
    "# Printing the result\n",
    "print(\"Split result:\", result)"
   ]
  },
  {
   "cell_type": "code",
   "execution_count": 2,
   "id": "22c4b218-7a44-4687-8d9f-8cc6cbbab5b1",
   "metadata": {},
   "outputs": [
    {
     "name": "stdout",
     "output_type": "stream",
     "text": [
      "Split result: [array([1, 2]), array([3, 4]), array([5, 6]), array([7, 8])]\n"
     ]
    }
   ],
   "source": [
    "import numpy as np\n",
    "\n",
    "# Creating a 1D array with 8 elements\n",
    "arr = np.array([1, 2, 3, 4, 5, 6, 7, 8])\n",
    "\n",
    "# Splitting the array into 4 subarrays\n",
    "result = np.split(arr, 4)\n",
    "\n",
    "# Printing the result\n",
    "print(\"Split result:\", result)\n"
   ]
  },
  {
   "cell_type": "markdown",
   "id": "559aef75-4cf7-4d99-bc14-ea2755bc3140",
   "metadata": {},
   "source": [
    "If you've seen an example where someone successfully split an array into an uneven number of subarrays, it's possible that they used a different function or approach. While `np.split()` requires an equal division, there are other functions in NumPy that can handle uneven splits or provide more flexibility in splitting arrays.\n",
    "\n",
    "One alternative is `np.array_split()`, which can handle uneven splits by creating subarrays with varying sizes to accommodate the uneven division:\n",
    "\n",
    "```python\n",
    "import numpy as np\n",
    "\n",
    "# Creating a 1D array with 6 elements\n",
    "arr = np.array([1, 2, 3, 4, 5, 6])\n",
    "\n",
    "# Splitting the array into 4 subarrays (uneven division allowed)\n",
    "result = np.array_split(arr, 4)\n",
    "\n",
    "# Printing the result\n",
    "print(\"Split result:\", result)\n",
    "```\n",
    "\n",
    "This will split the array into 4 subarrays, allowing for uneven division if the array size is not perfectly divisible by the number of splits."
   ]
  },
  {
   "cell_type": "code",
   "execution_count": 3,
   "id": "c7832769-3206-4fb7-b76f-1127cc1c6b17",
   "metadata": {},
   "outputs": [
    {
     "name": "stdout",
     "output_type": "stream",
     "text": [
      "First subarray: [1 2]\n",
      "Second subarray: [3 4]\n",
      "Third subarray: [5 6]\n"
     ]
    }
   ],
   "source": [
    "# Spliting into array with index\n",
    "import numpy as np\n",
    "\n",
    "# Create a NumPy array with 6 elements\n",
    "arr = np.array([1, 2, 3, 4, 5, 6])\n",
    "\n",
    "# Split the array into 3 subarrays\n",
    "result = np.array_split(arr, 3)\n",
    "\n",
    "# Print the first subarray resulting from the split\n",
    "print(\"First subarray:\", result[0])\n",
    "\n",
    "# Print the second subarray resulting from the split\n",
    "print(\"Second subarray:\", result[1])\n",
    "\n",
    "# Print the third subarray resulting from the split\n",
    "print(\"Third subarray:\", result[2])\n"
   ]
  },
  {
   "cell_type": "code",
   "execution_count": 4,
   "id": "adf13b18-bc19-4ad8-8b8a-8de8811e5b55",
   "metadata": {},
   "outputs": [
    {
     "name": "stdout",
     "output_type": "stream",
     "text": [
      "First subarray:\n",
      " [[1 2]\n",
      " [3 4]]\n",
      "Second subarray:\n",
      " [[5 6]\n",
      " [7 8]]\n",
      "Third subarray:\n",
      " [[ 9 10]\n",
      " [11 12]]\n"
     ]
    }
   ],
   "source": [
    "# Splitting the 2-D array into three 2D Array\n",
    "import numpy as np\n",
    "\n",
    "# Create a NumPy array with 6 rows and 2 columns\n",
    "arr = np.array([[1, 2], [3, 4], [5, 6], [7, 8], [9, 10], [11, 12]])\n",
    "\n",
    "# Split the array into 3 subarrays along the rows\n",
    "result = np.array_split(arr, 3)\n",
    "\n",
    "# Print the first subarray resulting from the split\n",
    "print(\"First subarray:\\n\", result[0])\n",
    "\n",
    "# Print the second subarray resulting from the split\n",
    "print(\"Second subarray:\\n\", result[1])\n",
    "\n",
    "# Print the third subarray resulting from the split\n",
    "print(\"Third subarray:\\n\", result[2])\n"
   ]
  },
  {
   "cell_type": "code",
   "execution_count": 5,
   "id": "63645e8c-109e-49dd-a6ff-1f04a2705444",
   "metadata": {},
   "outputs": [
    {
     "name": "stdout",
     "output_type": "stream",
     "text": [
      "First subarray:\n",
      " [[1 2 3]\n",
      " [4 5 6]]\n",
      "Second subarray:\n",
      " [[ 7  8  9]\n",
      " [10 11 12]]\n",
      "Third subarray:\n",
      " [[13 14 15]\n",
      " [16 17 18]]\n"
     ]
    }
   ],
   "source": [
    "# Splitting the 2-D array into three 2D arrays\n",
    "import numpy as np\n",
    "\n",
    "# Create a NumPy array with 6 rows and 2 columns\n",
    "arr = np.array([[1, 2, 3], [4, 5, 6], [7, 8, 9], [10, 11, 12], [13, 14, 15], [16, 17, 18]])\n",
    "\n",
    "# Split the array into 3 subarrays along the rows\n",
    "result = np.array_split(arr, 3)\n",
    "\n",
    "# Print the first subarray resulting from the split\n",
    "print(\"First subarray:\\n\", result[0])\n",
    "\n",
    "# Print the second subarray resulting from the split\n",
    "print(\"Second subarray:\\n\", result[1])\n",
    "\n",
    "# Print the third subarray resulting from the split\n",
    "print(\"Third subarray:\\n\", result[2])\n"
   ]
  },
  {
   "cell_type": "code",
   "execution_count": 6,
   "id": "14b4193d-1169-4be4-b86c-5878e5b3ce4a",
   "metadata": {},
   "outputs": [
    {
     "name": "stdout",
     "output_type": "stream",
     "text": [
      "First subarray:\n",
      " [[ 1]\n",
      " [ 4]\n",
      " [ 7]\n",
      " [10]\n",
      " [13]\n",
      " [16]]\n",
      "Second subarray:\n",
      " [[ 2]\n",
      " [ 5]\n",
      " [ 8]\n",
      " [11]\n",
      " [14]\n",
      " [17]]\n",
      "Third subarray:\n",
      " [[ 3]\n",
      " [ 6]\n",
      " [ 9]\n",
      " [12]\n",
      " [15]\n",
      " [18]]\n"
     ]
    }
   ],
   "source": [
    "# Splitting the 2-D array into three 2D Arrays along with rows\n",
    "import numpy as np\n",
    "\n",
    "# Create a NumPy array with 6 rows and 2 columns\n",
    "arr = np.array([[1, 2, 3], [4, 5, 6], [7, 8, 9], [10, 11, 12], [13, 14, 15], [16, 17, 18]])\n",
    "\n",
    "# Split the array into 3 subarrays along the rows\n",
    "result = np.array_split(arr, 3, axis=1)\n",
    "\n",
    "# Print the first subarray resulting from the split\n",
    "print(\"First subarray:\\n\", result[0])\n",
    "\n",
    "# Print the second subarray resulting from the split\n",
    "print(\"Second subarray:\\n\", result[1])\n",
    "\n",
    "# Print the third subarray resulting from the split\n",
    "print(\"Third subarray:\\n\", result[2])\n"
   ]
  },
  {
   "cell_type": "code",
   "execution_count": 7,
   "id": "c353707f-34dd-43d3-ba37-5b9cfc6a86dc",
   "metadata": {},
   "outputs": [
    {
     "name": "stdout",
     "output_type": "stream",
     "text": [
      "First subarray:\n",
      " [[ 1]\n",
      " [ 4]\n",
      " [ 7]\n",
      " [10]\n",
      " [13]\n",
      " [16]]\n",
      "Second subarray:\n",
      " [[ 2]\n",
      " [ 5]\n",
      " [ 8]\n",
      " [11]\n",
      " [14]\n",
      " [17]]\n",
      "Third subarray:\n",
      " [[ 3]\n",
      " [ 6]\n",
      " [ 9]\n",
      " [12]\n",
      " [15]\n",
      " [18]]\n"
     ]
    }
   ],
   "source": [
    "# Alternate solution using hsplit(), opposite hstack()\n",
    "import numpy as np\n",
    "\n",
    "# Create a NumPy array with 6 rows and 2 columns\n",
    "arr = np.array([[1, 2, 3], [4, 5, 6], [7, 8, 9], [10, 11, 12], [13, 14, 15], [16, 17, 18]])\n",
    "\n",
    "# Split the array into 3 subarrays along the rows\n",
    "result = np.hsplit(arr, 3)\n",
    "\n",
    "# Print the first subarray resulting from the split\n",
    "print(\"First subarray:\\n\", result[0])\n",
    "\n",
    "# Print the second subarray resulting from the split\n",
    "print(\"Second subarray:\\n\", result[1])\n",
    "\n",
    "# Print the third subarray resulting from the split\n",
    "print(\"Third subarray:\\n\", result[2])\n"
   ]
  },
  {
   "cell_type": "code",
   "execution_count": 8,
   "id": "44d0efe5-67bc-41c6-949b-29b6c00c25f6",
   "metadata": {},
   "outputs": [
    {
     "name": "stdout",
     "output_type": "stream",
     "text": [
      "First subarray:\n",
      " [[1 2]\n",
      " [3 4]]\n",
      "Second subarray:\n",
      " [[5 6]\n",
      " [7 8]]\n",
      "Third subarray:\n",
      " [[ 9 10]\n",
      " [11 12]]\n"
     ]
    }
   ],
   "source": [
    "# Using vsplit() to split along the vertical axis\n",
    "import numpy as np\n",
    "\n",
    "# Create a NumPy array with 6 rows and 2 columns\n",
    "arr = np.array([[1, 2], [3, 4], [5, 6], [7, 8], [9, 10], [11, 12]])\n",
    "\n",
    "# Split the array into 3 subarrays along the vertical axis\n",
    "result = np.vsplit(arr, 3)\n",
    "\n",
    "# Print the first subarray resulting from the split\n",
    "print(\"First subarray:\\n\", result[0])\n",
    "\n",
    "# Print the second subarray resulting from the split\n",
    "print(\"Second subarray:\\n\", result[1])\n",
    "\n",
    "# Print the third subarray resulting from the split\n",
    "print(\"Third subarray:\\n\", result[2])\n"
   ]
  },
  {
   "cell_type": "code",
   "execution_count": 9,
   "id": "65454b0b-407a-4590-b3e8-11cf9545f2e1",
   "metadata": {},
   "outputs": [
    {
     "name": "stdout",
     "output_type": "stream",
     "text": [
      "Stacked array along the third axis:\n",
      " [[[ 1 10]\n",
      "  [ 2 11]\n",
      "  [ 3 12]]\n",
      "\n",
      " [[ 4 13]\n",
      "  [ 5 14]\n",
      "  [ 6 15]]\n",
      "\n",
      " [[ 7 16]\n",
      "  [ 8 17]\n",
      "  [ 9 18]]]\n"
     ]
    }
   ],
   "source": [
    "# Using dstack() to stack arrays along the third axis\n",
    "import numpy as np\n",
    "\n",
    "# Create two 2D NumPy arrays\n",
    "arr1 = np.array([[1, 2, 3], [4, 5, 6], [7, 8, 9]])\n",
    "arr2 = np.array([[10, 11, 12], [13, 14, 15], [16, 17, 18]])\n",
    "\n",
    "# Stack the arrays along the third axis\n",
    "result = np.dstack((arr1, arr2))\n",
    "\n",
    "# Print the resulting stacked array\n",
    "print(\"Stacked array along the third axis:\\n\", result)\n"
   ]
  },
  {
   "cell_type": "markdown",
   "id": "e2a00e57-2b69-48ca-8d29-369bb0102360",
   "metadata": {},
   "source": [
    "# 12. NumPy Searching Array || where & searchsorted"
   ]
  },
  {
   "cell_type": "code",
   "execution_count": 10,
   "id": "b5871a23-5661-4460-9450-7e3153c6a02b",
   "metadata": {},
   "outputs": [
    {
     "name": "stdout",
     "output_type": "stream",
     "text": [
      "Indices where the value 4 occurs: (array([3, 5, 6]),)\n"
     ]
    }
   ],
   "source": [
    "import numpy as np\n",
    "\n",
    "# searching array - you can search an array for a certain value and return the indexes that get the match. by using where\n",
    "# Create a NumPy array with 6 rows and 2 columns\n",
    "arr = np.array([1, 2, 3, 4, 5, 4, 4])\n",
    "\n",
    "# Search for the value 4 in the array and return the indices where it occurs\n",
    "result = np.where(arr == 4)\n",
    "\n",
    "# Print the indices where the value 4 occurs\n",
    "print(\"Indices where the value 4 occurs:\", result)\n"
   ]
  },
  {
   "cell_type": "code",
   "execution_count": 11,
   "id": "40448542-7d58-4ad6-95da-a353c8477d87",
   "metadata": {},
   "outputs": [
    {
     "name": "stdout",
     "output_type": "stream",
     "text": [
      "Indices where the values are even: (array([1, 3, 5, 7]),)\n"
     ]
    }
   ],
   "source": [
    "import numpy as np\n",
    "\n",
    "# Find the indexes where the values are even\n",
    "arr = np.array([1, 2, 3, 4, 5, 6, 7, 8])\n",
    "\n",
    "# Use np.where() to find the indices where the values are even\n",
    "result = np.where(arr % 2 == 0)\n",
    "\n",
    "# Print the indices where the values are even\n",
    "print(\"Indices where the values are even:\", result)\n"
   ]
  },
  {
   "cell_type": "code",
   "execution_count": 12,
   "id": "2b973802-4b30-4e6b-acaf-98fbe7e42701",
   "metadata": {},
   "outputs": [
    {
     "name": "stdout",
     "output_type": "stream",
     "text": [
      "Indices where the values are odd: (array([0, 2, 4, 6]),)\n"
     ]
    }
   ],
   "source": [
    "import numpy as np\n",
    "\n",
    "# Find the indexes where the values are odd\n",
    "arr = np.array([1, 2, 3, 4, 5, 6, 7, 8])\n",
    "\n",
    "# Use np.where() to find the indices where the values are odd\n",
    "result = np.where(arr % 2 == 1)\n",
    "\n",
    "# Print the indices where the values are odd\n",
    "print(\"Indices where the values are odd:\", result)\n"
   ]
  },
  {
   "cell_type": "code",
   "execution_count": 13,
   "id": "6603ee4d-63ea-4b2f-bbf4-1ae42fe4bed6",
   "metadata": {},
   "outputs": [
    {
     "name": "stdout",
     "output_type": "stream",
     "text": [
      "Index where 7 should be inserted: 1\n"
     ]
    }
   ],
   "source": [
    "import numpy as np\n",
    "\n",
    "# Perform a binary search to find the index where\n",
    "# the value 7 should be inserted into the sorted array\n",
    "arr = np.array([6, 7, 8, 9])\n",
    "result = np.searchsorted(arr, 7)\n",
    "\n",
    "print(\"Index where 7 should be inserted:\", result)\n"
   ]
  },
  {
   "cell_type": "code",
   "execution_count": 14,
   "id": "da335a31-35c3-4f1f-a5f7-d6ad86de02af",
   "metadata": {},
   "outputs": [
    {
     "name": "stdout",
     "output_type": "stream",
     "text": [
      "Index where 7 should be inserted (from right side): 2\n"
     ]
    }
   ],
   "source": [
    "import numpy as np\n",
    "\n",
    "# Perform a binary search from the right side\n",
    "arr = np.array([6, 7, 8, 9])\n",
    "result = np.searchsorted(arr, 7, side='right')\n",
    "\n",
    "print(\"Index where 7 should be inserted (from right side):\", result)\n"
   ]
  },
  {
   "cell_type": "code",
   "execution_count": 15,
   "id": "5bb1a7e7-7532-4563-aa9e-f8ff2f7abf7e",
   "metadata": {},
   "outputs": [
    {
     "name": "stdout",
     "output_type": "stream",
     "text": [
      "Indexes where values should be inserted: [1 2 3]\n"
     ]
    }
   ],
   "source": [
    "import numpy as np\n",
    "\n",
    "# Search for multiple values\n",
    "arr = np.array([1, 3, 5, 7])\n",
    "result = np.searchsorted(arr, [2, 4, 6])\n",
    "\n",
    "print(\"Indexes where values should be inserted:\", result)\n"
   ]
  },
  {
   "cell_type": "markdown",
   "id": "d934fc20-a1b0-42f1-ace8-4edade574359",
   "metadata": {},
   "source": [
    "# 13. NumPy Sorting Array || Sort() 1D, 2D, 3D Array "
   ]
  },
  {
   "cell_type": "code",
   "execution_count": 16,
   "id": "253ccaef-6119-4f6a-a120-bade65426523",
   "metadata": {},
   "outputs": [
    {
     "name": "stdout",
     "output_type": "stream",
     "text": [
      "Sorted array: [0 1 2 3]\n"
     ]
    }
   ],
   "source": [
    "import numpy as np\n",
    "\n",
    "# Sort the array\n",
    "arr = np.array([3, 2, 0, 1])\n",
    "result = np.sort(arr)\n",
    "\n",
    "print(\"Sorted array:\", result) # this mathod is like the copy()\n"
   ]
  },
  {
   "cell_type": "code",
   "execution_count": 17,
   "id": "c8195557-7a0a-4d08-a5c3-b719a0964bdf",
   "metadata": {},
   "outputs": [
    {
     "name": "stdout",
     "output_type": "stream",
     "text": [
      "Sorted array: ['apple' 'banana' 'cherry']\n"
     ]
    }
   ],
   "source": [
    "import numpy as np\n",
    "\n",
    "# Sort the array alphabetically\n",
    "arr = np.array(['banana', 'cherry', 'apple'])\n",
    "result = np.sort(arr)\n",
    "\n",
    "print(\"Sorted array:\", result)\n"
   ]
  },
  {
   "cell_type": "code",
   "execution_count": 18,
   "id": "58d5aba3-8abc-4eb5-a113-52e3773ff6b3",
   "metadata": {},
   "outputs": [
    {
     "name": "stdout",
     "output_type": "stream",
     "text": [
      "Sorted array: [False False False  True  True]\n"
     ]
    }
   ],
   "source": [
    "import numpy as np\n",
    "\n",
    "# Sort the boolean array\n",
    "arr = np.array([True, False, False, True, False])\n",
    "result = np.sort(arr)\n",
    "\n",
    "print(\"Sorted array:\", result)\n"
   ]
  },
  {
   "cell_type": "code",
   "execution_count": 19,
   "id": "67dc3f3d-4776-41db-9886-b80ef06ddcab",
   "metadata": {},
   "outputs": [
    {
     "name": "stdout",
     "output_type": "stream",
     "text": [
      "Sorted array along each row:\n",
      " [[2 3 4]\n",
      " [0 1 5]]\n"
     ]
    }
   ],
   "source": [
    "import numpy as np\n",
    "\n",
    "# Sort the 2-D array along each row\n",
    "arr = np.array([[3, 2, 4], [5, 0, 1]])\n",
    "result = np.sort(arr)\n",
    "\n",
    "print(\"Sorted array along each row:\\n\", result)\n"
   ]
  },
  {
   "cell_type": "markdown",
   "id": "720f3b18-d28d-4d01-add8-5d4a1703ddbb",
   "metadata": {},
   "source": [
    "# 14. NumPy Filter Array || Creating the Filter Array\n",
    "\n",
    "* Getting some elements out of an existing array and creating a new array is called filtering.\n",
    "* A boolean index list is a list ofboolean corresponding to indexes in the array. (True and False)"
   ]
  },
  {
   "cell_type": "code",
   "execution_count": 20,
   "id": "5a6181ff-0ee2-4bd0-a027-c4e38578b302",
   "metadata": {},
   "outputs": [
    {
     "name": "stdout",
     "output_type": "stream",
     "text": [
      "Array using indexing: [41 43]\n"
     ]
    }
   ],
   "source": [
    "import numpy as np\n",
    "\n",
    "# Create an array from the elements at index 0 and 2\n",
    "arr = np.array([41, 42, 43, 44])\n",
    "mask = [True, False, True, False]\n",
    "\n",
    "result = arr[mask]\n",
    "print(\"Array using indexing:\", result)\n"
   ]
  },
  {
   "cell_type": "code",
   "execution_count": 21,
   "id": "861e9177-e29e-44b8-8b23-918498cab5d8",
   "metadata": {},
   "outputs": [
    {
     "name": "stdout",
     "output_type": "stream",
     "text": [
      "Filter array: [False, False, True, True]\n",
      "Result array: [43 44]\n"
     ]
    }
   ],
   "source": [
    "import numpy as np\n",
    "\n",
    "# Create a filter array that will return only values higher than 42\n",
    "arr = np.array([41, 42, 43, 44])\n",
    "filter_arr = []\n",
    "for element in arr:\n",
    "    if element > 42:\n",
    "        filter_arr.append(True)\n",
    "    else:\n",
    "        filter_arr.append(False)\n",
    "result = arr[filter_arr]\n",
    "print(\"Filter array:\", filter_arr)\n",
    "print(\"Result array:\", result)\n"
   ]
  },
  {
   "cell_type": "code",
   "execution_count": 22,
   "id": "4cfbe4d1-40fd-4d71-aa50-a0f84b1bfcc4",
   "metadata": {},
   "outputs": [
    {
     "name": "stdout",
     "output_type": "stream",
     "text": [
      "Filter array: [False, True, False, True, False, True, False]\n",
      "Result array: [2 4 6]\n"
     ]
    }
   ],
   "source": [
    "import numpy as np\n",
    "\n",
    "# Create a filter array that will return only even elements from the original array\n",
    "arr = np.array([1, 2, 3, 4, 5, 6, 7])\n",
    "filter_arr = []\n",
    "\n",
    "for i in arr:\n",
    "    if i % 2 == 0:\n",
    "        filter_arr.append(True)\n",
    "    else:\n",
    "        filter_arr.append(False)\n",
    "result = arr[filter_arr]\n",
    "print(\"Filter array:\", filter_arr)\n",
    "print(\"Result array:\", result)\n"
   ]
  },
  {
   "cell_type": "code",
   "execution_count": 23,
   "id": "397d4f31-4d00-48ce-8e98-be3d5a445bd3",
   "metadata": {},
   "outputs": [
    {
     "name": "stdout",
     "output_type": "stream",
     "text": [
      "Filter array: [False False  True  True]\n",
      "Result array: [43 44]\n"
     ]
    }
   ],
   "source": [
    "import numpy as np\n",
    "\n",
    "# Creating a filter directly from the array to return only values higher than 42\n",
    "arr = np.array([41, 42, 43, 44])\n",
    "\n",
    "filter_arr = arr > 42\n",
    "result = arr[filter_arr]\n",
    "\n",
    "print(\"Filter array:\", filter_arr)\n",
    "print(\"Result array:\", result)\n"
   ]
  },
  {
   "cell_type": "code",
   "execution_count": 24,
   "id": "eb6b463c-396a-4d8b-b398-4a9a0d7b71f5",
   "metadata": {},
   "outputs": [
    {
     "name": "stdout",
     "output_type": "stream",
     "text": [
      "Filter array: [False  True False  True False  True False]\n",
      "Result array: [2 4 6]\n"
     ]
    }
   ],
   "source": [
    "import numpy as np\n",
    "\n",
    "# Creating a filter directly from the array to return only even elements\n",
    "arr = np.array([1, 2, 3, 4, 5, 6, 7])\n",
    "\n",
    "filter_arr = arr % 2 == 0\n",
    "result = arr[filter_arr]\n",
    "\n",
    "print(\"Filter array:\", filter_arr)\n",
    "print(\"Result array:\", result)\n"
   ]
  },
  {
   "cell_type": "markdown",
   "id": "a8aba056-ef78-4ad7-a3d9-79255f80b847",
   "metadata": {},
   "source": [
    "# 15. NumPy Random Numbers || rand() randint() choice() \n",
    "\n",
    "* Random meaning - something that cannot be predicted logically\n",
    "* Now we will generate a random number\n"
   ]
  },
  {
   "cell_type": "code",
   "execution_count": 25,
   "id": "5f02a352-58cc-4889-89f5-f3d36dbd48fb",
   "metadata": {},
   "outputs": [
    {
     "name": "stdout",
     "output_type": "stream",
     "text": [
      "Random numbers between 0 and 1:\n",
      "[[0.03061717 0.43712408 0.53911058]\n",
      " [0.57928092 0.49803176 0.86607936]\n",
      " [0.92138914 0.39534584 0.98944828]]\n",
      "\n",
      "Random integers between 1 and 100:\n",
      "[[85 93 95]\n",
      " [67  1 90]]\n",
      "\n",
      "Random choice from the array:\n",
      "['cherry' 'cherry' 'banana']\n"
     ]
    }
   ],
   "source": [
    "import numpy as np\n",
    "\n",
    "# Generating random numbers between 0 and 1\n",
    "random_numbers = np.random.rand(3, 3)\n",
    "print(\"Random numbers between 0 and 1:\")\n",
    "print(random_numbers)\n",
    "\n",
    "# Generating random integers between specified range\n",
    "random_integers = np.random.randint(1, 100, size=(2, 3))\n",
    "print(\"\\nRandom integers between 1 and 100:\")\n",
    "print(random_integers)\n",
    "\n",
    "# Selecting random elements from a given array\n",
    "array = np.array(['apple', 'banana', 'cherry', 'date', 'elderberry'])\n",
    "random_choice = np.random.choice(array, size=3)\n",
    "print(\"\\nRandom choice from the array:\")\n",
    "print(random_choice)\n"
   ]
  },
  {
   "cell_type": "code",
   "execution_count": 26,
   "id": "23c80ea8-b78c-4b6b-940a-85848e1700ba",
   "metadata": {},
   "outputs": [
    {
     "name": "stdout",
     "output_type": "stream",
     "text": [
      "Random integer: 62\n"
     ]
    }
   ],
   "source": [
    "from numpy import random\n",
    "\n",
    "# Generate a random integer between 0 and 100\n",
    "random_int = random.randint(100)\n",
    "print(\"Random integer:\", random_int)\n"
   ]
  },
  {
   "cell_type": "code",
   "execution_count": 27,
   "id": "5feee463-c5f0-442f-b523-fc3003a87238",
   "metadata": {},
   "outputs": [
    {
     "name": "stdout",
     "output_type": "stream",
     "text": [
      "Random float: 0.9512820049115321\n"
     ]
    }
   ],
   "source": [
    "from numpy import random\n",
    "\n",
    "# Generate a random float between 0 and 1\n",
    "random_float = random.rand()\n",
    "print(\"Random float:\", random_float)\n"
   ]
  },
  {
   "cell_type": "code",
   "execution_count": 28,
   "id": "42079483-1186-4eec-bf06-4448f4d435d5",
   "metadata": {},
   "outputs": [
    {
     "name": "stdout",
     "output_type": "stream",
     "text": [
      "Random array: [77 93 82  9 26]\n"
     ]
    }
   ],
   "source": [
    "from numpy import random\n",
    "\n",
    "# Generate a 1-D array containing 5 random integers from 0 to 100\n",
    "random_arr = random.randint(100, size=(5))\n",
    "print(\"Random array:\", random_arr)\n"
   ]
  },
  {
   "cell_type": "code",
   "execution_count": 29,
   "id": "0a8bd2a5-bf0d-46c8-be51-578237337fe3",
   "metadata": {},
   "outputs": [
    {
     "name": "stdout",
     "output_type": "stream",
     "text": [
      "Random 2D array:\n",
      " [[39 69 91 63 12]\n",
      " [91  2 56  6 25]\n",
      " [ 4  4 57 39 13]]\n"
     ]
    }
   ],
   "source": [
    "from numpy import random\n",
    "\n",
    "# Generate a 2-D array with 3 rows, each row containing 5 random integers from 0 to 100\n",
    "random_arr_2D = random.randint(100, size=(3, 5))\n",
    "print(\"Random 2D array:\\n\", random_arr_2D)\n"
   ]
  },
  {
   "cell_type": "code",
   "execution_count": 30,
   "id": "6a34048f-1100-44ab-bf24-90edde6d43c7",
   "metadata": {},
   "outputs": [
    {
     "name": "stdout",
     "output_type": "stream",
     "text": [
      "Random 1D array: [0.92785373 0.67752528 0.24431917 0.03627779 0.01018949]\n"
     ]
    }
   ],
   "source": [
    "from numpy import random\n",
    "\n",
    "# Generate a 1-D array containing 5 random floats\n",
    "random_arr_1D = random.rand(5)\n",
    "print(\"Random 1D array:\", random_arr_1D)\n"
   ]
  },
  {
   "cell_type": "code",
   "execution_count": 31,
   "id": "0315b9fc-4d85-449e-ad94-022985758797",
   "metadata": {},
   "outputs": [
    {
     "name": "stdout",
     "output_type": "stream",
     "text": [
      "Random 2D array:\n",
      " [[0.01557209 0.68831716 0.36544864 0.52060145 0.33467629]\n",
      " [0.95047915 0.18751203 0.75583784 0.95954801 0.85430154]\n",
      " [0.3688436  0.72992553 0.57020969 0.10875592 0.8117711 ]]\n"
     ]
    }
   ],
   "source": [
    "from numpy import random\n",
    "\n",
    "# Generate a 2-D array with 3 rows, each row containing 5 random floats\n",
    "random_arr_2D = random.rand(3, 5)\n",
    "print(\"Random 2D array:\\n\", random_arr_2D)\n"
   ]
  },
  {
   "cell_type": "code",
   "execution_count": 32,
   "id": "d262cc7f-ab6c-4492-8194-04c37d8aa62b",
   "metadata": {},
   "outputs": [
    {
     "name": "stdout",
     "output_type": "stream",
     "text": [
      "Random choice: 3\n"
     ]
    }
   ],
   "source": [
    "from numpy import random\n",
    "\n",
    "# Generate a random number from the provided array\n",
    "random_choice = random.choice([3, 5, 7, 9, 1, 4, 6])\n",
    "print(\"Random choice:\", random_choice)\n"
   ]
  },
  {
   "cell_type": "code",
   "execution_count": 33,
   "id": "25ec8bbd-831f-4868-b5fc-c1947aa09813",
   "metadata": {},
   "outputs": [
    {
     "name": "stdout",
     "output_type": "stream",
     "text": [
      "Random choice:\n",
      " [[3 1 1 5 4]\n",
      " [9 3 1 6 7]\n",
      " [9 3 1 4 3]]\n"
     ]
    }
   ],
   "source": [
    "from numpy import random\n",
    "\n",
    "# Generate a 2D array of random numbers from the provided array\n",
    "random_choice = random.choice([3, 5, 7, 9, 1, 4, 6], size=(3, 5))\n",
    "print(\"Random choice:\\n\", random_choice)\n"
   ]
  }
 ],
 "metadata": {
  "kernelspec": {
   "display_name": "Python 3 (ipykernel)",
   "language": "python",
   "name": "python3"
  },
  "language_info": {
   "codemirror_mode": {
    "name": "ipython",
    "version": 3
   },
   "file_extension": ".py",
   "mimetype": "text/x-python",
   "name": "python",
   "nbconvert_exporter": "python",
   "pygments_lexer": "ipython3",
   "version": "3.11.6"
  },
  "widgets": {
   "application/vnd.jupyter.widget-state+json": {
    "state": {},
    "version_major": 2,
    "version_minor": 0
   }
  }
 },
 "nbformat": 4,
 "nbformat_minor": 5
}
