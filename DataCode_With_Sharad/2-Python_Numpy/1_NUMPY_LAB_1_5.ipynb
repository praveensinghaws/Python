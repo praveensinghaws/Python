{
 "cells": [
  {
   "cell_type": "markdown",
   "id": "e8e4a26f-fbd3-42a0-bd70-fc64e8442b0e",
   "metadata": {},
   "source": [
    "# LECTURE 1 : Introduction to Numpy"
   ]
  },
  {
   "cell_type": "code",
   "execution_count": 1,
   "id": "002f6689-bbf7-4e26-ab16-b4661608e763",
   "metadata": {},
   "outputs": [
    {
     "name": "stdout",
     "output_type": "stream",
     "text": [
      "1.26.4\n"
     ]
    }
   ],
   "source": [
    "# Importing the NumPy library\n",
    "import numpy as np\n",
    "\n",
    "# Printing the version of NumPy\n",
    "print(np.__version__)\n"
   ]
  },
  {
   "cell_type": "markdown",
   "id": "68bb142e-1a38-4983-a48b-a2938ac9dc56",
   "metadata": {},
   "source": [
    "##### Command to check Jupyter running server\r\n",
    "jupyter server list\r\n"
   ]
  },
  {
   "cell_type": "markdown",
   "id": "c3f20dcc-5969-4dea-98ce-ed54277ac5da",
   "metadata": {},
   "source": [
    "# LECTURE 2 :  Creatng Array with Dimensions\n",
    "### Now we will create a numpy ndarray object\n",
    "### the array object in numpy is call ndarray\n",
    "### array)"
   ]
  },
  {
   "cell_type": "code",
   "execution_count": 2,
   "id": "e42959bf-e201-4467-a8d2-2d16f744ba6e",
   "metadata": {},
   "outputs": [
    {
     "name": "stdout",
     "output_type": "stream",
     "text": [
      "[1 2 3 4 5]\n",
      "Class of x is :  <class 'numpy.ndarray'>\n"
     ]
    }
   ],
   "source": [
    "# Importing the NumPy library\n",
    "import numpy as np\n",
    "\n",
    "# Creating a NumPy array with elements 1, 2, 3, 4, 5\n",
    "x = np.array([1, 2, 3, 4, 5]) # Through list.\n",
    "\n",
    "# Printing the NumPy array\n",
    "print(x)\n",
    "\n",
    "# Printing the class/type of the NumPy array\n",
    "print(\"Class of x is : \", type(x))\n"
   ]
  },
  {
   "cell_type": "markdown",
   "id": "e749a141-70d0-4f2a-8652-e5e2161829b0",
   "metadata": {},
   "source": [
    "### we can also pass a list, tuple or any array like object\n",
    "with array(). and it will be converted to ndarray."
   ]
  },
  {
   "cell_type": "code",
   "execution_count": 3,
   "id": "d0d331df-19fe-40bf-9d32-6fa4618aa937",
   "metadata": {},
   "outputs": [
    {
     "name": "stdout",
     "output_type": "stream",
     "text": [
      "[1 2 3 4 5]\n",
      "Type of y is: <class 'numpy.ndarray'>\n"
     ]
    }
   ],
   "source": [
    "# Importing the NumPy library\n",
    "import numpy as np\n",
    "\n",
    "# Creating a NumPy array with elements 1, 2, 3, 4, 5\n",
    "y = np.array((1, 2, 3, 4, 5,)) # Through Tuple.\n",
    "\n",
    "# Printing the NumPy array\n",
    "print(y)\n",
    "\n",
    "# Printing the type/class of the NumPy array\n",
    "print(\"Type of y is:\", type(y))\n"
   ]
  },
  {
   "cell_type": "markdown",
   "id": "12cfa880-67ef-4ece-a246-12da4ba42edf",
   "metadata": {},
   "source": [
    "#### Dimensions in Array\n",
    "A dimensions in arrays is one level of array depth(nested array)"
   ]
  },
  {
   "cell_type": "code",
   "execution_count": 4,
   "id": "417c9b0f-7f39-47fd-a87c-a1cf727d5d0e",
   "metadata": {},
   "outputs": [
    {
     "name": "stdout",
     "output_type": "stream",
     "text": [
      "42\n"
     ]
    }
   ],
   "source": [
    "# 0-D Arrays - scalars, are the elements in an array, each value in an array is a 0-D array.\n",
    "# 0-D arrays (Scalars): These are single elements, like a single number.\n",
    "\n",
    "import numpy as np\n",
    "\n",
    "x = np.array(42)\n",
    "print(x)\n"
   ]
  },
  {
   "cell_type": "code",
   "execution_count": 5,
   "id": "880cd260-b1e6-48bc-800d-1f8da5b04dec",
   "metadata": {},
   "outputs": [
    {
     "name": "stdout",
     "output_type": "stream",
     "text": [
      "[1 2 3 4 5]\n"
     ]
    }
   ],
   "source": [
    "# 1-D arrays - an array that has 0-D arrays as its elements is called uni directional or 1 -D\n",
    "# 1-D arrays (Vectors): These have one axis.\n",
    "\n",
    "import numpy as np\n",
    "\n",
    "y = np.array([1, 2, 3, 4, 5])\n",
    "print(y)\n"
   ]
  },
  {
   "cell_type": "code",
   "execution_count": 6,
   "id": "4b751c8f-e391-4bc4-a72c-a3fc71178343",
   "metadata": {},
   "outputs": [
    {
     "name": "stdout",
     "output_type": "stream",
     "text": [
      "[[1 2 3]\n",
      " [4 5 6]]\n"
     ]
    }
   ],
   "source": [
    "# Create a 2-D array containing 2 Arrays with certain values.\n",
    "# 2-D arrays (Matrices): These have two axes, often thought of as rows and columns.\n",
    "import numpy as np\n",
    "\n",
    "z = np.array([[1, 2, 3], [4, 5, 6]])\n",
    "print(z)\n",
    "\n"
   ]
  },
  {
   "cell_type": "code",
   "execution_count": 7,
   "id": "371aaa24-4302-4bfe-9ca6-311b3bc6c111",
   "metadata": {},
   "outputs": [
    {
     "name": "stdout",
     "output_type": "stream",
     "text": [
      "[[[ 1  2  3]\n",
      "  [ 4  5  6]]\n",
      "\n",
      " [[ 7  8  9]\n",
      "  [10 11 12]]]\n"
     ]
    }
   ],
   "source": [
    "# Now we will Create a 3-D array with two 2-D array.\n",
    "# four. 3-D arrays: Arrays with three axes, and you can think of them as a cube of numbers.\n",
    "import numpy as np\n",
    "\n",
    "three_d_array = np.array([[[1, 2, 3], [4, 5, 6]], [[7, 8, 9], [10, 11, 12]]])\n",
    "print(three_d_array)\n",
    "\n"
   ]
  },
  {
   "cell_type": "code",
   "execution_count": 8,
   "id": "f29c1d92-bf66-45f9-9be5-0dfd53a8396e",
   "metadata": {},
   "outputs": [
    {
     "name": "stdout",
     "output_type": "stream",
     "text": [
      "[[[[[1 2 3 4 5]]]]]\n"
     ]
    }
   ],
   "source": [
    "# Importing the NumPy library\n",
    "import numpy as np\n",
    "\n",
    "# Creating a 5-dimensional NumPy array with elements 1, 2, 3, 4, 5\n",
    "five_d_array = np.array([1, 2, 3, 4, 5], ndmin=5)\n",
    "\n",
    "# Printing the 5-dimensional NumPy array\n",
    "print(five_d_array)\n"
   ]
  },
  {
   "cell_type": "markdown",
   "id": "4df2e990-a16f-4f89-a249-8db68a9d6def",
   "metadata": {},
   "source": [
    "Note: You can have arrays with even higher dimensions as well. Understanding the dimensionality of arrays is crucial when working with NumPy, as it affects how you access and manipulate the data."
   ]
  },
  {
   "cell_type": "code",
   "execution_count": 9,
   "id": "c415b7ac-4c96-444e-ad61-61e213a1fe77",
   "metadata": {},
   "outputs": [
    {
     "name": "stdout",
     "output_type": "stream",
     "text": [
      "Number of Dimensions 0\n",
      "Number of Dimensions 1\n",
      "Number of Dimensions 2\n",
      "Number of Dimensions 3\n",
      "Number of Dimensions 5\n"
     ]
    }
   ],
   "source": [
    "# Printing the number of dimensions for each array\n",
    "print('Number of Dimensions', x.ndim)\n",
    "print('Number of Dimensions', y.ndim)\n",
    "print('Number of Dimensions', z.ndim)\n",
    "print('Number of Dimensions', three_d_array.ndim)\n",
    "print('Number of Dimensions', five_d_array.ndim)\n",
    "\n"
   ]
  },
  {
   "cell_type": "markdown",
   "id": "73a10ebd-bb16-4987-b9e6-c56b4aa8872b",
   "metadata": {},
   "source": [
    "# LECTURE 3 :  Indexing Accessing Array Element"
   ]
  },
  {
   "cell_type": "code",
   "execution_count": 10,
   "id": "5188f2c2-b137-4dba-ac1b-f6f7a4305418",
   "metadata": {},
   "outputs": [
    {
     "name": "stdout",
     "output_type": "stream",
     "text": [
      "1\n",
      "4\n"
     ]
    }
   ],
   "source": [
    "# Creating a NumPy array named pks with elements 1, 2, 3, 4\n",
    "pks = np.array([1, 2, 3, 4])\n",
    "\n",
    "# Printing the first element of the array\n",
    "print(pks[0])\n",
    "\n",
    "# Printing the last element of the array using negative indexing\n",
    "print(pks[-1])\n"
   ]
  },
  {
   "cell_type": "code",
   "execution_count": 11,
   "id": "4a948108-77c1-40bf-b1b7-4a7d5651f0d7",
   "metadata": {},
   "outputs": [
    {
     "name": "stdout",
     "output_type": "stream",
     "text": [
      "12\n"
     ]
    }
   ],
   "source": [
    "# Creating a NumPy array named pks with elements 1, 2, 3, 4\n",
    "pks = np.array([1, 2, 3, 4])\n",
    "\n",
    "# Printing the result of multiplying the element at index 2 with the last element\n",
    "print(pks[2] * pks[-1])\n"
   ]
  },
  {
   "cell_type": "code",
   "execution_count": 12,
   "id": "7e5d5fda-1037-4379-976c-e5b9d31fc433",
   "metadata": {},
   "outputs": [
    {
     "name": "stdout",
     "output_type": "stream",
     "text": [
      "2nd element in the first row: 2\n",
      "2nd element in the second row: 9\n"
     ]
    }
   ],
   "source": [
    "# Creating a 2D NumPy array named pks_2d\n",
    "pks_2d = np.array([[1, 2, 3, 4], [9, 8, 7, 6]])\n",
    "\n",
    "# Printing the 2nd element in the first row\n",
    "print('2nd element in the first row:', pks_2d[0, 1])\n",
    "\n",
    "# Printing the 2nd element in the second row\n",
    "print('2nd element in the second row:', pks_2d[1, 0])\n"
   ]
  },
  {
   "cell_type": "code",
   "execution_count": 13,
   "id": "1a9ed2ba-d869-44db-947c-0d7d148c080e",
   "metadata": {},
   "outputs": [
    {
     "name": "stdout",
     "output_type": "stream",
     "text": [
      "Element at position (0, 1, 2): 9\n"
     ]
    }
   ],
   "source": [
    "# Creating a 3D NumPy array named pks_3d\n",
    "pks_3d = np.array([[[1, 2, 3], [7, 8, 9]], [[4, 5, 6], [5, 4, 3]]])\n",
    "\n",
    "# Printing the element at position (0, 1, 2) in the 3D array\n",
    "print('Element at position (0, 1, 2):', pks_3d[0, 1, 2])\n"
   ]
  },
  {
   "cell_type": "code",
   "execution_count": 14,
   "id": "fa10e4a0-f01f-4c15-b762-29aeae750465",
   "metadata": {},
   "outputs": [
    {
     "name": "stdout",
     "output_type": "stream",
     "text": [
      "Element at position (1, 0, 2): 6\n"
     ]
    }
   ],
   "source": [
    "# Creating a 3D NumPy array named pks_3d\n",
    "pks_3d = np.array([[[1, 2, 3], [7, 8, 9]], [[4, 5, 6], [5, 4, 3]]])\n",
    "\n",
    "# Printing the element at position (1, 0, 2) in the 3D array\n",
    "print('Element at position (1, 0, 2):', pks_3d[1, 0, 2])\n"
   ]
  },
  {
   "cell_type": "markdown",
   "id": "ba92da57-b66e-40d8-999a-1bb62944a55b",
   "metadata": {},
   "source": [
    "# LECTURE 4 : Array Slicing"
   ]
  },
  {
   "cell_type": "code",
   "execution_count": 15,
   "id": "ed41b904-2009-4d4a-af7b-1d47576877f3",
   "metadata": {},
   "outputs": [
    {
     "name": "stdout",
     "output_type": "stream",
     "text": [
      "[2 3 4]\n"
     ]
    }
   ],
   "source": [
    "import numpy as np \n",
    "\n",
    "# Creating a NumPy array with elements 1 to 9\n",
    "x = np.array([1, 2, 3, 4, 5, 6, 7, 8, 9])\n",
    "\n",
    "# Printing a subset of the array using slicing (indices 1 to 3)\n",
    "print(x[1:4])\n"
   ]
  },
  {
   "cell_type": "code",
   "execution_count": 16,
   "id": "cfb93865-feee-4225-990b-95530394a7dd",
   "metadata": {},
   "outputs": [
    {
     "name": "stdout",
     "output_type": "stream",
     "text": [
      "[5 6 7 8 9]\n"
     ]
    }
   ],
   "source": [
    "import numpy as np\n",
    "\n",
    "# Creating a NumPy array with elements 1 to 9\n",
    "x = np.array([1, 2, 3, 4, 5, 6, 7, 8, 9])\n",
    "\n",
    "# Printing the elements from index 4 to the end of the array\n",
    "print(x[4:])\n"
   ]
  },
  {
   "cell_type": "code",
   "execution_count": 17,
   "id": "3a8714c0-9893-4eaf-b64d-271b7a9cb4a8",
   "metadata": {},
   "outputs": [
    {
     "name": "stdout",
     "output_type": "stream",
     "text": [
      "[1 2 3 4 5]\n"
     ]
    }
   ],
   "source": [
    "import numpy as np\n",
    "\n",
    "# Creating a NumPy array with elements 1 to 9\n",
    "x = np.array([1, 2, 3, 4, 5, 6, 7, 8, 9])\n",
    "\n",
    "# Printing the elements from the beginning to index 4 (exclusive)\n",
    "print(x[:5])\n"
   ]
  },
  {
   "cell_type": "code",
   "execution_count": 18,
   "id": "ec350ac9-becf-416d-86d6-8a3cf66d32dd",
   "metadata": {},
   "outputs": [
    {
     "name": "stdout",
     "output_type": "stream",
     "text": [
      "[7 8 9]\n"
     ]
    }
   ],
   "source": [
    "import numpy as np\n",
    "\n",
    "# Creating a NumPy array with elements 1 to 9\n",
    "x = np.array([1, 2, 3, 4, 5, 6, 7, 8, 9])\n",
    "\n",
    "# Printing the last 3 elements of the array\n",
    "print(x[-3:])\n"
   ]
  },
  {
   "cell_type": "code",
   "execution_count": 19,
   "id": "6aa6d376-699a-4bd3-b407-92305fef3752",
   "metadata": {},
   "outputs": [
    {
     "name": "stdout",
     "output_type": "stream",
     "text": [
      "[3 4 5 6 7 8]\n"
     ]
    }
   ],
   "source": [
    "import numpy as np\n",
    "\n",
    "# Creating a NumPy array with elements 1 to 9\n",
    "x = np.array([1, 2, 3, 4, 5, 6, 7, 8, 9])\n",
    "\n",
    "# Printing elements from index -7 to 7 (exclusive)\n",
    "print(x[-7:8])\n"
   ]
  },
  {
   "cell_type": "code",
   "execution_count": 20,
   "id": "5c29c29d-782f-4a59-b78b-cf8d67f4112e",
   "metadata": {},
   "outputs": [
    {
     "name": "stdout",
     "output_type": "stream",
     "text": [
      "[7 8]\n"
     ]
    }
   ],
   "source": [
    "import numpy as np\n",
    "\n",
    "# Creating a NumPy array with elements 1 to 9\n",
    "x = np.array([1, 2, 3, 4, 5, 6, 7, 8, 9])\n",
    "\n",
    "# Printing elements from the third-to-last to the second-to-last (inclusive)\n",
    "print(x[-3:-1])\n"
   ]
  },
  {
   "cell_type": "markdown",
   "id": "6dd8fafb-496f-4b6c-b9fc-2c83ec72521c",
   "metadata": {},
   "source": [
    "## Indexing using Steps : "
   ]
  },
  {
   "cell_type": "code",
   "execution_count": 21,
   "id": "e0d22563-8d40-40ce-ba4f-92a5a4a1dfba",
   "metadata": {},
   "outputs": [
    {
     "name": "stdout",
     "output_type": "stream",
     "text": [
      "[2 4 6]\n"
     ]
    }
   ],
   "source": [
    "import numpy as np\n",
    "\n",
    "# Creating a NumPy array with elements 1 to 9\n",
    "x = np.array([1, 2, 3, 4, 5, 6, 7, 8, 9])\n",
    "\n",
    "# Printing every second element from index 1 to 6 (exclusive)\n",
    "print(x[1:7:2])\n"
   ]
  },
  {
   "cell_type": "code",
   "execution_count": 22,
   "id": "91b889a2-9374-425a-8ad5-361452a81128",
   "metadata": {},
   "outputs": [
    {
     "name": "stdout",
     "output_type": "stream",
     "text": [
      "[1 3 5 7 9]\n"
     ]
    }
   ],
   "source": [
    "import numpy as np\n",
    "\n",
    "# Creating a NumPy array with elements 1 to 9\n",
    "x = np.array([1, 2, 3, 4, 5, 6, 7, 8, 9])\n",
    "\n",
    "# Printing every second element in the entire array\n",
    "print(x[::2])\n"
   ]
  },
  {
   "cell_type": "code",
   "execution_count": 23,
   "id": "69549f9d-8db7-4478-8e81-959b73db5bae",
   "metadata": {},
   "outputs": [
    {
     "name": "stdout",
     "output_type": "stream",
     "text": [
      "[1 4 7]\n"
     ]
    }
   ],
   "source": [
    "\n",
    "import numpy as np\n",
    "\n",
    "# Creating a NumPy array with elements 1 to 9\n",
    "x = np.array([1, 2, 3, 4, 5, 6, 7, 8, 9])\n",
    "\n",
    "# Printing every third element of the array\n",
    "print(x[::3])\n"
   ]
  },
  {
   "cell_type": "code",
   "execution_count": 24,
   "id": "87f43564-6445-4d56-9009-d5a47cfc1f67",
   "metadata": {},
   "outputs": [
    {
     "name": "stdout",
     "output_type": "stream",
     "text": [
      "[7 8 9]\n"
     ]
    }
   ],
   "source": [
    "# Slicing 2-D Array\n",
    "import numpy as np\n",
    "\n",
    "# Creating a 2-D NumPy array\n",
    "x = np.array([[1, 2, 3, 4, 5], [6, 7, 8, 9, 10]])\n",
    "\n",
    "# Slicing the second row from index 1 to 3 (exclusive)\n",
    "print(x[1, 1:4])\n"
   ]
  },
  {
   "cell_type": "code",
   "execution_count": 25,
   "id": "34ebdbc2-4ce1-4efc-8deb-c3ddf794b9c7",
   "metadata": {},
   "outputs": [
    {
     "name": "stdout",
     "output_type": "stream",
     "text": [
      "[3 4 5] [6 7 8]\n"
     ]
    }
   ],
   "source": [
    "import numpy as np\n",
    "\n",
    "# Creating a 2-D NumPy array\n",
    "x = np.array([[1, 2, 3, 4, 5], [6, 7, 8, 9, 10]])\n",
    "\n",
    "# Slicing elements from the first row (index 0) in the third to the last columns\n",
    "# Slicing elements from the second row (index 1) in the first three columns\n",
    "print(x[0, 2:], x[1, 0:3])\n"
   ]
  },
  {
   "cell_type": "code",
   "execution_count": 26,
   "id": "8137a257-5014-4905-af5c-bb848ec8cbbc",
   "metadata": {},
   "outputs": [
    {
     "name": "stdout",
     "output_type": "stream",
     "text": [
      "[ 8  9 10] [2 3]\n"
     ]
    }
   ],
   "source": [
    "import numpy as np\n",
    "\n",
    "# Creating a 2-D NumPy array\n",
    "x = np.array([[1, 2, 3, 4, 5], [6, 7, 8, 9, 10]])\n",
    "\n",
    "# Slicing elements from the second row (index 1) in the third to the last columns\n",
    "# Slicing elements from the first row (index 0) in the second and third columns\n",
    "print(x[1, 2:], x[0, 1:3])\n"
   ]
  },
  {
   "cell_type": "code",
   "execution_count": 27,
   "id": "f41ff7ae-7b7d-4f9f-b92c-0c4c1fea5d22",
   "metadata": {},
   "outputs": [
    {
     "name": "stdout",
     "output_type": "stream",
     "text": [
      "[3 8]\n"
     ]
    }
   ],
   "source": [
    "import numpy as np\n",
    "\n",
    "# Creating a 2-D NumPy array\n",
    "x = np.array([[1, 2, 3, 4, 5], [6, 7, 8, 9, 10]])\n",
    "\n",
    "# Printing elements from the third column for both rows (indices 0 and 1)\n",
    "print(x[0:2, 2])\n",
    "\n"
   ]
  },
  {
   "cell_type": "code",
   "execution_count": 28,
   "id": "b4ef2414-251f-4414-bf5b-0ee730bbcc22",
   "metadata": {},
   "outputs": [
    {
     "name": "stdout",
     "output_type": "stream",
     "text": [
      "3 8\n"
     ]
    }
   ],
   "source": [
    "import numpy as np\n",
    "\n",
    "# Creating a 2-D NumPy array\n",
    "x = np.array([[1, 2, 3, 4, 5], [6, 7, 8, 9, 10]])\n",
    "\n",
    "# Printing specific elements from the first row (index 0) in the third column\n",
    "# and from the second row (index 1) in the third column\n",
    "print(x[0, 2], x[1, 2])\n"
   ]
  },
  {
   "cell_type": "code",
   "execution_count": 29,
   "id": "6fed9978-4f4a-4b3f-9d28-eb8161cfd15f",
   "metadata": {},
   "outputs": [
    {
     "name": "stdout",
     "output_type": "stream",
     "text": [
      "[[2 3 4]\n",
      " [7 8 9]]\n"
     ]
    }
   ],
   "source": [
    "import numpy as np\n",
    "\n",
    "# Creating a 2-D NumPy array\n",
    "x = np.array([[1, 2, 3, 4, 5], [6, 7, 8, 9, 10]])\n",
    "\n",
    "# Printing a subset of elements by slicing rows (indices 0 and 1) and columns (indices 1 to 3)\n",
    "print(x[0:2, 1:4])\n"
   ]
  },
  {
   "cell_type": "code",
   "execution_count": 30,
   "id": "22ab5962-b5b7-4dba-bf38-3c01d0f0ea29",
   "metadata": {},
   "outputs": [
    {
     "name": "stdout",
     "output_type": "stream",
     "text": [
      "[[[2 3]\n",
      "  [6 7]]\n",
      "\n",
      " [[9 0]\n",
      "  [2 8]]]\n"
     ]
    }
   ],
   "source": [
    "import numpy as np\n",
    "\n",
    "# Creating a 3-D NumPy array\n",
    "x = np.array([[[1, 2, 3, 4], [5, 6, 7, 8]], [[8, 9, 0, 1], [3, 2, 8, 9]]])\n",
    "\n",
    "# Extracting elements 2 and 3 from each subarray\n",
    "result = x[:, :, 1:3]\n",
    "\n",
    "print(result)"
   ]
  },
  {
   "cell_type": "markdown",
   "id": "9b699de2-a81b-4dbd-9f76-abc54284ac38",
   "metadata": {},
   "source": [
    "# LECTURE 5: NUMPY DATATYPES\r\n",
    "\r\n",
    "**DATA TYPES IN PYTHON:**\r\n",
    "* STRING\r\n",
    "* INTEGER\r\n",
    "* FLOAT\r\n",
    "* BOOLEAN\r\n",
    "* COMPLEX\r\n",
    "\r\n",
    "**DATA TYPES IN NUMPY:**\r\n",
    "* `i` for integer\r\n",
    "* `b` for boolean\r\n",
    "* `u` for unsigned integer\r\n",
    "* `f` for float\r\n",
    "* `c` for complex float\r\n",
    "* `m` for timedelta\r\n",
    "* `M` for datetime\r\n",
    "* `O` for object\r\n",
    "* `S` for string\r\n",
    "* `U` for unicode string\r\n",
    "* `V` for memory\r\n"
   ]
  },
  {
   "cell_type": "code",
   "execution_count": 31,
   "id": "e7aef858-6ca6-494a-99fb-6f9ba2a295d8",
   "metadata": {},
   "outputs": [
    {
     "name": "stdout",
     "output_type": "stream",
     "text": [
      "Integer array: [1 2 3] dtype: int64\n",
      "Boolean array: [ True False  True] dtype: bool\n",
      "Unsigned integer array: [0 1 2] dtype: uint64\n",
      "Float array: [1.  2.5 3.7] dtype: float64\n",
      "Complex float array: [1.+2.j 3.+4.j 5.+6.j] dtype: complex128\n",
      "Timedelta array: [1 2 3] dtype: timedelta64[D]\n",
      "Datetime array: ['2022-01-01' '2022-01-02' '2022-01-03'] dtype: datetime64[D]\n",
      "Object array: ['a' '1' '2.5'] dtype: <U32\n",
      "String array: ['hello' 'world'] dtype: <U5\n",
      "Unicode string array: ['नमस्ते' 'नमस्कार'] dtype: <U7\n",
      "Memory array: [b'abc' b'def'] dtype: |S3\n"
     ]
    }
   ],
   "source": [
    "import numpy as np\n",
    "\n",
    "# Integer data type\n",
    "int_arr = np.array([1, 2, 3])\n",
    "print(\"Integer array:\", int_arr, \"dtype:\", int_arr.dtype)\n",
    "\n",
    "# Boolean data type\n",
    "bool_arr = np.array([True, False, True])\n",
    "print(\"Boolean array:\", bool_arr, \"dtype:\", bool_arr.dtype)\n",
    "\n",
    "# Unsigned integer data type\n",
    "uint_arr = np.array([0, 1, 2], dtype=np.uint)\n",
    "print(\"Unsigned integer array:\", uint_arr, \"dtype:\", uint_arr.dtype)\n",
    "\n",
    "# Float data type\n",
    "float_arr = np.array([1.0, 2.5, 3.7])\n",
    "print(\"Float array:\", float_arr, \"dtype:\", float_arr.dtype)\n",
    "\n",
    "# Complex float data type\n",
    "complex_arr = np.array([1 + 2j, 3 + 4j, 5 + 6j])\n",
    "print(\"Complex float array:\", complex_arr, \"dtype:\", complex_arr.dtype)\n",
    "\n",
    "# Timedelta data type\n",
    "timedelta_arr = np.array([np.timedelta64(1, 'D'), np.timedelta64(2, 'D'), np.timedelta64(3, 'D')])\n",
    "print(\"Timedelta array:\", timedelta_arr, \"dtype:\", timedelta_arr.dtype)\n",
    "\n",
    "# Datetime data type\n",
    "datetime_arr = np.array(['2022-01-01', '2022-01-02', '2022-01-03'], dtype='datetime64')\n",
    "print(\"Datetime array:\", datetime_arr, \"dtype:\", datetime_arr.dtype)\n",
    "\n",
    "# Object data type\n",
    "object_arr = np.array(['a', 1, 2.5])\n",
    "print(\"Object array:\", object_arr, \"dtype:\", object_arr.dtype)\n",
    "\n",
    "# String data type\n",
    "str_arr = np.array(['hello', 'world'])\n",
    "print(\"String array:\", str_arr, \"dtype:\", str_arr.dtype)\n",
    "\n",
    "# Unicode string data type (Hindi and Sanskrit)\n",
    "unicode_arr = np.array(['नमस्ते', 'नमस्कार'], dtype='U')\n",
    "print(\"Unicode string array:\", unicode_arr, \"dtype:\", unicode_arr.dtype)\n",
    "\n",
    "# Memory data type\n",
    "memory_arr = np.array([b'abc', b'def'])\n",
    "print(\"Memory array:\", memory_arr, \"dtype:\", memory_arr.dtype)\n"
   ]
  },
  {
   "cell_type": "code",
   "execution_count": 32,
   "id": "e188641b-82cd-48c0-bf21-941aff8bafa3",
   "metadata": {
    "scrolled": true
   },
   "outputs": [
    {
     "name": "stdout",
     "output_type": "stream",
     "text": [
      "Data type of the array x: int64\n",
      "Array x: [1 2 3 4]\n"
     ]
    }
   ],
   "source": [
    "import numpy as np\n",
    "\n",
    "# Creating a NumPy array with elements 1, 2, 3, and 4\n",
    "x = np.array([1, 2, 3, 4])\n",
    "\n",
    "# Printing the data type of the array\n",
    "print(\"Data type of the array x:\", x.dtype)\n",
    "\n",
    "# Printing the array x\n",
    "print(\"Array x:\", x)\n"
   ]
  },
  {
   "cell_type": "code",
   "execution_count": 33,
   "id": "eae4c74c-e33f-4ef9-a36e-3922d91f89bd",
   "metadata": {
    "scrolled": true
   },
   "outputs": [
    {
     "name": "stdout",
     "output_type": "stream",
     "text": [
      "Data type of the array y: <U8\n",
      "Array y: ['Praveen' 'Rahul' 'Priyanka']\n"
     ]
    }
   ],
   "source": [
    "import numpy as np\n",
    "\n",
    "# Creating a NumPy array with string elements\n",
    "y = np.array(['Praveen', 'Rahul', 'Priyanka'])\n",
    "\n",
    "# Printing the data type of the array\n",
    "print(\"Data type of the array y:\", y.dtype)\n",
    "\n",
    "# Printing the array y\n",
    "print(\"Array y:\", y)\n"
   ]
  },
  {
   "cell_type": "code",
   "execution_count": 34,
   "id": "d4129b3e-059e-44e8-80f3-f93ca7746205",
   "metadata": {},
   "outputs": [
    {
     "name": "stdout",
     "output_type": "stream",
     "text": [
      "Data type of the array x: |S1\n",
      "Array x: [b'1' b'2' b'3' b'4']\n"
     ]
    }
   ],
   "source": [
    "import numpy as np\n",
    "\n",
    "# Creating a NumPy array with elements 1, 2, 3, and 4 and specifying dtype as string\n",
    "x = np.array([1, 2, 3, 4], dtype='S')\n",
    "\n",
    "# Printing the data type of the array\n",
    "print(\"Data type of the array x:\", x.dtype)\n",
    "\n",
    "# Printing the array x\n",
    "print(\"Array x:\", x)\n"
   ]
  },
  {
   "cell_type": "code",
   "execution_count": 35,
   "id": "dd354d55-8083-4550-ba50-f08818d7ea16",
   "metadata": {},
   "outputs": [
    {
     "name": "stdout",
     "output_type": "stream",
     "text": [
      "Data type of the array x: int32\n",
      "Array x: [4 1 3]\n"
     ]
    }
   ],
   "source": [
    "import numpy as np\n",
    "\n",
    "# Creating a NumPy array with string elements '4', '1', '3' and specifying dtype as integer\n",
    "x = np.array(['4', '1', '3'], dtype='i')\n",
    "\n",
    "# Printing the data type of the array\n",
    "print(\"Data type of the array x:\", x.dtype)\n",
    "\n",
    "# Printing the array x\n",
    "print(\"Array x:\", x)\n"
   ]
  },
  {
   "cell_type": "code",
   "execution_count": 36,
   "id": "05c5773b-b1a5-42f8-abf5-75f6496c987a",
   "metadata": {},
   "outputs": [
    {
     "name": "stdout",
     "output_type": "stream",
     "text": [
      "Data type of the array x: float64\n",
      "Array x: [1.1 2.3 4.8]\n",
      "Data type of the array y: int32\n",
      "Array y: [1 2 4]\n"
     ]
    }
   ],
   "source": [
    "import numpy as np\n",
    "\n",
    "# Creating a NumPy array with float elements\n",
    "x = np.array([1.1, 2.3, 4.8])\n",
    "\n",
    "# Converting the array x to integer type\n",
    "y = x.astype('i')\n",
    "\n",
    "# Printing the data type and array for original array x\n",
    "print(\"Data type of the array x:\", x.dtype)\n",
    "print(\"Array x:\", x)\n",
    "\n",
    "# Printing the data type and array for converted array y\n",
    "print(\"Data type of the array y:\", y.dtype)\n",
    "print(\"Array y:\", y)\n"
   ]
  },
  {
   "cell_type": "code",
   "execution_count": 37,
   "id": "5e80d706-f397-463d-aef3-3329a7c326e0",
   "metadata": {},
   "outputs": [
    {
     "name": "stdout",
     "output_type": "stream",
     "text": [
      "Original array x: [1 0 3 4 5]\n",
      "Array y (boolean type): [ True False  True  True  True]\n",
      "Array z (float type): [1. 0. 3. 4. 5.]\n",
      "Data type of array x: int64\n",
      "Data type of array y: bool\n",
      "Data type of array z: float64\n"
     ]
    }
   ],
   "source": [
    "import numpy as np\n",
    "\n",
    "# Creating a NumPy array with integer elements\n",
    "x = np.array([1, 0, 3, 4, 5])\n",
    "\n",
    "# Converting the array x to boolean type\n",
    "y = x.astype(bool)\n",
    "\n",
    "# Converting the array x to float type\n",
    "z = x.astype(float)\n",
    "\n",
    "# Printing the original array x\n",
    "print(\"Original array x:\", x)\n",
    "\n",
    "# Printing the array y with boolean elements\n",
    "print(\"Array y (boolean type):\", y)\n",
    "\n",
    "# Printing the array z with float elements\n",
    "print(\"Array z (float type):\", z)\n",
    "\n",
    "# Printing the data type of each array\n",
    "print(\"Data type of array x:\", x.dtype)\n",
    "print(\"Data type of array y:\", y.dtype)\n",
    "print(\"Data type of array z:\", z.dtype)\n"
   ]
  }
 ],
 "metadata": {
  "kernelspec": {
   "display_name": "Python 3 (ipykernel)",
   "language": "python",
   "name": "python3"
  },
  "language_info": {
   "codemirror_mode": {
    "name": "ipython",
    "version": 3
   },
   "file_extension": ".py",
   "mimetype": "text/x-python",
   "name": "python",
   "nbconvert_exporter": "python",
   "pygments_lexer": "ipython3",
   "version": "3.11.7"
  }
 },
 "nbformat": 4,
 "nbformat_minor": 5
}
