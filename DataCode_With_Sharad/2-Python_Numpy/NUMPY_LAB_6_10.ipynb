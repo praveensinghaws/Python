{
 "cells": [
  {
   "cell_type": "markdown",
   "id": "55b1f196-8216-4162-a9b2-af8355aa2bac",
   "metadata": {},
   "source": [
    "# LECTURE 6 : NUMPY ARRAY COPY AND VIEW\n",
    "The main difference between a copy and a view of a NumPy array is that the copy is a new array, and the view is just a view of the original array. The copy owns the data and any changes made to the copy will not affect the original array, and any changes made to the original array will not affect the copy. The view does not own the data and any changes made to the view will affect the original array, and any changes made to the original array will affect the view1"
   ]
  },
  {
   "cell_type": "code",
   "execution_count": 1,
   "id": "18ce65b6-19a0-47db-9f13-6026a1d29012",
   "metadata": {},
   "outputs": [
    {
     "name": "stdout",
     "output_type": "stream",
     "text": [
      "Original array:  [42  2  3  4  5]\n",
      "Copy of array:  [1 2 3 4 5]\n"
     ]
    }
   ],
   "source": [
    "# Diffrence Numpy array  copy and view\n",
    "\n",
    "import numpy as np\n",
    "\n",
    "arr = np.array([1, 2, 3, 4, 5])\n",
    "x = arr.copy()\n",
    "arr[0] = 42\n",
    "\n",
    "print(\"Original array: \", arr)\n",
    "print(\"Copy of array: \", x)\n"
   ]
  },
  {
   "cell_type": "code",
   "execution_count": 2,
   "id": "af17c561-102c-4073-b17b-a6fa116a8c6c",
   "metadata": {},
   "outputs": [
    {
     "name": "stdout",
     "output_type": "stream",
     "text": [
      "Original array:  [42  2  3  4  5]\n",
      "View of array:  [42  2  3  4  5]\n"
     ]
    }
   ],
   "source": [
    "import numpy as np\n",
    "\n",
    "arr = np.array([1, 2, 3, 4, 5])\n",
    "x = arr.view()\n",
    "arr[0] = 42\n",
    "\n",
    "print(\"Original array: \", arr)\n",
    "print(\"View of array: \", x)\n"
   ]
  },
  {
   "cell_type": "code",
   "execution_count": 3,
   "id": "72df7c30-4599-44dc-94af-3802cd0975e0",
   "metadata": {},
   "outputs": [
    {
     "name": "stdout",
     "output_type": "stream",
     "text": [
      "Original array:  [31  2  3  4  5]\n",
      "View of array:  [31  2  3  4  5]\n"
     ]
    }
   ],
   "source": [
    "import numpy as np\n",
    "\n",
    "arr = np.array([1, 2, 3, 4, 5])\n",
    "x = arr.view()\n",
    "x[0] = 31\n",
    "\n",
    "print(\"Original array: \", arr)\n",
    "print(\"View of array: \", x)\n"
   ]
  },
  {
   "cell_type": "markdown",
   "id": "e0b8f1a6-2e01-494c-b94b-5e4a7b98fbb7",
   "metadata": {},
   "source": [
    "# LECTURE 7 : ARRAY SHAPE\n",
    "The shape attribute of a NumPy array returns a tuple of integers representing the size of the array in each dimension. Here is an example:\n"
   ]
  },
  {
   "cell_type": "code",
   "execution_count": 4,
   "id": "ef859192-e990-48ce-afc9-f6b7e1c618c6",
   "metadata": {},
   "outputs": [
    {
     "name": "stdout",
     "output_type": "stream",
     "text": [
      "Array shape: (2, 3)\n"
     ]
    }
   ],
   "source": [
    "import numpy as np\n",
    "\n",
    "arr = np.array([[1, 2, 3], [4, 5, 6]])\n",
    "print(\"Array shape:\", arr.shape)\n"
   ]
  },
  {
   "cell_type": "code",
   "execution_count": 5,
   "id": "831d00f9-b0d4-4fb1-b521-f4dffb5f9125",
   "metadata": {},
   "outputs": [
    {
     "name": "stdout",
     "output_type": "stream",
     "text": [
      "Original array:\n",
      " [[1 2 3]\n",
      " [4 5 6]]\n",
      "Shape of original array: (2, 3)\n",
      "New array:\n",
      " [[1 2]\n",
      " [3 4]\n",
      " [5 6]]\n",
      "Shape of new array: (3, 2)\n"
     ]
    }
   ],
   "source": [
    "import numpy as np\n",
    "\n",
    "arr = np.array([[1, 2, 3], [4, 5, 6]])\n",
    "print(\"Original array:\\n\", arr)\n",
    "print(\"Shape of original array:\", arr.shape)\n",
    "\n",
    "new_arr = arr.reshape(3, 2)\n",
    "print(\"New array:\\n\", new_arr)\n",
    "print(\"Shape of new array:\", new_arr.shape)\n"
   ]
  },
  {
   "cell_type": "code",
   "execution_count": 6,
   "id": "67e3a76d-5a19-4f46-a774-58d80b0650ea",
   "metadata": {},
   "outputs": [
    {
     "name": "stdout",
     "output_type": "stream",
     "text": [
      "Original array:\n",
      " [1 2 3 4 5 6]\n",
      "Shape of original array: (6,)\n",
      "New array:\n",
      " [[1 2 3]\n",
      " [4 5 6]]\n",
      "Shape of new array: (2, 3)\n"
     ]
    }
   ],
   "source": [
    "import numpy as np\n",
    "\n",
    "arr = np.array([1, 2, 3, 4, 5, 6])\n",
    "print(\"Original array:\\n\", arr)\n",
    "print(\"Shape of original array:\", arr.shape)\n",
    "\n",
    "new_arr = arr.reshape(2, 3)\n",
    "print(\"New array:\\n\", new_arr)\n",
    "print(\"Shape of new array:\", new_arr.shape)\n"
   ]
  },
  {
   "cell_type": "code",
   "execution_count": 7,
   "id": "f13f4281-9e8a-47bb-b804-f112055c825c",
   "metadata": {},
   "outputs": [
    {
     "name": "stdout",
     "output_type": "stream",
     "text": [
      "Shape of the array: (5,)\n"
     ]
    }
   ],
   "source": [
    "import numpy as np\n",
    "\n",
    "# Creating a NumPy array with elements 1, 2, 3, 4, 5\n",
    "arr = np.array([1, 2, 3, 4, 5])\n",
    "\n",
    "# Getting the shape of the array\n",
    "shape_of_arr = arr.shape\n",
    "\n",
    "# Printing the shape of the array\n",
    "print(\"Shape of the array:\", shape_of_arr)\n"
   ]
  },
  {
   "cell_type": "code",
   "execution_count": 8,
   "id": "d691a576-b77e-4dfb-b2bf-fadc0e85d135",
   "metadata": {},
   "outputs": [
    {
     "name": "stdout",
     "output_type": "stream",
     "text": [
      "Shape of the 2D array: (2, 3)\n"
     ]
    }
   ],
   "source": [
    "import numpy as np\n",
    "\n",
    "# Creating a 2-dimensional NumPy array\n",
    "arr_2d = np.array([[1, 2, 3], [4, 5, 6]])\n",
    "\n",
    "# Getting the shape of the 2D array\n",
    "shape_of_arr_2d = arr_2d.shape\n",
    "\n",
    "# Printing the shape of the 2D array\n",
    "print(\"Shape of the 2D array:\", shape_of_arr_2d)\n"
   ]
  },
  {
   "cell_type": "code",
   "execution_count": 9,
   "id": "363d3ea9-fe35-491f-a470-fb90aa58adbc",
   "metadata": {},
   "outputs": [
    {
     "name": "stdout",
     "output_type": "stream",
     "text": [
      "Shape of the 3D array: (2, 2, 3)\n"
     ]
    }
   ],
   "source": [
    "import numpy as np\n",
    "\n",
    "# Creating a 3-dimensional NumPy array\n",
    "arr_3d = np.array([[[1, 2, 3], [4, 5, 6]], [[7, 8, 9], [10, 11, 12]]])\n",
    "\n",
    "# Getting the shape of the 3D array\n",
    "shape_of_arr_3d = arr_3d.shape\n",
    "\n",
    "# Printing the shape of the 3D array\n",
    "print(\"Shape of the 3D array:\", shape_of_arr_3d)\n"
   ]
  },
  {
   "cell_type": "code",
   "execution_count": 10,
   "id": "e3b6403e-d68b-4285-9a1d-a33406167d27",
   "metadata": {},
   "outputs": [
    {
     "name": "stdout",
     "output_type": "stream",
     "text": [
      "Shape of the 4D array: (2, 2, 2, 2)\n"
     ]
    }
   ],
   "source": [
    "import numpy as np\n",
    "\n",
    "# Creating a 4-dimensional NumPy array\n",
    "arr_4d = np.array([[[[1, 2], [3, 4]], [[5, 6], [7, 8]]], [[[9, 10], [11, 12]], [[13, 14], [15, 16]]]])\n",
    "\n",
    "# Getting the shape of the 4D array\n",
    "shape_of_arr_4d = arr_4d.shape\n",
    "\n",
    "# Printing the shape of the 4D array\n",
    "print(\"Shape of the 4D array:\", shape_of_arr_4d)\n"
   ]
  },
  {
   "cell_type": "code",
   "execution_count": 11,
   "id": "9ebd2ea7-8572-4ab8-979d-7aa9163ed179",
   "metadata": {},
   "outputs": [
    {
     "name": "stdout",
     "output_type": "stream",
     "text": [
      "Shape of the 5D array: (2, 3, 4, 5, 6)\n"
     ]
    }
   ],
   "source": [
    "import numpy as np\n",
    "\n",
    "# Creating a 5-dimensional NumPy array\n",
    "arr_5d = np.random.rand(2, 3, 4, 5, 6)\n",
    "\n",
    "# Getting the shape of the 5D array\n",
    "shape_of_arr_5d = arr_5d.shape\n",
    "\n",
    "# Printing the shape of the 5D array\n",
    "print(\"Shape of the 5D array:\", shape_of_arr_5d)\n"
   ]
  },
  {
   "cell_type": "code",
   "execution_count": 12,
   "id": "3cdf561b-fe30-49f9-b3d9-9eb9c6c40c83",
   "metadata": {},
   "outputs": [
    {
     "name": "stdout",
     "output_type": "stream",
     "text": [
      "[[[[[1 2 3 4 5]]]]]\n",
      "Shape of the 5D array: (1, 1, 1, 1, 5)\n"
     ]
    }
   ],
   "source": [
    "import numpy as np\n",
    "pks5d_arr = np.array([1,2,3,4,5], ndmin=5)\n",
    "print(pks5d_arr)\n",
    "print(\"Shape of the 5D array:\", pks5d_arr.shape)"
   ]
  },
  {
   "cell_type": "markdown",
   "id": "750aa4c9-9aee-40ab-a166-b23ee3367569",
   "metadata": {},
   "source": [
    "Here is a summary of the current Topics:\n",
    "\n",
    "- **Numpy Array Copy and View**: This page explains the difference between copying and viewing a numpy array, and how to perform these operations using various methods.\n",
    "- **Copy**: A copy is a new array object that has a deep copy of the original array's data. Changes made to the copy will not affect the original array, and vice versa. Copying can be done using the `copy()` method or the `np.copy()` function.\n",
    "- **View**: A view is an array object that shares the same data as the original array. Changes made to the view will affect the original array, and vice versa. Viewing can be done using slicing, indexing, or the `view()` method.\n",
    "- **Checking if Arrays Share Data**: To check if two arrays share the same data, one can use the `base` attribute or the `np.shares_memory()` function. The `base` attribute returns the original array if the array is a view, or `None` if the array is a copy. The `np.shares_memory()` function returns `True` if the arrays share data, or `False` otherwise."
   ]
  },
  {
   "cell_type": "markdown",
   "id": "fa8c5478-25e9-4a4d-91e4-eb94cd5d3c15",
   "metadata": {},
   "source": [
    "# LECTURE 8 : NUMPY ARRAY RESHAPING"
   ]
  },
  {
   "cell_type": "markdown",
   "id": "7fd7db69-36b8-45d7-bca7-0bdf55de3978",
   "metadata": {},
   "source": [
    "NumPy array reshaping is the process of changing the shape of an array without changing its data. The shape of an array is the number of elements in each dimension. By reshaping, we can add or remove dimensions or change the number of elements in each dimension.\n",
    "\n",
    "To reshape an array, we use the `reshape()` method of the array object or the `np.reshape()` function. The syntax is:\n",
    "\n",
    "```python\n",
    "array.reshape(newshape, order='C')\n",
    "```\n",
    "\n",
    "or\n",
    "\n",
    "```python\n",
    "np.reshape(array, newshape, order='C')\n",
    "```\n",
    "\n",
    "where `array` is the input array, `newshape` is a tuple of integers specifying the new shape, and `order` is an optional argument that determines the order of reading and writing the elements. The default order is 'C', which means row-major order. Other possible values are 'F' for column-major order and 'A' for the order of the input array.\n",
    "\n",
    "The new shape should be compatible with the original shape, meaning that the total number of elements should be the same. One of the dimensions can be -1, which means that the value is inferred from the length of the array and the remaining dimensions.\n",
    "\n",
    "For example, to reshape a 1D array with 12 elements into a 2D array with 4 rows and 3 columns, we can do:\n",
    "\n",
    "```python\n",
    "import numpy as np\n",
    "\n",
    "arr = np.array([1, 2, 3, 4, 5, 6, 7, 8, 9, 10, 11, 12])\n",
    "newarr = arr.reshape(4, 3)\n",
    "print(newarr)\n",
    "```\n",
    "\n",
    "Output:\n",
    "\n",
    "```\n",
    "[[ 1  2  3]\n",
    " [ 4  5  6]\n",
    " [ 7  8  9]\n",
    " [10 11 12]]\n",
    "```\n",
    "\n",
    "To reshape a 2D array with 6 elements into a 3D array with 2 arrays, each containing 1 array with 3 elements, we can do:\n",
    "\n",
    "```python\n",
    "import numpy as np\n",
    "\n",
    "arr = np.array([[1, 2, 3], [4, 5, 6]])\n",
    "newarr = arr.reshape(2, 1, 3)\n",
    "print(newarr)\n",
    "```\n",
    "\n",
    "Output:\n",
    "\n",
    "```\n",
    "[[[1 2 3]]\n",
    "\n",
    " [[4 5 6]]]\n",
    "```\n",
    "\n",
    "To reshape an array with an unknown dimension, we can use -1 as a placeholder. For example, to reshape a 1D array with 8 elements into a 2D array with 2 rows and an unknown number of columns, we can do:\n",
    "\n",
    "```python\n",
    "import numpy as np\n",
    "\n",
    "arr = np.array([1, 2, 3, 4, 5, 6, 7, 8])\n",
    "newarr = arr.reshape(2, -1)\n",
    "print(newarr)\n",
    "```\n",
    "\n",
    "Output:\n",
    "\n",
    "```\n",
    "[[1 2 3 4]\n",
    " [5 6 7 8]]\n",
    "```\n",
    "\n",
    "The `reshape()` method returns a new array object with the new shape. However, it does not always create a copy of the data. If the new shape is compatible with the original shape and order, it may return a view of the original array. To check if the returned array is a copy or a view, we can use the `base` attribute, which returns the original array if the array is a view, or None if the array is a copy. For example:\n",
    "\n",
    "```python\n",
    "import numpy as np\n",
    "\n",
    "arr = np.array([1, 2, 3, 4])\n",
    "newarr = arr.reshape(2, 2)\n",
    "print(newarr.base)\n",
    "```\n",
    "\n",
    "Output:\n",
    "\n",
    "```\n",
    "[1 2 3 4]\n",
    "```\n",
    "\n",
    "This means that `newarr` is a view of `arr`, and any changes made to `newarr` will affect `arr`, and vice versa.\n",
    "\n",
    "For more information and examples, you can refer to the [NumPy documentation](^1^) or some online tutorials such as [W3Schools](^2^), [GeeksforGeeks](^3^), or [Programiz](^4^).\n",
    "\n",
    "Source: Conversation with Bing, 5/1/2024\n",
    "(1) numpy.reshape — NumPy v1.26 Manual. https://numpy.org/doc/stable/reference/generated/numpy.reshape.html.\n",
    "(2) NumPy Array Reshaping - W3Schools. https://www.w3schools.com/python/numpy/numpy_array_reshape.asp.\n",
    "(3) Reshape NumPy Array - GeeksforGeeks. https://www.geeksforgeeks.org/reshape-numpy-array/.\n",
    "(4) NumPy Array Reshaping (With Examples) - Programiz. https://www.programiz.com/python-programming/numpy/array-reshaping."
   ]
  },
  {
   "cell_type": "markdown",
   "id": "ced45c5a-4b54-42f0-8237-7e02462fa186",
   "metadata": {},
   "source": [
    "## CHTGPT"
   ]
  },
  {
   "cell_type": "code",
   "execution_count": 13,
   "id": "12beb877-cc49-454b-aace-706796add675",
   "metadata": {},
   "outputs": [
    {
     "name": "stdout",
     "output_type": "stream",
     "text": [
      "Original 1D array:\n",
      " [1 2 3 4 5 6]\n",
      "\n",
      "Reshaped 2D array:\n",
      " [[1 2 3]\n",
      " [4 5 6]]\n"
     ]
    }
   ],
   "source": [
    "## Reshape 1D to 2D:\n",
    "import numpy as np\n",
    "\n",
    "# Creating a 1D array\n",
    "arr_1d = np.array([1, 2, 3, 4, 5, 6])\n",
    "\n",
    "# Reshaping the 1D array to a 2D array (2 rows, 3 columns)\n",
    "arr_2d = arr_1d.reshape(2, 3)\n",
    "\n",
    "# Printing the original and reshaped arrays\n",
    "print(\"Original 1D array:\\n\", arr_1d)\n",
    "print(\"\\nReshaped 2D array:\\n\", arr_2d)\n"
   ]
  },
  {
   "cell_type": "code",
   "execution_count": 14,
   "id": "16176afa-a715-4082-a23a-7cc7af56ceb1",
   "metadata": {},
   "outputs": [
    {
     "name": "stdout",
     "output_type": "stream",
     "text": [
      "Original 1D array:\n",
      " [1 2 3 4 5 6]\n",
      "\n",
      "Reshaped 3D array:\n",
      " [[[1 2 3]]\n",
      "\n",
      " [[4 5 6]]]\n"
     ]
    }
   ],
   "source": [
    "# Reshape 1D to 3D:\n",
    "import numpy as np\n",
    "\n",
    "# Creating a 1D array\n",
    "arr_1d = np.array([1, 2, 3, 4, 5, 6])\n",
    "\n",
    "# Reshaping the 1D array to a 3D array (2 layers, 1 row, 3 columns)\n",
    "arr_3d = arr_1d.reshape(2, 1, 3)\n",
    "\n",
    "# Printing the original and reshaped arrays\n",
    "print(\"Original 1D array:\\n\", arr_1d)\n",
    "print(\"\\nReshaped 3D array:\\n\", arr_3d)\n"
   ]
  },
  {
   "cell_type": "code",
   "execution_count": 15,
   "id": "59cee486-da2a-445b-b133-c139f5a65e1a",
   "metadata": {},
   "outputs": [
    {
     "name": "stdout",
     "output_type": "stream",
     "text": [
      "Original 2D array:\n",
      " [[1 2 3]\n",
      " [4 5 6]]\n",
      "\n",
      "Reshaped 1D array:\n",
      " [1 2 3 4 5 6]\n"
     ]
    }
   ],
   "source": [
    "# Reshape 2D to 1D:\n",
    "import numpy as np\n",
    "\n",
    "# Creating a 2D array\n",
    "arr_2d = np.array([[1, 2, 3], [4, 5, 6]])\n",
    "\n",
    "# Reshaping the 2D array to a 1D array\n",
    "arr_1d = arr_2d.reshape(-1)\n",
    "\n",
    "# Printing the original and reshaped arrays\n",
    "print(\"Original 2D array:\\n\", arr_2d)\n",
    "print(\"\\nReshaped 1D array:\\n\", arr_1d)\n"
   ]
  },
  {
   "cell_type": "markdown",
   "id": "1dc98a15-3305-427a-86d9-3795b106b3a6",
   "metadata": {},
   "source": [
    "## SHARAD "
   ]
  },
  {
   "cell_type": "code",
   "execution_count": 16,
   "id": "14cabc95-2a1e-4a5a-a684-5d41dc53a6a7",
   "metadata": {},
   "outputs": [
    {
     "name": "stdout",
     "output_type": "stream",
     "text": [
      "[[ 1  2  3]\n",
      " [ 4  5  6]\n",
      " [ 7  8  9]\n",
      " [10 11 12]]\n"
     ]
    }
   ],
   "source": [
    "import numpy as np\n",
    "\n",
    "# Creating a 1D NumPy array with elements 1 to 12\n",
    "arr = np.array([1, 2, 3, 4, 5, 6, 7, 8, 9, 10, 11, 12])\n",
    "\n",
    "# Reshaping the 1D array to a 2D array with 4 rows and 3 columns\n",
    "arr_2d = arr.reshape(4, 3)\n",
    "\n",
    "# Printing the reshaped 2D array\n",
    "print(arr_2d)\n"
   ]
  },
  {
   "cell_type": "code",
   "execution_count": 17,
   "id": "04909fed-f722-42ba-b2e0-63d6a60b7547",
   "metadata": {},
   "outputs": [
    {
     "name": "stdout",
     "output_type": "stream",
     "text": [
      "[[[ 1  2]\n",
      "  [ 3  4]\n",
      "  [ 5  6]]\n",
      "\n",
      " [[ 7  8]\n",
      "  [ 9 10]\n",
      "  [11 12]]]\n"
     ]
    }
   ],
   "source": [
    "import numpy as np\n",
    "\n",
    "# Creating a 1D NumPy array with elements 1 to 12\n",
    "arr = np.array([1, 2, 3, 4, 5, 6, 7, 8, 9, 10, 11, 12])\n",
    "\n",
    "# Reshaping the 1D array to a 3D array with dimensions 2x3x2\n",
    "arr_3d = arr.reshape(2, 3, 2)\n",
    "\n",
    "# Printing the reshaped 3D array\n",
    "print(arr_3d)\n"
   ]
  },
  {
   "cell_type": "code",
   "execution_count": 18,
   "id": "ee03cfda-e8f0-405d-9501-5aaebe19293a",
   "metadata": {},
   "outputs": [
    {
     "name": "stdout",
     "output_type": "stream",
     "text": [
      "[[ 1  2]\n",
      " [ 3  4]\n",
      " [ 5  6]\n",
      " [ 7  8]\n",
      " [ 9 10]\n",
      " [11 12]]\n"
     ]
    }
   ],
   "source": [
    "import numpy as np\n",
    "\n",
    "# Creating a 1D NumPy array with elements 1 to 12\n",
    "arr = np.array([1, 2, 3, 4, 5, 6, 7, 8, 9, 10, 11, 12])\n",
    "\n",
    "# Reshaping the 1D array to a 2D array with dimensions 6x2\n",
    "arr_2d = arr.reshape(6, 2)\n",
    "\n",
    "# Printing the reshaped 2D array\n",
    "print(arr_2d)\n"
   ]
  },
  {
   "cell_type": "code",
   "execution_count": 19,
   "id": "217c2ded-59d5-4fda-9144-4d46ba8235dd",
   "metadata": {},
   "outputs": [
    {
     "ename": "SyntaxError",
     "evalue": "incomplete input (1443449402.py, line 10)",
     "output_type": "error",
     "traceback": [
      "\u001b[1;36m  Cell \u001b[1;32mIn[19], line 10\u001b[1;36m\u001b[0m\n\u001b[1;33m    print(\"Base of the reshaped array:\", arr_2d.base  # Note it is the view not copy\u001b[0m\n\u001b[1;37m                                                                                     ^\u001b[0m\n\u001b[1;31mSyntaxError\u001b[0m\u001b[1;31m:\u001b[0m incomplete input\n"
     ]
    }
   ],
   "source": [
    "import numpy as np\n",
    "\n",
    "# Creating a 1D NumPy array with elements 1 to 12\n",
    "arr = np.array([1, 2, 3, 4, 5, 6, 7, 8, 9, 10, 11, 12])\n",
    "\n",
    "# Reshaping the 1D array to a 2D array with dimensions 6x2\n",
    "arr_2d = arr.reshape(6, 2)\n",
    "\n",
    "# Printing the base attribute of the reshaped array\n",
    "print(\"Base of the reshaped array:\", arr_2d.base  # Note it is the view not copy \n"
   ]
  },
  {
   "cell_type": "markdown",
   "id": "fa21ed3e-0f7b-4e1c-93c4-fb69e341eb15",
   "metadata": {
    "scrolled": true
   },
   "source": [
    "**In NumPy, you can use -1 as a placeholder for an unknown dimension when reshaping an array. When you use -1, NumPy automatically calculates the size of that dimension based on the total number of elements in the array. However, it's important to note that you can have at most one unknown dimension.**"
   ]
  },
  {
   "cell_type": "code",
   "execution_count": null,
   "id": "c8c6083c-2e8d-4a88-bf73-51981ae2db6b",
   "metadata": {},
   "outputs": [],
   "source": [
    "import numpy as np\n",
    "\n",
    "# Creating a 1D NumPy array with elements 1 to 8\n",
    "arr = np.array([1, 2, 3, 4, 5, 6, 7, 8])\n",
    "\n",
    "# Reshaping the 1D array to a 3D array with dimensions (2, 2, -1)\n",
    "arr_unknown_d = arr.reshape(2, 2, -1)\n",
    "\n",
    "# Printing the reshaped 3D array\n",
    "print(arr_unknown_d)\n"
   ]
  },
  {
   "cell_type": "code",
   "execution_count": null,
   "id": "16fda88a-b2cc-494b-8939-42e2277c7944",
   "metadata": {},
   "outputs": [],
   "source": [
    "import numpy as np\n",
    "\n",
    "# Creating a 2D NumPy array\n",
    "arr = np.array([[1, 2, 3], [4, 5, 6]])\n",
    "\n",
    "# Flattening the array to a 1D array using reshape(-1)\n",
    "arr_1d = arr.reshape(-1)\n",
    "\n",
    "# Printing the flattened 1D array\n",
    "print(arr_1d)\n"
   ]
  },
  {
   "cell_type": "markdown",
   "id": "1cf0d605-78ed-4c09-8743-d6202dc314c2",
   "metadata": {},
   "source": [
    "### Reshaping Functions:\n",
    "\n",
    "1. **reshape:** Changes the shape of an array.\n",
    "    ```python\n",
    "    arr.reshape((rows, columns))\n",
    "    ```\n",
    "\n",
    "2. **flatten:** Returns a 1D array by flattening the input array.\n",
    "    ```python\n",
    "    arr.flatten()\n",
    "    ```\n",
    "\n",
    "3. **ravel:** Returns a flattened 1D array.\n",
    "    ```python\n",
    "    np.ravel(arr)\n",
    "    ```\n",
    "\n",
    "### Rearranging Functions:\n",
    "\n",
    "4. **rot90:** Rotates an array by 90 degrees in the plane specified by axes.\n",
    "    ```python\n",
    "    np.rot90(arr, k=1)\n",
    "    ```\n",
    "\n",
    "5. **flip:** Reverses the order of elements along a specified axis.\n",
    "    ```python\n",
    "    np.flip(arr, axis=0)\n",
    "    ```\n",
    "\n",
    "6. **fliplr:** Flips array in the left/right direction.\n",
    "    ```python\n",
    "    np.fliplr(arr)\n",
    "    ```\n",
    "\n",
    "7. **flipud:** Flips array in the up/down direction.\n",
    "    ```python\n",
    "    np.flipud(arr)\n",
    "    ```\n",
    "\n",
    "These functions provide flexibility for reshaping, flattening, and rearranging arrays based on specific requirements. You can choose the one that fits your needs the best. For example, `flatten` and `ravel` are similar, but `flatten` returns a copy of the array, while `ravel` returns a flattened view of the original array whenever possible.\n"
   ]
  },
  {
   "cell_type": "code",
   "execution_count": null,
   "id": "b01286f5-58e5-4210-8947-3525313031ab",
   "metadata": {},
   "outputs": [],
   "source": [
    "# Example 1 : Reshape\n",
    "import numpy as np\n",
    "\n",
    "# Creating a 2D array for examples\n",
    "arr = np.array([[1, 2, 3], [4, 5, 6]])\n",
    "\n",
    "# Reshaping the array to (3, 2)\n",
    "reshaped_arr = arr.reshape((3, 2))\n",
    "print(reshaped_arr)\n"
   ]
  },
  {
   "cell_type": "code",
   "execution_count": null,
   "id": "4ffcb291-f7b8-4750-9960-87e7cdf6521b",
   "metadata": {},
   "outputs": [],
   "source": [
    "# Example 2 : Flatten\n",
    "import numpy as np\n",
    "\n",
    "# Creating a 2D array for examples\n",
    "arr = np.array([[1, 2, 3], [4, 5, 6]])\n",
    "\n",
    "# Flattening the array\n",
    "flattened_arr = arr.flatten()\n",
    "print(flattened_arr)\n"
   ]
  },
  {
   "cell_type": "code",
   "execution_count": null,
   "id": "d6c1b013-b051-4e11-b855-84e619ce0d0d",
   "metadata": {},
   "outputs": [],
   "source": [
    "# Example 3 : Ravel\n",
    "import numpy as np\n",
    "\n",
    "# Creating a 2D array for examples\n",
    "arr = np.array([[1, 2, 3], [4, 5, 6]])\n",
    "\n",
    "# Raveling the array\n",
    "flattened_arr = np.ravel(arr)\n",
    "print(flattened_arr)\n"
   ]
  },
  {
   "cell_type": "code",
   "execution_count": null,
   "id": "f5b91d66-133a-4da8-896e-f36f77ea84db",
   "metadata": {},
   "outputs": [],
   "source": [
    "# Example 4 : Rot90\n",
    "import numpy as np\n",
    "\n",
    "# Creating a 2D array for examples\n",
    "arr = np.array([[1, 2, 3], [4, 5, 6]])\n",
    "\n",
    "# Rotating the array by 90 degrees\n",
    "rotated_arr = np.rot90(arr)\n",
    "print(rotated_arr)\n"
   ]
  },
  {
   "cell_type": "markdown",
   "id": "07e894e3-0879-49e1-96bc-63523b61bdba",
   "metadata": {},
   "source": [
    "# LECTURE 9 : NUMPY ARRAY ITERATING \n",
    "\n",
    "**In NumPy, you can iterate over elements of an array using various methods. Here are some common ways to iterate through NumPy arrays:**"
   ]
  },
  {
   "cell_type": "code",
   "execution_count": null,
   "id": "400e860b-97dc-4dff-ab40-dd8f3d7716a3",
   "metadata": {},
   "outputs": [],
   "source": [
    "# 1. Using for loop:\n",
    "\n",
    "import numpy as np\n",
    "\n",
    "arr = np.array([[1, 2, 3], [4, 5, 6]])\n",
    "\n",
    "for row in arr:\n",
    "    for element in row:\n",
    "        print(element)\n"
   ]
  },
  {
   "cell_type": "code",
   "execution_count": null,
   "id": "5c6bb9f5-e315-45fb-8688-3c4e4f6f6165",
   "metadata": {},
   "outputs": [],
   "source": [
    "# 2. Using nditer:\n",
    "import numpy as np\n",
    "\n",
    "arr = np.array([[1, 2, 3], [4, 5, 6]])\n",
    "\n",
    "for element in np.nditer(arr):\n",
    "    print(element)\n"
   ]
  },
  {
   "cell_type": "code",
   "execution_count": null,
   "id": "ca682c9f-03f8-4f22-b7e8-cdbef9942847",
   "metadata": {},
   "outputs": [],
   "source": [
    "# 3. Using enumerate:\n",
    "import numpy as np\n",
    "\n",
    "arr = np.array([[1, 2, 3], [4, 5, 6]])\n",
    "\n",
    "for i, row in enumerate(arr):\n",
    "    for j, element in enumerate(row):\n",
    "        print(f\"arr[{i}][{j}] = {element}\")\n"
   ]
  },
  {
   "cell_type": "code",
   "execution_count": null,
   "id": "89218b4b-f9f3-4fe3-804f-a3755f86a794",
   "metadata": {},
   "outputs": [],
   "source": [
    "# 4. Using flat attribute:\n",
    "import numpy as np\n",
    "\n",
    "arr = np.array([[1, 2, 3], [4, 5, 6]])\n",
    "\n",
    "for element in arr.flat:\n",
    "    print(element)\n"
   ]
  },
  {
   "cell_type": "markdown",
   "id": "ab350916-4f75-4614-80f0-35030dff1a61",
   "metadata": {},
   "source": [
    "## SHARAD"
   ]
  },
  {
   "cell_type": "code",
   "execution_count": null,
   "id": "de519a48-74ef-4781-a657-6072eb45e4ab",
   "metadata": {},
   "outputs": [],
   "source": []
  }
 ],
 "metadata": {
  "kernelspec": {
   "display_name": "Python 3 (ipykernel)",
   "language": "python",
   "name": "python3"
  },
  "language_info": {
   "codemirror_mode": {
    "name": "ipython",
    "version": 3
   },
   "file_extension": ".py",
   "mimetype": "text/x-python",
   "name": "python",
   "nbconvert_exporter": "python",
   "pygments_lexer": "ipython3",
   "version": "3.12.1"
  }
 },
 "nbformat": 4,
 "nbformat_minor": 5
}
