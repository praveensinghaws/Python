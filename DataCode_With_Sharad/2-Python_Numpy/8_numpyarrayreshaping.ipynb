{
 "cells": [
  {
   "cell_type": "markdown",
   "id": "419aa4a8-a5f1-4788-96bd-60222945743f",
   "metadata": {},
   "source": [
    "# Numpy Array Reshaping\n",
    "\n",
    "#### reshaping - means changing the shape of an array ,like adding or removing the elements.\r\n"
   ]
  },
  {
   "cell_type": "code",
   "execution_count": 1,
   "id": "dfcb62b1-de02-4560-a03b-4c48d52f4c73",
   "metadata": {},
   "outputs": [
    {
     "name": "stdout",
     "output_type": "stream",
     "text": [
      "[[ 1  2  3]\n",
      " [ 4  5  6]\n",
      " [ 7  8  9]\n",
      " [10 11 12]]\n"
     ]
    }
   ],
   "source": [
    "# reshaping from 1-D to 2-D\n",
    "import numpy as np\n",
    "sharad = np.array([1,2,3,4,5,6,7,8,9,10,11,12])\n",
    "sharad1 = sharad.reshape(4, 3) # Row , Colummn\n",
    "print(sharad1)"
   ]
  },
  {
   "cell_type": "code",
   "execution_count": 2,
   "id": "3e237e2a-55b1-4577-b240-f41f238ee816",
   "metadata": {},
   "outputs": [
    {
     "name": "stdout",
     "output_type": "stream",
     "text": [
      "[[ 1  2  3  4]\n",
      " [ 5  6  7  8]\n",
      " [ 9 10 11 12]]\n"
     ]
    }
   ],
   "source": [
    "praveen =sharad.reshape(3,4)\n",
    "print(praveen)"
   ]
  },
  {
   "cell_type": "code",
   "execution_count": 3,
   "id": "2083e823-5613-4cb4-bcac-e7317865f83d",
   "metadata": {},
   "outputs": [
    {
     "name": "stdout",
     "output_type": "stream",
     "text": [
      "[[[ 1  2]\n",
      "  [ 3  4]\n",
      "  [ 5  6]]\n",
      "\n",
      " [[ 7  8]\n",
      "  [ 9 10]\n",
      "  [11 12]]]\n"
     ]
    }
   ],
   "source": [
    "# reshping from 1-D to 3-D\n",
    "import numpy as np\n",
    "sharad = np.array([1,2,3,4,5,6,7,8,9,10,11,12])\n",
    "sharad1 = sharad.reshape(2, 3, 2) # Indexing , Row , Column\n",
    "print(sharad1)"
   ]
  },
  {
   "cell_type": "code",
   "execution_count": 4,
   "id": "e1229ef4-bc00-45db-8eb5-cd6c6eff8752",
   "metadata": {},
   "outputs": [],
   "source": [
    "praveen1 = sharad.reshape(2,2,3)"
   ]
  },
  {
   "cell_type": "code",
   "execution_count": 5,
   "id": "29e434be-05cf-4160-b6ba-d7f84d825eb2",
   "metadata": {},
   "outputs": [
    {
     "name": "stdout",
     "output_type": "stream",
     "text": [
      "Length of Sharad List : 8\n",
      "Sharad: [1 2 3 4 5 6 7 8]\n",
      "Respaping Sharad: [1 2 3 4 5 6 7 8]\n",
      "Reshaping praveen1:\n",
      " [[1 2]\n",
      " [3 4]\n",
      " [5 6]\n",
      " [7 8]]\n"
     ]
    }
   ],
   "source": [
    "# Return copy or view\n",
    "import numpy as np\n",
    "sharad = np.array([1,2,3,4,5,6,7,8])\n",
    "print(\"Length of Sharad List :\",len(sharad))\n",
    "print(\"Sharad:\",sharad)\n",
    "print(\"Respaping Sharad:\",sharad.reshape(2, 4).base)\n",
    "praveen1 = sharad.reshape(4,2)\n",
    "print(\"Reshaping praveen1:\\n\",praveen1)\n"
   ]
  },
  {
   "cell_type": "code",
   "execution_count": 6,
   "id": "082dd22f-38fc-4305-8de9-268a3a3e3248",
   "metadata": {},
   "outputs": [
    {
     "name": "stdout",
     "output_type": "stream",
     "text": [
      "[[[1 2]\n",
      "  [3 4]]\n",
      "\n",
      " [[5 6]\n",
      "  [7 8]]]\n"
     ]
    }
   ],
   "source": [
    "# unknown dimension - you are only allowed to have one unknown dimension. pass -1.\n",
    "\n",
    "import numpy as np\n",
    "sharad = np.array([1,2,3,4,5,6,7,8])\n",
    "sharad1 = sharad.reshape(2, 2, -1)\n",
    "print(sharad1)"
   ]
  },
  {
   "cell_type": "code",
   "execution_count": 7,
   "id": "c27e6c8f-faca-4f7c-a651-318172514bf4",
   "metadata": {},
   "outputs": [
    {
     "name": "stdout",
     "output_type": "stream",
     "text": [
      "[1 2 3 4 5 6]\n"
     ]
    }
   ],
   "source": [
    "# Flattening the array by converting multidimensional array in 1-D.\n",
    "import numpy as np\n",
    "sharad = np.array([[1,2,3], [4,5,6]])\n",
    "sharad1 = sharad.reshape(-1)\n",
    "print(sharad1)"
   ]
  },
  {
   "cell_type": "code",
   "execution_count": 8,
   "id": "c3d830c9-71b6-4726-b3f5-0d7e7ae273f6",
   "metadata": {},
   "outputs": [],
   "source": [
    "# there are alot of functions for changing the shapes pf an array in numpy. like flatten, ravel and also rearranging the element rot90, flip,fliplr, flipud. they all are actually comes under advanced numpy."
   ]
  },
  {
   "cell_type": "code",
   "execution_count": null,
   "id": "941f98fe-2e73-4e87-89b0-1566e9a6f7a7",
   "metadata": {},
   "outputs": [],
   "source": []
  }
 ],
 "metadata": {
  "kernelspec": {
   "display_name": "Python 3 (ipykernel)",
   "language": "python",
   "name": "python3"
  },
  "language_info": {
   "codemirror_mode": {
    "name": "ipython",
    "version": 3
   },
   "file_extension": ".py",
   "mimetype": "text/x-python",
   "name": "python",
   "nbconvert_exporter": "python",
   "pygments_lexer": "ipython3",
   "version": "3.11.4"
  }
 },
 "nbformat": 4,
 "nbformat_minor": 5
}
