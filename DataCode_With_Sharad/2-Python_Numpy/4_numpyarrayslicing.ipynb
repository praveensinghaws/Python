{
 "cells": [
  {
   "cell_type": "markdown",
   "id": "404d561e-901e-4284-be40-945120ec0d53",
   "metadata": {},
   "source": [
    "## Numpy Array Slicing\n",
    "\n",
    "#### slicing array - slicing in python means taking elemetns from one given index to another index.  [start:end], [start:end:step]"
   ]
  },
  {
   "cell_type": "code",
   "execution_count": 1,
   "id": "a41d8a92-1e8d-4a66-b1b9-3e7196e86aba",
   "metadata": {},
   "outputs": [
    {
     "name": "stdout",
     "output_type": "stream",
     "text": [
      "[2 3 4 5]\n"
     ]
    }
   ],
   "source": [
    "# now we will slice an element from 1 to 5 :\n",
    "import numpy as np\n",
    "sharad = np.array([1, 2, 3, 4, 5, 6, 7, 8, 9])\n",
    "print(sharad[1:5])"
   ]
  },
  {
   "cell_type": "code",
   "execution_count": 2,
   "id": "64ee035c-a002-4a4a-b896-fae3eb79ca44",
   "metadata": {},
   "outputs": [
    {
     "name": "stdout",
     "output_type": "stream",
     "text": [
      "[5 6 7 8 9]\n"
     ]
    }
   ],
   "source": [
    "# now we will slice from index 4 to the end value\n",
    "import numpy as np\n",
    "sharad = np.array([1, 2, 3, 4, 5, 6, 7, 8, 9])\n",
    "print(sharad[4:])"
   ]
  },
  {
   "cell_type": "code",
   "execution_count": 3,
   "id": "1d2ea245-fced-4f42-8edc-1c2501fed3ab",
   "metadata": {},
   "outputs": [
    {
     "name": "stdout",
     "output_type": "stream",
     "text": [
      "[1 2 3 4]\n"
     ]
    }
   ],
   "source": [
    "# now we will slice the element from the begining to index 4\n",
    "import numpy as np\n",
    "sharad = np.array([1, 2, 3, 4, 5, 6, 7, 8, 9])\n",
    "print(sharad[:4])"
   ]
  },
  {
   "cell_type": "code",
   "execution_count": 4,
   "id": "fa0fb08f-1cf4-486b-9091-0580fec702d0",
   "metadata": {},
   "outputs": [
    {
     "name": "stdout",
     "output_type": "stream",
     "text": [
      "[5 6]\n"
     ]
    }
   ],
   "source": [
    "# Negative Slicing - index 3 to end\n",
    "import numpy as np\n",
    "sharad = np.array([1, 2, 3, 4, 5, 6, 7])\n",
    "print(sharad[-3:-1])"
   ]
  },
  {
   "cell_type": "code",
   "execution_count": 5,
   "id": "f952042b-30a9-4cbc-9f12-a0e6864275d0",
   "metadata": {},
   "outputs": [
    {
     "name": "stdout",
     "output_type": "stream",
     "text": [
      "[2 4]\n"
     ]
    }
   ],
   "source": [
    "# Step: you will use step value to determine the step of the slicing\n",
    "# return every other value from index 1 to 5\n",
    "import numpy as np\n",
    "sharad = np.array([1, 2, 3, 4, 5, 6, 7])\n",
    "print(sharad[1:5:2])\n"
   ]
  },
  {
   "cell_type": "code",
   "execution_count": 6,
   "id": "8c2ef06f-ba73-49c4-9391-6b04984094be",
   "metadata": {},
   "outputs": [
    {
     "name": "stdout",
     "output_type": "stream",
     "text": [
      "[1 3 5 7 9]\n"
     ]
    }
   ],
   "source": [
    "# now return every other number from the entire array\n",
    "import numpy as np\n",
    "sharad = np.array([1, 2, 3, 4, 5, 6, 7, 8, 9])\n",
    "print(sharad[::2])"
   ]
  },
  {
   "cell_type": "code",
   "execution_count": 7,
   "id": "4a03d495-214e-4114-96e7-e96cfa7614b8",
   "metadata": {},
   "outputs": [
    {
     "name": "stdout",
     "output_type": "stream",
     "text": [
      "[7 8 9]\n"
     ]
    }
   ],
   "source": [
    "# slicing 2-D Array: print 7,8,9\n",
    "import numpy as np\n",
    "sharad = np.array([[1,2,3,4,5], [6,7,8,9,10]])\n",
    "print(sharad[1,1:4])"
   ]
  },
  {
   "cell_type": "code",
   "execution_count": 8,
   "id": "3eb92ab3-23a9-4e0a-abcf-9bbfd5b7db72",
   "metadata": {},
   "outputs": [
    {
     "name": "stdout",
     "output_type": "stream",
     "text": [
      "[ 5 10]\n"
     ]
    }
   ],
   "source": [
    "# another example : 4th element of each List\n",
    "import numpy as np\n",
    "sharad = np.array([[1,2,3,4,5], [6,7,8,9,10]])\n",
    "print(sharad[0:2 , 4])"
   ]
  },
  {
   "cell_type": "code",
   "execution_count": 9,
   "id": "c5322786-323c-458b-9226-3495b3367384",
   "metadata": {},
   "outputs": [
    {
     "name": "stdout",
     "output_type": "stream",
     "text": [
      "[[2 3 4]\n",
      " [7 8 9]]\n"
     ]
    }
   ],
   "source": [
    "# another example tough 2-D - print from both, index 1:4\n",
    "import numpy as np\n",
    "sharad = np.array([[1,2,3,4,5], [6,7,8,9,10]])\n",
    "print(sharad[0:2 , 1:4])\n"
   ]
  }
 ],
 "metadata": {
  "kernelspec": {
   "display_name": "Python 3 (ipykernel)",
   "language": "python",
   "name": "python3"
  },
  "language_info": {
   "codemirror_mode": {
    "name": "ipython",
    "version": 3
   },
   "file_extension": ".py",
   "mimetype": "text/x-python",
   "name": "python",
   "nbconvert_exporter": "python",
   "pygments_lexer": "ipython3",
   "version": "3.11.4"
  }
 },
 "nbformat": 4,
 "nbformat_minor": 5
}
