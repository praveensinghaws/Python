{
 "cells": [
  {
   "cell_type": "markdown",
   "id": "43f6968c-ec5b-4317-a63f-6a3e3e8dbcdb",
   "metadata": {},
   "source": [
    "# 26.NumPy Chi Square Distribution || random.chisquare() & Plot"
   ]
  },
  {
   "cell_type": "code",
   "execution_count": null,
   "id": "28a838dd-231f-46b3-aa06-bb4f53feedb5",
   "metadata": {},
   "outputs": [],
   "source": []
  },
  {
   "cell_type": "markdown",
   "id": "5fb0cba9-a0de-4c7c-bb13-50750c93136b",
   "metadata": {},
   "source": [
    "# 27.NumPy Rayleigh Distribution || random.rayleigh() & Plot"
   ]
  },
  {
   "cell_type": "code",
   "execution_count": null,
   "id": "41d43e97-2e43-4432-a409-2aaa67b36aa6",
   "metadata": {},
   "outputs": [],
   "source": []
  },
  {
   "cell_type": "markdown",
   "id": "1ff17e93-3ac5-4b1f-9acb-6d554b60f58b",
   "metadata": {},
   "source": [
    "# 28.NumPy Pareto Distribution || random.pareto() & Plot"
   ]
  },
  {
   "cell_type": "code",
   "execution_count": null,
   "id": "b18f331c-81f4-424f-809c-25e83377dcd7",
   "metadata": {},
   "outputs": [],
   "source": []
  },
  {
   "cell_type": "markdown",
   "id": "0f7123ee-decb-4a95-9f56-2e5722698439",
   "metadata": {},
   "source": [
    "# 29.NumPy Zipf Distribution || random.zipf() & Plot"
   ]
  },
  {
   "cell_type": "code",
   "execution_count": null,
   "id": "2c0e502a-3787-4c7b-abb4-0f57078186d2",
   "metadata": {},
   "outputs": [],
   "source": []
  },
  {
   "cell_type": "markdown",
   "id": "2ad9bf8c-ca48-46fb-a7a3-51e4a3311cd3",
   "metadata": {},
   "source": [
    "# 30.NumPy ufuncs || Numpy Universal Functions"
   ]
  },
  {
   "cell_type": "code",
   "execution_count": null,
   "id": "0cdace16-a035-4a1e-8c12-e81337c3c301",
   "metadata": {},
   "outputs": [],
   "source": []
  }
 ],
 "metadata": {
  "kernelspec": {
   "display_name": "Python 3 (ipykernel)",
   "language": "python",
   "name": "python3"
  },
  "language_info": {
   "codemirror_mode": {
    "name": "ipython",
    "version": 3
   },
   "file_extension": ".py",
   "mimetype": "text/x-python",
   "name": "python",
   "nbconvert_exporter": "python",
   "pygments_lexer": "ipython3",
   "version": "3.11.6"
  },
  "widgets": {
   "application/vnd.jupyter.widget-state+json": {
    "state": {},
    "version_major": 2,
    "version_minor": 0
   }
  }
 },
 "nbformat": 4,
 "nbformat_minor": 5
}
