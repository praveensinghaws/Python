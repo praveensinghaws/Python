{
 "cells": [
  {
   "cell_type": "markdown",
   "id": "41f5070f-36c5-49fe-8f5b-acd7ca9a9c0b",
   "metadata": {},
   "source": [
    "#### Now we will create a numpy ndarray object\n",
    "The array object in numpy is call ndarray\n",
    "#### array()"
   ]
  },
  {
   "cell_type": "code",
   "execution_count": 1,
   "id": "ee0c9608-2af4-4d26-9a39-6f1641e714c1",
   "metadata": {},
   "outputs": [
    {
     "name": "stdout",
     "output_type": "stream",
     "text": [
      "[1 2 3 4 5]\n",
      "<class 'numpy.ndarray'>\n"
     ]
    }
   ],
   "source": [
    "import numpy as np\n",
    "x = np.array([1,2,3,4,5])\n",
    "print(x)\n",
    "print(type(x))"
   ]
  },
  {
   "cell_type": "code",
   "execution_count": 2,
   "id": "c0eae2aa-2792-4e57-bbca-692c57add5af",
   "metadata": {},
   "outputs": [
    {
     "name": "stdout",
     "output_type": "stream",
     "text": [
      "[1 2 3 4 5 6 7]\n",
      "<class 'numpy.ndarray'>\n"
     ]
    }
   ],
   "source": [
    "# we can also pass a list , tuple or any array like object with array(). and it will be converted to ndarray.\n",
    "import numpy as np\n",
    "y = np.array((1,2,3,4,5,6,7))\n",
    "print(y)\n",
    "print(type(y))\n"
   ]
  },
  {
   "cell_type": "code",
   "execution_count": 3,
   "id": "aa7edda7-354a-48e5-9853-1095f84b0b4d",
   "metadata": {},
   "outputs": [
    {
     "name": "stdout",
     "output_type": "stream",
     "text": [
      "42\n"
     ]
    }
   ],
   "source": [
    "# Dimensions in Arrays - a dimensions in arrays is one level of array depth(nested array)\n",
    "\n",
    "# 0-D Arrays - scalars, are the elements in an array,  each value in an array is a 0-D array.\n",
    "\n",
    "# Now we will Create 0_d array with value 42\n",
    "import numpy as np\n",
    "x = np.array(42)\n",
    "print(x) "
   ]
  },
  {
   "cell_type": "code",
   "execution_count": 4,
   "id": "e941d8a3-1fd8-4bdf-9597-003a7db200ba",
   "metadata": {},
   "outputs": [
    {
     "name": "stdout",
     "output_type": "stream",
     "text": [
      "[1 2 3 4 5]\n"
     ]
    }
   ],
   "source": [
    "# 1-D arrays - an array that has 0-D arrays as its elements is called uni directional or 1 -D\n",
    "import numpy as np\n",
    "sharad = np.array([1, 2, 3, 4, 5])\n",
    "print(sharad)"
   ]
  },
  {
   "cell_type": "code",
   "execution_count": 5,
   "id": "ac3c3d6b-14fb-4491-bcf5-1248e466edc0",
   "metadata": {},
   "outputs": [
    {
     "name": "stdout",
     "output_type": "stream",
     "text": [
      "[[1 2 3]\n",
      " [4 5 6]]\n"
     ]
    }
   ],
   "source": [
    "import numpy as np\n",
    "x = np.array([[1, 2, 3], [4, 5, 6]])\n",
    "print(x)"
   ]
  },
  {
   "cell_type": "code",
   "execution_count": 6,
   "id": "29402ecc-ae67-4921-bdb5-31f5a0aaed71",
   "metadata": {},
   "outputs": [
    {
     "name": "stdout",
     "output_type": "stream",
     "text": [
      "[[[1 2 3]\n",
      "  [4 5 6]]\n",
      "\n",
      " [[1 2 3]\n",
      "  [4 5 6]]]\n"
     ]
    }
   ],
   "source": [
    "#Now we will Create a 3-D array with two 2-D array.\n",
    "import numpy as np\n",
    "sharad = np.array([[[1, 2, 3], [4, 5, 6]], [[1, 2, 3],[4, 5, 6]]])\n",
    "print(sharad)"
   ]
  },
  {
   "cell_type": "code",
   "execution_count": 7,
   "id": "93bb4da1-8386-4eff-b8e5-bdd83f176102",
   "metadata": {},
   "outputs": [
    {
     "name": "stdout",
     "output_type": "stream",
     "text": [
      "0\n",
      "1\n",
      "2\n",
      "3\n"
     ]
    }
   ],
   "source": [
    "# Check how many dimensions the array have: ndim attribute\n",
    "import numpy as np\n",
    "a = np.array(42)\n",
    "b = np.array([1, 2, 3, 4, 5])\n",
    "c = np.array([[1, 2, 3], [4, 5, 6]])\n",
    "d = np.array([[[1, 2, 3], [4, 5, 6]], [[1, 2, 3],[4, 5, 6]]])\n",
    "\n",
    "print(a.ndim)\n",
    "print(b.ndim)\n",
    "print(c.ndim)\n",
    "print(d.ndim)"
   ]
  },
  {
   "cell_type": "code",
   "execution_count": 8,
   "id": "28bb3374-98f4-4635-93d9-994c5cf83d6f",
   "metadata": {},
   "outputs": [
    {
     "name": "stdout",
     "output_type": "stream",
     "text": [
      "[[[[[1 2 3 4 5]]]]]\n",
      "number of dimesions:  5\n"
     ]
    }
   ],
   "source": [
    "\n",
    "# Create an array with 5 dimensions and verify that it has 5 dimensions\n",
    "import numpy as np\n",
    "sharad = np.array([1, 2, 3, 4, 5], ndmin=5)\n",
    "print(sharad)\n",
    "print('number of dimesions: ', sharad.ndim)"
   ]
  }
 ],
 "metadata": {
  "kernelspec": {
   "display_name": "Python 3 (ipykernel)",
   "language": "python",
   "name": "python3"
  },
  "language_info": {
   "codemirror_mode": {
    "name": "ipython",
    "version": 3
   },
   "file_extension": ".py",
   "mimetype": "text/x-python",
   "name": "python",
   "nbconvert_exporter": "python",
   "pygments_lexer": "ipython3",
   "version": "3.11.4"
  }
 },
 "nbformat": 4,
 "nbformat_minor": 5
}
