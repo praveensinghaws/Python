{
 "cells": [
  {
   "cell_type": "markdown",
   "id": "281ca372-2b20-455a-bc10-01fab2fc2068",
   "metadata": {},
   "source": [
    "# 36 NumPy Differences || To find difference, use diff() function"
   ]
  },
  {
   "cell_type": "code",
   "execution_count": null,
   "id": "97a0eeaa-3812-49ec-91f6-b3c40cf50311",
   "metadata": {},
   "outputs": [],
   "source": []
  },
  {
   "cell_type": "markdown",
   "id": "6b57c9c6-e26b-4565-9e41-093860934aff",
   "metadata": {},
   "source": [
    "# 37. NumPy LCM Lowest Common Multiple || lcm() np.lcm.reduce()"
   ]
  },
  {
   "cell_type": "code",
   "execution_count": null,
   "id": "e02a98e1-bc90-4ae1-a46d-89a5292d67af",
   "metadata": {},
   "outputs": [],
   "source": []
  },
  {
   "cell_type": "markdown",
   "id": "e2093c43-67a9-4edb-9cbb-ceaff65fe088",
   "metadata": {},
   "source": [
    "# 38. NumPy GCD or HCF || np.gcd np.gcd.reduce()"
   ]
  },
  {
   "cell_type": "code",
   "execution_count": null,
   "id": "9a10f76f-b7b8-455f-ac72-5f834244b2bc",
   "metadata": {},
   "outputs": [],
   "source": []
  },
  {
   "cell_type": "markdown",
   "id": "e6a2c029-8b88-49d9-b98b-69876d0dc4a0",
   "metadata": {},
   "source": [
    "# 39. NumPy Trigonometric Functions || ufuncs sin(), cos() and tan()"
   ]
  },
  {
   "cell_type": "code",
   "execution_count": null,
   "id": "21b5e5cd-e8b5-42d2-9984-d927cfa94494",
   "metadata": {},
   "outputs": [],
   "source": []
  },
  {
   "cell_type": "markdown",
   "id": "e46c43e1-b129-497a-9760-38aefaf8d3bf",
   "metadata": {},
   "source": [
    "# 40. NumPy Hyperbolic Functions || ufuncs sinh(), cosh() and tanh()"
   ]
  },
  {
   "cell_type": "code",
   "execution_count": null,
   "id": "2d356048-0303-43b4-a6d3-cf993758c1c5",
   "metadata": {},
   "outputs": [],
   "source": []
  }
 ],
 "metadata": {
  "kernelspec": {
   "display_name": "Python 3 (ipykernel)",
   "language": "python",
   "name": "python3"
  },
  "language_info": {
   "codemirror_mode": {
    "name": "ipython",
    "version": 3
   },
   "file_extension": ".py",
   "mimetype": "text/x-python",
   "name": "python",
   "nbconvert_exporter": "python",
   "pygments_lexer": "ipython3",
   "version": "3.11.6"
  },
  "widgets": {
   "application/vnd.jupyter.widget-state+json": {
    "state": {},
    "version_major": 2,
    "version_minor": 0
   }
  }
 },
 "nbformat": 4,
 "nbformat_minor": 5
}
