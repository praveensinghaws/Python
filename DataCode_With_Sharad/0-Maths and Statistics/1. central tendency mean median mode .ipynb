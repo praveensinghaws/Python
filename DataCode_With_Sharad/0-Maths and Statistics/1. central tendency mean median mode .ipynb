{
 "cells": [
  {
   "cell_type": "markdown",
   "id": "e4cc8c74-cfb2-488d-8686-d5b51896da81",
   "metadata": {},
   "source": [
    "## Mean Median Mode || central tendency mean median mode"
   ]
  },
  {
   "cell_type": "markdown",
   "id": "e51babb9-f6c3-4353-b77d-aea8cd005e2f",
   "metadata": {},
   "source": [
    "### Mean : Average\n",
    "\n",
    " "
   ]
  },
  {
   "cell_type": "code",
   "execution_count": 1,
   "id": "c9390bb3-4c96-49ab-885b-740ebb64f68f",
   "metadata": {},
   "outputs": [
    {
     "name": "stdout",
     "output_type": "stream",
     "text": [
      "Mean in by default python : 15.0\n"
     ]
    }
   ],
   "source": [
    "# Mean in by default python :\n",
    "\n",
    "list_mean = [5,10,15,20,25]\n",
    "mean = sum(list_mean) / len(list_mean)\n",
    "print(\"Mean in by default python :\",mean)"
   ]
  },
  {
   "cell_type": "code",
   "execution_count": 3,
   "id": "842470ab-8cff-4ab9-bcb7-1e24c998dc4a",
   "metadata": {},
   "outputs": [
    {
     "name": "stdout",
     "output_type": "stream",
     "text": [
      "Mean using Numpy Method : 15.0\n"
     ]
    }
   ],
   "source": [
    "# Mean using Numpy Method :\n",
    "\n",
    "import numpy as np\n",
    "list_mean = np.array([5,10,15,20,25])\n",
    "mean = np.mean(list_mean)\n",
    "print(\"Mean using Numpy Method :\",mean)"
   ]
  },
  {
   "cell_type": "markdown",
   "id": "5d6fa54c-4874-4312-83fd-ebf46bb117d2",
   "metadata": {},
   "source": [
    "### Median : Middle value in a set of number"
   ]
  },
  {
   "cell_type": "code",
   "execution_count": null,
   "id": "44ff45c8-5bb8-4af1-9608-3ca950e76cbe",
   "metadata": {},
   "outputs": [],
   "source": [
    "# Median in by default python :\n",
    "\n",
    "list_median = [15,10,5,25,20,30]\n",
    "list_median.sort()\n",
    "n = len(list_median)\n",
    "if n % 2 == 0:\n",
    "    median = (list_median[n//2 -1] + list_median[n//2])/2\n",
    "else:\n",
    "    median=(list_median[n//2])\n",
    "print(\"Median in by default python :\",median)"
   ]
  },
  {
   "cell_type": "code",
   "execution_count": null,
   "id": "2bece16f-8fdc-4579-a28d-c852c3b4737d",
   "metadata": {},
   "outputs": [],
   "source": [
    "# Median using Numpy Method :\n",
    "\n",
    "import numpy as np\n",
    "list_median = np.array([15,10,5,25,20,30])\n",
    "median =  np.mean(list_median)\n",
    "print(\"Median using Numpy Method :\",median)"
   ]
  },
  {
   "cell_type": "markdown",
   "id": "3b70bd24-f8da-40fa-a608-157ec81311cf",
   "metadata": {},
   "source": [
    "### Mode : value  that appears most frequently : in a set of number"
   ]
  },
  {
   "cell_type": "code",
   "execution_count": null,
   "id": "607a3e13-5259-4dd1-8675-e55858da828f",
   "metadata": {},
   "outputs": [],
   "source": [
    "# Mode in by default python :\n",
    "\n",
    "from collections import Counter \n",
    "list_mode = [5,10,15,20,10,25,5,8,5]\n",
    "praveen = Counter(list_mode)\n",
    "mode1 = praveen.most_common(1)[0][0]\n",
    "print(\"Mode in by default python :\",mode1)"
   ]
  },
  {
   "cell_type": "code",
   "execution_count": null,
   "id": "437b1b09-ecd4-4da9-b8bf-23d5f8c4f82f",
   "metadata": {},
   "outputs": [],
   "source": [
    "# Mode using Numpy Method :\n",
    "import numpy as np\n",
    "from scipy import stats\n",
    "list_mode = np.array([5,10,15,20,10,25,5,8,5])\n",
    "mode2 = stats.mode(list_mode)\n",
    "print(\"Mode using Numpy Method :\",mode2.mode)"
   ]
  },
  {
   "cell_type": "markdown",
   "id": "8e624c39-7144-4ac9-9768-84498376f0fb",
   "metadata": {},
   "source": [
    "#### Done"
   ]
  },
  {
   "cell_type": "code",
   "execution_count": null,
   "id": "0aad0075-ba50-4e17-bb76-854c02095013",
   "metadata": {},
   "outputs": [],
   "source": []
  }
 ],
 "metadata": {
  "kernelspec": {
   "display_name": "Python 3 (ipykernel)",
   "language": "python",
   "name": "python3"
  },
  "language_info": {
   "codemirror_mode": {
    "name": "ipython",
    "version": 3
   },
   "file_extension": ".py",
   "mimetype": "text/x-python",
   "name": "python",
   "nbconvert_exporter": "python",
   "pygments_lexer": "ipython3",
   "version": "3.11.2"
  }
 },
 "nbformat": 4,
 "nbformat_minor": 5
}
