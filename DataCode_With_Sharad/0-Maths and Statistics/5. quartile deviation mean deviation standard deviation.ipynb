{
 "cells": [
  {
   "cell_type": "markdown",
   "id": "96e51bee-c8f1-444e-a632-b747fcfc0d31",
   "metadata": {},
   "source": [
    "# Quartile deviation mean deviation standard deviation\n",
    "\n",
    "Of course! I'd be happy to explain quartiles to you.\r\n",
    "\r\n",
    "Quartiles are a way to divide a set of data into four equal parts. They are often used in statistics to help understand the distribution of data points and to analyze their spread. Imagine you have a list of numbers, like test scores or heights of students in your class. Quartiles can help you figure out how these numbers are spread out and what values represent certain parts of the data.\r\n",
    "\r\n",
    "There are three quartiles: Q1, Q2, and Q3.\r\n",
    "\r\n",
    "1. **Q1 (First Quartile):** This is the value that separates the lowest 25% of the data from the rest. In other words, 25% of the data points are smaller than Q1, and 75% are larger.\r\n",
    "\r\n",
    "2. **Q2 (Second Quartile):** This is also known as the median. It's the value that divides the data into two halves, where half of the data points are smaller than Q2, and the other half is larger.\r\n",
    "\r\n",
    "3. **Q3 (Third Quartile):** This value separates the lowest 75% of the data from the highest 25%. So, 75% of the data points are smaller than Q3, and 25% are larger.\r\n",
    "\r\n",
    "To find these quartiles, you first need to arrange your data in ascending order (from smallest to largest). Then you can find the position of each quartile using the formula:\r\n",
    "\r\n",
    "Position = (N + 1) * (desired percentile / 100)\r\n",
    "\r\n",
    "Here, N represents the total number of data points you have, and the desired percentile is 25 for Q1, 50 for Q2 (since it's the median), and 75 for Q3.\r\n",
    "\r\n",
    "If the position you calculate isn't a whole number, you might need to take an average of the values at the positions just above and just below.\r\n",
    "\r\n",
    "Quartiles are helpful because they provide insight into the spread of your data and help you understand where most of the data points lie. They're particularly useful for creating box plots or visualizing how data is distributed across a range.\r\n",
    "\r\n",
    "Remember, you're learning some advanced concepts here, so take your time to understand the basics. If you have any questions or need further clarification, feel free to ask!"
   ]
  },
  {
   "cell_type": "code",
   "execution_count": 1,
   "id": "24e223ac-4e17-4ba3-9e20-5ec19a5b5869",
   "metadata": {},
   "outputs": [
    {
     "name": "stdout",
     "output_type": "stream",
     "text": [
      "Q1 72.0\n",
      "Q2 78.0\n",
      "Q3 88.0\n"
     ]
    }
   ],
   "source": [
    "# Example 1\n",
    "import numpy as np\n",
    "data  = np.array([65,70,72,75,78,85,88,92,95])\n",
    "q1 = np.percentile(data,25)\n",
    "q2 = np.percentile(data,50)\n",
    "q3 = np.percentile(data,75)\n",
    "print(\"Q1\",q1)\n",
    "print(\"Q2\",q2)\n",
    "print(\"Q3\",q3)"
   ]
  },
  {
   "cell_type": "code",
   "execution_count": 2,
   "id": "39107d7e-afea-4d15-b62e-2df59355cacf",
   "metadata": {},
   "outputs": [
    {
     "name": "stdout",
     "output_type": "stream",
     "text": [
      "Q1 4050.0\n",
      "Q2 4650.0\n",
      "Q3 5425.0\n"
     ]
    }
   ],
   "source": [
    "# Example 2\n",
    "import numpy as np\n",
    "data1  = np.array([3000,3500,4000,4200,4500,4800,5200,5500,5800,6200])\n",
    "q1 = np.percentile(data1,25)\n",
    "q2 = np.percentile(data1,50)\n",
    "q3 = np.percentile(data1,75)\n",
    "\n",
    "print(\"Q1\",q1)\n",
    "print(\"Q2\",q2)\n",
    "print(\"Q3\",q3)\n"
   ]
  },
  {
   "cell_type": "code",
   "execution_count": 3,
   "id": "14304cc8-29ba-4938-a14d-6f28fbdc6876",
   "metadata": {},
   "outputs": [
    {
     "name": "stdout",
     "output_type": "stream",
     "text": [
      "Q1: 20.0\n",
      "Q2 (Median): 28.0\n",
      "Q3: 35.0\n"
     ]
    }
   ],
   "source": [
    "import numpy as np\n",
    "\n",
    "# Example data\n",
    "data = np.array([12, 15, 18, 20, 22, 25, 28, 30, 32, 35, 38, 40, 42])\n",
    "\n",
    "# Calculate quartiles\n",
    "q1 = np.percentile(data, 25)\n",
    "q2 = np.percentile(data, 50)  # This is the median\n",
    "q3 = np.percentile(data, 75)\n",
    "\n",
    "# Print quartile values\n",
    "print(\"Q1:\", q1)\n",
    "print(\"Q2 (Median):\", q2)\n",
    "print(\"Q3:\", q3)\n"
   ]
  },
  {
   "cell_type": "code",
   "execution_count": 4,
   "id": "6e281728-5e31-4d0c-bcdb-fc76acf384cc",
   "metadata": {},
   "outputs": [
    {
     "name": "stdout",
     "output_type": "stream",
     "text": [
      "Q1: 20.0\n",
      "Q2 (Median): 28.0\n",
      "Q3: 35.0\n",
      "Q4 (Maximum value): 42\n"
     ]
    }
   ],
   "source": [
    "import numpy as np\n",
    "\n",
    "# Example data\n",
    "data = np.array([12, 15, 18, 20, 22, 25, 28, 30, 32, 35, 38, 40, 42])\n",
    "\n",
    "# Calculate quartiles\n",
    "q1 = np.percentile(data, 25)\n",
    "q2 = np.percentile(data, 50)  # This is the median\n",
    "q3 = np.percentile(data, 75)\n",
    "q4 = np.max(data)\n",
    "\n",
    "# Print quartile values\n",
    "print(\"Q1:\", q1)\n",
    "print(\"Q2 (Median):\", q2)\n",
    "print(\"Q3:\", q3)\n",
    "print(\"Q4 (Maximum value):\", q4)\n"
   ]
  },
  {
   "cell_type": "code",
   "execution_count": null,
   "id": "203f91f2-6fb9-4117-92bb-3bc65254bebf",
   "metadata": {},
   "outputs": [],
   "source": []
  }
 ],
 "metadata": {
  "kernelspec": {
   "display_name": "Python 3 (ipykernel)",
   "language": "python",
   "name": "python3"
  },
  "language_info": {
   "codemirror_mode": {
    "name": "ipython",
    "version": 3
   },
   "file_extension": ".py",
   "mimetype": "text/x-python",
   "name": "python",
   "nbconvert_exporter": "python",
   "pygments_lexer": "ipython3",
   "version": "3.11.4"
  }
 },
 "nbformat": 4,
 "nbformat_minor": 5
}
