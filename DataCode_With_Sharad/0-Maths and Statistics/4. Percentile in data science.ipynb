{
 "cells": [
  {
   "cell_type": "markdown",
   "id": "7c02d9db-b34d-4c0b-9d87-11c98f74b045",
   "metadata": {},
   "source": [
    "# Percentile in data science"
   ]
  },
  {
   "cell_type": "markdown",
   "id": "370f65f9-8799-43c7-b398-b1a682b6dcc0",
   "metadata": {},
   "source": [
    "In data science, percentiles are statistical measures used to describe the distribution of a dataset. They provide insights into how data points are spread out relative to each other. A percentile represents a value below which a certain percentage of observations in the dataset fall.\r\n",
    "\r\n",
    "For example, the 25th percentile (also known as the first quartile) is the value below which 25% of the data points fall. Similarly, the 50th percentile (also known as the median) is the value below which 50% of the data points fall.\r\n",
    "\r\n",
    "Here's how percentiles are commonly used in data science:\r\n",
    "\r\n",
    "1. **Descriptive Statistics:**\r\n",
    "   Percentiles are often used alongside other measures of central tendency and dispersion, such as mean, median, and standard deviation, to provide a more comprehensive understanding of the dataset's distribution.\r\n",
    "\r\n",
    "2. **Identifying Outliers:**\r\n",
    "   Percentiles can help identify outliers in a dataset. Observations that fall significantly below or above specific percentiles might be considered outliers and warrant further investigation.\r\n",
    "\r\n",
    "3. **Comparing Distributions:**\r\n",
    "   Percentiles allow you to compare the distributions of different datasets or different parts of the same dataset. This can be useful in comparing performance, user behavior, or other relevant metrics.\r\n",
    "\r\n",
    "4. **Data Cleaning:**\r\n",
    "   When dealing with skewed or non-normal data distributions, percentiles can be used to identify and clean extreme values that might be due to measurement errors or data collection issues.\r\n",
    "\r\n",
    "5. **Business Decisions:**\r\n",
    "   In business contexts, percentiles can help set benchmarks or thresholds. For example, you might use the 90th percentile of response times to define service-level agreements (SLAs).\r\n",
    "\r\n",
    "6. **Growth Analysis:**\r\n",
    "   Percentiles are also useful for analyzing growth patterns. For instance, you can use them to identify the point at which a certain percentage of users crossed a certain threshold.\r\n",
    "\r\n",
    "To calculate percentiles, you typically sort the data in ascending order and then find the value at a specific position based on the desired percentile. Libraries like NumPy, pandas, and SQL provide functions that can calculate percentiles for you, making the process straightforward in various data analysis environments.\r\n",
    "\r\n",
    "In Python, you can use the `numpy.percentile()` function from the NumPy library to calculate percentiles:\r\n",
    "\r\n",
    "```python\r\n",
    "import numpy as np\r\n",
    "\r\n",
    "data = [12, 15, 18, 21, 24, 27, 30, 33, 36, 39]\r\n",
    "\r\n",
    "# Calculate the 25th percentile (first quartile)\r\n",
    "q1 = np.percentile(data, 25)\r\n",
    "\r\n",
    "# Calculate the 50th percentile (median)\r\n",
    "median = np.percentile(data, 50)\r\n",
    "\r\n",
    "# Calculate the 75th percentile (third quartile)\r\n",
    "q3 = np.percentile(data, 75)\r\n",
    "\r\n",
    "print(\"Q1 (25th percentile):\", q1)\r\n",
    "print(\"Median (50th percentile):\", median)\r\n",
    "print(\"Q3 (75th percentile):\", q3)\r\n",
    "```\r\n",
    "\r\n",
    "These are just a few ways percentiles are used in data science to gain insights from datasets and make informed decisions."
   ]
  },
  {
   "cell_type": "code",
   "execution_count": 1,
   "id": "8f5c4794-6923-4187-8521-927aa10148ef",
   "metadata": {},
   "outputs": [
    {
     "name": "stdout",
     "output_type": "stream",
     "text": [
      "Q1 (25th percentile): 18.75\n",
      "Median (50th percentile): 25.5\n",
      "Q3 (75th percentile): 32.25\n"
     ]
    }
   ],
   "source": [
    "### USING CHAT GPT\n",
    "\n",
    "import numpy as np\n",
    "\n",
    "data = [12, 15, 18, 21, 24, 27, 30, 33, 36, 39]\n",
    "\n",
    "# Calculate the 25th percentile (first quartile)\n",
    "q1 = np.percentile(data, 25)\n",
    "\n",
    "# Calculate the 50th percentile (median)\n",
    "median = np.percentile(data, 50)\n",
    "\n",
    "# Calculate the 75th percentile (third quartile)\n",
    "q3 = np.percentile(data, 75)\n",
    "\n",
    "print(\"Q1 (25th percentile):\", q1)\n",
    "print(\"Median (50th percentile):\", median)\n",
    "print(\"Q3 (75th percentile):\", q3)\n"
   ]
  },
  {
   "cell_type": "code",
   "execution_count": 3,
   "id": "8ae4a105-540b-4717-bbd5-4f06f72fa068",
   "metadata": {},
   "outputs": [
    {
     "data": {
      "image/png": "[encoded data removed]",
      "text/plain": [
       "<Figure size 640x480 with 1 Axes>"
      ]
     },
     "metadata": {},
     "output_type": "display_data"
    }
   ],
   "source": [
    "import numpy as np\n",
    "import matplotlib.pyplot as plt\n",
    "\n",
    "data = [12, 15, 18, 21, 24, 27, 30, 33, 36, 39]\n",
    "\n",
    "# Calculate the 25th percentile (first quartile)\n",
    "q1 = np.percentile(data, 25)\n",
    "\n",
    "# Calculate the 50th percentile (median)\n",
    "median = np.percentile(data, 50)\n",
    "\n",
    "# Calculate the 75th percentile (third quartile)\n",
    "q3 = np.percentile(data, 75)\n",
    "\n",
    "# Create a box plot\n",
    "plt.boxplot(data, vert=False, labels=['Data'])\n",
    "\n",
    "# Highlight percentiles\n",
    "plt.scatter([q1, median, q3], [1, 1, 1], color='red', marker='o', label='Percentiles')\n",
    "\n",
    "# Add labels and legend\n",
    "plt.xlabel('Value')\n",
    "plt.title('Box Plot with Percentiles')\n",
    "plt.legend()\n",
    "\n",
    "# Show the plot\n",
    "plt.show()\n"
   ]
  },
  {
   "cell_type": "code",
   "execution_count": 2,
   "id": "c0002bff-09bc-4038-9770-bda87c587501",
   "metadata": {},
   "outputs": [
    {
     "name": "stdout",
     "output_type": "stream",
     "text": [
      "the 90th percentile is: 97.0\n"
     ]
    }
   ],
   "source": [
    "### SHARAD -- PERCENTILE\n",
    "import numpy as np\n",
    "data =[65,70,80,85,90,95,100]\n",
    "percent = np.percentile(data ,90)\n",
    "print(f\"the 90th percentile is: {percent}\")"
   ]
  },
  {
   "cell_type": "code",
   "execution_count": null,
   "id": "719cc3de-9323-437e-9aab-cb1d9842d2d5",
   "metadata": {},
   "outputs": [],
   "source": []
  }
 ],
 "metadata": {
  "kernelspec": {
   "display_name": "Python 3 (ipykernel)",
   "language": "python",
   "name": "python3"
  },
  "language_info": {
   "codemirror_mode": {
    "name": "ipython",
    "version": 3
   },
   "file_extension": ".py",
   "mimetype": "text/x-python",
   "name": "python",
   "nbconvert_exporter": "python",
   "pygments_lexer": "ipython3",
   "version": "3.11.4"
  }
 },
 "nbformat": 4,
 "nbformat_minor": 5
}
