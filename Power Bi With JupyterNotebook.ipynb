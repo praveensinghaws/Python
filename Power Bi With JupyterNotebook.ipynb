{
 "cells": [
  {
   "cell_type": "markdown",
   "id": "f16b8980-14c9-4b09-9259-3183b60ba2ff",
   "metadata": {},
   "source": [
    "# Traditional Method"
   ]
  },
  {
   "cell_type": "code",
   "execution_count": 1,
   "id": "d00ff536-3957-4334-82b3-772a2d2ae8b0",
   "metadata": {
    "scrolled": true
   },
   "outputs": [
    {
     "data": {
      "text/html": [
       "\n",
       "        <iframe\n",
       "            width=\"800\"\n",
       "            height=\"600\"\n",
       "            src=\"https://app.powerbi.com/view?r=eyJrIjoiMTIzNmMzYmYtNWYyYy00ZWZjLTk0MTAtNzI5OTRkNjI1ZWI2IiwidCI6ImRmODY3OWNkLWE4MGUtNDVkOC05OWFjLWM4M2VkN2ZmOTVhMCJ9&pageName=ReportSection\"\n",
       "            frameborder=\"0\"\n",
       "            allowfullscreen\n",
       "            \n",
       "        ></iframe>\n",
       "        "
      ],
      "text/plain": [
       "<IPython.lib.display.IFrame at 0x7f8ebda250>"
      ]
     },
     "execution_count": 1,
     "metadata": {},
     "output_type": "execute_result"
    }
   ],
   "source": [
    "from IPython.display import IFrame\n",
    "PowerbiEmbed = \"https://app.powerbi.com/view?r=eyJrIjoiMTIzNmMzYmYtNWYyYy00ZWZjLTk0MTAtNzI5OTRkNjI1ZWI2IiwidCI6ImRmODY3OWNkLWE4MGUtNDVkOC05OWFjLWM4M2VkN2ZmOTVhMCJ9&pageName=ReportSection\"\n",
    "IFrame(PowerbiEmbed, width=800, height=600)"
   ]
  },
  {
   "cell_type": "markdown",
   "id": "86d0073c-610f-4f53-8ce4-0387a6fbe8dc",
   "metadata": {},
   "source": [
    "# Latest Method"
   ]
  },
  {
   "cell_type": "code",
   "execution_count": 2,
   "id": "612130d6-e077-46a1-ae66-29e415354dc3",
   "metadata": {},
   "outputs": [],
   "source": [
    "#pip install powerbiclient"
   ]
  },
  {
   "cell_type": "code",
   "execution_count": 3,
   "id": "f135d30d-0b18-4460-a95c-ae4f2e369881",
   "metadata": {},
   "outputs": [],
   "source": [
    "from powerbiclient import Report, models\n",
    "from io import StringIO\n",
    "import pandas as pd"
   ]
  },
  {
   "cell_type": "code",
   "execution_count": null,
   "id": "18ca24c0-f303-4955-ad4b-6b3a521483af",
   "metadata": {},
   "outputs": [
    {
     "name": "stdout",
     "output_type": "stream",
     "text": [
      "Performing device flow authentication. Please follow the instructions below.\n",
      "To sign in, use a web browser to open the page https://microsoft.com/devicelogin and enter the code N8LG9SEFK to authenticate.\n"
     ]
    }
   ],
   "source": [
    "# Import the DeviceCodeLoginAuthentication class to authenticate against Power BI\n",
    "from powerbiclient.authentication import DeviceCodeLoginAuthentication\n",
    "\n",
    "# Initiate device authentication\n",
    "device_auth = DeviceCodeLoginAuthentication()\n",
    "access_token = device_auth.get_access_token()"
   ]
  },
  {
   "cell_type": "code",
   "execution_count": null,
   "id": "76e25e3c-83ee-42a8-bc04-759925358345",
   "metadata": {},
   "outputs": [],
   "source": [
    "group_id = \"74a09a70-2335-41f5-83de-8bb333e861bf\"\n",
    "report_id = \"87b43c69-a95a-4c07-8be8-5e68199dc115\""
   ]
  },
  {
   "cell_type": "code",
   "execution_count": null,
   "id": "b971a753-029b-44ee-8cd5-b4433928f6b1",
   "metadata": {},
   "outputs": [],
   "source": [
    "report = Report(group_id = group_id, report_id= report_id)"
   ]
  },
  {
   "cell_type": "code",
   "execution_count": null,
   "id": "00e94e4b-48fe-4c1d-933b-7b60b5a3e8dc",
   "metadata": {},
   "outputs": [],
   "source": [
    "'''\n",
    "def loaded_callback(event_details):\n",
    "    print('The report successfully loaded !! ')\n",
    "\n",
    "def error_callback(event_details):\n",
    "    print('error', event_details)\n",
    "\n",
    "report.on('loaded', loaded_callback)\n",
    "report.on('error', error_callback)\n",
    "'''"
   ]
  },
  {
   "cell_type": "code",
   "execution_count": null,
   "id": "0939d1f3-b0ad-4120-b9be-c9e81948b020",
   "metadata": {},
   "outputs": [],
   "source": [
    "def loaded_callback(event_details):\n",
    "    print('The report successfully loaded !! ')\n",
    "\n",
    "try:\n",
    "    # Attempt to register the loaded event callback\n",
    "    report.on('loaded', loaded_callback)\n",
    "except Exception as e:\n",
    "    print('Error:', e)\n",
    "    # Handle the error appropriately, such as logging or displaying a message to the user\n",
    "\n",
    "try:\n",
    "    # Attempt to perform actions that could potentially raise an error\n",
    "    # For example, loading the report\n",
    "    # report.load()\n",
    "    pass\n",
    "except Exception as e:\n",
    "    print('Error:', e)\n",
    "    # Handle the error appropriately, such as logging or displaying a message to the user\n"
   ]
  },
  {
   "cell_type": "code",
   "execution_count": null,
   "id": "4125e426-82a3-4aee-85f5-5b369ca30508",
   "metadata": {},
   "outputs": [],
   "source": [
    "report"
   ]
  },
  {
   "cell_type": "code",
   "execution_count": null,
   "id": "8f1d224a-0b4d-4a4a-908b-b2cdc2df2256",
   "metadata": {},
   "outputs": [],
   "source": []
  }
 ],
 "metadata": {
  "kernelspec": {
   "display_name": "Python 3 (ipykernel)",
   "language": "python",
   "name": "python3"
  },
  "language_info": {
   "codemirror_mode": {
    "name": "ipython",
    "version": 3
   },
   "file_extension": ".py",
   "mimetype": "text/x-python",
   "name": "python",
   "nbconvert_exporter": "python",
   "pygments_lexer": "ipython3",
   "version": "3.11.2"
  }
 },
 "nbformat": 4,
 "nbformat_minor": 5
}
