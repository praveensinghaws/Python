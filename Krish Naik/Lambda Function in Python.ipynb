{
 "cells": [
  {
   "cell_type": "markdown",
   "id": "e47f5837-dd53-4079-b157-53dca23f42ff",
   "metadata": {},
   "source": [
    "# Lambda Function in Python\n",
    "\n",
    "In Python, a lambda function (also known as an anonymous function) is a concise way to create a small, nameless function. It can be defined in a single line of code without a name. Lambda functions are useful when we require a simple function that we don't want to define explicitly using the def keyword. The basic syntax for a lambda function in Python is:\n",
    "\n",
    "```python\n",
    "lambda arguments: expression\n",
    "```\n",
    "\n",
    "Here, arguments represent the input arguments for the function, and expression is a single expression that gets evaluated and returned as the result of the function. The result of the expression is automatically returned by the lambda function, eliminating the need for the return statement."
   ]
  },
  {
   "cell_type": "markdown",
   "id": "6c454a83-c309-4158-9534-75ff1e702d74",
   "metadata": {},
   "source": [
    "### Example 1\n",
    "Add two Numbers!"
   ]
  },
  {
   "cell_type": "code",
   "execution_count": 1,
   "id": "0e73be0b-8d9c-48cf-ab9b-a15d10c3d2bc",
   "metadata": {},
   "outputs": [
    {
     "data": {
      "text/plain": [
       "60"
      ]
     },
     "execution_count": 1,
     "metadata": {},
     "output_type": "execute_result"
    }
   ],
   "source": [
    "# Define a lambda function to add two numbers\n",
    "add = lambda x, y: x + y\n",
    "\n",
    "# Call the lambda function to add 10 and 50\n",
    "add(10, 50)"
   ]
  },
  {
   "cell_type": "markdown",
   "id": "53dc573e-9c5b-433b-ad80-8a608e472a28",
   "metadata": {},
   "source": [
    "### Example 2\n",
    "Return the lenghth of a string"
   ]
  },
  {
   "cell_type": "code",
   "execution_count": 2,
   "id": "2a718b63-1ce7-4195-8602-4aea6b352666",
   "metadata": {},
   "outputs": [
    {
     "data": {
      "text/plain": [
       "13"
      ]
     },
     "execution_count": 2,
     "metadata": {},
     "output_type": "execute_result"
    }
   ],
   "source": [
    "# Define a lambda function to calculate the length of a string\n",
    "string_length = lambda string: len(string)\n",
    "\n",
    "# Call the lambda function to calculate the length of the string 'Praveen Singh'\n",
    "string_length('Praveen Singh')\n"
   ]
  },
  {
   "cell_type": "markdown",
   "id": "0322bf4b-7555-4fcb-8a9b-976f1f69abc3",
   "metadata": {},
   "source": [
    "### Example 3\n",
    "\n",
    "Convert a list of integers to their corresponding square values:"
   ]
  },
  {
   "cell_type": "code",
   "execution_count": 3,
   "id": "bf83bd37-5d47-4307-934b-6110f8779f37",
   "metadata": {},
   "outputs": [
    {
     "data": {
      "text/plain": [
       "[1, 4, 9, 16, 25, 36]"
      ]
     },
     "execution_count": 3,
     "metadata": {},
     "output_type": "execute_result"
    }
   ],
   "source": [
    "# Define a list of numbers\n",
    "numbers = [1, 2, 3, 4, 5, 6]\n",
    "\n",
    "# Use map with a lambda function to calculate the squares of each number in the list\n",
    "squares = list(map(lambda x: x ** 2, numbers))\n",
    "\n",
    "# Display the list of squares\n",
    "squares\n"
   ]
  },
  {
   "cell_type": "markdown",
   "id": "e79ec983-7729-4ae5-9a81-496d134df20c",
   "metadata": {},
   "source": [
    "### Example 4\n",
    "\n",
    "Filter out even numbers from a list:"
   ]
  },
  {
   "cell_type": "code",
   "execution_count": 4,
   "id": "323a2da9-623b-4f2c-991e-b31a4abb4f4e",
   "metadata": {},
   "outputs": [
    {
     "data": {
      "text/plain": [
       "[2, 4, 6]"
      ]
     },
     "execution_count": 4,
     "metadata": {},
     "output_type": "execute_result"
    }
   ],
   "source": [
    "# Define a list of numbers\n",
    "numbers = [1, 2, 3, 4, 5, 6]\n",
    "\n",
    "# Use filter with a lambda function to filter out even numbers from the list\n",
    "even_numbers = list(filter(lambda x: x % 2 == 0, numbers))\n",
    "\n",
    "# Display the filtered list of even numbers\n",
    "even_numbers\n"
   ]
  },
  {
   "cell_type": "markdown",
   "id": "9fa5784c-8dbe-4189-9505-0d74073392a8",
   "metadata": {},
   "source": [
    "### Example 5\n",
    "Sort a list of strings based on their alphabetical characters and length:"
   ]
  },
  {
   "cell_type": "code",
   "execution_count": 5,
   "id": "4cf09e27-8416-486e-886e-7ed5e7dbd23e",
   "metadata": {},
   "outputs": [
    {
     "data": {
      "text/plain": [
       "['date', 'apple', 'banana', 'cherry', 'elderberry']"
      ]
     },
     "execution_count": 5,
     "metadata": {},
     "output_type": "execute_result"
    }
   ],
   "source": [
    "# Define a list of fruits\n",
    "fruits = ['apple', 'banana', 'cherry', 'date', 'elderberry']\n",
    "\n",
    "# Sort the list of fruits based on the length of each fruit's name\n",
    "sorted_fruits = sorted(fruits, key=lambda x: len(x))\n",
    "\n",
    "# Display the sorted list of fruits\n",
    "sorted_fruits\n"
   ]
  },
  {
   "cell_type": "markdown",
   "id": "e3f992e8-bc82-4c20-a253-0854c451a673",
   "metadata": {},
   "source": [
    "### Example 6 -- Complex\n",
    "Sorting a list of dictionaries based on a specific key:"
   ]
  },
  {
   "cell_type": "code",
   "execution_count": 6,
   "id": "5a6f4a27-b78f-4b1e-9ccc-e6c8edc1efd2",
   "metadata": {},
   "outputs": [
    {
     "data": {
      "text/plain": [
       "([{'name': 'Charlie', 'age': 22, 'occupation': 'Intern'},\n",
       "  {'name': 'Alice', 'age': 25, 'occupation': 'Engineer'},\n",
       "  {'name': 'Dave', 'age': 27, 'occupation': 'Designer'},\n",
       "  {'name': 'Bob', 'age': 30, 'occupation': 'Manager'}],\n",
       " [{'name': 'Charlie', 'age': 22, 'occupation': 'Intern'},\n",
       "  {'name': 'Alice', 'age': 25, 'occupation': 'Engineer'},\n",
       "  {'name': 'Dave', 'age': 27, 'occupation': 'Designer'},\n",
       "  {'name': 'Bob', 'age': 30, 'occupation': 'Manager'}])"
      ]
     },
     "execution_count": 6,
     "metadata": {},
     "output_type": "execute_result"
    }
   ],
   "source": [
    "# Define a list of dictionaries representing people\n",
    "people = [\n",
    "    {'name': 'Alice', 'age': 25, 'occupation': 'Engineer'},\n",
    "    {'name': 'Bob', 'age': 30, 'occupation': 'Manager'},\n",
    "    {'name': 'Charlie', 'age': 22, 'occupation': 'Intern'},\n",
    "    {'name': 'Dave', 'age': 27, 'occupation': 'Designer'},\n",
    "]\n",
    "\n",
    "# Sort the list of dictionaries based on the 'age' key\n",
    "sorted_by_age = sorted(people, key=lambda x: x['age'])\n",
    "\n",
    "# Sort the list of dictionaries first by 'age' and then by 'name'\n",
    "sorted_by_age_and_name = sorted(people, key=lambda x: (x['age'], x['name']))\n",
    "\n",
    "# Display the sorted lists\n",
    "sorted_by_age, sorted_by_age_and_name\n"
   ]
  },
  {
   "cell_type": "markdown",
   "id": "6d1f1b60-18c4-4a72-ad94-63e5d4e77ca2",
   "metadata": {},
   "source": [
    "### Example 7\n",
    "Find the maximum value in a dictionary:"
   ]
  },
  {
   "cell_type": "code",
   "execution_count": 7,
   "id": "5bad00c0-2a25-4f8a-bb58-70cfaef05c38",
   "metadata": {},
   "outputs": [
    {
     "name": "stdout",
     "output_type": "stream",
     "text": [
      "max_value: 20\n"
     ]
    }
   ],
   "source": [
    "# Define a dictionary containing key-value pairs\n",
    "data = {'a': 10, 'b': 20, 'c': 5, 'd': 15}\n",
    "\n",
    "# Find the key corresponding to the maximum value in the dictionary\n",
    "key_max = max(data, key=lambda x: data[x])\n",
    "\n",
    "# Retrieve the maximum value from the dictionary using the key\n",
    "max_value = data[key_max]\n",
    "\n",
    "print(\"max_value:\",max_value)\n"
   ]
  },
  {
   "cell_type": "markdown",
   "id": "7cfb3883-8bf2-474a-8ffb-49d0bd7eaaa4",
   "metadata": {},
   "source": [
    "### Example 8\n",
    "Grouping a list of strings based on their first letter"
   ]
  },
  {
   "cell_type": "code",
   "execution_count": 8,
   "id": "7a1a8a96-8ec5-4d38-b494-95f26503e1d1",
   "metadata": {},
   "outputs": [
    {
     "name": "stdout",
     "output_type": "stream",
     "text": [
      "a ['apple', 'apple']\n",
      "b ['banana']\n",
      "c ['cherry']\n",
      "d ['date']\n",
      "e ['elderberry']\n",
      "f ['fig']\n"
     ]
    }
   ],
   "source": [
    "# Import the groupby function from itertools module\n",
    "from itertools import groupby\n",
    "\n",
    "# Define a list of words\n",
    "words = ['apple', 'banana', 'cherry', 'date', 'elderberry', 'fig', 'apple']\n",
    "\n",
    "# Sort the list of words and group them by the first character of each word\n",
    "groups = groupby(sorted(words), key=lambda x: x[0])\n",
    "\n",
    "# Iterate over the groups and print the key (first character) and the list of words starting with that character\n",
    "for key, group in groups:\n",
    "    print(key, list(group))\n"
   ]
  },
  {
   "cell_type": "markdown",
   "id": "461232d3-14f9-4039-9dc4-bce33ab2df36",
   "metadata": {},
   "source": [
    "# Done"
   ]
  }
 ],
 "metadata": {
  "kernelspec": {
   "display_name": "Python 3 (ipykernel)",
   "language": "python",
   "name": "python3"
  },
  "language_info": {
   "codemirror_mode": {
    "name": "ipython",
    "version": 3
   },
   "file_extension": ".py",
   "mimetype": "text/x-python",
   "name": "python",
   "nbconvert_exporter": "python",
   "pygments_lexer": "ipython3",
   "version": "3.11.8"
  }
 },
 "nbformat": 4,
 "nbformat_minor": 5
}
