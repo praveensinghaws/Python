{
 "cells": [
  {
   "cell_type": "markdown",
   "id": "d11ab595-740c-4cc7-98b8-7632b110f17b",
   "metadata": {},
   "source": [
    "# Update Ubuntu"
   ]
  },
  {
   "cell_type": "markdown",
   "id": "fff97c43-8a4d-4b42-a5a2-e7bfd1ed80d6",
   "metadata": {},
   "source": [
    "Certainly! You can create a simple shell script to automate the update process. Here's how you can do it:\r\n",
    "\r\n",
    "1. Open a text editor, such as `nano` or `gedit`. You can use the following command in the terminal to open `nano`:\r\n",
    "\r\n",
    "```bash\r\n",
    "nano update_ubuntu.sh\r\n",
    "```\r\n",
    "\r\n",
    "2. Paste the following script into the editor:\r\n",
    "\r\n",
    "```bash\r\n",
    "#!/bin/bash\r\n",
    "\r\n",
    "# Update package list\r\n",
    "sudo apt update\r\n",
    "\r\n",
    "# Upgrade installed packages\r\n",
    "sudo apt upgrade -y\r\n",
    "\r\n",
    "# Upgrade distribution (if needed)\r\n",
    "sudo apt dist-upgrade -y\r\n",
    "\r\n",
    "# Remove unnecessary packages\r\n",
    "sudo apt autoremove -y\r\n",
    "```\r\n",
    "\r\n",
    "3. Save the file by pressing `Ctrl` + `O`, then press `Enter`. Exit the editor by pressing `Ctrl` + `X`.\r\n",
    "\r\n",
    "4. Make the script executable by running:\r\n",
    "\r\n",
    "```bash\r\n",
    "chmod +x update_ubuntu.sh\r\n",
    "```\r\n",
    "\r\n",
    "5. Now you can run the script by executing:\r\n",
    "\r\n",
    "```bash\r\n",
    "./update_ubuntu.sh\r\n",
    "```\r\n",
    "\r\n",
    "This script will automatically update the package list, upgrade installed packages, upgrade the distribution (if needed), and remove unnecessary packages. Adjust the script as needed for your preferences."
   ]
  }
 ],
 "metadata": {
  "kernelspec": {
   "display_name": "Python 3 (ipykernel)",
   "language": "python",
   "name": "python3"
  },
  "language_info": {
   "codemirror_mode": {
    "name": "ipython",
    "version": 3
   },
   "file_extension": ".py",
   "mimetype": "text/x-python",
   "name": "python",
   "nbconvert_exporter": "python",
   "pygments_lexer": "ipython3",
   "version": "3.11.6"
  },
  "widgets": {
   "application/vnd.jupyter.widget-state+json": {
    "state": {},
    "version_major": 2,
    "version_minor": 0
   }
  }
 },
 "nbformat": 4,
 "nbformat_minor": 5
}
