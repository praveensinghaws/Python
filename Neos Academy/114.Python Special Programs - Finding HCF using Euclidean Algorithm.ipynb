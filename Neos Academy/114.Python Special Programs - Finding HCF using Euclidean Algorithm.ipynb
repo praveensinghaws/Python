{
 "cells": [
  {
   "cell_type": "markdown",
   "id": "6bc83060-f6bb-4ea3-90b6-895ae16c4262",
   "metadata": {},
   "source": [
    "# 114.Python Special Programs - Finding HCF using Euclidean Algorithm\n"
   ]
  },
  {
   "cell_type": "markdown",
   "id": "4b22d49c-a86a-4c4a-92f1-bec34debf080",
   "metadata": {},
   "source": []
  },
  {
   "cell_type": "markdown",
   "id": "5639b912-613a-40ef-bcb7-c8b1e2813546",
   "metadata": {},
   "source": []
  },
  {
   "cell_type": "markdown",
   "id": "6fc88f70-a642-450d-b48a-c14213f484c3",
   "metadata": {},
   "source": []
  },
  {
   "cell_type": "markdown",
   "id": "8e21e300-58a4-4749-89ce-7728f16184c1",
   "metadata": {},
   "source": []
  },
  {
   "cell_type": "markdown",
   "id": "589a5547-7d7a-4d64-a1a8-76230d764b46",
   "metadata": {},
   "source": []
  },
  {
   "cell_type": "markdown",
   "id": "ca48530a-c097-4e59-a40f-49ee00e78e53",
   "metadata": {},
   "source": []
  },
  {
   "cell_type": "markdown",
   "id": "1c4fe854-fd24-4411-8d0b-b92e89a23cc1",
   "metadata": {},
   "source": []
  },
  {
   "cell_type": "markdown",
   "id": "c93e8b6a-9631-4a9e-b37d-b024a0f604d5",
   "metadata": {},
   "source": []
  }
 ],
 "metadata": {
  "kernelspec": {
   "display_name": "Python 3 (ipykernel)",
   "language": "python",
   "name": "python3"
  },
  "language_info": {
   "codemirror_mode": {
    "name": "ipython",
    "version": 3
   },
   "file_extension": ".py",
   "mimetype": "text/x-python",
   "name": "python",
   "nbconvert_exporter": "python",
   "pygments_lexer": "ipython3",
   "version": "3.11.7"
  }
 },
 "nbformat": 4,
 "nbformat_minor": 5
}
