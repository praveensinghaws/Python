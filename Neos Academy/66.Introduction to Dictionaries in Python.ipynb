{
 "cells": [
  {
   "cell_type": "markdown",
   "id": "f94f8119-65c4-47f7-b9bf-45ff4ac3f73a",
   "metadata": {},
   "source": [
    "# 66.Introduction to Dictionaries in Python\n"
   ]
  },
  {
   "cell_type": "markdown",
   "id": "6eb1fe4d-7e77-4d8b-9743-4cdaf5287a96",
   "metadata": {},
   "source": []
  },
  {
   "cell_type": "markdown",
   "id": "435117c3-d993-4274-be43-f23c4a843bb5",
   "metadata": {},
   "source": []
  },
  {
   "cell_type": "markdown",
   "id": "cf6b8dde-92a0-4b24-b50e-cf1ff31a2b69",
   "metadata": {},
   "source": []
  },
  {
   "cell_type": "markdown",
   "id": "872d7909-44bd-499d-a55e-fd05aa274ffa",
   "metadata": {},
   "source": []
  },
  {
   "cell_type": "markdown",
   "id": "12ca8f4f-83b7-4f94-aa0c-ab8e163b7f76",
   "metadata": {},
   "source": []
  },
  {
   "cell_type": "markdown",
   "id": "ab84849a-6a36-4605-8613-e34f90f80d7b",
   "metadata": {},
   "source": []
  },
  {
   "cell_type": "markdown",
   "id": "94a43c39-fba2-4b9f-854d-dbf61f1b769a",
   "metadata": {},
   "source": []
  },
  {
   "cell_type": "markdown",
   "id": "3007b20b-f071-4f76-9809-3293e9fb4415",
   "metadata": {},
   "source": []
  },
  {
   "cell_type": "markdown",
   "id": "fdf0fe4f-56e7-41b3-afc2-d3046fd1bb5f",
   "metadata": {},
   "source": []
  },
  {
   "cell_type": "markdown",
   "id": "fe9892f8-dd40-4284-a180-1d93e90ec342",
   "metadata": {},
   "source": []
  },
  {
   "cell_type": "markdown",
   "id": "661c2049-aad1-403b-893b-45ae31a54139",
   "metadata": {},
   "source": []
  },
  {
   "cell_type": "markdown",
   "id": "c8350ba6-6433-492d-aa79-11051317ff82",
   "metadata": {},
   "source": []
  },
  {
   "cell_type": "markdown",
   "id": "3a32a19f-ca93-4c6c-8c02-e399e9b68faf",
   "metadata": {},
   "source": []
  }
 ],
 "metadata": {
  "kernelspec": {
   "display_name": "Python 3 (ipykernel)",
   "language": "python",
   "name": "python3"
  },
  "language_info": {
   "codemirror_mode": {
    "name": "ipython",
    "version": 3
   },
   "file_extension": ".py",
   "mimetype": "text/x-python",
   "name": "python",
   "nbconvert_exporter": "python",
   "pygments_lexer": "ipython3",
   "version": "3.11.7"
  }
 },
 "nbformat": 4,
 "nbformat_minor": 5
}
