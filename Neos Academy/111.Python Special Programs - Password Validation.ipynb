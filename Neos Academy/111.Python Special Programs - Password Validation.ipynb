{
 "cells": [
  {
   "cell_type": "markdown",
   "id": "e60c26a9-bc24-414d-95bf-17beb06ceb17",
   "metadata": {},
   "source": [
    "# 111.Python Special Programs - Password Validation\n"
   ]
  },
  {
   "cell_type": "markdown",
   "id": "2597cf7f-032c-4739-a755-18909feb1f9d",
   "metadata": {},
   "source": []
  },
  {
   "cell_type": "markdown",
   "id": "62d6b162-b999-4e87-8c86-d526d8950b34",
   "metadata": {},
   "source": []
  },
  {
   "cell_type": "markdown",
   "id": "07d4a20e-0dfc-4fe8-80c8-fda0f79d99aa",
   "metadata": {},
   "source": []
  },
  {
   "cell_type": "markdown",
   "id": "7aa8eaec-573e-45c4-b8a6-cc6e145df9bf",
   "metadata": {},
   "source": []
  },
  {
   "cell_type": "markdown",
   "id": "3f4d8c80-14af-4ee7-8bc2-0f8f3b0365ce",
   "metadata": {},
   "source": []
  },
  {
   "cell_type": "markdown",
   "id": "add618eb-99ef-41df-99e6-dff1a4e0adfe",
   "metadata": {},
   "source": []
  },
  {
   "cell_type": "markdown",
   "id": "07a8adba-829c-4e2d-be48-4a7f4561ae07",
   "metadata": {},
   "source": []
  },
  {
   "cell_type": "markdown",
   "id": "e9a41796-336b-45bb-8665-7b26d1c8c98f",
   "metadata": {},
   "source": []
  },
  {
   "cell_type": "markdown",
   "id": "f2e5139c-5341-4f1e-94c6-ee9df1c2ce5b",
   "metadata": {},
   "source": []
  }
 ],
 "metadata": {
  "kernelspec": {
   "display_name": "Python 3 (ipykernel)",
   "language": "python",
   "name": "python3"
  },
  "language_info": {
   "codemirror_mode": {
    "name": "ipython",
    "version": 3
   },
   "file_extension": ".py",
   "mimetype": "text/x-python",
   "name": "python",
   "nbconvert_exporter": "python",
   "pygments_lexer": "ipython3",
   "version": "3.11.7"
  }
 },
 "nbformat": 4,
 "nbformat_minor": 5
}
