{
 "cells": [
  {
   "cell_type": "markdown",
   "id": "32b8a90a-8de9-4775-ab68-9ebc29f364ef",
   "metadata": {},
   "source": [
    "# 91.for Loop with Dictionaries in Python\n"
   ]
  },
  {
   "cell_type": "markdown",
   "id": "5691e74b-59a9-4ff1-8953-295300cba0e4",
   "metadata": {},
   "source": []
  },
  {
   "cell_type": "markdown",
   "id": "512b9dd6-dedb-4861-9dd3-e92a81ec0485",
   "metadata": {},
   "source": []
  },
  {
   "cell_type": "markdown",
   "id": "8c5f5e45-81e1-4b01-abf1-584b5f0eb3e3",
   "metadata": {},
   "source": []
  },
  {
   "cell_type": "markdown",
   "id": "75457f45-2aec-4157-bdbe-5ea4e698c381",
   "metadata": {},
   "source": []
  },
  {
   "cell_type": "markdown",
   "id": "d69af14b-5f22-4a2f-9dcf-c5a6b6b84f7f",
   "metadata": {},
   "source": []
  },
  {
   "cell_type": "markdown",
   "id": "ad883d9b-30c9-4514-a44f-5a5835b055fb",
   "metadata": {},
   "source": []
  },
  {
   "cell_type": "markdown",
   "id": "6708a885-f519-47ee-8b1d-c626ddf016b4",
   "metadata": {},
   "source": []
  },
  {
   "cell_type": "markdown",
   "id": "f60e9120-1b33-4b4d-83c2-3cadaa035ead",
   "metadata": {},
   "source": []
  },
  {
   "cell_type": "markdown",
   "id": "b59c064a-d61d-4fdb-a788-3df8c5d03d12",
   "metadata": {},
   "source": []
  },
  {
   "cell_type": "markdown",
   "id": "a9836f77-3c68-4769-8ce4-716640f2ea9e",
   "metadata": {},
   "source": []
  },
  {
   "cell_type": "markdown",
   "id": "3c9d0a78-3389-467b-9cd7-921df6ae21ce",
   "metadata": {},
   "source": []
  }
 ],
 "metadata": {
  "kernelspec": {
   "display_name": "Python 3 (ipykernel)",
   "language": "python",
   "name": "python3"
  },
  "language_info": {
   "codemirror_mode": {
    "name": "ipython",
    "version": 3
   },
   "file_extension": ".py",
   "mimetype": "text/x-python",
   "name": "python",
   "nbconvert_exporter": "python",
   "pygments_lexer": "ipython3",
   "version": "3.11.7"
  }
 },
 "nbformat": 4,
 "nbformat_minor": 5
}
