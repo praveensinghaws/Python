{
 "cells": [
  {
   "cell_type": "markdown",
   "id": "5a291183-7327-4312-aef9-e8809e8f503d",
   "metadata": {},
   "source": [
    "# 104.Python Special Programs - Pascal's Triangle\n"
   ]
  },
  {
   "cell_type": "markdown",
   "id": "90b2583b-97a2-4550-bf1a-3cb0866bc530",
   "metadata": {},
   "source": []
  },
  {
   "cell_type": "markdown",
   "id": "9f90a156-b8f1-4bb7-8de9-29c9e8a80c63",
   "metadata": {},
   "source": []
  },
  {
   "cell_type": "markdown",
   "id": "5dd9f67d-2340-4da5-8a14-c56727e8242a",
   "metadata": {},
   "source": []
  },
  {
   "cell_type": "markdown",
   "id": "e0dbaec3-d5bc-4061-b7f8-480bd50b195c",
   "metadata": {},
   "source": []
  },
  {
   "cell_type": "markdown",
   "id": "8adf01d5-195a-4dc4-bde9-08c7307abc84",
   "metadata": {},
   "source": []
  },
  {
   "cell_type": "markdown",
   "id": "ba6c3ec1-454d-43c9-90d0-f17201b0e9de",
   "metadata": {},
   "source": []
  }
 ],
 "metadata": {
  "kernelspec": {
   "display_name": "Python 3 (ipykernel)",
   "language": "python",
   "name": "python3"
  },
  "language_info": {
   "codemirror_mode": {
    "name": "ipython",
    "version": 3
   },
   "file_extension": ".py",
   "mimetype": "text/x-python",
   "name": "python",
   "nbconvert_exporter": "python",
   "pygments_lexer": "ipython3",
   "version": "3.11.7"
  }
 },
 "nbformat": 4,
 "nbformat_minor": 5
}
