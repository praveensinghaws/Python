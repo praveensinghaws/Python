{
 "cells": [
  {
   "cell_type": "markdown",
   "id": "d46d2314-a9c0-4796-9158-c24b8625663f",
   "metadata": {},
   "source": [
    "# 110.Basics of Regular Expressions\n"
   ]
  },
  {
   "cell_type": "markdown",
   "id": "a6e31558-f384-4cc5-9759-2e624b98fda6",
   "metadata": {},
   "source": []
  },
  {
   "cell_type": "markdown",
   "id": "c0d1ec4a-9907-443f-b65e-5e86f9da0e79",
   "metadata": {},
   "source": []
  },
  {
   "cell_type": "markdown",
   "id": "ad2ac3ca-652f-491c-b33f-2d68bcbdc0c0",
   "metadata": {},
   "source": []
  },
  {
   "cell_type": "markdown",
   "id": "d2893d1a-37dd-44f1-aa40-00bbf4a69ead",
   "metadata": {},
   "source": []
  },
  {
   "cell_type": "markdown",
   "id": "29099f24-1f8b-4c39-87a4-f06e31eb9bfd",
   "metadata": {},
   "source": []
  },
  {
   "cell_type": "markdown",
   "id": "1c99688c-8ada-4c12-8ae8-9f33ddd196ce",
   "metadata": {},
   "source": []
  },
  {
   "cell_type": "markdown",
   "id": "acc78e5a-4890-4859-b0d3-cac9e7f3cc55",
   "metadata": {},
   "source": []
  },
  {
   "cell_type": "markdown",
   "id": "f22a1425-ebf4-4a2f-8764-073000c994ca",
   "metadata": {},
   "source": []
  },
  {
   "cell_type": "markdown",
   "id": "455d053c-9778-4a88-9549-532735672c4c",
   "metadata": {},
   "source": []
  },
  {
   "cell_type": "markdown",
   "id": "ec464664-cbd2-4b10-ad17-56d09e19e402",
   "metadata": {},
   "source": []
  }
 ],
 "metadata": {
  "kernelspec": {
   "display_name": "Python 3 (ipykernel)",
   "language": "python",
   "name": "python3"
  },
  "language_info": {
   "codemirror_mode": {
    "name": "ipython",
    "version": 3
   },
   "file_extension": ".py",
   "mimetype": "text/x-python",
   "name": "python",
   "nbconvert_exporter": "python",
   "pygments_lexer": "ipython3",
   "version": "3.11.7"
  }
 },
 "nbformat": 4,
 "nbformat_minor": 5
}
