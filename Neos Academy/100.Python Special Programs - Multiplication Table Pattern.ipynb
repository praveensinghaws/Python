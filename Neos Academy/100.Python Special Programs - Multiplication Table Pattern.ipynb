{
 "cells": [
  {
   "cell_type": "markdown",
   "id": "5d09ca1f-ad51-4741-a9b5-30ac6ee1909a",
   "metadata": {},
   "source": [
    "# 100.Python Special Programs - Multiplication Table Pattern\n"
   ]
  },
  {
   "cell_type": "markdown",
   "id": "baf35688-e679-4579-a781-8183963a9862",
   "metadata": {},
   "source": []
  },
  {
   "cell_type": "markdown",
   "id": "f4c3643d-9053-4997-a380-166eba535568",
   "metadata": {},
   "source": []
  },
  {
   "cell_type": "markdown",
   "id": "6357fc78-20be-4590-8267-6e57d43dfd74",
   "metadata": {},
   "source": []
  }
 ],
 "metadata": {
  "kernelspec": {
   "display_name": "Python 3 (ipykernel)",
   "language": "python",
   "name": "python3"
  },
  "language_info": {
   "codemirror_mode": {
    "name": "ipython",
    "version": 3
   },
   "file_extension": ".py",
   "mimetype": "text/x-python",
   "name": "python",
   "nbconvert_exporter": "python",
   "pygments_lexer": "ipython3",
   "version": "3.11.7"
  }
 },
 "nbformat": 4,
 "nbformat_minor": 5
}
