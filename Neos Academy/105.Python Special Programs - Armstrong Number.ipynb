{
 "cells": [
  {
   "cell_type": "markdown",
   "id": "2685e1c0-8647-4a1c-b87a-59b823d0decc",
   "metadata": {},
   "source": [
    "# 105.Python Special Programs - Armstrong Number\n"
   ]
  },
  {
   "cell_type": "markdown",
   "id": "6969af8b-b2a3-4517-acbe-5a89131e2ba3",
   "metadata": {},
   "source": []
  },
  {
   "cell_type": "markdown",
   "id": "a52a68f1-276f-4dff-ae04-3a4c800c338c",
   "metadata": {},
   "source": []
  },
  {
   "cell_type": "markdown",
   "id": "ee64ad43-3703-4706-b6ae-529b57b9202b",
   "metadata": {},
   "source": []
  },
  {
   "cell_type": "markdown",
   "id": "e555a14e-5e2e-4374-9ca8-4fb850e0cc7b",
   "metadata": {},
   "source": []
  },
  {
   "cell_type": "markdown",
   "id": "3873a29b-47f6-400d-8e14-d3e893d83097",
   "metadata": {},
   "source": []
  },
  {
   "cell_type": "markdown",
   "id": "55ed14f9-5ac4-495a-9d22-f9fd2a34503d",
   "metadata": {},
   "source": []
  },
  {
   "cell_type": "markdown",
   "id": "a8afe9a4-5a58-4dcd-9650-b6f3ebc709b3",
   "metadata": {},
   "source": []
  }
 ],
 "metadata": {
  "kernelspec": {
   "display_name": "Python 3 (ipykernel)",
   "language": "python",
   "name": "python3"
  },
  "language_info": {
   "codemirror_mode": {
    "name": "ipython",
    "version": 3
   },
   "file_extension": ".py",
   "mimetype": "text/x-python",
   "name": "python",
   "nbconvert_exporter": "python",
   "pygments_lexer": "ipython3",
   "version": "3.11.7"
  }
 },
 "nbformat": 4,
 "nbformat_minor": 5
}
