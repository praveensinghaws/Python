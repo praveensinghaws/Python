{
 "cells": [
  {
   "cell_type": "markdown",
   "id": "853c0b62-91ea-4cb9-abd9-6f733cb8e184",
   "metadata": {},
   "source": [
    "# 102.Python Special Programs - Right Pyramid of Stars\n"
   ]
  },
  {
   "cell_type": "markdown",
   "id": "bcdf2cec-39d7-4920-b708-79f6f2bebd88",
   "metadata": {},
   "source": []
  },
  {
   "cell_type": "markdown",
   "id": "58edc5bc-c717-4b76-89d7-6b20d213bb3f",
   "metadata": {},
   "source": []
  },
  {
   "cell_type": "markdown",
   "id": "ce0ab4d2-c60d-43c1-a199-eadcc0325f81",
   "metadata": {},
   "source": []
  },
  {
   "cell_type": "markdown",
   "id": "21d2deea-3341-43f9-b1e3-a382562b2502",
   "metadata": {},
   "source": []
  }
 ],
 "metadata": {
  "kernelspec": {
   "display_name": "Python 3 (ipykernel)",
   "language": "python",
   "name": "python3"
  },
  "language_info": {
   "codemirror_mode": {
    "name": "ipython",
    "version": 3
   },
   "file_extension": ".py",
   "mimetype": "text/x-python",
   "name": "python",
   "nbconvert_exporter": "python",
   "pygments_lexer": "ipython3",
   "version": "3.11.7"
  }
 },
 "nbformat": 4,
 "nbformat_minor": 5
}
