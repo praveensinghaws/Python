{
 "cells": [
  {
   "cell_type": "markdown",
   "id": "3d1212ae-305b-43a4-b3a6-14b4e75bae31",
   "metadata": {},
   "source": [
    "# 112.Python Special Programs - Palindromes\n"
   ]
  },
  {
   "cell_type": "markdown",
   "id": "ce26b938-378b-4972-ba8b-63f6c0512398",
   "metadata": {},
   "source": []
  },
  {
   "cell_type": "markdown",
   "id": "af895f32-3566-4d53-8d6d-e143ebec3bf5",
   "metadata": {},
   "source": []
  },
  {
   "cell_type": "markdown",
   "id": "329f20ee-c964-4fb7-af17-6a50aeff5de9",
   "metadata": {},
   "source": []
  },
  {
   "cell_type": "markdown",
   "id": "dc06171c-1228-42f8-aa08-16a84f205088",
   "metadata": {},
   "source": []
  },
  {
   "cell_type": "markdown",
   "id": "2d745222-4393-4f1c-845d-9e4988f95c26",
   "metadata": {},
   "source": []
  },
  {
   "cell_type": "markdown",
   "id": "e34bd8e8-da38-4d66-bddf-9f9cce297dd1",
   "metadata": {},
   "source": []
  },
  {
   "cell_type": "markdown",
   "id": "4eb21741-494d-4713-a026-1d20f9ab488b",
   "metadata": {},
   "source": []
  },
  {
   "cell_type": "markdown",
   "id": "7c50a599-156a-4bfd-bd76-8bb0f62cf389",
   "metadata": {},
   "source": []
  },
  {
   "cell_type": "markdown",
   "id": "25b76783-fcf8-4e16-9cc6-c22f85d1f2c2",
   "metadata": {},
   "source": []
  }
 ],
 "metadata": {
  "kernelspec": {
   "display_name": "Python 3 (ipykernel)",
   "language": "python",
   "name": "python3"
  },
  "language_info": {
   "codemirror_mode": {
    "name": "ipython",
    "version": 3
   },
   "file_extension": ".py",
   "mimetype": "text/x-python",
   "name": "python",
   "nbconvert_exporter": "python",
   "pygments_lexer": "ipython3",
   "version": "3.11.7"
  }
 },
 "nbformat": 4,
 "nbformat_minor": 5
}
