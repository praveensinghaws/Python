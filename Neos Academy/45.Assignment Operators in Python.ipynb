{
 "cells": [
  {
   "cell_type": "markdown",
   "id": "6e6994d4-c5d6-40a1-8257-6b5dd9d458c8",
   "metadata": {},
   "source": [
    "# 45.Assignment Operators in Python\r\n"
   ]
  },
  {
   "cell_type": "markdown",
   "id": "9dbecd84-d677-4495-b3ab-55ede014a90a",
   "metadata": {},
   "source": []
  },
  {
   "cell_type": "markdown",
   "id": "93a298bb-443b-4cf6-9caf-c7fe3fbe6b87",
   "metadata": {},
   "source": []
  },
  {
   "cell_type": "markdown",
   "id": "635e1f11-e7e4-47e0-abe0-77d8827e10f1",
   "metadata": {},
   "source": []
  },
  {
   "cell_type": "markdown",
   "id": "404a3634-e76a-4b19-a347-a8485294eff9",
   "metadata": {},
   "source": []
  },
  {
   "cell_type": "markdown",
   "id": "6b3fd044-526d-45b8-8c93-92e987fe5fde",
   "metadata": {},
   "source": []
  },
  {
   "cell_type": "markdown",
   "id": "64687ae4-8898-4713-a53c-01d8f8f5d25b",
   "metadata": {},
   "source": []
  },
  {
   "cell_type": "markdown",
   "id": "5d209dae-13cd-4ec8-b6c5-5c4dfbe2d644",
   "metadata": {},
   "source": []
  },
  {
   "cell_type": "markdown",
   "id": "0f59ce76-3fd8-47ba-b04a-24bff199fe43",
   "metadata": {},
   "source": []
  },
  {
   "cell_type": "markdown",
   "id": "05e42fa1-b644-456b-b210-424f7b5241a5",
   "metadata": {},
   "source": []
  },
  {
   "cell_type": "markdown",
   "id": "5ca47a8d-8e0a-4d06-b8e5-4167110a7617",
   "metadata": {},
   "source": []
  },
  {
   "cell_type": "markdown",
   "id": "f1de59ea-f4a3-43ee-8ca2-c3e7cff4587a",
   "metadata": {},
   "source": []
  },
  {
   "cell_type": "markdown",
   "id": "f0861a68-4e57-4f1b-933b-385221558677",
   "metadata": {},
   "source": []
  },
  {
   "cell_type": "markdown",
   "id": "21993471-994e-4918-b3a0-37eb3506b9ba",
   "metadata": {},
   "source": []
  },
  {
   "cell_type": "markdown",
   "id": "50b06798-f4cc-40ec-b872-7e1d5694315d",
   "metadata": {},
   "source": []
  },
  {
   "cell_type": "markdown",
   "id": "a311c516-b9e3-46a0-b7b5-975dc0255d2c",
   "metadata": {},
   "source": []
  },
  {
   "cell_type": "markdown",
   "id": "e047af3f-88f1-4063-a51c-c2c5c88d366a",
   "metadata": {},
   "source": []
  },
  {
   "cell_type": "markdown",
   "id": "22b3d21a-1e6a-499e-89ca-9defe85ef850",
   "metadata": {},
   "source": []
  },
  {
   "cell_type": "markdown",
   "id": "4cf2b11a-ab12-4a3b-87b4-34fe9bd69d15",
   "metadata": {},
   "source": []
  },
  {
   "cell_type": "markdown",
   "id": "bda396c8-f9b4-4cd0-8715-989a6a06168f",
   "metadata": {},
   "source": []
  }
 ],
 "metadata": {
  "kernelspec": {
   "display_name": "Python 3 (ipykernel)",
   "language": "python",
   "name": "python3"
  },
  "language_info": {
   "codemirror_mode": {
    "name": "ipython",
    "version": 3
   },
   "file_extension": ".py",
   "mimetype": "text/x-python",
   "name": "python",
   "nbconvert_exporter": "python",
   "pygments_lexer": "ipython3",
   "version": "3.12.1"
  }
 },
 "nbformat": 4,
 "nbformat_minor": 5
}
