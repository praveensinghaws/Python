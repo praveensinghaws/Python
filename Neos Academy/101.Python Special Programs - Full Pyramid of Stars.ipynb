{
 "cells": [
  {
   "cell_type": "markdown",
   "id": "104d61f2-a105-42f7-95c9-7140eb6bd95d",
   "metadata": {},
   "source": [
    "# 101.Python Special Programs - Full Pyramid of Stars\n"
   ]
  },
  {
   "cell_type": "markdown",
   "id": "15703820-0512-4865-bcc6-92227979bce2",
   "metadata": {},
   "source": []
  },
  {
   "cell_type": "markdown",
   "id": "a20e1ee7-ab18-48c4-9ec0-8afd6985ebc2",
   "metadata": {},
   "source": []
  },
  {
   "cell_type": "markdown",
   "id": "cbb15bfb-212a-4347-8bc8-19790cd35bd6",
   "metadata": {},
   "source": []
  }
 ],
 "metadata": {
  "kernelspec": {
   "display_name": "Python 3 (ipykernel)",
   "language": "python",
   "name": "python3"
  },
  "language_info": {
   "codemirror_mode": {
    "name": "ipython",
    "version": 3
   },
   "file_extension": ".py",
   "mimetype": "text/x-python",
   "name": "python",
   "nbconvert_exporter": "python",
   "pygments_lexer": "ipython3",
   "version": "3.11.7"
  }
 },
 "nbformat": 4,
 "nbformat_minor": 5
}
