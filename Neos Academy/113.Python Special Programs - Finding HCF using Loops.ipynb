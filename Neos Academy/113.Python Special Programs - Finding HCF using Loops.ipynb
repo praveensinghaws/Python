{
 "cells": [
  {
   "cell_type": "markdown",
   "id": "ee3554f2-9286-45a9-8e11-4c55373d4923",
   "metadata": {},
   "source": [
    "# 113.Python Special Programs - Finding HCF using Loops\n"
   ]
  },
  {
   "cell_type": "markdown",
   "id": "a4bc617c-499e-4903-aabe-5cfa7a0136fb",
   "metadata": {},
   "source": []
  },
  {
   "cell_type": "markdown",
   "id": "c8972504-764b-43f9-af7e-7e858df4af42",
   "metadata": {},
   "source": []
  },
  {
   "cell_type": "markdown",
   "id": "5aa2527d-e425-4eb3-a488-bd03bc295ee3",
   "metadata": {},
   "source": []
  },
  {
   "cell_type": "markdown",
   "id": "b1a6b133-e5dd-467a-8ff2-4870011fbbd3",
   "metadata": {},
   "source": []
  },
  {
   "cell_type": "markdown",
   "id": "4883ac10-6166-4b55-bcda-4420555cb1b7",
   "metadata": {},
   "source": []
  },
  {
   "cell_type": "markdown",
   "id": "bf101728-82f8-4207-88f0-1629ffe6ce6d",
   "metadata": {},
   "source": []
  },
  {
   "cell_type": "markdown",
   "id": "5e872956-543e-439e-a161-46a1f95b10b7",
   "metadata": {},
   "source": []
  },
  {
   "cell_type": "markdown",
   "id": "b0f13b9d-84e8-4d2a-896f-15c8cbeac3e2",
   "metadata": {},
   "source": []
  }
 ],
 "metadata": {
  "kernelspec": {
   "display_name": "Python 3 (ipykernel)",
   "language": "python",
   "name": "python3"
  },
  "language_info": {
   "codemirror_mode": {
    "name": "ipython",
    "version": 3
   },
   "file_extension": ".py",
   "mimetype": "text/x-python",
   "name": "python",
   "nbconvert_exporter": "python",
   "pygments_lexer": "ipython3",
   "version": "3.11.7"
  }
 },
 "nbformat": 4,
 "nbformat_minor": 5
}
