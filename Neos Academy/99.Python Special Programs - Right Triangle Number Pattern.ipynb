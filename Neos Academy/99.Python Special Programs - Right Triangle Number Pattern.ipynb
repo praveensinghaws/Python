{
 "cells": [
  {
   "cell_type": "markdown",
   "id": "16fa037e-864f-489d-9c02-2be935bccce4",
   "metadata": {},
   "source": [
    "# 99.Python Special Programs - Right Triangle Number Pattern\n"
   ]
  },
  {
   "cell_type": "markdown",
   "id": "7a7f6a6f-7f98-4abf-9aa7-aa1d3129e01c",
   "metadata": {},
   "source": []
  },
  {
   "cell_type": "markdown",
   "id": "40ed502e-b13b-4670-86d3-da9afd0b6d39",
   "metadata": {},
   "source": []
  },
  {
   "cell_type": "markdown",
   "id": "bf297dbe-cf10-4646-a609-2bd4bbe9f140",
   "metadata": {},
   "source": []
  },
  {
   "cell_type": "markdown",
   "id": "213d3a70-ca6e-4b04-add4-39e31117f2f8",
   "metadata": {},
   "source": []
  },
  {
   "cell_type": "markdown",
   "id": "98baf915-ca8f-426f-98a2-d60ea401becd",
   "metadata": {},
   "source": []
  },
  {
   "cell_type": "markdown",
   "id": "412ad289-3fa0-44a8-a9d7-70cf519bd27d",
   "metadata": {},
   "source": []
  },
  {
   "cell_type": "markdown",
   "id": "88f5416d-fdd3-4e96-b1a6-64ccbda05da4",
   "metadata": {},
   "source": []
  },
  {
   "cell_type": "markdown",
   "id": "6bef41a9-7484-4393-a171-f80b5f28a1e2",
   "metadata": {},
   "source": []
  }
 ],
 "metadata": {
  "kernelspec": {
   "display_name": "Python 3 (ipykernel)",
   "language": "python",
   "name": "python3"
  },
  "language_info": {
   "codemirror_mode": {
    "name": "ipython",
    "version": 3
   },
   "file_extension": ".py",
   "mimetype": "text/x-python",
   "name": "python",
   "nbconvert_exporter": "python",
   "pygments_lexer": "ipython3",
   "version": "3.11.7"
  }
 },
 "nbformat": 4,
 "nbformat_minor": 5
}
