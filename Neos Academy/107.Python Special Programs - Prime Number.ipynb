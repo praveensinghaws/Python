{
 "cells": [
  {
   "cell_type": "markdown",
   "id": "92022646-dd7d-4715-9958-17aa1ef0d20e",
   "metadata": {},
   "source": [
    "# 107.Python Special Programs - Prime Number\n"
   ]
  },
  {
   "cell_type": "markdown",
   "id": "08c3e03b-6f3b-4a1f-8723-b03b094049e8",
   "metadata": {},
   "source": []
  },
  {
   "cell_type": "markdown",
   "id": "6b8bc317-2d0c-4485-897e-b97b3d59dbb7",
   "metadata": {},
   "source": []
  },
  {
   "cell_type": "markdown",
   "id": "ad09ce7d-ff3c-444d-ae08-76e93721dc2a",
   "metadata": {},
   "source": []
  },
  {
   "cell_type": "markdown",
   "id": "9bf8e239-b8b4-48b4-b758-ceb4a11451e8",
   "metadata": {},
   "source": []
  },
  {
   "cell_type": "markdown",
   "id": "e122fca4-0c04-401b-a87c-a9d58aee402f",
   "metadata": {},
   "source": []
  },
  {
   "cell_type": "markdown",
   "id": "a7a86de5-8cdd-4b51-b04b-3a1a0837f4ba",
   "metadata": {},
   "source": []
  },
  {
   "cell_type": "markdown",
   "id": "79e699f1-58e9-4bc4-b246-31ec0c65b322",
   "metadata": {},
   "source": []
  },
  {
   "cell_type": "markdown",
   "id": "f07aa7fc-a107-4a42-88d3-c342f2cf7e00",
   "metadata": {},
   "source": []
  }
 ],
 "metadata": {
  "kernelspec": {
   "display_name": "Python 3 (ipykernel)",
   "language": "python",
   "name": "python3"
  },
  "language_info": {
   "codemirror_mode": {
    "name": "ipython",
    "version": 3
   },
   "file_extension": ".py",
   "mimetype": "text/x-python",
   "name": "python",
   "nbconvert_exporter": "python",
   "pygments_lexer": "ipython3",
   "version": "3.11.7"
  }
 },
 "nbformat": 4,
 "nbformat_minor": 5
}
