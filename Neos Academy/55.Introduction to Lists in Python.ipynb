{
 "cells": [
  {
   "cell_type": "markdown",
   "id": "17756095-73fd-4786-b181-c6ee4be6a722",
   "metadata": {},
   "source": [
    "# 55.Introduction to Lists in Python\n"
   ]
  },
  {
   "cell_type": "markdown",
   "id": "f3689c68-fbbc-44f6-a8b3-15076100a77f",
   "metadata": {},
   "source": []
  },
  {
   "cell_type": "markdown",
   "id": "3e13fbb5-9561-4637-942c-a56f4aee7d5e",
   "metadata": {},
   "source": []
  },
  {
   "cell_type": "markdown",
   "id": "b72fcd15-6e17-455c-a3b2-f57addefdb96",
   "metadata": {},
   "source": []
  },
  {
   "cell_type": "markdown",
   "id": "c711d9a6-0dfb-4db6-ba77-60ae46eb3354",
   "metadata": {},
   "source": []
  },
  {
   "cell_type": "markdown",
   "id": "884f0f2e-c85d-4e7a-9e83-3d2e03af85f2",
   "metadata": {},
   "source": []
  },
  {
   "cell_type": "markdown",
   "id": "784b41d3-3a98-43d2-aa39-077107857822",
   "metadata": {},
   "source": []
  },
  {
   "cell_type": "markdown",
   "id": "3bda348b-9247-4cff-939c-60764ced42bd",
   "metadata": {},
   "source": []
  },
  {
   "cell_type": "markdown",
   "id": "334225b8-97eb-48d3-b1cb-4fc7d7954d29",
   "metadata": {},
   "source": []
  },
  {
   "cell_type": "markdown",
   "id": "30bf0de2-4db7-442b-a6f9-a56263494ec9",
   "metadata": {},
   "source": []
  },
  {
   "cell_type": "markdown",
   "id": "ef78f069-0b7a-454d-9778-940d68718d65",
   "metadata": {},
   "source": []
  },
  {
   "cell_type": "markdown",
   "id": "544b3c14-2a6b-44fa-a54f-df51e90a0cbd",
   "metadata": {},
   "source": []
  },
  {
   "cell_type": "markdown",
   "id": "9dddf1ff-3899-49f2-878d-050b709756e1",
   "metadata": {},
   "source": []
  }
 ],
 "metadata": {
  "kernelspec": {
   "display_name": "Python 3 (ipykernel)",
   "language": "python",
   "name": "python3"
  },
  "language_info": {
   "codemirror_mode": {
    "name": "ipython",
    "version": 3
   },
   "file_extension": ".py",
   "mimetype": "text/x-python",
   "name": "python",
   "nbconvert_exporter": "python",
   "pygments_lexer": "ipython3",
   "version": "3.11.7"
  }
 },
 "nbformat": 4,
 "nbformat_minor": 5
}
