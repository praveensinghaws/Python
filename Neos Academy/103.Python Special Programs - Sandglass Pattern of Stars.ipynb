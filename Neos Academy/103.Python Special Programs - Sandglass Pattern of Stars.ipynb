{
 "cells": [
  {
   "cell_type": "markdown",
   "id": "0e8dfbea-b191-4495-991e-36c8823d07b8",
   "metadata": {},
   "source": [
    "# 103.Python Special Programs - Sandglass Pattern of Stars\n"
   ]
  },
  {
   "cell_type": "markdown",
   "id": "c70bdd4d-3cc0-4db0-9e0a-8b292b164c11",
   "metadata": {},
   "source": []
  },
  {
   "cell_type": "markdown",
   "id": "c82df38b-4eb1-4a0b-8243-42bb0d4e0058",
   "metadata": {},
   "source": []
  },
  {
   "cell_type": "markdown",
   "id": "24d4a07e-7610-4583-b210-3388587fd75f",
   "metadata": {},
   "source": []
  },
  {
   "cell_type": "markdown",
   "id": "5d6c9c4a-7139-4455-8a4b-fc27fc3866aa",
   "metadata": {},
   "source": []
  },
  {
   "cell_type": "markdown",
   "id": "d2cc073c-131a-4708-bfbc-cacdabcc322f",
   "metadata": {},
   "source": []
  }
 ],
 "metadata": {
  "kernelspec": {
   "display_name": "Python 3 (ipykernel)",
   "language": "python",
   "name": "python3"
  },
  "language_info": {
   "codemirror_mode": {
    "name": "ipython",
    "version": 3
   },
   "file_extension": ".py",
   "mimetype": "text/x-python",
   "name": "python",
   "nbconvert_exporter": "python",
   "pygments_lexer": "ipython3",
   "version": "3.11.7"
  }
 },
 "nbformat": 4,
 "nbformat_minor": 5
}
