{
 "cells": [
  {
   "cell_type": "markdown",
   "id": "5ccf9db0-8ed7-47fa-9807-e4bd8f267381",
   "metadata": {},
   "source": [
    "# 109.Python Special Programs - Counting Digits, Letters, and Special Characters\n"
   ]
  },
  {
   "cell_type": "markdown",
   "id": "3a18d2a6-1576-4865-a703-dc5c82d27ae7",
   "metadata": {},
   "source": []
  },
  {
   "cell_type": "markdown",
   "id": "56458a04-b01b-41a2-a8b5-4d7339bc892f",
   "metadata": {},
   "source": []
  },
  {
   "cell_type": "markdown",
   "id": "23363510-2132-4722-946e-160ecbcb2ae4",
   "metadata": {},
   "source": []
  },
  {
   "cell_type": "markdown",
   "id": "18021457-9622-454e-8141-4a61363429a0",
   "metadata": {},
   "source": []
  },
  {
   "cell_type": "markdown",
   "id": "389ffd59-e3fc-4085-9da4-cb355752e2c9",
   "metadata": {},
   "source": []
  },
  {
   "cell_type": "markdown",
   "id": "bd7e9f95-5560-49de-bb3b-7fd93937c69a",
   "metadata": {},
   "source": []
  },
  {
   "cell_type": "markdown",
   "id": "3b19e190-66df-473f-93e3-3a6f4f7dc5a2",
   "metadata": {},
   "source": []
  },
  {
   "cell_type": "markdown",
   "id": "816f6903-0dd1-4dec-be0b-7547c033af49",
   "metadata": {},
   "source": []
  },
  {
   "cell_type": "markdown",
   "id": "2511eff9-8583-48f6-b101-bf629cb03a2a",
   "metadata": {},
   "source": []
  },
  {
   "cell_type": "markdown",
   "id": "647ca4dc-212e-471e-8020-c247c3434c77",
   "metadata": {},
   "source": []
  }
 ],
 "metadata": {
  "kernelspec": {
   "display_name": "Python 3 (ipykernel)",
   "language": "python",
   "name": "python3"
  },
  "language_info": {
   "codemirror_mode": {
    "name": "ipython",
    "version": 3
   },
   "file_extension": ".py",
   "mimetype": "text/x-python",
   "name": "python",
   "nbconvert_exporter": "python",
   "pygments_lexer": "ipython3",
   "version": "3.11.7"
  }
 },
 "nbformat": 4,
 "nbformat_minor": 5
}
