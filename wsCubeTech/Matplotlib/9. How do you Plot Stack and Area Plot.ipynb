{
 "cells": [
  {
   "cell_type": "markdown",
   "id": "7a992d71-421f-4f0a-869a-eccd72be101e",
   "metadata": {},
   "source": [
    "# Lec 9. How do you Plot Stack and Area Plot"
   ]
  },
  {
   "cell_type": "code",
   "execution_count": null,
   "id": "99015f11-9ff5-46eb-9708-cf6e1948bbea",
   "metadata": {},
   "outputs": [],
   "source": []
  }
 ],
 "metadata": {
  "kernelspec": {
   "display_name": "Python 3 (ipykernel)",
   "language": "python",
   "name": "python3"
  },
  "language_info": {
   "codemirror_mode": {
    "name": "ipython",
    "version": 3
   },
   "file_extension": ".py",
   "mimetype": "text/x-python",
   "name": "python",
   "nbconvert_exporter": "python",
   "pygments_lexer": "ipython3",
   "version": "3.11.2"
  }
 },
 "nbformat": 4,
 "nbformat_minor": 5
}
