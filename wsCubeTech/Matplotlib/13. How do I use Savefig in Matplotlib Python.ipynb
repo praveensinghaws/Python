{
 "cells": [
  {
   "cell_type": "markdown",
   "id": "01c94332-8394-4c71-8348-0c8f44626a77",
   "metadata": {},
   "source": [
    "# Lec 13. How do I use Savefig in Matplotlib Python"
   ]
  },
  {
   "cell_type": "code",
   "execution_count": null,
   "id": "fc8b1820-aef0-4bbf-bce9-c9c6aafbfc9d",
   "metadata": {},
   "outputs": [],
   "source": []
  }
 ],
 "metadata": {
  "kernelspec": {
   "display_name": "Python 3 (ipykernel)",
   "language": "python",
   "name": "python3"
  },
  "language_info": {
   "codemirror_mode": {
    "name": "ipython",
    "version": 3
   },
   "file_extension": ".py",
   "mimetype": "text/x-python",
   "name": "python",
   "nbconvert_exporter": "python",
   "pygments_lexer": "ipython3",
   "version": "3.11.2"
  }
 },
 "nbformat": 4,
 "nbformat_minor": 5
}
