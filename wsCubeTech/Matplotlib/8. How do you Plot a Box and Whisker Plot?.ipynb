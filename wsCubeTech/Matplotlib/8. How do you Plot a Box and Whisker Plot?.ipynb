{
 "cells": [
  {
   "cell_type": "markdown",
   "id": "f7a89839-949f-4ea1-833d-2ab3d2a06001",
   "metadata": {},
   "source": [
    "# Lec 8. How do you Plot a Box and Whisker Plot?"
   ]
  },
  {
   "cell_type": "code",
   "execution_count": null,
   "id": "701735a7-3c73-4967-88de-4a19364cb373",
   "metadata": {},
   "outputs": [],
   "source": []
  }
 ],
 "metadata": {
  "kernelspec": {
   "display_name": "Python 3 (ipykernel)",
   "language": "python",
   "name": "python3"
  },
  "language_info": {
   "codemirror_mode": {
    "name": "ipython",
    "version": 3
   },
   "file_extension": ".py",
   "mimetype": "text/x-python",
   "name": "python",
   "nbconvert_exporter": "python",
   "pygments_lexer": "ipython3",
   "version": "3.11.2"
  }
 },
 "nbformat": 4,
 "nbformat_minor": 5
}
