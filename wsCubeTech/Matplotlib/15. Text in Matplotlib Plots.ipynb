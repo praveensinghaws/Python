{
 "cells": [
  {
   "cell_type": "markdown",
   "id": "8ac9d2d1-0b0d-4f94-af71-eb1bd94f5765",
   "metadata": {},
   "source": [
    "# Lec 15. Text in Matplotlib Plots\n"
   ]
  },
  {
   "cell_type": "code",
   "execution_count": null,
   "id": "fb30cef3-d701-4202-a397-32cd4ebf3ce7",
   "metadata": {},
   "outputs": [],
   "source": []
  }
 ],
 "metadata": {
  "kernelspec": {
   "display_name": "Python 3 (ipykernel)",
   "language": "python",
   "name": "python3"
  },
  "language_info": {
   "codemirror_mode": {
    "name": "ipython",
    "version": 3
   },
   "file_extension": ".py",
   "mimetype": "text/x-python",
   "name": "python",
   "nbconvert_exporter": "python",
   "pygments_lexer": "ipython3",
   "version": "3.11.2"
  }
 },
 "nbformat": 4,
 "nbformat_minor": 5
}
