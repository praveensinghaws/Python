{
 "cells": [
  {
   "cell_type": "markdown",
   "id": "4746165a-5738-413f-9cac-c89d4776d3ba",
   "metadata": {},
   "source": [
    "# Lec 14. Axis Matplotlib Plots"
   ]
  },
  {
   "cell_type": "code",
   "execution_count": null,
   "id": "ca2d593e-b774-41ed-a93b-afa902fe5449",
   "metadata": {},
   "outputs": [],
   "source": []
  }
 ],
 "metadata": {
  "kernelspec": {
   "display_name": "Python 3 (ipykernel)",
   "language": "python",
   "name": "python3"
  },
  "language_info": {
   "codemirror_mode": {
    "name": "ipython",
    "version": 3
   },
   "file_extension": ".py",
   "mimetype": "text/x-python",
   "name": "python",
   "nbconvert_exporter": "python",
   "pygments_lexer": "ipython3",
   "version": "3.11.2"
  }
 },
 "nbformat": 4,
 "nbformat_minor": 5
}
