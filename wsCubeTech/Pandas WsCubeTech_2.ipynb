{
 "cells": [
  {
   "cell_type": "markdown",
   "id": "815c700b-2876-4ef1-bb1e-96e4e6b50523",
   "metadata": {},
   "source": [
    "# Lec 10 : Pandas Tutorial for Handling Missing Data (Replace and interpolate)"
   ]
  },
  {
   "cell_type": "code",
   "execution_count": null,
   "id": "3857af4d-ff7e-4b67-8c0e-2f89b2ffab82",
   "metadata": {},
   "outputs": [],
   "source": []
  }
 ],
 "metadata": {
  "kernelspec": {
   "display_name": "Python 3 (ipykernel)",
   "language": "python",
   "name": "python3"
  },
  "language_info": {
   "codemirror_mode": {
    "name": "ipython",
    "version": 3
   },
   "file_extension": ".py",
   "mimetype": "text/x-python",
   "name": "python",
   "nbconvert_exporter": "python",
   "pygments_lexer": "ipython3",
   "version": "3.11.6"
  },
  "widgets": {
   "application/vnd.jupyter.widget-state+json": {
    "state": {},
    "version_major": 2,
    "version_minor": 0
   }
  }
 },
 "nbformat": 4,
 "nbformat_minor": 5
}
