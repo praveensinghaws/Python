{
 "cells": [
  {
   "cell_type": "code",
   "execution_count": null,
   "id": "bcc124b2-972a-4bc3-b0ad-683d34e45c92",
   "metadata": {},
   "outputs": [],
   "source": []
  }
 ],
 "metadata": {
  "kernelspec": {
   "display_name": "",
   "name": ""
  },
  "language_info": {
   "name": ""
  }
 },
 "nbformat": 4,
 "nbformat_minor": 5
}
