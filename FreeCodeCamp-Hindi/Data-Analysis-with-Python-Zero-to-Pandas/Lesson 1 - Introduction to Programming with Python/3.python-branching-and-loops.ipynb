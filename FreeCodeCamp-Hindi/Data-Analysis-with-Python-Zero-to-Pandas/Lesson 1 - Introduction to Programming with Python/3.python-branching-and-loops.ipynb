{
 "cells": [
  {
   "cell_type": "markdown",
   "metadata": {
    "editable": true,
    "slideshow": {
     "slide_type": ""
    },
    "tags": []
   },
   "source": [
    "# Branching using Conditional Statements and Loops in Python\n",
    "\n",
    "![](https://i.imgur.com/7RfcHV0.png)\n"
   ]
  },
  {
   "cell_type": "markdown",
   "metadata": {},
   "source": [
    "This tutorial covers the following topics:\n",
    "\n",
    "- Branching with `if`, `else` and `elif`\n",
    "- Nested conditions and `if` expressions\n",
    "- Iteration with `while` loops\n",
    "- Iterating over containers with `for` loops\n",
    "- Nested loops, `break` and `continue` statements"
   ]
  },
  {
   "cell_type": "markdown",
   "metadata": {},
   "source": [
    "### How to run the code\n",
    "\n",
    "This tutorial is an executable [Jupyter notebook](https://jupyter.org) hosted on [Jovian](https://www.jovian.ai). You can _run_ this tutorial and experiment with the code examples in a couple of ways: *using free online resources* (recommended) or *on your computer*.\n",
    "\n",
    "#### Option 1: Running using free online resources (1-click, recommended)\n",
    "\n",
    "The easiest way to start executing the code is to click the **Run** button at the top of this page and select **Run on Binder**. You can also select \"Run on Colab\" or \"Run on Kaggle\", but you'll need to create an account on [Google Colab](https://colab.research.google.com) or [Kaggle](https://kaggle.com) to use these platforms.\n",
    "\n",
    "\n",
    "#### Option 2: Running on your computer locally\n",
    "\n",
    "To run the code on your computer locally, you'll need to set up [Python](https://www.python.org), download the notebook and install the required libraries. We recommend using the [Conda](https://docs.conda.io/projects/conda/en/latest/user-guide/install/) distribution of Python. Click the **Run** button at the top of this page, select the **Run Locally** option, and follow the instructions.\n",
    "\n",
    ">  **Jupyter Notebooks**: This tutorial is a [Jupyter notebook](https://jupyter.org) - a document made of _cells_. Each cell can contain code written in Python or explanations in plain English. You can execute code cells and view the results, e.g., numbers, messages, graphs, tables, files, etc., instantly within the notebook. Jupyter is a powerful platform for experimentation and analysis. Don't be afraid to mess around with the code & break things - you'll learn a lot by encountering and fixing errors. You can use the \"Kernel > Restart & Clear Output\" menu option to clear all outputs and start again from the top."
   ]
  },
  {
   "cell_type": "markdown",
   "metadata": {},
   "source": [
    "## Branching with `if`, `else` and `elif`\n",
    "\n",
    "One of the most powerful features of programming languages is *branching*: the ability to make decisions and execute a different set of statements based on whether one or more conditions are true.\n",
    "\n",
    "### The `if` statement\n",
    "\n",
    "In Python, branching is implemented using the `if` statement, which is written as follows:\n",
    "\n",
    "```\n",
    "if condition:\n",
    "    statement1\n",
    "    statement2\n",
    "```\n",
    "\n",
    "The `condition` can be a value, variable or expression. If the condition evaluates to `True`, then the statements within the *`if` block* are executed. Notice the four spaces before `statement1`, `statement2`, etc. The spaces inform Python that these statements are associated with the `if` statement above. This technique of structuring code by adding spaces is called *indentation*.\n",
    "\n",
    "> **Indentation**: Python relies heavily on *indentation* (white space before a statement) to define code structure. This makes Python code easy to read and understand. You can run into problems if you don't use indentation properly. Indent your code by placing the cursor at the start of the line and pressing the `Tab` key once to add 4 spaces. Pressing `Tab` again will indent the code further by 4 more spaces, and press `Shift+Tab` will reduce the indentation by 4 spaces. \n",
    "\n",
    "\n",
    "For example, let's write some code to check and print a message if a given number is even."
   ]
  },
  {
   "cell_type": "code",
   "execution_count": null,
   "metadata": {},
   "outputs": [],
   "source": [
    "a_number = 34"
   ]
  },
  {
   "cell_type": "code",
   "execution_count": null,
   "metadata": {},
   "outputs": [],
   "source": [
    "# Checking if a_number is even\n",
    "if a_number % 2 == 0:\n",
    "    # This block executes if the condition is True\n",
    "    print(\"We're inside an if block\")\n",
    "    print('The given number {} is even.'.format(a_number))\n"
   ]
  },
  {
   "cell_type": "markdown",
   "metadata": {},
   "source": [
    "We use the modulus operator `%` to calculate the remainder from the division of `a_number` by `2`. Then, we use the comparison operator `==` check if the remainder is `0`, which tells us whether the number is even, i.e., divisible by 2.\n",
    "\n",
    "Since `34` is divisible by `2`, the expression `a_number % 2 == 0` evaluates to `True`, so the `print` statement under the `if` statement is executed. Also, note that we are using the string `format` method to include the number within the message.\n",
    "\n",
    "Let's try the above again with an odd number."
   ]
  },
  {
   "cell_type": "code",
   "execution_count": null,
   "metadata": {},
   "outputs": [],
   "source": [
    "another_number = 33"
   ]
  },
  {
   "cell_type": "code",
   "execution_count": null,
   "metadata": {},
   "outputs": [],
   "source": [
    "# Assuming 'another_number' is defined earlier in your code\n",
    "\n",
    "# Check if another_number is even or odd\n",
    "if another_number % 2 == 0:\n",
    "    print('The given number {} is even.'.format(another_number))\n"
   ]
  },
  {
   "cell_type": "markdown",
   "metadata": {},
   "source": [
    "As expected, since the condition `another_number % 2 == 0` evaluates to `False`, no message is printed. \n",
    "\n",
    "### The `else` statement\n",
    "\n",
    "We may want to print a different message if the number is not even in the above example. This can be done by adding the `else` statement. It is written as follows:\n",
    "\n",
    "```\n",
    "if condition:\n",
    "    statement1\n",
    "    statement2\n",
    "else:\n",
    "    statement4\n",
    "    statement5\n",
    "\n",
    "```\n",
    "\n",
    "If `condition` evaluates to `True`, the statements in the `if` block are executed. If it evaluates to `False`, the statements in the `else` block are executed."
   ]
  },
  {
   "cell_type": "code",
   "execution_count": null,
   "metadata": {},
   "outputs": [],
   "source": [
    "a_number = 34"
   ]
  },
  {
   "cell_type": "code",
   "execution_count": null,
   "metadata": {},
   "outputs": [],
   "source": [
    "# Assuming 'a_number' is defined earlier in your code\n",
    "\n",
    "# Check if the number is even or odd\n",
    "if a_number % 2 == 0:\n",
    "    print('The given number {} is even.'.format(a_number))\n",
    "else:\n",
    "    print('The given number {} is odd.'.format(a_number))\n"
   ]
  },
  {
   "cell_type": "code",
   "execution_count": null,
   "metadata": {},
   "outputs": [],
   "source": [
    "another_number = 33"
   ]
  },
  {
   "cell_type": "code",
   "execution_count": null,
   "metadata": {},
   "outputs": [],
   "source": [
    "# Assuming 'another_number' is defined earlier in your code\n",
    "\n",
    "# Check if another_number is even or odd\n",
    "if another_number % 2 == 0:\n",
    "    print('The given number {} is even.'.format(another_number))\n",
    "else:\n",
    "    print('The given number {} is odd.'.format(another_number))\n"
   ]
  },
  {
   "cell_type": "markdown",
   "metadata": {},
   "source": [
    "Here's another example, which uses the `in` operator to check membership within a tuple."
   ]
  },
  {
   "cell_type": "code",
   "execution_count": null,
   "metadata": {},
   "outputs": [],
   "source": [
    "the_3_musketeers = ('Athos', 'Porthos', 'Aramis')"
   ]
  },
  {
   "cell_type": "code",
   "execution_count": null,
   "metadata": {},
   "outputs": [],
   "source": [
    "a_candidate = \"D'Artagnan\""
   ]
  },
  {
   "cell_type": "code",
   "execution_count": null,
   "metadata": {},
   "outputs": [],
   "source": [
    "# Assuming 'a_candidate' and 'the_3_musketeers' are defined earlier in your code\n",
    "\n",
    "# Check if a_candidate is a musketeer\n",
    "if a_candidate in the_3_musketeers:\n",
    "    print(\"{} is a musketeer\".format(a_candidate))\n",
    "else:\n",
    "    print(\"{} is not a musketeer\".format(a_candidate))\n"
   ]
  },
  {
   "cell_type": "markdown",
   "metadata": {},
   "source": [
    "### The `elif` statement\n",
    "\n",
    "Python also provides an `elif` statement (short for \"else if\") to chain a series of conditional blocks. The conditions are evaluated one by one. For the first condition that evaluates to `True`, the block of statements below it is executed. The remaining conditions and statements are not evaluated. So, in an `if`, `elif`, `elif`... chain, at most one block of statements is executed, the one corresponding to the first condition that evaluates to `True`. "
   ]
  },
  {
   "cell_type": "code",
   "execution_count": null,
   "metadata": {},
   "outputs": [],
   "source": [
    "today = 'Wednesday'"
   ]
  },
  {
   "cell_type": "code",
   "execution_count": null,
   "metadata": {},
   "outputs": [],
   "source": [
    "# Assuming 'today' is defined earlier in your code\n",
    "\n",
    "# Check the day of the week and print a corresponding message\n",
    "if today == 'Sunday':\n",
    "    print(\"Today is the day of the sun.\")\n",
    "elif today == 'Monday':\n",
    "    print(\"Today is the day of the moon.\")\n",
    "elif today == 'Tuesday':\n",
    "    print(\"Today is the day of Tyr, the god of war.\")\n",
    "elif today == 'Wednesday':\n",
    "    print(\"Today is the day of Odin, the supreme deity.\")\n",
    "elif today == 'Thursday':\n",
    "    print(\"Today is the day of Thor, the god of thunder.\")\n",
    "elif today == 'Friday':\n",
    "    print(\"Today is the day of Frigga, the goddess of beauty.\")\n",
    "elif today == 'Saturday':\n",
    "    print(\"Today is the day of Saturn, the god of fun and feasting.\")\n"
   ]
  },
  {
   "cell_type": "markdown",
   "metadata": {},
   "source": [
    "In the above example, the first 3 conditions evaluate to `False`, so none of the first 3 messages are printed. The fourth condition evaluates to `True`, so the corresponding message is printed. The remaining conditions are skipped. Try changing the value of `today` above and re-executing the cells to print all the different messages.\n",
    "\n",
    "\n",
    "To verify that the remaining conditions are skipped, let us try another example."
   ]
  },
  {
   "cell_type": "code",
   "execution_count": null,
   "metadata": {},
   "outputs": [],
   "source": [
    "a_number = 15"
   ]
  },
  {
   "cell_type": "code",
   "execution_count": null,
   "metadata": {},
   "outputs": [],
   "source": [
    "# Assuming 'a_number' is defined earlier in your code\n",
    "\n",
    "# Check divisibility by 2, 3, 5, or 7 and print the corresponding message\n",
    "if a_number % 2 == 0:\n",
    "    print('{} is divisible by 2'.format(a_number))\n",
    "elif a_number % 3 == 0:\n",
    "    print('{} is divisible by 3'.format(a_number))\n",
    "elif a_number % 5 == 0:\n",
    "    print('{} is divisible by 5'.format(a_number))\n",
    "elif a_number % 7 == 0:\n",
    "    print('{} is divisible by 7'.format(a_number))\n"
   ]
  },
  {
   "cell_type": "markdown",
   "metadata": {},
   "source": [
    "Note that the message `15 is divisible by 5` is not printed because the condition `a_number % 5 == 0` isn't evaluated, since the previous condition `a_number % 3 == 0` evaluates to `True`. This is the key difference between using a chain of `if`, `elif`, `elif`... statements vs. a chain of `if` statements, where each condition is evaluated independently."
   ]
  },
  {
   "cell_type": "code",
   "execution_count": null,
   "metadata": {},
   "outputs": [],
   "source": [
    "# Assuming 'a_number' is defined earlier in your code\n",
    "\n",
    "# Check divisibility by 2, 3, 5, and 7 independently and print messages\n",
    "if a_number % 2 == 0:\n",
    "    print('{} is divisible by 2'.format(a_number))\n",
    "if a_number % 3 == 0:\n",
    "    print('{} is divisible by 3'.format(a_number))\n",
    "if a_number % 5 == 0:\n",
    "    print('{} is divisible by 5'.format(a_number))\n",
    "if a_number % 7 == 0:\n",
    "    print('{} is divisible by 7'.format(a_number))\n"
   ]
  },
  {
   "cell_type": "markdown",
   "metadata": {},
   "source": [
    "### Using `if`, `elif`, and `else` together\n",
    "\n",
    "You can also include an `else` statement at the end of a chain of `if`, `elif`... statements. This code within the `else` block is evaluated when none of the conditions hold true."
   ]
  },
  {
   "cell_type": "code",
   "execution_count": null,
   "metadata": {},
   "outputs": [],
   "source": [
    "a_number = 49"
   ]
  },
  {
   "cell_type": "code",
   "execution_count": null,
   "metadata": {},
   "outputs": [],
   "source": [
    "# Assuming 'a_number' is defined earlier in your code\n",
    "\n",
    "# Check divisibility by 2, 3, 5, and print the corresponding message\n",
    "if a_number % 2 == 0:\n",
    "    print('{} is divisible by 2'.format(a_number))\n",
    "elif a_number % 3 == 0:\n",
    "    print('{} is divisible by 3'.format(a_number))\n",
    "elif a_number % 5 == 0:\n",
    "    print('{} is divisible by 5'.format(a_number))\n",
    "else:\n",
    "    print('All checks failed!')\n",
    "    print('{} is not divisible by 2, 3, or 5'.format(a_number))\n"
   ]
  },
  {
   "cell_type": "markdown",
   "metadata": {},
   "source": [
    "Conditions can also be combined using the logical operators `and`, `or` and `not`. Logical operators are explained in detail in the [first tutorial](https://jovian.ml/aakashns/first-steps-with-python/v/4#C49)."
   ]
  },
  {
   "cell_type": "code",
   "execution_count": null,
   "metadata": {},
   "outputs": [],
   "source": [
    "a_number = 12"
   ]
  },
  {
   "cell_type": "code",
   "execution_count": null,
   "metadata": {},
   "outputs": [],
   "source": [
    "# Assuming 'a_number' is defined earlier in your code\n",
    "\n",
    "# Check divisibility by 3 and 5, and print the corresponding message\n",
    "if a_number % 3 == 0 and a_number % 5 == 0:\n",
    "    print(\"The number {} is divisible by 3 and 5\".format(a_number))\n",
    "elif not a_number % 5 == 0:\n",
    "    print(\"The number {} is not divisible by 5\".format(a_number))\n"
   ]
  },
  {
   "cell_type": "markdown",
   "metadata": {},
   "source": [
    "### Non-Boolean Conditions\n",
    "\n",
    "Note that conditions do not necessarily have to be booleans. In fact, a condition can be any value. The value is converted into a boolean automatically using the `bool` operator. This means that falsy values like `0`, `''`, `{}`, `[]`, etc. evaluate to `False` and all other values evaluate to `True`."
   ]
  },
  {
   "cell_type": "code",
   "execution_count": null,
   "metadata": {},
   "outputs": [],
   "source": [
    "# Check if the string is empty\n",
    "if '':\n",
    "    print('The condition evaluated to True')\n",
    "else:\n",
    "    print('The condition evaluated to False')\n"
   ]
  },
  {
   "cell_type": "code",
   "execution_count": null,
   "metadata": {},
   "outputs": [],
   "source": [
    "# Check if the string 'Hello' is non-empty\n",
    "if 'Hello':\n",
    "    print('The condition evaluated to True')\n",
    "else:\n",
    "    print('The condition evaluated to False')\n"
   ]
  },
  {
   "cell_type": "code",
   "execution_count": null,
   "metadata": {},
   "outputs": [],
   "source": [
    "# Check if the dictionary { 'a': 34 } is non-empty\n",
    "if { 'a': 34 }:\n",
    "    print('The condition evaluated to True')\n",
    "else:\n",
    "    print('The condition evaluated to False')\n"
   ]
  },
  {
   "cell_type": "code",
   "execution_count": null,
   "metadata": {},
   "outputs": [],
   "source": [
    "# Check if the value is None\n",
    "if None:\n",
    "    print('The condition evaluated to True')\n",
    "else:\n",
    "    print('The condition evaluated to False')\n"
   ]
  },
  {
   "cell_type": "markdown",
   "metadata": {},
   "source": [
    "### Nested conditional statements\n",
    "\n",
    "The code inside an `if` block can also include an `if` statement inside it. This pattern is called `nesting` and is used to check for another condition after a particular condition holds true."
   ]
  },
  {
   "cell_type": "code",
   "execution_count": null,
   "metadata": {},
   "outputs": [],
   "source": [
    "a_number = 15"
   ]
  },
  {
   "cell_type": "code",
   "execution_count": null,
   "metadata": {},
   "outputs": [],
   "source": [
    "# Check if the number is even\n",
    "if a_number % 2 == 0:\n",
    "    print(\"{} is even\".format(a_number))\n",
    "\n",
    "    # Check if the even number is divisible by 3\n",
    "    if a_number % 3 == 0:\n",
    "        print(\"{} is also divisible by 3\".format(a_number))\n",
    "    else:\n",
    "        print(\"{} is not divisible by 3\".format(a_number))\n",
    "else:\n",
    "    # If the number is not even, it is odd\n",
    "    print(\"{} is odd\".format(a_number))\n",
    "\n",
    "    # Check if the odd number is divisible by 5\n",
    "    if a_number % 5 == 0:\n",
    "        print(\"{} is also divisible by 5\".format(a_number))\n",
    "    else:\n",
    "        print(\"{} is not divisible by 5\".format(a_number))\n"
   ]
  },
  {
   "cell_type": "markdown",
   "metadata": {},
   "source": [
    "Notice how the `print` statements are indented by 8 spaces to indicate that they are part of the inner `if`/`else` blocks.\n",
    "\n",
    "> Nested `if`, `else` statements are often confusing to read and prone to human error. It's good to avoid nesting whenever possible, or limit the nesting to 1 or 2 levels."
   ]
  },
  {
   "cell_type": "markdown",
   "metadata": {},
   "source": [
    "### Shorthand `if` conditional expression\n",
    "\n",
    "A frequent use case of the `if` statement involves testing a condition and setting a variable's value based on the condition."
   ]
  },
  {
   "cell_type": "code",
   "execution_count": null,
   "metadata": {},
   "outputs": [],
   "source": [
    "# Define the number\n",
    "a_number = 13\n",
    "\n",
    "# Check if the number is even\n",
    "if a_number % 2 == 0:\n",
    "    parity = 'even'\n",
    "else:\n",
    "    # If not even, it is odd\n",
    "    parity = 'odd'\n",
    "\n",
    "# Print the message indicating the parity of the number\n",
    "print('The number {} is {}.'.format(a_number, parity))\n"
   ]
  },
  {
   "cell_type": "markdown",
   "metadata": {},
   "source": [
    "Python provides a shorter syntax, which allows writing such conditions in a single line of code. It is known as a *conditional expression*, sometimes also referred to as a *ternary operator*. It has the following syntax:\n",
    "\n",
    "```\n",
    "x = true_value if condition else false_value\n",
    "```\n",
    "\n",
    "It has the same behavior as the following `if`-`else` block:\n",
    "\n",
    "```\n",
    "if condition:\n",
    "    x = true_value\n",
    "else:\n",
    "    x = false_value\n",
    "```\n",
    "\n",
    "Let's try it out for the example above."
   ]
  },
  {
   "cell_type": "code",
   "execution_count": null,
   "metadata": {},
   "outputs": [],
   "source": [
    "# Define the number\n",
    "a_number = 13\n",
    "\n",
    "# Use a ternary conditional expression to determine the parity\n",
    "parity = 'even' if a_number % 2 == 0 else 'odd'\n",
    "\n",
    "# Print the message indicating the parity of the number\n",
    "print('The number {} is {}.'.format(a_number, parity))\n"
   ]
  },
  {
   "cell_type": "markdown",
   "metadata": {},
   "source": [
    "### Statements and Expressions\n",
    "\n",
    "The conditional expression highlights an essential distinction between *statements* and *expressions* in Python. \n",
    "\n",
    "> **Statements**: A statement is an instruction that can be executed. Every line of code we have written so far is a statement e.g. assigning a variable, calling a function, conditional statements using `if`, `else`, and `elif`, loops using `for` and `while` etc.\n",
    "\n",
    "> **Expressions**: An expression is some code that evaluates to a value. Examples include values of different data types, arithmetic expressions, conditions, variables, function calls, conditional expressions, etc. \n",
    "\n",
    "\n",
    "Most expressions can be executed as statements, but not all statements are expressions. For example, the regular `if` statement is not an expression since it does not evaluate to a value. It merely performs some branching in the code. Similarly, loops and function definitions are not expressions (we'll learn more about these in later sections).\n",
    "\n",
    "As a rule of thumb, an expression is anything that can appear on the right side of the assignment operator `=`. You can use this as a test for checking whether something is an expression or not. You'll get a syntax error if you try to assign something that is not an expression."
   ]
  },
  {
   "cell_type": "code",
   "execution_count": null,
   "metadata": {},
   "outputs": [],
   "source": [
    "# Use a ternary conditional expression to determine the parity\n",
    "result = 'even' if a_number % 2 == 0 else 'odd'\n",
    "\n",
    "# Print the result\n",
    "print(result)"
   ]
  },
  {
   "cell_type": "code",
   "execution_count": null,
   "metadata": {},
   "outputs": [],
   "source": [
    "# if expression\n",
    "result = 'even' if a_number % 2 == 0 else 'odd'"
   ]
  },
  {
   "cell_type": "markdown",
   "metadata": {},
   "source": [
    "### The `pass` statement\n",
    "\n",
    "`if` statements cannot be empty, there must be at least one statement in every `if` and `elif` block. You can use the `pass` statement to do nothing and avoid getting an error."
   ]
  },
  {
   "cell_type": "code",
   "execution_count": null,
   "metadata": {},
   "outputs": [],
   "source": [
    "a_number = 9"
   ]
  },
  {
   "cell_type": "code",
   "execution_count": null,
   "metadata": {},
   "outputs": [],
   "source": [
    "if a_number % 2 == 0:\n",
    "    # Code to execute if a_number is divisible by 2\n",
    "elif a_number % 3 == 0:\n",
    "    # Code to execute if a_number is divisible by 3 but not divisible by 2\n"
   ]
  },
  {
   "cell_type": "code",
   "execution_count": null,
   "metadata": {},
   "outputs": [],
   "source": [
    "# Check if the number is divisible by 2\n",
    "if a_number % 2 == 0:\n",
    "    pass  # Do nothing if divisible by 2\n",
    "# Check if the number is not divisible by 2 but divisible by 3\n",
    "elif a_number % 3 == 0:\n",
    "    print('{} is divisible by 3 but not divisible by 2'.format(a_number))\n"
   ]
  },
  {
   "cell_type": "code",
   "execution_count": null,
   "metadata": {},
   "outputs": [],
   "source": [
    "if a_number % 2 == 0:\n",
    "    if a_number % 3 == 0:\n",
    "        print('{} is divisible by both 2 and 3')\n",
    "    else:\n",
    "        print('{} is divisible by 2 but not divisible by 3')\n",
    "elif a_number % 3 == 0:\n",
    "    print('{} is divisible by 3 but not divisible by 2')\n"
   ]
  },
  {
   "cell_type": "markdown",
   "metadata": {},
   "source": [
    "## Iteration with `while` loops\n",
    "\n",
    "Another powerful feature of programming languages, closely related to branching, is running one or more statements multiple times. This feature is often referred to as *iteration* on *looping*, and there are two ways to do this in Python: using `while` loops and `for` loops. \n",
    "\n",
    "`while` loops have the following syntax:\n",
    "\n",
    "```\n",
    "while condition:\n",
    "    statement(s)\n",
    "```\n",
    "\n",
    "Statements in the code block under `while` are executed repeatedly as long as the `condition` evaluates to `True`. Generally, one of the statements under `while` makes some change to a variable that causes the condition to evaluate to `False` after a certain number of iterations.\n",
    "\n",
    "Let's try to calculate the factorial of `100` using a `while` loop. The factorial of a number `n` is the product (multiplication) of all the numbers from `1` to `n`, i.e., `1*2*3*...*(n-2)*(n-1)*n`."
   ]
  },
  {
   "cell_type": "code",
   "execution_count": null,
   "metadata": {},
   "outputs": [],
   "source": [
    "# Initialize variables\n",
    "result = 1\n",
    "i = 1\n",
    "\n",
    "# Calculate the factorial using a while loop\n",
    "while i <= 100:\n",
    "    result = result * i\n",
    "    i = i + 1\n",
    "\n",
    "# Print the result\n",
    "print('The factorial of 100 is: {}'.format(result))\n"
   ]
  },
  {
   "cell_type": "markdown",
   "metadata": {},
   "source": [
    "Here's how the above code works:\n",
    "\n",
    "* We initialize two variables, `result` and, `i`. `result` will contain the final outcome. And `i` is used to keep track of the next number to be multiplied with `result`. Both are initialized to 1 (can you explain why?)\n",
    "\n",
    "* The condition `i <= 100` holds true (since `i` is initially `1`), so the `while` block is executed.\n",
    "\n",
    "* The `result` is updated to `result * i`, `i` is increased by `1` and it now has the value `2`.\n",
    "\n",
    "* At this point, the condition `i <= 100` is evaluated again. Since it continues to hold true, `result` is again updated to `result * i`, and `i` is increased to `3`.\n",
    "\n",
    "* This process is repeated till the condition becomes false, which happens when `i` holds the value `101`. Once the condition evaluates to `False`, the execution of the loop ends, and the `print` statement below it is executed. \n",
    "\n",
    "Can you see why `result` contains the value of the factorial of 100 at the end? If not, try adding `print` statements inside the `while` block to print `result` and `i` in each iteration.\n",
    "\n",
    "\n",
    "> Iteration is a powerful technique because it gives computers a massive advantage over human beings in performing thousands or even millions of repetitive operations really fast. With just 4-5 lines of code, we were able to multiply 100 numbers almost instantly. The same code can be used to multiply a thousand numbers (just change the condition to `i <= 1000`) in a few seconds.\n",
    "\n",
    "You can check how long a cell takes to execute by adding the *magic* command `%%time` at the top of a cell. Try checking how long it takes to compute the factorial of `100`, `1000`, `10000`, `100000`, etc. "
   ]
  },
  {
   "cell_type": "code",
   "execution_count": null,
   "metadata": {},
   "outputs": [],
   "source": [
    "# Initialize variables\n",
    "result = 1\n",
    "i = 1\n",
    "\n",
    "# Calculate the sum using a while loop\n",
    "while i <= 100:\n",
    "    result = result + i\n",
    "    i = i + 1\n",
    "\n",
    "# Print the result\n",
    "print('The sum of numbers from 1 to 100 is: {}'.format(result))\n"
   ]
  },
  {
   "cell_type": "markdown",
   "metadata": {},
   "source": [
    "\n",
    "## Explaining the While Loop Code\n",
    "\n",
    "### Initialization\n",
    "We begin by initializing two variables: `result` and `i`. \n",
    "```python\n",
    "result = 1\n",
    "i = 1\n",
    "```\n",
    "`result` will contain the final outcome, and `i` is used to keep track of the next number to be multiplied with `result`. Both are initialized to 1.\n",
    "\n",
    "### While Loop Execution\n",
    "1. The condition `i <= 100` holds true (since `i` is initially 1), so the while block is executed.\n",
    "2. Inside the loop, `result` is updated to `result * i`, and `i` is increased by 1.\n",
    "3. The condition `i <= 100` is evaluated again. Since it continues to hold true, the loop iterates, updating `result` with each multiplication until `i` reaches 101.\n",
    "4. Once the condition evaluates to False, the execution of the loop ends.\n",
    "\n",
    "### Final Result\n",
    "The print statement below the loop prints the final result.\n",
    "```python\n",
    "print('The sum of numbers from 1 to 100 is: {}'.format(result))\n",
    "```\n",
    "\n",
    "### Analysis\n",
    "- The result contains the sum of numbers from 1 to 100.\n",
    "- Iteration is powerful, allowing computers to perform repetitive operations quickly.\n",
    "- The same code can be used for different ranges (e.g., 1 to 1000) by changing the condition.\n",
    "\n",
    "### Optimization Tip\n",
    "You can check the execution time of a cell using the magic command `%%time` at the top of the cell. Try checking the time it takes to compute the sum for different ranges (e.g., 100, 1000, 10000, 100000).\n",
    "```\n",
    "\n",
    "Feel free to ask if you have any questions or if there's anything else you'd like to add!"
   ]
  },
  {
   "cell_type": "code",
   "execution_count": null,
   "metadata": {},
   "outputs": [],
   "source": [
    "%%time\n",
    "\n",
    "# Initialize variables\n",
    "result = 1\n",
    "i = 1\n",
    "\n",
    "# Perform factorial calculation using a while loop\n",
    "while i <= 1000:\n",
    "    result *= i  # Equivalent to result = result * i\n",
    "    i += 1       # Equivalent to i = i + 1\n",
    "\n",
    "# Display the result\n",
    "print(result)\n",
    "\n"
   ]
  },
  {
   "cell_type": "markdown",
   "metadata": {},
   "source": [
    "Here's another example that uses two `while` loops to create an interesting pattern."
   ]
  },
  {
   "cell_type": "code",
   "execution_count": null,
   "metadata": {},
   "outputs": [],
   "source": [
    "# Initialize variables\n",
    "line = '*'\n",
    "max_length = 10\n",
    "\n",
    "# Ascending loop\n",
    "while len(line) < max_length:\n",
    "    print(line)\n",
    "    line += \"*\"\n",
    "\n",
    "# Descending loop\n",
    "while len(line) > 0:\n",
    "    print(line)\n",
    "    line = line[:-1]\n"
   ]
  },
  {
   "cell_type": "markdown",
   "metadata": {},
   "source": [
    "Can you see how the above example works? As an exercise, try printing the following pattern using a while loop (Hint: use string concatenation):\n",
    "\n",
    "```\n",
    "          *\n",
    "         **\n",
    "        ***\n",
    "       ****\n",
    "      *****\n",
    "     ******\n",
    "      *****\n",
    "       ****\n",
    "        ***\n",
    "         **\n",
    "          *\n",
    "```\n",
    "\n",
    "Here's another one, putting the two together:\n",
    "\n",
    "\n",
    "```\n",
    "          *\n",
    "         ***\n",
    "        *****\n",
    "       *******\n",
    "      *********\n",
    "     ***********\n",
    "      *********\n",
    "       *******\n",
    "        *****\n",
    "         ***\n",
    "          *\n",
    "```\n",
    "\n",
    "Watch this playlist to learn how to create the above patterns: https://www.youtube.com/watch?v=2Icpbawb-vw&list=PLyMom0n-MBrpVcMqVV9kbA-hq2ygir0uW"
   ]
  },
  {
   "cell_type": "code",
   "execution_count": null,
   "metadata": {
    "scrolled": true
   },
   "outputs": [],
   "source": [
    "# Function to print the pattern\n",
    "def print_pattern(rows):\n",
    "    for i in range(1, rows + 1):\n",
    "        print(\" \" * (rows - i) + \"*\" * i)\n",
    "\n",
    "    for i in range(rows - 1, 0, -1):\n",
    "        print(\" \" * (rows - i) + \"*\" * i)\n",
    "\n",
    "# Set the number of rows\n",
    "rows = 6\n",
    "\n",
    "# Call the function with the specified number of rows\n",
    "print_pattern(rows)\n"
   ]
  },
  {
   "cell_type": "code",
   "execution_count": null,
   "metadata": {},
   "outputs": [],
   "source": [
    "# Function to print the pattern\n",
    "def print_pattern(rows):\n",
    "    for i in range(1, rows + 1, 2):\n",
    "        print(\" \" * ((rows - i) // 2) + \"*\" * i)\n",
    "\n",
    "    for i in range(rows - 2, 0, -2):\n",
    "        print(\" \" * ((rows - i) // 2) + \"*\" * i)\n",
    "\n",
    "# Set the number of rows\n",
    "rows = 9\n",
    "\n",
    "# Call the function with the specified number of rows\n",
    "print_pattern(rows)\n"
   ]
  },
  {
   "cell_type": "markdown",
   "metadata": {},
   "source": [
    "### Infinite Loops\n",
    "\n",
    "Suppose the condition in a `while` loop always holds true. In that case, Python repeatedly executes the code within the loop forever, and the execution of the code never completes. This situation is called an infinite loop. It generally indicates that you've made a mistake in your code. For example, you may have provided the wrong condition or forgotten to update a variable within the loop, eventually falsifying the condition.\n",
    "\n",
    "If your code is *stuck* in an infinite loop during execution, just press the \"Stop\" button on the toolbar (next to \"Run\") or select \"Kernel > Interrupt\" from the menu bar. This will *interrupt* the execution of the code. The following two cells both lead to infinite loops and need to be interrupted."
   ]
  },
  {
   "cell_type": "code",
   "execution_count": null,
   "metadata": {},
   "outputs": [],
   "source": [
    "# INFINITE LOOP - INTERRUPT THIS CELL\n",
    "\n",
    "result = 1\n",
    "i = 1\n",
    "\n",
    "while i <= 100:\n",
    "    result = result * i\n",
    "    # forgot to increment i"
   ]
  },
  {
   "cell_type": "code",
   "execution_count": null,
   "metadata": {},
   "outputs": [],
   "source": [
    "# INFINITE LOOP - INTERRUPT THIS CELL\n",
    "\n",
    "result = 1\n",
    "i = 1\n",
    "\n",
    "while i <= 100:\n",
    "    result = result * i\n",
    "    i += 1  # Increment i to avoid infinite loop\n"
   ]
  },
  {
   "cell_type": "code",
   "execution_count": null,
   "metadata": {},
   "outputs": [],
   "source": [
    "# INFINITE LOOP - INTERRUPT THIS CELL\n",
    "\n",
    "result = 1\n",
    "i = 1\n",
    "\n",
    "# This while loop calculates the factorial of 100\n",
    "# However, there's a missing increment of i, leading to an infinite loop\n",
    "while i <= 100:\n",
    "    result = result * i\n",
    "    # The line below is necessary to avoid an infinite loop\n",
    "    i += 1\n"
   ]
  },
  {
   "cell_type": "code",
   "execution_count": null,
   "metadata": {},
   "outputs": [],
   "source": [
    "# INFINITE LOOP - INTERRUPT THIS CELL\n",
    "\n",
    "result = 1\n",
    "i = 1\n",
    "\n",
    "while i > 0 : # wrong condition\n",
    "    result *= i\n",
    "    i += 1"
   ]
  },
  {
   "cell_type": "code",
   "execution_count": null,
   "metadata": {},
   "outputs": [],
   "source": [
    "# INFINITE LOOP - INTERRUPT THIS CELL\n",
    "\n",
    "result = 1\n",
    "i = 1\n",
    "\n",
    "while i <= 100:\n",
    "    result = result * i\n",
    "    i += 1  # Increment i to avoid infinite loop\n"
   ]
  },
  {
   "cell_type": "markdown",
   "metadata": {},
   "source": [
    "### `break` and `continue` statements\n",
    "\n",
    "You can use the `break` statement within the loop's body to immediately stop the execution and *break* out of the loop (even if the condition provided to `while` still holds true)."
   ]
  },
  {
   "cell_type": "code",
   "execution_count": null,
   "metadata": {},
   "outputs": [],
   "source": [
    "i = 1\n",
    "result = 1\n",
    "\n",
    "# This while loop calculates the factorial of 100 with a break statement\n",
    "while i <= 100:\n",
    "    result *= i\n",
    "    # Check if i is equal to 42\n",
    "    if i == 42:\n",
    "        print('Magic number 42 reached! Stopping execution..')\n",
    "        break\n",
    "    i += 1\n",
    "\n",
    "# Print the values of i and result after the loop\n",
    "print('i:', i)\n",
    "print('result:', result)\n"
   ]
  },
  {
   "cell_type": "markdown",
   "metadata": {},
   "source": [
    "As you can see above, the value of `i` at the end of execution is 42. This example also shows how you can use an `if` statement within a `while` loop.\n",
    "\n",
    "Sometimes you may not want to end the loop entirely, but simply skip the remaining statements in the loop and *continue* to the next loop. You can do this using the `continue` statement."
   ]
  },
  {
   "cell_type": "code",
   "execution_count": null,
   "metadata": {},
   "outputs": [],
   "source": [
    "i = 1\n",
    "result = 1\n",
    "\n",
    "# This while loop multiplies numbers from 1 to 20, skipping even numbers\n",
    "while i < 20:\n",
    "    i += 1\n",
    "    # Check if i is even\n",
    "    if i % 2 == 0:\n",
    "        print('Skipping {}'.format(i))\n",
    "        continue\n",
    "    print('Multiplying with {}'.format(i))\n",
    "    result = result * i\n",
    "\n",
    "# Print the values of i and result after the loop\n",
    "print('i:', i)\n",
    "print('result:', result)\n"
   ]
  },
  {
   "cell_type": "markdown",
   "metadata": {},
   "source": [
    "In the example above, the statement `result = result * i` inside the loop is skipped when `i` is even, as indicated by the messages printed during execution.\n",
    "\n",
    "> **Logging**: The process of adding `print` statements at different points in the code (often within loops and conditional statements) for inspecting the values of variables at various stages of execution is called logging. As our programs get larger, they naturally become prone to human errors. Logging can help in verifying the program is working as expected. In many cases, `print` statements are added while writing & testing some code and are removed later."
   ]
  },
  {
   "cell_type": "markdown",
   "metadata": {},
   "source": [
    "## Iteration with `for` loops\n",
    "\n",
    "A `for` loop is used for iterating or looping over sequences, i.e., lists, tuples, dictionaries, strings, and *ranges*. For loops have the following syntax:\n",
    "\n",
    "```\n",
    "for value in sequence:\n",
    "    statement(s)\n",
    "```\n",
    "\n",
    "The statements within the loop are executed once for each element in `sequence`. Here's an example that prints all the element of a list."
   ]
  },
  {
   "cell_type": "code",
   "execution_count": null,
   "metadata": {},
   "outputs": [],
   "source": [
    " days = ['Monday', 'Tuesday', 'Wednesday', 'Thursday', 'Friday']\n",
    "\n",
    "# Loop through each day in the list and print it\n",
    "for day in days:\n",
    "    print(day)\n"
   ]
  },
  {
   "cell_type": "markdown",
   "metadata": {},
   "source": [
    "Let's try using `for` loops with some other data types."
   ]
  },
  {
   "cell_type": "code",
   "execution_count": null,
   "metadata": {},
   "outputs": [],
   "source": [
    "# Looping over a string\n",
    "for char in 'Monday':\n",
    "    print(char)\n"
   ]
  },
  {
   "cell_type": "code",
   "execution_count": null,
   "metadata": {},
   "outputs": [],
   "source": [
    "# Looping over a tuple\n",
    "for fruit in ('Apple', 'Banana', 'Guava'):\n",
    "    print(\"Here's a fruit:\", fruit)\n"
   ]
  },
  {
   "cell_type": "code",
   "execution_count": null,
   "metadata": {},
   "outputs": [],
   "source": [
    "# Looping over a dictionary\n",
    "person = {\n",
    "    'name': 'John Doe',\n",
    "    'sex': 'Male',\n",
    "    'age': 32,\n",
    "    'married': True\n",
    "}\n",
    "\n",
    "for key in person:\n",
    "    print(\"Key:\", key, \",\", \"Value:\", person[key])\n"
   ]
  },
  {
   "cell_type": "markdown",
   "metadata": {},
   "source": [
    "Note that while using a dictionary with a `for` loop, the iteration happens over the dictionary's keys. The key can be used within the loop to access the value. You can also iterate directly over the values using the `.values` method or over key-value pairs using the `.items` method."
   ]
  },
  {
   "cell_type": "code",
   "execution_count": null,
   "metadata": {},
   "outputs": [],
   "source": [
    "# Looping through the values of the 'person' dictionary and printing each value\n",
    "for value in person.values():\n",
    "    print(value)\n"
   ]
  },
  {
   "cell_type": "code",
   "execution_count": null,
   "metadata": {},
   "outputs": [],
   "source": [
    "# Looping through the key-value pairs of the 'person' dictionary and printing each pair\n",
    "for key_value_pair in person.items():\n",
    "    print(key_value_pair)\n"
   ]
  },
  {
   "cell_type": "markdown",
   "metadata": {},
   "source": [
    "Since a key-value pair is a tuple, we can also extract the key & value into separate variables."
   ]
  },
  {
   "cell_type": "code",
   "execution_count": null,
   "metadata": {},
   "outputs": [],
   "source": [
    "# Looping through the key-value pairs of the 'person' dictionary and printing each key and value separately\n",
    "for key, value in person.items():\n",
    "    print(\"Key:\", key, \",\", \"Value:\", value)\n"
   ]
  },
  {
   "cell_type": "markdown",
   "metadata": {},
   "source": [
    "### Iterating using `range` and `enumerate`\n",
    "\n",
    "The `range` function is used to create a sequence of numbers that can be iterated over using a `for` loop. It can be used in 3 ways:\n",
    " \n",
    "* `range(n)` - Creates a sequence of numbers from `0` to `n-1`\n",
    "* `range(a, b)` - Creates a sequence of numbers from `a` to `b-1`\n",
    "* `range(a, b, step)` - Creates a sequence of numbers from `a` to `b-1` with increments of `step`\n",
    "\n",
    "Let's try it out."
   ]
  },
  {
   "cell_type": "code",
   "execution_count": null,
   "metadata": {},
   "outputs": [],
   "source": [
    "# Loop through values from 0 to 6 and print each value\n",
    "for i in range(7):\n",
    "    print(i)\n"
   ]
  },
  {
   "cell_type": "code",
   "execution_count": null,
   "metadata": {},
   "outputs": [],
   "source": [
    "# Loop through values from 3 to 9 and print each value\n",
    "for i in range(3, 10):\n",
    "    print(i)\n"
   ]
  },
  {
   "cell_type": "code",
   "execution_count": null,
   "metadata": {},
   "outputs": [],
   "source": [
    "# Loop through values starting from 3, incrementing by 4, until reaching or exceeding 14, and print each value\n",
    "for i in range(3, 14, 4):\n",
    "    print(i)\n"
   ]
  },
  {
   "cell_type": "markdown",
   "metadata": {},
   "source": [
    "Ranges are used for iterating over lists when you need to track the index of elements while iterating."
   ]
  },
  {
   "cell_type": "code",
   "execution_count": null,
   "metadata": {},
   "outputs": [],
   "source": [
    "# Loop through the indices and values of a_list and print a message for each element\n",
    "a_list = ['Monday', 'Tuesday', 'Wednesday', 'Thursday', 'Friday']\n",
    "for i in range(len(a_list)):\n",
    "    print('The value at position {} is {}.'.format(i, a_list[i]))\n"
   ]
  },
  {
   "cell_type": "markdown",
   "metadata": {},
   "source": [
    "Another way to achieve the same result is by using the `enumerate` function with `a_list` as an input, which returns a tuple containing the index and the corresponding element."
   ]
  },
  {
   "cell_type": "code",
   "execution_count": null,
   "metadata": {},
   "outputs": [],
   "source": [
    "# Loop through the indices and values of a_list using enumerate and print a message for each element\n",
    "a_list = ['Monday', 'Tuesday', 'Wednesday', 'Thursday', 'Friday']\n",
    "for i, val in enumerate(a_list):\n",
    "    print('The value at position {} is {}.'.format(i, val))\n"
   ]
  },
  {
   "cell_type": "markdown",
   "metadata": {},
   "source": [
    "### `break`, `continue` and `pass` statements\n",
    "\n",
    "Similar to `while` loops, `for` loops also support the `break` and `continue` statements. `break` is used for breaking out of the loop and `continue` is used for skipping ahead to the next iteration."
   ]
  },
  {
   "cell_type": "code",
   "execution_count": null,
   "metadata": {},
   "outputs": [],
   "source": [
    "# Defining a list named 'weekdays' containing the days of the week\n",
    "weekdays = ['Monday', 'Tuesday', 'Wednesday', 'Thursday', 'Friday']\n"
   ]
  },
  {
   "cell_type": "code",
   "execution_count": null,
   "metadata": {},
   "outputs": [],
   "source": [
    "# Looping through the 'weekdays' list and printing each day\n",
    "for day in weekdays:\n",
    "    print('Today is {}'.format(day))\n",
    "    \n",
    "    # Checking if the current day is 'Wednesday'\n",
    "    if (day == 'Wednesday'):\n",
    "        print(\"I don't work beyond Wednesday!\")\n",
    "        \n",
    "        # Exiting the loop using 'break' when 'Wednesday' is reached\n",
    "        break\n"
   ]
  },
  {
   "cell_type": "code",
   "execution_count": null,
   "metadata": {},
   "outputs": [],
   "source": [
    "# Looping through the 'weekdays' list and printing each day\n",
    "for day in weekdays:\n",
    "    \n",
    "    # Checking if the current day is 'Wednesday'\n",
    "    if (day == 'Wednesday'):\n",
    "        print(\"I don't work on Wednesday!\")\n",
    "        \n",
    "        # Skipping the rest of the loop and continuing with the next iteration\n",
    "        continue\n",
    "    \n",
    "    # Printing the current day if it's not 'Wednesday'\n",
    "    print('Today is {}'.format(day))\n"
   ]
  },
  {
   "cell_type": "markdown",
   "metadata": {},
   "source": [
    "Like `if` statements, `for` loops cannot be empty, so you can use a `pass` statement if you don't want to execute any statements inside the loop."
   ]
  },
  {
   "cell_type": "code",
   "execution_count": null,
   "metadata": {},
   "outputs": [],
   "source": [
    "# Looping through the 'weekdays' list without performing any action in the loop\n",
    "for day in weekdays:\n",
    "    pass\n"
   ]
  },
  {
   "cell_type": "markdown",
   "metadata": {},
   "source": [
    "### Nested `for` and `while` loops\n",
    "\n",
    "Similar to conditional statements, loops can be nested inside other loops. This is useful for looping lists of lists, dictionaries etc."
   ]
  },
  {
   "cell_type": "code",
   "execution_count": null,
   "metadata": {},
   "outputs": [],
   "source": [
    "# Looping through a list of dictionaries and printing each key-value pair\n",
    "persons = [{'name': 'John', 'sex': 'Male'}, {'name': 'Jane', 'sex': 'Female'}]\n",
    "\n",
    "for person in persons:\n",
    "    for key in person:\n",
    "        print(key, \":\", person[key])\n",
    "    print(\" \")\n"
   ]
  },
  {
   "cell_type": "code",
   "execution_count": null,
   "metadata": {},
   "outputs": [],
   "source": [
    "# Nested loop to iterate over each day and each fruit\n",
    "days = ['Monday', 'Tuesday', 'Wednesday']\n",
    "fruits = ['apple', 'banana', 'guava']\n",
    "\n",
    "for day in days:\n",
    "    for fruit in fruits:\n",
    "        print(day, fruit)\n"
   ]
  },
  {
   "cell_type": "markdown",
   "metadata": {},
   "source": [
    "With this, we conclude our discussion of branching and loops in Python."
   ]
  },
  {
   "cell_type": "markdown",
   "metadata": {},
   "source": [
    "## Further Reading and References\n",
    "\n",
    "We've covered a lot of ground in just 3 tutorials. \n",
    "\n",
    "Following are some resources to learn about more about conditional statements and loops in Python:\n",
    "\n",
    "* Python Tutorial at W3Schools: https://www.w3schools.com/python/\n",
    "* Practical Python Programming: https://dabeaz-course.github.io/practical-python/Notes/Contents.html\n",
    "* Python official documentation: https://docs.python.org/3/tutorial/index.html\n",
    "\n",
    "You are now ready to move on to the next tutorial: [Writing Reusable Code Using Functions in Python](https://jovian.ai/aakashns/python-functions-and-scope)\n",
    "\n"
   ]
  },
  {
   "cell_type": "markdown",
   "metadata": {},
   "source": [
    "## Questions for Revision\n",
    "\n",
    "Try answering the following questions to test your understanding of the topics covered in this notebook:\n",
    "\n",
    "1. What is branching in programming languages?\n",
    "2. What is the purpose of the `if` statement in Python?\n",
    "3. What is the syntax of the `if` statement? Give an example.\n",
    "4. What is indentation? Why is it used?\n",
    "5. What is an indented block of statements?\n",
    "6. How do you perform indentation in Python?\n",
    "7. What happens if some code is not indented correctly?\n",
    "8. What happens when the condition within the `if` statement evaluates to `True`? What happens if the condition evaluates for `false`?\n",
    "9. How do you check if a number is even?\n",
    "10. What is the purpose of the `else` statement in Python?\n",
    "11. What is the syntax of the `else` statement? Give an example.\n",
    "12. Write a program that prints different messages based on whether a number is positive or negative.\n",
    "13. Can the `else` statement be used without an `if` statement?\n",
    "14. What is the purpose of the `elif` statement in Python?\n",
    "15. What is the syntax of the `elif` statement? Give an example.\n",
    "16. Write a program that prints different messages for different months of the year.\n",
    "17. Write a program that uses `if`, `elif`, and `else` statements together.\n",
    "18. Can the `elif` statement be used without an `if` statement?\n",
    "19. Can the `elif` statement be used without an `else` statement?\n",
    "20. What is the difference between a chain of `if`, `elif`, `elif`… statements and a chain of `if`, `if`, `if`… statements? Give an example.\n",
    "21. Can non-boolean conditions be used with `if` statements? Give some examples.\n",
    "22. What are nested conditional statements? How are they useful?\n",
    "23. Give an example of nested conditional statements.\n",
    "24. Why is it advisable to avoid nested conditional statements?\n",
    "25. What is the shorthand `if` conditional expression? \n",
    "26. What is the syntax of the shorthand `if` conditional expression? Give an example.\n",
    "27. What is the difference between the shorthand `if` expression and the regular `if` statement?\n",
    "28. What is a statement in Python?\n",
    "29. What is an expression in Python?\n",
    "30. What is the difference between statements and expressions?\n",
    "31. Is every statement an expression? Give an example or counterexample.\n",
    "32. Is every expression a statement? Give an example or counterexample.\n",
    "33. What is the purpose of the pass statement in `if` blocks?\n",
    "34. What is iteration or looping in programming languages? Why is it useful?\n",
    "35. What are the two ways for performing iteration in Python?\n",
    "36. What is the purpose of the `while` statement in Python?\n",
    "37. What is the syntax of the `white` statement in Python? Give an example.\n",
    "38. Write a program to compute the sum of the numbers 1 to 100 using a while loop. \n",
    "39. Repeat the above program for numbers up to 1000, 10000, and 100000. How long does it take each loop to complete?\n",
    "40. What is an infinite loop?\n",
    "41. What causes a program to enter an infinite loop?\n",
    "42. How do you interrupt an infinite loop within Jupyter?\n",
    "43. What is the purpose of the `break` statement in Python? \n",
    "44. Give an example of using a `break` statement within a while loop.\n",
    "45. What is the purpose of the `continue` statement in Python?\n",
    "46. Give an example of using the `continue` statement within a while loop.\n",
    "47. What is logging? How is it useful?\n",
    "48. What is the purpose of the `for` statement in Python?\n",
    "49. What is the syntax of `for` loops? Give an example.\n",
    "50. How are for loops and while loops different?\n",
    "51. How do you loop over a string? Give an example.\n",
    "52. How do you loop over a list? Give an example.\n",
    "53. How do you loop over a tuple? Give an example.\n",
    "54. How do you loop over a dictionary? Give an example.\n",
    "55. What is the purpose of the `range` statement? Give an example.\n",
    "56. What is the purpose of the `enumerate` statement? Give an example.\n",
    "57. How are the `break`, `continue`, and `pass` statements used in for loops? Give examples.\n",
    "58. Can loops be nested within other loops? How is nesting useful?\n",
    "59. Give an example of a for loop nested within another for loop.\n",
    "60. Give an example of a while loop nested within another while loop.\n",
    "61. Give an example of a for loop nested within a while loop.\n",
    "62. Give an example of a while loop nested within a for loop.\n",
    "\n"
   ]
  },
  {
   "cell_type": "code",
   "execution_count": null,
   "metadata": {},
   "outputs": [],
   "source": []
  }
 ],
 "metadata": {
  "kernelspec": {
   "display_name": "Python 3 (ipykernel)",
   "language": "python",
   "name": "python3"
  },
  "language_info": {
   "codemirror_mode": {
    "name": "ipython",
    "version": 3
   },
   "file_extension": ".py",
   "mimetype": "text/x-python",
   "name": "python",
   "nbconvert_exporter": "python",
   "pygments_lexer": "ipython3",
   "version": "3.12.0"
  }
 },
 "nbformat": 4,
 "nbformat_minor": 4
}
