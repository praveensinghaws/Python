{
 "cells": [
  {
   "cell_type": "markdown",
   "id": "5884bfda-7b37-40f6-9406-75041465c070",
   "metadata": {},
   "source": [
    "# Data Manipulation Survey Monkey Dataset"
   ]
  },
  {
   "cell_type": "markdown",
   "id": "2385615d-f5dc-4929-b90c-d444a4c4dcbf",
   "metadata": {},
   "source": [
    "### Step 1: Loading necessary libraries and reading the Survey Monkey dataset"
   ]
  },
  {
   "cell_type": "code",
   "execution_count": 1,
   "id": "e82b42f0-845c-472d-9009-b006c8687898",
   "metadata": {},
   "outputs": [],
   "source": [
    "import pandas as pd\n",
    "import os\n",
    "\n",
    "# Get the current working directory\n",
    "pwd = os.getcwd()\n",
    "\n",
    "# Read the Excel file into a DataFrame\n",
    "df = pd.read_excel(pwd + \"/Data - Survey Monkey Output Edited.xlsx\", sheet_name=\"Edited_Data\")\n",
    "\n",
    "# Creating a copy of the original DataFrame\n",
    "df_modified = df.copy()"
   ]
  },
  {
   "cell_type": "markdown",
   "id": "c841939c-0b31-4a53-a32e-d69be28ebb69",
   "metadata": {},
   "source": [
    "### Step 2: Dropping unnecessary columns from the modified DataFrame"
   ]
  },
  {
   "cell_type": "code",
   "execution_count": 2,
   "id": "411b65ee-5406-406d-b697-abe9545920f1",
   "metadata": {},
   "outputs": [],
   "source": [
    "# Selecting columns to drop\n",
    "drop_columns = list(df_modified.columns)[1:7]\n",
    "\n",
    "# Dropping selected columns from the modified DataFrame\n",
    "df_modified.drop(columns=drop_columns, inplace=True)"
   ]
  },
  {
   "cell_type": "markdown",
   "id": "662b6de9-c492-493f-9849-534e8e308dab",
   "metadata": {},
   "source": [
    "### Step 3: Reshaping the DataFrame using pd.melt"
   ]
  },
  {
   "cell_type": "code",
   "execution_count": 3,
   "id": "3903cc5b-5e5d-4c53-9ff6-cf97a4d12db0",
   "metadata": {},
   "outputs": [],
   "source": [
    "# Selecting columns to be melted (values)\n",
    "value_vars = df_modified.columns[8:]\n",
    "\n",
    "# Selecting columns to be kept as identifiers\n",
    "id_vars = df_modified.columns[:8]\n",
    "\n",
    "# Using pd.melt to reshape the DataFrame\n",
    "df_melted = pd.melt(df_modified, id_vars=id_vars, value_vars=value_vars, var_name='Question + Subquestion', value_name='Answer', col_level=None)\n"
   ]
  },
  {
   "cell_type": "markdown",
   "id": "507b9d5f-95cd-466c-9d6f-f8a5a4a769e7",
   "metadata": {},
   "source": [
    "### Step 4: Preparing the 'question' DataFrame for merging"
   ]
  },
  {
   "cell_type": "code",
   "execution_count": 4,
   "id": "bae1c3a4-9919-4062-880f-5356bc25c4b5",
   "metadata": {},
   "outputs": [],
   "source": [
    "# Reading the 'Question' sheet from the Excel file into a DataFrame\n",
    "question_imported = pd.read_excel(pwd + \"/Data - Survey Monkey Output Edited.xlsx\", sheet_name=\"Question\")\n",
    "\n",
    "# Creating a copy of the DataFrame for further processing\n",
    "question = question_imported\n",
    "\n",
    "# Dropping unnecessary columns from the DataFrame\n",
    "question.drop(columns=[\"Raw Question\", \"Raw Subquestion\", \"Subquestion\"], inplace=True)\n"
   ]
  },
  {
   "cell_type": "markdown",
   "id": "39190d5e-77dd-453d-bd2b-ca7d930dbb86",
   "metadata": {},
   "source": [
    "### Step 5: Merging the melted DataFrame with the 'question' DataFrame"
   ]
  },
  {
   "cell_type": "code",
   "execution_count": 5,
   "id": "36f593bb-c3e4-417f-b79d-50605cf42ac4",
   "metadata": {},
   "outputs": [],
   "source": [
    "df_merged = pd.merge(left=df_melted, right=question, how='left', left_on='Question + Subquestion', right_on='Question + Subquestion')\n",
    "\n",
    "# Creating a subset 'respondents' from the merged DataFrame where the 'Answer' column is not null\n",
    "respondents = df_merged[df_merged[\"Answer\"].notna()]\n",
    "\n",
    "# Grouping the 'respondents' DataFrame by \"Question\" and counting unique Respondent IDs\n",
    "respondents = respondents.groupby([\"Question\"])[\"Respondent ID\"].nunique().reset_index()\n",
    "\n",
    "# Renaming the column to 'Respondents'\n",
    "respondents.rename(columns={\"Respondent ID\": \"Respondents\"}, inplace=True)"
   ]
  },
  {
   "cell_type": "markdown",
   "id": "76783b18-985d-4939-a03f-92c1c53b461b",
   "metadata": {},
   "source": [
    "### Step 6: Further merging with additional respondent information"
   ]
  },
  {
   "cell_type": "code",
   "execution_count": 6,
   "id": "87e6f689-5342-471c-a127-6328597c2a98",
   "metadata": {},
   "outputs": [],
   "source": [
    "# Merging the previously merged DataFrame 'df_merged' with the 'respondents' DataFrame on the 'Question' column\n",
    "df_merged_two = pd.merge(left=df_merged, right=respondents, how='left', left_on='Question', right_on='Question')\n",
    "\n",
    "# Creating a subset 'same_answer' from the second merged DataFrame where the 'Answer' column is not null\n",
    "same_answer = df_merged_two[df_merged_two[\"Answer\"].notna()]\n",
    "\n",
    "# Grouping the 'same_answer' DataFrame by \"Question + Subquestion\" and \"Answer\", counting unique Respondent IDs\n",
    "same_answer = same_answer.groupby([\"Question + Subquestion\", \"Answer\"])[\"Respondent ID\"].nunique().reset_index()\n",
    "\n",
    "# Renaming the column to 'Same Answer'\n",
    "same_answer.rename(columns={\"Respondent ID\": \"Same Answer\"}, inplace=True)\n"
   ]
  },
  {
   "cell_type": "markdown",
   "id": "baf76725-ae3f-4fcf-857c-5c4b616e9ffb",
   "metadata": {},
   "source": [
    "### Step 7: Merging the second merged DataFrame with 'same_answer' information"
   ]
  },
  {
   "cell_type": "code",
   "execution_count": 7,
   "id": "2ef7d721-125c-42b6-ad72-03db0f23fe9c",
   "metadata": {},
   "outputs": [],
   "source": [
    "# Merging the previously merged DataFrame 'df_merged_two' with the 'same_answer' DataFrame\n",
    "df_merged_three = pd.merge(left=df_merged_two, right=same_answer, how='left', left_on=[\"Question + Subquestion\", \"Answer\"], right_on=[\"Question + Subquestion\", \"Answer\"])\n",
    "\n",
    "# Correcting the chained assignment warning by using the original DataFrame and avoiding inplace\n",
    "df_merged_three[\"Same Answer\"] = df_merged_three[\"Same Answer\"].fillna(0)\n"
   ]
  },
  {
   "cell_type": "markdown",
   "id": "73ceeba1-0584-4ed9-94f0-f7cc42b7e294",
   "metadata": {},
   "source": [
    "### Step 8: Renaming columns for better readability"
   ]
  },
  {
   "cell_type": "code",
   "execution_count": 8,
   "id": "be984064-062a-4359-9592-2112075d70c5",
   "metadata": {},
   "outputs": [],
   "source": [
    "# Creating a dictionary for renaming columns\n",
    "rename_dict = {\"Division Primary\": \"Division Primary\", \"Division Secondary\": \"Division Secondary\", \"Position\": \"Position\",\n",
    "               \"Generation\": \"Generation\", \"Gender\": \"Gender\", \"Tenure\": \"Tenure\", \"Employment Type\": \"Employment Type\"}\n",
    "\n",
    "# Creating a copy of the original DataFrame\n",
    "output = df_merged_three.copy()\n",
    "\n",
    "# Renaming columns using the created dictionary\n",
    "output.rename(columns=rename_dict, inplace=True)\n"
   ]
  },
  {
   "cell_type": "markdown",
   "id": "9b204620-336a-4e9a-a5f8-f247581980c3",
   "metadata": {},
   "source": [
    "### Step 9: Saving the final output to an Excel file"
   ]
  },
  {
   "cell_type": "code",
   "execution_count": 9,
   "id": "b784927c-6729-488c-b885-de1b821de472",
   "metadata": {},
   "outputs": [],
   "source": [
    "import os\n",
    "\n",
    "# Get the current working directory\n",
    "pwd = os.getcwd()\n",
    "\n",
    "# Save the DataFrame to an Excel file\n",
    "output.to_excel(pwd + \"/Final_Output.xlsx\", index=False)\n"
   ]
  },
  {
   "cell_type": "markdown",
   "id": "660bebcf-b5fa-4ff9-9625-f9e1a6647d48",
   "metadata": {},
   "source": [
    "## Summary: \n",
    "The code performs data manipulation and reshaping on a Survey Monkey dataset. It involves dropping unnecessary columns,\n",
    "reshaping using pd.melt, merging with additional question information, and creating a final output. The resulting DataFrame is saved\n",
    "to an Excel file named 'Final_Output.xlsx'."
   ]
  }
 ],
 "metadata": {
  "kernelspec": {
   "display_name": "Python 3 (ipykernel)",
   "language": "python",
   "name": "python3"
  },
  "language_info": {
   "codemirror_mode": {
    "name": "ipython",
    "version": 3
   },
   "file_extension": ".py",
   "mimetype": "text/x-python",
   "name": "python",
   "nbconvert_exporter": "python",
   "pygments_lexer": "ipython3",
   "version": "3.11.8"
  }
 },
 "nbformat": 4,
 "nbformat_minor": 5
}
