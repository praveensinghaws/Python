{
 "cells": [
  {
   "cell_type": "markdown",
   "id": "9a12210a-aaa7-4653-8125-0936cec2e7d1",
   "metadata": {},
   "source": [
    "# Lecture 21. Exception Handling __ Try Except Finally explained in detail!"
   ]
  },
  {
   "cell_type": "code",
   "execution_count": null,
   "id": "2b52515f-e0ab-4ed0-9a58-65fbeaf2e652",
   "metadata": {},
   "outputs": [],
   "source": []
  },
  {
   "cell_type": "code",
   "execution_count": null,
   "id": "406044e3-1251-4f61-8475-c811c4b6b048",
   "metadata": {},
   "outputs": [],
   "source": []
  },
  {
   "cell_type": "code",
   "execution_count": null,
   "id": "99f93043-ad29-431a-aa40-73ddd686ef19",
   "metadata": {},
   "outputs": [],
   "source": []
  },
  {
   "cell_type": "code",
   "execution_count": null,
   "id": "29f0222f-40be-4092-a2b7-e22b3265aa1b",
   "metadata": {},
   "outputs": [],
   "source": []
  },
  {
   "cell_type": "code",
   "execution_count": null,
   "id": "a8601f8a-071e-4d57-9ed8-37bf10acfc47",
   "metadata": {},
   "outputs": [],
   "source": []
  },
  {
   "cell_type": "markdown",
   "id": "9296ae20-306c-49d8-aada-6eab7d5fec83",
   "metadata": {},
   "source": [
    "# Lecture 22. Handling in Python - Reading and writing to files"
   ]
  },
  {
   "cell_type": "code",
   "execution_count": null,
   "id": "cb4f51d8-fea1-472d-9d8b-6cab9de94b28",
   "metadata": {},
   "outputs": [],
   "source": []
  },
  {
   "cell_type": "code",
   "execution_count": null,
   "id": "a2d6dec9-6644-4467-80f1-99fa513bece8",
   "metadata": {},
   "outputs": [],
   "source": []
  },
  {
   "cell_type": "code",
   "execution_count": null,
   "id": "fc88d17e-a4c7-41f8-92c9-b421d49687de",
   "metadata": {},
   "outputs": [],
   "source": []
  },
  {
   "cell_type": "code",
   "execution_count": null,
   "id": "a231ad54-2266-4cf8-b88b-26b575125846",
   "metadata": {},
   "outputs": [],
   "source": []
  },
  {
   "cell_type": "code",
   "execution_count": null,
   "id": "77f697c8-7300-4d67-9af2-58827a253940",
   "metadata": {},
   "outputs": [],
   "source": []
  },
  {
   "cell_type": "code",
   "execution_count": null,
   "id": "09f8cf76-656a-4448-8fee-c5b0712bee33",
   "metadata": {},
   "outputs": [],
   "source": []
  },
  {
   "cell_type": "markdown",
   "id": "519a796e-2795-40ba-81ab-89b02ff6ffd5",
   "metadata": {},
   "source": [
    "# Lecture 23. Complete Numpy from Scratch - Part 1"
   ]
  },
  {
   "cell_type": "code",
   "execution_count": null,
   "id": "dcacd08c-d731-4659-bfb8-fecb12897589",
   "metadata": {},
   "outputs": [],
   "source": []
  },
  {
   "cell_type": "code",
   "execution_count": null,
   "id": "e6d8ffc6-5d87-4e29-b3e9-1bf15dc448dd",
   "metadata": {},
   "outputs": [],
   "source": []
  },
  {
   "cell_type": "code",
   "execution_count": null,
   "id": "7b9dc739-42ab-4463-84af-b287de80dd02",
   "metadata": {},
   "outputs": [],
   "source": []
  },
  {
   "cell_type": "code",
   "execution_count": null,
   "id": "a6b21353-8532-4442-b978-2d199dc5a9ec",
   "metadata": {},
   "outputs": [],
   "source": []
  },
  {
   "cell_type": "code",
   "execution_count": null,
   "id": "d9a918c0-01b8-4844-a306-f76f047c280c",
   "metadata": {},
   "outputs": [],
   "source": []
  },
  {
   "cell_type": "markdown",
   "id": "76890b05-2be0-47b3-b4f1-b3a91e3f30c3",
   "metadata": {},
   "source": [
    "# Lecture 24. Complete Numpy from Scratch - Part 2"
   ]
  },
  {
   "cell_type": "code",
   "execution_count": null,
   "id": "12d1778a-da43-4d2d-8df0-aae6b8b66e09",
   "metadata": {},
   "outputs": [],
   "source": []
  },
  {
   "cell_type": "code",
   "execution_count": null,
   "id": "92c118ba-6437-42c0-8ced-2a7f8389366a",
   "metadata": {},
   "outputs": [],
   "source": []
  },
  {
   "cell_type": "code",
   "execution_count": null,
   "id": "6d1f656a-ed83-420f-a789-f9e433800b6e",
   "metadata": {},
   "outputs": [],
   "source": []
  },
  {
   "cell_type": "code",
   "execution_count": null,
   "id": "9b7721ff-43be-46a4-b7df-c60122e9c4a7",
   "metadata": {},
   "outputs": [],
   "source": []
  },
  {
   "cell_type": "code",
   "execution_count": null,
   "id": "065ca459-a171-4728-a4af-fe144ffac04f",
   "metadata": {},
   "outputs": [],
   "source": []
  },
  {
   "cell_type": "markdown",
   "id": "f0f537d6-9007-402e-be36-4be79dd383ad",
   "metadata": {},
   "source": [
    "# Lecture 25. Complete Numpy from Scratch - Part 3"
   ]
  },
  {
   "cell_type": "code",
   "execution_count": null,
   "id": "5e3511e8-2ca9-46e1-843e-e17e161e1030",
   "metadata": {},
   "outputs": [],
   "source": []
  },
  {
   "cell_type": "code",
   "execution_count": null,
   "id": "d7ec42de-4786-4c29-85e0-3746bd1d3c78",
   "metadata": {},
   "outputs": [],
   "source": []
  },
  {
   "cell_type": "code",
   "execution_count": null,
   "id": "d4235a4f-c471-4cb6-b903-363029556bdc",
   "metadata": {},
   "outputs": [],
   "source": []
  },
  {
   "cell_type": "code",
   "execution_count": null,
   "id": "71323e3a-f5e2-4c1e-b255-80e7ba23d88c",
   "metadata": {},
   "outputs": [],
   "source": []
  },
  {
   "cell_type": "code",
   "execution_count": null,
   "id": "a58098ab-1903-4faa-bbfd-7096e0e53d29",
   "metadata": {},
   "outputs": [],
   "source": []
  },
  {
   "cell_type": "code",
   "execution_count": null,
   "id": "71c0c469-4d66-40b1-9ae7-4846309ce7e8",
   "metadata": {},
   "outputs": [],
   "source": []
  },
  {
   "cell_type": "code",
   "execution_count": null,
   "id": "8d4393af-9aae-4e1d-902a-b32575ede3e0",
   "metadata": {},
   "outputs": [],
   "source": []
  }
 ],
 "metadata": {
  "kernelspec": {
   "display_name": "Python 3 (ipykernel)",
   "language": "python",
   "name": "python3"
  },
  "language_info": {
   "codemirror_mode": {
    "name": "ipython",
    "version": 3
   },
   "file_extension": ".py",
   "mimetype": "text/x-python",
   "name": "python",
   "nbconvert_exporter": "python",
   "pygments_lexer": "ipython3",
   "version": "3.11.2"
  }
 },
 "nbformat": 4,
 "nbformat_minor": 5
}
