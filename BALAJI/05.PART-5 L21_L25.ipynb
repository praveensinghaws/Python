{
 "cells": [
  {
   "cell_type": "markdown",
   "id": "9a12210a-aaa7-4653-8125-0936cec2e7d1",
   "metadata": {},
   "source": [
    "# Lecture 21. Exception Handling __ Try Except Finally explained in detail!\n",
    "\n",
    "## `What are Exceptions?`\r\n",
    "\r\n",
    "1. In Python, an exception is an error that interrupts the normal flow of a program.\r\n",
    "\r\n",
    "2. When Python encounters an error, it halts the current process and passes the error up the call stack until it is handled.\r\n",
    "\r\n",
    "3. If not handled, unhandled exceptions can cause the program to crash.\r\n",
    "\r\n",
    "4. Exceptions could be triggered by logical errors in the code, incorrect user inputs, or external conditions, such as a file not being accessible.\r\n"
   ]
  },
  {
   "cell_type": "code",
   "execution_count": 1,
   "id": "2b52515f-e0ab-4ed0-9a58-65fbeaf2e652",
   "metadata": {},
   "outputs": [
    {
     "name": "stdout",
     "output_type": "stream",
     "text": [
      "Hello World\n"
     ]
    }
   ],
   "source": [
    "print(\"Hello World\")"
   ]
  },
  {
   "cell_type": "code",
   "execution_count": 5,
   "id": "a7e3ea41-a83f-4a63-808a-9c98c930ccf9",
   "metadata": {},
   "outputs": [
    {
     "name": "stdout",
     "output_type": "stream",
     "text": [
      "Hey There\n",
      "Hey There\n",
      "Hey There\n",
      "Hey There\n",
      "Hey There\n",
      "Hey There\n",
      "Hey There\n",
      "Hey There\n",
      "Hey There\n",
      "Hey There\n"
     ]
    }
   ],
   "source": [
    "for i in range(10):\n",
    "    print('Hey There')"
   ]
  },
  {
   "cell_type": "markdown",
   "id": "0d4f3dda-8e61-42c6-8f06-bb3a7e6b3885",
   "metadata": {},
   "source": [
    "## `Syntax Errors`\n",
    "\n",
    "1. Syntax Errors, also known as parsing errors, are the most basic type of error. They occur when the Python parser detects an incorrect statement. These errors are identified before the program actually runs. Common causes of syntax errors include typing mistakes or a misunderstanding of Python syntax.\n",
    "\n",
    "2. Syntax errors are typically easy to resolve during the testing phase.\n",
    "\n",
    "3. Syntax errors are discovered during the compilation process.\n"
   ]
  },
  {
   "cell_type": "code",
   "execution_count": 1,
   "id": "3d1fe4a6-8295-4364-8819-fbdf6948e201",
   "metadata": {
    "jp-MarkdownHeadingCollapsed": true
   },
   "outputs": [
    {
     "name": "stdin",
     "output_type": "stream",
     "text": [
      "Enter a number:  eeee\n"
     ]
    },
    {
     "ename": "ValueError",
     "evalue": "invalid literal for int() with base 10: 'eeee'",
     "output_type": "error",
     "traceback": [
      "\u001b[0;31m---------------------------------------------------------------------------\u001b[0m",
      "\u001b[0;31mValueError\u001b[0m                                Traceback (most recent call last)",
      "Cell \u001b[0;32mIn[1], line 2\u001b[0m\n\u001b[1;32m      1\u001b[0m \u001b[38;5;66;03m# Value Error Example\u001b[39;00m\n\u001b[0;32m----> 2\u001b[0m number \u001b[38;5;241m=\u001b[39m \u001b[38;5;28;43mint\u001b[39;49m\u001b[43m(\u001b[49m\u001b[38;5;28;43minput\u001b[39;49m\u001b[43m(\u001b[49m\u001b[38;5;124;43m\"\u001b[39;49m\u001b[38;5;124;43mEnter a number: \u001b[39;49m\u001b[38;5;124;43m\"\u001b[39;49m\u001b[43m)\u001b[49m\u001b[43m)\u001b[49m  \u001b[38;5;66;03m# Entering a string causes ValueError\u001b[39;00m\n",
      "\u001b[0;31mValueError\u001b[0m: invalid literal for int() with base 10: 'eeee'"
     ]
    }
   ],
   "source": [
    "# Value Error Example\n",
    "number = int(input(\"Enter a number: \"))  # Entering a string causes ValueError"
   ]
  },
  {
   "cell_type": "code",
   "execution_count": null,
   "id": "63c7ccbb-f226-4031-977d-5120ee7f082b",
   "metadata": {},
   "outputs": [],
   "source": []
  },
  {
   "cell_type": "code",
   "execution_count": null,
   "id": "f39d7f5a-3f43-45fb-8080-f1f64a4bcc5f",
   "metadata": {},
   "outputs": [],
   "source": []
  },
  {
   "cell_type": "code",
   "execution_count": null,
   "id": "a76046a5-6129-4f48-a230-1e66dcc2b005",
   "metadata": {},
   "outputs": [],
   "source": []
  },
  {
   "cell_type": "code",
   "execution_count": null,
   "id": "e221ca05-7fc1-4875-8387-ffac52ff175b",
   "metadata": {},
   "outputs": [],
   "source": []
  },
  {
   "cell_type": "code",
   "execution_count": null,
   "id": "4830d709-8541-468b-8df9-d0200f61345e",
   "metadata": {},
   "outputs": [],
   "source": []
  },
  {
   "cell_type": "code",
   "execution_count": null,
   "id": "550b49a6-a71a-44b9-8b79-0c92b9693c93",
   "metadata": {},
   "outputs": [],
   "source": []
  },
  {
   "cell_type": "code",
   "execution_count": null,
   "id": "fa07ebd6-9da6-4b15-be74-8548240a5150",
   "metadata": {},
   "outputs": [],
   "source": []
  },
  {
   "cell_type": "code",
   "execution_count": null,
   "id": "7119eb9b-06ae-4ca2-a966-32290e4b21c1",
   "metadata": {},
   "outputs": [],
   "source": []
  },
  {
   "cell_type": "code",
   "execution_count": null,
   "id": "244f903f-d52d-46a6-aea5-c6d740e41364",
   "metadata": {},
   "outputs": [],
   "source": []
  },
  {
   "cell_type": "code",
   "execution_count": null,
   "id": "18642f70-53f2-48a5-8ab7-3c89f6f4b729",
   "metadata": {},
   "outputs": [],
   "source": []
  },
  {
   "cell_type": "code",
   "execution_count": null,
   "id": "a0930238-e8d5-4488-9c37-b993366bebbf",
   "metadata": {},
   "outputs": [],
   "source": []
  },
  {
   "cell_type": "code",
   "execution_count": null,
   "id": "80798caa-7e4c-409f-a719-c29b405e882c",
   "metadata": {},
   "outputs": [],
   "source": []
  },
  {
   "cell_type": "code",
   "execution_count": null,
   "id": "42b798b7-31a1-442e-b74d-e099bc9a4a3c",
   "metadata": {},
   "outputs": [],
   "source": []
  },
  {
   "cell_type": "code",
   "execution_count": null,
   "id": "ee0fec57-e831-4cf8-95bb-1f5cbe977abe",
   "metadata": {},
   "outputs": [],
   "source": []
  },
  {
   "cell_type": "code",
   "execution_count": null,
   "id": "8328fc99-58f3-4f12-8f1e-a0236ce61ee3",
   "metadata": {},
   "outputs": [],
   "source": []
  },
  {
   "cell_type": "code",
   "execution_count": null,
   "id": "2dafb6ab-74c2-4eff-bf6f-ee88c2b5744e",
   "metadata": {},
   "outputs": [],
   "source": []
  },
  {
   "cell_type": "code",
   "execution_count": null,
   "id": "2e99f4cb-7200-4979-970b-03d5570120b9",
   "metadata": {},
   "outputs": [],
   "source": []
  },
  {
   "cell_type": "code",
   "execution_count": null,
   "id": "fb327a3b-eae1-4d51-9c6e-c29996013542",
   "metadata": {},
   "outputs": [],
   "source": []
  },
  {
   "cell_type": "code",
   "execution_count": null,
   "id": "1ca717ad-b047-4578-9b1e-95a19981dbb3",
   "metadata": {},
   "outputs": [],
   "source": []
  },
  {
   "cell_type": "code",
   "execution_count": null,
   "id": "c865dc58-266d-48c2-acfa-999f8ca143fd",
   "metadata": {},
   "outputs": [],
   "source": []
  },
  {
   "cell_type": "code",
   "execution_count": null,
   "id": "99f93043-ad29-431a-aa40-73ddd686ef19",
   "metadata": {},
   "outputs": [],
   "source": []
  },
  {
   "cell_type": "code",
   "execution_count": null,
   "id": "29f0222f-40be-4092-a2b7-e22b3265aa1b",
   "metadata": {},
   "outputs": [],
   "source": []
  },
  {
   "cell_type": "code",
   "execution_count": null,
   "id": "a8601f8a-071e-4d57-9ed8-37bf10acfc47",
   "metadata": {},
   "outputs": [],
   "source": []
  },
  {
   "cell_type": "markdown",
   "id": "9296ae20-306c-49d8-aada-6eab7d5fec83",
   "metadata": {},
   "source": [
    "# Lecture 22. Handling in Python - Reading and writing to files"
   ]
  },
  {
   "cell_type": "code",
   "execution_count": null,
   "id": "cb4f51d8-fea1-472d-9d8b-6cab9de94b28",
   "metadata": {},
   "outputs": [],
   "source": []
  },
  {
   "cell_type": "code",
   "execution_count": null,
   "id": "a2d6dec9-6644-4467-80f1-99fa513bece8",
   "metadata": {},
   "outputs": [],
   "source": []
  },
  {
   "cell_type": "code",
   "execution_count": null,
   "id": "fc88d17e-a4c7-41f8-92c9-b421d49687de",
   "metadata": {},
   "outputs": [],
   "source": []
  },
  {
   "cell_type": "code",
   "execution_count": null,
   "id": "a231ad54-2266-4cf8-b88b-26b575125846",
   "metadata": {},
   "outputs": [],
   "source": []
  },
  {
   "cell_type": "code",
   "execution_count": null,
   "id": "77f697c8-7300-4d67-9af2-58827a253940",
   "metadata": {},
   "outputs": [],
   "source": []
  },
  {
   "cell_type": "code",
   "execution_count": null,
   "id": "09f8cf76-656a-4448-8fee-c5b0712bee33",
   "metadata": {},
   "outputs": [],
   "source": []
  },
  {
   "cell_type": "markdown",
   "id": "519a796e-2795-40ba-81ab-89b02ff6ffd5",
   "metadata": {},
   "source": [
    "# Lecture 23. Complete Numpy from Scratch - Part 1"
   ]
  },
  {
   "cell_type": "code",
   "execution_count": null,
   "id": "dcacd08c-d731-4659-bfb8-fecb12897589",
   "metadata": {},
   "outputs": [],
   "source": []
  },
  {
   "cell_type": "code",
   "execution_count": null,
   "id": "e6d8ffc6-5d87-4e29-b3e9-1bf15dc448dd",
   "metadata": {},
   "outputs": [],
   "source": []
  },
  {
   "cell_type": "code",
   "execution_count": null,
   "id": "7b9dc739-42ab-4463-84af-b287de80dd02",
   "metadata": {},
   "outputs": [],
   "source": []
  },
  {
   "cell_type": "code",
   "execution_count": null,
   "id": "a6b21353-8532-4442-b978-2d199dc5a9ec",
   "metadata": {},
   "outputs": [],
   "source": []
  },
  {
   "cell_type": "code",
   "execution_count": null,
   "id": "d9a918c0-01b8-4844-a306-f76f047c280c",
   "metadata": {},
   "outputs": [],
   "source": []
  },
  {
   "cell_type": "markdown",
   "id": "76890b05-2be0-47b3-b4f1-b3a91e3f30c3",
   "metadata": {},
   "source": [
    "# Lecture 24. Complete Numpy from Scratch - Part 2"
   ]
  },
  {
   "cell_type": "code",
   "execution_count": null,
   "id": "12d1778a-da43-4d2d-8df0-aae6b8b66e09",
   "metadata": {},
   "outputs": [],
   "source": []
  },
  {
   "cell_type": "code",
   "execution_count": null,
   "id": "92c118ba-6437-42c0-8ced-2a7f8389366a",
   "metadata": {},
   "outputs": [],
   "source": []
  },
  {
   "cell_type": "code",
   "execution_count": null,
   "id": "6d1f656a-ed83-420f-a789-f9e433800b6e",
   "metadata": {},
   "outputs": [],
   "source": []
  },
  {
   "cell_type": "code",
   "execution_count": null,
   "id": "9b7721ff-43be-46a4-b7df-c60122e9c4a7",
   "metadata": {},
   "outputs": [],
   "source": []
  },
  {
   "cell_type": "code",
   "execution_count": null,
   "id": "065ca459-a171-4728-a4af-fe144ffac04f",
   "metadata": {},
   "outputs": [],
   "source": []
  },
  {
   "cell_type": "markdown",
   "id": "f0f537d6-9007-402e-be36-4be79dd383ad",
   "metadata": {},
   "source": [
    "# Lecture 25. Complete Numpy from Scratch - Part 3"
   ]
  },
  {
   "cell_type": "code",
   "execution_count": null,
   "id": "5e3511e8-2ca9-46e1-843e-e17e161e1030",
   "metadata": {},
   "outputs": [],
   "source": []
  },
  {
   "cell_type": "code",
   "execution_count": null,
   "id": "d7ec42de-4786-4c29-85e0-3746bd1d3c78",
   "metadata": {},
   "outputs": [],
   "source": []
  },
  {
   "cell_type": "code",
   "execution_count": null,
   "id": "d4235a4f-c471-4cb6-b903-363029556bdc",
   "metadata": {},
   "outputs": [],
   "source": []
  },
  {
   "cell_type": "code",
   "execution_count": null,
   "id": "71323e3a-f5e2-4c1e-b255-80e7ba23d88c",
   "metadata": {},
   "outputs": [],
   "source": []
  },
  {
   "cell_type": "code",
   "execution_count": null,
   "id": "a58098ab-1903-4faa-bbfd-7096e0e53d29",
   "metadata": {},
   "outputs": [],
   "source": []
  },
  {
   "cell_type": "code",
   "execution_count": null,
   "id": "71c0c469-4d66-40b1-9ae7-4846309ce7e8",
   "metadata": {},
   "outputs": [],
   "source": []
  },
  {
   "cell_type": "code",
   "execution_count": null,
   "id": "8d4393af-9aae-4e1d-902a-b32575ede3e0",
   "metadata": {},
   "outputs": [],
   "source": []
  }
 ],
 "metadata": {
  "kernelspec": {
   "display_name": "Python 3 (ipykernel)",
   "language": "python",
   "name": "python3"
  },
  "language_info": {
   "codemirror_mode": {
    "name": "ipython",
    "version": 3
   },
   "file_extension": ".py",
   "mimetype": "text/x-python",
   "name": "python",
   "nbconvert_exporter": "python",
   "pygments_lexer": "ipython3",
   "version": "3.11.2"
  }
 },
 "nbformat": 4,
 "nbformat_minor": 5
}
