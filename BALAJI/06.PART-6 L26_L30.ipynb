{
 "cells": [
  {
   "cell_type": "markdown",
   "id": "fa429e87-d3ea-40f4-86b0-4bc5c5bf6e63",
   "metadata": {},
   "source": [
    "# Lecture 26. Complete Pandas from Scratch - Part 1"
   ]
  },
  {
   "cell_type": "code",
   "execution_count": 1,
   "id": "f44b3fc0-d2e5-4bbf-82d6-82ea4b489cc0",
   "metadata": {},
   "outputs": [
    {
     "name": "stdout",
     "output_type": "stream",
     "text": [
      "Requirement already satisfied: pandas in /opt/homebrew/Caskroom/miniconda/base/envs/pks/lib/python3.11/site-packages (2.2.1)\n",
      "Requirement already satisfied: numpy<2,>=1.23.2 in /opt/homebrew/Caskroom/miniconda/base/envs/pks/lib/python3.11/site-packages (from pandas) (1.26.4)\n",
      "Requirement already satisfied: python-dateutil>=2.8.2 in /Users/praveensingh/.local/lib/python3.11/site-packages (from pandas) (2.8.2)\n",
      "Requirement already satisfied: pytz>=2020.1 in /opt/homebrew/Caskroom/miniconda/base/envs/pks/lib/python3.11/site-packages (from pandas) (2023.3.post1)\n",
      "Requirement already satisfied: tzdata>=2022.7 in /opt/homebrew/Caskroom/miniconda/base/envs/pks/lib/python3.11/site-packages (from pandas) (2023.3)\n",
      "Requirement already satisfied: six>=1.5 in /Users/praveensingh/.local/lib/python3.11/site-packages (from python-dateutil>=2.8.2->pandas) (1.16.0)\n"
     ]
    }
   ],
   "source": [
    "!pip install pandas"
   ]
  },
  {
   "cell_type": "code",
   "execution_count": 3,
   "id": "71a74821-ab75-47b3-8cef-d4f963297d45",
   "metadata": {},
   "outputs": [
    {
     "data": {
      "text/plain": [
       "'2.2.1'"
      ]
     },
     "execution_count": 3,
     "metadata": {},
     "output_type": "execute_result"
    }
   ],
   "source": [
    "import pandas as pd\n",
    "pd.__version__"
   ]
  },
  {
   "cell_type": "code",
   "execution_count": 5,
   "id": "7b8907da-8737-4083-b3cb-4ccf4731109a",
   "metadata": {},
   "outputs": [
    {
     "data": {
      "text/plain": [
       "'1.26.4'"
      ]
     },
     "execution_count": 5,
     "metadata": {},
     "output_type": "execute_result"
    }
   ],
   "source": [
    "import numpy as np\n",
    "np.__version__"
   ]
  },
  {
   "cell_type": "markdown",
   "id": "924cb3e5-6ceb-4670-b535-fe69a10044c7",
   "metadata": {},
   "source": [
    "## Creating Dataframes\n",
    "1. What is a dataframe?\n",
    "2. How is it related to other data storage options?\n",
    "   \n",
    "A DataFrame is a fundamental data structure in the Python programming library pandas, which is designed for data manipulation and analysis.\n",
    "Essentially, a DataFrame represents a table of data with rows and columns, similar to a spreadsheet, a SQL table, or data in a CSV file. Each column in a DataFrame can hold data of a single data type, but different columns can hold different types of data (e.g., integers, floats, strings,\n",
    "Python objects, etc.)."
   ]
  },
  {
   "cell_type": "code",
   "execution_count": null,
   "id": "98ff0d4e-5204-44c6-ba15-f2ca113d057f",
   "metadata": {},
   "outputs": [],
   "source": [
    "# Creating a DataFrame from a dictionary\n",
    "data = {'column A': [3, 4, 5, 6], 'column B': [5, 8, 9, 0]}\n",
    "df = pd.DataFrame(data)\n",
    "print(df)"
   ]
  },
  {
   "cell_type": "code",
   "execution_count": null,
   "id": "5ff5a830-9e76-4a5c-8076-4ba6e575cbee",
   "metadata": {},
   "outputs": [],
   "source": [
    "# Creating a DataFrame from a list of dictionaries\n",
    "data = [{'Column1': 1, 'Column2': 'A'},\n",
    "        {'Column1': 2, 'Column2': 'B'},\n",
    "        {'Column1': 3, 'Column2': 'C'}]\n",
    "df = pd.DataFrame(data)\n",
    "print(df)\n"
   ]
  },
  {
   "cell_type": "code",
   "execution_count": null,
   "id": "20d5c01e-7e2a-4c27-94e5-6d08382111ee",
   "metadata": {},
   "outputs": [],
   "source": [
    "# Creating a DataFrame from a list of dictionaries with missing values\n",
    "data = [{'Column1': 1, 'Column2': 'A', 'Column3': 'Python'},\n",
    "        {'Column1': 2, 'Column2': 'B'},\n",
    "        {'Column1': 3, 'Column2': 'C'}]\n",
    "df = pd.DataFrame(data)\n",
    "print(df)"
   ]
  },
  {
   "cell_type": "code",
   "execution_count": null,
   "id": "91631126-2f94-4787-b414-ea82a480cfd2",
   "metadata": {},
   "outputs": [],
   "source": [
    "# Creating a Series\n",
    "series = pd.Series([1, 2, 3])\n",
    "print(series)\n",
    "print(type(series))"
   ]
  },
  {
   "cell_type": "code",
   "execution_count": null,
   "id": "ef65ea79-885b-49da-bf05-b65d1a9f246e",
   "metadata": {},
   "outputs": [],
   "source": [
    "# Creating a DataFrame from a dictionary of Series\n",
    "data = {\"Column1\": pd.Series([1, 2, 3]),\n",
    "        \"Column2\": pd.Series(['Jan', 'Feb'])}\n",
    "df = pd.DataFrame(data)\n",
    "print(df)"
   ]
  },
  {
   "cell_type": "code",
   "execution_count": 33,
   "id": "e6b9bd8b-4e3a-4f07-bf0b-55dd66905b30",
   "metadata": {},
   "outputs": [
    {
     "name": "stdout",
     "output_type": "stream",
     "text": [
      "   Sales Day_Name\n",
      "0    100      Mon\n",
      "1    200      Tue\n",
      "2    300      Wed\n",
      "----------------\n",
      "Sales        int64\n",
      "Day_Name    object\n",
      "dtype: object\n"
     ]
    }
   ],
   "source": [
    "# Creating a DataFrame from a list of lists with specified column names\n",
    "data = [[100, 'Mon'], [200, 'Tue'], [300, 'Wed']]\n",
    "columns = ['Sales', 'Day_Name']\n",
    "df = pd.DataFrame(data, columns=columns)\n",
    "print(df)\n",
    "\n",
    "print(\"----------------\")\n",
    "\n",
    "# Displaying data types of DataFrame columns\n",
    "print(df.dtypes)"
   ]
  },
  {
   "cell_type": "code",
   "execution_count": 35,
   "id": "0bfc0e98-0efd-4a72-a0a4-b1e17a3fd6d0",
   "metadata": {},
   "outputs": [
    {
     "name": "stdout",
     "output_type": "stream",
     "text": [
      "   float  int   datetime   string\n",
      "0    1.0    1 2024-03-07  Praveen\n",
      "----------------\n",
      "float              float64\n",
      "int                  int64\n",
      "datetime    datetime64[ns]\n",
      "string              object\n",
      "dtype: object\n"
     ]
    }
   ],
   "source": [
    "# Creating a DataFrame with mixed data types\n",
    "df = pd.DataFrame({\n",
    "    \"float\": [1.0],\n",
    "    \"int\": [1],\n",
    "    \"datetime\": [pd.Timestamp('20240307')],\n",
    "    \"string\": ['Praveen']\n",
    "})\n",
    "print(df)\n",
    "\n",
    "print(\"----------------\")\n",
    "\n",
    "# Displaying data types of DataFrame columns\n",
    "print(df.dtypes)"
   ]
  },
  {
   "cell_type": "code",
   "execution_count": 36,
   "id": "221b1027-0d95-498f-9940-4aa9432e72bf",
   "metadata": {},
   "outputs": [
    {
     "name": "stdout",
     "output_type": "stream",
     "text": [
      "   Column A  Column B\n",
      "0         1         5\n",
      "1         4         8\n",
      "2         5         9\n",
      "3         6         0\n",
      "----------------\n",
      "Column A    int8\n",
      "Column B    int8\n",
      "dtype: object\n"
     ]
    }
   ],
   "source": [
    "# Creating a DataFrame with specified data types\n",
    "data = {\"Column A\": ['1', 4, 5, 6], \"Column B\": [5, 8, 9, 0]}\n",
    "df = pd.DataFrame(data=data, dtype=np.int8)\n",
    "print(df)\n",
    "print(\"----------------\")\n",
    "\n",
    "print(df.dtypes)\n"
   ]
  },
  {
   "cell_type": "code",
   "execution_count": 37,
   "id": "1aa73c66-27c5-489c-a8ce-97772c01477d",
   "metadata": {},
   "outputs": [
    {
     "name": "stdout",
     "output_type": "stream",
     "text": [
      "   Column A  Column B\n",
      "0        11         5\n",
      "1        14         8\n",
      "2        15         9\n",
      "3        16         0\n"
     ]
    }
   ],
   "source": [
    "# Modifying DataFrame values\n",
    "array = np.array(df['Column A'])\n",
    "array = array + 10\n",
    "df['Column A'] = array\n",
    "print(df)\n"
   ]
  },
  {
   "cell_type": "code",
   "execution_count": 38,
   "id": "fa277d3f-2911-408f-a3fb-ecdbd4c7fb13",
   "metadata": {},
   "outputs": [
    {
     "name": "stdout",
     "output_type": "stream",
     "text": [
      "   A  B  C\n",
      "0  1  2  3\n",
      "1  4  5  6\n",
      "2  7  8  9\n"
     ]
    }
   ],
   "source": [
    "# Creating a DataFrame from a NumPy array with specified column names\n",
    "df2 = pd.DataFrame(np.array([[1, 2, 3], [4, 5, 6], [7, 8, 9]]), columns=['A', 'B', 'C'])\n",
    "print(df2)"
   ]
  },
  {
   "cell_type": "markdown",
   "id": "910dced0-350d-48dc-b78f-ea9c05467440",
   "metadata": {},
   "source": [
    "# Empty Dataframe"
   ]
  },
  {
   "cell_type": "code",
   "execution_count": 52,
   "id": "17f171f5-1b0a-40d9-b821-47969e055dc4",
   "metadata": {},
   "outputs": [
    {
     "name": "stdout",
     "output_type": "stream",
     "text": [
      "Empty DataFrame\n",
      "Columns: []\n",
      "Index: []\n"
     ]
    }
   ],
   "source": [
    "# Creating an empty DataFrame\n",
    "empty_df = pd.DataFrame()\n",
    "print(empty_df)"
   ]
  },
  {
   "cell_type": "code",
   "execution_count": 58,
   "id": "fb0edf53-bd0a-47ac-bd24-3f6f1cbb020b",
   "metadata": {},
   "outputs": [
    {
     "name": "stdout",
     "output_type": "stream",
     "text": [
      "   Array_Data\n",
      "0           1\n",
      "1           2\n",
      "2           3\n"
     ]
    }
   ],
   "source": [
    "# Adding a column to an empty DataFrame\n",
    "array = np.array([1, 2, 3])\n",
    "empty_df['Array_Data'] = array\n",
    "print(empty_df)\n"
   ]
  },
  {
   "cell_type": "code",
   "execution_count": 59,
   "id": "f34b6092-f641-480c-93c4-a2fe70956e85",
   "metadata": {},
   "outputs": [
    {
     "name": "stdout",
     "output_type": "stream",
     "text": [
      "[[3 4 5]\n",
      " [6 7 8]\n",
      " [9 0 1]]\n"
     ]
    }
   ],
   "source": [
    "# Creating a DataFrame from a NumPy array\n",
    "matrix = np.array([[3, 4, 5], [6, 7, 8], [9, 0, 1]])\n",
    "print(matrix)"
   ]
  },
  {
   "cell_type": "code",
   "execution_count": 62,
   "id": "d23703dc-443e-4d17-a525-0e059b3d4545",
   "metadata": {},
   "outputs": [
    {
     "data": {
      "text/html": [
       "<div>\n",
       "<style scoped>\n",
       "    .dataframe tbody tr th:only-of-type {\n",
       "        vertical-align: middle;\n",
       "    }\n",
       "\n",
       "    .dataframe tbody tr th {\n",
       "        vertical-align: top;\n",
       "    }\n",
       "\n",
       "    .dataframe thead th {\n",
       "        text-align: right;\n",
       "    }\n",
       "</style>\n",
       "<table border=\"1\" class=\"dataframe\">\n",
       "  <thead>\n",
       "    <tr style=\"text-align: right;\">\n",
       "      <th></th>\n",
       "      <th>0</th>\n",
       "      <th>1</th>\n",
       "      <th>2</th>\n",
       "    </tr>\n",
       "  </thead>\n",
       "  <tbody>\n",
       "    <tr>\n",
       "      <th>0</th>\n",
       "      <td>3</td>\n",
       "      <td>4</td>\n",
       "      <td>5</td>\n",
       "    </tr>\n",
       "    <tr>\n",
       "      <th>1</th>\n",
       "      <td>6</td>\n",
       "      <td>7</td>\n",
       "      <td>8</td>\n",
       "    </tr>\n",
       "    <tr>\n",
       "      <th>2</th>\n",
       "      <td>9</td>\n",
       "      <td>0</td>\n",
       "      <td>1</td>\n",
       "    </tr>\n",
       "  </tbody>\n",
       "</table>\n",
       "</div>"
      ],
      "text/plain": [
       "   0  1  2\n",
       "0  3  4  5\n",
       "1  6  7  8\n",
       "2  9  0  1"
      ]
     },
     "execution_count": 62,
     "metadata": {},
     "output_type": "execute_result"
    }
   ],
   "source": [
    "# Creating a DataFrame with default column names\n",
    "df = pd.DataFrame(matrix)\n",
    "df\n"
   ]
  },
  {
   "cell_type": "code",
   "execution_count": 63,
   "id": "c9cfa6d8-7fdf-45e0-9a95-d15a1e2ff17a",
   "metadata": {},
   "outputs": [
    {
     "name": "stdout",
     "output_type": "stream",
     "text": [
      "RangeIndex(start=0, stop=3, step=1)\n"
     ]
    }
   ],
   "source": [
    "# Displaying column names\n",
    "print(df.columns)\n"
   ]
  },
  {
   "cell_type": "code",
   "execution_count": 64,
   "id": "4949aa21-0120-4836-a2c8-a7b85fb90aa4",
   "metadata": {},
   "outputs": [
    {
     "data": {
      "text/html": [
       "<div>\n",
       "<style scoped>\n",
       "    .dataframe tbody tr th:only-of-type {\n",
       "        vertical-align: middle;\n",
       "    }\n",
       "\n",
       "    .dataframe tbody tr th {\n",
       "        vertical-align: top;\n",
       "    }\n",
       "\n",
       "    .dataframe thead th {\n",
       "        text-align: right;\n",
       "    }\n",
       "</style>\n",
       "<table border=\"1\" class=\"dataframe\">\n",
       "  <thead>\n",
       "    <tr style=\"text-align: right;\">\n",
       "      <th></th>\n",
       "      <th>A</th>\n",
       "      <th>B</th>\n",
       "      <th>C</th>\n",
       "    </tr>\n",
       "  </thead>\n",
       "  <tbody>\n",
       "    <tr>\n",
       "      <th>0</th>\n",
       "      <td>3</td>\n",
       "      <td>4</td>\n",
       "      <td>5</td>\n",
       "    </tr>\n",
       "    <tr>\n",
       "      <th>1</th>\n",
       "      <td>6</td>\n",
       "      <td>7</td>\n",
       "      <td>8</td>\n",
       "    </tr>\n",
       "    <tr>\n",
       "      <th>2</th>\n",
       "      <td>9</td>\n",
       "      <td>0</td>\n",
       "      <td>1</td>\n",
       "    </tr>\n",
       "  </tbody>\n",
       "</table>\n",
       "</div>"
      ],
      "text/plain": [
       "   A  B  C\n",
       "0  3  4  5\n",
       "1  6  7  8\n",
       "2  9  0  1"
      ]
     },
     "execution_count": 64,
     "metadata": {},
     "output_type": "execute_result"
    }
   ],
   "source": [
    "# Creating a DataFrame with specified column names\n",
    "df = pd.DataFrame(matrix, columns=list('ABC'))\n",
    "df\n"
   ]
  },
  {
   "cell_type": "code",
   "execution_count": 65,
   "id": "100980d8-6656-4df3-984a-540c0b51c110",
   "metadata": {},
   "outputs": [
    {
     "name": "stdout",
     "output_type": "stream",
     "text": [
      "Index(['A', 'B', 'C'], dtype='object')\n"
     ]
    }
   ],
   "source": [
    "# Displaying column names\n",
    "print(df.columns)"
   ]
  },
  {
   "cell_type": "markdown",
   "id": "3b417ccd-a7e5-4fdd-b006-4d1ec17e5c0b",
   "metadata": {},
   "source": [
    "# Creating by Index as well"
   ]
  },
  {
   "cell_type": "code",
   "execution_count": 74,
   "id": "811c9c7f-a6f5-453c-a766-d9ab0296bc98",
   "metadata": {},
   "outputs": [
    {
     "data": {
      "text/html": [
       "<div>\n",
       "<style scoped>\n",
       "    .dataframe tbody tr th:only-of-type {\n",
       "        vertical-align: middle;\n",
       "    }\n",
       "\n",
       "    .dataframe tbody tr th {\n",
       "        vertical-align: top;\n",
       "    }\n",
       "\n",
       "    .dataframe thead th {\n",
       "        text-align: right;\n",
       "    }\n",
       "</style>\n",
       "<table border=\"1\" class=\"dataframe\">\n",
       "  <thead>\n",
       "    <tr style=\"text-align: right;\">\n",
       "      <th></th>\n",
       "      <th>max_speed</th>\n",
       "      <th>shield</th>\n",
       "    </tr>\n",
       "  </thead>\n",
       "  <tbody>\n",
       "    <tr>\n",
       "      <th>cobra</th>\n",
       "      <td>1</td>\n",
       "      <td>2</td>\n",
       "    </tr>\n",
       "    <tr>\n",
       "      <th>viper</th>\n",
       "      <td>4</td>\n",
       "      <td>51</td>\n",
       "    </tr>\n",
       "    <tr>\n",
       "      <th>sidewinder</th>\n",
       "      <td>7</td>\n",
       "      <td>8</td>\n",
       "    </tr>\n",
       "  </tbody>\n",
       "</table>\n",
       "</div>"
      ],
      "text/plain": [
       "            max_speed  shield\n",
       "cobra               1       2\n",
       "viper               4      51\n",
       "sidewinder          7       8"
      ]
     },
     "execution_count": 74,
     "metadata": {},
     "output_type": "execute_result"
    }
   ],
   "source": [
    "import pandas as pd\n",
    "\n",
    "# Creating a DataFrame with specified index and columns\n",
    "df = pd.DataFrame([[1, 2], [4, 51], [7, 8]],\n",
    "                  index=['cobra', 'viper', 'sidewinder'],\n",
    "                  columns=['max_speed', 'shield'])\n",
    "df"
   ]
  },
  {
   "cell_type": "code",
   "execution_count": 75,
   "id": "d7cae6fe-8b8c-40d9-a987-e3e15b22f4c6",
   "metadata": {},
   "outputs": [
    {
     "name": "stdout",
     "output_type": "stream",
     "text": [
      "Index(['max_speed', 'shield'], dtype='object')\n"
     ]
    }
   ],
   "source": [
    "# Displaying column names\n",
    "print(df.columns)\n"
   ]
  },
  {
   "cell_type": "code",
   "execution_count": 76,
   "id": "d441b8e9-3e04-4bdb-abfb-4b44ca736031",
   "metadata": {},
   "outputs": [
    {
     "name": "stdout",
     "output_type": "stream",
     "text": [
      "(3, 2)\n"
     ]
    }
   ],
   "source": [
    "# Displaying the shape of the DataFrame\n",
    "print(df.shape)"
   ]
  },
  {
   "cell_type": "code",
   "execution_count": 77,
   "id": "185badd8-0542-449b-881f-fe5fa00029ce",
   "metadata": {},
   "outputs": [
    {
     "name": "stdout",
     "output_type": "stream",
     "text": [
      "<class 'pandas.core.frame.DataFrame'>\n",
      "Index: 3 entries, cobra to sidewinder\n",
      "Data columns (total 2 columns):\n",
      " #   Column     Non-Null Count  Dtype\n",
      "---  ------     --------------  -----\n",
      " 0   max_speed  3 non-null      int64\n",
      " 1   shield     3 non-null      int64\n",
      "dtypes: int64(2)\n",
      "memory usage: 72.0+ bytes\n",
      "None\n"
     ]
    }
   ],
   "source": [
    "# Displaying information about the DataFrame\n",
    "print(df.info())\n"
   ]
  },
  {
   "cell_type": "markdown",
   "id": "91ef8e31-a34c-4750-aef8-a5f69b6b4101",
   "metadata": {},
   "source": [
    "# Manipulating Data"
   ]
  },
  {
   "cell_type": "code",
   "execution_count": 93,
   "id": "ac286ef2-0c35-44a7-87cf-d9bb70f5e83e",
   "metadata": {},
   "outputs": [
    {
     "name": "stdout",
     "output_type": "stream",
     "text": [
      "   A  B  C\n",
      "0  3  4  5\n",
      "1  6  7  8\n",
      "2  9  0  1\n"
     ]
    }
   ],
   "source": [
    "# Creating a DataFrame with specified index and columns\n",
    "matrix = np.array([[3, 4, 5], [6, 7, 8], [9, 0, 1]])\n",
    "df = pd.DataFrame(matrix, columns=list('ABC'))\n",
    "print(df)"
   ]
  },
  {
   "cell_type": "code",
   "execution_count": 94,
   "id": "8525ee4b-fdb3-46fa-8052-b9fafc990ba4",
   "metadata": {},
   "outputs": [
    {
     "name": "stdout",
     "output_type": "stream",
     "text": [
      "   A  B  C  D\n",
      "0  3  4  5  3\n",
      "1  6  7  8  4\n",
      "2  9  0  1  5\n"
     ]
    }
   ],
   "source": [
    "# Adding a new column 'D' with specified values\n",
    "df['D'] = [3, 4, 5]\n",
    "print(df)"
   ]
  },
  {
   "cell_type": "code",
   "execution_count": 95,
   "id": "8edc3b6f-7f31-4557-9c45-f79caddb090f",
   "metadata": {},
   "outputs": [
    {
     "name": "stdout",
     "output_type": "stream",
     "text": [
      "   A  B  C    D    E\n",
      "0  3  4  5  0.0  100\n",
      "1  6  7  8  0.0  100\n",
      "2  9  0  1  NaN  100\n"
     ]
    }
   ],
   "source": [
    "# Modifying column 'D' with new values\n",
    "df['D'] = [0, 0, np.NaN]\n",
    "df['E'] = 100\n",
    "print(df)"
   ]
  },
  {
   "cell_type": "code",
   "execution_count": 96,
   "id": "cb32c7ef-aba8-4b60-a6c7-4644f654b1d1",
   "metadata": {},
   "outputs": [
    {
     "name": "stdout",
     "output_type": "stream",
     "text": [
      "   A  B  C    D    E  F\n",
      "0  3  4  5  0.0  100  9\n",
      "1  6  7  8  0.0  100  2\n",
      "2  9  0  1  NaN  100  5\n"
     ]
    }
   ],
   "source": [
    "# Adding a new column 'F' with random integers\n",
    "df['F'] = np.random.randint(1, 10, 3)\n",
    "print(df)"
   ]
  },
  {
   "cell_type": "code",
   "execution_count": 97,
   "id": "cce17e7d-51b9-4b24-b7a0-126546f54525",
   "metadata": {},
   "outputs": [
    {
     "name": "stdout",
     "output_type": "stream",
     "text": [
      "   A  B  C    D    E  F  G\n",
      "0  3  4  5  0.0  100  9  s\n",
      "1  6  7  8  0.0  100  2  t\n",
      "2  9  0  1  NaN  100  5  r\n"
     ]
    }
   ],
   "source": [
    "# Adding a new column 'G' with constant string values\n",
    "df['G'] = list('str')\n",
    "print(df)"
   ]
  },
  {
   "cell_type": "code",
   "execution_count": 98,
   "id": "c9fcb6f8-c494-4dd7-bf5e-dbd4bca8927c",
   "metadata": {},
   "outputs": [
    {
     "name": "stdout",
     "output_type": "stream",
     "text": [
      "        A  B  C    D    E  F  G\n",
      "0      Mr  4  5  0.0  100  9  s\n",
      "1   Rahul  7  8  0.0  100  2  t\n",
      "2  Gandhi  0  1  NaN  100  5  r\n"
     ]
    }
   ],
   "source": [
    "# Adding a new column 'A' with string values\n",
    "df['A'] = [\"Mr\", \"Rahul\", \"Gandhi\"]\n",
    "print(df)\n",
    "\n"
   ]
  },
  {
   "cell_type": "code",
   "execution_count": 99,
   "id": "a72dcfe0-8cb4-4c0e-a37d-15c4b6f4a331",
   "metadata": {},
   "outputs": [
    {
     "name": "stdout",
     "output_type": "stream",
     "text": [
      "        A  B  C    D    E  F  G                   H\n",
      "0      Mr  4  5  0.0  100  9  s       [Praveen, is]\n",
      "1   Rahul  7  8  0.0  100  2  t  [an, Data Analyst]\n",
      "2  Gandhi  0  1  NaN  100  5  r           [Lucknow]\n"
     ]
    }
   ],
   "source": [
    "# Adding a new column 'H' with lists as values\n",
    "df['H'] = [[\"Praveen\", 'is'], [\"an\", \"Data Analyst\"], [\"Lucknow\"]]\n",
    "print(df)\n"
   ]
  },
  {
   "cell_type": "code",
   "execution_count": 100,
   "id": "ada34657-c9b8-4855-92d6-cf5bcd5f55be",
   "metadata": {},
   "outputs": [
    {
     "name": "stdout",
     "output_type": "stream",
     "text": [
      "A     object\n",
      "B      int64\n",
      "C      int64\n",
      "D    float64\n",
      "E      int64\n",
      "F      int64\n",
      "G     object\n",
      "H     object\n",
      "dtype: object\n"
     ]
    }
   ],
   "source": [
    "# Displaying data types of each column\n",
    "print(df.dtypes)"
   ]
  },
  {
   "cell_type": "markdown",
   "id": "d13c8968-5fe6-4261-931f-7d202886329b",
   "metadata": {},
   "source": [
    "# Lecture 27. Complete Pandas from Scratch - Part 2 __ Delete Records, Slicing & Indexing in DataFrames"
   ]
  },
  {
   "cell_type": "code",
   "execution_count": null,
   "id": "cb0affd1-f076-4831-880b-da133f0ee3da",
   "metadata": {},
   "outputs": [],
   "source": []
  },
  {
   "cell_type": "code",
   "execution_count": null,
   "id": "665c3901-b15f-47e5-bbbe-23d0de39fc21",
   "metadata": {},
   "outputs": [],
   "source": []
  },
  {
   "cell_type": "code",
   "execution_count": null,
   "id": "cfe3884d-315e-4038-aa51-1f5ca1c0b8f8",
   "metadata": {},
   "outputs": [],
   "source": []
  },
  {
   "cell_type": "code",
   "execution_count": null,
   "id": "5f261468-dd4a-4d14-83f0-0fbd4d6a4168",
   "metadata": {},
   "outputs": [],
   "source": []
  },
  {
   "cell_type": "code",
   "execution_count": null,
   "id": "9eb0848c-c234-4a2d-b16f-2a03fa28304a",
   "metadata": {},
   "outputs": [],
   "source": []
  },
  {
   "cell_type": "code",
   "execution_count": null,
   "id": "171dcdc1-e5c2-4258-b5bf-37c8cee027b8",
   "metadata": {},
   "outputs": [],
   "source": []
  },
  {
   "cell_type": "code",
   "execution_count": null,
   "id": "7748f051-becb-4a3d-a5d1-821faa86c04b",
   "metadata": {},
   "outputs": [],
   "source": []
  },
  {
   "cell_type": "code",
   "execution_count": null,
   "id": "feff661c-2ca7-47b3-9d0f-27d20e333901",
   "metadata": {},
   "outputs": [],
   "source": []
  },
  {
   "cell_type": "code",
   "execution_count": null,
   "id": "967a4538-c7f0-4889-8f3b-b9bd6211c130",
   "metadata": {},
   "outputs": [],
   "source": []
  },
  {
   "cell_type": "code",
   "execution_count": null,
   "id": "9d00e408-489b-45c0-ba6c-f331c4fb2413",
   "metadata": {},
   "outputs": [],
   "source": []
  },
  {
   "cell_type": "code",
   "execution_count": null,
   "id": "4ce8c652-2f28-442d-ad86-3884eecc899a",
   "metadata": {},
   "outputs": [],
   "source": []
  },
  {
   "cell_type": "code",
   "execution_count": null,
   "id": "8308b69e-d70f-44f4-87e5-4a4cac9b7c49",
   "metadata": {},
   "outputs": [],
   "source": []
  },
  {
   "cell_type": "code",
   "execution_count": null,
   "id": "d66beb9f-7eaf-4599-9a22-f7be60375ec8",
   "metadata": {},
   "outputs": [],
   "source": []
  },
  {
   "cell_type": "code",
   "execution_count": null,
   "id": "3df07e28-ccf6-45c7-baa6-514b8118c15b",
   "metadata": {},
   "outputs": [],
   "source": []
  },
  {
   "cell_type": "code",
   "execution_count": null,
   "id": "6336278e-a938-469f-a833-bd4820de9434",
   "metadata": {},
   "outputs": [],
   "source": []
  },
  {
   "cell_type": "code",
   "execution_count": null,
   "id": "ec170ab9-6fc0-405f-b190-6e758f3397c6",
   "metadata": {},
   "outputs": [],
   "source": []
  },
  {
   "cell_type": "code",
   "execution_count": null,
   "id": "0be15bba-c790-45d4-9843-fed0c4046ad2",
   "metadata": {},
   "outputs": [],
   "source": []
  },
  {
   "cell_type": "code",
   "execution_count": null,
   "id": "1e607e78-c71b-46d1-882e-a79b5896c217",
   "metadata": {},
   "outputs": [],
   "source": []
  },
  {
   "cell_type": "code",
   "execution_count": null,
   "id": "5e6f1d71-b7f9-4493-8e67-c1c4d727e61e",
   "metadata": {},
   "outputs": [],
   "source": []
  },
  {
   "cell_type": "code",
   "execution_count": null,
   "id": "c7bbf840-e3c2-4d6d-8d75-7a5fb816e741",
   "metadata": {},
   "outputs": [],
   "source": []
  },
  {
   "cell_type": "code",
   "execution_count": null,
   "id": "927b41d3-d642-45b6-b31f-4ec1ec61d6fe",
   "metadata": {},
   "outputs": [],
   "source": []
  },
  {
   "cell_type": "code",
   "execution_count": null,
   "id": "ac436d41-10f0-4e86-aa58-53a731907572",
   "metadata": {},
   "outputs": [],
   "source": []
  },
  {
   "cell_type": "code",
   "execution_count": null,
   "id": "676e9b31-9564-40a7-9dcb-f18807f7272d",
   "metadata": {},
   "outputs": [],
   "source": []
  },
  {
   "cell_type": "code",
   "execution_count": null,
   "id": "a7ee2d55-6a66-4223-9a72-26e22ad90a30",
   "metadata": {},
   "outputs": [],
   "source": []
  },
  {
   "cell_type": "code",
   "execution_count": null,
   "id": "6ac755df-0bb8-4f7d-b9c5-b1db8e3eb328",
   "metadata": {},
   "outputs": [],
   "source": []
  },
  {
   "cell_type": "code",
   "execution_count": null,
   "id": "b55591c5-0d6b-4d7f-8a5f-9b46135acd93",
   "metadata": {},
   "outputs": [],
   "source": []
  },
  {
   "cell_type": "code",
   "execution_count": null,
   "id": "6ca78c85-dbdb-4dd1-9a9d-2d393bd1afac",
   "metadata": {},
   "outputs": [],
   "source": []
  },
  {
   "cell_type": "code",
   "execution_count": null,
   "id": "fa98a9b8-2258-4c22-84ee-2adfd999897b",
   "metadata": {},
   "outputs": [],
   "source": []
  },
  {
   "cell_type": "code",
   "execution_count": null,
   "id": "7d113a09-db51-44e6-9b2c-2d9a0ada633c",
   "metadata": {},
   "outputs": [],
   "source": []
  },
  {
   "cell_type": "code",
   "execution_count": null,
   "id": "54d33ca8-d36c-46e7-bcd2-5d75fdbbdc80",
   "metadata": {},
   "outputs": [],
   "source": []
  },
  {
   "cell_type": "code",
   "execution_count": null,
   "id": "d3bd17d9-00ad-4e18-b715-42103f225618",
   "metadata": {},
   "outputs": [],
   "source": []
  },
  {
   "cell_type": "code",
   "execution_count": null,
   "id": "ce076d20-9bf8-4da9-ad16-26572ab9719c",
   "metadata": {},
   "outputs": [],
   "source": []
  },
  {
   "cell_type": "code",
   "execution_count": null,
   "id": "d4a9c710-43da-497d-835b-68fe846df343",
   "metadata": {},
   "outputs": [],
   "source": []
  },
  {
   "cell_type": "code",
   "execution_count": null,
   "id": "d68fdb75-ece8-4549-a032-ea54b02300bd",
   "metadata": {},
   "outputs": [],
   "source": []
  },
  {
   "cell_type": "code",
   "execution_count": null,
   "id": "eb08c0da-2d9a-49e5-89b3-f1455ed91868",
   "metadata": {},
   "outputs": [],
   "source": []
  },
  {
   "cell_type": "markdown",
   "id": "5dfd4005-b4ff-4b85-8955-7e32b272890a",
   "metadata": {},
   "source": [
    "# Lecture 28. Pandas from Scratch Part3 __ Loc vs iLoc in DataFrames with detailed Examples"
   ]
  },
  {
   "cell_type": "code",
   "execution_count": null,
   "id": "07693fef-63e4-45ca-add8-cac50e91d144",
   "metadata": {},
   "outputs": [],
   "source": []
  },
  {
   "cell_type": "code",
   "execution_count": null,
   "id": "60b317e5-5505-48ba-b4a1-4fbea94a5b85",
   "metadata": {},
   "outputs": [],
   "source": []
  },
  {
   "cell_type": "code",
   "execution_count": null,
   "id": "1cc0c21d-8ed5-4bf3-a2d2-a50a99f76d62",
   "metadata": {},
   "outputs": [],
   "source": []
  },
  {
   "cell_type": "code",
   "execution_count": null,
   "id": "e52da5e8-6148-40ab-b016-dea4894c12b5",
   "metadata": {},
   "outputs": [],
   "source": []
  },
  {
   "cell_type": "code",
   "execution_count": null,
   "id": "fc8daabc-91dc-4064-9f2b-40f84ac79169",
   "metadata": {},
   "outputs": [],
   "source": []
  },
  {
   "cell_type": "code",
   "execution_count": null,
   "id": "d2610629-b8de-435d-81b8-41d31185bf34",
   "metadata": {},
   "outputs": [],
   "source": []
  },
  {
   "cell_type": "code",
   "execution_count": null,
   "id": "3a3d55ff-ec0e-4820-a527-2a9b5e7306f2",
   "metadata": {},
   "outputs": [],
   "source": []
  },
  {
   "cell_type": "code",
   "execution_count": null,
   "id": "0e7af903-eec5-4678-a1d7-337385bc2172",
   "metadata": {},
   "outputs": [],
   "source": []
  },
  {
   "cell_type": "code",
   "execution_count": null,
   "id": "e6f203eb-001c-4e31-b7bd-1bb05b1b3695",
   "metadata": {},
   "outputs": [],
   "source": []
  },
  {
   "cell_type": "code",
   "execution_count": null,
   "id": "0da56d98-71d0-496c-80a9-227a3590fe7e",
   "metadata": {},
   "outputs": [],
   "source": []
  },
  {
   "cell_type": "code",
   "execution_count": null,
   "id": "5196c2ab-07e3-44af-a76f-f8a9f078d9a8",
   "metadata": {},
   "outputs": [],
   "source": []
  },
  {
   "cell_type": "code",
   "execution_count": null,
   "id": "ab05bb1d-a9ff-450b-8f7f-65f403a295c5",
   "metadata": {},
   "outputs": [],
   "source": []
  },
  {
   "cell_type": "code",
   "execution_count": null,
   "id": "89388e88-b3e5-4372-8d6f-bf3d4dd94660",
   "metadata": {},
   "outputs": [],
   "source": []
  },
  {
   "cell_type": "code",
   "execution_count": null,
   "id": "fb1b60fd-842d-457a-ab04-9e5fabf70746",
   "metadata": {},
   "outputs": [],
   "source": []
  },
  {
   "cell_type": "code",
   "execution_count": null,
   "id": "b1e8cbf1-a9b9-4820-94a9-10c8c3c60019",
   "metadata": {},
   "outputs": [],
   "source": []
  },
  {
   "cell_type": "markdown",
   "id": "8b3d4349-2636-42fc-a30c-16c32b0f0f15",
   "metadata": {},
   "source": [
    "# Lecture 29. Pandas from Scratch - Part 4 __ Sort Rows, Sort Columns & Rearrange Columns in DataFrames"
   ]
  },
  {
   "cell_type": "code",
   "execution_count": null,
   "id": "f2b14d3e-bac8-4cc4-a39b-40fc7cdfcd54",
   "metadata": {},
   "outputs": [],
   "source": []
  },
  {
   "cell_type": "code",
   "execution_count": null,
   "id": "bfd1cc4d-2d7d-4312-bb66-6b6fca6acc25",
   "metadata": {},
   "outputs": [],
   "source": []
  },
  {
   "cell_type": "code",
   "execution_count": null,
   "id": "ab5f6655-9fd7-4dbe-9a92-c1d4a3747c9a",
   "metadata": {},
   "outputs": [],
   "source": []
  },
  {
   "cell_type": "code",
   "execution_count": null,
   "id": "156346f1-a519-4de7-abe0-cfcb4b1451ac",
   "metadata": {},
   "outputs": [],
   "source": []
  },
  {
   "cell_type": "code",
   "execution_count": null,
   "id": "b182e1c6-7415-4ddb-9336-aea34d603b2f",
   "metadata": {},
   "outputs": [],
   "source": []
  },
  {
   "cell_type": "code",
   "execution_count": null,
   "id": "835ceee7-7613-4163-b79c-45dbe7c78469",
   "metadata": {},
   "outputs": [],
   "source": []
  },
  {
   "cell_type": "code",
   "execution_count": null,
   "id": "20364e51-213f-45ab-9e5d-dcf85fb1bbb9",
   "metadata": {},
   "outputs": [],
   "source": []
  },
  {
   "cell_type": "code",
   "execution_count": null,
   "id": "685fd914-daf0-4f72-a52d-750ab1d536ee",
   "metadata": {},
   "outputs": [],
   "source": []
  },
  {
   "cell_type": "code",
   "execution_count": null,
   "id": "b496c81c-0d69-40d1-8dda-efe0b017a853",
   "metadata": {},
   "outputs": [],
   "source": []
  },
  {
   "cell_type": "code",
   "execution_count": null,
   "id": "582dd97a-c15c-471d-85c5-aec06c3b2e45",
   "metadata": {},
   "outputs": [],
   "source": []
  },
  {
   "cell_type": "code",
   "execution_count": null,
   "id": "7edec9aa-575d-4aa5-9ee3-fa089e41e117",
   "metadata": {},
   "outputs": [],
   "source": []
  },
  {
   "cell_type": "code",
   "execution_count": null,
   "id": "230cd9a1-44d7-4715-92bb-56b8f6921001",
   "metadata": {},
   "outputs": [],
   "source": []
  },
  {
   "cell_type": "code",
   "execution_count": null,
   "id": "e22b2671-58dd-483e-80d8-23f3afd944c8",
   "metadata": {},
   "outputs": [],
   "source": []
  },
  {
   "cell_type": "markdown",
   "id": "3a238ed9-cfb9-4d0f-9d51-c1bf3ab9b08a",
   "metadata": {},
   "source": [
    "# Lecture 30. How to deal with Null Values in DataFrames ___ Pandas from Scratch - Part 5"
   ]
  },
  {
   "cell_type": "code",
   "execution_count": null,
   "id": "81368b93-f997-4515-af13-def7bbb301ab",
   "metadata": {},
   "outputs": [],
   "source": []
  },
  {
   "cell_type": "code",
   "execution_count": null,
   "id": "ff79730c-48a5-4e16-b683-20be01d4fa5a",
   "metadata": {},
   "outputs": [],
   "source": []
  },
  {
   "cell_type": "code",
   "execution_count": null,
   "id": "29a72c5a-8b8f-4425-8b67-b114114349ed",
   "metadata": {},
   "outputs": [],
   "source": []
  },
  {
   "cell_type": "code",
   "execution_count": null,
   "id": "599609be-5a3c-473f-a252-f68ac8a1e68b",
   "metadata": {},
   "outputs": [],
   "source": []
  },
  {
   "cell_type": "code",
   "execution_count": null,
   "id": "cec0c819-94ac-491f-a64a-7702616d9d9b",
   "metadata": {},
   "outputs": [],
   "source": []
  },
  {
   "cell_type": "code",
   "execution_count": null,
   "id": "afc05c16-2f09-44fb-88ba-df7e31741e29",
   "metadata": {},
   "outputs": [],
   "source": []
  },
  {
   "cell_type": "code",
   "execution_count": null,
   "id": "97546f77-19dd-43ed-a678-3023c2e2c33b",
   "metadata": {},
   "outputs": [],
   "source": []
  },
  {
   "cell_type": "code",
   "execution_count": null,
   "id": "31e6bf49-7632-41b8-a768-ba90285fb412",
   "metadata": {},
   "outputs": [],
   "source": []
  },
  {
   "cell_type": "code",
   "execution_count": null,
   "id": "1b85a564-ee7c-4bda-a72a-c53028edf3b2",
   "metadata": {},
   "outputs": [],
   "source": []
  },
  {
   "cell_type": "code",
   "execution_count": null,
   "id": "8ec3f987-0f9e-43ad-b10f-4d8deae6fad2",
   "metadata": {},
   "outputs": [],
   "source": []
  },
  {
   "cell_type": "code",
   "execution_count": null,
   "id": "9e6de31d-cc59-4176-8b61-73a15425e971",
   "metadata": {},
   "outputs": [],
   "source": []
  },
  {
   "cell_type": "code",
   "execution_count": null,
   "id": "59a18899-31df-400f-864b-5d89fa558df0",
   "metadata": {},
   "outputs": [],
   "source": []
  }
 ],
 "metadata": {
  "kernelspec": {
   "display_name": "Python 3 (ipykernel)",
   "language": "python",
   "name": "python3"
  },
  "language_info": {
   "codemirror_mode": {
    "name": "ipython",
    "version": 3
   },
   "file_extension": ".py",
   "mimetype": "text/x-python",
   "name": "python",
   "nbconvert_exporter": "python",
   "pygments_lexer": "ipython3",
   "version": "3.11.8"
  }
 },
 "nbformat": 4,
 "nbformat_minor": 5
}
