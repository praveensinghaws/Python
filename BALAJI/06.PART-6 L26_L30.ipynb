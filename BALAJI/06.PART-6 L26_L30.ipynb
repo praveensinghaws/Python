{
 "cells": [
  {
   "cell_type": "markdown",
   "id": "fa429e87-d3ea-40f4-86b0-4bc5c5bf6e63",
   "metadata": {},
   "source": [
    "# Lecture 26. Complete Pandas from Scratch - Part 1"
   ]
  },
  {
   "cell_type": "code",
   "execution_count": null,
   "id": "f44b3fc0-d2e5-4bbf-82d6-82ea4b489cc0",
   "metadata": {},
   "outputs": [],
   "source": []
  },
  {
   "cell_type": "code",
   "execution_count": null,
   "id": "71a74821-ab75-47b3-8cef-d4f963297d45",
   "metadata": {},
   "outputs": [],
   "source": []
  },
  {
   "cell_type": "code",
   "execution_count": null,
   "id": "7b8907da-8737-4083-b3cb-4ccf4731109a",
   "metadata": {},
   "outputs": [],
   "source": []
  },
  {
   "cell_type": "code",
   "execution_count": null,
   "id": "1bc1c05c-9021-4e71-8bf0-2dd51dccbad4",
   "metadata": {},
   "outputs": [],
   "source": []
  },
  {
   "cell_type": "code",
   "execution_count": null,
   "id": "28462a30-fc5e-45f2-9665-2f34f4cbea4a",
   "metadata": {},
   "outputs": [],
   "source": []
  },
  {
   "cell_type": "code",
   "execution_count": null,
   "id": "4e9b4a35-80a7-4c84-b886-31e18467aa95",
   "metadata": {},
   "outputs": [],
   "source": []
  },
  {
   "cell_type": "code",
   "execution_count": null,
   "id": "d2c466e4-22b9-43e1-8583-19acce08e2a5",
   "metadata": {},
   "outputs": [],
   "source": []
  },
  {
   "cell_type": "code",
   "execution_count": null,
   "id": "62ca0388-a823-4ba8-9aea-4cb442fb9e6a",
   "metadata": {},
   "outputs": [],
   "source": []
  },
  {
   "cell_type": "code",
   "execution_count": null,
   "id": "3045fc4a-e6d1-49fd-9ce6-7511c5962901",
   "metadata": {},
   "outputs": [],
   "source": []
  },
  {
   "cell_type": "code",
   "execution_count": null,
   "id": "1e2f59fe-9c7b-4efe-97f5-7c5f3af510e2",
   "metadata": {},
   "outputs": [],
   "source": []
  },
  {
   "cell_type": "markdown",
   "id": "d13c8968-5fe6-4261-931f-7d202886329b",
   "metadata": {},
   "source": [
    "# Lecture 27. Complete Pandas from Scratch - Part 2 __ Delete Records, Slicing & Indexing in DataFrames"
   ]
  },
  {
   "cell_type": "code",
   "execution_count": null,
   "id": "cb0affd1-f076-4831-880b-da133f0ee3da",
   "metadata": {},
   "outputs": [],
   "source": []
  },
  {
   "cell_type": "code",
   "execution_count": null,
   "id": "665c3901-b15f-47e5-bbbe-23d0de39fc21",
   "metadata": {},
   "outputs": [],
   "source": []
  },
  {
   "cell_type": "code",
   "execution_count": null,
   "id": "cfe3884d-315e-4038-aa51-1f5ca1c0b8f8",
   "metadata": {},
   "outputs": [],
   "source": []
  },
  {
   "cell_type": "code",
   "execution_count": null,
   "id": "5f261468-dd4a-4d14-83f0-0fbd4d6a4168",
   "metadata": {},
   "outputs": [],
   "source": []
  },
  {
   "cell_type": "code",
   "execution_count": null,
   "id": "9eb0848c-c234-4a2d-b16f-2a03fa28304a",
   "metadata": {},
   "outputs": [],
   "source": []
  },
  {
   "cell_type": "code",
   "execution_count": null,
   "id": "171dcdc1-e5c2-4258-b5bf-37c8cee027b8",
   "metadata": {},
   "outputs": [],
   "source": []
  },
  {
   "cell_type": "code",
   "execution_count": null,
   "id": "7748f051-becb-4a3d-a5d1-821faa86c04b",
   "metadata": {},
   "outputs": [],
   "source": []
  },
  {
   "cell_type": "code",
   "execution_count": null,
   "id": "feff661c-2ca7-47b3-9d0f-27d20e333901",
   "metadata": {},
   "outputs": [],
   "source": []
  },
  {
   "cell_type": "code",
   "execution_count": null,
   "id": "d4a9c710-43da-497d-835b-68fe846df343",
   "metadata": {},
   "outputs": [],
   "source": []
  },
  {
   "cell_type": "code",
   "execution_count": null,
   "id": "d68fdb75-ece8-4549-a032-ea54b02300bd",
   "metadata": {},
   "outputs": [],
   "source": []
  },
  {
   "cell_type": "code",
   "execution_count": null,
   "id": "eb08c0da-2d9a-49e5-89b3-f1455ed91868",
   "metadata": {},
   "outputs": [],
   "source": []
  },
  {
   "cell_type": "markdown",
   "id": "5dfd4005-b4ff-4b85-8955-7e32b272890a",
   "metadata": {},
   "source": [
    "# Lecture 28. Pandas from Scratch Part3 __ Loc vs iLoc in DataFrames with detailed Examples"
   ]
  },
  {
   "cell_type": "code",
   "execution_count": null,
   "id": "07693fef-63e4-45ca-add8-cac50e91d144",
   "metadata": {},
   "outputs": [],
   "source": []
  },
  {
   "cell_type": "code",
   "execution_count": null,
   "id": "60b317e5-5505-48ba-b4a1-4fbea94a5b85",
   "metadata": {},
   "outputs": [],
   "source": []
  },
  {
   "cell_type": "code",
   "execution_count": null,
   "id": "1cc0c21d-8ed5-4bf3-a2d2-a50a99f76d62",
   "metadata": {},
   "outputs": [],
   "source": []
  },
  {
   "cell_type": "code",
   "execution_count": null,
   "id": "e52da5e8-6148-40ab-b016-dea4894c12b5",
   "metadata": {},
   "outputs": [],
   "source": []
  },
  {
   "cell_type": "code",
   "execution_count": null,
   "id": "fc8daabc-91dc-4064-9f2b-40f84ac79169",
   "metadata": {},
   "outputs": [],
   "source": []
  },
  {
   "cell_type": "code",
   "execution_count": null,
   "id": "d2610629-b8de-435d-81b8-41d31185bf34",
   "metadata": {},
   "outputs": [],
   "source": []
  },
  {
   "cell_type": "code",
   "execution_count": null,
   "id": "3a3d55ff-ec0e-4820-a527-2a9b5e7306f2",
   "metadata": {},
   "outputs": [],
   "source": []
  },
  {
   "cell_type": "code",
   "execution_count": null,
   "id": "0e7af903-eec5-4678-a1d7-337385bc2172",
   "metadata": {},
   "outputs": [],
   "source": []
  },
  {
   "cell_type": "code",
   "execution_count": null,
   "id": "e6f203eb-001c-4e31-b7bd-1bb05b1b3695",
   "metadata": {},
   "outputs": [],
   "source": []
  },
  {
   "cell_type": "code",
   "execution_count": null,
   "id": "0da56d98-71d0-496c-80a9-227a3590fe7e",
   "metadata": {},
   "outputs": [],
   "source": []
  },
  {
   "cell_type": "code",
   "execution_count": null,
   "id": "5196c2ab-07e3-44af-a76f-f8a9f078d9a8",
   "metadata": {},
   "outputs": [],
   "source": []
  },
  {
   "cell_type": "code",
   "execution_count": null,
   "id": "ab05bb1d-a9ff-450b-8f7f-65f403a295c5",
   "metadata": {},
   "outputs": [],
   "source": []
  },
  {
   "cell_type": "code",
   "execution_count": null,
   "id": "89388e88-b3e5-4372-8d6f-bf3d4dd94660",
   "metadata": {},
   "outputs": [],
   "source": []
  },
  {
   "cell_type": "code",
   "execution_count": null,
   "id": "fb1b60fd-842d-457a-ab04-9e5fabf70746",
   "metadata": {},
   "outputs": [],
   "source": []
  },
  {
   "cell_type": "code",
   "execution_count": null,
   "id": "b1e8cbf1-a9b9-4820-94a9-10c8c3c60019",
   "metadata": {},
   "outputs": [],
   "source": []
  },
  {
   "cell_type": "markdown",
   "id": "8b3d4349-2636-42fc-a30c-16c32b0f0f15",
   "metadata": {},
   "source": [
    "# Lecture 29. Pandas from Scratch - Part 4 __ Sort Rows, Sort Columns & Rearrange Columns in DataFrames"
   ]
  },
  {
   "cell_type": "code",
   "execution_count": null,
   "id": "f2b14d3e-bac8-4cc4-a39b-40fc7cdfcd54",
   "metadata": {},
   "outputs": [],
   "source": []
  },
  {
   "cell_type": "code",
   "execution_count": null,
   "id": "bfd1cc4d-2d7d-4312-bb66-6b6fca6acc25",
   "metadata": {},
   "outputs": [],
   "source": []
  },
  {
   "cell_type": "code",
   "execution_count": null,
   "id": "ab5f6655-9fd7-4dbe-9a92-c1d4a3747c9a",
   "metadata": {},
   "outputs": [],
   "source": []
  },
  {
   "cell_type": "code",
   "execution_count": null,
   "id": "156346f1-a519-4de7-abe0-cfcb4b1451ac",
   "metadata": {},
   "outputs": [],
   "source": []
  },
  {
   "cell_type": "code",
   "execution_count": null,
   "id": "b182e1c6-7415-4ddb-9336-aea34d603b2f",
   "metadata": {},
   "outputs": [],
   "source": []
  },
  {
   "cell_type": "code",
   "execution_count": null,
   "id": "835ceee7-7613-4163-b79c-45dbe7c78469",
   "metadata": {},
   "outputs": [],
   "source": []
  },
  {
   "cell_type": "code",
   "execution_count": null,
   "id": "20364e51-213f-45ab-9e5d-dcf85fb1bbb9",
   "metadata": {},
   "outputs": [],
   "source": []
  },
  {
   "cell_type": "code",
   "execution_count": null,
   "id": "685fd914-daf0-4f72-a52d-750ab1d536ee",
   "metadata": {},
   "outputs": [],
   "source": []
  },
  {
   "cell_type": "code",
   "execution_count": null,
   "id": "b496c81c-0d69-40d1-8dda-efe0b017a853",
   "metadata": {},
   "outputs": [],
   "source": []
  },
  {
   "cell_type": "code",
   "execution_count": null,
   "id": "582dd97a-c15c-471d-85c5-aec06c3b2e45",
   "metadata": {},
   "outputs": [],
   "source": []
  },
  {
   "cell_type": "code",
   "execution_count": null,
   "id": "7edec9aa-575d-4aa5-9ee3-fa089e41e117",
   "metadata": {},
   "outputs": [],
   "source": []
  },
  {
   "cell_type": "code",
   "execution_count": null,
   "id": "230cd9a1-44d7-4715-92bb-56b8f6921001",
   "metadata": {},
   "outputs": [],
   "source": []
  },
  {
   "cell_type": "code",
   "execution_count": null,
   "id": "e22b2671-58dd-483e-80d8-23f3afd944c8",
   "metadata": {},
   "outputs": [],
   "source": []
  },
  {
   "cell_type": "markdown",
   "id": "3a238ed9-cfb9-4d0f-9d51-c1bf3ab9b08a",
   "metadata": {},
   "source": [
    "# Lecture 30. How to deal with Null Values in DataFrames ___ Pandas from Scratch - Part 5"
   ]
  },
  {
   "cell_type": "code",
   "execution_count": null,
   "id": "81368b93-f997-4515-af13-def7bbb301ab",
   "metadata": {},
   "outputs": [],
   "source": []
  },
  {
   "cell_type": "code",
   "execution_count": null,
   "id": "ff79730c-48a5-4e16-b683-20be01d4fa5a",
   "metadata": {},
   "outputs": [],
   "source": []
  },
  {
   "cell_type": "code",
   "execution_count": null,
   "id": "29a72c5a-8b8f-4425-8b67-b114114349ed",
   "metadata": {},
   "outputs": [],
   "source": []
  },
  {
   "cell_type": "code",
   "execution_count": null,
   "id": "599609be-5a3c-473f-a252-f68ac8a1e68b",
   "metadata": {},
   "outputs": [],
   "source": []
  },
  {
   "cell_type": "code",
   "execution_count": null,
   "id": "cec0c819-94ac-491f-a64a-7702616d9d9b",
   "metadata": {},
   "outputs": [],
   "source": []
  },
  {
   "cell_type": "code",
   "execution_count": null,
   "id": "afc05c16-2f09-44fb-88ba-df7e31741e29",
   "metadata": {},
   "outputs": [],
   "source": []
  },
  {
   "cell_type": "code",
   "execution_count": null,
   "id": "97546f77-19dd-43ed-a678-3023c2e2c33b",
   "metadata": {},
   "outputs": [],
   "source": []
  },
  {
   "cell_type": "code",
   "execution_count": null,
   "id": "31e6bf49-7632-41b8-a768-ba90285fb412",
   "metadata": {},
   "outputs": [],
   "source": []
  },
  {
   "cell_type": "code",
   "execution_count": null,
   "id": "1b85a564-ee7c-4bda-a72a-c53028edf3b2",
   "metadata": {},
   "outputs": [],
   "source": []
  },
  {
   "cell_type": "code",
   "execution_count": null,
   "id": "8ec3f987-0f9e-43ad-b10f-4d8deae6fad2",
   "metadata": {},
   "outputs": [],
   "source": []
  },
  {
   "cell_type": "code",
   "execution_count": null,
   "id": "9e6de31d-cc59-4176-8b61-73a15425e971",
   "metadata": {},
   "outputs": [],
   "source": []
  },
  {
   "cell_type": "code",
   "execution_count": null,
   "id": "59a18899-31df-400f-864b-5d89fa558df0",
   "metadata": {},
   "outputs": [],
   "source": []
  }
 ],
 "metadata": {
  "kernelspec": {
   "display_name": "Python 3 (ipykernel)",
   "language": "python",
   "name": "python3"
  },
  "language_info": {
   "codemirror_mode": {
    "name": "ipython",
    "version": 3
   },
   "file_extension": ".py",
   "mimetype": "text/x-python",
   "name": "python",
   "nbconvert_exporter": "python",
   "pygments_lexer": "ipython3",
   "version": "3.11.2"
  }
 },
 "nbformat": 4,
 "nbformat_minor": 5
}
