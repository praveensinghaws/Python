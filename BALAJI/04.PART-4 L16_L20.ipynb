{
 "cells": [
  {
   "cell_type": "markdown",
   "id": "8b876eb4-4b49-4e54-b09a-f11e8c6c5bab",
   "metadata": {},
   "source": [
    "# Lecture 16.Break 🆚 Continue 🆚 Pass Statement in Python"
   ]
  },
  {
   "cell_type": "code",
   "execution_count": null,
   "id": "426d1367-cc84-4d36-b3af-c58b42b341f1",
   "metadata": {},
   "outputs": [],
   "source": []
  },
  {
   "cell_type": "code",
   "execution_count": null,
   "id": "0179297f-d09b-4096-952a-75070ce76297",
   "metadata": {},
   "outputs": [],
   "source": []
  },
  {
   "cell_type": "code",
   "execution_count": null,
   "id": "b878eb56-fc26-4e0c-90f8-a5aa4fecbea0",
   "metadata": {},
   "outputs": [],
   "source": []
  },
  {
   "cell_type": "code",
   "execution_count": null,
   "id": "3a9f3b73-47a6-4cba-a987-7a069944fce6",
   "metadata": {},
   "outputs": [],
   "source": []
  },
  {
   "cell_type": "code",
   "execution_count": null,
   "id": "2c5b0810-bd38-4e88-a869-b996c680dcdf",
   "metadata": {},
   "outputs": [],
   "source": []
  },
  {
   "cell_type": "code",
   "execution_count": null,
   "id": "33d98bbe-3243-4b6f-980f-9717455b6cfd",
   "metadata": {},
   "outputs": [],
   "source": []
  },
  {
   "cell_type": "code",
   "execution_count": null,
   "id": "f92fb139-8f19-427e-9581-d63b0a8ae84d",
   "metadata": {},
   "outputs": [],
   "source": []
  },
  {
   "cell_type": "markdown",
   "id": "a5ff3991-b147-445a-a90e-3600aee3887a",
   "metadata": {},
   "source": [
    "# Lecture 17. Functions in Python"
   ]
  },
  {
   "cell_type": "code",
   "execution_count": null,
   "id": "3543bc58-3969-4e6c-83dc-afa72b99af2c",
   "metadata": {},
   "outputs": [],
   "source": []
  },
  {
   "cell_type": "code",
   "execution_count": null,
   "id": "a3d8cdbe-87ee-42ae-9a8f-bba23f4d911b",
   "metadata": {},
   "outputs": [],
   "source": []
  },
  {
   "cell_type": "code",
   "execution_count": null,
   "id": "88e9c98b-ba9b-4831-b58a-02e17a5d423d",
   "metadata": {},
   "outputs": [],
   "source": []
  },
  {
   "cell_type": "code",
   "execution_count": null,
   "id": "f2eff706-0b0c-4488-9d27-e73307667781",
   "metadata": {},
   "outputs": [],
   "source": []
  },
  {
   "cell_type": "code",
   "execution_count": null,
   "id": "dca2e5bd-08aa-4dc6-9eb5-0ecfe8daeeef",
   "metadata": {},
   "outputs": [],
   "source": []
  },
  {
   "cell_type": "code",
   "execution_count": null,
   "id": "776d44bb-ac67-4b53-94e8-75e18d264a55",
   "metadata": {},
   "outputs": [],
   "source": []
  },
  {
   "cell_type": "code",
   "execution_count": null,
   "id": "5c5bd03c-96ef-4e7f-9fa9-52142be2775c",
   "metadata": {},
   "outputs": [],
   "source": []
  },
  {
   "cell_type": "code",
   "execution_count": null,
   "id": "85f45de0-e513-42b0-823e-d03a2922513a",
   "metadata": {},
   "outputs": [],
   "source": []
  },
  {
   "cell_type": "markdown",
   "id": "9605641b-56ee-40b6-a1b3-3c4d6909dbd7",
   "metadata": {},
   "source": [
    "# Lecture 18. Arguments vs Parameters in Functions __args vs kwargs"
   ]
  },
  {
   "cell_type": "code",
   "execution_count": null,
   "id": "561046ca-a1f2-4dfb-ba64-2147cedf3f4f",
   "metadata": {},
   "outputs": [],
   "source": []
  },
  {
   "cell_type": "code",
   "execution_count": null,
   "id": "bc6bac04-e4fd-444c-bdcc-c2fa88ed86ce",
   "metadata": {},
   "outputs": [],
   "source": []
  },
  {
   "cell_type": "code",
   "execution_count": null,
   "id": "ad05589a-7a55-41e0-a47a-6efc0d6ab60e",
   "metadata": {},
   "outputs": [],
   "source": []
  },
  {
   "cell_type": "code",
   "execution_count": null,
   "id": "25b3ebd2-53a2-4fc2-8cef-4b6872e3565a",
   "metadata": {},
   "outputs": [],
   "source": []
  },
  {
   "cell_type": "code",
   "execution_count": null,
   "id": "cc052de6-2de5-4a89-8d28-c391a5314bdf",
   "metadata": {},
   "outputs": [],
   "source": []
  },
  {
   "cell_type": "code",
   "execution_count": null,
   "id": "d62e016f-7e7e-4210-9a20-311c0065f308",
   "metadata": {},
   "outputs": [],
   "source": []
  },
  {
   "cell_type": "code",
   "execution_count": null,
   "id": "fda1fa79-ba9a-4af9-b1e1-565653edb97a",
   "metadata": {},
   "outputs": [],
   "source": []
  },
  {
   "cell_type": "markdown",
   "id": "db62d14b-cb61-4e78-83dc-2f71f6ac44bf",
   "metadata": {},
   "source": [
    "# Lecture 19. reduce filter n __ Inbuilt vs User Defined Functions"
   ]
  },
  {
   "cell_type": "code",
   "execution_count": null,
   "id": "c30afe7f-f2fe-4925-a76a-8ee138c1f12e",
   "metadata": {},
   "outputs": [],
   "source": []
  },
  {
   "cell_type": "code",
   "execution_count": null,
   "id": "56f9f613-75b6-4993-9440-90842f0d4be1",
   "metadata": {},
   "outputs": [],
   "source": []
  },
  {
   "cell_type": "code",
   "execution_count": null,
   "id": "398045db-24aa-4868-91c5-2c99a7f7a7c7",
   "metadata": {},
   "outputs": [],
   "source": []
  },
  {
   "cell_type": "code",
   "execution_count": null,
   "id": "23d60e88-c47c-4195-91b1-851ff7ba2cca",
   "metadata": {},
   "outputs": [],
   "source": []
  },
  {
   "cell_type": "code",
   "execution_count": null,
   "id": "4df2f60f-a3c7-4e63-ac44-697a7a10f198",
   "metadata": {},
   "outputs": [],
   "source": []
  },
  {
   "cell_type": "code",
   "execution_count": null,
   "id": "2c9cffde-1b22-4bbc-82c4-073ddfbe47cd",
   "metadata": {},
   "outputs": [],
   "source": []
  },
  {
   "cell_type": "code",
   "execution_count": null,
   "id": "7e61edcd-766f-4716-a29d-415ac50bd957",
   "metadata": {},
   "outputs": [],
   "source": []
  },
  {
   "cell_type": "markdown",
   "id": "407a6604-857e-4395-8716-be6e3ef7c18c",
   "metadata": {},
   "source": [
    "# Lecture 20. Recursive Functions and Lambda Functions"
   ]
  },
  {
   "cell_type": "code",
   "execution_count": null,
   "id": "7c5eac51-d042-4a93-8610-5e4ecceeb592",
   "metadata": {},
   "outputs": [],
   "source": []
  },
  {
   "cell_type": "code",
   "execution_count": null,
   "id": "d4b16ee0-b781-46e4-a80e-0963043e53ba",
   "metadata": {},
   "outputs": [],
   "source": []
  },
  {
   "cell_type": "code",
   "execution_count": null,
   "id": "17653102-78d3-4442-b64c-1a61ff92cd48",
   "metadata": {},
   "outputs": [],
   "source": []
  },
  {
   "cell_type": "code",
   "execution_count": null,
   "id": "982b0af8-59ff-4a7c-905c-3d7579e4d833",
   "metadata": {},
   "outputs": [],
   "source": []
  },
  {
   "cell_type": "code",
   "execution_count": null,
   "id": "8bf747ad-87a5-4234-8e4d-c0d8ab51a54e",
   "metadata": {},
   "outputs": [],
   "source": []
  },
  {
   "cell_type": "code",
   "execution_count": null,
   "id": "a91f0bf0-b07c-411e-adf5-f96b781acc84",
   "metadata": {},
   "outputs": [],
   "source": []
  },
  {
   "cell_type": "code",
   "execution_count": null,
   "id": "04e7100d-194a-495d-98d9-ccd88c0a63ec",
   "metadata": {},
   "outputs": [],
   "source": []
  },
  {
   "cell_type": "code",
   "execution_count": null,
   "id": "2e0d6a25-906c-4172-a16a-eedfb9d944a0",
   "metadata": {},
   "outputs": [],
   "source": []
  }
 ],
 "metadata": {
  "kernelspec": {
   "display_name": "Python 3 (ipykernel)",
   "language": "python",
   "name": "python3"
  },
  "language_info": {
   "codemirror_mode": {
    "name": "ipython",
    "version": 3
   },
   "file_extension": ".py",
   "mimetype": "text/x-python",
   "name": "python",
   "nbconvert_exporter": "python",
   "pygments_lexer": "ipython3",
   "version": "3.11.2"
  }
 },
 "nbformat": 4,
 "nbformat_minor": 5
}
