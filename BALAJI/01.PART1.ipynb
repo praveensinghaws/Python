{
 "cells": [
  {
   "cell_type": "markdown",
   "id": "a8942365-3a8a-4a06-a156-45d024fdffb1",
   "metadata": {},
   "source": [
    "# Lecture 2.Keywords & Identifiers & Comments\n"
   ]
  },
  {
   "cell_type": "markdown",
   "id": "12a61544-6c7f-485d-9613-2ed08a8f9c68",
   "metadata": {},
   "source": [
    "# Keywords\n",
    "\n",
    "* Keywords are the reserved words in python.\n",
    "* we can't use a keyword as variable name, function name or any other indentifier.\n",
    "* Kwywords are case senstive."
   ]
  },
  {
   "cell_type": "code",
   "execution_count": 1,
   "id": "f8287b4b-55e6-4c82-a53a-3a4eb981e2c2",
   "metadata": {},
   "outputs": [
    {
     "name": "stdout",
     "output_type": "stream",
     "text": [
      "\n",
      "Keywords are below :\n",
      "['False', 'None', 'True', 'and', 'as', 'assert', 'async', 'await', 'break', 'class', 'continue', 'def', 'del', 'elif', 'else', 'except', 'finally', 'for', 'from', 'global', 'if', 'import', 'in', 'is', 'lambda', 'nonlocal', 'not', 'or', 'pass', 'raise', 'return', 'try', 'while', 'with', 'yield']\n",
      "\n",
      "Keywords are below :\n",
      "Total number of keywords : 35\n"
     ]
    }
   ],
   "source": [
    "import keyword\n",
    "print(f\"\\nKeywords are below :\")\n",
    "print(keyword.kwlist)\n",
    "print(f\"\\nKeywords are below :\")\n",
    "print(f\"Total number of keywords : {len(keyword.kwlist)}\")"
   ]
  },
  {
   "cell_type": "code",
   "execution_count": 2,
   "id": "58be78db-0e3e-4cbd-8781-68fa38cf3582",
   "metadata": {},
   "outputs": [
    {
     "name": "stdout",
     "output_type": "stream",
     "text": [
      "{False} is a keyword and it can not be assign a variable.\n",
      "\n",
      "f is small later in {false} so that i can assign this.: 1\n"
     ]
    }
   ],
   "source": [
    "print(\"{False} is a keyword and it can not be assign a variable.\\n\")\n",
    "# False = 1 \n",
    "\n",
    "false = 1\n",
    "print(\"f is small later in {false} so that i can assign this.:\",false) #\n"
   ]
  },
  {
   "cell_type": "markdown",
   "id": "ace4dfe5-4521-4482-b0f3-dc1089e685f5",
   "metadata": {},
   "source": [
    "# Identifiers\n",
    "#### Identifier is the name given to entities like class,functions,variables etc. in python. it helps diffrenting aone entity from another.\n",
    "\n",
    "### Rules for Writing Identifies:\n",
    "\n",
    "1. Identifiers can be a combination of letters in lowercase (a to z) or uppercase (A to Z) or digits (0 to 9) or an underscore (-).\n",
    "2. An identifier cannot start with a digit. 1variable is invalid, but variable1 is perfectly fine.\n",
    "3. Keywords cannot be used as identifiers.\n",
    "4. We can't use special symbols like { ! @ # $ % } etc. in our indentifier."
   ]
  },
  {
   "cell_type": "code",
   "execution_count": 3,
   "id": "c2981df3-b7bf-4437-a081-4bd494459dc9",
   "metadata": {},
   "outputs": [
    {
     "name": "stdout",
     "output_type": "stream",
     "text": [
      " {True@1, 1True, 1False, @False} \n"
     ]
    }
   ],
   "source": [
    "print(\" {True@1, 1True, 1False, @False} \")"
   ]
  },
  {
   "cell_type": "markdown",
   "id": "29facde3-61fd-4822-a962-5bdd1dfbcf0d",
   "metadata": {},
   "source": [
    "# Python Comments"
   ]
  },
  {
   "cell_type": "code",
   "execution_count": 4,
   "id": "8910c891-ac0b-48d3-a92d-26eb8978fa1e",
   "metadata": {},
   "outputs": [
    {
     "name": "stdout",
     "output_type": "stream",
     "text": [
      "Hello World\n"
     ]
    }
   ],
   "source": [
    "# Printing Hellow World , this is the single line commment\n",
    "print(\"Hello World\")"
   ]
  },
  {
   "cell_type": "markdown",
   "id": "b9818002-41e5-4f82-ba52-f2db0553d69c",
   "metadata": {},
   "source": [
    "# Multiline comment"
   ]
  },
  {
   "cell_type": "code",
   "execution_count": 5,
   "id": "f95cd380-9031-43d8-bc91-84f3e2138a10",
   "metadata": {},
   "outputs": [],
   "source": [
    "# Example 1\n",
    "# Doing Multiline Comments\n",
    "# Multiple Lines\n",
    "# a better of way doing in next example"
   ]
  },
  {
   "cell_type": "code",
   "execution_count": 6,
   "id": "2b897587-cc78-4cd8-8324-6dab04ba59e0",
   "metadata": {},
   "outputs": [
    {
     "data": {
      "text/plain": [
       "'This is also a multiline commnent\\nperfect example of \\nmulti line comments\\nyou can add as many possible if you need'"
      ]
     },
     "execution_count": 6,
     "metadata": {},
     "output_type": "execute_result"
    }
   ],
   "source": [
    "# Example 2\n",
    "\"\"\"This is also a multiline commnent\n",
    "perfect example of \n",
    "multi line comments\n",
    "you can add as many possible if you need\"\"\""
   ]
  },
  {
   "cell_type": "code",
   "execution_count": 7,
   "id": "c5ad19d8-f769-459b-b0bb-5857b2c80466",
   "metadata": {},
   "outputs": [],
   "source": [
    "# Example 3\n",
    "\n"
   ]
  },
  {
   "cell_type": "markdown",
   "id": "bbe1dd68-f6a1-47be-bc58-20521720c08a",
   "metadata": {},
   "source": [
    "# DocString in Python\n",
    "* Docstring is short for documentation string.\n",
    "* It is a string that occurs as the first statement in a module, function, class, or method definition.\n"
   ]
  },
  {
   "cell_type": "code",
   "execution_count": 8,
   "id": "c65e2e2a-3ade-4655-82a6-92f744129b39",
   "metadata": {},
   "outputs": [
    {
     "name": "stdout",
     "output_type": "stream",
     "text": [
      "30\n"
     ]
    }
   ],
   "source": [
    "def triple(num):\n",
    "    \"\"\"\n",
    "        function to Triple the given number\n",
    "                                                \"\"\"\n",
    "    return 3 * num\n",
    "print(triple(10))"
   ]
  },
  {
   "cell_type": "markdown",
   "id": "61c95bce-266f-40f0-916d-3cb7590a77ca",
   "metadata": {},
   "source": [
    "# Lecture 3.Indentation & Statements & Variables\n",
    "\n",
    "## Python Indentation\n",
    "\n",
    "1. In programming, languages such as `C, C++, and Java` use braces {} to show a group of code. However, in Python, indentation is use\n",
    "instead.\n",
    "2. A section of code, like in a function or loop, begins with an indented line and stops with the first line that is not indented.\n",
    "3. You get to choose how much to indent, but it has to be the same for the whole section.\n",
    "4. Usually, four spaces are used for indentation in Python, and it's better than using tabs."
   ]
  },
  {
   "cell_type": "code",
   "execution_count": 9,
   "id": "cbcb1bb0-9f22-4e4a-a1b7-9edbd0ddceac",
   "metadata": {},
   "outputs": [
    {
     "name": "stdout",
     "output_type": "stream",
     "text": [
      "Printing {i} in loops:  0\n",
      "Printing {i} in loops:  2\n",
      "Printing {i} in loops:  4\n",
      "Printing {i} in loops:  6\n",
      "Printing {i} in loops:  8\n",
      "Printing {i}:  4\n"
     ]
    }
   ],
   "source": [
    "# Using four spaces in indentation ## It is the industry standered\n",
    "for i in range(5):\n",
    "    print(\"Printing {i} in loops: \",i * 2)\n",
    "print(\"Printing {i}: \",i)"
   ]
  },
  {
   "cell_type": "code",
   "execution_count": 10,
   "id": "7f632ae5-c6a9-4472-a57b-d34838f5b86e",
   "metadata": {},
   "outputs": [
    {
     "name": "stdout",
     "output_type": "stream",
     "text": [
      "Printing {i} in loops:  0\n",
      "Printing {i} in loops:  2\n",
      "Printing {i} in loops:  4\n",
      "Printing {i} in loops:  6\n",
      "Printing {i} in loops:  8\n",
      "Printing {i}:  4\n"
     ]
    }
   ],
   "source": [
    "# Using one spaces in indentation\n",
    "for i in range(5):\n",
    " print(\"Printing {i} in loops: \",i * 2)\n",
    "print(\"Printing {i}: \",i)"
   ]
  },
  {
   "cell_type": "code",
   "execution_count": 11,
   "id": "7d19c835-1415-4f5c-8995-1854d26b2267",
   "metadata": {},
   "outputs": [
    {
     "name": "stdout",
     "output_type": "stream",
     "text": [
      "Printing {i} in loops:  0\n",
      "Printing {i} in loops:  2\n",
      "Printing {i} in loops:  4\n",
      "Printing {i} in loops:  6\n",
      "Printing {i} in loops:  8\n",
      "Printing {i}:  4\n"
     ]
    }
   ],
   "source": [
    "# Using two spaces in indentation\n",
    "for i in range(5):\n",
    "  print(\"Printing {i} in loops: \",i * 2)\n",
    "print(\"Printing {i}: \",i)"
   ]
  },
  {
   "cell_type": "code",
   "execution_count": 12,
   "id": "44c3cf57-6246-4d14-bd40-712a43a792d6",
   "metadata": {},
   "outputs": [
    {
     "name": "stdout",
     "output_type": "stream",
     "text": [
      "Printing {i} in loops:  0\n",
      "Printing {i} in loops:  2\n",
      "Printing {i} in loops:  4\n",
      "Printing {i} in loops:  6\n",
      "Printing {i} in loops:  8\n",
      "Printing {i}:  4\n"
     ]
    }
   ],
   "source": [
    "# Using three spaces in indentation\n",
    "for i in range(5):\n",
    "   print(\"Printing {i} in loops: \",i * 2)\n",
    "print(\"Printing {i}: \",i)"
   ]
  },
  {
   "cell_type": "markdown",
   "id": "b904b6db-f409-4dc8-98b0-713ce428ed9a",
   "metadata": {},
   "source": [
    "1. Indentation can be ignored in line continuation. But it's a good idea to always indent.\n",
    "2. It makes the code more readable.\n",
    "3. Follow industry Standards"
   ]
  },
  {
   "cell_type": "code",
   "execution_count": 13,
   "id": "186e1541-afdb-4028-b5c3-da8c0fbe4a29",
   "metadata": {},
   "outputs": [
    {
     "name": "stdout",
     "output_type": "stream",
     "text": [
      "Learing Pythin is very easy.\n",
      "Data Pyramid\n"
     ]
    }
   ],
   "source": [
    "# This is the best way to write coading \n",
    "if True:\n",
    "    print(\"Learing Pythin is very easy.\")\n",
    "    a = \"Data Pyramid\"\n",
    "    print(a)\n"
   ]
  },
  {
   "cell_type": "code",
   "execution_count": 14,
   "id": "1465d3ee-693b-410a-b87e-d313fdb1568b",
   "metadata": {},
   "outputs": [
    {
     "name": "stdout",
     "output_type": "stream",
     "text": [
      "Learing Pythin is very easy.\n",
      "Data Pyramid\n"
     ]
    }
   ],
   "source": [
    "# But this is not the best way to write coading \n",
    "if True: print(\"Learing Pythin is very easy.\"); a = \"Data Pyramid\"; print(a)"
   ]
  },
  {
   "cell_type": "markdown",
   "id": "329c90b1-6905-4539-b4c4-595e9b4d1877",
   "metadata": {},
   "source": [
    "# Multi line Statement\n",
    "\n",
    "In Python, end of a statement is marked by a newline character. But we can make a statement extend over multiple lines with the line continuation character ()."
   ]
  },
  {
   "cell_type": "code",
   "execution_count": 16,
   "id": "2ddd4c7c-461f-4bd4-bfe3-f9ca44edbf6d",
   "metadata": {},
   "outputs": [
    {
     "name": "stdout",
     "output_type": "stream",
     "text": [
      "(1, 2, 3, 4, 5, 6, 7, 8, 9)\n"
     ]
    }
   ],
   "source": [
    "# Example of multiline statement:\n",
    "num1 = 1, 2, 3, \\\n",
    "            4, 5, 6, \\\n",
    "            7, 8, 9\n",
    "print(num1)"
   ]
  },
  {
   "cell_type": "code",
   "execution_count": 17,
   "id": "16ebb973-b0f9-4e2b-aabd-e32c2d9628b9",
   "metadata": {},
   "outputs": [
    {
     "name": "stdout",
     "output_type": "stream",
     "text": [
      "(1, 2, 3, 4, 5, 6, 7, 8, 9)\n"
     ]
    }
   ],
   "source": [
    "# Another example of multiline statement:\n",
    "num2 = (1, 2, 3,\n",
    "            4, 5, 6,\n",
    "            7, 8, 9)\n",
    "print(num2)"
   ]
  },
  {
   "cell_type": "code",
   "execution_count": 22,
   "id": "ddd47b0b-4c8a-43d7-9705-3bf8b1326f57",
   "metadata": {},
   "outputs": [
    {
     "name": "stdout",
     "output_type": "stream",
     "text": [
      "Outputs of a, b and c : 10 20 30\n"
     ]
    }
   ],
   "source": [
    "# Put multiple statements in a single line using {;}\n",
    "a = 10; b = 20; c =30\n",
    "print( \"Outputs of a, b and c :\",a, b, c)"
   ]
  },
  {
   "cell_type": "code",
   "execution_count": 23,
   "id": "befb0b28-b2a9-4378-8fc5-3b5de0d0e6aa",
   "metadata": {},
   "outputs": [
    {
     "name": "stdout",
     "output_type": "stream",
     "text": [
      "Outputs of a, b and c : 20 30 40\n"
     ]
    }
   ],
   "source": [
    "# Best way to do the same : Put multiple statements in a single line\n",
    "a, b, c = 20, 30, 40\n",
    "print( \"Outputs of a, b and c :\",a, b, c)"
   ]
  },
  {
   "cell_type": "markdown",
   "id": "01173d76-6be5-4fa8-97f3-b6b71b82e467",
   "metadata": {},
   "source": [
    "# Variables\n",
    "1. A variable is a named storage location that stores data or values.\n",
    "2. Variables are used to represent and manipulate data in a program.\n",
    "3. When you create a variable, you are essentially assigning a name to a particular value or data type."
   ]
  },
  {
   "cell_type": "code",
   "execution_count": 24,
   "id": "a1fe9c83-8343-491e-a2dc-8dae92a7c1ee",
   "metadata": {},
   "outputs": [
    {
     "name": "stdout",
     "output_type": "stream",
     "text": [
      "I am 30 Year old.\n"
     ]
    }
   ],
   "source": [
    "# Variable assignment\n",
    "age = 30\n",
    "\n",
    "# Using the variable in a print statement\n",
    "print(f\"I am {age} Year old.\")"
   ]
  },
  {
   "cell_type": "markdown",
   "id": "4c7a1a64-7b82-486d-85b2-1a2ff854e884",
   "metadata": {},
   "source": [
    "# Storage Locations"
   ]
  },
  {
   "cell_type": "code",
   "execution_count": 35,
   "id": "902f9cbf-52fe-43b2-9093-9afcf78809d8",
   "metadata": {},
   "outputs": [
    {
     "name": "stdout",
     "output_type": "stream",
     "text": [
      "ID of a is :\n",
      "10709360\n",
      "ID of b is :\n",
      "10709360\n",
      "ID of c is :\n",
      "547822093232\n",
      "\n",
      "Observation: \n",
      " {a and y points to same memory location.}\n"
     ]
    }
   ],
   "source": [
    "a = 3\n",
    "b = 3\n",
    "c = 'Data Analyst'\n",
    "\n",
    "print(\"ID of a is :\")\n",
    "print(id(a))\n",
    "\n",
    "print(\"ID of b is :\")\n",
    "print(id(b))\n",
    "\n",
    "print(\"ID of c is :\")\n",
    "print(id(c))\n",
    "\n",
    "print(\"\\nObservation: \\n {a and y points to same memory location.}\")"
   ]
  },
  {
   "cell_type": "markdown",
   "id": "db6b2dca-6163-4838-9271-2489fa2bf791",
   "metadata": {},
   "source": [
    "# Lecture 4.Data Types vs. Data Structures Explained"
   ]
  },
  {
   "cell_type": "code",
   "execution_count": null,
   "id": "76ad6459-3c18-4fda-95cb-0586aebe42d3",
   "metadata": {},
   "outputs": [],
   "source": []
  }
 ],
 "metadata": {
  "kernelspec": {
   "display_name": "Python 3 (ipykernel)",
   "language": "python",
   "name": "python3"
  },
  "language_info": {
   "codemirror_mode": {
    "name": "ipython",
    "version": 3
   },
   "file_extension": ".py",
   "mimetype": "text/x-python",
   "name": "python",
   "nbconvert_exporter": "python",
   "pygments_lexer": "ipython3",
   "version": "3.11.2"
  }
 },
 "nbformat": 4,
 "nbformat_minor": 5
}
