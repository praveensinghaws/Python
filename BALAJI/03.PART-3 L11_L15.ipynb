{
 "cells": [
  {
   "cell_type": "markdown",
   "id": "5efe7c50-ae15-4ac7-a16a-37fbf2e23e0c",
   "metadata": {},
   "source": [
    "# Lecture 11. Operators in Python Part 1"
   ]
  },
  {
   "cell_type": "code",
   "execution_count": null,
   "id": "8b5ddab8-8827-46a9-8fc2-4383cdc6859c",
   "metadata": {},
   "outputs": [],
   "source": []
  },
  {
   "cell_type": "code",
   "execution_count": null,
   "id": "a8baf0e6-68d2-4771-b7ba-7120b3a58850",
   "metadata": {},
   "outputs": [],
   "source": []
  },
  {
   "cell_type": "code",
   "execution_count": null,
   "id": "8a8a975b-710a-4d90-a515-d751698a75e4",
   "metadata": {},
   "outputs": [],
   "source": []
  },
  {
   "cell_type": "code",
   "execution_count": null,
   "id": "c5e20f2f-a099-49ec-93ef-b07f8f2e2fb5",
   "metadata": {},
   "outputs": [],
   "source": []
  },
  {
   "cell_type": "code",
   "execution_count": null,
   "id": "bd37d705-ac53-4ec3-b64c-ae695d94f7a9",
   "metadata": {},
   "outputs": [],
   "source": []
  },
  {
   "cell_type": "code",
   "execution_count": null,
   "id": "42ca0c3b-e1c2-45a6-a376-fac6d7772b1b",
   "metadata": {},
   "outputs": [],
   "source": []
  },
  {
   "cell_type": "code",
   "execution_count": null,
   "id": "0e385e7e-90a9-42df-855d-a643a57e98fd",
   "metadata": {},
   "outputs": [],
   "source": []
  },
  {
   "cell_type": "code",
   "execution_count": null,
   "id": "2585cb8c-d208-4866-981d-ed144bccd068",
   "metadata": {},
   "outputs": [],
   "source": []
  },
  {
   "cell_type": "code",
   "execution_count": null,
   "id": "36839c05-8440-4b0b-a06a-411f09881d59",
   "metadata": {},
   "outputs": [],
   "source": []
  },
  {
   "cell_type": "code",
   "execution_count": null,
   "id": "751927f7-cbcf-4d33-bfbf-82fdcaec89d8",
   "metadata": {},
   "outputs": [],
   "source": []
  },
  {
   "cell_type": "markdown",
   "id": "c2e2fd30-78d5-4a52-ba26-19be0308e9cb",
   "metadata": {},
   "source": [
    "# Lecture 12. Bitwise Operators in Python 2's Complement"
   ]
  },
  {
   "cell_type": "code",
   "execution_count": null,
   "id": "1b4fc28e-8c8a-4354-b84c-1d8e2f5f1714",
   "metadata": {},
   "outputs": [],
   "source": []
  },
  {
   "cell_type": "code",
   "execution_count": null,
   "id": "0c6532dd-8cfe-4709-bc6d-3dbf736d4cea",
   "metadata": {},
   "outputs": [],
   "source": []
  },
  {
   "cell_type": "code",
   "execution_count": null,
   "id": "7b353bfd-92ce-4d9a-b6b7-6bafc25227a9",
   "metadata": {},
   "outputs": [],
   "source": []
  },
  {
   "cell_type": "code",
   "execution_count": null,
   "id": "5a870a32-48ab-444c-9c6d-b93b5b407ba3",
   "metadata": {},
   "outputs": [],
   "source": []
  },
  {
   "cell_type": "code",
   "execution_count": null,
   "id": "4cbf66b0-db5d-4472-b5e6-80f3c674cc17",
   "metadata": {},
   "outputs": [],
   "source": []
  },
  {
   "cell_type": "code",
   "execution_count": null,
   "id": "17e50a50-2831-4718-ba4e-d64862f5ec7a",
   "metadata": {},
   "outputs": [],
   "source": []
  },
  {
   "cell_type": "code",
   "execution_count": null,
   "id": "d8afdf03-7c2d-4907-acec-298e7627abfc",
   "metadata": {},
   "outputs": [],
   "source": []
  },
  {
   "cell_type": "code",
   "execution_count": null,
   "id": "50e65936-feb6-4060-8e85-d173c4840a4c",
   "metadata": {},
   "outputs": [],
   "source": []
  },
  {
   "cell_type": "markdown",
   "id": "fd3541b9-308e-4c4b-880a-d3cc5243886f",
   "metadata": {},
   "source": [
    "# Lecture 13. If else statement tutorial Python"
   ]
  },
  {
   "cell_type": "code",
   "execution_count": null,
   "id": "738af63c-e629-4537-8328-25cf5c9a8c93",
   "metadata": {},
   "outputs": [],
   "source": []
  },
  {
   "cell_type": "code",
   "execution_count": null,
   "id": "1d2a5eec-5944-43b0-b4e0-c1f6c8611665",
   "metadata": {},
   "outputs": [],
   "source": []
  },
  {
   "cell_type": "code",
   "execution_count": null,
   "id": "a8ec2910-83ba-46fa-9653-af56724bec6c",
   "metadata": {},
   "outputs": [],
   "source": []
  },
  {
   "cell_type": "code",
   "execution_count": null,
   "id": "f3dfbcc9-27a9-4493-b5fd-e7bb84a26dfa",
   "metadata": {},
   "outputs": [],
   "source": []
  },
  {
   "cell_type": "code",
   "execution_count": null,
   "id": "32983958-d517-46cf-977c-49cf3bd44b76",
   "metadata": {},
   "outputs": [],
   "source": []
  },
  {
   "cell_type": "code",
   "execution_count": null,
   "id": "82610a08-c46a-421f-883e-41df64b9de9f",
   "metadata": {},
   "outputs": [],
   "source": []
  },
  {
   "cell_type": "code",
   "execution_count": null,
   "id": "ddc9dcbe-a261-4625-a324-63a7e5a9ee6f",
   "metadata": {},
   "outputs": [],
   "source": []
  },
  {
   "cell_type": "code",
   "execution_count": null,
   "id": "2b65dc1d-675e-4489-b76e-094e7b7fa598",
   "metadata": {},
   "outputs": [],
   "source": []
  },
  {
   "cell_type": "code",
   "execution_count": null,
   "id": "30beedea-9679-415b-81c9-fb6451cd5b42",
   "metadata": {},
   "outputs": [],
   "source": []
  },
  {
   "cell_type": "code",
   "execution_count": null,
   "id": "1c6239af-0e81-4b64-905c-7473bd9bc77f",
   "metadata": {},
   "outputs": [],
   "source": []
  },
  {
   "cell_type": "markdown",
   "id": "53aa3b59-4acc-4908-a6c3-c3261e7a4c02",
   "metadata": {},
   "source": [
    "# Lecture 14. While Loops in Python _ How to avoid infinite loops"
   ]
  },
  {
   "cell_type": "code",
   "execution_count": null,
   "id": "b2af2db7-0b19-472d-9a0c-a7ff53d0f87e",
   "metadata": {},
   "outputs": [],
   "source": []
  },
  {
   "cell_type": "code",
   "execution_count": null,
   "id": "0dceddf7-fbf5-42b6-b8e1-75ee571dab58",
   "metadata": {},
   "outputs": [],
   "source": []
  },
  {
   "cell_type": "code",
   "execution_count": null,
   "id": "f0e7e5d2-c208-4c03-9c3a-e78c1575263a",
   "metadata": {},
   "outputs": [],
   "source": []
  },
  {
   "cell_type": "code",
   "execution_count": null,
   "id": "03e9b1ac-017e-4534-871a-80dc3aa968c3",
   "metadata": {},
   "outputs": [],
   "source": []
  },
  {
   "cell_type": "code",
   "execution_count": null,
   "id": "4a57ed97-9a9f-4822-b5e8-b5f6a2143db0",
   "metadata": {},
   "outputs": [],
   "source": []
  },
  {
   "cell_type": "code",
   "execution_count": null,
   "id": "7a60f21c-879a-480d-b707-3df0e431f042",
   "metadata": {},
   "outputs": [],
   "source": []
  },
  {
   "cell_type": "code",
   "execution_count": null,
   "id": "8db21e46-aa50-4448-bce3-8f899cdc93ff",
   "metadata": {},
   "outputs": [],
   "source": []
  },
  {
   "cell_type": "code",
   "execution_count": null,
   "id": "af90ccf5-ba51-41a6-ad73-9b46cd814c1c",
   "metadata": {},
   "outputs": [],
   "source": []
  },
  {
   "cell_type": "code",
   "execution_count": null,
   "id": "987f3192-4897-47f0-a509-b2ce1ef70fa9",
   "metadata": {},
   "outputs": [],
   "source": []
  },
  {
   "cell_type": "code",
   "execution_count": null,
   "id": "aba0198e-221b-4367-be12-43f2e0d26981",
   "metadata": {},
   "outputs": [],
   "source": []
  },
  {
   "cell_type": "markdown",
   "id": "3e5b6031-3002-46b7-b0f1-03b40d414640",
   "metadata": {},
   "source": [
    "# Lecture 15. Python For Loop Tutorial __Real life examples"
   ]
  },
  {
   "cell_type": "code",
   "execution_count": null,
   "id": "dab9fb20-7ce5-441e-b9ca-d419b1b03258",
   "metadata": {},
   "outputs": [],
   "source": []
  },
  {
   "cell_type": "code",
   "execution_count": null,
   "id": "49f106e6-bcf6-47a9-a29d-7be699594777",
   "metadata": {},
   "outputs": [],
   "source": []
  },
  {
   "cell_type": "code",
   "execution_count": null,
   "id": "b26e72d3-5b3a-48a4-9c1e-c68b37e1365b",
   "metadata": {},
   "outputs": [],
   "source": []
  },
  {
   "cell_type": "code",
   "execution_count": null,
   "id": "3ca97da4-76d0-4c8c-b871-924d73ab460c",
   "metadata": {},
   "outputs": [],
   "source": []
  },
  {
   "cell_type": "code",
   "execution_count": null,
   "id": "2179c5b9-5d5b-4d9c-91bf-4ff8532bc3e3",
   "metadata": {},
   "outputs": [],
   "source": []
  },
  {
   "cell_type": "code",
   "execution_count": null,
   "id": "6e1c46d8-d5ff-45cd-8f4b-c2ed85472616",
   "metadata": {},
   "outputs": [],
   "source": []
  },
  {
   "cell_type": "code",
   "execution_count": null,
   "id": "a7fb9fec-628b-4af0-97f3-257e29fcad71",
   "metadata": {},
   "outputs": [],
   "source": []
  },
  {
   "cell_type": "code",
   "execution_count": null,
   "id": "4240a016-594e-41ca-b572-2fb8534b4843",
   "metadata": {},
   "outputs": [],
   "source": []
  },
  {
   "cell_type": "code",
   "execution_count": null,
   "id": "cf6bf652-9a49-48f7-98bc-0402e8cde913",
   "metadata": {},
   "outputs": [],
   "source": []
  },
  {
   "cell_type": "code",
   "execution_count": null,
   "id": "a0ea15b3-42c6-460c-bdc8-b6ded27982a8",
   "metadata": {},
   "outputs": [],
   "source": []
  }
 ],
 "metadata": {
  "kernelspec": {
   "display_name": "Python 3 (ipykernel)",
   "language": "python",
   "name": "python3"
  },
  "language_info": {
   "codemirror_mode": {
    "name": "ipython",
    "version": 3
   },
   "file_extension": ".py",
   "mimetype": "text/x-python",
   "name": "python",
   "nbconvert_exporter": "python",
   "pygments_lexer": "ipython3",
   "version": "3.11.2"
  }
 },
 "nbformat": 4,
 "nbformat_minor": 5
}
