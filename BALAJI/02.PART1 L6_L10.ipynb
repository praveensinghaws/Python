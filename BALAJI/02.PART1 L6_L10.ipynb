{
 "cells": [
  {
   "cell_type": "markdown",
   "id": "6ba165dc-3783-4193-82c6-37625c33e6fc",
   "metadata": {},
   "source": [
    "# Lecture 6. Lists__Methods and Manipulation\n",
    "\n",
    "## List\n",
    "a list is a versatile and mutable data structure that can hold a collection of elements. Lists are defined by enclosing the elements within\n",
    "square brackets ([])."
   ]
  },
  {
   "cell_type": "code",
   "execution_count": 1,
   "id": "ea3ea8ee-2bec-4ef2-b722-dc5fc450b0a0",
   "metadata": {},
   "outputs": [
    {
     "data": {
      "text/plain": [
       "[1, 2, 3, 4, 5]"
      ]
     },
     "execution_count": 1,
     "metadata": {},
     "output_type": "execute_result"
    }
   ],
   "source": [
    "my_list1 = [1, 2, 3, 4, 5]\n",
    "my_list1"
   ]
  },
  {
   "cell_type": "code",
   "execution_count": 2,
   "id": "bce3d887-6a13-4e89-bad5-e82232784b83",
   "metadata": {},
   "outputs": [
    {
     "data": {
      "text/plain": [
       "[1, 2.8, 3, 'Praveen', 5, 'a', (2+1j)]"
      ]
     },
     "execution_count": 2,
     "metadata": {},
     "output_type": "execute_result"
    }
   ],
   "source": [
    "my_list2 = [1, 2.8, 3, 'Praveen', 5 , 'a' , 2+1j]\n",
    "my_list2"
   ]
  },
  {
   "cell_type": "code",
   "execution_count": 3,
   "id": "e9d3adc5-6faa-43b9-93bd-9cbb7bd8e26b",
   "metadata": {},
   "outputs": [
    {
     "data": {
      "text/plain": [
       "1"
      ]
     },
     "execution_count": 3,
     "metadata": {},
     "output_type": "execute_result"
    }
   ],
   "source": [
    "my_list1[0]"
   ]
  },
  {
   "cell_type": "code",
   "execution_count": 4,
   "id": "a2618ba8-1f1f-4321-a66b-989f9c89a69c",
   "metadata": {},
   "outputs": [
    {
     "data": {
      "text/plain": [
       "[3, 4, 5]"
      ]
     },
     "execution_count": 4,
     "metadata": {},
     "output_type": "execute_result"
    }
   ],
   "source": [
    "my_list1[2:]"
   ]
  },
  {
   "cell_type": "code",
   "execution_count": 5,
   "id": "7cf3d713-a8cb-43ce-864d-d5ea8f53c484",
   "metadata": {},
   "outputs": [
    {
     "data": {
      "text/plain": [
       "['Praveen', 5, 'a', (2+1j)]"
      ]
     },
     "execution_count": 5,
     "metadata": {},
     "output_type": "execute_result"
    }
   ],
   "source": [
    "my_list2[-4:]"
   ]
  },
  {
   "cell_type": "code",
   "execution_count": 6,
   "id": "fa2f2ecc-df1f-4788-bc48-6eaf1224f7cb",
   "metadata": {},
   "outputs": [
    {
     "data": {
      "text/plain": [
       "[1, 'Praveen Singh', 3, 4, 5]"
      ]
     },
     "execution_count": 6,
     "metadata": {},
     "output_type": "execute_result"
    }
   ],
   "source": [
    "my_list1[1] = 'Praveen Singh' ## Mutable Means\n",
    "my_list1"
   ]
  },
  {
   "cell_type": "code",
   "execution_count": 7,
   "id": "6beae0cd-3f14-47d1-b0bb-3bd8101ddc94",
   "metadata": {},
   "outputs": [
    {
     "data": {
      "text/plain": [
       "[5, 4, 3, 2, 1]"
      ]
     },
     "execution_count": 7,
     "metadata": {},
     "output_type": "execute_result"
    }
   ],
   "source": [
    "my_list = [1, 2, 3, 4, 5]\n",
    "my_list.reverse()\n",
    "my_list"
   ]
  },
  {
   "cell_type": "code",
   "execution_count": 8,
   "id": "e9193eb1-f635-41d3-a41e-5af898f086ca",
   "metadata": {},
   "outputs": [
    {
     "data": {
      "text/plain": [
       "[5, 4, 3, 2, 1]"
      ]
     },
     "execution_count": 8,
     "metadata": {},
     "output_type": "execute_result"
    }
   ],
   "source": [
    "my_list = [1, 2, 3, 4, 5]\n",
    "my_list[: : -1]"
   ]
  },
  {
   "cell_type": "code",
   "execution_count": 9,
   "id": "e9a802a2-0c63-4016-85c9-8a0b45180ed8",
   "metadata": {},
   "outputs": [
    {
     "data": {
      "text/plain": [
       "['d', 'c', 'b', 'a']"
      ]
     },
     "execution_count": 9,
     "metadata": {},
     "output_type": "execute_result"
    }
   ],
   "source": [
    "my_listnew = ['a', 'b', 'c' , 'd']\n",
    "my_listnew.reverse()\n",
    "my_listnew"
   ]
  },
  {
   "cell_type": "code",
   "execution_count": 10,
   "id": "e5ced2a0-8c68-440b-90f9-ab9c4b539dcd",
   "metadata": {},
   "outputs": [
    {
     "data": {
      "text/plain": [
       "['d', 'c', 'b', 'a']"
      ]
     },
     "execution_count": 10,
     "metadata": {},
     "output_type": "execute_result"
    }
   ],
   "source": [
    "my_listnew = ['a', 'b', 'c' , 'd']\n",
    "my_listnew[: : -1]"
   ]
  },
  {
   "cell_type": "markdown",
   "id": "ecb1c5fe-7817-4d93-9975-9f51b716103a",
   "metadata": {},
   "source": [
    "## Modifying list"
   ]
  },
  {
   "cell_type": "code",
   "execution_count": 11,
   "id": "fae7b47f-a3f5-4ee4-8a6b-fcce052abb0c",
   "metadata": {},
   "outputs": [
    {
     "data": {
      "text/plain": [
       "[1, 2, 3, 4, 5]"
      ]
     },
     "execution_count": 11,
     "metadata": {},
     "output_type": "execute_result"
    }
   ],
   "source": [
    "\n",
    "my_list = [1, 2, 3, 4, 5]\n",
    "my_list"
   ]
  },
  {
   "cell_type": "code",
   "execution_count": 12,
   "id": "f87ce40b-762b-45fc-86f6-9d33eff83b7e",
   "metadata": {},
   "outputs": [
    {
     "data": {
      "text/plain": [
       "[1, 99, 3, 4, 5]"
      ]
     },
     "execution_count": 12,
     "metadata": {},
     "output_type": "execute_result"
    }
   ],
   "source": [
    "my_list[1] = 99\n",
    "my_list"
   ]
  },
  {
   "cell_type": "code",
   "execution_count": 13,
   "id": "68e82331-ac9c-432b-93ec-dd91fd75b8c3",
   "metadata": {},
   "outputs": [
    {
     "data": {
      "text/plain": [
       "[1, 99, 3, 4, 5, 10]"
      ]
     },
     "execution_count": 13,
     "metadata": {},
     "output_type": "execute_result"
    }
   ],
   "source": [
    "my_list.append (10)\n",
    "my_list"
   ]
  },
  {
   "cell_type": "code",
   "execution_count": 14,
   "id": "16d49f67-fb4e-4cc8-984e-56125b429ade",
   "metadata": {},
   "outputs": [
    {
     "data": {
      "text/plain": [
       "[1, 99, 4, 5, 10]"
      ]
     },
     "execution_count": 14,
     "metadata": {},
     "output_type": "execute_result"
    }
   ],
   "source": [
    "my_list.remove (3)\n",
    "my_list"
   ]
  },
  {
   "cell_type": "code",
   "execution_count": 15,
   "id": "b8f132db-3c50-4320-bbd4-e9bcf04be747",
   "metadata": {},
   "outputs": [
    {
     "data": {
      "text/plain": [
       "[1, 99, 4, 5]"
      ]
     },
     "execution_count": 15,
     "metadata": {},
     "output_type": "execute_result"
    }
   ],
   "source": [
    "my_list.pop()\n",
    "my_list"
   ]
  },
  {
   "cell_type": "code",
   "execution_count": 16,
   "id": "59bd8fcc-c64a-493b-ae4b-ef126aaca569",
   "metadata": {},
   "outputs": [
    {
     "name": "stdout",
     "output_type": "stream",
     "text": [
      "[1, 2, 3, 4, 5, 6, 9]\n"
     ]
    }
   ],
   "source": [
    "# List Concatenation\n",
    "list1 = [1, 2, 3]\n",
    "list2 = [4, 5, 6, 9]\n",
    "combined_list = list1 + list2\n",
    "print(combined_list)"
   ]
  },
  {
   "cell_type": "code",
   "execution_count": 17,
   "id": "4bccbad0-c185-45ab-ae7e-3b085e3e9156",
   "metadata": {},
   "outputs": [
    {
     "name": "stdout",
     "output_type": "stream",
     "text": [
      "[0, 0, 0, 0, 0, 0, 0, 0, 0, 0, 0, 0, 0, 0, 0, 0, 0, 0, 0, 0]\n"
     ]
    }
   ],
   "source": [
    "## List repetation\n",
    "\n",
    "repeated_list = [0] * 20\n",
    "print(repeated_list) # [0, 0, 0, 0, 0, 0, 0, 0, 0, 0, 0, 0, 0, 0, 0, 0, 0, 0, 0, 0]"
   ]
  },
  {
   "cell_type": "code",
   "execution_count": 18,
   "id": "f722abc9-50bb-4491-8edd-fc22ac5a5346",
   "metadata": {},
   "outputs": [
    {
     "name": "stdout",
     "output_type": "stream",
     "text": [
      "[1, 2, 3, 4, 5]\n",
      "Len : 5\n"
     ]
    }
   ],
   "source": [
    "# Len of list\n",
    "my_list = [1, 2, 3, 4, 5]\n",
    "length = len(my_list)\n",
    "print(my_list)\n",
    "print(\"Len :\",length)"
   ]
  },
  {
   "cell_type": "code",
   "execution_count": 19,
   "id": "14c58d14-2900-4e91-b6b9-0e3f5b38b1bd",
   "metadata": {},
   "outputs": [
    {
     "data": {
      "text/plain": [
       "[[1, 2, 3], [4, 5, 6], [7, 8, 9], ['1', 2, 'Welcome']]"
      ]
     },
     "execution_count": 19,
     "metadata": {},
     "output_type": "execute_result"
    }
   ],
   "source": [
    "# Nested List\n",
    "nested_list = [[1,2,3], [4,5,6], [7,8,9], ['1',2,'Welcome']]\n",
    "nested_list"
   ]
  },
  {
   "cell_type": "code",
   "execution_count": 20,
   "id": "72131f69-a563-49f7-9f64-c0d52f3012e9",
   "metadata": {},
   "outputs": [
    {
     "data": {
      "text/plain": [
       "6"
      ]
     },
     "execution_count": 20,
     "metadata": {},
     "output_type": "execute_result"
    }
   ],
   "source": [
    "nested_list[1][2]  # 2nd row and 3rd column"
   ]
  },
  {
   "cell_type": "code",
   "execution_count": 21,
   "id": "d045cbed-313c-4c53-a76d-ec7594080d7b",
   "metadata": {},
   "outputs": [
    {
     "data": {
      "text/plain": [
       "[1, 10, 4, 5, 6]"
      ]
     },
     "execution_count": 21,
     "metadata": {},
     "output_type": "execute_result"
    }
   ],
   "source": [
    "my_list = [1, 10, 4, 5, 6]\n",
    "my_list"
   ]
  },
  {
   "cell_type": "code",
   "execution_count": 22,
   "id": "76fe8e03-4544-4f0b-9922-6c973b523048",
   "metadata": {},
   "outputs": [
    {
     "data": {
      "text/plain": [
       "[1, 10, 4, 5, 6, 7]"
      ]
     },
     "execution_count": 22,
     "metadata": {},
     "output_type": "execute_result"
    }
   ],
   "source": [
    "my_list.append(7)\n",
    "my_list"
   ]
  },
  {
   "cell_type": "code",
   "execution_count": 23,
   "id": "2b7eca52-a84d-49df-baa4-8287936dd4fb",
   "metadata": {},
   "outputs": [
    {
     "data": {
      "text/plain": [
       "[1, 10, 100, 4, 5, 6, 7]"
      ]
     },
     "execution_count": 23,
     "metadata": {},
     "output_type": "execute_result"
    }
   ],
   "source": [
    "my_list.insert(2, 100)\n",
    "my_list"
   ]
  },
  {
   "cell_type": "code",
   "execution_count": 24,
   "id": "8da4c219-963b-4383-8f49-5b10a554183b",
   "metadata": {},
   "outputs": [
    {
     "data": {
      "text/plain": [
       "[1, 10, 100, 5, 6, 7]"
      ]
     },
     "execution_count": 24,
     "metadata": {},
     "output_type": "execute_result"
    }
   ],
   "source": [
    "my_list.pop(3)\n",
    "my_list"
   ]
  },
  {
   "cell_type": "code",
   "execution_count": 25,
   "id": "9a7ad08a-6015-4eec-a342-662febd61065",
   "metadata": {},
   "outputs": [
    {
     "data": {
      "text/plain": [
       "[1, 10, 100, 6, 7]"
      ]
     },
     "execution_count": 25,
     "metadata": {},
     "output_type": "execute_result"
    }
   ],
   "source": [
    "my_list.remove(5)\n",
    "my_list"
   ]
  },
  {
   "cell_type": "markdown",
   "id": "db513b5e-0c83-4672-92f0-dc642d2ed60a",
   "metadata": {},
   "source": [
    "# List Comprehension\n",
    "\n",
    "### newlist = [expression for item in iterable if condition]"
   ]
  },
  {
   "cell_type": "code",
   "execution_count": 26,
   "id": "c1da23db-444b-4d31-ab5b-4060a44b9a12",
   "metadata": {},
   "outputs": [
    {
     "data": {
      "text/plain": [
       "[0, 1, 4, 9, 16]"
      ]
     },
     "execution_count": 26,
     "metadata": {},
     "output_type": "execute_result"
    }
   ],
   "source": [
    "squares = [x ** 2 for x in range(5)]    # [0, 1, 4, 9, 16]\n",
    "squares     "
   ]
  },
  {
   "cell_type": "code",
   "execution_count": 27,
   "id": "074ddae7-0d58-4f8a-b6d4-5b1aea5677fb",
   "metadata": {},
   "outputs": [
    {
     "name": "stdout",
     "output_type": "stream",
     "text": [
      "0\n",
      "1\n",
      "4\n",
      "9\n",
      "16\n"
     ]
    }
   ],
   "source": [
    "for x in range(5):\n",
    "    print(x ** 2)"
   ]
  },
  {
   "cell_type": "markdown",
   "id": "69937b32-b055-48a1-ab18-e59b9d7a1372",
   "metadata": {},
   "source": [
    "# Lecture 7. Tuples in Python __ Mastering Immutable data structures"
   ]
  },
  {
   "cell_type": "markdown",
   "id": "7bd57826-df32-40f5-8b6a-7fae9ad368a5",
   "metadata": {},
   "source": [
    "# Tuples\n",
    "1. a tuple is a collection of ordered and `immutable elements`. Tuples are similar to lists, but the key difference is that once a tuple is created,\n",
    "its elements cannot be changed or modified. Tuples are defined using parentheses `()`.\n",
    "\n",
    "2. Any time you need to store a sequence of data like a list, but don't need the mutability of a list, a tuple is appropriate. They're for when you know exactly how many elements you need to store and what those elements are ahead of time\n",
    "\n",
    "3. Coordinates in Geographic Information Systems (GIS): Tuples can represent coordinates `(latitude, longitude)` in GIS applications. For example: coordinates = `(37.7749,-122.4194)` representing the coordinates of San Francisco."
   ]
  },
  {
   "cell_type": "code",
   "execution_count": 28,
   "id": "d97e0a31-0ecd-4912-bb06-650c8a1b8b66",
   "metadata": {},
   "outputs": [
    {
     "data": {
      "text/plain": [
       "(1, 2, 3, 4, 5)"
      ]
     },
     "execution_count": 28,
     "metadata": {},
     "output_type": "execute_result"
    }
   ],
   "source": [
    "my_tuple1 = (1, 2, 3, 4, 5)\n",
    "my_tuple1"
   ]
  },
  {
   "cell_type": "code",
   "execution_count": 29,
   "id": "a95a2b82-3e68-4de9-a41c-b689c9f7f649",
   "metadata": {},
   "outputs": [
    {
     "data": {
      "text/plain": [
       "1"
      ]
     },
     "execution_count": 29,
     "metadata": {},
     "output_type": "execute_result"
    }
   ],
   "source": [
    "my_tuple1[0]"
   ]
  },
  {
   "cell_type": "code",
   "execution_count": 30,
   "id": "9f96f858-c262-4ea9-9b62-865d42877352",
   "metadata": {},
   "outputs": [
    {
     "data": {
      "text/plain": [
       "(1, 2.4, (2+3j), [4, 5, 'Data', 9.6])"
      ]
     },
     "execution_count": 30,
     "metadata": {},
     "output_type": "execute_result"
    }
   ],
   "source": [
    "my_tuple2 = (1, 2.4, 2+3j, [4, 5, 'Data', 9.6])   \n",
    "my_tuple2                                          "
   ]
  },
  {
   "cell_type": "code",
   "execution_count": 31,
   "id": "3030e08c-b0d7-485e-b596-aa4ff9dfdc30",
   "metadata": {},
   "outputs": [
    {
     "data": {
      "text/plain": [
       "[4, 5, 'Data', 9.6]"
      ]
     },
     "execution_count": 31,
     "metadata": {},
     "output_type": "execute_result"
    }
   ],
   "source": [
    "my_tuple2[3]   #  [4, 5, 'Data', 9.6]"
   ]
  },
  {
   "cell_type": "code",
   "execution_count": 32,
   "id": "d1a75bdd-5f40-42f1-bcc1-34253f36f102",
   "metadata": {},
   "outputs": [
    {
     "data": {
      "text/plain": [
       "[1, 2, 3, 4]"
      ]
     },
     "execution_count": 32,
     "metadata": {},
     "output_type": "execute_result"
    }
   ],
   "source": [
    "my_list = [1, 2, 3, 4]\n",
    "my_list"
   ]
  },
  {
   "cell_type": "code",
   "execution_count": 33,
   "id": "e0fc2e8c-9629-40ae-9141-33ecd1d5f3d4",
   "metadata": {},
   "outputs": [
    {
     "data": {
      "text/plain": [
       "(1, 2, 3, 4)"
      ]
     },
     "execution_count": 33,
     "metadata": {},
     "output_type": "execute_result"
    }
   ],
   "source": [
    "my_tupple = (1, 2, 3, 4)\n",
    "my_tupple"
   ]
  },
  {
   "cell_type": "code",
   "execution_count": 34,
   "id": "13aee888-2288-4281-a0f0-70fc6bbd8743",
   "metadata": {},
   "outputs": [
    {
     "data": {
      "text/plain": [
       "[100, 2, 3, 4]"
      ]
     },
     "execution_count": 34,
     "metadata": {},
     "output_type": "execute_result"
    }
   ],
   "source": [
    "my_list[0] = 100\n",
    "my_list"
   ]
  },
  {
   "cell_type": "code",
   "execution_count": 35,
   "id": "0fe1656b-c013-4daa-bf9a-ac99d0032ade",
   "metadata": {},
   "outputs": [
    {
     "ename": "TypeError",
     "evalue": "'tuple' object does not support item assignment",
     "output_type": "error",
     "traceback": [
      "\u001b[0;31m---------------------------------------------------------------------------\u001b[0m",
      "\u001b[0;31mTypeError\u001b[0m                                 Traceback (most recent call last)",
      "Cell \u001b[0;32mIn[35], line 1\u001b[0m\n\u001b[0;32m----> 1\u001b[0m \u001b[43mmy_tupple\u001b[49m\u001b[43m[\u001b[49m\u001b[38;5;241;43m0\u001b[39;49m\u001b[43m]\u001b[49m \u001b[38;5;241m=\u001b[39m \u001b[38;5;241m100\u001b[39m   \u001b[38;5;66;03m## TypeError: 'tuple' object does not support item assignment\u001b[39;00m\n",
      "\u001b[0;31mTypeError\u001b[0m: 'tuple' object does not support item assignment"
     ]
    }
   ],
   "source": [
    "my_tupple[0] = 100   ## TypeError: 'tuple' object does not support item assignment"
   ]
  },
  {
   "cell_type": "code",
   "execution_count": 36,
   "id": "72f2fef3-cca3-434a-a8d5-ef8a70e7bd9d",
   "metadata": {},
   "outputs": [
    {
     "name": "stdout",
     "output_type": "stream",
     "text": [
      "1 2 3\n"
     ]
    }
   ],
   "source": [
    "# Unpack Tuples\n",
    "x,y,z = (1,2,3)\n",
    "print(x,y,z)"
   ]
  },
  {
   "cell_type": "code",
   "execution_count": 37,
   "id": "c1610728-108a-4a2a-ba67-732931270a76",
   "metadata": {},
   "outputs": [
    {
     "name": "stdout",
     "output_type": "stream",
     "text": [
      "<class 'tuple'>\n"
     ]
    }
   ],
   "source": [
    "single_element_tuple = (65,)\n",
    "print(type(single_element_tuple))"
   ]
  },
  {
   "cell_type": "code",
   "execution_count": 41,
   "id": "2711d937-dc36-49d1-94bc-309d3e7b91a2",
   "metadata": {},
   "outputs": [
    {
     "name": "stdout",
     "output_type": "stream",
     "text": [
      "my_tupple len : 4\n"
     ]
    }
   ],
   "source": [
    "# Len of Tuple\n",
    "print(\"my_tupple len :\",len(my_tupple))"
   ]
  },
  {
   "cell_type": "code",
   "execution_count": 42,
   "id": "38830b16-5384-431c-8448-5e68dc641492",
   "metadata": {},
   "outputs": [
    {
     "name": "stdout",
     "output_type": "stream",
     "text": [
      "count_of_2 :  2\n",
      "index_of_4 :  3\n"
     ]
    }
   ],
   "source": [
    "my_tuple = (1, 2, 3 ,4, 2, 5)\n",
    "\n",
    "count_of_2 = my_tuple.count(2)\n",
    "print(\"count_of_2 : \",count_of_2)\n",
    "\n",
    "index_of_4 = my_tuple.index(4)\n",
    "print(\"index_of_4 : \",index_of_4)"
   ]
  },
  {
   "cell_type": "code",
   "execution_count": 64,
   "id": "b62bb965-4711-4823-83ea-5316998b34e6",
   "metadata": {},
   "outputs": [
    {
     "data": {
      "text/plain": [
       "(1, 2, 3, 2, 4, 5)"
      ]
     },
     "execution_count": 64,
     "metadata": {},
     "output_type": "execute_result"
    }
   ],
   "source": [
    "# Concat\n",
    "\n",
    "tuple1 = (1,2,3)\n",
    "tuple2 = (2,4,5)\n",
    "\n",
    "concat_tuple = tuple1 + tuple2\n",
    "concat_tuple"
   ]
  },
  {
   "cell_type": "code",
   "execution_count": 65,
   "id": "036ee0a5-1879-4f8c-b463-eb20bc6b7dfd",
   "metadata": {},
   "outputs": [],
   "source": [
    "# concat_tuple.reverse()   #  AttributeError: 'tuple' object has no attribute 'reverse'\n"
   ]
  },
  {
   "cell_type": "code",
   "execution_count": 66,
   "id": "bffdea50-2d6e-447d-a0d0-b02eb7502389",
   "metadata": {},
   "outputs": [
    {
     "data": {
      "text/plain": [
       "('apple', 'banana', 'cherry', 'date', 'elderberry')"
      ]
     },
     "execution_count": 66,
     "metadata": {},
     "output_type": "execute_result"
    }
   ],
   "source": [
    "my_tuple = ('apple', 'banana', 'cherry', 'date', 'elderberry')\n",
    "my_tuple"
   ]
  },
  {
   "cell_type": "code",
   "execution_count": 67,
   "id": "31f39d60-9857-4367-b2ed-40f6af9459c9",
   "metadata": {},
   "outputs": [
    {
     "data": {
      "text/plain": [
       "'apple'"
      ]
     },
     "execution_count": 67,
     "metadata": {},
     "output_type": "execute_result"
    }
   ],
   "source": [
    "my_tuple[0]"
   ]
  },
  {
   "cell_type": "code",
   "execution_count": 69,
   "id": "e1bba61b-be58-4203-9dcb-879a37fa5c37",
   "metadata": {},
   "outputs": [
    {
     "data": {
      "text/plain": [
       "(5, 4, 2, 3, 2, 1)"
      ]
     },
     "execution_count": 69,
     "metadata": {},
     "output_type": "execute_result"
    }
   ],
   "source": [
    "concat_tuple[: : -1]"
   ]
  },
  {
   "cell_type": "code",
   "execution_count": 70,
   "id": "6eec9e53-2415-48a4-8203-d93355c2f229",
   "metadata": {},
   "outputs": [
    {
     "name": "stdout",
     "output_type": "stream",
     "text": [
      "g\n",
      "('g', 'f', 'e', 'd', 'c', 'b', 'a')\n",
      "('g', 'e', 'c', 'a')\n"
     ]
    }
   ],
   "source": [
    "# Comment down the answer to this piece.\n",
    "my_tuple = ('a', 'b', 'c', 'd', 'e', 'f', 'g')\n",
    "print(my_tuple[-1])  # g\n",
    "print(my_tuple[ ::- 1])  #  ('g', 'f', 'e', 'd', 'c', 'b', 'a')\n",
    "print(my_tuple[-1 ::- 2])   # ('g', 'e', 'c', 'a')"
   ]
  },
  {
   "cell_type": "markdown",
   "id": "1d1aada3-1987-4cc1-813e-acb4407d3475",
   "metadata": {},
   "source": [
    "# Lecture 8. Sets in Python __ Methods and Manipulations\n",
    "### Note :  Set is an unordered (No index) we can use indexing"
   ]
  },
  {
   "cell_type": "code",
   "execution_count": 76,
   "id": "22976bfe-efd7-47e4-8a56-de3c53179bda",
   "metadata": {},
   "outputs": [
    {
     "name": "stdout",
     "output_type": "stream",
     "text": [
      "{1, 2, 3, 4, 5}\n"
     ]
    }
   ],
   "source": [
    "my_set = {1, 2, 3, 4, 5}\n",
    "print(my_set)"
   ]
  },
  {
   "cell_type": "code",
   "execution_count": 77,
   "id": "c08f301d-ffc3-4564-ad20-601ddedaa4d3",
   "metadata": {},
   "outputs": [
    {
     "name": "stdout",
     "output_type": "stream",
     "text": [
      "<class 'set'>\n"
     ]
    }
   ],
   "source": [
    "print(type(my_set))"
   ]
  },
  {
   "cell_type": "code",
   "execution_count": 78,
   "id": "09304666-ffdd-47e6-9ae2-e2a4ca337d23",
   "metadata": {},
   "outputs": [
    {
     "name": "stdout",
     "output_type": "stream",
     "text": [
      "{3, 4, 5, 6, 7}\n"
     ]
    }
   ],
   "source": [
    "list1 = [3, 3, 4, 5, 6, 7]\n",
    "another_set = set(list1)\n",
    "print(another_set) #  {3, 4, 5, 6, 7} will return unique elements"
   ]
  },
  {
   "cell_type": "markdown",
   "id": "a1b1dc02-650a-40f3-8434-54b3edc82297",
   "metadata": {},
   "source": [
    "## Set Methods\n",
    "\n",
    "1. add(): Adds an element to the set.\n",
    "2. update(): Adds multiple elements to the set.\n",
    "3. remove(): Removes a specified element. Raises an error if the element is not present.\n",
    "4. discard(): Removes a specified element if it is present.\n",
    "5. pop(): Removes and returns an arbitrary element. Raises an error if the set is empty."
   ]
  },
  {
   "cell_type": "code",
   "execution_count": 79,
   "id": "d44fcab5-770c-4c0d-93b8-ad873097ccf2",
   "metadata": {},
   "outputs": [
    {
     "data": {
      "text/plain": [
       "{1, 2, 3, 4, 5}"
      ]
     },
     "execution_count": 79,
     "metadata": {},
     "output_type": "execute_result"
    }
   ],
   "source": [
    "my_set"
   ]
  },
  {
   "cell_type": "code",
   "execution_count": 81,
   "id": "e3a72db5-f027-40ae-bb6c-3113fc18f9be",
   "metadata": {},
   "outputs": [
    {
     "data": {
      "text/plain": [
       "{1, 2, 3, 4, 5, 99}"
      ]
     },
     "execution_count": 81,
     "metadata": {},
     "output_type": "execute_result"
    }
   ],
   "source": [
    "my_set.add(99)\n",
    "my_set"
   ]
  },
  {
   "cell_type": "code",
   "execution_count": 84,
   "id": "ef47461b-45bf-4eef-8a06-63dd84642baf",
   "metadata": {},
   "outputs": [
    {
     "data": {
      "text/plain": [
       "{1, 2, 3, 4, 5, 11, 12, 13, 99}"
      ]
     },
     "execution_count": 84,
     "metadata": {},
     "output_type": "execute_result"
    }
   ],
   "source": [
    "my_set.update({11,12,12,13})\n",
    "my_set               # Again its taking unique {1, 2, 3, 4, 5, 11, 12, 13, 99}"
   ]
  },
  {
   "cell_type": "code",
   "execution_count": 85,
   "id": "1dae4191-df65-45b4-90e9-dca948dc7971",
   "metadata": {},
   "outputs": [
    {
     "data": {
      "text/plain": [
       "{1, 2, 3, 4, 5, 11, 12, 13, 21, 22, 23, 99}"
      ]
     },
     "execution_count": 85,
     "metadata": {},
     "output_type": "execute_result"
    }
   ],
   "source": [
    "my_set.update([21,22,23,21,22])\n",
    "my_set                       # Again its taking unique {1, 2, 3, 4, 5, 11, 12, 13, 21, 22, 23, 99}"
   ]
  },
  {
   "cell_type": "code",
   "execution_count": 86,
   "id": "63b5a665-6fee-4ce7-952f-2a26112ccc08",
   "metadata": {},
   "outputs": [
    {
     "data": {
      "text/plain": [
       "{1, 2, 3, 4, 5, 11, 12, 13, 21, 22, 23}"
      ]
     },
     "execution_count": 86,
     "metadata": {},
     "output_type": "execute_result"
    }
   ],
   "source": [
    "my_set.remove(99)\n",
    "my_set"
   ]
  },
  {
   "cell_type": "code",
   "execution_count": 96,
   "id": "88740b06-fc1b-4664-8303-bea5e6c01433",
   "metadata": {},
   "outputs": [
    {
     "data": {
      "text/plain": [
       "{4, 5, 11, 12, 13, 21, 22, 23}"
      ]
     },
     "execution_count": 96,
     "metadata": {},
     "output_type": "execute_result"
    }
   ],
   "source": [
    "\"\"\"The discard() method removes the specified item from the set.\n",
    "This method is different from the remove() method, because the remove() method will raise an error if the specified item does not exist, and the\n",
    "discard() method will not.\"\"\"\n",
    "\n",
    "my_set.discard(99)    # if element not present then it will not though error but remove will show error.\n",
    "my_set"
   ]
  },
  {
   "cell_type": "code",
   "execution_count": 95,
   "id": "2565630d-63d0-4785-a388-7a9699a5ccb2",
   "metadata": {},
   "outputs": [
    {
     "data": {
      "text/plain": [
       "{4, 5, 11, 12, 13, 21, 22, 23}"
      ]
     },
     "execution_count": 95,
     "metadata": {},
     "output_type": "execute_result"
    }
   ],
   "source": [
    "my_set.pop()\n",
    "my_set"
   ]
  },
  {
   "cell_type": "code",
   "execution_count": 97,
   "id": "bfc65c94-dbdf-4312-b18a-abab6303f179",
   "metadata": {},
   "outputs": [
    {
     "name": "stdout",
     "output_type": "stream",
     "text": [
      "{1, 2, 3, 4} {3, 4, 5, 6}\n"
     ]
    }
   ],
   "source": [
    "set1 = {1, 2, 3, 4}\n",
    "set2 = {3, 4, 5, 6}\n",
    "print(set1,set2)             ## {1, 2, 3, 4} {3, 4, 5, 6}"
   ]
  },
  {
   "cell_type": "code",
   "execution_count": 98,
   "id": "f983b467-4f6c-48b3-b1ac-ca9da5c63e92",
   "metadata": {},
   "outputs": [
    {
     "data": {
      "text/plain": [
       "{1, 2, 3, 4, 5, 6}"
      ]
     },
     "execution_count": 98,
     "metadata": {},
     "output_type": "execute_result"
    }
   ],
   "source": [
    "set_union = set1.union(set2)\n",
    "set_union                        ## {1, 2, 3, 4, 5, 6}"
   ]
  },
  {
   "cell_type": "code",
   "execution_count": 99,
   "id": "06f383ba-ce2e-4ab7-b4da-f2dd08bbcee1",
   "metadata": {},
   "outputs": [
    {
     "data": {
      "text/plain": [
       "{3, 4}"
      ]
     },
     "execution_count": 99,
     "metadata": {},
     "output_type": "execute_result"
    }
   ],
   "source": [
    "set_intersection = set1.intersection(set2)\n",
    "set_intersection          ## {3, 4}"
   ]
  },
  {
   "cell_type": "code",
   "execution_count": 100,
   "id": "645b06a2-d1ae-45e4-854c-6ddcc494a8c9",
   "metadata": {},
   "outputs": [],
   "source": [
    "#### Pending"
   ]
  },
  {
   "cell_type": "code",
   "execution_count": null,
   "id": "11f2dd4a-1fdb-4e81-864c-2bb23ca6b2e0",
   "metadata": {},
   "outputs": [],
   "source": []
  }
 ],
 "metadata": {
  "kernelspec": {
   "display_name": "Python 3 (ipykernel)",
   "language": "python",
   "name": "python3"
  },
  "language_info": {
   "codemirror_mode": {
    "name": "ipython",
    "version": 3
   },
   "file_extension": ".py",
   "mimetype": "text/x-python",
   "name": "python",
   "nbconvert_exporter": "python",
   "pygments_lexer": "ipython3",
   "version": "3.11.2"
  }
 },
 "nbformat": 4,
 "nbformat_minor": 5
}
