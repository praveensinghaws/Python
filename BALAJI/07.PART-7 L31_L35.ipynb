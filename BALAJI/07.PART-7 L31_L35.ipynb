{
 "cells": [
  {
   "cell_type": "markdown",
   "id": "3d4e583d-e734-400a-a5d9-c0e0e5906a4d",
   "metadata": {},
   "source": [
    "# Lecture 31. Filtering and GroupBy in DataFrames __ Pandas from Scratch - Part 6"
   ]
  },
  {
   "cell_type": "code",
   "execution_count": null,
   "id": "8a6f8eff-2b50-4071-9988-cd05cc7a64a9",
   "metadata": {},
   "outputs": [],
   "source": []
  },
  {
   "cell_type": "code",
   "execution_count": null,
   "id": "b565eb01-17a6-4a42-abbf-d1061099c732",
   "metadata": {},
   "outputs": [],
   "source": []
  },
  {
   "cell_type": "code",
   "execution_count": null,
   "id": "32b96cc7-2513-4b2c-9e23-e5d1954dd6f1",
   "metadata": {},
   "outputs": [],
   "source": []
  },
  {
   "cell_type": "code",
   "execution_count": null,
   "id": "56738e48-57ee-40ed-a321-c8d451b8ddb3",
   "metadata": {},
   "outputs": [],
   "source": []
  },
  {
   "cell_type": "code",
   "execution_count": null,
   "id": "70e42772-2780-4780-b6f4-3a6448d929ec",
   "metadata": {},
   "outputs": [],
   "source": []
  },
  {
   "cell_type": "markdown",
   "id": "4f76ee86-9349-4774-8b55-81eeaf571b13",
   "metadata": {},
   "source": [
    "# Lecture 32. Join VS Merge VS Concat in DataFrames __ Pandas from Scratch - Part 7"
   ]
  },
  {
   "cell_type": "code",
   "execution_count": null,
   "id": "89a3c69d-b564-4c9a-a1f5-158a81e26372",
   "metadata": {},
   "outputs": [],
   "source": []
  },
  {
   "cell_type": "code",
   "execution_count": null,
   "id": "4e50ee45-6ea5-4770-9842-c94a3c8b5ea8",
   "metadata": {},
   "outputs": [],
   "source": []
  },
  {
   "cell_type": "code",
   "execution_count": null,
   "id": "ae253d8a-631c-4d7a-8e22-8aec2964cd8e",
   "metadata": {},
   "outputs": [],
   "source": []
  },
  {
   "cell_type": "code",
   "execution_count": null,
   "id": "ac0b5a84-8edf-4303-ae52-af32f4f5d73e",
   "metadata": {},
   "outputs": [],
   "source": []
  },
  {
   "cell_type": "code",
   "execution_count": null,
   "id": "a4d5c7d3-d2af-46ae-b51c-7bf3e5092dbf",
   "metadata": {},
   "outputs": [],
   "source": []
  },
  {
   "cell_type": "code",
   "execution_count": null,
   "id": "b7d588e3-d265-4d30-b388-a9d9e4030813",
   "metadata": {},
   "outputs": [],
   "source": []
  }
 ],
 "metadata": {
  "kernelspec": {
   "display_name": "Python 3 (ipykernel)",
   "language": "python",
   "name": "python3"
  },
  "language_info": {
   "codemirror_mode": {
    "name": "ipython",
    "version": 3
   },
   "file_extension": ".py",
   "mimetype": "text/x-python",
   "name": "python",
   "nbconvert_exporter": "python",
   "pygments_lexer": "ipython3",
   "version": "3.11.2"
  }
 },
 "nbformat": 4,
 "nbformat_minor": 5
}
