{
 "cells": [
  {
   "cell_type": "markdown",
   "id": "a753a583-0b3b-4385-ba04-35843f8c3d77",
   "metadata": {},
   "source": [
    "# INSTALLING POSTGRESQL ON MAC \n",
    "\n",
    "I apologize for the oversight. If you want to include the Conda-related steps in the script, you can integrate them as follows:\n",
    "\n",
    "```bash\n",
    "#!/bin/bash\n",
    "\n",
    "# Install PostgreSQL\n",
    "brew install postgresql@14\n",
    "\n",
    "# Start PostgreSQL Service\n",
    "brew services start postgresql@14\n",
    "\n",
    "# Create PostgreSQL User and Database\n",
    "createuser -P -s -e praveensingh\n",
    "createdb TFQDB_INTERVIEW -O praveensingh\n",
    "\n",
    "# Initialize Conda (replace zsh with your shell if not using zsh)\n",
    "eval \"$(conda shell.zsh hook)\"\n",
    "\n",
    "# Activate the virtual environment\n",
    "conda activate pks || exit 1  # Exit if activation fails\n",
    "\n",
    "# Change directory to the desired path\n",
    "cd /Users/praveensingh/Developer/GitHub/Python\n",
    "\n",
    "# Install Jupyter Notebook and IPython SQL Extension\n",
    "pip install jupyter\n",
    "\n",
    "# Start Jupyter Notebook\n",
    "jupyter-notebook --ip 0.0.0.0\n",
    "```\n",
    "\n",
    "This script now includes the Conda-related lines for initializing Conda, activating the virtual environment, and changing the directory. Adjust the paths and environment names as needed. If you have any more questions or need further assistance, feel free to ask!"
   ]
  }
 ],
 "metadata": {
  "kernelspec": {
   "display_name": "Python 3 (ipykernel)",
   "language": "python",
   "name": "python3"
  },
  "language_info": {
   "codemirror_mode": {
    "name": "ipython",
    "version": 3
   },
   "file_extension": ".py",
   "mimetype": "text/x-python",
   "name": "python",
   "nbconvert_exporter": "python",
   "pygments_lexer": "ipython3",
   "version": "3.11.8"
  }
 },
 "nbformat": 4,
 "nbformat_minor": 5
}
