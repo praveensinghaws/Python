{
 "cells": [
  {
   "cell_type": "markdown",
   "id": "1a374fc1-eda4-467a-a2b8-b66b3482f3cc",
   "metadata": {},
   "source": [
    "# USE WINDOWS MSSQL ON JUPYTER-NOTEBOOK\n",
    "\n",
    "Your set of instructions is quite comprehensive, but there are a few adjustments and corrections to make it more accurate and readable. Here's a refined version:\r\n",
    "\r\n",
    "```plaintext\r\n",
    "1. Ensure Python is installed for all users on the computer.\r\n",
    "2. Install Visual C++ Build Tools (Microsoft C++ Build Tools - Visual Studio).\r\n",
    "3. Create a directory for the virtualenv accessible by all users on the computer, e.g., `mkdir C:\\virtualenv`.\r\n",
    "4. Copy the Command Prompt shortcut and paste it into the virtualenv directory. Original location: `C:\\Users\\YOURUSERNAME\\AppData\\Roaming\\Microsoft\\Windows\\Start Menu\\Programs\\System Tools\\Command Prompt`. New location: `C:\\virtualenv\\Command Prompt`.\r\n",
    "5. Run Command Prompt as a different user (press Shift + right-click) and log in with YOURDOMAIN credentials.\r\n",
    "   - Username: YOURUSERNAME@YOURDOMAIN or YOURDOMAIN\\YOURUSERNAME\r\n",
    "   - Password: Your password\r\n",
    "6. Navigate to the virtualenv directory: `cd C:\\virtualenv`.\r\n",
    "7. Create the virtualenv: `python -m venv .`\r\n",
    "8. Activate the virtualenv: `Scripts\\activate`\r\n",
    "9. Install dependencies:\r\n",
    "   ```bash\r\n",
    "   pip install --upgrade jupyter pyodbc sqlalchemy pandas\r\n",
    "   ```\r\n",
    "10. Create a Jupyter configuration file for the user: `jupyter notebook --generate-config`.\r\n",
    "11. Close the Command Prompt.\r\n",
    "12. Right-click on the Command Prompt shortcut, select Properties.\r\n",
    "    - Clear and leave empty the values for Start in.\r\n",
    "    - Replace the Target value with:\r\n",
    "      ```\r\n",
    "      %windir%\\system32\\runas.exe /user:YOURUSERNAME@YOURDOMAIN \"CMD /k \"cd C:\\virtualenv && Scripts\\activate && jupyter notebook\"\"\r\n",
    "      ```\r\n",
    "      **Optional:** You may add /savecred (after/user) to remember the password. For security reasons, exercise caution with this option.\r\n",
    "13. Double-click the Command Prompt shortcut to run Jupyter.\r\n",
    "14. Create a notebook to connect to your SQL database and download a table into a Pandas dataframe.\r\n",
    "\r\n",
    "```python\r\n",
    "import os\r\n",
    "import pyodbc\r\n",
    "import sqlalchemy as db\r\n",
    "import pandas as pd\r\n",
    "\r\n",
    "windomain = os.environ[\"userdomain\"]\r\n",
    "\r\n",
    "if windomain == \"YOURDOMAIN\":\r\n",
    "    server = \"YOURSERVER\"\r\n",
    "    database = \"YOUDATABASE\"\r\n",
    "    driver = \"{SQL Server}\"\r\n",
    "    connect = f\"DRIVER={driver};SERVER={server};DATABASE={database};Trusted_Connection=yes\"\r\n",
    "    engine = db.create_engine(f\"mssql+pyodbc:///?odbc_connect={connect}\")\r\n",
    "    \r\n",
    "    df = pd.read_sql(\r\n",
    "        \"\"\"\r\n",
    "        SELECT TOP(100) *\r\n",
    "        FROM [YOURDATABASE]\r\n",
    "        \"\"\",\r\n",
    "        con=engine,\r\n",
    "    )\r\n",
    "else:\r\n",
    "    print(\"Open as a different user.\")\r\n",
    "```\r\n",
    "\r\n",
    "These adjustments should help clarify the steps and improve the overall readability of the instructions. Make sure to replace placeholders like YOURDOMAIN, YOURSERVER, YOUDATABASE, and YOURDATABASE with your actual configuration."
   ]
  },
  {
   "cell_type": "code",
   "execution_count": null,
   "id": "79d5a4b9-67d0-47b8-a707-68dc4f9a302a",
   "metadata": {},
   "outputs": [],
   "source": []
  }
 ],
 "metadata": {
  "kernelspec": {
   "display_name": "Python 3 (ipykernel)",
   "language": "python",
   "name": "python3"
  },
  "language_info": {
   "codemirror_mode": {
    "name": "ipython",
    "version": 3
   },
   "file_extension": ".py",
   "mimetype": "text/x-python",
   "name": "python",
   "nbconvert_exporter": "python",
   "pygments_lexer": "ipython3",
   "version": "3.11.2"
  }
 },
 "nbformat": 4,
 "nbformat_minor": 5
}
