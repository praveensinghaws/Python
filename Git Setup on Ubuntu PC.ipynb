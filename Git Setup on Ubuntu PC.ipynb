{
 "cells": [
  {
   "cell_type": "markdown",
   "id": "44c75b98-8c54-4ef6-bbb0-441d1329d14d",
   "metadata": {},
   "source": [
    "## Git Setup on Ubuntu PC"
   ]
  },
  {
   "cell_type": "markdown",
   "id": "0267362c-de06-4a30-bc41-9f9d223e0542",
   "metadata": {},
   "source": [
    "Certainly! Here's a rearranged and cleaned-up version of the commands:\r\n",
    "\r\n",
    "1. Navigate back to the home directory:\r\n",
    "   ```bash\r\n",
    "   cd\r\n",
    "   ```\r\n",
    "\r\n",
    "2. Generate a correct SSH key:\r\n",
    "   ```bash\r\n",
    "   ssh-keygen -t rsa -b 4096 -C \"praveensingh.dsm@live.com\"\r\n",
    "   ```\r\n",
    "\r\n",
    "3. Navigate to the \"Python\" directory (assuming it's a Git repository):\r\n",
    "   ```bash\r\n",
    "   cd Python/\r\n",
    "   ```\r\n",
    "\r\n",
    "4. Set the remote URL for your Git repository (Note: This command should be executed within a Git repository):\r\n",
    "   ```bash\r\n",
    "   git remote set-url origin git@github.com:praveensinghaws/Python.git\r\n",
    "   ```\r\n",
    "\r\n",
    "5. Push changes to the \"master\" branch:\r\n",
    "   ```bash\r\n",
    "   git push origin master\r\n",
    "   ```\r\n",
    "\r\n",
    "6. Start the SSH agent:\r\n",
    "   ```bash\r\n",
    "   eval \"$(ssh-agent -s)\"\r\n",
    "   ```\r\n",
    "\r\n",
    "7. Add your SSH private key to the agent:\r\n",
    "   ```bash\r\n",
    "   ssh-add ~/.ssh/id_rsa\r\n",
    "   ```\r\n",
    "\r\n",
    "8. Test your SSH connection to GitHub:\r\n",
    "   ```bash\r\n",
    "   ssh -T git@github.com\r\n",
    "   ```\r\n",
    "\r\n",
    "9. List the added SSH keys:\r\n",
    "   ```bash\r\n",
    "   ssh-add -L\r\n",
    "   ```\r\n",
    "\r\n",
    "10. Check the remote URL for your Git repository:\r\n",
    "    ```bash\r\n",
    "    git remote -v\r\n",
    "    ```\r\n",
    "\r\n",
    "11. Test the SSH connection to GitHub again:\r\n",
    "    ```bash\r\n",
    "    ssh -T git@github.com\r\n",
    "    ```\r\n",
    "\r\n",
    "12. Push changes to the \"master\" bran\r",
    "`\r\n",
    "\r\n",
    "13. View command history:\r\n",
    "    ```bash\r\n",
    "    history\r\n",
    "    ```\r\n",
    "\r\n",
    "It seems you've successfully authenticated with GitHub using SSH. If you have any further questions or if there's anything specific you'd like to know, feel free to ask! any further questions or if there's anything specific you'd like to know, feel free to ask!sistance with other topics, feel free to ask. Happy coding! feel free to ask for further assistance."
   ]
  }
 ],
 "metadata": {
  "kernelspec": {
   "display_name": "Python 3 (ipykernel)",
   "language": "python",
   "name": "python3"
  },
  "language_info": {
   "codemirror_mode": {
    "name": "ipython",
    "version": 3
   },
   "file_extension": ".py",
   "mimetype": "text/x-python",
   "name": "python",
   "nbconvert_exporter": "python",
   "pygments_lexer": "ipython3",
   "version": "3.11.2"
  },
  "widgets": {
   "application/vnd.jupyter.widget-state+json": {
    "state": {},
    "version_major": 2,
    "version_minor": 0
   }
  }
 },
 "nbformat": 4,
 "nbformat_minor": 5
}
