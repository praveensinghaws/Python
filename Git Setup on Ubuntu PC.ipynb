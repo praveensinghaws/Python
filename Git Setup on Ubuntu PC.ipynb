{
 "cells": [
  {
   "cell_type": "markdown",
   "id": "44c75b98-8c54-4ef6-bbb0-441d1329d14d",
   "metadata": {},
   "source": [
    "## Git Setup on Ubuntu PC"
   ]
  },
  {
   "cell_type": "markdown",
   "id": "0267362c-de06-4a30-bc41-9f9d223e0542",
   "metadata": {},
   "source": [
    "It appears that GitHub no longer supports password authentication for Git operations as of August 13, 2021. Instead, you are required to use personal access tokens or SSH keys for authentication.\r\n",
    "\r\n",
    "If you prefer not to use a personal access token, you can set up SSH key authentication. Here are the general steps:\r\n",
    "\r\n",
    "1. **Generate SSH Key:**\r\n",
    "   - Run the following command in your terminal to generate an SSH key:\r\n",
    "     ```bash\r\n",
    "     ssh-keygen -t rsa -b 40praveensingh.dsm@liveexample.com\"\r\n",
    "     ```\r\n",
    "   - Press Enter to accept the default file location and optionally set a passphrase for additional security.\r\n",
    "\r\n",
    "2. **Add SSH Key to SSH Agent:**\r\n",
    "   - Start the SSH agent by running:\r\n",
    "     ```bash\r\n",
    "     eval \"$(ssh-agent -s)\"\r\n",
    "     ```\r\n",
    "   - Add your SSH private key to the agent:\r\n",
    "     ```bash\r\n",
    "     ssh-add ~/.ssh/id_rsa\r\n",
    "     ```\r\n",
    "\r\n",
    "3. **Add SSH Key to GitHub:**\r\n",
    "   - Copy the SSH public key to your clipboard:\r\n",
    "     ```bash\r\n",
    "     cat ~/.ssh/id_rsa.pub | xclip -selection clipboard\r\n",
    "     ```\r\n",
    "   - Go to your GitHub account settings, navigate to \"SSH and GPG keys,\" and add a new SSH key by pasting the copied key.\r\n",
    "\r\n",
    "4. **Update Git Remote URL:**\r\n",
    "   - Update the remote URL of your Git repository using the following command:\r\n",
    "     ```bash\r\n",
    "     git remote set-url origin git@github.com:praveensinghaws/Python.git\r\n",
    "     ```\r\n",
    "\r\n",
    "5. **Retry Push:**\r\n",
    "   - Try pushing your changes again using:\r\n",
    "     ```bash\r\n",
    "     git push origin master\r\n",
    "     ```\r\n",
    "\r\n",
    "This should allow you to use your GitHub repository with SSH key authentication. If you encounter any issues during these steps, feel free to ask for further assistance."
   ]
  }
 ],
 "metadata": {
  "kernelspec": {
   "display_name": "Python 3 (ipykernel)",
   "language": "python",
   "name": "python3"
  },
  "language_info": {
   "codemirror_mode": {
    "name": "ipython",
    "version": 3
   },
   "file_extension": ".py",
   "mimetype": "text/x-python",
   "name": "python",
   "nbconvert_exporter": "python",
   "pygments_lexer": "ipython3",
   "version": "3.11.6"
  },
  "widgets": {
   "application/vnd.jupyter.widget-state+json": {
    "state": {},
    "version_major": 2,
    "version_minor": 0
   }
  }
 },
 "nbformat": 4,
 "nbformat_minor": 5
}
