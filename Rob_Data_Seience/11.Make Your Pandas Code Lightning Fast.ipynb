{
 "cells": [
  {
   "cell_type": "markdown",
   "id": "f0896b57-3707-4593-9a23-0b07b917b585",
   "metadata": {},
   "source": [
    "# Speed up your Pandas Code"
   ]
  },
  {
   "cell_type": "markdown",
   "id": "1871e57f-e68e-4e33-9908-a946e60bebe2",
   "metadata": {},
   "source": [
    "# Create our Dataset"
   ]
  },
  {
   "cell_type": "code",
   "execution_count": 1,
   "id": "53c2831f-4308-40a1-b937-f8447d641755",
   "metadata": {},
   "outputs": [],
   "source": [
    "import pandas as pd\n",
    "import numpy as np\n",
    "import matplotlib.pyplot as plt\n",
    "\n",
    "def get_data(size=10_000):\n",
    "    \"\"\"\n",
    "    Generate random data and return as a DataFrame.\n",
    "\n",
    "    Parameters:\n",
    "    size (int): Number of rows to generate (default is 10,000).\n",
    "\n",
    "    Returns:\n",
    "    pd.DataFrame: DataFrame containing random data.\n",
    "    \"\"\"\n",
    "\n",
    "    # Create an empty DataFrame\n",
    "    df = pd.DataFrame()\n",
    "\n",
    "    # Generate random data for the DataFrame columns\n",
    "    df['age'] = np.random.randint(0, 100, size)  # Random integer values between 0 and 100 for age\n",
    "    df['time_in_bed'] = np.random.randint(0, 9, size)  # Random integer values between 0 and 9 for time_in_bed\n",
    "    df['pct_sleeping'] = np.random.rand(size)  # Random float values between 0 and 1 for pct_sleeping\n",
    "    df['favorite_food'] = np.random.choice(['pizza', 'taco', 'ice-cream'], size)  # Random choices for favorite_food\n",
    "    df['hate_food'] = np.random.choice(['broccoli', 'candy corn', 'eggs'], size)  # Random choices for hate_food\n",
    "\n",
    "    return df\n"
   ]
  },
  {
   "cell_type": "code",
   "execution_count": 2,
   "id": "be17cfa5-f77a-403d-8f20-a47307cf2c53",
   "metadata": {},
   "outputs": [],
   "source": [
    "df = get_data()"
   ]
  },
  {
   "cell_type": "markdown",
   "id": "0c8ffd0b-cf61-4c8d-84f4-552abc15e68b",
   "metadata": {},
   "source": [
    "# The Problem\n",
    "\n",
    "### Reward calculation:\n",
    "\n",
    "* If they were in bed for more than 5 hours AND they were sleeping for more than 50% we give them their favorite food.\n",
    "* Otherwise we give them their hate food.\n",
    "* If they are over 90 years old give their favorite food regardless."
   ]
  },
  {
   "cell_type": "code",
   "execution_count": 3,
   "id": "66fada71-620a-464c-8106-2d56988ec38e",
   "metadata": {},
   "outputs": [],
   "source": [
    "def reward_calc(row):\n",
    "    \"\"\"\n",
    "    Calculate reward based on specific conditions.\n",
    "\n",
    "    Parameters:\n",
    "    row (pd.Series): A row of data from a DataFrame.\n",
    "\n",
    "    Returns:\n",
    "    str: The reward based on the conditions.\n",
    "    \"\"\"\n",
    "\n",
    "    if row['age'] >= 90:\n",
    "        return row['favorite_food']\n",
    "    \n",
    "    if (row['time_in_bed'] > 5) & (row['pct_sleeping'] > 0.5):\n",
    "        return row['favorite_food']\n",
    "    \n",
    "    return row['hate_food']\n"
   ]
  },
  {
   "cell_type": "markdown",
   "id": "0b8632c5-af1d-4149-bcc3-762498a04b4e",
   "metadata": {},
   "source": [
    "# Level 1 - Loop"
   ]
  },
  {
   "cell_type": "code",
   "execution_count": 4,
   "id": "39481a17-d5ea-4b50-807a-94324cef7ff7",
   "metadata": {},
   "outputs": [
    {
     "name": "stdout",
     "output_type": "stream",
     "text": [
      "32 ms ± 92.6 µs per loop (mean ± std. dev. of 7 runs, 10 loops each)\n"
     ]
    }
   ],
   "source": [
    "%%timeit\n",
    "# Apply reward_calc function to each row of the DataFrame using apply function\n",
    "df['reward'] = df.apply(reward_calc, axis=1)\n"
   ]
  },
  {
   "cell_type": "markdown",
   "id": "e7d36645-ae4e-4e9b-ba6b-8d286dc14fa9",
   "metadata": {},
   "source": [
    "# Level 2 - Apply"
   ]
  },
  {
   "cell_type": "code",
   "execution_count": 5,
   "id": "478a5f3a-4831-422d-be85-372a3b97a1a0",
   "metadata": {},
   "outputs": [
    {
     "name": "stdout",
     "output_type": "stream",
     "text": [
      "31.9 ms ± 58.3 µs per loop (mean ± std. dev. of 7 runs, 10 loops each)\n"
     ]
    }
   ],
   "source": [
    "%%timeit\n",
    "# Apply the reward_calc function to each row in the DataFrame using apply function\n",
    "# along the rows (axis=1) and assign the result to the 'reward' column\n",
    "df['reward'] = df.apply(reward_calc, axis=1)\n"
   ]
  },
  {
   "cell_type": "markdown",
   "id": "92ee249b-4e73-46fb-b801-782d460e89a8",
   "metadata": {},
   "source": [
    "# Level 3 - Vectorized"
   ]
  },
  {
   "cell_type": "code",
   "execution_count": 6,
   "id": "ac650a1e-1902-4eb4-91a0-f4c78fb43515",
   "metadata": {},
   "outputs": [
    {
     "name": "stdout",
     "output_type": "stream",
     "text": [
      "336 µs ± 3.92 µs per loop (mean ± std. dev. of 7 runs, 1,000 loops each)\n"
     ]
    }
   ],
   "source": [
    "%%timeit\n",
    "# Assign 'hate_food' to the 'reward' column initially\n",
    "df['reward'] = df['hate_food']\n",
    "\n",
    "# Update 'reward' column based on conditions:\n",
    "# If both pct_sleeping > 0.5 and time_in_bed > 5 or age > 90, update 'reward' with 'favorite_food'\n",
    "df.loc[((df['pct_sleeping'] > 0.5) & (df['time_in_bed'] > 5)) | (df['age'] > 90), 'reward'] = df['favorite_food']\n"
   ]
  },
  {
   "cell_type": "markdown",
   "id": "9bb2fe44-18e9-4cce-98f9-d8e517e9b003",
   "metadata": {},
   "source": [
    "# Plot Diffrences"
   ]
  },
  {
   "cell_type": "code",
   "execution_count": 7,
   "id": "1ec4ba01-0f31-4b86-93e2-7f070c155684",
   "metadata": {},
   "outputs": [],
   "source": [
    "results = pd.DataFrame(\n",
    "    [\n",
    "        [\"loop\", 33.6, 0.0331],\n",
    "        [\"apply\", 33.5, 0.0457],\n",
    "        [\"vec\", 0.344, 0.000387],\n",
    "    ],\n",
    "    columns=[\"type\", \"mean\", \"std\"]\n",
    ")\n"
   ]
  },
  {
   "cell_type": "code",
   "execution_count": 8,
   "id": "67fd1b23-0ae8-46d0-9ec4-0836823e62de",
   "metadata": {},
   "outputs": [
    {
     "data": {
      "image/png": "[encoded data removed]",
      "text/plain": [
       "<Figure size 432x288 with 1 Axes>"
      ]
     },
     "metadata": {
      "needs_background": "light"
     },
     "output_type": "display_data"
    }
   ],
   "source": [
    "ax = results.set_index('type')['mean'].plot(kind='bar', color=['red', 'blue', 'green'], title='Time to Run Reward Calc')\n",
    "ax.set_ylabel('Mean Time (milliseconds)')\n",
    "ax.set_xlabel('Method')\n",
    "plt.show()\n"
   ]
  }
 ],
 "metadata": {
  "kernelspec": {
   "display_name": "Python 3 (ipykernel)",
   "language": "python",
   "name": "python3"
  },
  "language_info": {
   "codemirror_mode": {
    "name": "ipython",
    "version": 3
   },
   "file_extension": ".py",
   "mimetype": "text/x-python",
   "name": "python",
   "nbconvert_exporter": "python",
   "pygments_lexer": "ipython3",
   "version": "3.11.8"
  }
 },
 "nbformat": 4,
 "nbformat_minor": 5
}
