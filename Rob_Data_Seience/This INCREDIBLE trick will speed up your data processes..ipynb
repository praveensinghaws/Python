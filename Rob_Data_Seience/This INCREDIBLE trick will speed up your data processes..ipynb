{
 "cells": [
  {
   "cell_type": "code",
   "execution_count": 1,
   "id": "c25a1837-e756-43dd-83a4-afbb73460a84",
   "metadata": {},
   "outputs": [],
   "source": [
    "import numpy as np\n",
    "import pandas as pd"
   ]
  },
  {
   "cell_type": "markdown",
   "id": "531b9f3d-afbe-4915-a343-11f0e5cce737",
   "metadata": {},
   "source": [
    "# Create our Dataset"
   ]
  },
  {
   "cell_type": "code",
   "execution_count": 2,
   "id": "6ff3f709-968d-4730-8db9-909177184c8d",
   "metadata": {},
   "outputs": [],
   "source": [
    "# Creating Function to generate dataset\n",
    "def get_dataset(size):\n",
    "    \"\"\"\n",
    "    Generate a fake dataset with specified size.\n",
    "\n",
    "    Parameters:\n",
    "    size (int): The size of the dataset.\n",
    "\n",
    "    Returns:\n",
    "    DataFrame: A DataFrame containing fake data.\n",
    "    \"\"\"\n",
    "    # Create Fake Dataset\n",
    "    df = pd.DataFrame()\n",
    "    df['size'] = np.random.choice(['big', 'medium', 'small'], size)\n",
    "    df['age'] = np.random.randint(1, 10, size)\n",
    "    df['team'] = np.random.choice(['red', 'blue', 'yellow', 'green'], size)\n",
    "    df['win'] = np.random.choice(['yes', 'no'], size)\n",
    "    dates = pd.date_range('2020-01-01', '2022-12-31')\n",
    "    df['date'] = np.random.choice(dates, size)\n",
    "    df['prob'] = np.random.uniform(0, 1, size)\n",
    "    return df\n"
   ]
  },
  {
   "cell_type": "code",
   "execution_count": 3,
   "id": "34824ac7-20ed-45f4-b314-8f7802a27962",
   "metadata": {},
   "outputs": [],
   "source": [
    "# Creating Function to set data types\n",
    "def set_dtypes(df):\n",
    "    \"\"\"\n",
    "    Set appropriate data types for DataFrame columns.\n",
    "\n",
    "    Parameters:\n",
    "    df (DataFrame): Input DataFrame.\n",
    "\n",
    "    Returns:\n",
    "    DataFrame: DataFrame with updated data types.\n",
    "    \"\"\"\n",
    "    df['size'] = df['size'].astype('category')\n",
    "    df['team'] = df['team'].astype('category')\n",
    "    df['age'] = df['age'].astype('int16')\n",
    "    df['dq'] = df['win'].map({'yes': True, 'no': False})\n",
    "    df['prob'] = df['prob'].astype('float16')\n",
    "    return df\n"
   ]
  },
  {
   "cell_type": "markdown",
   "id": "88c2a1be-5be6-4a0b-a3cd-bdee6fd0e365",
   "metadata": {},
   "source": [
    "# CSV Format Read and Write"
   ]
  },
  {
   "cell_type": "markdown",
   "id": "e8418bb6-780d-4ed4-92a4-e432c8f78630",
   "metadata": {},
   "source": [
    "### Example 1"
   ]
  },
  {
   "cell_type": "code",
   "execution_count": 4,
   "id": "aa548004-b7c4-4c6b-a7c4-7e1e7be1c00f",
   "metadata": {},
   "outputs": [
    {
     "name": "stdout",
     "output_type": "stream",
     "text": [
      "92176 -rw-r--r--@ 1 praveensingh  staff    45M Mar 17 20:55 test_csv.csv\n"
     ]
    }
   ],
   "source": [
    "# Generate a dataset with 1,000,000 records\n",
    "df = get_dataset(1_000_000)\n",
    "\n",
    "# Save the DataFrame to a CSV file without including the index\n",
    "df.to_csv('test_csv.csv', index=False)\n",
    "\n",
    "# Display information about the saved CSV file\n",
    "!ls -GFlash test_csv.csv"
   ]
  },
  {
   "cell_type": "code",
   "execution_count": 5,
   "id": "5a652239-c2d3-403c-b00a-6bbf43fde716",
   "metadata": {},
   "outputs": [
    {
     "name": "stdout",
     "output_type": "stream",
     "text": [
      "<class 'pandas.core.frame.DataFrame'>\n",
      "RangeIndex: 1000000 entries, 0 to 999999\n",
      "Data columns (total 6 columns):\n",
      " #   Column  Non-Null Count    Dtype  \n",
      "---  ------  --------------    -----  \n",
      " 0   size    1000000 non-null  object \n",
      " 1   age     1000000 non-null  int64  \n",
      " 2   team    1000000 non-null  object \n",
      " 3   win     1000000 non-null  object \n",
      " 4   date    1000000 non-null  object \n",
      " 5   prob    1000000 non-null  float64\n",
      "dtypes: float64(1), int64(1), object(4)\n",
      "memory usage: 45.8+ MB\n"
     ]
    }
   ],
   "source": [
    "# Read the saved CSV file back into a DataFrame and display the first few rows\n",
    "df = pd.read_csv('test_csv.csv')\n",
    "df.info()"
   ]
  },
  {
   "cell_type": "markdown",
   "id": "0fbbd950-2b07-4df1-8ed0-d242778746e2",
   "metadata": {},
   "source": [
    "### Example 2"
   ]
  },
  {
   "cell_type": "code",
   "execution_count": 6,
   "id": "a254d4e9-f780-4da4-84ee-6d365f188f01",
   "metadata": {},
   "outputs": [
    {
     "name": "stdout",
     "output_type": "stream",
     "text": [
      "106512 -rw-r--r--@ 1 praveensingh  staff    51M Mar 17 20:55 test_csv.csv\n"
     ]
    }
   ],
   "source": [
    "# Generate a dataset with 1,000,000 records and save it to a CSV file with the index included\n",
    "df = get_dataset(1_000_000)\n",
    "df.to_csv('test_csv.csv', index=True)\n",
    "\n",
    "# Display information about the saved CSV file\n",
    "!ls -GFlash test_csv.csv"
   ]
  },
  {
   "cell_type": "code",
   "execution_count": 7,
   "id": "772a6c52-22db-4b0c-9e1a-267d69d79a94",
   "metadata": {},
   "outputs": [
    {
     "name": "stdout",
     "output_type": "stream",
     "text": [
      "<class 'pandas.core.frame.DataFrame'>\n",
      "Index: 1000000 entries, 0 to 999999\n",
      "Data columns (total 6 columns):\n",
      " #   Column  Non-Null Count    Dtype  \n",
      "---  ------  --------------    -----  \n",
      " 0   size    1000000 non-null  object \n",
      " 1   age     1000000 non-null  int64  \n",
      " 2   team    1000000 non-null  object \n",
      " 3   win     1000000 non-null  object \n",
      " 4   date    1000000 non-null  object \n",
      " 5   prob    1000000 non-null  float64\n",
      "dtypes: float64(1), int64(1), object(4)\n",
      "memory usage: 53.4+ MB\n"
     ]
    }
   ],
   "source": [
    "# Read the saved CSV file back into a DataFrame with the first column as the index and display the first few rows\n",
    "df = pd.read_csv('test_csv.csv', index_col=[0])\n",
    "df.info()\n"
   ]
  },
  {
   "cell_type": "markdown",
   "id": "281eea1a-f771-4f5b-ba37-d2ecb766484d",
   "metadata": {},
   "source": [
    "### Example 3"
   ]
  },
  {
   "cell_type": "code",
   "execution_count": 8,
   "id": "e74f6833-8a3b-4515-926a-48ffdd99329d",
   "metadata": {},
   "outputs": [
    {
     "name": "stdout",
     "output_type": "stream",
     "text": [
      "<class 'pandas.core.frame.DataFrame'>\n",
      "RangeIndex: 1000000 entries, 0 to 999999\n",
      "Data columns (total 6 columns):\n",
      " #   Column  Non-Null Count    Dtype   \n",
      "---  ------  --------------    -----   \n",
      " 0   size    1000000 non-null  category\n",
      " 1   age     1000000 non-null  int16   \n",
      " 2   team    1000000 non-null  category\n",
      " 3   win     1000000 non-null  object  \n",
      " 4   date    1000000 non-null  object  \n",
      " 5   prob    1000000 non-null  float16 \n",
      "dtypes: category(2), float16(1), int16(1), object(2)\n",
      "memory usage: 21.0+ MB\n"
     ]
    }
   ],
   "source": [
    "# Save DataFrame to CSV without index\n",
    "df.to_csv('test_csv.csv', index=False)\n",
    "\n",
    "# Read CSV file back into DataFrame with specified data types\n",
    "dtype = {'size': 'category', 'team': 'category', 'age': 'int16', 'dq': 'bool', 'prob': 'float16'}\n",
    "df = pd.read_csv('test_csv.csv', dtype=dtype)\n",
    "\n",
    "# Check DataFrame info to confirm the data types\n",
    "df.info()\n"
   ]
  },
  {
   "cell_type": "markdown",
   "id": "6bee9a86-029b-46e7-822a-b1dfe0e59aa8",
   "metadata": {},
   "source": [
    "### Example 4"
   ]
  },
  {
   "cell_type": "code",
   "execution_count": 9,
   "id": "644c5521-294a-4097-b5cf-e97304f49085",
   "metadata": {},
   "outputs": [
    {
     "name": "stdout",
     "output_type": "stream",
     "text": [
      "<class 'pandas.core.frame.DataFrame'>\n",
      "RangeIndex: 1000000 entries, 0 to 999999\n",
      "Data columns (total 6 columns):\n",
      " #   Column  Non-Null Count    Dtype   \n",
      "---  ------  --------------    -----   \n",
      " 0   size    1000000 non-null  category\n",
      " 1   age     1000000 non-null  int16   \n",
      " 2   team    1000000 non-null  object  \n",
      " 3   win     1000000 non-null  object  \n",
      " 4   date    1000000 non-null  object  \n",
      " 5   prob    1000000 non-null  float64 \n",
      "dtypes: category(1), float64(1), int16(1), object(3)\n",
      "memory usage: 33.4+ MB\n"
     ]
    }
   ],
   "source": [
    "df = pd.read_csv('test_csv.csv',\n",
    "                dtype= {\n",
    "                    'size': 'category',\n",
    "                    'age': 'int16',  \n",
    "                    'test': 'category'\n",
    "                })\n",
    "df.info()\n"
   ]
  },
  {
   "cell_type": "markdown",
   "id": "75f48548-6c44-4ea3-bfe6-8c3482633b8a",
   "metadata": {},
   "source": [
    "# *****************************************************************"
   ]
  },
  {
   "cell_type": "markdown",
   "id": "d92a3402-d860-48cd-b46b-fd3ca45b097e",
   "metadata": {},
   "source": [
    "# SPEED TEST OF { 'CSV', 'PICKLE', 'PARQUET', 'FEATHER' }"
   ]
  },
  {
   "cell_type": "markdown",
   "id": "6660efd2-a5ba-4094-addf-058e45b17b10",
   "metadata": {},
   "source": [
    "# 1. CSV Format"
   ]
  },
  {
   "cell_type": "markdown",
   "id": "fbc6357f-d116-44b9-879b-418f75c4132d",
   "metadata": {},
   "source": [
    "### Example 1. Without Changing Dtypes\n",
    "- 45 MB >> size\n",
    "- 1.39 s  >> to save\n",
    "- 286 ms >> to read"
   ]
  },
  {
   "cell_type": "code",
   "execution_count": 10,
   "id": "b6e0eb6d-b70e-4ea3-9840-8030a97825cf",
   "metadata": {},
   "outputs": [
    {
     "name": "stdout",
     "output_type": "stream",
     "text": [
      "1.43 s ± 31.1 ms per loop (mean ± std. dev. of 7 runs, 1 loop each)\n",
      "316 ms ± 14.8 ms per loop (mean ± std. dev. of 7 runs, 1 loop each)\n"
     ]
    }
   ],
   "source": [
    "df = get_dataset(1_000_000)\n",
    "%timeit df.to_csv('test_csv.csv', index=False)\n",
    "%timeit df_csv = pd.read_csv('test_csv.csv')"
   ]
  },
  {
   "cell_type": "code",
   "execution_count": 11,
   "id": "686cd158-b53c-461f-a7fa-4fd87d3360c8",
   "metadata": {},
   "outputs": [
    {
     "name": "stdout",
     "output_type": "stream",
     "text": [
      "92176 -rw-r--r--@ 1 praveensingh  staff    45M Mar 17 20:55 test_csv.csv\n"
     ]
    }
   ],
   "source": [
    "! ls -GFlash test_csv.csv"
   ]
  },
  {
   "cell_type": "code",
   "execution_count": 12,
   "id": "c1c8f0d4-eb10-4447-a2a6-d2edd2f97be5",
   "metadata": {},
   "outputs": [
    {
     "name": "stdout",
     "output_type": "stream",
     "text": [
      "<class 'pandas.core.frame.DataFrame'>\n",
      "RangeIndex: 1000000 entries, 0 to 999999\n",
      "Data columns (total 6 columns):\n",
      " #   Column  Non-Null Count    Dtype         \n",
      "---  ------  --------------    -----         \n",
      " 0   size    1000000 non-null  object        \n",
      " 1   age     1000000 non-null  int64         \n",
      " 2   team    1000000 non-null  object        \n",
      " 3   win     1000000 non-null  object        \n",
      " 4   date    1000000 non-null  datetime64[ns]\n",
      " 5   prob    1000000 non-null  float64       \n",
      "dtypes: datetime64[ns](1), float64(1), int64(1), object(3)\n",
      "memory usage: 45.8+ MB\n"
     ]
    }
   ],
   "source": [
    "df.info()"
   ]
  },
  {
   "cell_type": "markdown",
   "id": "91c0664b-1b47-4f21-abc1-13527cc61674",
   "metadata": {},
   "source": [
    "#### Example 2. With Changing Dtypes\n",
    "\n",
    "- 38 MB >> size\n",
    "- 1.17 s  >> to save\n",
    "- 285 ms >> to read"
   ]
  },
  {
   "cell_type": "code",
   "execution_count": 13,
   "id": "5bbf3bca-6c31-4e43-bd21-37ac3570cb27",
   "metadata": {},
   "outputs": [
    {
     "name": "stdout",
     "output_type": "stream",
     "text": [
      "1.19 s ± 28.5 ms per loop (mean ± std. dev. of 7 runs, 1 loop each)\n",
      "300 ms ± 9.74 ms per loop (mean ± std. dev. of 7 runs, 1 loop each)\n"
     ]
    }
   ],
   "source": [
    "df = get_dataset(1_000_000)\n",
    "df = set_dtypes(df)\n",
    "%timeit df.to_csv('test_csv.csv', index=False)\n",
    "%timeit df_csv = pd.read_csv('test_csv.csv')"
   ]
  },
  {
   "cell_type": "code",
   "execution_count": 14,
   "id": "07129a87-d11c-4c34-b538-f43f8f4e985d",
   "metadata": {},
   "outputs": [
    {
     "name": "stdout",
     "output_type": "stream",
     "text": [
      "79888 -rw-r--r--@ 1 praveensingh  staff    38M Mar 17 20:55 test_csv.csv\n"
     ]
    }
   ],
   "source": [
    "! ls -GFlash test_csv.csv"
   ]
  },
  {
   "cell_type": "code",
   "execution_count": 15,
   "id": "e95cb7aa-423b-424b-b854-7740094c5a6f",
   "metadata": {},
   "outputs": [
    {
     "name": "stdout",
     "output_type": "stream",
     "text": [
      "<class 'pandas.core.frame.DataFrame'>\n",
      "RangeIndex: 1000000 entries, 0 to 999999\n",
      "Data columns (total 7 columns):\n",
      " #   Column  Non-Null Count    Dtype         \n",
      "---  ------  --------------    -----         \n",
      " 0   size    1000000 non-null  category      \n",
      " 1   age     1000000 non-null  int16         \n",
      " 2   team    1000000 non-null  category      \n",
      " 3   win     1000000 non-null  object        \n",
      " 4   date    1000000 non-null  datetime64[ns]\n",
      " 5   prob    1000000 non-null  float16       \n",
      " 6   dq      1000000 non-null  bool          \n",
      "dtypes: bool(1), category(2), datetime64[ns](1), float16(1), int16(1), object(1)\n",
      "memory usage: 21.9+ MB\n"
     ]
    }
   ],
   "source": [
    "df.info()"
   ]
  },
  {
   "cell_type": "markdown",
   "id": "b88c15b0-4f21-4924-9c99-4593c17cf142",
   "metadata": {},
   "source": [
    "# *****************************************************************"
   ]
  },
  {
   "cell_type": "markdown",
   "id": "4be04060-7031-41bf-9427-ecfc412a0758",
   "metadata": {},
   "source": [
    "# 2. Pickle Format"
   ]
  },
  {
   "cell_type": "markdown",
   "id": "28e68ce5-2cea-431e-9068-d062861b5a8a",
   "metadata": {},
   "source": [
    "### Example 1. Without Changing Dtypes\n",
    "- 43 MB Size\n",
    "- 395 ms >> to save\n",
    "- 128 ms >> to read"
   ]
  },
  {
   "cell_type": "code",
   "execution_count": 16,
   "id": "d08c3b3e-cd1c-4e92-8021-b7ce5076fb2b",
   "metadata": {},
   "outputs": [
    {
     "name": "stdout",
     "output_type": "stream",
     "text": [
      "511 ms ± 37.7 ms per loop (mean ± std. dev. of 7 runs, 1 loop each)\n",
      "134 ms ± 5.13 ms per loop (mean ± std. dev. of 7 runs, 10 loops each)\n"
     ]
    }
   ],
   "source": [
    "df = get_dataset(1_000_000)\n",
    "%timeit df.to_pickle('test.pickle')\n",
    "%timeit df_pickle = pd.read_pickle('test.pickle') "
   ]
  },
  {
   "cell_type": "code",
   "execution_count": 17,
   "id": "74054fa7-e934-43b3-bc0c-55fc4ba99cb3",
   "metadata": {},
   "outputs": [
    {
     "name": "stdout",
     "output_type": "stream",
     "text": [
      "87264 -rw-r--r--@ 1 praveensingh  staff    43M Mar 17 20:56 test.pickle\n"
     ]
    }
   ],
   "source": [
    "! ls -GFlash test.pickle"
   ]
  },
  {
   "cell_type": "markdown",
   "id": "bf383da7-95ef-401e-82c2-0765fa956ab9",
   "metadata": {},
   "source": [
    "### Example 2. With Changing Dtypes \n",
    "\n",
    "- 20 MB Size\n",
    "- 88 ms >> to save\n",
    "- 36 ms >> to read"
   ]
  },
  {
   "cell_type": "code",
   "execution_count": 18,
   "id": "851d19dc-d34a-4dcd-b82d-86945953a09e",
   "metadata": {},
   "outputs": [
    {
     "name": "stdout",
     "output_type": "stream",
     "text": [
      "104 ms ± 6.38 ms per loop (mean ± std. dev. of 7 runs, 10 loops each)\n",
      "40.2 ms ± 2.99 ms per loop (mean ± std. dev. of 7 runs, 10 loops each)\n"
     ]
    }
   ],
   "source": [
    "df = get_dataset(1_000_000)\n",
    "df = set_dtypes(df)\n",
    "%timeit df.to_pickle('test.pickle')\n",
    "%timeit df_pickle = pd.read_pickle('test.pickle') "
   ]
  },
  {
   "cell_type": "code",
   "execution_count": 19,
   "id": "9b045252-035e-4992-8a04-3dc8757c1f2e",
   "metadata": {},
   "outputs": [
    {
     "name": "stdout",
     "output_type": "stream",
     "text": [
      "40144 -rw-r--r--@ 1 praveensingh  staff    20M Mar 17 20:56 test.pickle\n"
     ]
    }
   ],
   "source": [
    "! ls -GFlash test.pickle"
   ]
  },
  {
   "cell_type": "code",
   "execution_count": 20,
   "id": "28aed4f3-0af8-4857-8a3c-69257552dd7f",
   "metadata": {
    "scrolled": true
   },
   "outputs": [
    {
     "name": "stdout",
     "output_type": "stream",
     "text": [
      "<class 'pandas.core.frame.DataFrame'>\n",
      "RangeIndex: 1000000 entries, 0 to 999999\n",
      "Data columns (total 7 columns):\n",
      " #   Column  Non-Null Count    Dtype         \n",
      "---  ------  --------------    -----         \n",
      " 0   size    1000000 non-null  category      \n",
      " 1   age     1000000 non-null  int16         \n",
      " 2   team    1000000 non-null  category      \n",
      " 3   win     1000000 non-null  object        \n",
      " 4   date    1000000 non-null  datetime64[ns]\n",
      " 5   prob    1000000 non-null  float16       \n",
      " 6   dq      1000000 non-null  bool          \n",
      "dtypes: bool(1), category(2), datetime64[ns](1), float16(1), int16(1), object(1)\n",
      "memory usage: 21.9+ MB\n"
     ]
    }
   ],
   "source": [
    "df.info()"
   ]
  },
  {
   "cell_type": "markdown",
   "id": "7c64d4f6-026a-4cd0-914a-9044fc1b5fbe",
   "metadata": {},
   "source": [
    "# *****************************************************************"
   ]
  },
  {
   "cell_type": "markdown",
   "id": "a2d7dd1c-233f-4948-b153-becc008fd9eb",
   "metadata": {},
   "source": [
    "# 3. Parquet Format\n",
    "\n",
    "- !pip install pyarrow\n",
    "- !pip install fastparquet"
   ]
  },
  {
   "cell_type": "markdown",
   "id": "f4d8e0aa-86ac-4018-b240-c6015e46d4d6",
   "metadata": {},
   "source": [
    "### Example 1 . Without Changing Dtypes\n",
    "\n",
    "- 10 MB Size\n",
    "- 164 ms >> to save\n",
    "- 62 ms >> to read"
   ]
  },
  {
   "cell_type": "code",
   "execution_count": 21,
   "id": "0864d56c-8606-4535-93ec-4d2e9bdbe495",
   "metadata": {},
   "outputs": [
    {
     "name": "stdout",
     "output_type": "stream",
     "text": [
      "201 ms ± 27.2 ms per loop (mean ± std. dev. of 7 runs, 1 loop each)\n",
      "64.5 ms ± 1.85 ms per loop (mean ± std. dev. of 7 runs, 10 loops each)\n"
     ]
    }
   ],
   "source": [
    "df = get_dataset(1_000_000)\n",
    "%timeit df.to_parquet('test.parquet')\n",
    "%timeit df_parquet = pd.read_parquet('test.parquet') "
   ]
  },
  {
   "cell_type": "code",
   "execution_count": 22,
   "id": "0f9f4389-165d-4ea8-8c62-97cae230279c",
   "metadata": {},
   "outputs": [
    {
     "name": "stdout",
     "output_type": "stream",
     "text": [
      "22704 -rw-r--r--@ 1 praveensingh  staff    10M Mar 17 20:56 test.parquet\n"
     ]
    }
   ],
   "source": [
    "! ls -GFlash test.parquet"
   ]
  },
  {
   "cell_type": "code",
   "execution_count": 23,
   "id": "65fc7b35-3ef2-4c68-bab7-edc4e1ab364e",
   "metadata": {},
   "outputs": [
    {
     "name": "stdout",
     "output_type": "stream",
     "text": [
      "<class 'pandas.core.frame.DataFrame'>\n",
      "RangeIndex: 1000000 entries, 0 to 999999\n",
      "Data columns (total 6 columns):\n",
      " #   Column  Non-Null Count    Dtype         \n",
      "---  ------  --------------    -----         \n",
      " 0   size    1000000 non-null  object        \n",
      " 1   age     1000000 non-null  int64         \n",
      " 2   team    1000000 non-null  object        \n",
      " 3   win     1000000 non-null  object        \n",
      " 4   date    1000000 non-null  datetime64[ns]\n",
      " 5   prob    1000000 non-null  float64       \n",
      "dtypes: datetime64[ns](1), float64(1), int64(1), object(3)\n",
      "memory usage: 45.8+ MB\n"
     ]
    }
   ],
   "source": [
    "df.info()"
   ]
  },
  {
   "cell_type": "markdown",
   "id": "e555f820-ad98-4047-bff0-55472163b397",
   "metadata": {},
   "source": [
    "### Example 2 . With Changing Dtypes\n",
    "\n",
    "- 4.2 MB Size\n",
    "- 103 ms >> to save\n",
    "- 27.5 ms >> to read"
   ]
  },
  {
   "cell_type": "code",
   "execution_count": 24,
   "id": "eb9e3a1d-e848-429b-a8c7-449981c04c53",
   "metadata": {},
   "outputs": [
    {
     "name": "stdout",
     "output_type": "stream",
     "text": [
      "103 ms ± 1.32 ms per loop (mean ± std. dev. of 7 runs, 10 loops each)\n",
      "29 ms ± 581 µs per loop (mean ± std. dev. of 7 runs, 10 loops each)\n"
     ]
    }
   ],
   "source": [
    "df = get_dataset(1_000_000)\n",
    "df = set_dtypes(df)\n",
    "%timeit df.to_parquet('test.parquet')\n",
    "%timeit df_parquet = pd.read_parquet('test.parquet') "
   ]
  },
  {
   "cell_type": "code",
   "execution_count": 25,
   "id": "82bcc19f-5be1-4700-9808-e572f0ca1016",
   "metadata": {},
   "outputs": [
    {
     "name": "stdout",
     "output_type": "stream",
     "text": [
      "10416 -rw-r--r--@ 1 praveensingh  staff   4.2M Mar 17 20:56 test.parquet\n"
     ]
    }
   ],
   "source": [
    "! ls -GFlash test.parquet"
   ]
  },
  {
   "cell_type": "code",
   "execution_count": 26,
   "id": "c8206164-bac8-4ff2-bbeb-29245bdc8b19",
   "metadata": {},
   "outputs": [
    {
     "name": "stdout",
     "output_type": "stream",
     "text": [
      "<class 'pandas.core.frame.DataFrame'>\n",
      "RangeIndex: 1000000 entries, 0 to 999999\n",
      "Data columns (total 7 columns):\n",
      " #   Column  Non-Null Count    Dtype         \n",
      "---  ------  --------------    -----         \n",
      " 0   size    1000000 non-null  category      \n",
      " 1   age     1000000 non-null  int16         \n",
      " 2   team    1000000 non-null  category      \n",
      " 3   win     1000000 non-null  object        \n",
      " 4   date    1000000 non-null  datetime64[ns]\n",
      " 5   prob    1000000 non-null  float16       \n",
      " 6   dq      1000000 non-null  bool          \n",
      "dtypes: bool(1), category(2), datetime64[ns](1), float16(1), int16(1), object(1)\n",
      "memory usage: 21.9+ MB\n"
     ]
    }
   ],
   "source": [
    "df.info()"
   ]
  },
  {
   "cell_type": "code",
   "execution_count": 27,
   "id": "bc825a75-a6df-4da3-9993-babcd5e23928",
   "metadata": {},
   "outputs": [
    {
     "data": {
      "text/html": [
       "<div>\n",
       "<style scoped>\n",
       "    .dataframe tbody tr th:only-of-type {\n",
       "        vertical-align: middle;\n",
       "    }\n",
       "\n",
       "    .dataframe tbody tr th {\n",
       "        vertical-align: top;\n",
       "    }\n",
       "\n",
       "    .dataframe thead th {\n",
       "        text-align: right;\n",
       "    }\n",
       "</style>\n",
       "<table border=\"1\" class=\"dataframe\">\n",
       "  <thead>\n",
       "    <tr style=\"text-align: right;\">\n",
       "      <th></th>\n",
       "      <th>date</th>\n",
       "      <th>win</th>\n",
       "    </tr>\n",
       "  </thead>\n",
       "  <tbody>\n",
       "    <tr>\n",
       "      <th>0</th>\n",
       "      <td>2021-08-08</td>\n",
       "      <td>yes</td>\n",
       "    </tr>\n",
       "    <tr>\n",
       "      <th>1</th>\n",
       "      <td>2022-04-30</td>\n",
       "      <td>no</td>\n",
       "    </tr>\n",
       "    <tr>\n",
       "      <th>2</th>\n",
       "      <td>2021-10-07</td>\n",
       "      <td>yes</td>\n",
       "    </tr>\n",
       "    <tr>\n",
       "      <th>3</th>\n",
       "      <td>2022-02-18</td>\n",
       "      <td>yes</td>\n",
       "    </tr>\n",
       "    <tr>\n",
       "      <th>4</th>\n",
       "      <td>2021-07-07</td>\n",
       "      <td>yes</td>\n",
       "    </tr>\n",
       "    <tr>\n",
       "      <th>...</th>\n",
       "      <td>...</td>\n",
       "      <td>...</td>\n",
       "    </tr>\n",
       "    <tr>\n",
       "      <th>999995</th>\n",
       "      <td>2020-10-26</td>\n",
       "      <td>yes</td>\n",
       "    </tr>\n",
       "    <tr>\n",
       "      <th>999996</th>\n",
       "      <td>2022-12-06</td>\n",
       "      <td>no</td>\n",
       "    </tr>\n",
       "    <tr>\n",
       "      <th>999997</th>\n",
       "      <td>2020-08-11</td>\n",
       "      <td>yes</td>\n",
       "    </tr>\n",
       "    <tr>\n",
       "      <th>999998</th>\n",
       "      <td>2022-03-27</td>\n",
       "      <td>no</td>\n",
       "    </tr>\n",
       "    <tr>\n",
       "      <th>999999</th>\n",
       "      <td>2021-08-19</td>\n",
       "      <td>no</td>\n",
       "    </tr>\n",
       "  </tbody>\n",
       "</table>\n",
       "<p>1000000 rows × 2 columns</p>\n",
       "</div>"
      ],
      "text/plain": [
       "             date  win\n",
       "0      2021-08-08  yes\n",
       "1      2022-04-30   no\n",
       "2      2021-10-07  yes\n",
       "3      2022-02-18  yes\n",
       "4      2021-07-07  yes\n",
       "...           ...  ...\n",
       "999995 2020-10-26  yes\n",
       "999996 2022-12-06   no\n",
       "999997 2020-08-11  yes\n",
       "999998 2022-03-27   no\n",
       "999999 2021-08-19   no\n",
       "\n",
       "[1000000 rows x 2 columns]"
      ]
     },
     "execution_count": 27,
     "metadata": {},
     "output_type": "execute_result"
    }
   ],
   "source": [
    "pd.read_parquet('test.parquet', columns = ['date', 'win'])"
   ]
  },
  {
   "cell_type": "markdown",
   "id": "7e6c2957-1f0b-482a-8a96-daba282467f5",
   "metadata": {},
   "source": [
    "# *****************************************************************"
   ]
  },
  {
   "cell_type": "markdown",
   "id": "0d2b68e5-265d-4617-8844-5e8ca989adaa",
   "metadata": {},
   "source": [
    "# 4. Feather Format"
   ]
  },
  {
   "cell_type": "markdown",
   "id": "0b8cd4df-4bf7-4206-8f80-57e333a9146d",
   "metadata": {},
   "source": [
    "### Example 1 . Without Changing Dtypes\n",
    "\n",
    "- 29 MB Size\n",
    "- 84.5 ms >> to save\n",
    "- 56.7 ms >> to read"
   ]
  },
  {
   "cell_type": "code",
   "execution_count": 28,
   "id": "bbf5b518-bc34-4bad-9e5d-c46a2ec09a6a",
   "metadata": {},
   "outputs": [
    {
     "name": "stdout",
     "output_type": "stream",
     "text": [
      "82.7 ms ± 1.37 ms per loop (mean ± std. dev. of 7 runs, 10 loops each)\n",
      "58.2 ms ± 1.73 ms per loop (mean ± std. dev. of 7 runs, 10 loops each)\n"
     ]
    }
   ],
   "source": [
    "df = get_dataset(1_000_000)\n",
    "%timeit df.to_feather('test.feather')\n",
    "%timeit df_feather = pd.read_feather('test.feather') "
   ]
  },
  {
   "cell_type": "code",
   "execution_count": 29,
   "id": "1261921b-507f-4dcc-a54c-3af073fca0a3",
   "metadata": {},
   "outputs": [
    {
     "name": "stdout",
     "output_type": "stream",
     "text": [
      "59656 -rw-r--r--@ 1 praveensingh  staff    29M Mar 17 20:56 test.feather\n"
     ]
    }
   ],
   "source": [
    "! ls -GFlash test.feather"
   ]
  },
  {
   "cell_type": "code",
   "execution_count": 30,
   "id": "cef5856c-c1a8-4ad1-8ddd-2387e5eef2ee",
   "metadata": {},
   "outputs": [
    {
     "name": "stdout",
     "output_type": "stream",
     "text": [
      "<class 'pandas.core.frame.DataFrame'>\n",
      "RangeIndex: 1000000 entries, 0 to 999999\n",
      "Data columns (total 6 columns):\n",
      " #   Column  Non-Null Count    Dtype         \n",
      "---  ------  --------------    -----         \n",
      " 0   size    1000000 non-null  object        \n",
      " 1   age     1000000 non-null  int64         \n",
      " 2   team    1000000 non-null  object        \n",
      " 3   win     1000000 non-null  object        \n",
      " 4   date    1000000 non-null  datetime64[ns]\n",
      " 5   prob    1000000 non-null  float64       \n",
      "dtypes: datetime64[ns](1), float64(1), int64(1), object(3)\n",
      "memory usage: 45.8+ MB\n"
     ]
    }
   ],
   "source": [
    "df.info()"
   ]
  },
  {
   "cell_type": "markdown",
   "id": "29a72f9d-fc68-46e7-9cc9-f3f20803fe8f",
   "metadata": {},
   "source": [
    "### Example 2 . With Changing Dtypes\n",
    "\n",
    "- 12 MB Size\n",
    "- 41.9 ms >> to save\n",
    "- 20.9 ms >> to read"
   ]
  },
  {
   "cell_type": "code",
   "execution_count": 31,
   "id": "3fbdff3b-088f-4a6f-8e00-2cf36aad12c4",
   "metadata": {},
   "outputs": [
    {
     "name": "stdout",
     "output_type": "stream",
     "text": [
      "43.1 ms ± 3.32 ms per loop (mean ± std. dev. of 7 runs, 10 loops each)\n",
      "22.2 ms ± 441 µs per loop (mean ± std. dev. of 7 runs, 10 loops each)\n"
     ]
    }
   ],
   "source": [
    "df = get_dataset(1_000_000)\n",
    "df = set_dtypes(df)\n",
    "%timeit df.to_feather('test.feather')\n",
    "%timeit df_feather = pd.read_feather('test.feather') "
   ]
  },
  {
   "cell_type": "code",
   "execution_count": 32,
   "id": "476ff71f-e786-49ac-a6c2-38e534a9ad08",
   "metadata": {},
   "outputs": [
    {
     "name": "stdout",
     "output_type": "stream",
     "text": [
      "24968 -rw-r--r--@ 1 praveensingh  staff    12M Mar 17 20:57 test.feather\n"
     ]
    }
   ],
   "source": [
    "! ls -GFlash test.feather"
   ]
  },
  {
   "cell_type": "code",
   "execution_count": 33,
   "id": "837d59f8-5bae-4a68-aa85-f627580d3388",
   "metadata": {},
   "outputs": [
    {
     "name": "stdout",
     "output_type": "stream",
     "text": [
      "<class 'pandas.core.frame.DataFrame'>\n",
      "RangeIndex: 1000000 entries, 0 to 999999\n",
      "Data columns (total 7 columns):\n",
      " #   Column  Non-Null Count    Dtype         \n",
      "---  ------  --------------    -----         \n",
      " 0   size    1000000 non-null  category      \n",
      " 1   age     1000000 non-null  int16         \n",
      " 2   team    1000000 non-null  category      \n",
      " 3   win     1000000 non-null  object        \n",
      " 4   date    1000000 non-null  datetime64[ns]\n",
      " 5   prob    1000000 non-null  float16       \n",
      " 6   dq      1000000 non-null  bool          \n",
      "dtypes: bool(1), category(2), datetime64[ns](1), float16(1), int16(1), object(1)\n",
      "memory usage: 21.9+ MB\n"
     ]
    }
   ],
   "source": [
    "df.info()"
   ]
  },
  {
   "cell_type": "markdown",
   "id": "d219d588-94e0-40c5-b838-3fed1c354755",
   "metadata": {},
   "source": [
    "# 5. CSV vs Pickle vs Parquet vs Feather"
   ]
  },
  {
   "cell_type": "code",
   "execution_count": 34,
   "id": "60ed1846-e566-4d28-bc52-eb01e0ec9b11",
   "metadata": {},
   "outputs": [
    {
     "name": "stdout",
     "output_type": "stream",
     "text": [
      "Reading and Writing CSV:\n",
      "CPU times: user 5.73 s, sys: 131 ms, total: 5.86 s\n",
      "Wall time: 5.9 s\n",
      "CPU times: user 1.33 s, sys: 152 ms, total: 1.48 s\n",
      "Wall time: 1.59 s\n"
     ]
    }
   ],
   "source": [
    "print(\"Reading and Writing CSV:\")\n",
    "# Generate a dataset with 5,000,000 records\n",
    "df = get_dataset(5_000_000)\n",
    "\n",
    "# Set the data types for the DataFrame columns\n",
    "df = set_dtypes(df)\n",
    "\n",
    "# Measure the time taken to write the DataFrame to a CSV file\n",
    "%time df.to_csv('test.csv', index=False)\n",
    "\n",
    "# Measure the time taken to read the CSV file into a DataFrame\n",
    "%time df_csv = pd.read_csv('test.csv')\n"
   ]
  },
  {
   "cell_type": "code",
   "execution_count": 35,
   "id": "13d0b56a-bb07-4587-b06d-29d8364c4033",
   "metadata": {},
   "outputs": [
    {
     "name": "stdout",
     "output_type": "stream",
     "text": [
      "Reading and Writing Pickle:\n",
      "CPU times: user 563 ms, sys: 30.6 ms, total: 594 ms\n",
      "Wall time: 606 ms\n",
      "CPU times: user 135 ms, sys: 41.7 ms, total: 176 ms\n",
      "Wall time: 182 ms\n"
     ]
    }
   ],
   "source": [
    "print(\"Reading and Writing Pickle:\")\n",
    "# Generate a dataset with 5,000,000 records\n",
    "df = get_dataset(5_000_000)\n",
    "\n",
    "# Set the data types for the DataFrame columns\n",
    "df = set_dtypes(df)\n",
    "\n",
    "# Measure the time taken to write the DataFrame to a pickle file\n",
    "%time df.to_pickle('test.pickle')\n",
    "\n",
    "# Measure the time taken to read the pickle file into a DataFrame\n",
    "%time df_pickle = pd.read_pickle('test.pickle')\n"
   ]
  },
  {
   "cell_type": "code",
   "execution_count": 36,
   "id": "a04f67fc-3669-4f52-b23d-666c5c775c16",
   "metadata": {},
   "outputs": [
    {
     "name": "stdout",
     "output_type": "stream",
     "text": [
      "Reading and Writing Parquet:\n",
      "CPU times: user 539 ms, sys: 14.6 ms, total: 553 ms\n",
      "Wall time: 518 ms\n",
      "CPU times: user 249 ms, sys: 75.5 ms, total: 325 ms\n",
      "Wall time: 122 ms\n"
     ]
    }
   ],
   "source": [
    "print(\"Reading and Writing Parquet:\")\n",
    "# Generate a dataset with 5,000,000 records\n",
    "df = get_dataset(5_000_000)\n",
    "\n",
    "# Set the data types for the DataFrame columns\n",
    "df = set_dtypes(df)\n",
    "\n",
    "# Measure the time taken to write the DataFrame to a Parquet file\n",
    "%time df.to_parquet('test.parquet')\n",
    "\n",
    "# Measure the time taken to read the Parquet file into a DataFrame\n",
    "%time df_parquet = pd.read_parquet('test.parquet')\n"
   ]
  },
  {
   "cell_type": "code",
   "execution_count": 37,
   "id": "a2313cb3-1f3d-47b9-b14a-80ac5a3b8fa8",
   "metadata": {},
   "outputs": [
    {
     "name": "stdout",
     "output_type": "stream",
     "text": [
      "Reading and Writing Feather:\n",
      "CPU times: user 278 ms, sys: 26.3 ms, total: 304 ms\n",
      "Wall time: 198 ms\n",
      "CPU times: user 138 ms, sys: 27.8 ms, total: 165 ms\n",
      "Wall time: 92 ms\n"
     ]
    }
   ],
   "source": [
    "print(\"Reading and Writing Feather:\")\n",
    "# Generate a dataset with 5,000,000 records\n",
    "df = get_dataset(5_000_000)\n",
    "\n",
    "# Set the data types for the DataFrame columns\n",
    "df = set_dtypes(df)\n",
    "\n",
    "# Measure the time taken to write the DataFrame to a Feather file\n",
    "%time df.to_feather('test.feather')\n",
    "\n",
    "# Measure the time taken to read the Feather file into a DataFrame\n",
    "%time df_feather = pd.read_feather('test.feather')\n"
   ]
  },
  {
   "cell_type": "code",
   "execution_count": 38,
   "id": "2c4d3e87-51a4-4519-9cdd-ec17b444886b",
   "metadata": {},
   "outputs": [
    {
     "name": "stdout",
     "output_type": "stream",
     "text": [
      "393232 -rw-r--r--@ 1 praveensingh  staff   190M Mar 17 20:57 test.csv\n",
      "123264 -rw-r--r--@ 1 praveensingh  staff    60M Mar 17 20:57 test.feather\n",
      " 45072 -rw-r--r--@ 1 praveensingh  staff    21M Mar 17 20:57 test.parquet\n",
      "203704 -rw-r--r--@ 1 praveensingh  staff    98M Mar 17 20:57 test.pickle\n"
     ]
    }
   ],
   "source": [
    "# Check the file sizes of the generated files\n",
    "!ls -GFlash test.csv test.pickle test.parquet test.feather"
   ]
  },
  {
   "cell_type": "markdown",
   "id": "1c37d69d-2c7e-4a6d-a797-a6b65d8e8917",
   "metadata": {},
   "source": [
    "# Done !!!"
   ]
  }
 ],
 "metadata": {
  "kernelspec": {
   "display_name": "Python 3 (ipykernel)",
   "language": "python",
   "name": "python3"
  },
  "language_info": {
   "codemirror_mode": {
    "name": "ipython",
    "version": 3
   },
   "file_extension": ".py",
   "mimetype": "text/x-python",
   "name": "python",
   "nbconvert_exporter": "python",
   "pygments_lexer": "ipython3",
   "version": "3.11.8"
  }
 },
 "nbformat": 4,
 "nbformat_minor": 5
}
