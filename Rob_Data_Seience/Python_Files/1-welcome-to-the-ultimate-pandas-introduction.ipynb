{
 "cells": [
  {
   "cell_type": "markdown",
   "id": "3adad1ba",
   "metadata": {
    "papermill": {
     "duration": 0.017613,
     "end_time": "2024-03-14T12:01:04.774292",
     "exception": false,
     "start_time": "2024-03-14T12:01:04.756679",
     "status": "completed"
    },
    "tags": []
   },
   "source": [
    "# 1. Welcome to the Ultimate Pandas Introduction"
   ]
  },
  {
   "cell_type": "code",
   "execution_count": 1,
   "id": "0bc77f9c",
   "metadata": {
    "execution": {
     "iopub.execute_input": "2024-03-14T12:01:04.811324Z",
     "iopub.status.busy": "2024-03-14T12:01:04.810756Z",
     "iopub.status.idle": "2024-03-14T12:01:05.952369Z",
     "shell.execute_reply": "2024-03-14T12:01:05.950924Z"
    },
    "papermill": {
     "duration": 1.163325,
     "end_time": "2024-03-14T12:01:05.955684",
     "exception": false,
     "start_time": "2024-03-14T12:01:04.792359",
     "status": "completed"
    },
    "tags": []
   },
   "outputs": [],
   "source": [
    "# Importing pandas and numpy libraries\n",
    "import pandas as pd\n",
    "import numpy as np\n"
   ]
  },
  {
   "cell_type": "markdown",
   "id": "b649f7e4",
   "metadata": {
    "papermill": {
     "duration": 0.01523,
     "end_time": "2024-03-14T12:01:05.987090",
     "exception": false,
     "start_time": "2024-03-14T12:01:05.971860",
     "status": "completed"
    },
    "tags": []
   },
   "source": [
    "## Series"
   ]
  },
  {
   "cell_type": "code",
   "execution_count": 2,
   "id": "dd787c82",
   "metadata": {
    "execution": {
     "iopub.execute_input": "2024-03-14T12:01:06.022367Z",
     "iopub.status.busy": "2024-03-14T12:01:06.020939Z",
     "iopub.status.idle": "2024-03-14T12:01:06.031976Z",
     "shell.execute_reply": "2024-03-14T12:01:06.030490Z"
    },
    "papermill": {
     "duration": 0.031776,
     "end_time": "2024-03-14T12:01:06.034468",
     "exception": false,
     "start_time": "2024-03-14T12:01:06.002692",
     "status": "completed"
    },
    "tags": []
   },
   "outputs": [
    {
     "name": "stdout",
     "output_type": "stream",
     "text": [
      "0     Boat\n",
      "1      Car\n",
      "2     Bike\n",
      "3    Truck\n",
      "dtype: object\n"
     ]
    }
   ],
   "source": [
    "# Define the data\n",
    "mydata = ['Boat', 'Car', 'Bike', 'Truck']\n",
    "\n",
    "# Create a pandas Series\n",
    "myseries1 = pd.Series(mydata)\n",
    "\n",
    "# Print the Series\n",
    "print(myseries1)\n"
   ]
  },
  {
   "cell_type": "code",
   "execution_count": 3,
   "id": "a59e2bae",
   "metadata": {
    "execution": {
     "iopub.execute_input": "2024-03-14T12:01:06.068830Z",
     "iopub.status.busy": "2024-03-14T12:01:06.067971Z",
     "iopub.status.idle": "2024-03-14T12:01:06.075758Z",
     "shell.execute_reply": "2024-03-14T12:01:06.074299Z"
    },
    "papermill": {
     "duration": 0.028202,
     "end_time": "2024-03-14T12:01:06.078235",
     "exception": false,
     "start_time": "2024-03-14T12:01:06.050033",
     "status": "completed"
    },
    "tags": []
   },
   "outputs": [
    {
     "name": "stdout",
     "output_type": "stream",
     "text": [
      "0     1\n",
      "1    55\n",
      "2    99\n",
      "3    43\n",
      "dtype: int64\n"
     ]
    }
   ],
   "source": [
    "# Define the data\n",
    "mydata = [1, 55, 99, 43]\n",
    "\n",
    "# Create a pandas Series\n",
    "myseries2 = pd.Series(mydata)\n",
    "\n",
    "# Print the Series\n",
    "print(myseries2)\n"
   ]
  },
  {
   "cell_type": "markdown",
   "id": "44f86542",
   "metadata": {
    "papermill": {
     "duration": 0.015882,
     "end_time": "2024-03-14T12:01:06.110078",
     "exception": false,
     "start_time": "2024-03-14T12:01:06.094196",
     "status": "completed"
    },
    "tags": []
   },
   "source": [
    "## DataFrame"
   ]
  },
  {
   "cell_type": "code",
   "execution_count": 4,
   "id": "78e07cad",
   "metadata": {
    "execution": {
     "iopub.execute_input": "2024-03-14T12:01:06.144962Z",
     "iopub.status.busy": "2024-03-14T12:01:06.143862Z",
     "iopub.status.idle": "2024-03-14T12:01:06.158062Z",
     "shell.execute_reply": "2024-03-14T12:01:06.156447Z"
    },
    "papermill": {
     "duration": 0.034265,
     "end_time": "2024-03-14T12:01:06.160898",
     "exception": false,
     "start_time": "2024-03-14T12:01:06.126633",
     "status": "completed"
    },
    "tags": []
   },
   "outputs": [
    {
     "name": "stdout",
     "output_type": "stream",
     "text": [
      "   Thing  Count\n",
      "0   Boat      1\n",
      "1    Car     55\n",
      "2   Bike     99\n",
      "3  Truck     43\n"
     ]
    }
   ],
   "source": [
    "# Define the data\n",
    "mydata = [('Boat', 1), ('Car', 55), ('Bike', 99), ('Truck', 43)]\n",
    "\n",
    "# Create a DataFrame\n",
    "mydf = pd.DataFrame(mydata, columns=['Thing', 'Count'])\n",
    "\n",
    "# Print the DataFrame\n",
    "print(mydf)\n"
   ]
  },
  {
   "cell_type": "code",
   "execution_count": 5,
   "id": "048c4124",
   "metadata": {
    "execution": {
     "iopub.execute_input": "2024-03-14T12:01:06.196078Z",
     "iopub.status.busy": "2024-03-14T12:01:06.195318Z",
     "iopub.status.idle": "2024-03-14T12:01:06.206516Z",
     "shell.execute_reply": "2024-03-14T12:01:06.205212Z"
    },
    "papermill": {
     "duration": 0.032217,
     "end_time": "2024-03-14T12:01:06.209094",
     "exception": false,
     "start_time": "2024-03-14T12:01:06.176877",
     "status": "completed"
    },
    "tags": []
   },
   "outputs": [
    {
     "data": {
      "text/plain": [
       "0     Boat\n",
       "1      Car\n",
       "2     Bike\n",
       "3    Truck\n",
       "Name: Thing, dtype: object"
      ]
     },
     "execution_count": 5,
     "metadata": {},
     "output_type": "execute_result"
    }
   ],
   "source": [
    "# Access the 'Thing' column of the DataFrame\n",
    "mydf['Thing']"
   ]
  },
  {
   "cell_type": "code",
   "execution_count": 6,
   "id": "9761c0cf",
   "metadata": {
    "execution": {
     "iopub.execute_input": "2024-03-14T12:01:06.243523Z",
     "iopub.status.busy": "2024-03-14T12:01:06.243042Z",
     "iopub.status.idle": "2024-03-14T12:01:06.250086Z",
     "shell.execute_reply": "2024-03-14T12:01:06.248865Z"
    },
    "papermill": {
     "duration": 0.027204,
     "end_time": "2024-03-14T12:01:06.252587",
     "exception": false,
     "start_time": "2024-03-14T12:01:06.225383",
     "status": "completed"
    },
    "tags": []
   },
   "outputs": [
    {
     "data": {
      "text/plain": [
       "pandas.core.series.Series"
      ]
     },
     "execution_count": 6,
     "metadata": {},
     "output_type": "execute_result"
    }
   ],
   "source": [
    "# Check the type of the 'Thing' column\n",
    "type(mydf['Thing'])"
   ]
  },
  {
   "cell_type": "markdown",
   "id": "1b157d82",
   "metadata": {
    "papermill": {
     "duration": 0.016086,
     "end_time": "2024-03-14T12:01:06.284943",
     "exception": false,
     "start_time": "2024-03-14T12:01:06.268857",
     "status": "completed"
    },
    "tags": []
   },
   "source": [
    "# Reading in Data"
   ]
  },
  {
   "cell_type": "code",
   "execution_count": 7,
   "id": "79498e53",
   "metadata": {
    "execution": {
     "iopub.execute_input": "2024-03-14T12:01:06.322586Z",
     "iopub.status.busy": "2024-03-14T12:01:06.321964Z",
     "iopub.status.idle": "2024-03-14T12:01:06.353160Z",
     "shell.execute_reply": "2024-03-14T12:01:06.352226Z"
    },
    "papermill": {
     "duration": 0.054185,
     "end_time": "2024-03-14T12:01:06.355977",
     "exception": false,
     "start_time": "2024-03-14T12:01:06.301792",
     "status": "completed"
    },
    "tags": []
   },
   "outputs": [],
   "source": [
    "# Read the CSV file into a DataFrame\n",
    "df = pd.read_csv('/kaggle/input/mrbeast-youtube-stats/MrBeast_youtube_stats.csv')\n"
   ]
  },
  {
   "cell_type": "markdown",
   "id": "2ece9767",
   "metadata": {
    "papermill": {
     "duration": 0.016164,
     "end_time": "2024-03-14T12:01:06.388613",
     "exception": false,
     "start_time": "2024-03-14T12:01:06.372449",
     "status": "completed"
    },
    "tags": []
   },
   "source": [
    "# Inspect The Data"
   ]
  },
  {
   "cell_type": "code",
   "execution_count": 8,
   "id": "79ee241d",
   "metadata": {
    "execution": {
     "iopub.execute_input": "2024-03-14T12:01:06.424398Z",
     "iopub.status.busy": "2024-03-14T12:01:06.423916Z",
     "iopub.status.idle": "2024-03-14T12:01:06.468112Z",
     "shell.execute_reply": "2024-03-14T12:01:06.466764Z"
    },
    "papermill": {
     "duration": 0.065527,
     "end_time": "2024-03-14T12:01:06.470821",
     "exception": false,
     "start_time": "2024-03-14T12:01:06.405294",
     "status": "completed"
    },
    "tags": []
   },
   "outputs": [
    {
     "data": {
      "text/html": [
       "<div>\n",
       "<style scoped>\n",
       "    .dataframe tbody tr th:only-of-type {\n",
       "        vertical-align: middle;\n",
       "    }\n",
       "\n",
       "    .dataframe tbody tr th {\n",
       "        vertical-align: top;\n",
       "    }\n",
       "\n",
       "    .dataframe thead th {\n",
       "        text-align: right;\n",
       "    }\n",
       "</style>\n",
       "<table border=\"1\" class=\"dataframe\">\n",
       "  <thead>\n",
       "    <tr style=\"text-align: right;\">\n",
       "      <th></th>\n",
       "      <th>id</th>\n",
       "      <th>title</th>\n",
       "      <th>description</th>\n",
       "      <th>publishTime</th>\n",
       "      <th>kind_stats</th>\n",
       "      <th>duration_seconds</th>\n",
       "      <th>viewCount</th>\n",
       "      <th>likeCount</th>\n",
       "      <th>commentCount</th>\n",
       "      <th>thumbnails.default.url</th>\n",
       "      <th>...</th>\n",
       "      <th>thumbnails.high.width</th>\n",
       "      <th>thumbnails.high.height</th>\n",
       "      <th>contentDetails.duration</th>\n",
       "      <th>contentDetails.dimension</th>\n",
       "      <th>topicDetails.topicCategories</th>\n",
       "      <th>snippet.defaultLanguage</th>\n",
       "      <th>localizations.en.title</th>\n",
       "      <th>localizations.en.description</th>\n",
       "      <th>snippet.tags</th>\n",
       "      <th>contentDetails.contentRating.ytRating</th>\n",
       "    </tr>\n",
       "  </thead>\n",
       "  <tbody>\n",
       "    <tr>\n",
       "      <th>0</th>\n",
       "      <td>TQHEJj68Jew</td>\n",
       "      <td>I Got Hunted By A Real Bounty Hunter</td>\n",
       "      <td>Sign up for Current w/ my Creator Code \"BEAST\"...</td>\n",
       "      <td>2021-04-24 20:00:00+00:00</td>\n",
       "      <td>youtube#video</td>\n",
       "      <td>861</td>\n",
       "      <td>84717282.0</td>\n",
       "      <td>2876493.0</td>\n",
       "      <td>128922.0</td>\n",
       "      <td>https://i.ytimg.com/vi/TQHEJj68Jew/default.jpg</td>\n",
       "      <td>...</td>\n",
       "      <td>480.0</td>\n",
       "      <td>360.0</td>\n",
       "      <td>PT14M21S</td>\n",
       "      <td>2d</td>\n",
       "      <td>['https://en.wikipedia.org/wiki/Lifestyle_(soc...</td>\n",
       "      <td>NaN</td>\n",
       "      <td>NaN</td>\n",
       "      <td>NaN</td>\n",
       "      <td>NaN</td>\n",
       "      <td>NaN</td>\n",
       "    </tr>\n",
       "    <tr>\n",
       "      <th>1</th>\n",
       "      <td>00NgUctWoLQ</td>\n",
       "      <td>Extreme $1,000,000 Hide And Seek</td>\n",
       "      <td>I didn't expect that to happen at the end I wa...</td>\n",
       "      <td>2021-12-18 21:00:00+00:00</td>\n",
       "      <td>youtube#video</td>\n",
       "      <td>729</td>\n",
       "      <td>32090178.0</td>\n",
       "      <td>2125183.0</td>\n",
       "      <td>73593.0</td>\n",
       "      <td>https://i.ytimg.com/vi/00NgUctWoLQ/default.jpg</td>\n",
       "      <td>...</td>\n",
       "      <td>480.0</td>\n",
       "      <td>360.0</td>\n",
       "      <td>PT12M9S</td>\n",
       "      <td>2d</td>\n",
       "      <td>['https://en.wikipedia.org/wiki/Lifestyle_(soc...</td>\n",
       "      <td>en</td>\n",
       "      <td>Extreme $1,000,000 Hide And Seek</td>\n",
       "      <td>I didn't expect that to happen at the end I wa...</td>\n",
       "      <td>NaN</td>\n",
       "      <td>NaN</td>\n",
       "    </tr>\n",
       "    <tr>\n",
       "      <th>2</th>\n",
       "      <td>NaN</td>\n",
       "      <td>MrBeast</td>\n",
       "      <td>Accomplishments - Raised $20000000 To Plant 20...</td>\n",
       "      <td>2012-02-20 00:43:50+00:00</td>\n",
       "      <td>NaN</td>\n",
       "      <td>0</td>\n",
       "      <td>NaN</td>\n",
       "      <td>NaN</td>\n",
       "      <td>NaN</td>\n",
       "      <td>https://yt3.ggpht.com/ytc/AKedOLTctGKJ32CdDLiS...</td>\n",
       "      <td>...</td>\n",
       "      <td>NaN</td>\n",
       "      <td>NaN</td>\n",
       "      <td>NaN</td>\n",
       "      <td>NaN</td>\n",
       "      <td>NaN</td>\n",
       "      <td>NaN</td>\n",
       "      <td>NaN</td>\n",
       "      <td>NaN</td>\n",
       "      <td>NaN</td>\n",
       "      <td>NaN</td>\n",
       "    </tr>\n",
       "    <tr>\n",
       "      <th>3</th>\n",
       "      <td>ayXxwJJId_c</td>\n",
       "      <td>I Bought The World&amp;#39;s Largest Mystery Box! ...</td>\n",
       "      <td>I cant believe I spent over $500000 on mystery...</td>\n",
       "      <td>2021-04-03 20:00:01+00:00</td>\n",
       "      <td>youtube#video</td>\n",
       "      <td>709</td>\n",
       "      <td>101745632.0</td>\n",
       "      <td>3110824.0</td>\n",
       "      <td>162796.0</td>\n",
       "      <td>https://i.ytimg.com/vi/ayXxwJJId_c/default.jpg</td>\n",
       "      <td>...</td>\n",
       "      <td>480.0</td>\n",
       "      <td>360.0</td>\n",
       "      <td>PT11M49S</td>\n",
       "      <td>2d</td>\n",
       "      <td>['https://en.wikipedia.org/wiki/Lifestyle_(soc...</td>\n",
       "      <td>NaN</td>\n",
       "      <td>NaN</td>\n",
       "      <td>NaN</td>\n",
       "      <td>NaN</td>\n",
       "      <td>NaN</td>\n",
       "    </tr>\n",
       "    <tr>\n",
       "      <th>4</th>\n",
       "      <td>cExLQ1o2pDw</td>\n",
       "      <td>First To Rob Bank Wins $100,000</td>\n",
       "      <td>I didnt think he would actually rob the bank.....</td>\n",
       "      <td>2021-09-26 20:00:06+00:00</td>\n",
       "      <td>youtube#video</td>\n",
       "      <td>482</td>\n",
       "      <td>50008942.0</td>\n",
       "      <td>2359606.0</td>\n",
       "      <td>120621.0</td>\n",
       "      <td>https://i.ytimg.com/vi/cExLQ1o2pDw/default.jpg</td>\n",
       "      <td>...</td>\n",
       "      <td>480.0</td>\n",
       "      <td>360.0</td>\n",
       "      <td>PT8M2S</td>\n",
       "      <td>2d</td>\n",
       "      <td>['https://en.wikipedia.org/wiki/Lifestyle_(soc...</td>\n",
       "      <td>NaN</td>\n",
       "      <td>NaN</td>\n",
       "      <td>NaN</td>\n",
       "      <td>NaN</td>\n",
       "      <td>NaN</td>\n",
       "    </tr>\n",
       "  </tbody>\n",
       "</table>\n",
       "<p>5 rows × 26 columns</p>\n",
       "</div>"
      ],
      "text/plain": [
       "            id                                              title  \\\n",
       "0  TQHEJj68Jew               I Got Hunted By A Real Bounty Hunter   \n",
       "1  00NgUctWoLQ                   Extreme $1,000,000 Hide And Seek   \n",
       "2          NaN                                            MrBeast   \n",
       "3  ayXxwJJId_c  I Bought The World&#39;s Largest Mystery Box! ...   \n",
       "4  cExLQ1o2pDw                    First To Rob Bank Wins $100,000   \n",
       "\n",
       "                                         description  \\\n",
       "0  Sign up for Current w/ my Creator Code \"BEAST\"...   \n",
       "1  I didn't expect that to happen at the end I wa...   \n",
       "2  Accomplishments - Raised $20000000 To Plant 20...   \n",
       "3  I cant believe I spent over $500000 on mystery...   \n",
       "4  I didnt think he would actually rob the bank.....   \n",
       "\n",
       "                 publishTime     kind_stats  duration_seconds    viewCount  \\\n",
       "0  2021-04-24 20:00:00+00:00  youtube#video               861   84717282.0   \n",
       "1  2021-12-18 21:00:00+00:00  youtube#video               729   32090178.0   \n",
       "2  2012-02-20 00:43:50+00:00            NaN                 0          NaN   \n",
       "3  2021-04-03 20:00:01+00:00  youtube#video               709  101745632.0   \n",
       "4  2021-09-26 20:00:06+00:00  youtube#video               482   50008942.0   \n",
       "\n",
       "   likeCount  commentCount                             thumbnails.default.url  \\\n",
       "0  2876493.0      128922.0     https://i.ytimg.com/vi/TQHEJj68Jew/default.jpg   \n",
       "1  2125183.0       73593.0     https://i.ytimg.com/vi/00NgUctWoLQ/default.jpg   \n",
       "2        NaN           NaN  https://yt3.ggpht.com/ytc/AKedOLTctGKJ32CdDLiS...   \n",
       "3  3110824.0      162796.0     https://i.ytimg.com/vi/ayXxwJJId_c/default.jpg   \n",
       "4  2359606.0      120621.0     https://i.ytimg.com/vi/cExLQ1o2pDw/default.jpg   \n",
       "\n",
       "   ...  thumbnails.high.width  thumbnails.high.height contentDetails.duration  \\\n",
       "0  ...                  480.0                   360.0                PT14M21S   \n",
       "1  ...                  480.0                   360.0                 PT12M9S   \n",
       "2  ...                    NaN                     NaN                     NaN   \n",
       "3  ...                  480.0                   360.0                PT11M49S   \n",
       "4  ...                  480.0                   360.0                  PT8M2S   \n",
       "\n",
       "   contentDetails.dimension  \\\n",
       "0                        2d   \n",
       "1                        2d   \n",
       "2                       NaN   \n",
       "3                        2d   \n",
       "4                        2d   \n",
       "\n",
       "                        topicDetails.topicCategories snippet.defaultLanguage  \\\n",
       "0  ['https://en.wikipedia.org/wiki/Lifestyle_(soc...                     NaN   \n",
       "1  ['https://en.wikipedia.org/wiki/Lifestyle_(soc...                      en   \n",
       "2                                                NaN                     NaN   \n",
       "3  ['https://en.wikipedia.org/wiki/Lifestyle_(soc...                     NaN   \n",
       "4  ['https://en.wikipedia.org/wiki/Lifestyle_(soc...                     NaN   \n",
       "\n",
       "             localizations.en.title  \\\n",
       "0                               NaN   \n",
       "1  Extreme $1,000,000 Hide And Seek   \n",
       "2                               NaN   \n",
       "3                               NaN   \n",
       "4                               NaN   \n",
       "\n",
       "                        localizations.en.description snippet.tags  \\\n",
       "0                                                NaN          NaN   \n",
       "1  I didn't expect that to happen at the end I wa...          NaN   \n",
       "2                                                NaN          NaN   \n",
       "3                                                NaN          NaN   \n",
       "4                                                NaN          NaN   \n",
       "\n",
       "  contentDetails.contentRating.ytRating  \n",
       "0                                   NaN  \n",
       "1                                   NaN  \n",
       "2                                   NaN  \n",
       "3                                   NaN  \n",
       "4                                   NaN  \n",
       "\n",
       "[5 rows x 26 columns]"
      ]
     },
     "execution_count": 8,
     "metadata": {},
     "output_type": "execute_result"
    }
   ],
   "source": [
    "# Display the first few rows of the DataFrame\n",
    "df.head()\n"
   ]
  },
  {
   "cell_type": "code",
   "execution_count": 9,
   "id": "1867312b",
   "metadata": {
    "execution": {
     "iopub.execute_input": "2024-03-14T12:01:06.506787Z",
     "iopub.status.busy": "2024-03-14T12:01:06.506369Z",
     "iopub.status.idle": "2024-03-14T12:01:06.534014Z",
     "shell.execute_reply": "2024-03-14T12:01:06.533194Z"
    },
    "papermill": {
     "duration": 0.048132,
     "end_time": "2024-03-14T12:01:06.536396",
     "exception": false,
     "start_time": "2024-03-14T12:01:06.488264",
     "status": "completed"
    },
    "tags": []
   },
   "outputs": [
    {
     "data": {
      "text/html": [
       "<div>\n",
       "<style scoped>\n",
       "    .dataframe tbody tr th:only-of-type {\n",
       "        vertical-align: middle;\n",
       "    }\n",
       "\n",
       "    .dataframe tbody tr th {\n",
       "        vertical-align: top;\n",
       "    }\n",
       "\n",
       "    .dataframe thead th {\n",
       "        text-align: right;\n",
       "    }\n",
       "</style>\n",
       "<table border=\"1\" class=\"dataframe\">\n",
       "  <thead>\n",
       "    <tr style=\"text-align: right;\">\n",
       "      <th></th>\n",
       "      <th>id</th>\n",
       "      <th>title</th>\n",
       "      <th>description</th>\n",
       "      <th>publishTime</th>\n",
       "      <th>kind_stats</th>\n",
       "      <th>duration_seconds</th>\n",
       "      <th>viewCount</th>\n",
       "      <th>likeCount</th>\n",
       "      <th>commentCount</th>\n",
       "      <th>thumbnails.default.url</th>\n",
       "      <th>...</th>\n",
       "      <th>thumbnails.high.width</th>\n",
       "      <th>thumbnails.high.height</th>\n",
       "      <th>contentDetails.duration</th>\n",
       "      <th>contentDetails.dimension</th>\n",
       "      <th>topicDetails.topicCategories</th>\n",
       "      <th>snippet.defaultLanguage</th>\n",
       "      <th>localizations.en.title</th>\n",
       "      <th>localizations.en.description</th>\n",
       "      <th>snippet.tags</th>\n",
       "      <th>contentDetails.contentRating.ytRating</th>\n",
       "    </tr>\n",
       "  </thead>\n",
       "  <tbody>\n",
       "    <tr>\n",
       "      <th>242</th>\n",
       "      <td>yeHjsYQ076A</td>\n",
       "      <td>Remember When COD Was Fun?</td>\n",
       "      <td>Yup, another very pointless video ▻ Subscribe?...</td>\n",
       "      <td>2015-04-26 21:26:36+00:00</td>\n",
       "      <td>youtube#video</td>\n",
       "      <td>216</td>\n",
       "      <td>16312.0</td>\n",
       "      <td>574.0</td>\n",
       "      <td>145.0</td>\n",
       "      <td>https://i.ytimg.com/vi/yeHjsYQ076A/default.jpg</td>\n",
       "      <td>...</td>\n",
       "      <td>480.0</td>\n",
       "      <td>360.0</td>\n",
       "      <td>PT3M36S</td>\n",
       "      <td>2d</td>\n",
       "      <td>['https://en.wikipedia.org/wiki/Action-adventu...</td>\n",
       "      <td>NaN</td>\n",
       "      <td>NaN</td>\n",
       "      <td>NaN</td>\n",
       "      <td>['How', 'much', 'money', 'does', 'make', 'blac...</td>\n",
       "      <td>NaN</td>\n",
       "    </tr>\n",
       "    <tr>\n",
       "      <th>243</th>\n",
       "      <td>X7doE4h6W64</td>\n",
       "      <td>Insane Gun Sync - 7 Hours To Make</td>\n",
       "      <td>Look at this - http://gyazo.com/8852509d2350db...</td>\n",
       "      <td>2015-06-21 12:22:34+00:00</td>\n",
       "      <td>youtube#video</td>\n",
       "      <td>134</td>\n",
       "      <td>15740.0</td>\n",
       "      <td>637.0</td>\n",
       "      <td>105.0</td>\n",
       "      <td>https://i.ytimg.com/vi/X7doE4h6W64/default.jpg</td>\n",
       "      <td>...</td>\n",
       "      <td>480.0</td>\n",
       "      <td>360.0</td>\n",
       "      <td>PT2M14S</td>\n",
       "      <td>2d</td>\n",
       "      <td>['https://en.wikipedia.org/wiki/Action-adventu...</td>\n",
       "      <td>NaN</td>\n",
       "      <td>NaN</td>\n",
       "      <td>NaN</td>\n",
       "      <td>['How', 'much', 'money', 'does', 'make', 'blac...</td>\n",
       "      <td>NaN</td>\n",
       "    </tr>\n",
       "    <tr>\n",
       "      <th>244</th>\n",
       "      <td>AIytwdufwW8</td>\n",
       "      <td>MY MESSAGE TO COD YOUTUBERS (Watch till end plz)</td>\n",
       "      <td>The beginning of the video is a little off top...</td>\n",
       "      <td>2015-05-29 20:07:48+00:00</td>\n",
       "      <td>youtube#video</td>\n",
       "      <td>292</td>\n",
       "      <td>18502.0</td>\n",
       "      <td>508.0</td>\n",
       "      <td>117.0</td>\n",
       "      <td>https://i.ytimg.com/vi/AIytwdufwW8/default.jpg</td>\n",
       "      <td>...</td>\n",
       "      <td>480.0</td>\n",
       "      <td>360.0</td>\n",
       "      <td>PT4M52S</td>\n",
       "      <td>2d</td>\n",
       "      <td>['https://en.wikipedia.org/wiki/Action-adventu...</td>\n",
       "      <td>NaN</td>\n",
       "      <td>NaN</td>\n",
       "      <td>NaN</td>\n",
       "      <td>['How', 'much', 'money', 'does', 'make', 'blac...</td>\n",
       "      <td>NaN</td>\n",
       "    </tr>\n",
       "    <tr>\n",
       "      <th>245</th>\n",
       "      <td>56OkH6ocYZU</td>\n",
       "      <td>L0114R - Biblical Creeper Post for Post @L0114R</td>\n",
       "      <td>His channel - https://www.youtube.com/user/the...</td>\n",
       "      <td>2015-05-15 16:48:54+00:00</td>\n",
       "      <td>youtube#video</td>\n",
       "      <td>109</td>\n",
       "      <td>16627.0</td>\n",
       "      <td>430.0</td>\n",
       "      <td>134.0</td>\n",
       "      <td>https://i.ytimg.com/vi/56OkH6ocYZU/default.jpg</td>\n",
       "      <td>...</td>\n",
       "      <td>480.0</td>\n",
       "      <td>360.0</td>\n",
       "      <td>PT1M49S</td>\n",
       "      <td>2d</td>\n",
       "      <td>['https://en.wikipedia.org/wiki/Action-adventu...</td>\n",
       "      <td>NaN</td>\n",
       "      <td>NaN</td>\n",
       "      <td>NaN</td>\n",
       "      <td>['How', 'much', 'money', 'does', 'make', 'blac...</td>\n",
       "      <td>NaN</td>\n",
       "    </tr>\n",
       "    <tr>\n",
       "      <th>246</th>\n",
       "      <td>zi7tZ-2PhLk</td>\n",
       "      <td>How Much Money Do You Make As An Uber Driver??...</td>\n",
       "      <td>In this video I talk about being an uber drive...</td>\n",
       "      <td>2015-05-31 18:31:25+00:00</td>\n",
       "      <td>youtube#video</td>\n",
       "      <td>304</td>\n",
       "      <td>18773.0</td>\n",
       "      <td>370.0</td>\n",
       "      <td>59.0</td>\n",
       "      <td>https://i.ytimg.com/vi/zi7tZ-2PhLk/default.jpg</td>\n",
       "      <td>...</td>\n",
       "      <td>480.0</td>\n",
       "      <td>360.0</td>\n",
       "      <td>PT5M4S</td>\n",
       "      <td>2d</td>\n",
       "      <td>['https://en.wikipedia.org/wiki/Action-adventu...</td>\n",
       "      <td>NaN</td>\n",
       "      <td>NaN</td>\n",
       "      <td>NaN</td>\n",
       "      <td>['How', 'much', 'money', 'does', 'make', 'blac...</td>\n",
       "      <td>NaN</td>\n",
       "    </tr>\n",
       "  </tbody>\n",
       "</table>\n",
       "<p>5 rows × 26 columns</p>\n",
       "</div>"
      ],
      "text/plain": [
       "              id                                              title  \\\n",
       "242  yeHjsYQ076A                         Remember When COD Was Fun?   \n",
       "243  X7doE4h6W64                  Insane Gun Sync - 7 Hours To Make   \n",
       "244  AIytwdufwW8   MY MESSAGE TO COD YOUTUBERS (Watch till end plz)   \n",
       "245  56OkH6ocYZU    L0114R - Biblical Creeper Post for Post @L0114R   \n",
       "246  zi7tZ-2PhLk  How Much Money Do You Make As An Uber Driver??...   \n",
       "\n",
       "                                           description  \\\n",
       "242  Yup, another very pointless video ▻ Subscribe?...   \n",
       "243  Look at this - http://gyazo.com/8852509d2350db...   \n",
       "244  The beginning of the video is a little off top...   \n",
       "245  His channel - https://www.youtube.com/user/the...   \n",
       "246  In this video I talk about being an uber drive...   \n",
       "\n",
       "                   publishTime     kind_stats  duration_seconds  viewCount  \\\n",
       "242  2015-04-26 21:26:36+00:00  youtube#video               216    16312.0   \n",
       "243  2015-06-21 12:22:34+00:00  youtube#video               134    15740.0   \n",
       "244  2015-05-29 20:07:48+00:00  youtube#video               292    18502.0   \n",
       "245  2015-05-15 16:48:54+00:00  youtube#video               109    16627.0   \n",
       "246  2015-05-31 18:31:25+00:00  youtube#video               304    18773.0   \n",
       "\n",
       "     likeCount  commentCount                          thumbnails.default.url  \\\n",
       "242      574.0         145.0  https://i.ytimg.com/vi/yeHjsYQ076A/default.jpg   \n",
       "243      637.0         105.0  https://i.ytimg.com/vi/X7doE4h6W64/default.jpg   \n",
       "244      508.0         117.0  https://i.ytimg.com/vi/AIytwdufwW8/default.jpg   \n",
       "245      430.0         134.0  https://i.ytimg.com/vi/56OkH6ocYZU/default.jpg   \n",
       "246      370.0          59.0  https://i.ytimg.com/vi/zi7tZ-2PhLk/default.jpg   \n",
       "\n",
       "     ...  thumbnails.high.width  thumbnails.high.height  \\\n",
       "242  ...                  480.0                   360.0   \n",
       "243  ...                  480.0                   360.0   \n",
       "244  ...                  480.0                   360.0   \n",
       "245  ...                  480.0                   360.0   \n",
       "246  ...                  480.0                   360.0   \n",
       "\n",
       "    contentDetails.duration  contentDetails.dimension  \\\n",
       "242                 PT3M36S                        2d   \n",
       "243                 PT2M14S                        2d   \n",
       "244                 PT4M52S                        2d   \n",
       "245                 PT1M49S                        2d   \n",
       "246                  PT5M4S                        2d   \n",
       "\n",
       "                          topicDetails.topicCategories  \\\n",
       "242  ['https://en.wikipedia.org/wiki/Action-adventu...   \n",
       "243  ['https://en.wikipedia.org/wiki/Action-adventu...   \n",
       "244  ['https://en.wikipedia.org/wiki/Action-adventu...   \n",
       "245  ['https://en.wikipedia.org/wiki/Action-adventu...   \n",
       "246  ['https://en.wikipedia.org/wiki/Action-adventu...   \n",
       "\n",
       "    snippet.defaultLanguage  localizations.en.title  \\\n",
       "242                     NaN                     NaN   \n",
       "243                     NaN                     NaN   \n",
       "244                     NaN                     NaN   \n",
       "245                     NaN                     NaN   \n",
       "246                     NaN                     NaN   \n",
       "\n",
       "     localizations.en.description  \\\n",
       "242                           NaN   \n",
       "243                           NaN   \n",
       "244                           NaN   \n",
       "245                           NaN   \n",
       "246                           NaN   \n",
       "\n",
       "                                          snippet.tags  \\\n",
       "242  ['How', 'much', 'money', 'does', 'make', 'blac...   \n",
       "243  ['How', 'much', 'money', 'does', 'make', 'blac...   \n",
       "244  ['How', 'much', 'money', 'does', 'make', 'blac...   \n",
       "245  ['How', 'much', 'money', 'does', 'make', 'blac...   \n",
       "246  ['How', 'much', 'money', 'does', 'make', 'blac...   \n",
       "\n",
       "    contentDetails.contentRating.ytRating  \n",
       "242                                   NaN  \n",
       "243                                   NaN  \n",
       "244                                   NaN  \n",
       "245                                   NaN  \n",
       "246                                   NaN  \n",
       "\n",
       "[5 rows x 26 columns]"
      ]
     },
     "execution_count": 9,
     "metadata": {},
     "output_type": "execute_result"
    }
   ],
   "source": [
    "# Display the last few rows of the DataFrame\n",
    "df.tail()\n"
   ]
  },
  {
   "cell_type": "code",
   "execution_count": 10,
   "id": "4a678e33",
   "metadata": {
    "execution": {
     "iopub.execute_input": "2024-03-14T12:01:06.573168Z",
     "iopub.status.busy": "2024-03-14T12:01:06.572685Z",
     "iopub.status.idle": "2024-03-14T12:01:06.588767Z",
     "shell.execute_reply": "2024-03-14T12:01:06.587305Z"
    },
    "papermill": {
     "duration": 0.03771,
     "end_time": "2024-03-14T12:01:06.591419",
     "exception": false,
     "start_time": "2024-03-14T12:01:06.553709",
     "status": "completed"
    },
    "tags": []
   },
   "outputs": [
    {
     "data": {
      "text/html": [
       "<div>\n",
       "<style scoped>\n",
       "    .dataframe tbody tr th:only-of-type {\n",
       "        vertical-align: middle;\n",
       "    }\n",
       "\n",
       "    .dataframe tbody tr th {\n",
       "        vertical-align: top;\n",
       "    }\n",
       "\n",
       "    .dataframe thead th {\n",
       "        text-align: right;\n",
       "    }\n",
       "</style>\n",
       "<table border=\"1\" class=\"dataframe\">\n",
       "  <thead>\n",
       "    <tr style=\"text-align: right;\">\n",
       "      <th></th>\n",
       "      <th>index</th>\n",
       "      <th>0</th>\n",
       "    </tr>\n",
       "  </thead>\n",
       "  <tbody>\n",
       "    <tr>\n",
       "      <th>0</th>\n",
       "      <td>id</td>\n",
       "      <td>object</td>\n",
       "    </tr>\n",
       "    <tr>\n",
       "      <th>1</th>\n",
       "      <td>title</td>\n",
       "      <td>object</td>\n",
       "    </tr>\n",
       "    <tr>\n",
       "      <th>2</th>\n",
       "      <td>description</td>\n",
       "      <td>object</td>\n",
       "    </tr>\n",
       "    <tr>\n",
       "      <th>3</th>\n",
       "      <td>publishTime</td>\n",
       "      <td>object</td>\n",
       "    </tr>\n",
       "    <tr>\n",
       "      <th>4</th>\n",
       "      <td>kind_stats</td>\n",
       "      <td>object</td>\n",
       "    </tr>\n",
       "    <tr>\n",
       "      <th>5</th>\n",
       "      <td>duration_seconds</td>\n",
       "      <td>int64</td>\n",
       "    </tr>\n",
       "    <tr>\n",
       "      <th>6</th>\n",
       "      <td>viewCount</td>\n",
       "      <td>float64</td>\n",
       "    </tr>\n",
       "    <tr>\n",
       "      <th>7</th>\n",
       "      <td>likeCount</td>\n",
       "      <td>float64</td>\n",
       "    </tr>\n",
       "    <tr>\n",
       "      <th>8</th>\n",
       "      <td>commentCount</td>\n",
       "      <td>float64</td>\n",
       "    </tr>\n",
       "    <tr>\n",
       "      <th>9</th>\n",
       "      <td>thumbnails.default.url</td>\n",
       "      <td>object</td>\n",
       "    </tr>\n",
       "    <tr>\n",
       "      <th>10</th>\n",
       "      <td>thumbnails.default.width</td>\n",
       "      <td>float64</td>\n",
       "    </tr>\n",
       "    <tr>\n",
       "      <th>11</th>\n",
       "      <td>thumbnails.default.height</td>\n",
       "      <td>float64</td>\n",
       "    </tr>\n",
       "    <tr>\n",
       "      <th>12</th>\n",
       "      <td>thumbnails.medium.url</td>\n",
       "      <td>object</td>\n",
       "    </tr>\n",
       "    <tr>\n",
       "      <th>13</th>\n",
       "      <td>thumbnails.medium.width</td>\n",
       "      <td>float64</td>\n",
       "    </tr>\n",
       "    <tr>\n",
       "      <th>14</th>\n",
       "      <td>thumbnails.medium.height</td>\n",
       "      <td>float64</td>\n",
       "    </tr>\n",
       "    <tr>\n",
       "      <th>15</th>\n",
       "      <td>thumbnails.high.url</td>\n",
       "      <td>object</td>\n",
       "    </tr>\n",
       "    <tr>\n",
       "      <th>16</th>\n",
       "      <td>thumbnails.high.width</td>\n",
       "      <td>float64</td>\n",
       "    </tr>\n",
       "    <tr>\n",
       "      <th>17</th>\n",
       "      <td>thumbnails.high.height</td>\n",
       "      <td>float64</td>\n",
       "    </tr>\n",
       "    <tr>\n",
       "      <th>18</th>\n",
       "      <td>contentDetails.duration</td>\n",
       "      <td>object</td>\n",
       "    </tr>\n",
       "    <tr>\n",
       "      <th>19</th>\n",
       "      <td>contentDetails.dimension</td>\n",
       "      <td>object</td>\n",
       "    </tr>\n",
       "    <tr>\n",
       "      <th>20</th>\n",
       "      <td>topicDetails.topicCategories</td>\n",
       "      <td>object</td>\n",
       "    </tr>\n",
       "    <tr>\n",
       "      <th>21</th>\n",
       "      <td>snippet.defaultLanguage</td>\n",
       "      <td>object</td>\n",
       "    </tr>\n",
       "    <tr>\n",
       "      <th>22</th>\n",
       "      <td>localizations.en.title</td>\n",
       "      <td>object</td>\n",
       "    </tr>\n",
       "    <tr>\n",
       "      <th>23</th>\n",
       "      <td>localizations.en.description</td>\n",
       "      <td>object</td>\n",
       "    </tr>\n",
       "    <tr>\n",
       "      <th>24</th>\n",
       "      <td>snippet.tags</td>\n",
       "      <td>object</td>\n",
       "    </tr>\n",
       "    <tr>\n",
       "      <th>25</th>\n",
       "      <td>contentDetails.contentRating.ytRating</td>\n",
       "      <td>object</td>\n",
       "    </tr>\n",
       "  </tbody>\n",
       "</table>\n",
       "</div>"
      ],
      "text/plain": [
       "                                    index        0\n",
       "0                                      id   object\n",
       "1                                   title   object\n",
       "2                             description   object\n",
       "3                             publishTime   object\n",
       "4                              kind_stats   object\n",
       "5                        duration_seconds    int64\n",
       "6                               viewCount  float64\n",
       "7                               likeCount  float64\n",
       "8                            commentCount  float64\n",
       "9                  thumbnails.default.url   object\n",
       "10               thumbnails.default.width  float64\n",
       "11              thumbnails.default.height  float64\n",
       "12                  thumbnails.medium.url   object\n",
       "13                thumbnails.medium.width  float64\n",
       "14               thumbnails.medium.height  float64\n",
       "15                    thumbnails.high.url   object\n",
       "16                  thumbnails.high.width  float64\n",
       "17                 thumbnails.high.height  float64\n",
       "18                contentDetails.duration   object\n",
       "19               contentDetails.dimension   object\n",
       "20           topicDetails.topicCategories   object\n",
       "21                snippet.defaultLanguage   object\n",
       "22                 localizations.en.title   object\n",
       "23           localizations.en.description   object\n",
       "24                           snippet.tags   object\n",
       "25  contentDetails.contentRating.ytRating   object"
      ]
     },
     "execution_count": 10,
     "metadata": {},
     "output_type": "execute_result"
    }
   ],
   "source": [
    "# Reset the index of the DataFrame and display the data types of each column\n",
    "df.dtypes.reset_index()"
   ]
  },
  {
   "cell_type": "code",
   "execution_count": 11,
   "id": "158ed98b",
   "metadata": {
    "execution": {
     "iopub.execute_input": "2024-03-14T12:01:06.631068Z",
     "iopub.status.busy": "2024-03-14T12:01:06.630594Z",
     "iopub.status.idle": "2024-03-14T12:01:06.681649Z",
     "shell.execute_reply": "2024-03-14T12:01:06.680483Z"
    },
    "papermill": {
     "duration": 0.073603,
     "end_time": "2024-03-14T12:01:06.684112",
     "exception": false,
     "start_time": "2024-03-14T12:01:06.610509",
     "status": "completed"
    },
    "tags": []
   },
   "outputs": [
    {
     "data": {
      "text/html": [
       "<div>\n",
       "<style scoped>\n",
       "    .dataframe tbody tr th:only-of-type {\n",
       "        vertical-align: middle;\n",
       "    }\n",
       "\n",
       "    .dataframe tbody tr th {\n",
       "        vertical-align: top;\n",
       "    }\n",
       "\n",
       "    .dataframe thead th {\n",
       "        text-align: right;\n",
       "    }\n",
       "</style>\n",
       "<table border=\"1\" class=\"dataframe\">\n",
       "  <thead>\n",
       "    <tr style=\"text-align: right;\">\n",
       "      <th></th>\n",
       "      <th>duration_seconds</th>\n",
       "      <th>viewCount</th>\n",
       "      <th>likeCount</th>\n",
       "      <th>commentCount</th>\n",
       "      <th>thumbnails.default.width</th>\n",
       "      <th>thumbnails.default.height</th>\n",
       "      <th>thumbnails.medium.width</th>\n",
       "      <th>thumbnails.medium.height</th>\n",
       "      <th>thumbnails.high.width</th>\n",
       "      <th>thumbnails.high.height</th>\n",
       "    </tr>\n",
       "  </thead>\n",
       "  <tbody>\n",
       "    <tr>\n",
       "      <th>count</th>\n",
       "      <td>247.000000</td>\n",
       "      <td>2.460000e+02</td>\n",
       "      <td>2.440000e+02</td>\n",
       "      <td>245.000000</td>\n",
       "      <td>246.0</td>\n",
       "      <td>246.0</td>\n",
       "      <td>246.0</td>\n",
       "      <td>246.0</td>\n",
       "      <td>246.0</td>\n",
       "      <td>246.0</td>\n",
       "    </tr>\n",
       "    <tr>\n",
       "      <th>mean</th>\n",
       "      <td>1886.234818</td>\n",
       "      <td>5.084638e+07</td>\n",
       "      <td>1.610498e+06</td>\n",
       "      <td>75562.783673</td>\n",
       "      <td>120.0</td>\n",
       "      <td>90.0</td>\n",
       "      <td>320.0</td>\n",
       "      <td>180.0</td>\n",
       "      <td>480.0</td>\n",
       "      <td>360.0</td>\n",
       "    </tr>\n",
       "    <tr>\n",
       "      <th>std</th>\n",
       "      <td>8642.188728</td>\n",
       "      <td>4.062672e+07</td>\n",
       "      <td>1.879529e+06</td>\n",
       "      <td>85356.537127</td>\n",
       "      <td>0.0</td>\n",
       "      <td>0.0</td>\n",
       "      <td>0.0</td>\n",
       "      <td>0.0</td>\n",
       "      <td>0.0</td>\n",
       "      <td>0.0</td>\n",
       "    </tr>\n",
       "    <tr>\n",
       "      <th>min</th>\n",
       "      <td>0.000000</td>\n",
       "      <td>1.395400e+04</td>\n",
       "      <td>3.700000e+02</td>\n",
       "      <td>59.000000</td>\n",
       "      <td>120.0</td>\n",
       "      <td>90.0</td>\n",
       "      <td>320.0</td>\n",
       "      <td>180.0</td>\n",
       "      <td>480.0</td>\n",
       "      <td>360.0</td>\n",
       "    </tr>\n",
       "    <tr>\n",
       "      <th>25%</th>\n",
       "      <td>425.500000</td>\n",
       "      <td>1.406442e+07</td>\n",
       "      <td>4.348780e+05</td>\n",
       "      <td>21552.000000</td>\n",
       "      <td>120.0</td>\n",
       "      <td>90.0</td>\n",
       "      <td>320.0</td>\n",
       "      <td>180.0</td>\n",
       "      <td>480.0</td>\n",
       "      <td>360.0</td>\n",
       "    </tr>\n",
       "    <tr>\n",
       "      <th>50%</th>\n",
       "      <td>776.000000</td>\n",
       "      <td>4.904782e+07</td>\n",
       "      <td>1.358232e+06</td>\n",
       "      <td>60701.000000</td>\n",
       "      <td>120.0</td>\n",
       "      <td>90.0</td>\n",
       "      <td>320.0</td>\n",
       "      <td>180.0</td>\n",
       "      <td>480.0</td>\n",
       "      <td>360.0</td>\n",
       "    </tr>\n",
       "    <tr>\n",
       "      <th>75%</th>\n",
       "      <td>923.000000</td>\n",
       "      <td>8.125392e+07</td>\n",
       "      <td>2.294378e+06</td>\n",
       "      <td>99670.000000</td>\n",
       "      <td>120.0</td>\n",
       "      <td>90.0</td>\n",
       "      <td>320.0</td>\n",
       "      <td>180.0</td>\n",
       "      <td>480.0</td>\n",
       "      <td>360.0</td>\n",
       "    </tr>\n",
       "    <tr>\n",
       "      <th>max</th>\n",
       "      <td>85686.000000</td>\n",
       "      <td>1.787632e+08</td>\n",
       "      <td>1.904943e+07</td>\n",
       "      <td>726861.000000</td>\n",
       "      <td>120.0</td>\n",
       "      <td>90.0</td>\n",
       "      <td>320.0</td>\n",
       "      <td>180.0</td>\n",
       "      <td>480.0</td>\n",
       "      <td>360.0</td>\n",
       "    </tr>\n",
       "  </tbody>\n",
       "</table>\n",
       "</div>"
      ],
      "text/plain": [
       "       duration_seconds     viewCount     likeCount   commentCount  \\\n",
       "count        247.000000  2.460000e+02  2.440000e+02     245.000000   \n",
       "mean        1886.234818  5.084638e+07  1.610498e+06   75562.783673   \n",
       "std         8642.188728  4.062672e+07  1.879529e+06   85356.537127   \n",
       "min            0.000000  1.395400e+04  3.700000e+02      59.000000   \n",
       "25%          425.500000  1.406442e+07  4.348780e+05   21552.000000   \n",
       "50%          776.000000  4.904782e+07  1.358232e+06   60701.000000   \n",
       "75%          923.000000  8.125392e+07  2.294378e+06   99670.000000   \n",
       "max        85686.000000  1.787632e+08  1.904943e+07  726861.000000   \n",
       "\n",
       "       thumbnails.default.width  thumbnails.default.height  \\\n",
       "count                     246.0                      246.0   \n",
       "mean                      120.0                       90.0   \n",
       "std                         0.0                        0.0   \n",
       "min                       120.0                       90.0   \n",
       "25%                       120.0                       90.0   \n",
       "50%                       120.0                       90.0   \n",
       "75%                       120.0                       90.0   \n",
       "max                       120.0                       90.0   \n",
       "\n",
       "       thumbnails.medium.width  thumbnails.medium.height  \\\n",
       "count                    246.0                     246.0   \n",
       "mean                     320.0                     180.0   \n",
       "std                        0.0                       0.0   \n",
       "min                      320.0                     180.0   \n",
       "25%                      320.0                     180.0   \n",
       "50%                      320.0                     180.0   \n",
       "75%                      320.0                     180.0   \n",
       "max                      320.0                     180.0   \n",
       "\n",
       "       thumbnails.high.width  thumbnails.high.height  \n",
       "count                  246.0                   246.0  \n",
       "mean                   480.0                   360.0  \n",
       "std                      0.0                     0.0  \n",
       "min                    480.0                   360.0  \n",
       "25%                    480.0                   360.0  \n",
       "50%                    480.0                   360.0  \n",
       "75%                    480.0                   360.0  \n",
       "max                    480.0                   360.0  "
      ]
     },
     "execution_count": 11,
     "metadata": {},
     "output_type": "execute_result"
    }
   ],
   "source": [
    "# Display descriptive statistics for the DataFrame\n",
    "df.describe()"
   ]
  },
  {
   "cell_type": "markdown",
   "id": "b1afb610",
   "metadata": {
    "papermill": {
     "duration": 0.017714,
     "end_time": "2024-03-14T12:01:06.720270",
     "exception": false,
     "start_time": "2024-03-14T12:01:06.702556",
     "status": "completed"
    },
    "tags": []
   },
   "source": [
    "# Columns and Rows"
   ]
  },
  {
   "cell_type": "code",
   "execution_count": 12,
   "id": "2c76690b",
   "metadata": {
    "execution": {
     "iopub.execute_input": "2024-03-14T12:01:06.761120Z",
     "iopub.status.busy": "2024-03-14T12:01:06.760672Z",
     "iopub.status.idle": "2024-03-14T12:01:06.771198Z",
     "shell.execute_reply": "2024-03-14T12:01:06.770166Z"
    },
    "papermill": {
     "duration": 0.033955,
     "end_time": "2024-03-14T12:01:06.773867",
     "exception": false,
     "start_time": "2024-03-14T12:01:06.739912",
     "status": "completed"
    },
    "tags": []
   },
   "outputs": [
    {
     "data": {
      "text/plain": [
       "0       84717282.0\n",
       "1       32090178.0\n",
       "2              NaN\n",
       "3      101745632.0\n",
       "4       50008942.0\n",
       "          ...     \n",
       "242        16312.0\n",
       "243        15740.0\n",
       "244        18502.0\n",
       "245        16627.0\n",
       "246        18773.0\n",
       "Name: viewCount, Length: 247, dtype: float64"
      ]
     },
     "execution_count": 12,
     "metadata": {},
     "output_type": "execute_result"
    }
   ],
   "source": [
    "# Accessing the 'viewCount' column in the DataFrame df\n",
    "df['viewCount']"
   ]
  },
  {
   "cell_type": "code",
   "execution_count": 13,
   "id": "affe8d53",
   "metadata": {
    "execution": {
     "iopub.execute_input": "2024-03-14T12:01:06.813714Z",
     "iopub.status.busy": "2024-03-14T12:01:06.813006Z",
     "iopub.status.idle": "2024-03-14T12:01:06.822770Z",
     "shell.execute_reply": "2024-03-14T12:01:06.821503Z"
    },
    "papermill": {
     "duration": 0.033072,
     "end_time": "2024-03-14T12:01:06.825517",
     "exception": false,
     "start_time": "2024-03-14T12:01:06.792445",
     "status": "completed"
    },
    "tags": []
   },
   "outputs": [
    {
     "data": {
      "text/plain": [
       "0     84717282.0\n",
       "1     32090178.0\n",
       "2            NaN\n",
       "3    101745632.0\n",
       "4     50008942.0\n",
       "Name: viewCount, dtype: float64"
      ]
     },
     "execution_count": 13,
     "metadata": {},
     "output_type": "execute_result"
    }
   ],
   "source": [
    "# Displaying the first few rows of the 'viewCount' column\n",
    "df['viewCount'].head()"
   ]
  },
  {
   "cell_type": "code",
   "execution_count": 14,
   "id": "73948323",
   "metadata": {
    "execution": {
     "iopub.execute_input": "2024-03-14T12:01:06.865309Z",
     "iopub.status.busy": "2024-03-14T12:01:06.864869Z",
     "iopub.status.idle": "2024-03-14T12:01:06.875147Z",
     "shell.execute_reply": "2024-03-14T12:01:06.873821Z"
    },
    "papermill": {
     "duration": 0.034264,
     "end_time": "2024-03-14T12:01:06.878468",
     "exception": false,
     "start_time": "2024-03-14T12:01:06.844204",
     "status": "completed"
    },
    "tags": []
   },
   "outputs": [
    {
     "data": {
      "text/plain": [
       "id                                                                             GLoeAJUcz38\n",
       "title                                                   Press This Button To Win $100,000!\n",
       "description                              Push the red subscribe button and you could al...\n",
       "publishTime                                                      2020-11-14 21:00:02+00:00\n",
       "kind_stats                                                                   youtube#video\n",
       "duration_seconds                                                                       911\n",
       "viewCount                                                                      145527042.0\n",
       "likeCount                                                                        2762425.0\n",
       "commentCount                                                                       83853.0\n",
       "thumbnails.default.url                      https://i.ytimg.com/vi/GLoeAJUcz38/default.jpg\n",
       "thumbnails.default.width                                                             120.0\n",
       "thumbnails.default.height                                                             90.0\n",
       "thumbnails.medium.url                     https://i.ytimg.com/vi/GLoeAJUcz38/mqdefault.jpg\n",
       "thumbnails.medium.width                                                              320.0\n",
       "thumbnails.medium.height                                                             180.0\n",
       "thumbnails.high.url                       https://i.ytimg.com/vi/GLoeAJUcz38/hqdefault.jpg\n",
       "thumbnails.high.width                                                                480.0\n",
       "thumbnails.high.height                                                               360.0\n",
       "contentDetails.duration                                                           PT15M11S\n",
       "contentDetails.dimension                                                                2d\n",
       "topicDetails.topicCategories             ['https://en.wikipedia.org/wiki/Lifestyle_(soc...\n",
       "snippet.defaultLanguage                                                                NaN\n",
       "localizations.en.title                                                                 NaN\n",
       "localizations.en.description                                                           NaN\n",
       "snippet.tags                                                                           NaN\n",
       "contentDetails.contentRating.ytRating                                                  NaN\n",
       "Name: 5, dtype: object"
      ]
     },
     "execution_count": 14,
     "metadata": {},
     "output_type": "execute_result"
    }
   ],
   "source": [
    "# Accessing the row with index 5 in the DataFrame df\n",
    "df.loc[5]\n"
   ]
  },
  {
   "cell_type": "code",
   "execution_count": 15,
   "id": "e0a92f57",
   "metadata": {
    "execution": {
     "iopub.execute_input": "2024-03-14T12:01:06.918903Z",
     "iopub.status.busy": "2024-03-14T12:01:06.918463Z",
     "iopub.status.idle": "2024-03-14T12:01:06.926220Z",
     "shell.execute_reply": "2024-03-14T12:01:06.924989Z"
    },
    "papermill": {
     "duration": 0.031286,
     "end_time": "2024-03-14T12:01:06.929012",
     "exception": false,
     "start_time": "2024-03-14T12:01:06.897726",
     "status": "completed"
    },
    "tags": []
   },
   "outputs": [],
   "source": [
    "# Setting the 'id' column as the index of the DataFrame df\n",
    "df.set_index('id', inplace=True)"
   ]
  },
  {
   "cell_type": "code",
   "execution_count": 16,
   "id": "887c10cb",
   "metadata": {
    "execution": {
     "iopub.execute_input": "2024-03-14T12:01:06.970146Z",
     "iopub.status.busy": "2024-03-14T12:01:06.969445Z",
     "iopub.status.idle": "2024-03-14T12:01:06.981151Z",
     "shell.execute_reply": "2024-03-14T12:01:06.979820Z"
    },
    "papermill": {
     "duration": 0.036125,
     "end_time": "2024-03-14T12:01:06.984866",
     "exception": false,
     "start_time": "2024-03-14T12:01:06.948741",
     "status": "completed"
    },
    "tags": []
   },
   "outputs": [
    {
     "data": {
      "text/plain": [
       "title                                                      First To Rob Bank Wins $100,000\n",
       "description                              I didnt think he would actually rob the bank.....\n",
       "publishTime                                                      2021-09-26 20:00:06+00:00\n",
       "kind_stats                                                                   youtube#video\n",
       "duration_seconds                                                                       482\n",
       "viewCount                                                                       50008942.0\n",
       "likeCount                                                                        2359606.0\n",
       "commentCount                                                                      120621.0\n",
       "thumbnails.default.url                      https://i.ytimg.com/vi/cExLQ1o2pDw/default.jpg\n",
       "thumbnails.default.width                                                             120.0\n",
       "thumbnails.default.height                                                             90.0\n",
       "thumbnails.medium.url                     https://i.ytimg.com/vi/cExLQ1o2pDw/mqdefault.jpg\n",
       "thumbnails.medium.width                                                              320.0\n",
       "thumbnails.medium.height                                                             180.0\n",
       "thumbnails.high.url                       https://i.ytimg.com/vi/cExLQ1o2pDw/hqdefault.jpg\n",
       "thumbnails.high.width                                                                480.0\n",
       "thumbnails.high.height                                                               360.0\n",
       "contentDetails.duration                                                             PT8M2S\n",
       "contentDetails.dimension                                                                2d\n",
       "topicDetails.topicCategories             ['https://en.wikipedia.org/wiki/Lifestyle_(soc...\n",
       "snippet.defaultLanguage                                                                NaN\n",
       "localizations.en.title                                                                 NaN\n",
       "localizations.en.description                                                           NaN\n",
       "snippet.tags                                                                           NaN\n",
       "contentDetails.contentRating.ytRating                                                  NaN\n",
       "Name: cExLQ1o2pDw, dtype: object"
      ]
     },
     "execution_count": 16,
     "metadata": {},
     "output_type": "execute_result"
    }
   ],
   "source": [
    "# Retrieving the row with index 'cExLQ1o2pDw' from the DataFrame df\n",
    "df.loc['cExLQ1o2pDw']\n"
   ]
  },
  {
   "cell_type": "markdown",
   "id": "6fdc7e73",
   "metadata": {
    "papermill": {
     "duration": 0.018817,
     "end_time": "2024-03-14T12:01:07.116082",
     "exception": false,
     "start_time": "2024-03-14T12:01:07.097265",
     "status": "completed"
    },
    "tags": []
   },
   "source": [
    "# Subsetting Data\n",
    "\n",
    "### Subsetting Columns"
   ]
  },
  {
   "cell_type": "code",
   "execution_count": 17,
   "id": "d3f88026",
   "metadata": {
    "execution": {
     "iopub.execute_input": "2024-03-14T12:01:07.162981Z",
     "iopub.status.busy": "2024-03-14T12:01:07.162054Z",
     "iopub.status.idle": "2024-03-14T12:01:07.170469Z",
     "shell.execute_reply": "2024-03-14T12:01:07.169165Z"
    },
    "papermill": {
     "duration": 0.035902,
     "end_time": "2024-03-14T12:01:07.173990",
     "exception": false,
     "start_time": "2024-03-14T12:01:07.138088",
     "status": "completed"
    },
    "tags": []
   },
   "outputs": [],
   "source": [
    "# Reassigning df with selected columns\n",
    "df = df[['title', 'description', 'publishTime', 'duration_seconds', 'viewCount', 'likeCount', 'commentCount']]"
   ]
  },
  {
   "cell_type": "code",
   "execution_count": 18,
   "id": "c870f828",
   "metadata": {
    "execution": {
     "iopub.execute_input": "2024-03-14T12:01:07.221541Z",
     "iopub.status.busy": "2024-03-14T12:01:07.220823Z",
     "iopub.status.idle": "2024-03-14T12:01:07.238785Z",
     "shell.execute_reply": "2024-03-14T12:01:07.237773Z"
    },
    "papermill": {
     "duration": 0.044448,
     "end_time": "2024-03-14T12:01:07.241402",
     "exception": false,
     "start_time": "2024-03-14T12:01:07.196954",
     "status": "completed"
    },
    "tags": []
   },
   "outputs": [
    {
     "data": {
      "text/html": [
       "<div>\n",
       "<style scoped>\n",
       "    .dataframe tbody tr th:only-of-type {\n",
       "        vertical-align: middle;\n",
       "    }\n",
       "\n",
       "    .dataframe tbody tr th {\n",
       "        vertical-align: top;\n",
       "    }\n",
       "\n",
       "    .dataframe thead th {\n",
       "        text-align: right;\n",
       "    }\n",
       "</style>\n",
       "<table border=\"1\" class=\"dataframe\">\n",
       "  <thead>\n",
       "    <tr style=\"text-align: right;\">\n",
       "      <th></th>\n",
       "      <th>title</th>\n",
       "      <th>description</th>\n",
       "      <th>publishTime</th>\n",
       "      <th>duration_seconds</th>\n",
       "      <th>viewCount</th>\n",
       "      <th>likeCount</th>\n",
       "      <th>commentCount</th>\n",
       "    </tr>\n",
       "    <tr>\n",
       "      <th>id</th>\n",
       "      <th></th>\n",
       "      <th></th>\n",
       "      <th></th>\n",
       "      <th></th>\n",
       "      <th></th>\n",
       "      <th></th>\n",
       "      <th></th>\n",
       "    </tr>\n",
       "  </thead>\n",
       "  <tbody>\n",
       "    <tr>\n",
       "      <th>TQHEJj68Jew</th>\n",
       "      <td>I Got Hunted By A Real Bounty Hunter</td>\n",
       "      <td>Sign up for Current w/ my Creator Code \"BEAST\"...</td>\n",
       "      <td>2021-04-24 20:00:00+00:00</td>\n",
       "      <td>861</td>\n",
       "      <td>84717282.0</td>\n",
       "      <td>2876493.0</td>\n",
       "      <td>128922.0</td>\n",
       "    </tr>\n",
       "    <tr>\n",
       "      <th>00NgUctWoLQ</th>\n",
       "      <td>Extreme $1,000,000 Hide And Seek</td>\n",
       "      <td>I didn't expect that to happen at the end I wa...</td>\n",
       "      <td>2021-12-18 21:00:00+00:00</td>\n",
       "      <td>729</td>\n",
       "      <td>32090178.0</td>\n",
       "      <td>2125183.0</td>\n",
       "      <td>73593.0</td>\n",
       "    </tr>\n",
       "    <tr>\n",
       "      <th>NaN</th>\n",
       "      <td>MrBeast</td>\n",
       "      <td>Accomplishments - Raised $20000000 To Plant 20...</td>\n",
       "      <td>2012-02-20 00:43:50+00:00</td>\n",
       "      <td>0</td>\n",
       "      <td>NaN</td>\n",
       "      <td>NaN</td>\n",
       "      <td>NaN</td>\n",
       "    </tr>\n",
       "    <tr>\n",
       "      <th>ayXxwJJId_c</th>\n",
       "      <td>I Bought The World&amp;#39;s Largest Mystery Box! ...</td>\n",
       "      <td>I cant believe I spent over $500000 on mystery...</td>\n",
       "      <td>2021-04-03 20:00:01+00:00</td>\n",
       "      <td>709</td>\n",
       "      <td>101745632.0</td>\n",
       "      <td>3110824.0</td>\n",
       "      <td>162796.0</td>\n",
       "    </tr>\n",
       "    <tr>\n",
       "      <th>cExLQ1o2pDw</th>\n",
       "      <td>First To Rob Bank Wins $100,000</td>\n",
       "      <td>I didnt think he would actually rob the bank.....</td>\n",
       "      <td>2021-09-26 20:00:06+00:00</td>\n",
       "      <td>482</td>\n",
       "      <td>50008942.0</td>\n",
       "      <td>2359606.0</td>\n",
       "      <td>120621.0</td>\n",
       "    </tr>\n",
       "  </tbody>\n",
       "</table>\n",
       "</div>"
      ],
      "text/plain": [
       "                                                         title  \\\n",
       "id                                                               \n",
       "TQHEJj68Jew               I Got Hunted By A Real Bounty Hunter   \n",
       "00NgUctWoLQ                   Extreme $1,000,000 Hide And Seek   \n",
       "NaN                                                    MrBeast   \n",
       "ayXxwJJId_c  I Bought The World&#39;s Largest Mystery Box! ...   \n",
       "cExLQ1o2pDw                    First To Rob Bank Wins $100,000   \n",
       "\n",
       "                                                   description  \\\n",
       "id                                                               \n",
       "TQHEJj68Jew  Sign up for Current w/ my Creator Code \"BEAST\"...   \n",
       "00NgUctWoLQ  I didn't expect that to happen at the end I wa...   \n",
       "NaN          Accomplishments - Raised $20000000 To Plant 20...   \n",
       "ayXxwJJId_c  I cant believe I spent over $500000 on mystery...   \n",
       "cExLQ1o2pDw  I didnt think he would actually rob the bank.....   \n",
       "\n",
       "                           publishTime  duration_seconds    viewCount  \\\n",
       "id                                                                      \n",
       "TQHEJj68Jew  2021-04-24 20:00:00+00:00               861   84717282.0   \n",
       "00NgUctWoLQ  2021-12-18 21:00:00+00:00               729   32090178.0   \n",
       "NaN          2012-02-20 00:43:50+00:00                 0          NaN   \n",
       "ayXxwJJId_c  2021-04-03 20:00:01+00:00               709  101745632.0   \n",
       "cExLQ1o2pDw  2021-09-26 20:00:06+00:00               482   50008942.0   \n",
       "\n",
       "             likeCount  commentCount  \n",
       "id                                    \n",
       "TQHEJj68Jew  2876493.0      128922.0  \n",
       "00NgUctWoLQ  2125183.0       73593.0  \n",
       "NaN                NaN           NaN  \n",
       "ayXxwJJId_c  3110824.0      162796.0  \n",
       "cExLQ1o2pDw  2359606.0      120621.0  "
      ]
     },
     "execution_count": 18,
     "metadata": {},
     "output_type": "execute_result"
    }
   ],
   "source": [
    "# Displaying the first few rows of the DataFrame\n",
    "df.head()"
   ]
  },
  {
   "cell_type": "code",
   "execution_count": 19,
   "id": "335c2b37",
   "metadata": {
    "execution": {
     "iopub.execute_input": "2024-03-14T12:01:07.285863Z",
     "iopub.status.busy": "2024-03-14T12:01:07.285456Z",
     "iopub.status.idle": "2024-03-14T12:01:07.292632Z",
     "shell.execute_reply": "2024-03-14T12:01:07.291616Z"
    },
    "papermill": {
     "duration": 0.033627,
     "end_time": "2024-03-14T12:01:07.295648",
     "exception": false,
     "start_time": "2024-03-14T12:01:07.262021",
     "status": "completed"
    },
    "tags": []
   },
   "outputs": [
    {
     "data": {
      "text/plain": [
       "(247, 7)"
      ]
     },
     "execution_count": 19,
     "metadata": {},
     "output_type": "execute_result"
    }
   ],
   "source": [
    "# Displaying the shape of the DataFrame\n",
    "df.shape"
   ]
  },
  {
   "cell_type": "markdown",
   "id": "39bb5f1f",
   "metadata": {
    "papermill": {
     "duration": 0.020914,
     "end_time": "2024-03-14T12:01:07.339094",
     "exception": false,
     "start_time": "2024-03-14T12:01:07.318180",
     "status": "completed"
    },
    "tags": []
   },
   "source": [
    "## Subsetting Rows\n"
   ]
  },
  {
   "cell_type": "code",
   "execution_count": 20,
   "id": "a5cc4369",
   "metadata": {
    "execution": {
     "iopub.execute_input": "2024-03-14T12:01:07.382034Z",
     "iopub.status.busy": "2024-03-14T12:01:07.381574Z",
     "iopub.status.idle": "2024-03-14T12:01:07.388868Z",
     "shell.execute_reply": "2024-03-14T12:01:07.387293Z"
    },
    "papermill": {
     "duration": 0.031799,
     "end_time": "2024-03-14T12:01:07.391830",
     "exception": false,
     "start_time": "2024-03-14T12:01:07.360031",
     "status": "completed"
    },
    "tags": []
   },
   "outputs": [],
   "source": [
    "# Subsetting rows using loc based on a condition\n",
    "df_subset1 = df.loc[df['viewCount'] > 1_000_000]"
   ]
  },
  {
   "cell_type": "markdown",
   "id": "91a6666b",
   "metadata": {
    "papermill": {
     "duration": 0.019571,
     "end_time": "2024-03-14T12:01:07.431497",
     "exception": false,
     "start_time": "2024-03-14T12:01:07.411926",
     "status": "completed"
    },
    "tags": []
   },
   "source": [
    "## Subsetting using Query"
   ]
  },
  {
   "cell_type": "code",
   "execution_count": 21,
   "id": "595c8dcf",
   "metadata": {
    "execution": {
     "iopub.execute_input": "2024-03-14T12:01:07.473552Z",
     "iopub.status.busy": "2024-03-14T12:01:07.473063Z",
     "iopub.status.idle": "2024-03-14T12:01:07.483967Z",
     "shell.execute_reply": "2024-03-14T12:01:07.482836Z"
    },
    "papermill": {
     "duration": 0.03478,
     "end_time": "2024-03-14T12:01:07.486486",
     "exception": false,
     "start_time": "2024-03-14T12:01:07.451706",
     "status": "completed"
    },
    "tags": []
   },
   "outputs": [],
   "source": [
    "# Subsetting rows using query based on a condition\n",
    "df_subset2 = df.query('viewCount > 1000000')"
   ]
  },
  {
   "cell_type": "code",
   "execution_count": 22,
   "id": "3993195e",
   "metadata": {
    "execution": {
     "iopub.execute_input": "2024-03-14T12:01:07.528119Z",
     "iopub.status.busy": "2024-03-14T12:01:07.527658Z",
     "iopub.status.idle": "2024-03-14T12:01:07.534999Z",
     "shell.execute_reply": "2024-03-14T12:01:07.534190Z"
    },
    "papermill": {
     "duration": 0.03108,
     "end_time": "2024-03-14T12:01:07.537421",
     "exception": false,
     "start_time": "2024-03-14T12:01:07.506341",
     "status": "completed"
    },
    "tags": []
   },
   "outputs": [
    {
     "data": {
      "text/plain": [
       "1"
      ]
     },
     "execution_count": 22,
     "metadata": {},
     "output_type": "execute_result"
    }
   ],
   "source": [
    "# Counting NaN values in the 'viewCount' column\n",
    "df['viewCount'].isna().sum()"
   ]
  },
  {
   "cell_type": "code",
   "execution_count": 23,
   "id": "36983fd4",
   "metadata": {
    "execution": {
     "iopub.execute_input": "2024-03-14T12:01:07.579276Z",
     "iopub.status.busy": "2024-03-14T12:01:07.578792Z",
     "iopub.status.idle": "2024-03-14T12:01:07.585915Z",
     "shell.execute_reply": "2024-03-14T12:01:07.584693Z"
    },
    "papermill": {
     "duration": 0.031267,
     "end_time": "2024-03-14T12:01:07.588624",
     "exception": false,
     "start_time": "2024-03-14T12:01:07.557357",
     "status": "completed"
    },
    "tags": []
   },
   "outputs": [],
   "source": [
    "# Removing rows with NaN values in the 'viewCount' column\n",
    "df = df.loc[~df['viewCount'].isna()]"
   ]
  },
  {
   "cell_type": "code",
   "execution_count": 24,
   "id": "004cb304",
   "metadata": {
    "execution": {
     "iopub.execute_input": "2024-03-14T12:01:07.632108Z",
     "iopub.status.busy": "2024-03-14T12:01:07.631669Z",
     "iopub.status.idle": "2024-03-14T12:01:07.650190Z",
     "shell.execute_reply": "2024-03-14T12:01:07.648907Z"
    },
    "papermill": {
     "duration": 0.043669,
     "end_time": "2024-03-14T12:01:07.652882",
     "exception": false,
     "start_time": "2024-03-14T12:01:07.609213",
     "status": "completed"
    },
    "tags": []
   },
   "outputs": [
    {
     "data": {
      "text/html": [
       "<div>\n",
       "<style scoped>\n",
       "    .dataframe tbody tr th:only-of-type {\n",
       "        vertical-align: middle;\n",
       "    }\n",
       "\n",
       "    .dataframe tbody tr th {\n",
       "        vertical-align: top;\n",
       "    }\n",
       "\n",
       "    .dataframe thead th {\n",
       "        text-align: right;\n",
       "    }\n",
       "</style>\n",
       "<table border=\"1\" class=\"dataframe\">\n",
       "  <thead>\n",
       "    <tr style=\"text-align: right;\">\n",
       "      <th></th>\n",
       "      <th>title</th>\n",
       "      <th>description</th>\n",
       "      <th>publishTime</th>\n",
       "      <th>duration_seconds</th>\n",
       "      <th>viewCount</th>\n",
       "      <th>likeCount</th>\n",
       "      <th>commentCount</th>\n",
       "    </tr>\n",
       "    <tr>\n",
       "      <th>id</th>\n",
       "      <th></th>\n",
       "      <th></th>\n",
       "      <th></th>\n",
       "      <th></th>\n",
       "      <th></th>\n",
       "      <th></th>\n",
       "      <th></th>\n",
       "    </tr>\n",
       "  </thead>\n",
       "  <tbody>\n",
       "    <tr>\n",
       "      <th>TQHEJj68Jew</th>\n",
       "      <td>I Got Hunted By A Real Bounty Hunter</td>\n",
       "      <td>Sign up for Current w/ my Creator Code \"BEAST\"...</td>\n",
       "      <td>2021-04-24 20:00:00+00:00</td>\n",
       "      <td>861</td>\n",
       "      <td>84717282.0</td>\n",
       "      <td>2876493.0</td>\n",
       "      <td>128922.0</td>\n",
       "    </tr>\n",
       "    <tr>\n",
       "      <th>00NgUctWoLQ</th>\n",
       "      <td>Extreme $1,000,000 Hide And Seek</td>\n",
       "      <td>I didn't expect that to happen at the end I wa...</td>\n",
       "      <td>2021-12-18 21:00:00+00:00</td>\n",
       "      <td>729</td>\n",
       "      <td>32090178.0</td>\n",
       "      <td>2125183.0</td>\n",
       "      <td>73593.0</td>\n",
       "    </tr>\n",
       "    <tr>\n",
       "      <th>ayXxwJJId_c</th>\n",
       "      <td>I Bought The World&amp;#39;s Largest Mystery Box! ...</td>\n",
       "      <td>I cant believe I spent over $500000 on mystery...</td>\n",
       "      <td>2021-04-03 20:00:01+00:00</td>\n",
       "      <td>709</td>\n",
       "      <td>101745632.0</td>\n",
       "      <td>3110824.0</td>\n",
       "      <td>162796.0</td>\n",
       "    </tr>\n",
       "    <tr>\n",
       "      <th>cExLQ1o2pDw</th>\n",
       "      <td>First To Rob Bank Wins $100,000</td>\n",
       "      <td>I didnt think he would actually rob the bank.....</td>\n",
       "      <td>2021-09-26 20:00:06+00:00</td>\n",
       "      <td>482</td>\n",
       "      <td>50008942.0</td>\n",
       "      <td>2359606.0</td>\n",
       "      <td>120621.0</td>\n",
       "    </tr>\n",
       "    <tr>\n",
       "      <th>GLoeAJUcz38</th>\n",
       "      <td>Press This Button To Win $100,000!</td>\n",
       "      <td>Push the red subscribe button and you could al...</td>\n",
       "      <td>2020-11-14 21:00:02+00:00</td>\n",
       "      <td>911</td>\n",
       "      <td>145527042.0</td>\n",
       "      <td>2762425.0</td>\n",
       "      <td>83853.0</td>\n",
       "    </tr>\n",
       "  </tbody>\n",
       "</table>\n",
       "</div>"
      ],
      "text/plain": [
       "                                                         title  \\\n",
       "id                                                               \n",
       "TQHEJj68Jew               I Got Hunted By A Real Bounty Hunter   \n",
       "00NgUctWoLQ                   Extreme $1,000,000 Hide And Seek   \n",
       "ayXxwJJId_c  I Bought The World&#39;s Largest Mystery Box! ...   \n",
       "cExLQ1o2pDw                    First To Rob Bank Wins $100,000   \n",
       "GLoeAJUcz38                 Press This Button To Win $100,000!   \n",
       "\n",
       "                                                   description  \\\n",
       "id                                                               \n",
       "TQHEJj68Jew  Sign up for Current w/ my Creator Code \"BEAST\"...   \n",
       "00NgUctWoLQ  I didn't expect that to happen at the end I wa...   \n",
       "ayXxwJJId_c  I cant believe I spent over $500000 on mystery...   \n",
       "cExLQ1o2pDw  I didnt think he would actually rob the bank.....   \n",
       "GLoeAJUcz38  Push the red subscribe button and you could al...   \n",
       "\n",
       "                           publishTime  duration_seconds    viewCount  \\\n",
       "id                                                                      \n",
       "TQHEJj68Jew  2021-04-24 20:00:00+00:00               861   84717282.0   \n",
       "00NgUctWoLQ  2021-12-18 21:00:00+00:00               729   32090178.0   \n",
       "ayXxwJJId_c  2021-04-03 20:00:01+00:00               709  101745632.0   \n",
       "cExLQ1o2pDw  2021-09-26 20:00:06+00:00               482   50008942.0   \n",
       "GLoeAJUcz38  2020-11-14 21:00:02+00:00               911  145527042.0   \n",
       "\n",
       "             likeCount  commentCount  \n",
       "id                                    \n",
       "TQHEJj68Jew  2876493.0      128922.0  \n",
       "00NgUctWoLQ  2125183.0       73593.0  \n",
       "ayXxwJJId_c  3110824.0      162796.0  \n",
       "cExLQ1o2pDw  2359606.0      120621.0  \n",
       "GLoeAJUcz38  2762425.0       83853.0  "
      ]
     },
     "execution_count": 24,
     "metadata": {},
     "output_type": "execute_result"
    }
   ],
   "source": [
    "df.head()"
   ]
  },
  {
   "cell_type": "markdown",
   "id": "710c570f",
   "metadata": {
    "papermill": {
     "duration": 0.021976,
     "end_time": "2024-03-14T12:01:07.695444",
     "exception": false,
     "start_time": "2024-03-14T12:01:07.673468",
     "status": "completed"
    },
    "tags": []
   },
   "source": [
    "# Casting dtypes"
   ]
  },
  {
   "cell_type": "code",
   "execution_count": 25,
   "id": "b0d054d6",
   "metadata": {
    "execution": {
     "iopub.execute_input": "2024-03-14T12:01:07.740096Z",
     "iopub.status.busy": "2024-03-14T12:01:07.739683Z",
     "iopub.status.idle": "2024-03-14T12:01:07.749424Z",
     "shell.execute_reply": "2024-03-14T12:01:07.748069Z"
    },
    "papermill": {
     "duration": 0.03648,
     "end_time": "2024-03-14T12:01:07.752281",
     "exception": false,
     "start_time": "2024-03-14T12:01:07.715801",
     "status": "completed"
    },
    "tags": []
   },
   "outputs": [
    {
     "data": {
      "text/plain": [
       "title                object\n",
       "description          object\n",
       "publishTime          object\n",
       "duration_seconds      int64\n",
       "viewCount           float64\n",
       "likeCount           float64\n",
       "commentCount        float64\n",
       "dtype: object"
      ]
     },
     "execution_count": 25,
     "metadata": {},
     "output_type": "execute_result"
    }
   ],
   "source": [
    "df.dtypes"
   ]
  },
  {
   "cell_type": "code",
   "execution_count": 26,
   "id": "5b97f563",
   "metadata": {
    "execution": {
     "iopub.execute_input": "2024-03-14T12:01:07.796198Z",
     "iopub.status.busy": "2024-03-14T12:01:07.795671Z",
     "iopub.status.idle": "2024-03-14T12:01:07.805648Z",
     "shell.execute_reply": "2024-03-14T12:01:07.804030Z"
    },
    "papermill": {
     "duration": 0.035819,
     "end_time": "2024-03-14T12:01:07.809205",
     "exception": false,
     "start_time": "2024-03-14T12:01:07.773386",
     "status": "completed"
    },
    "tags": []
   },
   "outputs": [],
   "source": [
    "# Filling NaN values with 0 and converting columns to integers\n",
    "df['viewCount'] = df['viewCount'].fillna(0).astype('int')\n",
    "df['likeCount'] = df['likeCount'].fillna(0).astype('int')"
   ]
  },
  {
   "cell_type": "code",
   "execution_count": 27,
   "id": "cfffe1c9",
   "metadata": {
    "execution": {
     "iopub.execute_input": "2024-03-14T12:01:07.854595Z",
     "iopub.status.busy": "2024-03-14T12:01:07.853291Z",
     "iopub.status.idle": "2024-03-14T12:01:07.863411Z",
     "shell.execute_reply": "2024-03-14T12:01:07.862228Z"
    },
    "papermill": {
     "duration": 0.035426,
     "end_time": "2024-03-14T12:01:07.866021",
     "exception": false,
     "start_time": "2024-03-14T12:01:07.830595",
     "status": "completed"
    },
    "tags": []
   },
   "outputs": [
    {
     "data": {
      "text/plain": [
       "title                object\n",
       "description          object\n",
       "publishTime          object\n",
       "duration_seconds      int64\n",
       "viewCount             int64\n",
       "likeCount             int64\n",
       "commentCount        float64\n",
       "dtype: object"
      ]
     },
     "execution_count": 27,
     "metadata": {},
     "output_type": "execute_result"
    }
   ],
   "source": [
    "df.dtypes"
   ]
  },
  {
   "cell_type": "code",
   "execution_count": 28,
   "id": "bcf9cdba",
   "metadata": {
    "execution": {
     "iopub.execute_input": "2024-03-14T12:01:07.908933Z",
     "iopub.status.busy": "2024-03-14T12:01:07.908481Z",
     "iopub.status.idle": "2024-03-14T12:01:07.922829Z",
     "shell.execute_reply": "2024-03-14T12:01:07.921603Z"
    },
    "papermill": {
     "duration": 0.039035,
     "end_time": "2024-03-14T12:01:07.925625",
     "exception": false,
     "start_time": "2024-03-14T12:01:07.886590",
     "status": "completed"
    },
    "tags": []
   },
   "outputs": [],
   "source": [
    "# Converting 'publishTime' column to datetime\n",
    "df['publishTime'] = pd.to_datetime(df['publishTime'])"
   ]
  },
  {
   "cell_type": "code",
   "execution_count": 29,
   "id": "9c901e02",
   "metadata": {
    "execution": {
     "iopub.execute_input": "2024-03-14T12:01:07.970343Z",
     "iopub.status.busy": "2024-03-14T12:01:07.969827Z",
     "iopub.status.idle": "2024-03-14T12:01:07.977669Z",
     "shell.execute_reply": "2024-03-14T12:01:07.976380Z"
    },
    "papermill": {
     "duration": 0.033445,
     "end_time": "2024-03-14T12:01:07.980467",
     "exception": false,
     "start_time": "2024-03-14T12:01:07.947022",
     "status": "completed"
    },
    "tags": []
   },
   "outputs": [],
   "source": [
    "# Converting 'likeCount' column to numeric\n",
    "df['likeCount'] = pd.to_numeric(df['likeCount'].astype('str'))"
   ]
  },
  {
   "cell_type": "code",
   "execution_count": 30,
   "id": "ee41f25a",
   "metadata": {
    "execution": {
     "iopub.execute_input": "2024-03-14T12:01:08.026455Z",
     "iopub.status.busy": "2024-03-14T12:01:08.025996Z",
     "iopub.status.idle": "2024-03-14T12:01:08.035363Z",
     "shell.execute_reply": "2024-03-14T12:01:08.034210Z"
    },
    "papermill": {
     "duration": 0.036879,
     "end_time": "2024-03-14T12:01:08.038642",
     "exception": false,
     "start_time": "2024-03-14T12:01:08.001763",
     "status": "completed"
    },
    "tags": []
   },
   "outputs": [
    {
     "data": {
      "text/plain": [
       "title                            object\n",
       "description                      object\n",
       "publishTime         datetime64[ns, UTC]\n",
       "duration_seconds                  int64\n",
       "viewCount                         int64\n",
       "likeCount                         int64\n",
       "commentCount                    float64\n",
       "dtype: object"
      ]
     },
     "execution_count": 30,
     "metadata": {},
     "output_type": "execute_result"
    }
   ],
   "source": [
    "df.dtypes"
   ]
  },
  {
   "cell_type": "markdown",
   "id": "8d2ed934",
   "metadata": {
    "papermill": {
     "duration": 0.022019,
     "end_time": "2024-03-14T12:01:08.081942",
     "exception": false,
     "start_time": "2024-03-14T12:01:08.059923",
     "status": "completed"
    },
    "tags": []
   },
   "source": [
    "# Creating New Columns"
   ]
  },
  {
   "cell_type": "code",
   "execution_count": 31,
   "id": "e33580ad",
   "metadata": {
    "execution": {
     "iopub.execute_input": "2024-03-14T12:01:08.126860Z",
     "iopub.status.busy": "2024-03-14T12:01:08.126419Z",
     "iopub.status.idle": "2024-03-14T12:01:08.133309Z",
     "shell.execute_reply": "2024-03-14T12:01:08.132101Z"
    },
    "papermill": {
     "duration": 0.032405,
     "end_time": "2024-03-14T12:01:08.135866",
     "exception": false,
     "start_time": "2024-03-14T12:01:08.103461",
     "status": "completed"
    },
    "tags": []
   },
   "outputs": [],
   "source": [
    "# Calculate like-to-view ratio\n",
    "df['like_to_view_ratio'] = df['likeCount'] / df['viewCount']"
   ]
  },
  {
   "cell_type": "code",
   "execution_count": 32,
   "id": "c5c6adbe",
   "metadata": {
    "execution": {
     "iopub.execute_input": "2024-03-14T12:01:08.179472Z",
     "iopub.status.busy": "2024-03-14T12:01:08.179039Z",
     "iopub.status.idle": "2024-03-14T12:01:08.195330Z",
     "shell.execute_reply": "2024-03-14T12:01:08.194149Z"
    },
    "papermill": {
     "duration": 0.041185,
     "end_time": "2024-03-14T12:01:08.197942",
     "exception": false,
     "start_time": "2024-03-14T12:01:08.156757",
     "status": "completed"
    },
    "tags": []
   },
   "outputs": [
    {
     "data": {
      "text/html": [
       "<div>\n",
       "<style scoped>\n",
       "    .dataframe tbody tr th:only-of-type {\n",
       "        vertical-align: middle;\n",
       "    }\n",
       "\n",
       "    .dataframe tbody tr th {\n",
       "        vertical-align: top;\n",
       "    }\n",
       "\n",
       "    .dataframe thead th {\n",
       "        text-align: right;\n",
       "    }\n",
       "</style>\n",
       "<table border=\"1\" class=\"dataframe\">\n",
       "  <thead>\n",
       "    <tr style=\"text-align: right;\">\n",
       "      <th></th>\n",
       "      <th>title</th>\n",
       "      <th>description</th>\n",
       "      <th>publishTime</th>\n",
       "      <th>duration_seconds</th>\n",
       "      <th>viewCount</th>\n",
       "      <th>likeCount</th>\n",
       "      <th>commentCount</th>\n",
       "      <th>like_to_view_ratio</th>\n",
       "    </tr>\n",
       "    <tr>\n",
       "      <th>id</th>\n",
       "      <th></th>\n",
       "      <th></th>\n",
       "      <th></th>\n",
       "      <th></th>\n",
       "      <th></th>\n",
       "      <th></th>\n",
       "      <th></th>\n",
       "      <th></th>\n",
       "    </tr>\n",
       "  </thead>\n",
       "  <tbody>\n",
       "    <tr>\n",
       "      <th>TQHEJj68Jew</th>\n",
       "      <td>I Got Hunted By A Real Bounty Hunter</td>\n",
       "      <td>Sign up for Current w/ my Creator Code \"BEAST\"...</td>\n",
       "      <td>2021-04-24 20:00:00+00:00</td>\n",
       "      <td>861</td>\n",
       "      <td>84717282</td>\n",
       "      <td>2876493</td>\n",
       "      <td>128922.0</td>\n",
       "      <td>0.033954</td>\n",
       "    </tr>\n",
       "  </tbody>\n",
       "</table>\n",
       "</div>"
      ],
      "text/plain": [
       "                                            title  \\\n",
       "id                                                  \n",
       "TQHEJj68Jew  I Got Hunted By A Real Bounty Hunter   \n",
       "\n",
       "                                                   description  \\\n",
       "id                                                               \n",
       "TQHEJj68Jew  Sign up for Current w/ my Creator Code \"BEAST\"...   \n",
       "\n",
       "                          publishTime  duration_seconds  viewCount  likeCount  \\\n",
       "id                                                                              \n",
       "TQHEJj68Jew 2021-04-24 20:00:00+00:00               861   84717282    2876493   \n",
       "\n",
       "             commentCount  like_to_view_ratio  \n",
       "id                                             \n",
       "TQHEJj68Jew      128922.0            0.033954  "
      ]
     },
     "execution_count": 32,
     "metadata": {},
     "output_type": "execute_result"
    }
   ],
   "source": [
    "df.head(1)"
   ]
  },
  {
   "cell_type": "markdown",
   "id": "d8bc2c42",
   "metadata": {
    "papermill": {
     "duration": 0.021523,
     "end_time": "2024-03-14T12:01:08.241446",
     "exception": false,
     "start_time": "2024-03-14T12:01:08.219923",
     "status": "completed"
    },
    "tags": []
   },
   "source": [
    "# Adding new rows"
   ]
  },
  {
   "cell_type": "code",
   "execution_count": 33,
   "id": "97422f8e",
   "metadata": {
    "execution": {
     "iopub.execute_input": "2024-03-14T12:01:08.287689Z",
     "iopub.status.busy": "2024-03-14T12:01:08.287271Z",
     "iopub.status.idle": "2024-03-14T12:01:08.293438Z",
     "shell.execute_reply": "2024-03-14T12:01:08.291740Z"
    },
    "papermill": {
     "duration": 0.032397,
     "end_time": "2024-03-14T12:01:08.296584",
     "exception": false,
     "start_time": "2024-03-14T12:01:08.264187",
     "status": "completed"
    },
    "tags": []
   },
   "outputs": [],
   "source": [
    "# Create a DataFrame to append\n",
    "df_to_append = df.tail(1)"
   ]
  },
  {
   "cell_type": "code",
   "execution_count": 34,
   "id": "4e0507b5",
   "metadata": {
    "execution": {
     "iopub.execute_input": "2024-03-14T12:01:08.345469Z",
     "iopub.status.busy": "2024-03-14T12:01:08.345022Z",
     "iopub.status.idle": "2024-03-14T12:01:08.351634Z",
     "shell.execute_reply": "2024-03-14T12:01:08.350411Z"
    },
    "papermill": {
     "duration": 0.034714,
     "end_time": "2024-03-14T12:01:08.354609",
     "exception": false,
     "start_time": "2024-03-14T12:01:08.319895",
     "status": "completed"
    },
    "tags": []
   },
   "outputs": [],
   "source": [
    "# Concatenate the DataFrame with the DataFrame to append\n",
    "df_concat_example = pd.concat([df, df_to_append])"
   ]
  },
  {
   "cell_type": "code",
   "execution_count": 35,
   "id": "afa0e687",
   "metadata": {
    "execution": {
     "iopub.execute_input": "2024-03-14T12:01:08.398920Z",
     "iopub.status.busy": "2024-03-14T12:01:08.398526Z",
     "iopub.status.idle": "2024-03-14T12:01:08.415165Z",
     "shell.execute_reply": "2024-03-14T12:01:08.413924Z"
    },
    "papermill": {
     "duration": 0.042504,
     "end_time": "2024-03-14T12:01:08.418151",
     "exception": false,
     "start_time": "2024-03-14T12:01:08.375647",
     "status": "completed"
    },
    "tags": []
   },
   "outputs": [
    {
     "data": {
      "text/html": [
       "<div>\n",
       "<style scoped>\n",
       "    .dataframe tbody tr th:only-of-type {\n",
       "        vertical-align: middle;\n",
       "    }\n",
       "\n",
       "    .dataframe tbody tr th {\n",
       "        vertical-align: top;\n",
       "    }\n",
       "\n",
       "    .dataframe thead th {\n",
       "        text-align: right;\n",
       "    }\n",
       "</style>\n",
       "<table border=\"1\" class=\"dataframe\">\n",
       "  <thead>\n",
       "    <tr style=\"text-align: right;\">\n",
       "      <th></th>\n",
       "      <th>title</th>\n",
       "      <th>description</th>\n",
       "      <th>publishTime</th>\n",
       "      <th>duration_seconds</th>\n",
       "      <th>viewCount</th>\n",
       "      <th>likeCount</th>\n",
       "      <th>commentCount</th>\n",
       "      <th>like_to_view_ratio</th>\n",
       "    </tr>\n",
       "    <tr>\n",
       "      <th>id</th>\n",
       "      <th></th>\n",
       "      <th></th>\n",
       "      <th></th>\n",
       "      <th></th>\n",
       "      <th></th>\n",
       "      <th></th>\n",
       "      <th></th>\n",
       "      <th></th>\n",
       "    </tr>\n",
       "  </thead>\n",
       "  <tbody>\n",
       "    <tr>\n",
       "      <th>56OkH6ocYZU</th>\n",
       "      <td>L0114R - Biblical Creeper Post for Post @L0114R</td>\n",
       "      <td>His channel - https://www.youtube.com/user/the...</td>\n",
       "      <td>2015-05-15 16:48:54+00:00</td>\n",
       "      <td>109</td>\n",
       "      <td>16627</td>\n",
       "      <td>430</td>\n",
       "      <td>134.0</td>\n",
       "      <td>0.025862</td>\n",
       "    </tr>\n",
       "    <tr>\n",
       "      <th>zi7tZ-2PhLk</th>\n",
       "      <td>How Much Money Do You Make As An Uber Driver??...</td>\n",
       "      <td>In this video I talk about being an uber drive...</td>\n",
       "      <td>2015-05-31 18:31:25+00:00</td>\n",
       "      <td>304</td>\n",
       "      <td>18773</td>\n",
       "      <td>370</td>\n",
       "      <td>59.0</td>\n",
       "      <td>0.019709</td>\n",
       "    </tr>\n",
       "    <tr>\n",
       "      <th>zi7tZ-2PhLk</th>\n",
       "      <td>How Much Money Do You Make As An Uber Driver??...</td>\n",
       "      <td>In this video I talk about being an uber drive...</td>\n",
       "      <td>2015-05-31 18:31:25+00:00</td>\n",
       "      <td>304</td>\n",
       "      <td>18773</td>\n",
       "      <td>370</td>\n",
       "      <td>59.0</td>\n",
       "      <td>0.019709</td>\n",
       "    </tr>\n",
       "  </tbody>\n",
       "</table>\n",
       "</div>"
      ],
      "text/plain": [
       "                                                         title  \\\n",
       "id                                                               \n",
       "56OkH6ocYZU    L0114R - Biblical Creeper Post for Post @L0114R   \n",
       "zi7tZ-2PhLk  How Much Money Do You Make As An Uber Driver??...   \n",
       "zi7tZ-2PhLk  How Much Money Do You Make As An Uber Driver??...   \n",
       "\n",
       "                                                   description  \\\n",
       "id                                                               \n",
       "56OkH6ocYZU  His channel - https://www.youtube.com/user/the...   \n",
       "zi7tZ-2PhLk  In this video I talk about being an uber drive...   \n",
       "zi7tZ-2PhLk  In this video I talk about being an uber drive...   \n",
       "\n",
       "                          publishTime  duration_seconds  viewCount  likeCount  \\\n",
       "id                                                                              \n",
       "56OkH6ocYZU 2015-05-15 16:48:54+00:00               109      16627        430   \n",
       "zi7tZ-2PhLk 2015-05-31 18:31:25+00:00               304      18773        370   \n",
       "zi7tZ-2PhLk 2015-05-31 18:31:25+00:00               304      18773        370   \n",
       "\n",
       "             commentCount  like_to_view_ratio  \n",
       "id                                             \n",
       "56OkH6ocYZU         134.0            0.025862  \n",
       "zi7tZ-2PhLk          59.0            0.019709  \n",
       "zi7tZ-2PhLk          59.0            0.019709  "
      ]
     },
     "execution_count": 35,
     "metadata": {},
     "output_type": "execute_result"
    }
   ],
   "source": [
    "df_concat_example.tail(3)"
   ]
  },
  {
   "cell_type": "markdown",
   "id": "0044b3ea",
   "metadata": {
    "execution": {
     "iopub.execute_input": "2024-03-14T11:28:31.657204Z",
     "iopub.status.busy": "2024-03-14T11:28:31.656569Z",
     "iopub.status.idle": "2024-03-14T11:28:31.690951Z",
     "shell.execute_reply": "2024-03-14T11:28:31.689230Z",
     "shell.execute_reply.started": "2024-03-14T11:28:31.657156Z"
    },
    "papermill": {
     "duration": 0.02096,
     "end_time": "2024-03-14T12:01:08.460614",
     "exception": false,
     "start_time": "2024-03-14T12:01:08.439654",
     "status": "completed"
    },
    "tags": []
   },
   "source": [
    "# Plot Examples"
   ]
  },
  {
   "cell_type": "code",
   "execution_count": 36,
   "id": "4e05ce9f",
   "metadata": {
    "execution": {
     "iopub.execute_input": "2024-03-14T12:01:08.505462Z",
     "iopub.status.busy": "2024-03-14T12:01:08.505024Z",
     "iopub.status.idle": "2024-03-14T12:01:09.001353Z",
     "shell.execute_reply": "2024-03-14T12:01:09.000032Z"
    },
    "papermill": {
     "duration": 0.523284,
     "end_time": "2024-03-14T12:01:09.005227",
     "exception": false,
     "start_time": "2024-03-14T12:01:08.481943",
     "status": "completed"
    },
    "tags": []
   },
   "outputs": [
    {
     "data": {
      "image/png": "[encoded data removed]",
      "text/plain": [
       "<Figure size 1500x500 with 1 Axes>"
      ]
     },
     "metadata": {},
     "output_type": "display_data"
    }
   ],
   "source": [
    "# Plot the distribution of view count\n",
    "import matplotlib.pyplot as plt\n",
    "df['viewCount'].plot(kind='hist', bins=50, title='Distribution of View Count', figsize=(15, 5))\n",
    "plt.xlabel('View Count')\n",
    "plt.ylabel('Frequency')\n",
    "plt.show()"
   ]
  },
  {
   "cell_type": "code",
   "execution_count": 37,
   "id": "4834e31a",
   "metadata": {
    "execution": {
     "iopub.execute_input": "2024-03-14T12:01:09.055512Z",
     "iopub.status.busy": "2024-03-14T12:01:09.055044Z",
     "iopub.status.idle": "2024-03-14T12:01:09.495665Z",
     "shell.execute_reply": "2024-03-14T12:01:09.494352Z"
    },
    "papermill": {
     "duration": 0.469963,
     "end_time": "2024-03-14T12:01:09.500802",
     "exception": false,
     "start_time": "2024-03-14T12:01:09.030839",
     "status": "completed"
    },
    "tags": []
   },
   "outputs": [
    {
     "data": {
      "image/png": "[encoded data removed]",
      "text/plain": [
       "<Figure size 1000x600 with 1 Axes>"
      ]
     },
     "metadata": {},
     "output_type": "display_data"
    }
   ],
   "source": [
    "# Scatter plot of view count vs like count\n",
    "df.plot(kind='scatter', x='viewCount', y='likeCount', title='View Count vs Like Count', figsize=(10, 6))\n",
    "plt.xlabel('View Count')\n",
    "plt.ylabel('Like Count')\n",
    "plt.show()"
   ]
  },
  {
   "cell_type": "code",
   "execution_count": 38,
   "id": "358b81c0",
   "metadata": {
    "execution": {
     "iopub.execute_input": "2024-03-14T12:01:09.568236Z",
     "iopub.status.busy": "2024-03-14T12:01:09.567212Z",
     "iopub.status.idle": "2024-03-14T12:01:09.579600Z",
     "shell.execute_reply": "2024-03-14T12:01:09.578245Z"
    },
    "papermill": {
     "duration": 0.047478,
     "end_time": "2024-03-14T12:01:09.582660",
     "exception": false,
     "start_time": "2024-03-14T12:01:09.535182",
     "status": "completed"
    },
    "tags": []
   },
   "outputs": [],
   "source": [
    "# Filter rows where like count is greater than 10,000,000\n",
    "df_high_likes = df.query('likeCount > 10000000')\n"
   ]
  },
  {
   "cell_type": "markdown",
   "id": "65e93149",
   "metadata": {
    "papermill": {
     "duration": 0.023385,
     "end_time": "2024-03-14T12:01:09.629939",
     "exception": false,
     "start_time": "2024-03-14T12:01:09.606554",
     "status": "completed"
    },
    "tags": []
   },
   "source": [
    "# Save Output"
   ]
  },
  {
   "cell_type": "code",
   "execution_count": 39,
   "id": "d0aa4708",
   "metadata": {
    "execution": {
     "iopub.execute_input": "2024-03-14T12:01:09.684332Z",
     "iopub.status.busy": "2024-03-14T12:01:09.682299Z",
     "iopub.status.idle": "2024-03-14T12:01:09.703025Z",
     "shell.execute_reply": "2024-03-14T12:01:09.701722Z"
    },
    "papermill": {
     "duration": 0.050776,
     "end_time": "2024-03-14T12:01:09.706626",
     "exception": false,
     "start_time": "2024-03-14T12:01:09.655850",
     "status": "completed"
    },
    "tags": []
   },
   "outputs": [],
   "source": [
    "# Save the processed DataFrame to a CSV file\n",
    "df.to_csv('processed_data.csv', index=False)"
   ]
  },
  {
   "cell_type": "markdown",
   "id": "2f7468be",
   "metadata": {
    "papermill": {
     "duration": 0.02541,
     "end_time": "2024-03-14T12:01:09.756556",
     "exception": false,
     "start_time": "2024-03-14T12:01:09.731146",
     "status": "completed"
    },
    "tags": []
   },
   "source": [
    "# Done!!!"
   ]
  }
 ],
 "metadata": {
  "kaggle": {
   "accelerator": "none",
   "dataSources": [
    {
     "datasetId": 4596447,
     "sourceId": 7840616,
     "sourceType": "datasetVersion"
    }
   ],
   "dockerImageVersionId": 30664,
   "isGpuEnabled": false,
   "isInternetEnabled": true,
   "language": "python",
   "sourceType": "notebook"
  },
  "kernelspec": {
   "display_name": "Python 3",
   "language": "python",
   "name": "python3"
  },
  "language_info": {
   "codemirror_mode": {
    "name": "ipython",
    "version": 3
   },
   "file_extension": ".py",
   "mimetype": "text/x-python",
   "name": "python",
   "nbconvert_exporter": "python",
   "pygments_lexer": "ipython3",
   "version": "3.10.13"
  },
  "papermill": {
   "default_parameters": {},
   "duration": 9.232631,
   "end_time": "2024-03-14T12:01:10.508236",
   "environment_variables": {},
   "exception": null,
   "input_path": "__notebook__.ipynb",
   "output_path": "__notebook__.ipynb",
   "parameters": {},
   "start_time": "2024-03-14T12:01:01.275605",
   "version": "2.5.0"
  }
 },
 "nbformat": 4,
 "nbformat_minor": 5
}
